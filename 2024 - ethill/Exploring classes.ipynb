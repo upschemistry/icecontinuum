{
 "cells": [
  {
   "cell_type": "code",
   "execution_count": 7,
   "id": "f95fa2aa",
   "metadata": {},
   "outputs": [],
   "source": [
    "import numpy as np"
   ]
  },
  {
   "cell_type": "markdown",
   "id": "6287b714",
   "metadata": {},
   "source": [
    "### This is a simple class definition, and instance\n",
    "Modified from https://www.geeksforgeeks.org/define-and-call-methods-in-a-python-class/"
   ]
  },
  {
   "cell_type": "code",
   "execution_count": 8,
   "id": "38cd2b07",
   "metadata": {},
   "outputs": [],
   "source": [
    "# Defining the class\n",
    "class Greetings:\n",
    "    def say_hello(self):\n",
    "        print(\"Hello!\")\n",
    "    def say_hi(self):\n",
    "        print(\"HI\")"
   ]
  },
  {
   "cell_type": "code",
   "execution_count": 9,
   "id": "f4561a15",
   "metadata": {},
   "outputs": [
    {
     "name": "stdout",
     "output_type": "stream",
     "text": [
      "Hello!\n",
      "HI\n"
     ]
    }
   ],
   "source": [
    "# Exercising the class\n",
    "greetings1 = Greetings()\n",
    "greetings1.say_hello()\n",
    "greetings1.say_hi()"
   ]
  },
  {
   "cell_type": "markdown",
   "id": "649a46ae",
   "metadata": {},
   "source": [
    "### Here's something closer to what we want"
   ]
  },
  {
   "cell_type": "code",
   "execution_count": 10,
   "id": "ae5c1c0d",
   "metadata": {},
   "outputs": [],
   "source": [
    "# Defining the class\n",
    "class NeumannPixel:\n",
    "    def report(self):\n",
    "        print('For this instance ...')\n",
    "        print('   ix and iy are:', self.ix,self.iy)\n",
    "        print('   fluxes are:', self.flux_up,self.flux_down,self.flux_left,self.flux_right)\n",
    "    def get_positions(self):\n",
    "        return(self.ix,self.iy)"
   ]
  },
  {
   "cell_type": "code",
   "execution_count": 11,
   "id": "ecef14e2",
   "metadata": {},
   "outputs": [
    {
     "name": "stdout",
     "output_type": "stream",
     "text": [
      "The \"report\" method prints values ...\n",
      "For this instance ...\n",
      "   ix and iy are: 1 2\n",
      "   fluxes are: 0.5 0 0.5 0\n",
      "For this instance ...\n",
      "   ix and iy are: 10 20\n",
      "   fluxes are: 0.5 0 0 0\n",
      "The \"get_positions\" method returns values ...\n",
      "Positions = 10 20\n"
     ]
    }
   ],
   "source": [
    "##### Creating instances of this class\n",
    "neumannpixel1 = NeumannPixel()\n",
    "neumannpixel1.ix = 1\n",
    "neumannpixel1.iy = 2\n",
    "neumannpixel1.flux_up = 0.5\n",
    "neumannpixel1.flux_down = 0\n",
    "neumannpixel1.flux_left = 0.5\n",
    "neumannpixel1.flux_right = 0\n",
    "\n",
    "neumannpixel2 = NeumannPixel()\n",
    "neumannpixel2.ix = 10\n",
    "neumannpixel2.iy = 20\n",
    "neumannpixel2.flux_up = 0.5\n",
    "neumannpixel2.flux_down = 0\n",
    "neumannpixel2.flux_left = 0\n",
    "neumannpixel2.flux_right = 0\n",
    "\n",
    "print('The \"report\" method prints values ...')\n",
    "neumannpixel1.report()\n",
    "neumannpixel2.report()\n",
    "\n",
    "print('The \"get_positions\" method returns values ...')\n",
    "ix,iy = neumannpixel2.get_positions()\n",
    "print('Positions =',ix,iy)"
   ]
  },
  {
   "cell_type": "markdown",
   "id": "89a80bff",
   "metadata": {},
   "source": [
    "### Here's an array of NeumannPixel instances"
   ]
  },
  {
   "cell_type": "code",
   "execution_count": 12,
   "id": "91b23611",
   "metadata": {},
   "outputs": [
    {
     "name": "stdout",
     "output_type": "stream",
     "text": [
      "For this instance ...\n",
      "   ix and iy are: 1 2\n",
      "   fluxes are: 0.5 0 0.5 0\n",
      "For this instance ...\n",
      "   ix and iy are: 10 20\n",
      "   fluxes are: 0.5 0 0 0\n",
      "For this instance ...\n",
      "   ix and iy are: 1 2\n",
      "   fluxes are: 0.5 0 0.5 0\n",
      "For this instance ...\n",
      "   ix and iy are: 10 20\n",
      "   fluxes are: 0.5 0 0 0\n"
     ]
    }
   ],
   "source": [
    "# Creating the list\n",
    "neumannpixel_list = []\n",
    "neumannpixel_list.append(neumannpixel1)\n",
    "neumannpixel_list.append(neumannpixel2)\n",
    "\n",
    "# One way of marching through the list\n",
    "for neumannpixel in neumannpixel_list:\n",
    "    neumannpixel.report()\n",
    "    \n",
    "# Another way of marching through the list\n",
    "for i in range(len(neumannpixel_list)):\n",
    "    neumannpixel = neumannpixel_list[i]\n",
    "    neumannpixel.report()"
   ]
  },
  {
   "cell_type": "code",
   "execution_count": null,
   "id": "fd124fa6",
   "metadata": {},
   "outputs": [],
   "source": []
  }
 ],
 "metadata": {
  "kernelspec": {
   "display_name": "Python 3 (ipykernel)",
   "language": "python",
   "name": "python3"
  },
  "language_info": {
   "codemirror_mode": {
    "name": "ipython",
    "version": 3
   },
   "file_extension": ".py",
   "mimetype": "text/x-python",
   "name": "python",
   "nbconvert_exporter": "python",
   "pygments_lexer": "ipython3",
   "version": "3.11.5"
  }
 },
 "nbformat": 4,
 "nbformat_minor": 5
}
