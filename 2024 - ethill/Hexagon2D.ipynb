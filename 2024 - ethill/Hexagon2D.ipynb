{
 "cells": [
  {
   "cell_type": "code",
   "execution_count": 6,
   "id": "1bd5c209",
   "metadata": {},
   "outputs": [],
   "source": [
    "import numpy as np\n",
    "import matplotlib.pylab as plt\n",
    "from pint import UnitRegistry; AssignQuantity = UnitRegistry().Quantity\n",
    "import sys\n",
    "sys.path.append('..')"
   ]
  },
  {
   "cell_type": "code",
   "execution_count": 44,
   "id": "e362af03",
   "metadata": {},
   "outputs": [
    {
     "name": "stdout",
     "output_type": "stream",
     "text": [
      "dx 2.840909090909091 micrometer\n",
      "dy 2.840909090909091 micrometer\n"
     ]
    }
   ],
   "source": [
    "#creating a box\n",
    "distance_unit = 'micrometer'\n",
    "nx = 353\n",
    "ny = 353\n",
    "xmax = AssignQuantity(1000,distance_unit)\n",
    "ymax = AssignQuantity(1000,distance_unit)\n",
    "x = np.linspace(0,xmax,nx) \n",
    "dx = x[1]-x[0]; print('dx', dx)\n",
    "y = np.linspace(0,ymax,ny) \n",
    "dy = y[1]-y[0]; print('dy',dy)\n",
    "dx2 = dx**2\n",
    "dy2 = dy**2\n",
    "nxmid = int(nx/2); # print('nxmid =', nxmid); # print('x(nxmid) =',x[nxmid])\n",
    "nymid = int(ny/2)\n",
    "x = x-x[nxmid]\n",
    "y = y-y[nymid]"
   ]
  },
  {
   "cell_type": "code",
   "execution_count": null,
   "id": "2903d6d2",
   "metadata": {},
   "outputs": [],
   "source": []
  },
  {
   "cell_type": "code",
   "execution_count": 68,
   "id": "6081f8b1",
   "metadata": {},
   "outputs": [
    {
     "data": {
      "text/plain": [
       "[<matplotlib.lines.Line2D at 0x1660da490>]"
      ]
     },
     "execution_count": 68,
     "metadata": {},
     "output_type": "execute_result"
    },
    {
     "data": {
      "image/png": "[encoded data removed]",
      "text/plain": [
       "<Figure size 640x480 with 1 Axes>"
      ]
     },
     "metadata": {},
     "output_type": "display_data"
    }
   ],
   "source": [
    "# makes set of axes or a plot\n",
    "fig,ax = plt.subplots()\n",
    "#sets the aspect ratio of the y:x to be equal\n",
    "ax.set_aspect('equal')\n",
    "# adds a scale to the x and y axes\n",
    "ax.set_xlim([-500,500])\n",
    "ax.set_ylim([-500,500])\n",
    "# creates a plot title\n",
    "fig.suptitle('plotting a hexagon')\n",
    "x_1=np.arange(-200,200,nx)\n",
    "y_1=np.arange(0,173,ny)\n",
    "y_2=np.arange(-173,0,ny)\n",
    "ax.plot(x_1)"
   ]
  },
  {
   "cell_type": "code",
   "execution_count": 70,
   "id": "2433934b",
   "metadata": {},
   "outputs": [
    {
     "ename": "NameError",
     "evalue": "name 'cp' is not defined",
     "output_type": "error",
     "traceback": [
      "\u001b[0;31m---------------------------------------------------------------------------\u001b[0m",
      "\u001b[0;31mNameError\u001b[0m                                 Traceback (most recent call last)",
      "Cell \u001b[0;32mIn[70], line 1\u001b[0m\n\u001b[0;32m----> 1\u001b[0m un \u001b[38;5;241m=\u001b[39m cp(u0)\n\u001b[1;32m      2\u001b[0m fig,ax \u001b[38;5;241m=\u001b[39m plt\u001b[38;5;241m.\u001b[39msubplots()\n\u001b[1;32m      3\u001b[0m ax\u001b[38;5;241m.\u001b[39mset_aspect(\u001b[38;5;124m'\u001b[39m\u001b[38;5;124mequal\u001b[39m\u001b[38;5;124m'\u001b[39m)\n",
      "\u001b[0;31mNameError\u001b[0m: name 'cp' is not defined"
     ]
    }
   ],
   "source": [
    "un = cp(u0)\n",
    "fig,ax = plt.subplots()\n",
    "ax.set_aspect('equal')\n",
    "CS = ax.contour(x.magnitude,y.magnitude,un.T)\n",
    "ax.set_xlabel(r'$x$ ($\\mu m$)', fontsize=fontsize)\n",
    "ax.set_ylabel(r'$y$ ($\\mu m$)', fontsize=fontsize)\n",
    "fig.colorbar(CS)\n",
    "xvec = (x[ixboxmin].magnitude,x[ixboxmin].magnitude)\n",
    "yvec = (y[iyboxmin].magnitude,y[iyboxmax].magnitude)\n",
    "plt.plot(xvec,yvec,color=color,linewidth=linewidth)\n",
    "xvec = (x[ixboxmax].magnitude,x[ixboxmax].magnitude)\n",
    "yvec = (y[iyboxmin].magnitude,y[iyboxmax].magnitude)\n",
    "plt.plot(xvec,yvec,color=color,linewidth=linewidth)\n",
    "xvec = (x[ixboxmin].magnitude,x[ixboxmax].magnitude)\n",
    "yvec = (y[iyboxmin].magnitude,y[iyboxmin].magnitude)\n",
    "plt.plot(xvec,yvec,color=color,linewidth=linewidth)\n",
    "xvec = (x[ixboxmin].magnitude,x[ixboxmax].magnitude)\n",
    "yvec = (y[iyboxmax].magnitude,y[iyboxmax].magnitude)\n",
    "plt.plot(xvec,yvec,color=color,linewidth=linewidth)"
   ]
  }
 ],
 "metadata": {
  "kernelspec": {
   "display_name": "Python 3 (ipykernel)",
   "language": "python",
   "name": "python3"
  },
  "language_info": {
   "codemirror_mode": {
    "name": "ipython",
    "version": 3
   },
   "file_extension": ".py",
   "mimetype": "text/x-python",
   "name": "python",
   "nbconvert_exporter": "python",
   "pygments_lexer": "ipython3",
   "version": "3.11.5"
  }
 },
 "nbformat": 4,
 "nbformat_minor": 5
}
