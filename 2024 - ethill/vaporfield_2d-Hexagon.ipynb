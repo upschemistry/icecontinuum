{
 "cells": [
  {
   "cell_type": "markdown",
   "metadata": {},
   "source": [
    "### Theory for the Neumann boundary condition\n",
    "\n",
    "First we'll say we know the rate of growth of ice, $g_{ice} \\approx 1-2 \\mu m / s$. That means in terms of mass/area/time, we have \n",
    "\n",
    "$$\n",
    "g'_{ice} = {dmass \\over {A dt}} = \\rho_{ice} g_{ice} \\ \\ \\ \\ (1)\n",
    "$$\n",
    "\n",
    "Now if the ice is growing, the amount of water in the air layer above the ice must be getting changed too, so \n",
    "\n",
    "$$\n",
    "g'_{vap} = {dmass \\over {A dt}} \\ \\ \\ \\ (2)\n",
    "$$\n",
    "\n",
    "The change in mass of vapor for a given volume can be expressed, with the ideal gas law, as \n",
    "\n",
    "$$\n",
    "dmass = M_{vap} dn_{vap} = M_{vap} {V dP_{vap} \\over RT} \\ \\ \\ \\ (3)\n",
    "$$\n",
    "\n",
    "so now we have\n",
    "\n",
    "$$\n",
    "g'_{vap} = {M_{vap} {V dP_{vap} \\over RT} \\over {A dt}} \\ \\ \\ \\ (4)\n",
    "$$\n",
    "\n",
    "Since the volume of the gas phase is $A \\Delta y$, this becomes\n",
    "\n",
    "$$\n",
    "g'_{vap} = {M_{vap} {A \\Delta y \\ dP_{vap} \\over RT} \\over {A dt}}  = {M_{vap} \\Delta y \\over RT} {dP_{vap} \\over dt}\\ \\ \\ \\ (5)\n",
    "$$\n",
    "\n",
    "Since $g'_{vap}=-g'_{ice}$, we have ${M_{vap} \\Delta y \\over RT} {dP_{vap} \\over dt} = -\\rho_{ice} g_{ice}$\n",
    "\n",
    "$$\n",
    "{\\partial P_{vap} \\over \\partial t} =  -\\rho_{ice} g_{ice}{RT \\over M_{vap} \\Delta y}  \\ \\ \\ \\ (6)\n",
    "$$"
   ]
  },
  {
   "cell_type": "code",
   "execution_count": 1,
   "metadata": {},
   "outputs": [],
   "source": [
    "import numpy as np\n",
    "import matplotlib.pylab as plt\n",
    "from copy import copy as cp\n",
    "from pint import UnitRegistry; AssignQuantity = UnitRegistry().Quantity\n",
    "import sys\n",
    "sys.path.append('..')\n",
    "import VFDstuff as VFD\n",
    "import math"
   ]
  },
  {
   "cell_type": "code",
   "execution_count": 2,
   "metadata": {},
   "outputs": [],
   "source": [
    "%matplotlib inline"
   ]
  },
  {
   "cell_type": "markdown",
   "metadata": {},
   "source": [
    "### Functions \n",
    "The coefficients m and b below are based on a fit of data from https://www.engineeringtoolbox.com/air-diffusion-coefficient-gas-mixture-temperature-d_2010.html."
   ]
  },
  {
   "cell_type": "code",
   "execution_count": 3,
   "metadata": {},
   "outputs": [
    {
     "name": "stdout",
     "output_type": "stream",
     "text": [
      "sigma0 =  0.2\n",
      "Pressure =  50 pascal\n",
      "Temperature =  240 kelvin\n",
      "g_ice should be smaller than sigmaI_far_field x nu_kin ...\n",
      "nu_kin =  39.341788071548116 micrometer / second\n",
      "sigmaI_far_field x nu_kin =  11.802536421464435 micrometer / second\n"
     ]
    }
   ],
   "source": [
    "# Units\n",
    "distance_unit = 'micrometer'\n",
    "pressure_unit = 'pascal'\n",
    "time_unit = 'microsecond'\n",
    "\n",
    "# Times\n",
    "#tmax = AssignQuantity(2,time_unit)\n",
    "#tmax = AssignQuantity(10,time_unit)\n",
    "tmax = AssignQuantity(.5,time_unit)\n",
    "\n",
    "# Setting ice parameters\n",
    "sigma0 = 0.2\n",
    "print('sigma0 = ',sigma0)\n",
    "\n",
    "# The far-field supersaturation\n",
    "sigmaI_far_field = 0.3\n",
    "\n",
    "# Temperature and pressure\n",
    "Temp = AssignQuantity(240,'kelvin')\n",
    "Pressure = AssignQuantity(50,'pascal')\n",
    "\n",
    "# Converting to the desired pressure unit\n",
    "Pressure.ito(pressure_unit)\n",
    "print('Pressure = ', Pressure)\n",
    "print('Temperature = ',Temp)\n",
    "\n",
    "\n",
    "# Checking on the plausibility of this growth rate\n",
    "nu_kin = VFD.get_nu_kin(Temp,AssignQuantity)\n",
    "print('g_ice should be smaller than sigmaI_far_field x nu_kin ...')\n",
    "print('nu_kin = ', nu_kin)\n",
    "print('sigmaI_far_field x nu_kin = ', sigmaI_far_field*nu_kin)"
   ]
  },
  {
   "cell_type": "code",
   "execution_count": 4,
   "metadata": {},
   "outputs": [],
   "source": [
    "g_ice = AssignQuantity(2,'micrometer/second')\n",
    "g_iceA = g_ice\n",
    "g_iceB = g_ice\n",
    "g_iceC = g_ice\n",
    "g_iceD = g_ice\n",
    "g_iceE = g_ice\n",
    "g_iceF = g_ice"
   ]
  },
  {
   "cell_type": "code",
   "execution_count": 5,
   "metadata": {},
   "outputs": [
    {
     "name": "stdout",
     "output_type": "stream",
     "text": [
      "dx 2.840909090909091 micrometer\n",
      "dy 2.840909090909091 micrometer\n"
     ]
    }
   ],
   "source": [
    "# Box size\n",
    "nx = ny = 353\n",
    "boxsize = 1000\n",
    "xmax = AssignQuantity(boxsize,distance_unit)\n",
    "ymax = AssignQuantity(boxsize,distance_unit)\n",
    "x = np.linspace(0,xmax,nx); dx = x[1]-x[0]; print('dx', dx)\n",
    "y = np.linspace(0,ymax,ny); dy = y[1]-y[0]; print('dy',dy)\n",
    "dx2 = dx**2\n",
    "dy2 = dy**2\n",
    "nxmid = int(nx/2); # print('nxmid =', nxmid); # print('x(nxmid) =',x[nxmid])\n",
    "nymid = int(ny/2)\n",
    "x = x-x[nxmid]\n",
    "y = y-y[nymid]"
   ]
  },
  {
   "cell_type": "markdown",
   "metadata": {},
   "source": [
    "### Diffusion coefficient\n",
    "See https://acp.copernicus.org/articles/20/12569/2020/#&gid=1&pid=1 for cirrus cloud conditions\n",
    "See https://www.engineeringtoolbox.com/air-diffusion-coefficient-gas-mixture-temperature-d_2010.html for Diffusion coefficient calculations"
   ]
  },
  {
   "cell_type": "code",
   "execution_count": 6,
   "metadata": {},
   "outputs": [
    {
     "name": "stdout",
     "output_type": "stream",
     "text": [
      "D0 =  21.893732126411837\n",
      "loglog method says D =  34908.31943863489 micrometer ** 2 / microsecond\n",
      "dt =  4.623977660681983e-05 microsecond\n",
      "Dxeff =  0.2 dimensionless\n"
     ]
    }
   ],
   "source": [
    "# Compute diffusion coefficient of water through air at this temperature\n",
    "# This is using trends from engineering toolbox, with the log-log correction\n",
    "D = VFD.getDofTP(Temp,Pressure,AssignQuantity); print('loglog method says D = ', D)\n",
    "\n",
    "# Getting a suitable time step\n",
    "dt = (dx2+dy2)/D/10; print('dt = ', dt)\n",
    "\n",
    "# Computing effective diffusion coefficents - which should be dimensionless\n",
    "Dxeff = D*dt/dx2; print('Dxeff = ', Dxeff)\n",
    "Deff = Dxeff"
   ]
  },
  {
   "cell_type": "code",
   "execution_count": 7,
   "metadata": {},
   "outputs": [],
   "source": [
    "# Calculating the Neumann condition at the vapor/ice boundary (starting with ice density)\n",
    "rho_ice = AssignQuantity(0.9,'g/cm^3')\n",
    "Mvap = AssignQuantity(18,'g/mol')\n",
    "R = AssignQuantity(8.314,'J/mol/kelvin')\n",
    "\n",
    "# kappa\n",
    "kappa = rho_ice*g_ice*R*Temp/(Mvap*dy); kappa.ito(pressure_unit+'/'+time_unit)\n",
    "# kappax_left = rho_ice*g_icex_left*R*Temp/(Mvap*dy); kappax_left.ito(pressure_unit+'/'+time_unit)\n",
    "# kappax_right = rho_ice*g_icex_right*R*Temp/(Mvap*dy); kappax_right.ito(pressure_unit+'/'+time_unit)\n",
    "# kappay = rho_ice*g_icey*R*Temp/(Mvap*dx); kappay.ito(pressure_unit+'/'+time_unit)\n",
    "# # print('kappax = ',kappax)\n",
    "# print('kappax_left = ',kappax_left)\n",
    "# print('kappax_right = ',kappax_right)\n",
    "# print('kappyy = ',kappay)\n",
    "\n",
    "# Neumann\n",
    "uneumann = kappa*dt\n",
    "# uneumannx_left = kappax_left*dt\n",
    "# uneumannx_right = kappax_right*dt\n",
    "# uneumanny = kappay*dt\n",
    "# # print('uneumannx = ',uneumannx)\n",
    "# print('uneumannx_left = ',uneumannx_left)\n",
    "# print('uneumannx_right = ',uneumannx_right)\n",
    "# print('uneumanny = ',uneumanny)\n",
    "# # uneumannx_mag = uneumannx.magnitude\n",
    "uneumann_mag = uneumann.magnitude\n",
    "# uneumannx_left_mag = uneumannx_left.magnitude\n",
    "# uneumannx_right_mag = uneumannx_right.magnitude\n",
    "# uneumanny_mag = uneumanny.magnitude"
   ]
  },
  {
   "cell_type": "code",
   "execution_count": 8,
   "metadata": {},
   "outputs": [
    {
     "name": "stdout",
     "output_type": "stream",
     "text": [
      "sigmaI_far_field =  0.3\n",
      "sigmaII_far_field =  0.09999999999999998\n",
      "Vapor pressure at this temperature =  29.55023347583504 pascal\n",
      "udirichlet =  38.41530351858555 pascal\n"
     ]
    }
   ],
   "source": [
    "# Calculating the dirichlet conditions at the far-field boundary\n",
    "sigmaII_far_field = sigmaI_far_field - sigma0\n",
    "print('sigmaI_far_field = ', sigmaI_far_field)\n",
    "print('sigmaII_far_field = ', sigmaII_far_field)\n",
    "\n",
    "# Converting this into pressures\n",
    "P3 = AssignQuantity(611,'Pa')\n",
    "T3 = AssignQuantity(273,'kelvin')\n",
    "Delta_H_sub = AssignQuantity(50,'kJ/mol')\n",
    "P_vapor_eq = P3*np.exp(-Delta_H_sub/R*(1/Temp-1/T3)); print('Vapor pressure at this temperature = ', P_vapor_eq)\n",
    "\n",
    "udirichlet = P_vapor_eq*(sigmaI_far_field+1)\n",
    "print('udirichlet = ', udirichlet)\n",
    "\n",
    "# Making dimensionless variables for efficiency\n",
    "udirichlet_mag = udirichlet.magnitude"
   ]
  },
  {
   "cell_type": "code",
   "execution_count": 9,
   "metadata": {},
   "outputs": [
    {
     "name": "stdout",
     "output_type": "stream",
     "text": [
      "Integrating steps =  10813\n",
      "Ldesired_list =  [100.0] micrometer\n",
      "Integrating out to  0.4999907044495428 microsecond\n"
     ]
    }
   ],
   "source": [
    "# This restarts the array accumulation\n",
    "Lx_list = np.array([])\n",
    "Ly_list = np.array([])\n",
    "uslicex0_list = np.array([])\n",
    "uslicey0_list = np.array([])\n",
    "uslicex_list = []\n",
    "uslicey_list = []\n",
    "c_rx_percent_list = np.array([])\n",
    "c_ry_percent_list = np.array([])\n",
    "\n",
    "# Looping\n",
    "# Ldesired_list = AssignQuantity(np.linspace(10,100,3),distance_unit)\n",
    "# Ldesired_list = AssignQuantity(np.linspace(50,50,1),distance_unit)\n",
    "# Ldesired_list = AssignQuantity(np.linspace(150,150,1),distance_unit)\n",
    "# Ldesired_list = AssignQuantity(np.arange(20,105,10),distance_unit)\n",
    "# Ldesired_list = AssignQuantity(np.arange(20,51,10),distance_unit)\n",
    "# Ldesired_list = AssignQuantity(np.arange(49,57,3),distance_unit)\n",
    "Ldesired_list = AssignQuantity(np.linspace(100,100,1),distance_unit)\n",
    "aspect_ratio = 1\n",
    "ntimes = int(tmax/dt)\n",
    "print('Integrating steps = ', ntimes)\n",
    "\n",
    "print('Ldesired_list = ', Ldesired_list)\n",
    "nL = len(Ldesired_list) \n",
    "print('Integrating out to ', ntimes*dt) # This is a check -- it should be very close to the tmax specified above"
   ]
  },
  {
   "cell_type": "code",
   "execution_count": 10,
   "metadata": {},
   "outputs": [],
   "source": [
    "fontsize = 25\n",
    "color = 'k'\n",
    "linewidth = 4\n",
    "markersize = 10"
   ]
  },
  {
   "cell_type": "code",
   "execution_count": 11,
   "metadata": {},
   "outputs": [
    {
     "name": "stdout",
     "output_type": "stream",
     "text": [
      "dx 2.840909090909091 micrometer\n",
      "dy 2.840909090909091 micrometer\n",
      "Ldesired 100.0 micrometer\n",
      "******************\n",
      "sine=  0.8660254037844386\n",
      "Ldesiredy_new=  173.20508075688772 micrometer\n",
      "boxrady_new=  60\n",
      "Ly_new=  170.45454545454544 micrometer\n",
      "    new box length (y) =  120\n",
      "iybox_new=  slice(116, 236, None)\n",
      "Ldesiredx_new=  200.0 micrometer\n",
      "boxradx_new=  70\n",
      "Lx_new=  198.86363636363635 micrometer\n",
      "    new box length (x) =  140\n",
      "ixbox_new=  slice(106, 246, None)\n",
      "    Working on Lxdesired, Lx =  100.0 micrometer 99.43181818181817 micrometer\n",
      "    box length (x) =  70\n",
      "    box length (y) =  70\n",
      "ixbox_newright=  slice(211, 246, None)\n",
      "ixbox_newleft=  slice(106, 141, None)\n",
      "slice(141, 211, None)\n",
      "slice(141, 211, None)\n"
     ]
    }
   ],
   "source": [
    "#my own plot\n",
    "\n",
    "#assigning box values\n",
    "# Box size\n",
    "nx = 353\n",
    "ny = 353\n",
    "xmax = AssignQuantity(1000,distance_unit)\n",
    "ymax = AssignQuantity(1000,distance_unit)\n",
    "x = np.linspace(0,xmax,nx); dx = x[1]-x[0]; print('dx', dx)\n",
    "y = np.linspace(0,ymax,ny); dy = y[1]-y[0]; print('dy',dy)\n",
    "dx2 = dx**2\n",
    "dy2 = dy**2\n",
    "nxmid = int(nx/2); # print('nxmid =', nxmid); # print('x(nxmid) =',x[nxmid])\n",
    "nymid = int(ny/2)\n",
    "x = x-x[nxmid]\n",
    "y = y-y[nymid]\n",
    "\n",
    "#assigning stuff\n",
    "Lindex = 0\n",
    "for Ldesired in Ldesired_list:\n",
    "    \n",
    "    print('Ldesired',Ldesired)\n",
    "    \n",
    "    # Define the box inside\n",
    "    Ldesiredx = Ldesired # Doesn't always work out to this because the grid is discretized\n",
    "    boxradx = int(Ldesiredx/dx)\n",
    "    Lx = boxradx*dx;\n",
    "    \n",
    "    Ldesiredy = Ldesiredx*aspect_ratio\n",
    "    boxrady = int(Ldesiredy/dy)\n",
    "    Ly = boxrady*dy;\n",
    "    \n",
    "#hexagon code    \n",
    "    #making a b value\n",
    "    print(\"******************\")\n",
    "    sine=math.sin(math.pi/3)\n",
    "    print('sine= ', sine)\n",
    "    Ldesiredy_new = 2*Ldesired*sine\n",
    "    print('Ldesiredy_new= ',Ldesiredy_new)\n",
    "    boxrady_new = int(Ldesiredy_new/dy)\n",
    "    print('boxrady_new= ',boxrady_new)\n",
    "    Ly_new = boxrady_new*dy\n",
    "    print('Ly_new= ',Ly_new)\n",
    "    #new bounds\n",
    "    iyboxmin_new = nymid-boxrady_new\n",
    "    iyboxmax_new = nymid+boxrady_new\n",
    "    print('    new box length (y) = ', iyboxmax_new-iyboxmin_new)\n",
    "    #slicing\n",
    "    iybox_new = slice(iyboxmin_new,iyboxmax_new);  print('iybox_new= ',iybox_new)\n",
    "    \n",
    "    #making a c value\n",
    "    Ldesiredx_new = 2*Ldesired\n",
    "    print('Ldesiredx_new= ',Ldesiredx_new)\n",
    "    boxradx_new = int(Ldesiredx_new/dx)\n",
    "    print('boxradx_new= ',boxradx_new)\n",
    "    Lx_new = boxradx_new*dx\n",
    "    print('Lx_new= ',Lx_new)\n",
    "    #new bounds\n",
    "    ixboxmin_new = nxmid-boxradx_new\n",
    "    ixboxmax_new = nxmid+boxradx_new\n",
    "    print('    new box length (x) = ', ixboxmax_new-ixboxmin_new)\n",
    "    #slicing\n",
    "    ixbox_new = slice(ixboxmin_new,ixboxmax_new);  print('ixbox_new= ', ixbox_new)\n",
    "    \n",
    "    #take the middle index point and go the index points of our crystal side to the left and to the right\n",
    "    ixboxmin = nxmid-boxradx\n",
    "    ixboxmax = nxmid+boxradx\n",
    "    print('    Working on Lxdesired, Lx = ', Ldesired, Lx)\n",
    "    print('    box length (x) = ', ixboxmax-ixboxmin)\n",
    "    #doing the same thing but in the y direction\n",
    "    iyboxmin = nymid-boxrady\n",
    "    iyboxmax = nymid+boxrady\n",
    "    print('    box length (y) = ', iyboxmax-iyboxmin)\n",
    "    \n",
    "     #new slices\n",
    "    ixbox_newright = slice(ixboxmax,ixboxmax_new); print('ixbox_newright= ', ixbox_newright)\n",
    "    ixbox_newleft = slice(ixboxmin_new,ixboxmin); print('ixbox_newleft= ', ixbox_newleft)\n",
    "\n",
    "    # Setting up to slice through the volume\n",
    "    ixbox = slice(ixboxmin,ixboxmax);  print(ixbox)\n",
    "    iybox = slice(iyboxmin,iyboxmax);  print(iybox)\n",
    "\n",
    "#     # Initialize u0 and un as ones/zeros matrices \n",
    "#     u0 = np.ones([nx, ny])*udirichlet_mag # old u values\n",
    "\n",
    "#     #Initialize the state of the vapor field\n",
    "\n",
    "#     # Propagate forward a bunch of times\n",
    "#     un = cp(u0)\n",
    "\n",
    "#     for i in range(ntimes):\n",
    "#         un = VFD.propagate_hexagon(u0,ix01,ix12,ix32,ix43,ix54,ix50,iy01,iy12,iy32,iy43,iy54,iy50,udirichlet,uneumann,Deff)  "
   ]
  },
  {
   "cell_type": "code",
   "execution_count": 44,
   "metadata": {},
   "outputs": [
    {
     "name": "stdout",
     "output_type": "stream",
     "text": [
      "59\n",
      "2.840909090909091 micrometer\n",
      "170.45454545454544 micrometer\n",
      "[59 57 55 53 52 50 48 46 45 43 41 39 38 36 34 32 31 29 27 26 24 22 20 19\n",
      " 17 15 13 12 10  8  6  5  3  1  0]\n",
      "[-35 -32 -30 -28 -26 -24 -22 -20 -18 -16 -14 -12 -10  -8  -6  -4  -2   0\n",
      "   2   4   6   8  10  12  14  16  18  20  22  24  26  28  30  32  35]\n"
     ]
    },
    {
     "data": {
      "text/plain": [
       "[<matplotlib.lines.Line2D at 0x16a059810>]"
      ]
     },
     "execution_count": 44,
     "metadata": {},
     "output_type": "execute_result"
    },
    {
     "data": {
      "image/png": "[encoded data removed]",
      "text/plain": [
       "<Figure size 640x480 with 1 Axes>"
      ]
     },
     "metadata": {},
     "output_type": "display_data"
    },
    {
     "data": {
      "image/png": "[encoded data removed]",
      "text/plain": [
       "<Figure size 640x480 with 1 Axes>"
      ]
     },
     "metadata": {},
     "output_type": "display_data"
    }
   ],
   "source": [
    "nhex = int(Lx/dx)\n",
    "# nhex = 10\n",
    "#assigning y points\n",
    "iy0 = iy1 = int(Ly_new/dy)\n",
    "print(iy0)\n",
    "print(dy)\n",
    "print(Ly_new)\n",
    "iy2 = iy5 = 0\n",
    "iy3 = -iy1\n",
    "iy4 = -iy0\n",
    "#making x arrays\n",
    "iy01 = np.linspace(iy0,iy1,nhex).astype(int)\n",
    "iy12 = np.linspace(iy1,iy2,nhex).astype(int)\n",
    "print(iy12)\n",
    "iy32 = np.linspace(iy3,iy2,nhex).astype(int)\n",
    "iy43 = np.linspace(iy4,iy3,nhex).astype(int)\n",
    "iy54 = np.linspace(iy5,iy4,nhex).astype(int)\n",
    "iy50 = np.linspace(iy5,iy0,nhex).astype(int)\n",
    "#assigning x points\n",
    "ix1 = ix3 = int(Lx/dx)\n",
    "ix0 = ix4 = -ix1\n",
    "ix2 = int(Lx_new/dx)\n",
    "ix5 = -ix2\n",
    "#making y arrays\n",
    "ix01 = np.linspace(ix0,ix1,nhex).astype(int)\n",
    "print(ix01)\n",
    "ix12 = np.linspace(ix1,ix2,nhex).astype(int)\n",
    "# print(ix12)\n",
    "ix32 = np.linspace(ix3,ix2,nhex).astype(int)\n",
    "ix43 = np.linspace(ix4,ix3,nhex).astype(int)\n",
    "ix54 = np.linspace(ix5,ix4,nhex).astype(int)\n",
    "ix50 = np.linspace(ix5,ix0,nhex).astype(int)\n",
    "\n",
    "#my new plot\n",
    "fig,ax = plt.subplots()\n",
    "ax.set_aspect('equal')\n",
    "# CS = ax.contour(x.magnitude,y.magnitude,un.T)\n",
    "ax.set_xlabel(r'$x$ ($\\mu m$)', fontsize=fontsize)\n",
    "ax.set_ylabel(r'$y$ ($\\mu m$)', fontsize=fontsize)\n",
    "# fig.colorbar(CS)\n",
    "# xvec = (x[ixboxmax].magnitude,x[ixboxmax_new].magnitude)\n",
    "# yvec = (y[iyboxmax_new].magnitude,0)\n",
    "plt.plot(ix12,iy12,color='k',linewidth=linewidth)\n",
    "# xvec = (x[ixboxmin_new].magnitude,x[ixboxmin].magnitude)\n",
    "# yvec = (0,y[iyboxmax_new].magnitude)\n",
    "plt.plot(ix50,iy50,color='b',linewidth=linewidth)\n",
    "# xvec = (x[ixboxmin_new].magnitude,x[ixboxmin].magnitude)\n",
    "# yvec = (0,y[iyboxmin_new].magnitude)\n",
    "plt.plot(ix54,iy54,color='r',linewidth=linewidth)\n",
    "# xvec = (x[ixboxmax].magnitude,x[ixboxmax_new].magnitude)\n",
    "# yvec = (y[iyboxmin_new].magnitude,0)\n",
    "plt.plot(ix32,iy32,color='g',linewidth=linewidth)\n",
    "# xvec = (x[ixboxmin].magnitude,x[ixboxmax].magnitude)\n",
    "# yvec = (y[iyboxmin_new].magnitude,y[iyboxmin_new].magnitude)\n",
    "plt.plot(ix43,iy43,color='c',linewidth=linewidth)\n",
    "# xvec = (x[ixboxmin].magnitude,x[ixboxmax].magnitude)\n",
    "# yvec = (y[iyboxmax_new].magnitude,y[iyboxmax_new].magnitude)\n",
    "plt.plot(ix01,iy01,color='y',linewidth=linewidth)\n",
    "\n",
    "plt.figure()\n",
    "plt.plot(ix01,iy01,'yo')\n",
    "# plt.plot(ix12,iy12,'ko')\n",
    "# plt.plot(ix32,iy32,'go')\n",
    "# plt.plot(ix43,iy43,'co')\n",
    "# plt.plot(ix54,iy54,'ro')\n",
    "# plt.plot(ix50,iy50,'bo')"
   ]
  },
  {
   "cell_type": "code",
   "execution_count": 36,
   "metadata": {
    "scrolled": true
   },
   "outputs": [
    {
     "name": "stdout",
     "output_type": "stream",
     "text": [
      "59\n",
      "2.840909090909091 micrometer\n",
      "170.45454545454544 micrometer\n",
      "[59 52 45 39 32 26 19 13  6  0]\n",
      "[35 38 42 46 50 54 58 62 66 70]\n"
     ]
    }
   ],
   "source": [
    "# Initialize u0 and un as ones/zeros matrices \n",
    "u0 = np.ones([nx, ny])*udirichlet_mag # old u values\n",
    "\n",
    "    #Initialize the state of the vapor field\n",
    "\n",
    "    # Propagate forward a bunch of times\n",
    "un = cp(u0)\n",
    "\n",
    "for i in range(ntimes):\n",
    "        un = VFD.propagate_hexagon(un,ix01,ix12,ix32,ix43,ix54,ix50,iy01,iy12,iy32,iy43,iy54,iy50,udirichlet_mag,uneumann_mag,Deff)  "
   ]
  },
  {
   "cell_type": "markdown",
   "metadata": {},
   "source": [
    "### Doing this again to sort out the relaxation time after a perturbation\n",
    "Assuming \"un\" has the last time step of the last L-value."
   ]
  },
  {
   "cell_type": "code",
   "execution_count": 15,
   "metadata": {},
   "outputs": [],
   "source": [
    "# # Times after perturbation\n",
    "# ntimes_after_perturbation = ntimes\n",
    "# tkeep = np.linspace(0,ntimes_after_perturbation*dt,ntimes_after_perturbation)\n",
    "\n",
    "# # This is the perturbation factor\n",
    "# pertfactor = 1.1\n",
    "\n",
    "# # The unperturbed run\n",
    "# un_unperturbed = cp(un)\n",
    "# ukeep_unperturbed = []\n",
    "# ukeepL_unperturbed = []\n",
    "\n",
    "# for i in range(ntimes_after_perturbation):\n",
    "#     ukeep_unperturbed.append(un_unperturbed[nxmid,nymid+boxrady])\n",
    "#     ukeepL_unperturbed.append(un_unperturbed[ixbox,nymid+boxrady][0])\n",
    "#     un_unperturbed = propagate(un_unperturbed,ixbox,iybox,udirichlet_mag,uneumannx_mag,uneumanny_mag,Dxeff,Dyeff)\n",
    "\n",
    "# # The perturbed run\n",
    "# un_perturbed = cp(un)\n",
    "# un_perturbed[nxmid,nymid+boxrady] *= pertfactor\n",
    "# wider = 5\n",
    "# for iwider in range(1,wider):\n",
    "#     un_perturbed[nxmid-iwider,nymid+boxrady] *= pertfactor\n",
    "#     un_perturbed[nxmid+iwider,nymid+boxrady] *= pertfactor\n",
    "# ukeep_perturbed = []\n",
    "# un_perturbed_initial = cp(un_perturbed)\n",
    "# ukeepL_perturbed = []\n",
    "# for i in range(ntimes_after_perturbation):\n",
    "#     ukeep_perturbed.append(un_perturbed[nxmid,nymid+boxrady])\n",
    "#     ukeepL_perturbed.append(un_perturbed[ixbox,nymid+boxrady][0])\n",
    "#     un_perturbed = propagate(un_perturbed,ixbox,iybox,udirichlet_mag,uneumannx_mag,uneumanny_mag,Dxeff,Dyeff)"
   ]
  },
  {
   "cell_type": "code",
   "execution_count": 16,
   "metadata": {
    "scrolled": false
   },
   "outputs": [],
   "source": [
    "# # Taking a look at the profile results\n",
    "# uslice_unperturbed_final = un_unperturbed[ixbox,nymid+boxrady]\n",
    "# uslice_perturbed_final = un_perturbed[ixbox,nymid+boxrady]\n",
    "# uslice_perturbed_initial = un_perturbed_initial[ixbox,nymid+boxrady]\n",
    "# plt.figure()\n",
    "# plt.plot(xshifted,uslice_unperturbed_final,'s',label='unperturbed (final)')\n",
    "# plt.plot(xshifted,uslice_perturbed_final,'x',label='perturbed (final)')\n",
    "# plt.plot(xshifted,uslice_perturbed_initial,'o',label='perturbed (initial)')\n",
    "# plt.grid(True)\n",
    "# plt.legend()\n",
    "\n",
    "# # Taking a look at pressures at the center over time\n",
    "# ukeep_perturbed_nparray = np.array(ukeep_perturbed)\n",
    "# ukeep_unperturbed_nparray = np.array(ukeep_unperturbed)\n",
    "# deltaPressure = (ukeep_perturbed_nparray-ukeep_unperturbed_nparray)\n",
    "# plt.figure()\n",
    "# plt.plot(tkeep,deltaPressure)\n",
    "# plt.xlabel('time (microseconds)')\n",
    "# plt.grid(True)\n",
    "# tau = tkeep[np.argmin(np.abs(deltaPressure/deltaPressure[0]-.5))]\n",
    "# print('Approximate half-life =',tau)\n",
    "\n",
    "# # Taking a look at center reductions over time\n",
    "# ukeepL_perturbed_nparray = np.array(ukeepL_perturbed)\n",
    "# ukeepL_unperturbed_nparray = np.array(ukeepL_unperturbed)\n",
    "# c_rx_percent_perturbed = (ukeepL_perturbed_nparray-ukeep_perturbed_nparray)/ukeepL_perturbed_nparray*100\n",
    "# c_rx_percent_unperturbed = (ukeepL_unperturbed_nparray-ukeep_unperturbed_nparray)/ukeepL_unperturbed_nparray*100\n",
    "# plt.figure()\n",
    "# plt.plot(tkeep,c_rx_percent_perturbed,label='perturbed')\n",
    "# plt.plot(tkeep,c_rx_percent_unperturbed,label='unperturbed')\n",
    "# plt.xlabel('time (microseconds)')\n",
    "# plt.ylabel(r'$c_r$ (%)')\n",
    "# plt.legend()\n",
    "# plt.grid(True)\n",
    "\n",
    "# # Taking a look at center reductions as a % of the unperturbed over time\n",
    "# c_rx_percent_difference = (c_rx_percent_perturbed-c_rx_percent_unperturbed)/c_rx_percent_unperturbed*100\n",
    "# plt.figure()\n",
    "# plt.plot(tkeep,c_rx_percent_difference,label='difference')\n",
    "# plt.xlabel('time (microseconds)')\n",
    "# plt.grid(True)\n",
    "# # plt.ylim([-10,10])\n",
    "# tau = tkeep[np.argmin((c_rx_percent_difference+5)**2)]\n",
    "# print('95% recovery time =',tau)"
   ]
  },
  {
   "cell_type": "markdown",
   "metadata": {},
   "source": [
    "### Lesson of the perturbation code\n",
    "The goal of the pertubation code is to see whether it's justified to ignore (as the continuum code does) the impact layer formation on a crystal surface might have on the overlying vapor field. I'm judging this by comparing two numbers. One is $\\tau_{vap,pert}$, the time it takes for a spot in the vapor field to recover from a perturbation; we can get that from this vaporfield code. The other is $\\tau_{res}$, the residence time a layer lingers over a given location; we can get that from the continuum model code.\n",
    "\n",
    "It seems, from the figure above, it takes  a perturbation in the vapor field above our growing crystal $0.1 \\ \\mu s$ to recover $95\\%$ of the pre-perturbation $c_r$. So we'll say $\\tau_{vap,pert} \\approx 0.1 \\ \\mu s$.\n",
    "\n",
    "By comparison, layer residence times in the continuum code are $\\tau_{res}\\approx 5 \\mu s$, for similar parameters. So that's not very close. "
   ]
  },
  {
   "cell_type": "code",
   "execution_count": 17,
   "metadata": {},
   "outputs": [],
   "source": [
    "# ### Connecting to the continuum code ...\n",
    "# nmpermonolayer = AssignQuantity(0.3,'nanometer')\n",
    "# print('nmpermonolayer = ', nmpermonolayer)\n",
    "# growthrate = g_ice\n",
    "# print('growthrate = ', growthrate)\n",
    "# growthrate = g_ice/nmpermonolayer; growthrate.ito('1/second')\n",
    "# print('growthrate = ', growthrate)\n",
    "# HLS = growthrate*Lx\n",
    "# HLS.ito('micrometer/microsecond')\n",
    "# print('HLS = ', HLS)\n",
    "# print()\n",
    "\n",
    "# # Guessing at lambda from SEM\n",
    "# dz = AssignQuantity(1,'micrometer')\n",
    "# dx = AssignQuantity(40,'micrometer')\n",
    "# dzdx = dz/dx\n",
    "# dlayersdx = dzdx/nmpermonolayer\n",
    "# dlayersdx.ito('1/micrometer')\n",
    "# lambdabar = 1/dlayersdx\n",
    "# residence_time = lambdabar/HLS\n",
    "# print('SEM:')\n",
    "# print('    lambda = ', lambdabar)\n",
    "# print('    Residence time SEM = ', residence_time)\n",
    "# print()\n",
    "\n",
    "# # CM\n",
    "# lambdabar = AssignQuantity(3,'micrometer')\n",
    "# residence_time = lambdabar/HLS\n",
    "# print('CM:')\n",
    "# print('    lambda = ', lambdabar)\n",
    "# print('    residence_time = ', residence_time)"
   ]
  },
  {
   "cell_type": "markdown",
   "metadata": {},
   "source": [
    "### Fitting $c_r$\n",
    "\n",
    "For D =  34908.31943863489 micrometer ** 2 / microsecond, I get np.flip(px) = [-0.03331184  0.00657218]\n",
    "\n"
   ]
  }
 ],
 "metadata": {
  "kernelspec": {
   "display_name": "Python 3 (ipykernel)",
   "language": "python",
   "name": "python3"
  },
  "language_info": {
   "codemirror_mode": {
    "name": "ipython",
    "version": 3
   },
   "file_extension": ".py",
   "mimetype": "text/x-python",
   "name": "python",
   "nbconvert_exporter": "python",
   "pygments_lexer": "ipython3",
   "version": "3.11.5"
  },
  "vscode": {
   "interpreter": {
    "hash": "a5639f55dd41388b289936a35ec1befe471f3e8ab332c7f154620eef02aaf2e9"
   }
  }
 },
 "nbformat": 4,
 "nbformat_minor": 1
}
