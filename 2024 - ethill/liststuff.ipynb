{
 "cells": [
  {
   "cell_type": "code",
   "execution_count": 7,
   "id": "1938d018",
   "metadata": {},
   "outputs": [],
   "source": [
    "import copy"
   ]
  },
  {
   "cell_type": "code",
   "execution_count": 8,
   "id": "55257ed5",
   "metadata": {},
   "outputs": [],
   "source": [
    "def self_clean(list1):\n",
    "    droplist = []\n",
    "    for q in range(len(list1)-1):\n",
    "        for i in range(q+1,len(list1)):\n",
    "            if (list1[i] == list1[q]):\n",
    "                droplist.append(i)\n",
    "    for j in range(len(droplist)):\n",
    "        i = droplist[j]\n",
    "#         print('Dropping item', i,' (value =', list1[i],')')\n",
    "#     print(droplist)\n",
    "    for i in range(len(droplist)):\n",
    "        list1.pop(droplist[i]-i)\n",
    "    return(list1)"
   ]
  },
  {
   "cell_type": "code",
   "execution_count": 9,
   "id": "d39727c6",
   "metadata": {},
   "outputs": [
    {
     "name": "stdout",
     "output_type": "stream",
     "text": [
      "[1, 2, 4, 5, 6, 1, 10, 11, 6, 3, 13, 14, 14]\n",
      "[1, 2, 4, 5, 6, 10, 11, 3, 13, 14]\n",
      "[1, 2, 4, 5, 6, 10, 11, 3, 13, 14]\n"
     ]
    }
   ],
   "source": [
    "mylist = [1,2,4,5,6,1,10,11,6,3,13,14,14]\n",
    "print(mylist)\n",
    "mylist = self_clean(mylist)\n",
    "print(mylist)\n",
    "mylist = self_clean(mylist)\n",
    "print(mylist)"
   ]
  },
  {
   "cell_type": "code",
   "execution_count": 10,
   "id": "bb1b0061",
   "metadata": {},
   "outputs": [],
   "source": [
    "def other_clean(list1,list2):\n",
    "    droplist = []\n",
    "    for q in range(len(list1)-1):\n",
    "        for i in range(len(list2)):\n",
    "            if (list1[q] == list2[i]):\n",
    "                droplist.append(i)\n",
    "    for j in range(len(droplist)):\n",
    "        i = droplist[j]\n",
    "#         print('Dropping item', i,' (value =', list1[i],')')\n",
    "#     print(droplist)\n",
    "    for i in range(len(droplist)):\n",
    "        list1.pop(droplist[i]-i)\n",
    "    return(list1)"
   ]
  },
  {
   "cell_type": "code",
   "execution_count": 11,
   "id": "ce005b76",
   "metadata": {},
   "outputs": [
    {
     "name": "stdout",
     "output_type": "stream",
     "text": [
      "[1, 2, 4, 5, 6, 10, 11, 3, 13, 14] [1, 2, 21, 22]\n",
      "[4, 5, 6, 10, 11, 3, 13, 14] [1, 2, 21, 22]\n"
     ]
    }
   ],
   "source": [
    "mylist1 = copy.deepcopy(mylist)\n",
    "mylist2 = [1,2,21,22]\n",
    "print(mylist1,mylist2)\n",
    "mylist1 = other_clean(mylist1,mylist2)\n",
    "print(mylist1,mylist2)"
   ]
  },
  {
   "cell_type": "code",
   "execution_count": null,
   "id": "8246f869",
   "metadata": {},
   "outputs": [],
   "source": []
  }
 ],
 "metadata": {
  "kernelspec": {
   "display_name": "Python 3 (ipykernel)",
   "language": "python",
   "name": "python3"
  },
  "language_info": {
   "codemirror_mode": {
    "name": "ipython",
    "version": 3
   },
   "file_extension": ".py",
   "mimetype": "text/x-python",
   "name": "python",
   "nbconvert_exporter": "python",
   "pygments_lexer": "ipython3",
   "version": "3.10.8"
  }
 },
 "nbformat": 4,
 "nbformat_minor": 5
}
