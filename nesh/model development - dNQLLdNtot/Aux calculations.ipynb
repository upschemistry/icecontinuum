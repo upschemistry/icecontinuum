{
 "cells": [
  {
   "cell_type": "code",
   "execution_count": 11,
   "metadata": {
    "collapsed": false
   },
   "outputs": [
    {
     "name": "stdout",
     "output_type": "stream",
     "text": [
      "nu_kin 0.163333333333\n",
      "The \"mean displacement\" distance is 0.0349927106112 microns\n",
      "NL =  5.10416666667\n",
      "B =  0.02\n",
      "dNL/d(1/D) =  0.00102083333333\n",
      "missing factor 1.07755102041\n",
      "dNL/dnu_kin =  31.25\n",
      "missing factor 1.1232\n",
      "dNL/dnu_kin =  25.5208333333\n",
      "missing factor 1.13632653061\n"
     ]
    }
   ],
   "source": [
    "nmpermonolayer = 0.3\n",
    "umpersec_over_mlyperus = (nmpermonolayer/1e3*1e6)\n",
    "\n",
    "sigmastepmax = 0.20\n",
    "sigma0 = .19\n",
    "alpha = 0.2\n",
    "\n",
    "# Diffusion coefficient\n",
    "D = 0.02e-2 # micrometers^2/microsecond\n",
    "\n",
    "nu_kin = 49 # microns/second\n",
    "deprate = nu_kin/umpersec_over_mlyperus # monolayers per microsecond\n",
    "print 'nu_kin', deprate\n",
    "\n",
    "Thickness = 1.0 # monolayers\n",
    "tau = Thickness/deprate # microseconds\n",
    "\n",
    "x0 = (D*tau)**.5\n",
    "print 'The \"mean displacement\" distance is', x0, 'microns'\n",
    "\n",
    "L = 25 # micrometers, from the center\n",
    "\n",
    "\n",
    "center_reduction = 0.25 # In percent\n",
    "cr = center_reduction/100\n",
    "\n",
    "\n",
    "B = 0.02; NL = (deprate*sigmastepmax) *L**2 *cr  / D *B\n",
    "#B = .45; NL = (deprate*(sigmastepmax-sigma0)) *L**2 *cr  / D *B\n",
    "print 'NL = ', NL\n",
    "print 'B = ', B\n",
    "\n",
    "dNL_dDI = NL * D\n",
    "print 'dNL/d(1/D) = ', dNL_dDI\n",
    "print 'missing factor', .0011/dNL_dDI\n",
    "\n",
    "dNL_dnu = NL / deprate\n",
    "print 'dNL/dnu_kin = ', dNL_dnu\n",
    "print 'missing factor', (umpersec_over_mlyperus*.117)/dNL_dnu\n",
    "\n",
    "dNL_dsigma = NL / sigmastepmax\n",
    "print 'dNL/dnu_kin = ', dNL_dsigma\n",
    "print 'missing factor', 29/dNL_dsigma\n",
    "\n"
   ]
  },
  {
   "cell_type": "code",
   "execution_count": 5,
   "metadata": {
    "collapsed": false
   },
   "outputs": [
    {
     "data": {
      "text/plain": [
       "2.2222222222222223"
      ]
     },
     "execution_count": 5,
     "metadata": {},
     "output_type": "execute_result"
    }
   ],
   "source": [
    "1/.45"
   ]
  },
  {
   "cell_type": "code",
   "execution_count": null,
   "metadata": {
    "collapsed": true
   },
   "outputs": [],
   "source": []
  }
 ],
 "metadata": {
  "kernelspec": {
   "display_name": "Python 2",
   "language": "python",
   "name": "python2"
  },
  "language_info": {
   "codemirror_mode": {
    "name": "ipython",
    "version": 2
   },
   "file_extension": ".py",
   "mimetype": "text/x-python",
   "name": "python",
   "nbconvert_exporter": "python",
   "pygments_lexer": "ipython2",
   "version": "2.7.11"
  }
 },
 "nbformat": 4,
 "nbformat_minor": 0
}
