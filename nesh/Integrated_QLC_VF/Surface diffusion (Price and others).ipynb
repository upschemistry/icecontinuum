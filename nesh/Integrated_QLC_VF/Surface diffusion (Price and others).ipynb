{
 "cells": [
  {
   "cell_type": "code",
   "execution_count": 3,
   "id": "1d6297b0",
   "metadata": {},
   "outputs": [],
   "source": [
    "import numpy as np\n",
    "import matplotlib.pylab as plt\n",
    "from pint import UnitRegistry; AssignQuantity = UnitRegistry().Quantity"
   ]
  },
  {
   "cell_type": "code",
   "execution_count": 4,
   "id": "57d5d433",
   "metadata": {},
   "outputs": [
    {
     "name": "stdout",
     "output_type": "stream",
     "text": [
      "3.8e-05 micrometer ** 2 / microsecond\n",
      "7.500000000000001e-05 micrometer ** 2 / microsecond\n",
      "0.00030000000000000003 micrometer ** 2 / microsecond\n"
     ]
    }
   ],
   "source": [
    "D240 = AssignQuantity(0.038e-9,'m^2/s')\n",
    "D240.ito('micrometer^2/microsecond')\n",
    "print(D240)\n",
    "\n",
    "D250 = AssignQuantity(0.075e-9,'m^2/s')\n",
    "D250.ito('micrometer^2/microsecond')\n",
    "print(D250)\n",
    "\n",
    "DNasello260 = AssignQuantity(0.3e-5,'cm^2/s')\n",
    "DNasello260.ito('micrometer^2/microsecond')\n",
    "print(DNasello260)"
   ]
  },
  {
   "cell_type": "code",
   "execution_count": 5,
   "id": "1fd875d2",
   "metadata": {},
   "outputs": [
    {
     "name": "stdout",
     "output_type": "stream",
     "text": [
      "[294.11764706 263.15789474 238.0952381 ]\n",
      "Inverse Temperatures =  [3.4 3.8 4.2]\n",
      "log(D) =  [ 0.58778666 -0.35667494 -1.60943791]\n",
      "[-2.74653072  9.97737468]\n"
     ]
    }
   ],
   "source": [
    "Price_inverse_Temperatures = np.array([3.4,3.8,4.2])\n",
    "Price_Temperatures = 1/Price_inverse_Temperatures*1e3\n",
    "print(Price_Temperatures)\n",
    "Price_D = np.array([1.8,.7,.2])\n",
    "print('Inverse Temperatures = ', Price_inverse_Temperatures)\n",
    "logD = np.log(Price_D); print('log(D) = ', logD)\n",
    "p = np.polyfit(Price_inverse_Temperatures,logD,1)\n",
    "print(p)"
   ]
  },
  {
   "cell_type": "markdown",
   "id": "e77dedf4",
   "metadata": {},
   "source": [
    "### Formula for diffusion coefficient\n",
    "$$\n",
    "D = exp\\bigl ({1000 \\ m_D \\over T}+b_D \\bigr )\n",
    "$$\n",
    "\n",
    "$$\n",
    "D^o = exp\\bigl ({1000 \\ m_D \\over T^o}+b_D \\bigr )\n",
    "$$\n",
    "\n",
    "$$\n",
    "D =  exp\\bigl ( {1000 \\ m_D \\over T} +b_D  \\bigr ) \\times {D^o \\over D^o}\n",
    "$$\n",
    "\n",
    "$$\n",
    "D =  D^o exp\\bigl ( {1000 \\ m_D \\over T} +b_D  \\bigr ) exp\\bigl ( -{1000 \\ m_D \\over T} -b_D  \\bigr )\n",
    "$$\n",
    "\n",
    "$$\n",
    "D =  D^o exp\\bigl ( 1000 \\ m_D  ({1 \\over T} - {1 \\over T^o})  \\bigr ) \n",
    "$$\n",
    "\n",
    "Let $1000 \\ m_D  = - {E_a \\over R}$, or $E_a = -1000 \\ m_D R$. Then\n",
    "\n",
    "$$\n",
    "D = D^o exp\\bigl ( -{E_a \\over R} ({1 \\over T} - {1 \\over T^o})  \\bigr )\n",
    "$$\n"
   ]
  },
  {
   "cell_type": "code",
   "execution_count": 29,
   "id": "91f2a5e6",
   "metadata": {},
   "outputs": [],
   "source": [
    "def get_D_of_T_old(T,AssignQuantity):\n",
    "    T_inverse_Temperature = 1e3/T; print(T_inverse_Temperature)\n",
    "    p = [-2.74653072, 9.97737468]\n",
    "    logD = np.polyval(p,T_inverse_Temperature)\n",
    "    D = AssignQuantity(np.exp(logD)*1e-5*100,'micrometers^2/microsecond')\n",
    "    return D\n",
    "\n",
    "def get_D_of_T_test(T,AssignQuantity):\n",
    "    T_o = AssignQuantity(273,'K')\n",
    "    T_ref = AssignQuantity(1000,'K')\n",
    "    m_D = -2.74653072\n",
    "    b_D = 9.97737468\n",
    "    R = AssignQuantity(8.314e-3,'kjoule/mol/K')\n",
    "    E_a = -T_ref *m_D *R; print('E_a = ',E_a)\n",
    "    D_o = np.exp(1000*m_D/T_o.magnitude+b_D)\n",
    "    D_o = AssignQuantity(D_o*1e-5*100,'micrometers^2/microsecond')\n",
    "    print('D_o = ', D_o)\n",
    "    \n",
    "    arg_of_exp = -E_a/R * (1/T-1/T_o); print('arg of exp = ',arg_of_exp)\n",
    "    D = D_o * np.exp(arg_of_exp)\n",
    "    print('D = ', D)\n",
    "    return D\n",
    "\n",
    "def get_D_of_T(T,AssignQuantity):\n",
    "    E_a =  AssignQuantity(22.83465640608,'kilojoule / mole')\n",
    "    R = AssignQuantity(8.314e-3,'kjoule/mol/K')\n",
    "    T_o = AssignQuantity(273,'K')\n",
    "    D_o = AssignQuantity(0.0009201878841272197,'micrometer ** 2 / microsecond')    \n",
    "    arg_of_exp = -E_a/R * (1/T-1/T_o); print('arg of exp = ',arg_of_exp)\n",
    "    D = D_o * np.exp(arg_of_exp)\n",
    "    print('D = ', D)\n",
    "    return D"
   ]
  },
  {
   "cell_type": "code",
   "execution_count": 30,
   "id": "71e14618",
   "metadata": {
    "scrolled": false
   },
   "outputs": [
    {
     "name": "stdout",
     "output_type": "stream",
     "text": [
      "[3.4 3.8 4.2]\n",
      "[0.001894907892855857 0.0006316359647072867 0.00021054532170976294] micrometer ** 2 / microsecond\n",
      "arg of exp =  -0.0 dimensionless\n",
      "D =  0.0009201878841272197 micrometer ** 2 / microsecond\n",
      "0.0009201878841272197 micrometer ** 2 / microsecond\n",
      "arg of exp =  0.6867271049769342 dimensionless\n",
      "D =  0.0018285982634098652 micrometer ** 2 / microsecond\n",
      "0.0018285982634098652 micrometer ** 2 / microsecond\n",
      "E_a =  22.83465640608 kilojoule / mole\n",
      "D_o =  0.0009201878841272197 micrometer ** 2 / microsecond\n",
      "arg of exp =  -1.383325912087912 dimensionless\n",
      "D =  0.00023073086829516782 micrometer ** 2 / microsecond\n",
      "0.00023073086829516782 micrometer ** 2 / microsecond\n",
      "arg of exp =  -1.383325912087912 dimensionless\n",
      "D =  0.00023073086829516782 micrometer ** 2 / microsecond\n",
      "0.00023073086829516782 micrometer ** 2 / microsecond\n"
     ]
    }
   ],
   "source": [
    "Dvalues = get_D_of_T_old(Price_Temperatures,AssignQuantity)\n",
    "print(Dvalues)\n",
    "\n",
    "T_test = AssignQuantity(273,'K')\n",
    "Dvalue = get_D_of_T(T_test,AssignQuantity)\n",
    "print(Dvalue)\n",
    "\n",
    "T_test = AssignQuantity(293,'K')\n",
    "Dvalue = get_D_of_T(T_test,AssignQuantity)\n",
    "print(Dvalue)\n",
    "\n",
    "T_test = AssignQuantity(240,'K')\n",
    "Dvalue = get_D_of_T_test(T_test,AssignQuantity)\n",
    "print(Dvalue)\n",
    "\n",
    "T_test = AssignQuantity(240,'K')\n",
    "Dvalue = get_D_of_T(T_test,AssignQuantity)\n",
    "print(Dvalue)"
   ]
  },
  {
   "cell_type": "code",
   "execution_count": null,
   "id": "4a142c6a",
   "metadata": {},
   "outputs": [],
   "source": []
  }
 ],
 "metadata": {
  "kernelspec": {
   "display_name": "Python 3 (ipykernel)",
   "language": "python",
   "name": "python3"
  },
  "language_info": {
   "codemirror_mode": {
    "name": "ipython",
    "version": 3
   },
   "file_extension": ".py",
   "mimetype": "text/x-python",
   "name": "python",
   "nbconvert_exporter": "python",
   "pygments_lexer": "ipython3",
   "version": "3.10.8"
  }
 },
 "nbformat": 4,
 "nbformat_minor": 5
}
