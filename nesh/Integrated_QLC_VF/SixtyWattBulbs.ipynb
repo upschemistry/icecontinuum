{
 "cells": [
  {
   "cell_type": "code",
   "execution_count": 1,
   "id": "76e6a7bb",
   "metadata": {},
   "outputs": [],
   "source": [
    "import numpy as np\n",
    "import matplotlib.pylab as plt\n",
    "from pint import UnitRegistry; AssignQuantity = UnitRegistry().Quantity"
   ]
  },
  {
   "cell_type": "code",
   "execution_count": 13,
   "id": "85dc5737",
   "metadata": {},
   "outputs": [
    {
     "name": "stdout",
     "output_type": "stream",
     "text": [
      "510064472945312.2 meter ** 2\n",
      "2.72 watt / meter ** 2\n",
      "60 watt\n",
      "23122922773520.82 dimensionless\n",
      "Number of 60 W bulbs = 23122.92277352082 dimensionless x10^9 (\"gigabulbs\")\n",
      "Number of 60 W bulbs = 23.12292277352082 dimensionless x10^12 (\"terabulbs\")\n"
     ]
    }
   ],
   "source": [
    "Area = AssignQuantity(196936994, 'mi^2')\n",
    "Area.ito('m^2'); print(Area)\n",
    "Power_per_unit_area = AssignQuantity(2.72,'watt/m^2'); print(Power_per_unit_area)\n",
    "Power_per_bulb = AssignQuantity(60,'watt'); print(Power_per_bulb)\n",
    "Number_of_bulbs = Power_per_unit_area/Power_per_bulb*Area; print(Number_of_bulbs)\n",
    "Number_of_bulbs /= 1e9; \n",
    "print('Number of 60 W bulbs =', Number_of_bulbs, 'x10^9 (\"gigabulbs\")')\n",
    "Number_of_bulbs /= 1e3; \n",
    "print('Number of 60 W bulbs =', Number_of_bulbs, 'x10^12 (\"terabulbs\")')"
   ]
  },
  {
   "cell_type": "code",
   "execution_count": null,
   "id": "c99664f6",
   "metadata": {},
   "outputs": [],
   "source": []
  }
 ],
 "metadata": {
  "kernelspec": {
   "display_name": "Python 3 (ipykernel)",
   "language": "python",
   "name": "python3"
  },
  "language_info": {
   "codemirror_mode": {
    "name": "ipython",
    "version": 3
   },
   "file_extension": ".py",
   "mimetype": "text/x-python",
   "name": "python",
   "nbconvert_exporter": "python",
   "pygments_lexer": "ipython3",
   "version": "3.10.8"
  }
 },
 "nbformat": 4,
 "nbformat_minor": 5
}
