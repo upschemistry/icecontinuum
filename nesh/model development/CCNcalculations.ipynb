{
 "cells": [
  {
   "cell_type": "code",
   "execution_count": 1,
   "metadata": {
    "collapsed": true
   },
   "outputs": [],
   "source": [
    "import numpy as np\n",
    "from matplotlib import pyplot as plt\n",
    "%matplotlib notebook"
   ]
  },
  {
   "cell_type": "code",
   "execution_count": 46,
   "metadata": {
    "collapsed": false
   },
   "outputs": [
    {
     "name": "stdout",
     "output_type": "stream",
     "text": [
      "1.57796891276e-13 moles of NaCl\n",
      "14.6450248767 concentration of NaCl\n",
      "0.654784126453 mole fraction water\n",
      "0.345215873547 mole fraction solute\n",
      "19.5419480316 concentration of NaCl\n",
      "0.587023219231 mole fraction water\n",
      "0.412976780769 mole fraction solute\n",
      "0.115431391811 sigma0\n"
     ]
    }
   ],
   "source": [
    "# Diameter of the CCN\n",
    "diameter = 2.0 # microns; \n",
    "# Small is 0.06 to 0.2 um\n",
    "# Large is 0.2 to 2 um\n",
    "# Giant is >2\n",
    "# See Yin et al, 2000 (who discuss giant CCNs as large as 10 um)\n",
    "# and Prupacher and Klett\n",
    "radius = diameter/2\n",
    "\n",
    "# Mass of the CCN\n",
    "density = 2.2*(1e2/1e6)**3 # 2.2 g/cm^3 converted to g/um^3\n",
    "M = 58.4 # g/mol\n",
    "volume = 4./3*np.pi*radius**3 # um^3\n",
    "mass = volume*density # grams\n",
    "n_NaCl = mass/M # moles\n",
    "print n_NaCl, 'moles of NaCl'\n",
    "\n",
    "# Concentration of salt in the QLL layer of a spherical ice crystal \n",
    "radius_ice = 50.0 # um\n",
    "area_ice = 4*np.pi*radius_ice**2 # um^2\n",
    "\n",
    "\n",
    "def getXsolvent(thickness_qll):\n",
    "    volume_qll = area_ice * thickness_qll # um^3\n",
    "    volume_qll_Liters = volume_qll *(10./1e6)**3\n",
    "    conc_qll = n_NaCl/volume_qll_Liters\n",
    "    print conc_qll, 'concentration of NaCl'\n",
    "\n",
    "    # Mole fractio of solute\n",
    "    n_solute = n_NaCl*2\n",
    "    M_H2O = 18 # g/mol\n",
    "    density_H2O = 1.0*(1e2/1e6)**3 # 1.0 g/cm^3 converted to g/um^3\n",
    "    mass_H2O = density_H2O*volume_qll # g\n",
    "    n_H2O = mass_H2O/M_H2O # mol\n",
    "    X_solvent = n_H2O/(n_H2O+n_solute)\n",
    "    X_solute = 1-X_solvent\n",
    "    print X_solvent, 'mole fraction water'\n",
    "    print X_solute, 'mole fraction solute'\n",
    "    return X_solvent\n",
    "\n",
    "Nbar = 1.0\n",
    "Nstar = .9/(2*np.pi)\n",
    "nmpermonolayer = 0.3\n",
    "thickness_I = (Nbar+Nstar)*nmpermonolayer/1e3 # um \n",
    "thickness_II = (Nbar-Nstar)*nmpermonolayer/1e3 \n",
    "XII = getXsolvent(thickness_I)\n",
    "XI = getXsolvent(thickness_II)\n",
    "sigma0 = (XII-XI)/XI\n",
    "print sigma0, 'sigma0'"
   ]
  },
  {
   "cell_type": "code",
   "execution_count": null,
   "metadata": {
    "collapsed": true
   },
   "outputs": [],
   "source": []
  }
 ],
 "metadata": {
  "kernelspec": {
   "display_name": "Python 2",
   "language": "python",
   "name": "python2"
  },
  "language_info": {
   "codemirror_mode": {
    "name": "ipython",
    "version": 2
   },
   "file_extension": ".py",
   "mimetype": "text/x-python",
   "name": "python",
   "nbconvert_exporter": "python",
   "pygments_lexer": "ipython2",
   "version": "2.7.11"
  }
 },
 "nbformat": 4,
 "nbformat_minor": 0
}
