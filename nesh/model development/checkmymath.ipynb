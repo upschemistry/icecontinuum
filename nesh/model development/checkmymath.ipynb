{
 "cells": [
  {
   "cell_type": "code",
   "execution_count": 6,
   "metadata": {
    "collapsed": false
   },
   "outputs": [],
   "source": [
    "from sympy import *\n",
    "init_printing()\n"
   ]
  },
  {
   "cell_type": "code",
   "execution_count": 34,
   "metadata": {
    "collapsed": false
   },
   "outputs": [
    {
     "name": "stdout",
     "output_type": "stream",
     "text": [
      "-sigma0*(sigma_I + 1)/(delta*sigma0 + 1)**2\n"
     ]
    }
   ],
   "source": [
    "sigma_I = symbols('sigma_I')\n",
    "delta = symbols('delta')\n",
    "sigma0 = symbols('sigma0')\n",
    "w = symbols('w')\n",
    "D = symbols('D')\n",
    "f = symbols('f')  # This is Delta_Fliq = d2Fliq_dt2\n",
    "Nstar = symbols('Nstar')\n",
    "nu_kin = symbols('nu_kin')\n",
    "sigma_delta = (sigma_I-delta*sigma0)/(1+delta*sigma0)\n",
    "dsigma_delta_ddelta = diff(sigma_delta,delta)\n",
    "dsigma_delta_ddelta = simplify(dsigma_delta_ddelta)\n",
    "print (dsigma_delta_ddelta)\n",
    "\n",
    "k = D*sigma0*nu_kin/(2*Nstar)"
   ]
  },
  {
   "cell_type": "code",
   "execution_count": 33,
   "metadata": {
    "collapsed": false
   },
   "outputs": [
    {
     "name": "stdout",
     "output_type": "stream",
     "text": [
      "\n",
      " Delta_Ntot:\n",
      "D*f/w**2\n",
      "\n",
      " Delta_delta:\n",
      "D*f/(2*Nstar*w**2)\n",
      "\n",
      " Delta_sigma_delta:\n",
      "-D*f*sigma0*(sigma_I + 1)/(2*Nstar*w**2*(delta*sigma0 + 1)**2)\n",
      "\n",
      " Delta_Ntot:\n",
      "-D*f*nu_kin*sigma0*(sigma_I + 1)/(2*Nstar*w**2*(delta*sigma0 + 1)**2)\n",
      "\n",
      " F:\n",
      "-f*(sigma_I + 1)/(delta*sigma0 + 1)**2\n"
     ]
    }
   ],
   "source": [
    "Delta_Ntot = D/w**2*f\n",
    "print '\\n Delta_Ntot:'; print(Delta_Ntot)\n",
    "\n",
    "Delta_delta = Delta_Ntot/(2*Nstar) # Delta_Fliq/(2*Nstar)\n",
    "print '\\n Delta_delta:'; print(Delta_delta)\n",
    "\n",
    "Delta_sigma_delta = Delta_delta*dsigma_delta_ddelta # Delta_delta *(-sigma0*(1+sigmastepmax)/(1+splinedelta*sigma0)**2) \n",
    "print '\\n Delta_sigma_delta:'; print(Delta_sigma_delta)\n",
    "\n",
    "Delta_Ntot = Delta_sigma_delta*nu_kin # Delta_splinesigmadelta*nu_kin_ml\n",
    "print '\\n Delta_Ntot:'; print(Delta_Ntot)\n",
    "\n",
    "F = Delta_Ntot/k*w**2\n",
    "print '\\n F:'; print(F)"
   ]
  },
  {
   "cell_type": "code",
   "execution_count": null,
   "metadata": {
    "collapsed": true
   },
   "outputs": [],
   "source": []
  }
 ],
 "metadata": {
  "kernelspec": {
   "display_name": "Python 2",
   "language": "python",
   "name": "python2"
  },
  "language_info": {
   "codemirror_mode": {
    "name": "ipython",
    "version": 2
   },
   "file_extension": ".py",
   "mimetype": "text/x-python",
   "name": "python",
   "nbconvert_exporter": "python",
   "pygments_lexer": "ipython2",
   "version": "2.7.11"
  }
 },
 "nbformat": 4,
 "nbformat_minor": 0
}
