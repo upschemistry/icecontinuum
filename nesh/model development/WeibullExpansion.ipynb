{
 "cells": [
  {
   "cell_type": "code",
   "execution_count": 32,
   "id": "08d54954",
   "metadata": {},
   "outputs": [],
   "source": [
    "import sympy as sp\n",
    "import numpy as np\n",
    "from sympy import symbols\n",
    "from sympy import solve, nsolve\n",
    "import matplotlib.pyplot as plt"
   ]
  },
  {
   "cell_type": "code",
   "execution_count": 33,
   "id": "d907231c",
   "metadata": {},
   "outputs": [],
   "source": [
    "def Weibull(Z2,sigma2W,etaW):\n",
    "    # Getting the Weibull distribution\n",
    "    term1 = etaW/(sigma2W)\n",
    "    term2 = (Z2/sigma2W)**(etaW-1)\n",
    "#     term3 = np.exp(-(Z2/sigma2W)**etaW)\n",
    "    term3 = sp.exp(-(Z2/sigma2W)**etaW)\n",
    "    rhoW = term1*term2*term3\n",
    "    #rhoW = etaW/(sigma2W)*(Z2/sigma2W)**(etaW-1)*np.exp(-(Z2/sigma2W)**etaW)\n",
    "    return rhoW\n",
    "\n",
    "def logWeibull(Z2,sigma2W,etaW):\n",
    "    return sp.log(Weibull(Z2,sigma2W,etaW))"
   ]
  },
  {
   "cell_type": "code",
   "execution_count": 34,
   "id": "e70c7c31",
   "metadata": {},
   "outputs": [
    {
     "name": "stdout",
     "output_type": "stream",
     "text": [
      "   ⎛                                  etaW⎞\n",
      "   ⎜                         ⎛   Z₂  ⎞    ⎟\n",
      "   ⎜              etaW - 1  -⎜───────⎟    ⎟\n",
      "   ⎜     ⎛   Z₂  ⎞           ⎝sigma2W⎠    ⎟\n",
      "   ⎜etaW⋅⎜───────⎟        ⋅ℯ              ⎟\n",
      "   ⎜     ⎝sigma2W⎠                        ⎟\n",
      "log⎜──────────────────────────────────────⎟\n",
      "   ⎝               sigma2W                ⎠\n"
     ]
    }
   ],
   "source": [
    "Z2 = symbols('Z2')\n",
    "etaW = symbols('etaW')\n",
    "sigma2W = symbols('sigma2W')\n",
    "myWeibull = Weibull(Z2,sigma2W,etaW)\n",
    "mylogWeibull = logWeibull(Z2,sigma2W,etaW)\n",
    "sp.pprint(mylogWeibull)"
   ]
  },
  {
   "cell_type": "code",
   "execution_count": 35,
   "id": "ae63d0aa",
   "metadata": {},
   "outputs": [],
   "source": [
    "def get_Taylor(sympy_function,x,x0,degree):\n",
    "    i = 0\n",
    "    taylor_exp = sp.Integer(0)\n",
    "    while i <= degree:\n",
    "        taylor_exp = taylor_exp + (sp.diff(sympy_function,x,i).subs(x,x0))/(sp.factorial(i))*(x-x0)**i\n",
    "        i += 1\n",
    "    return(taylor_exp)\n",
    "\n",
    "def get_Taylor_term(sympy_function,x,x0,degree):\n",
    "    i = degree\n",
    "    term = sp.diff(sympy_function,x,i).subs(x,x0)/(sp.factorial(i))\n",
    "    return term"
   ]
  },
  {
   "cell_type": "code",
   "execution_count": 36,
   "id": "6349e2f9",
   "metadata": {},
   "outputs": [
    {
     "name": "stdout",
     "output_type": "stream",
     "text": [
      "x**2/2 + x + 1\n",
      "2.71855367023375\n",
      "2.71855367023375\n",
      "1.35927683511688\n"
     ]
    }
   ],
   "source": [
    "# Testing the code\n",
    "x = symbols('x')\n",
    "myfunc = sp.exp(x)\n",
    "myTaylor = get_Taylor(myfunc,x,0,2); print (myTaylor)\n",
    "for i in range(3):\n",
    "    term = get_Taylor_term(myfunc,x,1.0001,i); print(term)"
   ]
  },
  {
   "cell_type": "code",
   "execution_count": 37,
   "id": "55fb1d3b",
   "metadata": {},
   "outputs": [
    {
     "name": "stdout",
     "output_type": "stream",
     "text": [
      "   ⎛  etaW ⎞    \n",
      "log⎜───────⎟ - 1\n",
      "   ⎝sigma2W⎠    \n"
     ]
    }
   ],
   "source": [
    "term0 = get_Taylor_term(logWeibull(Z2,sigma2W,etaW),Z2,sigma2W,0)\n",
    "term0 = sp.expand(term0)\n",
    "# print(term0)\n",
    "sp.pprint(term0)"
   ]
  },
  {
   "cell_type": "code",
   "execution_count": 38,
   "id": "ac583fb1",
   "metadata": {},
   "outputs": [
    {
     "name": "stdout",
     "output_type": "stream",
     "text": [
      "  -1   \n",
      "───────\n",
      "sigma2W\n"
     ]
    }
   ],
   "source": [
    "term1 = get_Taylor_term(logWeibull(Z2,sigma2W,etaW),Z2,sigma2W,1)\n",
    "term1 = term1.simplify()\n",
    "# print(term1)\n",
    "sp.pprint(term1)"
   ]
  },
  {
   "cell_type": "code",
   "execution_count": 39,
   "id": "c5c2c3b4",
   "metadata": {},
   "outputs": [
    {
     "name": "stdout",
     "output_type": "stream",
     "text": [
      "                               2\n",
      "-2⋅etaW⋅(etaW - 1) + (etaW - 1) \n",
      "────────────────────────────────\n",
      "                    2           \n",
      "           2⋅sigma2W            \n"
     ]
    }
   ],
   "source": [
    "term2 = get_Taylor_term(logWeibull(Z2,sigma2W,etaW),Z2,sigma2W,2)\n",
    "# print(term2)\n",
    "sp.pprint(term2)"
   ]
  },
  {
   "cell_type": "code",
   "execution_count": 40,
   "id": "774fa524",
   "metadata": {},
   "outputs": [
    {
     "name": "stdout",
     "output_type": "stream",
     "text": [
      "First try:\n",
      "                                                                              \n",
      "                                                                              \n",
      "                                                                     ℯ⋅sigma2W\n",
      "   ⎛      -1⎞                 2 ⎛                               2⎞            \n",
      "   ⎜etaW⋅ℯ  ⎟   (Z₂ - sigma2W) ⋅⎝-2⋅etaW⋅(etaW - 1) + (etaW - 1) ⎠            \n",
      "log⎜────────⎟ + ────────────────────────────────────────────────── + ─────────\n",
      "   ⎝sigma2W ⎠                                2                                \n",
      "                                    2⋅sigma2W                                 \n",
      "\n",
      "                ⎛      2  -1                    -1⎞\n",
      "                ⎜  etaW ⋅ℯ     etaW⋅(etaW - 1)⋅ℯ  ⎟\n",
      "⋅(Z₂ - sigma2W)⋅⎜- ───────── + ───────────────────⎟\n",
      "                ⎜          2                2     ⎟\n",
      "                ⎝   sigma2W          sigma2W      ⎠\n",
      "───────────────────────────────────────────────────\n",
      "                   etaW                            \n",
      "                                                   \n",
      "\n",
      "\n",
      " Second try:\n",
      "    2     2         2              2                 2                   \n",
      "  Z₂ ⋅etaW        Z₂        Z₂⋅etaW      2⋅Z₂    etaW       ⎛  etaW ⎞   1\n",
      "- ────────── + ────────── + ──────── - ─────── - ───── + log⎜───────⎟ + ─\n",
      "           2            2   sigma2W    sigma2W     2        ⎝sigma2W⎠   2\n",
      "  2⋅sigma2W    2⋅sigma2W                                                 \n",
      "\n",
      "\n",
      " Third try:\n",
      "  2 ⎛        2⎞                ⎛    2    ⎞          2 ⎛      2        ⎛  etaW \n",
      "Z₂ ⋅⎝1 - etaW ⎠ + 2⋅Z₂⋅sigma2W⋅⎝etaW  - 2⎠ + sigma2W ⋅⎜- etaW  + 2⋅log⎜───────\n",
      "                                                      ⎝               ⎝sigma2W\n",
      "──────────────────────────────────────────────────────────────────────────────\n",
      "                                              2                               \n",
      "                                     2⋅sigma2W                                \n",
      "\n",
      "⎞    ⎞\n",
      "⎟ + 1⎟\n",
      "⎠    ⎠\n",
      "──────\n",
      "      \n",
      "      \n"
     ]
    }
   ],
   "source": [
    "mylogTaylor = get_Taylor(logWeibull(Z2,sigma2W,etaW),Z2,sigma2W,2)\n",
    "print('First try:'); sp.pprint(mylogTaylor)\n",
    "mylogTaylor = sp.expand(mylogTaylor)\n",
    "print('\\n\\n Second try:'); sp.pprint(mylogTaylor)\n",
    "mylogTaylor = sp.simplify(mylogTaylor)\n",
    "print('\\n\\n Third try:'); sp.pprint(mylogTaylor)"
   ]
  },
  {
   "cell_type": "code",
   "execution_count": 41,
   "id": "4dbd6c11",
   "metadata": {},
   "outputs": [
    {
     "name": "stdout",
     "output_type": "stream",
     "text": [
      "First term:\n",
      "      2                   \n",
      "  etaW       ⎛  etaW ⎞   1\n",
      "- ───── + log⎜───────⎟ + ─\n",
      "    2        ⎝sigma2W⎠   2\n",
      "\n",
      "\n",
      " Second term:\n",
      "    2    \n",
      "etaW  - 2\n",
      "─────────\n",
      " sigma2W \n",
      "\n",
      "\n",
      " Third term:\n",
      " ⎛    2    ⎞ \n",
      "-⎝etaW  - 1⎠ \n",
      "─────────────\n",
      "           2 \n",
      "  2⋅sigma2W  \n"
     ]
    }
   ],
   "source": [
    "f_mylogTaylor = lambda Z2, etaW, sigma2W: mylogTaylor\n",
    "term0 = get_Taylor_term(f_mylogTaylor(Z2,sigma2W,etaW),Z2,0,0)\n",
    "print('First term:'); sp.pprint(term0)\n",
    "term1 = get_Taylor_term(f_mylogTaylor(Z2,sigma2W,etaW),Z2,0,1)\n",
    "print('\\n\\n Second term:'); sp.pprint(term1)\n",
    "term2 = get_Taylor_term(f_mylogTaylor(Z2,sigma2W,etaW),Z2,0,2)\n",
    "print('\\n\\n Third term:'); sp.pprint(term2)"
   ]
  },
  {
   "cell_type": "code",
   "execution_count": 42,
   "id": "bb615c21",
   "metadata": {},
   "outputs": [
    {
     "name": "stdout",
     "output_type": "stream",
     "text": [
      "         2                   \n",
      "     etaW       ⎛  etaW ⎞   1\n",
      "-a - ───── + log⎜───────⎟ + ─\n",
      "       2        ⎝sigma2W⎠   2\n",
      "         2    \n",
      "     etaW  - 2\n",
      "-b + ─────────\n",
      "      sigma2W \n",
      "         2     \n",
      "     etaW  - 1 \n",
      "-c - ──────────\n",
      "              2\n",
      "     2⋅sigma2W \n"
     ]
    }
   ],
   "source": [
    "a = symbols('a')\n",
    "b = symbols('b')\n",
    "c = symbols('c')\n",
    "Equation_a = term0-a; sp.pprint(Equation_a)\n",
    "Equation_b = term1-b; sp.pprint(Equation_b)\n",
    "Equation_c = term2-c; sp.pprint(Equation_c)"
   ]
  },
  {
   "cell_type": "markdown",
   "id": "d5f2d669",
   "metadata": {},
   "source": [
    "### Solving Eq. b for $\\sigma_W$ first\n",
    "This works, but it is analytically problematic, as discussed below."
   ]
  },
  {
   "cell_type": "code",
   "execution_count": 43,
   "id": "a74a690e",
   "metadata": {
    "scrolled": false
   },
   "outputs": [
    {
     "name": "stdout",
     "output_type": "stream",
     "text": [
      "    2    \n",
      "etaW  - 2\n",
      "─────────\n",
      "    b    \n"
     ]
    }
   ],
   "source": [
    "# Solve Eq. b for sigma2W\n",
    "temp = solve(Equation_b, sigma2W)\n",
    "sigma2W_from_Equation_b = temp[0]\n",
    "sp.pprint(sigma2W_from_Equation_b)"
   ]
  },
  {
   "cell_type": "code",
   "execution_count": 44,
   "id": "2cb6246a",
   "metadata": {},
   "outputs": [
    {
     "name": "stdout",
     "output_type": "stream",
     "text": [
      "        ___________\n",
      "       ╱         2 \n",
      "      ╱  1 - etaW  \n",
      "√2⋅  ╱   ───────── \n",
      "   ╲╱        c     \n",
      "───────────────────\n",
      "         2         \n"
     ]
    }
   ],
   "source": [
    "# Solve Eq. c for sigma2W\n",
    "temp = solve(Equation_c, sigma2W)\n",
    "sigma2W_from_Equation_c = temp[0]\n",
    "sp.pprint(sigma2W_from_Equation_c)"
   ]
  },
  {
   "cell_type": "code",
   "execution_count": 45,
   "id": "c6c963f0",
   "metadata": {},
   "outputs": [
    {
     "name": "stdout",
     "output_type": "stream",
     "text": [
      "   2 ⎛    2    ⎞    \n",
      "  b ⋅⎝etaW  - 1⎠    \n",
      "- ────────────── - c\n",
      "               2    \n",
      "    ⎛    2    ⎞     \n",
      "  2⋅⎝etaW  - 2⎠     \n",
      "       ____________________________ \n",
      "      ╱             __________      \n",
      "     ╱     2       ╱  2             \n",
      "    ╱     b    b⋅╲╱  b  - 8⋅c       \n",
      "-  ╱    - ── - ─────────────── + 8  \n",
      " ╲╱       c           c             \n",
      "────────────────────────────────────\n",
      "                 2                  \n",
      "      ____________________________\n",
      "     ╱             __________     \n",
      "    ╱     2       ╱  2            \n",
      "   ╱     b    b⋅╲╱  b  - 8⋅c      \n",
      "  ╱    - ── - ─────────────── + 8 \n",
      "╲╱       c           c            \n",
      "──────────────────────────────────\n",
      "                2                 \n",
      "       ____________________________ \n",
      "      ╱             __________      \n",
      "     ╱     2       ╱  2             \n",
      "    ╱     b    b⋅╲╱  b  - 8⋅c       \n",
      "-  ╱    - ── + ─────────────── + 8  \n",
      " ╲╱       c           c             \n",
      "────────────────────────────────────\n",
      "                 2                  \n",
      "      ____________________________\n",
      "     ╱             __________     \n",
      "    ╱     2       ╱  2            \n",
      "   ╱     b    b⋅╲╱  b  - 8⋅c      \n",
      "  ╱    - ── + ─────────────── + 8 \n",
      "╲╱       c           c            \n",
      "──────────────────────────────────\n",
      "                2                 \n",
      "\n",
      "\n",
      " Most likely solution for etaW_solved\n",
      "      ____________________________\n",
      "     ╱             __________     \n",
      "    ╱     2       ╱  2            \n",
      "   ╱     b    b⋅╲╱  b  - 8⋅c      \n",
      "  ╱    - ── - ─────────────── + 8 \n",
      "╲╱       c           c            \n",
      "──────────────────────────────────\n",
      "                2                 \n"
     ]
    }
   ],
   "source": [
    "# Insert Eq. b's sigma2W into Eq. c and solve for etaW\n",
    "Equation_c_after_using_Equation_b = Equation_c.subs(sigma2W,sigma2W_from_Equation_b)\n",
    "sp.pprint(Equation_c_after_using_Equation_b)\n",
    "etaW_solved = solve(Equation_c_after_using_Equation_b,etaW)\n",
    "for possible_etaW_solved in etaW_solved:\n",
    "    sp.pprint(possible_etaW_solved)\n",
    "solution_for_etaW = etaW_solved[1]\n",
    "print('\\n\\n Most likely solution for etaW_solved')\n",
    "sp.pprint(solution_for_etaW)\n",
    "\n",
    "# # Insert Eq. c's sigma2W into Eq. b and solve for etaW\n",
    "# Equation_b_after_using_Equation_c = Equation_b.subs(sigma2W,sigma2W_from_Equation_c)\n",
    "# sp.pprint(Equation_b_after_using_Equation_c)\n",
    "# etaW_solved = solve(Equation_c_after_using_Equation_b,etaW)\n",
    "# # solution_for_etaW = etaW_solved[1]\n",
    "# # print('\\n\\n Most likely solution for etaW_solved')\n",
    "# # sp.pprint(solution_for_etaW)\n",
    "# for possible_etaW_solved in etaW_solved:\n",
    "#     sp.pprint(possible_etaW_solved)"
   ]
  },
  {
   "cell_type": "markdown",
   "id": "101c3760",
   "metadata": {},
   "source": [
    "### Let's see about numerical solutions -- the brute force numerical method"
   ]
  },
  {
   "cell_type": "code",
   "execution_count": 46,
   "id": "a4a28eb4",
   "metadata": {},
   "outputs": [],
   "source": [
    "# # This is for segments3\n",
    "# a_quadratic_optimized = 4.791631591414573\n",
    "# b_quadratic_optimized = -128.84313838805272\n",
    "# c_quadratic_optimized = 868.2373968598321\n",
    "\n",
    "# This is for segments4\n",
    "a_quadratic_optimized = 5.486961758908045\n",
    "b_quadratic_optimized = -379.2366070465658\n",
    "c_quadratic_optimized = 4443.0758460081615"
   ]
  },
  {
   "cell_type": "code",
   "execution_count": 47,
   "id": "84a5b81e",
   "metadata": {},
   "outputs": [
    {
     "name": "stdout",
     "output_type": "stream",
     "text": [
      "                                     ⎛    2    ⎞\n",
      "                    71910.2020620957⋅⎝etaW  - 1⎠\n",
      "-4443.07584600816 - ────────────────────────────\n",
      "                                       2        \n",
      "                            ⎛    2    ⎞         \n",
      "                            ⎝etaW  - 2⎠         \n"
     ]
    },
    {
     "data": {
      "image/png": "[encoded data removed]",
      "text/plain": [
       "<Figure size 640x480 with 1 Axes>"
      ]
     },
     "metadata": {},
     "output_type": "display_data"
    }
   ],
   "source": [
    "subb = Equation_c_after_using_Equation_b.subs(b,b_quadratic_optimized)\n",
    "Equation_c_after_using_Equation_b_numerical = subb.subs(c,c_quadratic_optimized)\n",
    "sp.pprint(Equation_c_after_using_Equation_b_numerical)\n",
    "\n",
    "f_Equation_c_after_using_Equation_b_numerical = \\\n",
    "    lambda dummy: Equation_c_after_using_Equation_b_numerical.subs(etaW,dummy)\n",
    "\n",
    "etaW_numerical_array = np.linspace(.9,1)\n",
    "test = []\n",
    "for etaW_numerical in etaW_numerical_array:\n",
    "    test.append(f_Equation_c_after_using_Equation_b_numerical(etaW_numerical))\n",
    "test = np.array(test)\n",
    "\n",
    "plt.figure()\n",
    "plt.plot(etaW_numerical_array,test)\n",
    "plt.xlabel('etaW')\n",
    "plt.grid(True)"
   ]
  },
  {
   "cell_type": "markdown",
   "id": "cc9e669b",
   "metadata": {},
   "source": [
    "### Now let's try the analytical solution\n",
    "\n",
    "$$\n",
    "\\eta_W = {1\\over2}\\sqrt{{-b^2 \\over c} - {b\\sqrt{b^2 - 8c} \\over c} + 8} \\ \\ \\ \\ (1)\n",
    "$$\n",
    "\n",
    "$$\n",
    "\\sigma_W = \\sqrt{1 - \\eta^2 \\over 2c} \\ \\ \\ \\ (2)\n",
    "$$"
   ]
  },
  {
   "cell_type": "code",
   "execution_count": 48,
   "id": "eda2fce4",
   "metadata": {},
   "outputs": [
    {
     "name": "stdout",
     "output_type": "stream",
     "text": [
      "First solve for etaW:\n",
      "      ____________________________\n",
      "     ╱             __________     \n",
      "    ╱     2       ╱  2            \n",
      "   ╱     b    b⋅╲╱  b  - 8⋅c      \n",
      "  ╱    - ── - ─────────────── + 8 \n",
      "╲╱       c           c            \n",
      "──────────────────────────────────\n",
      "                2                 \n",
      "sqrt(-b**2/c - b*sqrt(b**2 - 8*c)/c + 8)/2\n",
      "\n",
      "\n",
      " From there, we get sigma2W:\n",
      "        ___________\n",
      "       ╱         2 \n",
      "      ╱  1 - etaW  \n",
      "√2⋅  ╱   ───────── \n",
      "   ╲╱        c     \n",
      "───────────────────\n",
      "         2         \n",
      "Then get sigmaW:\n",
      "          ___________\n",
      "         ╱         2 \n",
      " 3/4    ╱  1 - etaW  \n",
      "2   ⋅4 ╱   ───────── \n",
      "     ╲╱        c     \n",
      "─────────────────────\n",
      "          2          \n",
      "2**(3/4)*((1 - etaW**2)/c)**(1/4)/2\n"
     ]
    }
   ],
   "source": [
    "# Here are the results, summarized\n",
    "print('First solve for etaW:')\n",
    "sp.pprint(solution_for_etaW)\n",
    "print(solution_for_etaW)\n",
    "print('\\n\\n From there, we get sigma2W:')\n",
    "sp.pprint(sigma2W_from_Equation_c)\n",
    "print('Then get sigmaW:')\n",
    "sigmaW_from_Equation_c = sp.sqrt(sigma2W_from_Equation_c)\n",
    "sigmaW_from_Equation_c = sp.simplify(sigmaW_from_Equation_c)\n",
    "sp.pprint(sigmaW_from_Equation_c)\n",
    "print(sigmaW_from_Equation_c)"
   ]
  },
  {
   "cell_type": "code",
   "execution_count": 49,
   "id": "0e389b06",
   "metadata": {},
   "outputs": [
    {
     "name": "stdout",
     "output_type": "stream",
     "text": [
      "etaW = 0.963923232658461\n",
      "sigmaW = 0.0531385378399807\n"
     ]
    }
   ],
   "source": [
    "# Get etaW\n",
    "etaW_result = solution_for_etaW.subs({b:b_quadratic_optimized,c:c_quadratic_optimized})\n",
    "print('etaW =', etaW_result)\n",
    "\n",
    "# Get sigmaW\n",
    "sigmaW_result = sigmaW_from_Equation_c.subs({etaW:etaW_result,c:c_quadratic_optimized}).evalf()\n",
    "print('sigmaW =',sigmaW_result)"
   ]
  },
  {
   "cell_type": "markdown",
   "id": "46cae5b8",
   "metadata": {},
   "source": [
    "### Thoughts on this\n",
    "1. The Weibull parameters that result from this process seem quite reasonable. The limit of going from Weibull to Gaussian, $\\eta W → 1$ and $c → 0$, has numerator and denomninator in Eq. 2 both going to zero. It would be preferable to have a formulation that makes this limit more transparent, but when I try solving in the opposite order the $c$ in the denominator is still there. \n",
    "\n",
    "1. The Weibull function using those parameters is a little disappointing: it's not as curved as the polynomial fit, and it doesn't go through experimental points as well as the polynomial fit. So that begs the question, why use Weibull at all? "
   ]
  },
  {
   "cell_type": "markdown",
   "id": "bf1ec4e2",
   "metadata": {},
   "source": [
    "### Solve Eq. 2 for $\\eta_W$ first"
   ]
  },
  {
   "cell_type": "code",
   "execution_count": 50,
   "id": "d35722da",
   "metadata": {},
   "outputs": [
    {
     "name": "stdout",
     "output_type": "stream",
     "text": [
      "  _______________\n",
      "╲╱ b⋅sigma2W + 2 \n",
      "sqrt(b*sigma2W + 2)\n"
     ]
    }
   ],
   "source": [
    "# Solve Eq. b for etaW\n",
    "temp = solve(Equation_b, etaW)\n",
    "etaW_from_Equation_b = temp[1]\n",
    "sp.pprint(etaW_from_Equation_b)\n",
    "print(etaW_from_Equation_b)"
   ]
  },
  {
   "cell_type": "code",
   "execution_count": 51,
   "id": "2802a4a4",
   "metadata": {},
   "outputs": [
    {
     "name": "stdout",
     "output_type": "stream",
     "text": [
      "   ____________________\n",
      "  ╱              2     \n",
      "╲╱  - 2⋅c⋅sigma2W  + 1 \n"
     ]
    }
   ],
   "source": [
    "# Solve Eq. c for etaW\n",
    "temp = solve(Equation_c, etaW)\n",
    "etaW_from_Equation_c = temp[1]\n",
    "sp.pprint(etaW_from_Equation_c)"
   ]
  },
  {
   "cell_type": "code",
   "execution_count": 58,
   "id": "4c9a0fca",
   "metadata": {},
   "outputs": [
    {
     "name": "stdout",
     "output_type": "stream",
     "text": [
      "         2     \n",
      "     etaW  - 1 \n",
      "-c - ──────────\n",
      "              2\n",
      "     2⋅sigma2W \n",
      "\n",
      "\n",
      "     b⋅sigma2W + 1\n",
      "-c - ─────────────\n",
      "                2 \n",
      "       2⋅sigma2W  \n",
      "\n",
      " possible solutions:\n",
      "        __________\n",
      "       ╱  2       \n",
      "-b - ╲╱  b  - 8⋅c \n",
      "──────────────────\n",
      "       4⋅c        \n",
      "        __________\n",
      "       ╱  2       \n",
      "-b + ╲╱  b  - 8⋅c \n",
      "──────────────────\n",
      "       4⋅c        \n",
      "\n",
      "\n",
      " Most likely solution for sigma2W_solved\n",
      "        __________\n",
      "       ╱  2       \n",
      "-b - ╲╱  b  - 8⋅c \n",
      "──────────────────\n",
      "       4⋅c        \n",
      "(-b - sqrt(b**2 - 8*c))/(4*c)\n"
     ]
    }
   ],
   "source": [
    "# Insert Eq. b's etaW into Eq. c and solve for sigma2W\n",
    "sp.pprint(Equation_c); print('\\n')\n",
    "Equation_c_after_using_Equation_b = Equation_c.subs(etaW,etaW_from_Equation_b)\n",
    "sp.pprint(Equation_c_after_using_Equation_b)\n",
    "sigma2W_solved = solve(Equation_c_after_using_Equation_b,sigma2W)\n",
    "print('\\n possible solutions:')\n",
    "for possible_sigma2W_solved in sigma2W_solved:\n",
    "    sp.pprint(possible_sigma2W_solved)\n",
    "solution_for_sigma2W = sigma2W_solved[0]\n",
    "print('\\n\\n Most likely solution for sigma2W_solved')\n",
    "sp.pprint(solution_for_sigma2W)\n",
    "print(solution_for_sigma2W)\n",
    "\n",
    "    \n",
    "# # Insert Eq. c's etaW into Eq. b and solve for sigma2W\n",
    "# sp.pprint(Equation_b); print('\\n')\n",
    "# Equation_b_after_using_Equation_c = Equation_b.subs(etaW,etaW_from_Equation_c)\n",
    "# sp.pprint(Equation_b_after_using_Equation_c)\n",
    "# sigma2W_solved = solve(Equation_b_after_using_Equation_c,sigma2W)\n",
    "# print('\\n possible solutions:')\n",
    "# for possible_sigma2W_solved in sigma2W_solved:\n",
    "#     sp.pprint(possible_sigma2W_solved)"
   ]
  },
  {
   "cell_type": "markdown",
   "id": "d2e4a20c",
   "metadata": {},
   "source": [
    "### Summary\n",
    "These are alternatives to Eqs. 1 and 2:\n",
    "$$\n",
    "\\sigma_W^2 = -{b+\\sqrt{b^2-8c} \\over 4c} \\ \\ \\ \\ (3)\n",
    "$$\n",
    "\n",
    "$$\n",
    "\\eta_W = \\sqrt{1-2c\\sigma_W^4} \\ \\ \\ \\ (4)\n",
    "$$\n",
    "\n",
    "Eq. 3 $\\sigma_W^2$ still has a $c$ in the denominator, but at least now it's clear how to do the limit when $c → 0$. Equation 4 will give $\\eta_W=0$. For Eq. 3, we can do a taylor expansion of the square root:\n",
    "\n",
    "$$\n",
    "\\sigma_W^2 = -{b+|b|\\sqrt{1-{8c \\over b^2}} \\over 4c} \\approx -{b+|b|(1-{4c \\over b^2}) \\over 4c} = -{1 \\over b} \\ \\ \\ \\ (3)\n",
    "$$\n",
    "\n",
    "where the last equality follows when $b<0$ (as is expected and observed)."
   ]
  },
  {
   "cell_type": "code",
   "execution_count": 59,
   "id": "554cf5c5",
   "metadata": {},
   "outputs": [
    {
     "name": "stdout",
     "output_type": "stream",
     "text": [
      "sigma2W = 0.00282370420377106\n",
      "sigmaW = 0.0531385378399807\n",
      "etaW = 0.963923232658461\n",
      "etaW = 0.963923232658461\n"
     ]
    }
   ],
   "source": [
    "# Get sigmaW\n",
    "sigma2W_result = solution_for_sigma2W.subs({b:b_quadratic_optimized,c:c_quadratic_optimized}).evalf()\n",
    "print('sigma2W =',sigma2W_result)\n",
    "print('sigmaW =',sigma2W_result**.5)\n",
    "\n",
    "# Get etaW\n",
    "etaW_result = etaW_from_Equation_c.subs({c:c_quadratic_optimized,sigma2W:sigma2W_result})\n",
    "print('etaW =', etaW_result)\n",
    "\n",
    "# Get etaW\n",
    "etaW_result = etaW_from_Equation_b.subs({b:b_quadratic_optimized,sigma2W:sigma2W_result})\n",
    "print('etaW =', etaW_result)"
   ]
  },
  {
   "cell_type": "markdown",
   "id": "b4249aff",
   "metadata": {},
   "source": [
    "### Here we're trying to get the normalization factor for the Q probability density\n",
    "\n",
    "We're defining the Q probability density as \n",
    "\n",
    "$$\n",
    "\\rho_Q = e^{a+bZ^2+cZ^4} \\ \\ \\ \\ (4)\n",
    "$$\n",
    "\n",
    "If we use the substitutions\n",
    "\n",
    "$$\n",
    "    \\sigma^2_Q = -1/b \\ \\ \\ \\ (5)\n",
    "$$\n",
    "\n",
    "$$\n",
    "    \\eta_Q = (1-{2c \\over b^2})^{1 \\over 2} \\ \\ \\ \\ (6)\n",
    "$$\n",
    "\n",
    "$$\n",
    "    N_Q = e^a \\ \\ \\ \\ (7)\n",
    "$$\n",
    "\n",
    "Then we can write Eq. 4 as \n",
    "\n",
    "$$\n",
    "\\rho_Q = N_Q e^{-Z^2/\\sigma^2_Q}e^{{}Z^4({1-\\eta_Q^2 \\over 2 \\sigma_Q^4})} \\ \\ \\ \\ (8)\n",
    "$$"
   ]
  },
  {
   "cell_type": "code",
   "execution_count": 74,
   "id": "4035e956",
   "metadata": {
    "scrolled": false
   },
   "outputs": [],
   "source": [
    "sigma2Q = sp.symbols('sigma2Q')\n",
    "etaQ = sp.symbols('etaQ')\n",
    "b = sp.symbols('b',real=True, negative=True)\n",
    "c = sp.symbols('c', real=True)\n",
    "# rhoQ = sp.exp(-Z2/sigma2Q + Z2**2*(1-etaQ**2)/(2*sigma2Q**2))\n",
    "# sp.pprint(rhoQ)\n",
    "# NQ = 1/sp.integrate(rhoQ, (Z2, 0, 'oo'))\n",
    "# sp.pprint(NQ)\n",
    "\n",
    "\n",
    "rhoQ = sp.exp(-b*Z2 + Z2**2*c)"
   ]
  },
  {
   "cell_type": "code",
   "execution_count": null,
   "id": "e6ff9bad",
   "metadata": {},
   "outputs": [],
   "source": []
  }
 ],
 "metadata": {
  "kernelspec": {
   "display_name": "Python 3 (ipykernel)",
   "language": "python",
   "name": "python3"
  },
  "language_info": {
   "codemirror_mode": {
    "name": "ipython",
    "version": 3
   },
   "file_extension": ".py",
   "mimetype": "text/x-python",
   "name": "python",
   "nbconvert_exporter": "python",
   "pygments_lexer": "ipython3",
   "version": "3.10.9"
  }
 },
 "nbformat": 4,
 "nbformat_minor": 5
}
