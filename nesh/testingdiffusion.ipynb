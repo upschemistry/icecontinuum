{
 "cells": [
  {
   "cell_type": "code",
   "execution_count": 1,
   "id": "e002d112",
   "metadata": {},
   "outputs": [],
   "source": [
    "import numpy as np"
   ]
  },
  {
   "cell_type": "code",
   "execution_count": 23,
   "id": "a0aab731",
   "metadata": {},
   "outputs": [
    {
     "name": "stdout",
     "output_type": "stream",
     "text": [
      "5\n",
      "3\n",
      "[[2. 1. 1. 1. 1.]\n",
      " [2. 1. 1. 1. 1.]\n",
      " [2. 1. 1. 1. 1.]]\n",
      "18.0\n",
      "[[-0.2  0.1  0.   0.   0.1]\n",
      " [-0.2  0.1  0.   0.   0.1]\n",
      " [-0.2  0.1  0.   0.   0.1]]\n",
      "[[1.8 1.1 1.  1.  1.1]\n",
      " [1.8 1.1 1.  1.  1.1]\n",
      " [1.8 1.1 1.  1.  1.1]]\n",
      "18.0\n"
     ]
    }
   ],
   "source": [
    "nx = 5\n",
    "ny = 3\n",
    "Fliq0 = np.ones([nx,ny])\n",
    "m,n = np.shape(Fliq0)\n",
    "print(m)\n",
    "print(n)\n",
    "\n",
    "Fliq0[0,:] = 2\n",
    "# Fliq0[-1,:] = 2\n",
    "print(Fliq0.T)\n",
    "print(np.sum(Fliq0))\n",
    "\n",
    "dy = np.zeros((m,n)) \n",
    "D = .1\n",
    "for i in range(0,m): #go from left column to right\n",
    "    for j in range(0,n): #go from top row to bottom\n",
    "\n",
    "            ip1=i+1\n",
    "            jp1=j+1\n",
    "            # Boundary Conditions (periodic at ends) #TODO: test this\n",
    "           \n",
    "            if i == m-1: #take care of right column condition wrapping to left edge\n",
    "                ip1 = 0\n",
    "\n",
    "            if j == n-1: #take care of bottom edge wrapping to top edge\n",
    "                jp1 = 0\n",
    "\n",
    "            ux = (Fliq0[ip1,j] - 2*Fliq0[i,j] + Fliq0[i-1,j])\n",
    "            uy = (Fliq0[i,jp1] - 2*Fliq0[i,j] + Fliq0[i,j-1])\n",
    "\n",
    "#             dy[i,j] = D*(ux+uy)\n",
    "            dy[i,j] = D*ux\n",
    "print(dy.T)\n",
    "Fliq0 += dy\n",
    "print(Fliq0.T)\n",
    "print(np.sum(Fliq0))"
   ]
  },
  {
   "cell_type": "code",
   "execution_count": null,
   "id": "e5b3ea3a",
   "metadata": {},
   "outputs": [],
   "source": []
  }
 ],
 "metadata": {
  "kernelspec": {
   "display_name": "Python 3 (ipykernel)",
   "language": "python",
   "name": "python3"
  },
  "language_info": {
   "codemirror_mode": {
    "name": "ipython",
    "version": 3
   },
   "file_extension": ".py",
   "mimetype": "text/x-python",
   "name": "python",
   "nbconvert_exporter": "python",
   "pygments_lexer": "ipython3",
   "version": "3.9.7"
  }
 },
 "nbformat": 4,
 "nbformat_minor": 5
}
