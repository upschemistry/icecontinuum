{
 "cells": [
  {
   "cell_type": "code",
   "execution_count": 1,
   "id": "416c891d",
   "metadata": {},
   "outputs": [],
   "source": [
    "import numpy as np"
   ]
  },
  {
   "cell_type": "code",
   "execution_count": 1,
   "id": "ef7b2291",
   "metadata": {},
   "outputs": [],
   "source": [
    "import numpy\n",
    "from stl import mesh"
   ]
  },
  {
   "cell_type": "code",
   "execution_count": 2,
   "id": "57e45c03",
   "metadata": {},
   "outputs": [],
   "source": [
    "import stl"
   ]
  }
 ],
 "metadata": {
  "kernelspec": {
   "display_name": "Python 3 (ipykernel)",
   "language": "python",
   "name": "python3"
  },
  "language_info": {
   "codemirror_mode": {
    "name": "ipython",
    "version": 3
   },
   "file_extension": ".py",
   "mimetype": "text/x-python",
   "name": "python",
   "nbconvert_exporter": "python",
   "pygments_lexer": "ipython3",
   "version": "3.9.7"
  }
 },
 "nbformat": 4,
 "nbformat_minor": 5
}
