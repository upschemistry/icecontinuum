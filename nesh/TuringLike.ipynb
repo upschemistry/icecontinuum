{
 "cells": [
  {
   "cell_type": "code",
   "execution_count": 1,
   "id": "9cfc80b1",
   "metadata": {},
   "outputs": [],
   "source": [
    "import numpy as np\n",
    "from matplotlib import pyplot as plt\n",
    "from pint import UnitRegistry; AQ = UnitRegistry().Quantity\n",
    "from scipy import optimize"
   ]
  },
  {
   "cell_type": "code",
   "execution_count": 2,
   "id": "6efcc386",
   "metadata": {},
   "outputs": [],
   "source": [
    "%matplotlib inline"
   ]
  },
  {
   "cell_type": "markdown",
   "id": "f842d036",
   "metadata": {},
   "source": [
    "### First, let's reproduce what's in Fig. 11 of the paper\n",
    "Need to do this because there are ambiguities in the paper:\n",
    "- is $c_r$ in %, or a fraction? (Answer: the latter)\n",
    "- is $\\nu_{kin}$ in $\\mu m \\over sec$ or $layers \\over \\mu s$? (Answer: the latter)"
   ]
  },
  {
   "cell_type": "code",
   "execution_count": 3,
   "id": "ace7b3b1",
   "metadata": {},
   "outputs": [
    {
     "name": "stdout",
     "output_type": "stream",
     "text": [
      "nu_kin 49 micrometer / second\n",
      "nu_kin_ml 0.1633333333333333 / microsecond\n",
      "cr 0.0025 dimensionless\n",
      "D 0.0002 micrometer ** 2 / microsecond\n",
      "L 25 micrometer\n",
      "xfactor 2077.8579213862818 dimensionless\n",
      "NSS 8.510216387742961 dimensionless\n"
     ]
    }
   ],
   "source": [
    "nu_kin = AQ(49,'micrometer/second'); print('nu_kin',nu_kin)\n",
    "layer_thicknesss = AQ(0.3,'nanometer')\n",
    "nu_kin_ml = nu_kin/layer_thicknesss; \n",
    "nu_kin_ml.ito('1/microsecond')\n",
    "print('nu_kin_ml',nu_kin_ml)\n",
    "cr = AQ(0.0025,'dimensionless'); print('cr',cr) # center reduction is in fraction\n",
    "D = AQ(2e-4,'micrometer**2/microsecond'); print('D',D)\n",
    "L = AQ(25,'micrometer'); print('L',L)\n",
    "beta = AQ(0.65,'dimensionless')\n",
    "sigmaI = AQ(0.2,'dimensionless')\n",
    "xfactor = nu_kin_ml*L**2*cr**beta*sigmaI/D\n",
    "print('xfactor',xfactor)\n",
    "M = AQ(.0027,'dimensionless')\n",
    "B = AQ(2.9,'dimensionless')\n",
    "NSS = M*xfactor + B\n",
    "print('NSS',NSS)"
   ]
  },
  {
   "cell_type": "markdown",
   "id": "5429def4",
   "metadata": {},
   "source": [
    "### Now, the characteristic wavelength \n",
    "This is just $L  \\over N_{SS}$. Analyically, expanding $N_{SS}$ gives\n",
    "\n",
    "$$\n",
    "\\lambda = {L \\over Mx+B} = {L \\over M\\nu_{kin} L^ 2 c_r^\\beta \\sigma_I/D+B} \\ \\ \\ \\ (1)\n",
    "$$\n",
    "\n",
    "or, defining a wavenumber $k ≡ {1 \\over \\lambda}$,\n",
    "\n",
    "$$\n",
    "k = {M\\nu_{kin} L^ 2 c_r^\\beta \\sigma_I/D+B \\over L} = {M\\nu_{kin} L c_r^\\beta \\sigma_I \\over D} + {B \\over L} \\ \\ \\ \\ (2)\n",
    "$$"
   ]
  },
  {
   "cell_type": "code",
   "execution_count": 4,
   "id": "d19064e7",
   "metadata": {},
   "outputs": [
    {
     "name": "stdout",
     "output_type": "stream",
     "text": [
      "lambda 2.937645632137725 micrometer\n",
      "kval 0.34040865550971844 / micrometer\n",
      "Just checking ... lambda =  2.937645632137725 micrometer\n"
     ]
    }
   ],
   "source": [
    "# Solve for the characteristic wavelength\n",
    "def getlamb(L,nu_kin_ml,cr,sigmaI,D,M,B):\n",
    "    term1 = M*nu_kin_ml*L**2*cr**beta*sigmaI/D\n",
    "    lamb = L/(term1+B)\n",
    "    return lamb\n",
    "\n",
    "lamb = getlamb(L,nu_kin_ml,cr,sigmaI,D,M,B)\n",
    "print('lambda',lamb)\n",
    "print('kval',1/lamb)\n",
    "print('Just checking ... lambda = ', L/NSS)"
   ]
  },
  {
   "cell_type": "markdown",
   "id": "33072710",
   "metadata": {},
   "source": [
    "### Observations regarding Eq. 2\n",
    "1. As the temperature goes up, both $\\nu_{kin}$ and $D$ go up, so the effect on $k$ isn't obvious.\n",
    "1. As the crystal gets bigger, the larger value of $L$ will tend to make the first term bigger, but the second term smaller. For these parameters, the former wins, and $k$ is bigger for larger crystals. \n",
    "1. We can also see that higher values of $\\sigma_I$ (so faster-growing crystals), or bigger $c_r$ (probably associated with bigger crystals),  also give rise to bigger $k$."
   ]
  },
  {
   "cell_type": "markdown",
   "id": "7023c9e1",
   "metadata": {},
   "source": [
    "### Connection to Turing?\n",
    "According to Turing theory, \n",
    "\n",
    "$$\n",
    "\\lambda \\approx (2 \\pi \\tau D)^{1 \\over 2} \\ \\ \\ \\ (3)\n",
    "$$\n",
    "\n",
    "where $\\tau$ is a \"characteristic period of oscillation\" (see, e.g., https://pubs.aip.org/aip/jcp/article-abstract/102/6/2551/481538/Dependence-of-Turing-pattern-wavelength-on?redirectedFrom=fulltext). Is it true here?\n",
    "\n",
    "Well try something close to the above, but with an offset:\n",
    "\n",
    "$$\n",
    "\\lambda \\approx (2 \\pi \\tau D)^{1 \\over 2} + b \\ \\ \\ \\ (4)\n",
    "$$\n"
   ]
  },
  {
   "cell_type": "code",
   "execution_count": 5,
   "id": "db61fcb8",
   "metadata": {},
   "outputs": [],
   "source": [
    "# First generate some \"experimental\" data based on Eq. 1\n",
    "Darray = np.linspace(D/2,D*2,10)\n",
    "lambarray = getlamb(L,nu_kin_ml,cr,sigmaI,Darray,M,B)"
   ]
  },
  {
   "cell_type": "code",
   "execution_count": 6,
   "id": "4b0c3def",
   "metadata": {},
   "outputs": [
    {
     "name": "stdout",
     "output_type": "stream",
     "text": [
      "tau_bestfit 10928.914756308775 microsecond\n",
      "b_bestfit -0.7994434944270004 micrometer\n"
     ]
    },
    {
     "name": "stderr",
     "output_type": "stream",
     "text": [
      "/Users/nesh/anaconda3/lib/python3.10/site-packages/matplotlib/cbook/__init__.py:1335: UnitStrippedWarning: The unit of the quantity is stripped when downcasting to ndarray.\n",
      "  return np.asarray(x, float)\n"
     ]
    },
    {
     "data": {
      "text/plain": [
       "<matplotlib.legend.Legend at 0x1445032e0>"
      ]
     },
     "execution_count": 6,
     "metadata": {},
     "output_type": "execute_result"
    },
    {
     "data": {
      "image/png": "[encoded data removed]",
      "text/plain": [
       "<Figure size 640x480 with 1 Axes>"
      ]
     },
     "metadata": {},
     "output_type": "display_data"
    }
   ],
   "source": [
    "# Define a function corresponding to Eq. 4\n",
    "def Eq4(D, tau, b):\n",
    "    return (2*np.pi*tau*D)**.5+b\n",
    "\n",
    "# Find best values for tau and b\n",
    "params, params_covariance = optimize.curve_fit(Eq4, Darray.magnitude, lambarray.magnitude)  #subroutine to curve fit\n",
    "tau_bestfit = AQ(params[0],'microsecond')\n",
    "b_bestfit = AQ(params[1],'micrometer')\n",
    "print('tau_bestfit',tau_bestfit)  \n",
    "print('b_bestfit',b_bestfit)\n",
    "\n",
    "# Generate values according to this theory\n",
    "lambarray_theory = Eq4(Darray, tau_bestfit, b_bestfit)\n",
    "\n",
    "# Plot\n",
    "plt.figure()\n",
    "plt.plot(Darray,lambarray,'o',label='From Eq. 1')\n",
    "plt.plot(Darray,lambarray_theory,label='From Eq. 4')\n",
    "plt.grid(True)\n",
    "plt.xlabel('D')\n",
    "plt.ylabel('lambda (micrometers)')\n",
    "plt.legend()"
   ]
  },
  {
   "cell_type": "markdown",
   "id": "538bd1cc",
   "metadata": {},
   "source": [
    "### So what about that $\\tau$?\n",
    "What happens every $10,000 \\ \\mu s$?"
   ]
  },
  {
   "cell_type": "code",
   "execution_count": 10,
   "id": "648fbfc1",
   "metadata": {},
   "outputs": [
    {
     "name": "stdout",
     "output_type": "stream",
     "text": [
      "Growth rate 0.006166666666666666 / microsecond\n",
      "Time to grow 1 layer = 162.1621621621622 microsecond\n",
      "Time to reach steady state = 56756.75675675677 microsecond\n",
      "Time to increment 1 toward NSS = 6669.249543231594 microsecond\n",
      "Time to increment last one toward NSS = 11351.351351351354 microsecond\n"
     ]
    }
   ],
   "source": [
    "# According to the paper, the time to grow a layer of ice\n",
    "growthrate = AQ(1.85,'micrometers/second') # From Table 3 in the paper\n",
    "growthrate /= layer_thicknesss\n",
    "growthrate.ito('1/microsecond')\n",
    "print('Growth rate',growthrate)\n",
    "taulayer = 1/growthrate\n",
    "print('Time to grow 1 layer =', taulayer)\n",
    "\n",
    "# According to the paper, the time to reach steady-state\n",
    "layers_to_steady_state = 350 # From Fig. 10 in the paper\n",
    "time_to_steady_state = layers_to_steady_state * taulayer\n",
    "print('Time to reach steady state =', time_to_steady_state)\n",
    "\n",
    "# According to the paper, the average time to increment the number of steps (corner - center)\n",
    "time_to_increment_1_toward_NSS = time_to_steady_state/NSS\n",
    "print('Time to increment 1 toward NSS =',time_to_increment_1_toward_NSS)\n",
    "\n",
    "# According to the paper, the time to increment the last number of steps (corner - center)\n",
    "time_to_increment_last_1_before_NSS = 70*taulayer # From Fig. 10 in the paper\n",
    "print('Time to increment last one toward NSS =',time_to_increment_last_1_before_NSS)"
   ]
  },
  {
   "cell_type": "markdown",
   "id": "8ebfbfe5",
   "metadata": {},
   "source": [
    "So ... the closest to $\\tau$ we come to here is the time required to increment 1 toward $N_{SS}$ -- i.e., the time to add the last layer difference between the center and the corner, before reaching steady stat. Hard to see how that could be construed as a \"characteristic oscillation,\" however."
   ]
  },
  {
   "cell_type": "markdown",
   "id": "89c6de04",
   "metadata": {},
   "source": [
    "### An alternative to Eq. 4 here"
   ]
  },
  {
   "cell_type": "code",
   "execution_count": 8,
   "id": "62a585f8",
   "metadata": {},
   "outputs": [],
   "source": [
    "# # Do a curve-fit to that form\n",
    "# p = np.polyfit(Darray.magnitude,lambarray.magnitude**2,1)\n",
    "# m = p[0]; print('m =',m)\n",
    "# b = p[1]; print('b =',b)\n",
    "\n",
    "# lambarray_theory1 = (m*Darray.magnitude+b)**(1/2)\n",
    "# lambarray_theory2 = (m*Darray.magnitude)**(1/2)\n",
    "\n",
    "# plt.figure()\n",
    "# plt.plot(Darray,lambarray,'o',label='From Eq. 1')\n",
    "# plt.plot(Darray,lambarray_theory1,label='(m*D+b)^(1/2)')\n",
    "# plt.plot(Darray,lambarray_theory2,label='(m*D)^(1/2)')\n",
    "# plt.grid(True)\n",
    "# plt.xlabel('D')\n",
    "# plt.ylabel('lambda (micrometers)')\n",
    "# plt.legend()\n",
    "# tau = m/(2*np.pi); print('tau =', tau)"
   ]
  }
 ],
 "metadata": {
  "kernelspec": {
   "display_name": "Python 3 (ipykernel)",
   "language": "python",
   "name": "python3"
  },
  "language_info": {
   "codemirror_mode": {
    "name": "ipython",
    "version": 3
   },
   "file_extension": ".py",
   "mimetype": "text/x-python",
   "name": "python",
   "nbconvert_exporter": "python",
   "pygments_lexer": "ipython3",
   "version": "3.10.9"
  }
 },
 "nbformat": 4,
 "nbformat_minor": 5
}
