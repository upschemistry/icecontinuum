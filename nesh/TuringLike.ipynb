{
 "cells": [
  {
   "cell_type": "code",
   "execution_count": 1,
   "id": "9cfc80b1",
   "metadata": {},
   "outputs": [],
   "source": [
    "import numpy as np\n",
    "from matplotlib import pyplot as plt\n",
    "from pint import UnitRegistry; AQ = UnitRegistry().Quantity"
   ]
  },
  {
   "cell_type": "code",
   "execution_count": 2,
   "id": "6efcc386",
   "metadata": {},
   "outputs": [],
   "source": [
    "%matplotlib inline"
   ]
  },
  {
   "cell_type": "markdown",
   "id": "f842d036",
   "metadata": {},
   "source": [
    "### First, let's reproduce what's in Fig. 11 of the paper\n",
    "Need to do this because there are ambiguities in the paper:\n",
    "- is $c_r$ in %, or a fraction? (Answer: the latter)\n",
    "- is $\\nu_{kin}$ in $\\mu m \\over sec$ or $layers \\over \\mu s$? (Answer: the latter)"
   ]
  },
  {
   "cell_type": "code",
   "execution_count": 3,
   "id": "ace7b3b1",
   "metadata": {},
   "outputs": [
    {
     "name": "stdout",
     "output_type": "stream",
     "text": [
      "nu_kin 49 micrometer / second\n",
      "nu_kin_ml 0.1633333333333333 / microsecond\n",
      "cr 0.0025 dimensionless\n",
      "D 0.0002 micrometer ** 2 / microsecond\n",
      "L 25 micrometer\n",
      "xfactor 2077.8579213862818 dimensionless\n",
      "NSS 8.510216387742961 dimensionless\n"
     ]
    }
   ],
   "source": [
    "nu_kin = AQ(49,'micrometer/second'); print('nu_kin',nu_kin)\n",
    "layer_thicknesss = AQ(0.3,'nanometer')\n",
    "nu_kin_ml = nu_kin/layer_thicknesss; \n",
    "nu_kin_ml.ito('1/microsecond')\n",
    "print('nu_kin_ml',nu_kin_ml)\n",
    "cr = AQ(0.0025,'dimensionless'); print('cr',cr) # center reduction is in fraction\n",
    "D = AQ(2e-4,'micrometer**2/microsecond'); print('D',D)\n",
    "L = AQ(25,'micrometer'); print('L',L)\n",
    "beta = AQ(0.65,'dimensionless')\n",
    "sigmaI = AQ(0.2,'dimensionless')\n",
    "xfactor = nu_kin_ml*L**2*cr**beta*sigmaI/D\n",
    "print('xfactor',xfactor)\n",
    "M = AQ(.0027,'dimensionless')\n",
    "B = AQ(2.9,'dimensionless')\n",
    "NSS = M*xfactor + B\n",
    "print('NSS',NSS)"
   ]
  },
  {
   "cell_type": "markdown",
   "id": "5429def4",
   "metadata": {},
   "source": [
    "### Now, the characteristic wavelength \n",
    "This is just $L  \\over N_{SS}$. Analyically, expanding $N_{SS}$ gives\n",
    "\n",
    "$$\n",
    "\\lambda = {L \\over Mx+B} = {L \\over M\\nu_{kin} L^ 2 c_r^\\beta \\sigma_I/D+B}\n",
    "$$\n",
    "\n",
    "or, defining a wavenumber $k ≡ {1 \\over \\lambda}$,\n",
    "\n",
    "$$\n",
    "k = {M\\nu_{kin} L^ 2 c_r^\\beta \\sigma_I/D+B \\over L} = {M\\nu_{kin} L c_r^\\beta \\sigma_I \\over D} + {B \\over L}\n",
    "$$"
   ]
  },
  {
   "cell_type": "code",
   "execution_count": 11,
   "id": "d19064e7",
   "metadata": {},
   "outputs": [
    {
     "name": "stdout",
     "output_type": "stream",
     "text": [
      "lambda 1.9730975605165335 micrometer\n",
      "kval 0.5068173110194368 / micrometer\n",
      "Just checking ... lambda =  2.937645632137725 micrometer\n"
     ]
    }
   ],
   "source": [
    "# Solve for the characteristic wavelength\n",
    "def getlamb(L,nu_kin_ml,cr,sigmaI,D,M,B):\n",
    "    term1 = M*nu_kin_ml*L**2*cr**beta*sigmaI/D; #print('term1',term1)\n",
    "    #print('B',B)\n",
    "    lamb = L/(term1+B)\n",
    "    return lamb\n",
    "\n",
    "lamb = getlamb(L,nu_kin_ml,cr,sigmaI,D,M,B)\n",
    "print('lambda',lamb)\n",
    "print('kval',1/lamb)\n",
    "\n",
    "print('Just checking ... lambda = ', L/NSS)"
   ]
  },
  {
   "cell_type": "markdown",
   "id": "7023c9e1",
   "metadata": {},
   "source": [
    "### Observations\n",
    "1. As the temperature goes up, both $\\nu_{kin}$ and $D$ go up, so the effect on $k$ isn't obvious.\n",
    "1. As the crystal gets bigger, the larger value of $L$ will tend to make the first term bigger, but the second term smaller -- so it's not clear here either. (In this case, the former wins, and $k$ is bigger for larger crystals.) We could also expect that bigger crystals will have bigger $c_r$, so bigger $k$.\n",
    "1. At higher supersaturations, $\\sigma_I$ is bigger, so bigger $k$.\n"
   ]
  },
  {
   "cell_type": "code",
   "execution_count": null,
   "id": "62a585f8",
   "metadata": {},
   "outputs": [],
   "source": []
  }
 ],
 "metadata": {
  "kernelspec": {
   "display_name": "Python 3 (ipykernel)",
   "language": "python",
   "name": "python3"
  },
  "language_info": {
   "codemirror_mode": {
    "name": "ipython",
    "version": 3
   },
   "file_extension": ".py",
   "mimetype": "text/x-python",
   "name": "python",
   "nbconvert_exporter": "python",
   "pygments_lexer": "ipython3",
   "version": "3.10.9"
  }
 },
 "nbformat": 4,
 "nbformat_minor": 5
}
