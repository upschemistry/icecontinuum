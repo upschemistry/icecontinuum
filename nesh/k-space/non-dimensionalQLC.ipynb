{
 "cells": [
  {
   "cell_type": "markdown",
   "id": "dc55ffd3",
   "metadata": {},
   "source": [
    "### Import the symbolic toolbox"
   ]
  },
  {
   "cell_type": "code",
   "execution_count": 1,
   "id": "dfcbf11d",
   "metadata": {},
   "outputs": [],
   "source": [
    "from sympy import *\n",
    "from IPython.display import display\n",
    "import numpy as np"
   ]
  },
  {
   "cell_type": "markdown",
   "id": "068a7a9f",
   "metadata": {},
   "source": [
    "### Defining some variables and parameters as symbolic objects"
   ]
  },
  {
   "cell_type": "code",
   "execution_count": 2,
   "id": "101ffc03",
   "metadata": {},
   "outputs": [],
   "source": [
    "x = Symbol('x')\n",
    "t = Symbol('t')\n",
    "x0 = Symbol('x0')\n",
    "t0 = Symbol('t0')\n",
    "D_QLL = Symbol('D_QLL', positive=True)\n",
    "nu_kin = Symbol('nu_kin')\n",
    "t_eq = Symbol('t_eq')\n",
    "sigma_m = Symbol('sigma_m')\n",
    "omega_kin = Symbol('omega_kin')"
   ]
  },
  {
   "cell_type": "markdown",
   "id": "f43fb7f3",
   "metadata": {},
   "source": [
    "### The usual formulation of the QLC"
   ]
  },
  {
   "cell_type": "code",
   "execution_count": 3,
   "id": "50fa5d74",
   "metadata": {},
   "outputs": [
    {
     "data": {
      "text/latex": [
       "$\\displaystyle \\frac{\\partial}{\\partial t} \\operatorname{Ntot}{\\left(x,t \\right)} = D_{QLL} \\frac{\\partial^{2}}{\\partial x^{2}} \\operatorname{NQLL}{\\left(x,t \\right)} + \\nu_{kin} \\sigma_{m}$"
      ],
      "text/plain": [
       "Eq(Derivative(Ntot(x, t), t), D_QLL*Derivative(NQLL(x, t), (x, 2)) + nu_kin*sigma_m)"
      ]
     },
     "metadata": {},
     "output_type": "display_data"
    },
    {
     "data": {
      "text/latex": [
       "$\\displaystyle \\frac{\\partial}{\\partial t} \\operatorname{NQLL}{\\left(x,t \\right)} = D_{QLL} \\frac{\\partial^{2}}{\\partial x^{2}} \\operatorname{NQLL}{\\left(x,t \\right)} + \\nu_{kin} \\sigma_{m} - \\frac{\\operatorname{NQLL}{\\left(x,t \\right)} - \\operatorname{NQLL}_{eq}{\\left(\\operatorname{Ntot}{\\left(x,t \\right)} \\right)}}{t_{eq}}$"
      ],
      "text/plain": [
       "Eq(Derivative(NQLL(x, t), t), D_QLL*Derivative(NQLL(x, t), (x, 2)) + nu_kin*sigma_m - (NQLL(x, t) - NQLL_eq(Ntot(x, t)))/t_eq)"
      ]
     },
     "metadata": {},
     "output_type": "display_data"
    }
   ],
   "source": [
    "# Expressions\n",
    "Ntot = Function('Ntot')(x,t)\n",
    "NQLL = Function('NQLL')(x,t)\n",
    "Ntot_LHS = diff(Ntot,t)\n",
    "Ntot_RHS = D_QLL * diff(NQLL,x,2)\n",
    "Ntot_RHS += nu_kin * sigma_m\n",
    "NQLL_LHS = diff(NQLL,t)\n",
    "NQLL_eq = Function('NQLL_eq')(Ntot)\n",
    "NQLL_RHS = Ntot_RHS - (NQLL - NQLL_eq)/t_eq\n",
    "\n",
    "# Equations\n",
    "myNtotequation = Eq(Ntot_LHS,Ntot_RHS)\n",
    "display(myNtotequation)\n",
    "myNQLLequation = Eq(NQLL_LHS,NQLL_RHS)\n",
    "display(myNQLLequation)"
   ]
  },
  {
   "cell_type": "markdown",
   "id": "0455f13c",
   "metadata": {},
   "source": [
    "### Non-dimensional QLC"
   ]
  },
  {
   "cell_type": "code",
   "execution_count": 4,
   "id": "862b4b4f",
   "metadata": {},
   "outputs": [
    {
     "name": "stdout",
     "output_type": "stream",
     "text": [
      "Equations before trying to simplify\n"
     ]
    },
    {
     "data": {
      "text/latex": [
       "$\\displaystyle \\frac{\\left. \\frac{\\partial}{\\partial \\xi_{2}} \\operatorname{Ntot}{\\left(\\frac{x}{x_{0}},\\xi_{2} \\right)} \\right|_{\\substack{ \\xi_{2}=\\frac{t}{t_{0}} }}}{t_{0}} = \\frac{D_{QLL} \\left. \\frac{\\partial^{2}}{\\partial \\xi_{1}^{2}} \\operatorname{NQLL}{\\left(\\xi_{1},\\frac{t}{t_{0}} \\right)} \\right|_{\\substack{ \\xi_{1}=\\frac{x}{x_{0}} }}}{x_{0}^{2}} + \\nu_{kin} \\sigma_{m}$"
      ],
      "text/plain": [
       "Eq(Subs(Derivative(Ntot(x/x0, _xi_2), _xi_2), _xi_2, t/t0)/t0, D_QLL*Subs(Derivative(NQLL(_xi_1, t/t0), (_xi_1, 2)), _xi_1, x/x0)/x0**2 + nu_kin*sigma_m)"
      ]
     },
     "metadata": {},
     "output_type": "display_data"
    },
    {
     "data": {
      "text/latex": [
       "$\\displaystyle \\frac{\\left. \\frac{\\partial}{\\partial \\xi_{2}} \\operatorname{NQLL}{\\left(\\frac{x}{x_{0}},\\xi_{2} \\right)} \\right|_{\\substack{ \\xi_{2}=\\frac{t}{t_{0}} }}}{t_{0}} = \\frac{D_{QLL} \\left. \\frac{\\partial^{2}}{\\partial \\xi_{1}^{2}} \\operatorname{NQLL}{\\left(\\xi_{1},\\frac{t}{t_{0}} \\right)} \\right|_{\\substack{ \\xi_{1}=\\frac{x}{x_{0}} }}}{x_{0}^{2}} + \\nu_{kin} \\sigma_{m} - \\frac{\\operatorname{NQLL}{\\left(\\frac{x}{x_{0}},\\frac{t}{t_{0}} \\right)} - \\operatorname{NQLL}_{eq}{\\left(\\operatorname{Ntot}{\\left(\\frac{x}{x_{0}},\\frac{t}{t_{0}} \\right)} \\right)}}{t_{eq}}$"
      ],
      "text/plain": [
       "Eq(Subs(Derivative(NQLL(x/x0, _xi_2), _xi_2), _xi_2, t/t0)/t0, D_QLL*Subs(Derivative(NQLL(_xi_1, t/t0), (_xi_1, 2)), _xi_1, x/x0)/x0**2 + nu_kin*sigma_m - (NQLL(x/x0, t/t0) - NQLL_eq(Ntot(x/x0, t/t0)))/t_eq)"
      ]
     },
     "metadata": {},
     "output_type": "display_data"
    },
    {
     "name": "stdout",
     "output_type": "stream",
     "text": [
      "Multiplying through by t0\n"
     ]
    },
    {
     "data": {
      "text/latex": [
       "$\\displaystyle \\left. \\frac{\\partial}{\\partial \\xi_{2}} \\operatorname{Ntot}{\\left(\\frac{x}{x_{0}},\\xi_{2} \\right)} \\right|_{\\substack{ \\xi_{2}=\\frac{t}{t_{0}} }} = \\frac{D_{QLL} t_{0} \\left. \\frac{\\partial^{2}}{\\partial \\xi_{1}^{2}} \\operatorname{NQLL}{\\left(\\xi_{1},\\frac{t}{t_{0}} \\right)} \\right|_{\\substack{ \\xi_{1}=\\frac{x}{x_{0}} }}}{x_{0}^{2}} + \\nu_{kin} \\sigma_{m} t_{0}$"
      ],
      "text/plain": [
       "Eq(Subs(Derivative(Ntot(x/x0, _xi_2), _xi_2), _xi_2, t/t0), D_QLL*t0*Subs(Derivative(NQLL(_xi_1, t/t0), (_xi_1, 2)), _xi_1, x/x0)/x0**2 + nu_kin*sigma_m*t0)"
      ]
     },
     "metadata": {},
     "output_type": "display_data"
    },
    {
     "data": {
      "text/latex": [
       "$\\displaystyle \\left. \\frac{\\partial}{\\partial \\xi_{2}} \\operatorname{NQLL}{\\left(\\frac{x}{x_{0}},\\xi_{2} \\right)} \\right|_{\\substack{ \\xi_{2}=\\frac{t}{t_{0}} }} = \\frac{D_{QLL} t_{0} \\left. \\frac{\\partial^{2}}{\\partial \\xi_{1}^{2}} \\operatorname{NQLL}{\\left(\\xi_{1},\\frac{t}{t_{0}} \\right)} \\right|_{\\substack{ \\xi_{1}=\\frac{x}{x_{0}} }}}{x_{0}^{2}} + \\nu_{kin} \\sigma_{m} t_{0} - \\frac{t_{0} \\operatorname{NQLL}{\\left(\\frac{x}{x_{0}},\\frac{t}{t_{0}} \\right)}}{t_{eq}} + \\frac{t_{0} \\operatorname{NQLL}_{eq}{\\left(\\operatorname{Ntot}{\\left(\\frac{x}{x_{0}},\\frac{t}{t_{0}} \\right)} \\right)}}{t_{eq}}$"
      ],
      "text/plain": [
       "Eq(Subs(Derivative(NQLL(x/x0, _xi_2), _xi_2), _xi_2, t/t0), D_QLL*t0*Subs(Derivative(NQLL(_xi_1, t/t0), (_xi_1, 2)), _xi_1, x/x0)/x0**2 + nu_kin*sigma_m*t0 - t0*NQLL(x/x0, t/t0)/t_eq + t0*NQLL_eq(Ntot(x/x0, t/t0))/t_eq)"
      ]
     },
     "metadata": {},
     "output_type": "display_data"
    },
    {
     "name": "stdout",
     "output_type": "stream",
     "text": [
      "Equating t0 to t_eq\n"
     ]
    },
    {
     "data": {
      "text/latex": [
       "$\\displaystyle \\left. \\frac{\\partial}{\\partial \\xi_{2}} \\operatorname{Ntot}{\\left(\\frac{x}{x_{0}},\\xi_{2} \\right)} \\right|_{\\substack{ \\xi_{2}=\\frac{t}{t_{eq}} }} = \\frac{D_{QLL} t_{eq} \\left. \\frac{\\partial^{2}}{\\partial \\xi_{1}^{2}} \\operatorname{NQLL}{\\left(\\xi_{1},\\frac{t}{t_{eq}} \\right)} \\right|_{\\substack{ \\xi_{1}=\\frac{x}{x_{0}} }}}{x_{0}^{2}} + \\nu_{kin} \\sigma_{m} t_{eq}$"
      ],
      "text/plain": [
       "Eq(Subs(Derivative(Ntot(x/x0, _xi_2), _xi_2), _xi_2, t/t_eq), D_QLL*t_eq*Subs(Derivative(NQLL(_xi_1, t/t_eq), (_xi_1, 2)), _xi_1, x/x0)/x0**2 + nu_kin*sigma_m*t_eq)"
      ]
     },
     "metadata": {},
     "output_type": "display_data"
    },
    {
     "data": {
      "text/latex": [
       "$\\displaystyle \\left. \\frac{\\partial}{\\partial \\xi_{2}} \\operatorname{NQLL}{\\left(\\frac{x}{x_{0}},\\xi_{2} \\right)} \\right|_{\\substack{ \\xi_{2}=\\frac{t}{t_{eq}} }} = \\frac{D_{QLL} t_{eq} \\left. \\frac{\\partial^{2}}{\\partial \\xi_{1}^{2}} \\operatorname{NQLL}{\\left(\\xi_{1},\\frac{t}{t_{eq}} \\right)} \\right|_{\\substack{ \\xi_{1}=\\frac{x}{x_{0}} }}}{x_{0}^{2}} + \\nu_{kin} \\sigma_{m} t_{eq} - \\operatorname{NQLL}{\\left(\\frac{x}{x_{0}},\\frac{t}{t_{eq}} \\right)} + \\operatorname{NQLL}_{eq}{\\left(\\operatorname{Ntot}{\\left(\\frac{x}{x_{0}},\\frac{t}{t_{eq}} \\right)} \\right)}$"
      ],
      "text/plain": [
       "Eq(Subs(Derivative(NQLL(x/x0, _xi_2), _xi_2), _xi_2, t/t_eq), D_QLL*t_eq*Subs(Derivative(NQLL(_xi_1, t/t_eq), (_xi_1, 2)), _xi_1, x/x0)/x0**2 + nu_kin*sigma_m*t_eq - NQLL(x/x0, t/t_eq) + NQLL_eq(Ntot(x/x0, t/t_eq)))"
      ]
     },
     "metadata": {},
     "output_type": "display_data"
    },
    {
     "name": "stdout",
     "output_type": "stream",
     "text": [
      "Equating D_QLL to x0^2/t_eq\n"
     ]
    },
    {
     "data": {
      "text/latex": [
       "$\\displaystyle \\left. \\frac{\\partial}{\\partial \\xi_{2}} \\operatorname{Ntot}{\\left(\\frac{x}{x_{0}},\\xi_{2} \\right)} \\right|_{\\substack{ \\xi_{2}=\\frac{t}{t_{eq}} }} = \\nu_{kin} \\sigma_{m} t_{eq} + \\left. \\frac{\\partial^{2}}{\\partial \\xi_{1}^{2}} \\operatorname{NQLL}{\\left(\\xi_{1},\\frac{t}{t_{eq}} \\right)} \\right|_{\\substack{ \\xi_{1}=\\frac{x}{x_{0}} }}$"
      ],
      "text/plain": [
       "Eq(Subs(Derivative(Ntot(x/x0, _xi_2), _xi_2), _xi_2, t/t_eq), nu_kin*sigma_m*t_eq + Subs(Derivative(NQLL(_xi_1, t/t_eq), (_xi_1, 2)), _xi_1, x/x0))"
      ]
     },
     "metadata": {},
     "output_type": "display_data"
    },
    {
     "data": {
      "text/latex": [
       "$\\displaystyle \\left. \\frac{\\partial}{\\partial \\xi_{2}} \\operatorname{NQLL}{\\left(\\frac{x}{x_{0}},\\xi_{2} \\right)} \\right|_{\\substack{ \\xi_{2}=\\frac{t}{t_{eq}} }} = \\nu_{kin} \\sigma_{m} t_{eq} - \\operatorname{NQLL}{\\left(\\frac{x}{x_{0}},\\frac{t}{t_{eq}} \\right)} + \\operatorname{NQLL}_{eq}{\\left(\\operatorname{Ntot}{\\left(\\frac{x}{x_{0}},\\frac{t}{t_{eq}} \\right)} \\right)} + \\left. \\frac{\\partial^{2}}{\\partial \\xi_{1}^{2}} \\operatorname{NQLL}{\\left(\\xi_{1},\\frac{t}{t_{eq}} \\right)} \\right|_{\\substack{ \\xi_{1}=\\frac{x}{x_{0}} }}$"
      ],
      "text/plain": [
       "Eq(Subs(Derivative(NQLL(x/x0, _xi_2), _xi_2), _xi_2, t/t_eq), nu_kin*sigma_m*t_eq - NQLL(x/x0, t/t_eq) + NQLL_eq(Ntot(x/x0, t/t_eq)) + Subs(Derivative(NQLL(_xi_1, t/t_eq), (_xi_1, 2)), _xi_1, x/x0))"
      ]
     },
     "metadata": {},
     "output_type": "display_data"
    },
    {
     "name": "stdout",
     "output_type": "stream",
     "text": [
      "Combining nu_kin and t_eq\n"
     ]
    },
    {
     "data": {
      "text/latex": [
       "$\\displaystyle \\left. \\frac{\\partial}{\\partial \\xi_{2}} \\operatorname{Ntot}{\\left(\\frac{x}{x_{0}},\\xi_{2} \\right)} \\right|_{\\substack{ \\xi_{2}=\\frac{t}{t_{eq}} }} = \\omega_{kin} \\sigma_{m} + \\left. \\frac{\\partial^{2}}{\\partial \\xi_{1}^{2}} \\operatorname{NQLL}{\\left(\\xi_{1},\\frac{t}{t_{eq}} \\right)} \\right|_{\\substack{ \\xi_{1}=\\frac{x}{x_{0}} }}$"
      ],
      "text/plain": [
       "Eq(Subs(Derivative(Ntot(x/x0, _xi_2), _xi_2), _xi_2, t/t_eq), omega_kin*sigma_m + Subs(Derivative(NQLL(_xi_1, t/t_eq), (_xi_1, 2)), _xi_1, x/x0))"
      ]
     },
     "metadata": {},
     "output_type": "display_data"
    },
    {
     "data": {
      "text/latex": [
       "$\\displaystyle \\left. \\frac{\\partial}{\\partial \\xi_{2}} \\operatorname{NQLL}{\\left(\\frac{x}{x_{0}},\\xi_{2} \\right)} \\right|_{\\substack{ \\xi_{2}=\\frac{t}{t_{eq}} }} = \\omega_{kin} \\sigma_{m} - \\operatorname{NQLL}{\\left(\\frac{x}{x_{0}},\\frac{t}{t_{eq}} \\right)} + \\operatorname{NQLL}_{eq}{\\left(\\operatorname{Ntot}{\\left(\\frac{x}{x_{0}},\\frac{t}{t_{eq}} \\right)} \\right)} + \\left. \\frac{\\partial^{2}}{\\partial \\xi_{1}^{2}} \\operatorname{NQLL}{\\left(\\xi_{1},\\frac{t}{t_{eq}} \\right)} \\right|_{\\substack{ \\xi_{1}=\\frac{x}{x_{0}} }}$"
      ],
      "text/plain": [
       "Eq(Subs(Derivative(NQLL(x/x0, _xi_2), _xi_2), _xi_2, t/t_eq), omega_kin*sigma_m - NQLL(x/x0, t/t_eq) + NQLL_eq(Ntot(x/x0, t/t_eq)) + Subs(Derivative(NQLL(_xi_1, t/t_eq), (_xi_1, 2)), _xi_1, x/x0))"
      ]
     },
     "metadata": {},
     "output_type": "display_data"
    }
   ],
   "source": [
    "# Expressions\n",
    "chi = x/x0\n",
    "tau = t/t0\n",
    "Ntot = Function('Ntot')(chi,tau)\n",
    "NQLL = Function('NQLL')(chi,tau)\n",
    "Ntot_LHS = diff(Ntot,t)\n",
    "Ntot_RHS = D_QLL * diff(NQLL,x,2)\n",
    "Ntot_RHS += nu_kin * sigma_m\n",
    "NQLL_LHS = diff(NQLL,t)\n",
    "NQLL_eq = Function('NQLL_eq')(Ntot)\n",
    "NQLL_RHS = Ntot_RHS - (NQLL - NQLL_eq)/t_eq\n",
    "\n",
    "print('Equations before trying to simplify')\n",
    "myNtotequation = Eq(Ntot_LHS,Ntot_RHS)\n",
    "myNQLLequation = Eq(NQLL_LHS,NQLL_RHS)\n",
    "display(myNtotequation)\n",
    "display(myNQLLequation)\n",
    "\n",
    "print('Multiplying through by t0')\n",
    "myNtotequation = Eq(Ntot_LHS*t0,Ntot_RHS*t0)\n",
    "myNtotequation = simplify(myNtotequation)\n",
    "myNQLLequation = Eq(NQLL_LHS*t0,NQLL_RHS*t0)\n",
    "myNQLLequation = simplify(myNQLLequation)\n",
    "display(myNtotequation)\n",
    "display(myNQLLequation)\n",
    "\n",
    "print('Equating t0 to t_eq')\n",
    "myNtotequation = myNtotequation.subs(t0,t_eq)\n",
    "myNtotequation = simplify(myNtotequation)\n",
    "myNQLLequation = myNQLLequation.subs(t0,t_eq)\n",
    "myNQLLequation = simplify(myNQLLequation)\n",
    "display(myNtotequation)\n",
    "display(myNQLLequation)\n",
    "\n",
    "print('Equating D_QLL to x0^2/t_eq')\n",
    "myNtotequation = myNtotequation.subs(D_QLL,x0**2/t_eq)\n",
    "myNQLLequation = myNQLLequation.subs(D_QLL,x0**2/t_eq)\n",
    "display(myNtotequation)\n",
    "display(myNQLLequation)\n",
    "\n",
    "print('Combining nu_kin and t_eq')\n",
    "myNtotequation = myNtotequation.subs(nu_kin,omega_kin/t_eq)\n",
    "myNQLLequation = myNQLLequation.subs(nu_kin,omega_kin/t_eq)\n",
    "display(myNtotequation)\n",
    "display(myNQLLequation)"
   ]
  }
 ],
 "metadata": {
  "kernelspec": {
   "display_name": "Python 3 (ipykernel)",
   "language": "python",
   "name": "python3"
  },
  "language_info": {
   "codemirror_mode": {
    "name": "ipython",
    "version": 3
   },
   "file_extension": ".py",
   "mimetype": "text/x-python",
   "name": "python",
   "nbconvert_exporter": "python",
   "pygments_lexer": "ipython3",
   "version": "3.10.8"
  }
 },
 "nbformat": 4,
 "nbformat_minor": 5
}
