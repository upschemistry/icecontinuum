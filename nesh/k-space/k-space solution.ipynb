{
 "cells": [
  {
   "cell_type": "code",
   "execution_count": 1,
   "id": "dfcbf11d",
   "metadata": {},
   "outputs": [],
   "source": [
    "from sympy import *\n",
    "import numpy as np"
   ]
  },
  {
   "cell_type": "code",
   "execution_count": 2,
   "id": "37496d20",
   "metadata": {},
   "outputs": [],
   "source": [
    "L = Symbol('L', positive=True)\n",
    "D = Symbol('D', positive=True)\n",
    "x = Symbol('x')\n",
    "t = Symbol('t')\n",
    "tau = Symbol('tau')\n",
    "i, j, imax, jmax = symbols('i, j, imax, jmax', integer=True)\n",
    "\n",
    "sigma0, sigmaIcorner, cr = symbols('sigma0, sigmaIcorner, c_r ')\n",
    "Nbar, Nstar, nu_kin = symbols('Nbar, Nstar, nu_kin')"
   ]
  },
  {
   "cell_type": "markdown",
   "id": "068a7a9f",
   "metadata": {},
   "source": [
    "### Making the left-hand side and diffusion terms for all Fourier components"
   ]
  },
  {
   "cell_type": "code",
   "execution_count": 3,
   "id": "50fa5d74",
   "metadata": {},
   "outputs": [],
   "source": [
    "jmax = imax = 2\n",
    "a = [] # coefficients for Ntot\n",
    "b = [] # coefficients for NQLL\n",
    "Ntot = 0\n",
    "NQLL_LHS = 0\n",
    "Ntot_LHS = 0\n",
    "Ntot_RHS_diffusion = 0\n",
    "NQLL = 0\n",
    "\n",
    "for j in range(jmax+1):\n",
    "    \n",
    "    # Ntot expansion\n",
    "    a.append(Function('a['+str(j)+']'))\n",
    "    Ntot_j = a[j](t)*cos(j*pi/L*x)\n",
    "    Ntot += Ntot_j\n",
    "    Ntot_LHS += Ntot_j.diff(t)\n",
    "\n",
    "    # NQLL expansion\n",
    "    b.append(Function('b['+str(j)+']'))\n",
    "    NQLL_j = b[j](t)*cos(j*pi/L*x)\n",
    "    NQLL += NQLL_j\n",
    "    NQLL_LHS += NQLL_j.diff(t)\n",
    "    \n",
    "    # Right-hand side of Ntot equation, diffusion part\n",
    "    Ntot_RHS_diffusion += D*NQLL_j.diff(x,2)"
   ]
  },
  {
   "cell_type": "code",
   "execution_count": 20,
   "id": "bf27fbd1",
   "metadata": {},
   "outputs": [
    {
     "data": {
      "text/latex": [
       "$\\displaystyle \\operatorname{a[0]}{\\left(t \\right)} + \\operatorname{a[1]}{\\left(t \\right)} \\cos{\\left(\\frac{\\pi x}{L} \\right)} + \\operatorname{a[2]}{\\left(t \\right)} \\cos{\\left(\\frac{2 \\pi x}{L} \\right)}$"
      ],
      "text/plain": [
       "a[0](t) + a[1](t)*cos(pi*x/L) + a[2](t)*cos(2*pi*x/L)"
      ]
     },
     "execution_count": 20,
     "metadata": {},
     "output_type": "execute_result"
    }
   ],
   "source": [
    "Ntot"
   ]
  },
  {
   "cell_type": "code",
   "execution_count": 4,
   "id": "ab716fd0",
   "metadata": {},
   "outputs": [
    {
     "name": "stdout",
     "output_type": "stream",
     "text": [
      "   ⎛π⋅x⎞ d                ⎛2⋅π⋅x⎞ d             d          \n",
      "cos⎜───⎟⋅──(a[1](t)) + cos⎜─────⎟⋅──(a[2](t)) + ──(a[0](t))\n",
      "   ⎝ L ⎠ dt               ⎝  L  ⎠ dt            dt         \n",
      "\n",
      "\n",
      "   ⎛π⋅x⎞ d                ⎛2⋅π⋅x⎞ d             d          \n",
      "cos⎜───⎟⋅──(b[1](t)) + cos⎜─────⎟⋅──(b[2](t)) + ──(b[0](t))\n",
      "   ⎝ L ⎠ dt               ⎝  L  ⎠ dt            dt         \n",
      "\n",
      "\n"
     ]
    }
   ],
   "source": [
    "pprint(Ntot_LHS); print('\\n')\n",
    "pprint(NQLL_LHS); print('\\n')"
   ]
  },
  {
   "cell_type": "code",
   "execution_count": 5,
   "id": "12f3d1dc",
   "metadata": {},
   "outputs": [
    {
     "data": {
      "text/latex": [
       "$\\displaystyle - \\frac{\\pi^{2} D \\operatorname{b[1]}{\\left(t \\right)} \\cos{\\left(\\frac{\\pi x}{L} \\right)}}{L^{2}} - \\frac{4 \\pi^{2} D \\operatorname{b[2]}{\\left(t \\right)} \\cos{\\left(\\frac{2 \\pi x}{L} \\right)}}{L^{2}}$"
      ],
      "text/plain": [
       "-pi**2*D*b[1](t)*cos(pi*x/L)/L**2 - 4*pi**2*D*b[2](t)*cos(2*pi*x/L)/L**2"
      ]
     },
     "execution_count": 5,
     "metadata": {},
     "output_type": "execute_result"
    }
   ],
   "source": [
    "Ntot_RHS_diffusion"
   ]
  },
  {
   "cell_type": "markdown",
   "id": "8d74b10b",
   "metadata": {},
   "source": [
    "### Making the deposition term"
   ]
  },
  {
   "cell_type": "code",
   "execution_count": 6,
   "id": "cc0a5eaa",
   "metadata": {},
   "outputs": [
    {
     "data": {
      "text/latex": [
       "$\\displaystyle \\nu_{kin} \\left(sigmaIcorner \\left(- c_{r} + 1 + \\frac{c_{r} x^{2}}{L^{2}}\\right) - \\frac{\\sigma_{0} \\left(- \\bar{N} + Nstar + \\operatorname{b[0]}{\\left(t \\right)} + \\operatorname{b[1]}{\\left(t \\right)} \\cos{\\left(\\frac{\\pi x}{L} \\right)} + \\operatorname{b[2]}{\\left(t \\right)} \\cos{\\left(\\frac{2 \\pi x}{L} \\right)}\\right)}{2 Nstar}\\right)$"
      ],
      "text/plain": [
       "nu_kin*(sigmaIcorner*(-c_r + 1 + c_r*x**2/L**2) - sigma0*(-Nbar + Nstar + b[0](t) + b[1](t)*cos(pi*x/L) + b[2](t)*cos(2*pi*x/L))/(2*Nstar))"
      ]
     },
     "execution_count": 6,
     "metadata": {},
     "output_type": "execute_result"
    }
   ],
   "source": [
    "sigmaI = sigmaIcorner*(cr*(x/L)**2+(1-cr))\n",
    "m = (NQLL - (Nbar-Nstar))/(2*Nstar)\n",
    "sigma_m = sigmaI-m*sigma0\n",
    "Ntot_RHS_deposition = nu_kin*sigma_m\n",
    "Ntot_RHS_deposition"
   ]
  },
  {
   "cell_type": "markdown",
   "id": "aa32542d",
   "metadata": {},
   "source": [
    "### Making the ice-QLL equilibration terms"
   ]
  },
  {
   "cell_type": "code",
   "execution_count": 7,
   "id": "b9a9951b",
   "metadata": {},
   "outputs": [],
   "source": [
    "NQLL_eq = Nbar - Nstar*sin(2*pi*Ntot)\n",
    "NQLL_RHS_equilibration = -(NQLL - NQLL_eq)/tau"
   ]
  },
  {
   "cell_type": "markdown",
   "id": "b6753071",
   "metadata": {},
   "source": [
    "### Combining all terms into a single equation"
   ]
  },
  {
   "cell_type": "code",
   "execution_count": 8,
   "id": "869878d4",
   "metadata": {},
   "outputs": [
    {
     "data": {
      "text/latex": [
       "$\\displaystyle \\cos{\\left(\\frac{\\pi x}{L} \\right)} \\frac{d}{d t} \\operatorname{a[1]}{\\left(t \\right)} + \\cos{\\left(\\frac{2 \\pi x}{L} \\right)} \\frac{d}{d t} \\operatorname{a[2]}{\\left(t \\right)} + \\frac{d}{d t} \\operatorname{a[0]}{\\left(t \\right)} = - \\frac{\\pi^{2} D \\operatorname{b[1]}{\\left(t \\right)} \\cos{\\left(\\frac{\\pi x}{L} \\right)}}{L^{2}} - \\frac{4 \\pi^{2} D \\operatorname{b[2]}{\\left(t \\right)} \\cos{\\left(\\frac{2 \\pi x}{L} \\right)}}{L^{2}} + \\nu_{kin} \\left(sigmaIcorner \\left(- c_{r} + 1 + \\frac{c_{r} x^{2}}{L^{2}}\\right) - \\frac{\\sigma_{0} \\left(- \\bar{N} + Nstar + \\operatorname{b[0]}{\\left(t \\right)} + \\operatorname{b[1]}{\\left(t \\right)} \\cos{\\left(\\frac{\\pi x}{L} \\right)} + \\operatorname{b[2]}{\\left(t \\right)} \\cos{\\left(\\frac{2 \\pi x}{L} \\right)}\\right)}{2 Nstar}\\right)$"
      ],
      "text/plain": [
       "Eq(cos(pi*x/L)*Derivative(a[1](t), t) + cos(2*pi*x/L)*Derivative(a[2](t), t) + Derivative(a[0](t), t), -pi**2*D*b[1](t)*cos(pi*x/L)/L**2 - 4*pi**2*D*b[2](t)*cos(2*pi*x/L)/L**2 + nu_kin*(sigmaIcorner*(-c_r + 1 + c_r*x**2/L**2) - sigma0*(-Nbar + Nstar + b[0](t) + b[1](t)*cos(pi*x/L) + b[2](t)*cos(2*pi*x/L))/(2*Nstar)))"
      ]
     },
     "execution_count": 8,
     "metadata": {},
     "output_type": "execute_result"
    }
   ],
   "source": [
    "Ntot_RHS = Ntot_RHS_diffusion + Ntot_RHS_deposition\n",
    "myNtotequation = Eq(Ntot_LHS,Ntot_RHS)\n",
    "myNtotequation"
   ]
  },
  {
   "cell_type": "code",
   "execution_count": 9,
   "id": "610014ef",
   "metadata": {},
   "outputs": [
    {
     "data": {
      "text/latex": [
       "$\\displaystyle \\cos{\\left(\\frac{\\pi x}{L} \\right)} \\frac{d}{d t} \\operatorname{b[1]}{\\left(t \\right)} + \\cos{\\left(\\frac{2 \\pi x}{L} \\right)} \\frac{d}{d t} \\operatorname{b[2]}{\\left(t \\right)} + \\frac{d}{d t} \\operatorname{b[0]}{\\left(t \\right)} = - \\frac{\\pi^{2} D \\operatorname{b[1]}{\\left(t \\right)} \\cos{\\left(\\frac{\\pi x}{L} \\right)}}{L^{2}} - \\frac{4 \\pi^{2} D \\operatorname{b[2]}{\\left(t \\right)} \\cos{\\left(\\frac{2 \\pi x}{L} \\right)}}{L^{2}} + \\nu_{kin} \\left(sigmaIcorner \\left(- c_{r} + 1 + \\frac{c_{r} x^{2}}{L^{2}}\\right) - \\frac{\\sigma_{0} \\left(- \\bar{N} + Nstar + \\operatorname{b[0]}{\\left(t \\right)} + \\operatorname{b[1]}{\\left(t \\right)} \\cos{\\left(\\frac{\\pi x}{L} \\right)} + \\operatorname{b[2]}{\\left(t \\right)} \\cos{\\left(\\frac{2 \\pi x}{L} \\right)}\\right)}{2 Nstar}\\right) + \\frac{\\bar{N} - Nstar \\sin{\\left(\\pi \\left(2 \\operatorname{a[0]}{\\left(t \\right)} + 2 \\operatorname{a[1]}{\\left(t \\right)} \\cos{\\left(\\frac{\\pi x}{L} \\right)} + 2 \\operatorname{a[2]}{\\left(t \\right)} \\cos{\\left(\\frac{2 \\pi x}{L} \\right)}\\right) \\right)} - \\operatorname{b[0]}{\\left(t \\right)} - \\operatorname{b[1]}{\\left(t \\right)} \\cos{\\left(\\frac{\\pi x}{L} \\right)} - \\operatorname{b[2]}{\\left(t \\right)} \\cos{\\left(\\frac{2 \\pi x}{L} \\right)}}{\\tau}$"
      ],
      "text/plain": [
       "Eq(cos(pi*x/L)*Derivative(b[1](t), t) + cos(2*pi*x/L)*Derivative(b[2](t), t) + Derivative(b[0](t), t), -pi**2*D*b[1](t)*cos(pi*x/L)/L**2 - 4*pi**2*D*b[2](t)*cos(2*pi*x/L)/L**2 + nu_kin*(sigmaIcorner*(-c_r + 1 + c_r*x**2/L**2) - sigma0*(-Nbar + Nstar + b[0](t) + b[1](t)*cos(pi*x/L) + b[2](t)*cos(2*pi*x/L))/(2*Nstar)) + (Nbar - Nstar*sin(pi*(2*a[0](t) + 2*a[1](t)*cos(pi*x/L) + 2*a[2](t)*cos(2*pi*x/L))) - b[0](t) - b[1](t)*cos(pi*x/L) - b[2](t)*cos(2*pi*x/L))/tau)"
      ]
     },
     "execution_count": 9,
     "metadata": {},
     "output_type": "execute_result"
    }
   ],
   "source": [
    "NQLL_RHS = Ntot_RHS + NQLL_RHS_equilibration\n",
    "myNQLLequation = Eq(NQLL_LHS,NQLL_RHS)\n",
    "myNQLLequation"
   ]
  },
  {
   "cell_type": "markdown",
   "id": "1e1c9822",
   "metadata": {},
   "source": [
    "### Integrating over coordinate space to create a series of equations"
   ]
  },
  {
   "cell_type": "code",
   "execution_count": 10,
   "id": "e0242c5a",
   "metadata": {},
   "outputs": [
    {
     "name": "stdout",
     "output_type": "stream",
     "text": [
      "Working on  0\n",
      "Working on  1\n",
      "Working on  2\n",
      "done\n",
      "\n",
      "LHS ...\n",
      "d          \n",
      "──(a[0](t))\n",
      "dt         \n",
      "d          \n",
      "──(a[1](t))\n",
      "dt         \n",
      "d          \n",
      "──(a[2](t))\n",
      "dt         \n",
      "\n",
      "RHS ...\n",
      "for j= 0\n",
      "-(-L*Nbar*nu_kin*sigma0/(2*Nstar) + 2*L*c_r*nu_kin*sigmaIcorner/3 + L*nu_kin*s\n",
      "igma0/2 - L*nu_kin*sigmaIcorner + L*nu_kin*sigma0*b[0]/(2*Nstar))/(2*L) + (L*N\n",
      "bar*nu_kin*sigma0/(2*Nstar) - 2*L*c_r*nu_kin*sigmaIcorner/3 - L*nu_kin*sigma0/\n",
      "2 + L*nu_kin*sigmaIcorner - L*nu_kin*sigma0*b[0]/(2*Nstar))/(2*L)\n",
      "\n",
      "\n",
      "for j= 1\n",
      "(-pi**2*D*b[1]/(2*L) - 2*L*c_r*nu_kin*sigmaIcorner/pi**2 - L*nu_kin*sigma0*b[1\n",
      "]/(4*Nstar))/L - (pi**2*D*b[1]/(2*L) + 2*L*c_r*nu_kin*sigmaIcorner/pi**2 + L*n\n",
      "u_kin*sigma0*b[1]/(4*Nstar))/L\n",
      "\n",
      "\n",
      "for j= 2\n",
      "(-2*pi**2*D*b[2]/L + L*c_r*nu_kin*sigmaIcorner/(2*pi**2) - L*nu_kin*sigma0*b[2\n",
      "]/(4*Nstar))/L - (2*pi**2*D*b[2]/L - L*c_r*nu_kin*sigmaIcorner/(2*pi**2) + L*n\n",
      "u_kin*sigma0*b[2]/(4*Nstar))/L\n",
      "\n",
      "\n"
     ]
    }
   ],
   "source": [
    "print('Working on ',0)\n",
    "Ntot_LHS0 = Ntot_LHS/(2*L)\n",
    "Ntot_RHS0 = Ntot_RHS/(2*L)\n",
    "Ntot_eq0_integrated = integrate(Eq(Ntot_LHS0,Ntot_RHS0),(x, -L, L))\n",
    "Ntot_LHS_list = [Ntot_LHS0]\n",
    "Ntot_RHS_list = [Ntot_RHS0]\n",
    "Ntot_eq_integrated_list = [Ntot_eq0_integrated]\n",
    "for j in range(1,jmax+1):\n",
    "    print('Working on ',j)\n",
    "    LHSj = Ntot_LHS*cos(j*pi*x/L)/L\n",
    "    RHSj = Ntot_RHS*cos(j*pi*x/L)/L\n",
    "    Ntot_eq_integrated = integrate(Eq(LHSj,RHSj),(x, -L, L))\n",
    "    Ntot_eq_integrated_list.append(Ntot_eq_integrated)\n",
    "print('done')\n",
    "\n",
    "print('\\nLHS ...')\n",
    "for j in range(jmax+1):\n",
    "    pprint(Ntot_eq_integrated_list[j].lhs)\n",
    "\n",
    "print('\\nRHS ...')\n",
    "Ntot_RHS_string_list = []\n",
    "for j in range(jmax+1):\n",
    "    Ntot_RHSj_string = str(Ntot_eq_integrated_list[j].rhs)\n",
    "    Ntot_RHSj_string = Ntot_RHSj_string.replace('(t)','')\n",
    "    print('for j=', j); pprint(Ntot_RHSj_string); print('\\n')"
   ]
  },
  {
   "cell_type": "code",
   "execution_count": 43,
   "id": "45572715",
   "metadata": {},
   "outputs": [
    {
     "name": "stdout",
     "output_type": "stream",
     "text": [
      "Working on  0\n",
      "Working on  1\n",
      "Working on  2\n",
      "done\n",
      "\n",
      "LHS ...\n",
      "d          \n",
      "──(b[0](t))\n",
      "dt         \n",
      "d          \n",
      "──(b[1](t))\n",
      "dt         \n",
      "d          \n",
      "──(b[2](t))\n",
      "dt         \n",
      "\n",
      "RHS ...\n",
      "for j= 0\n",
      "-nu_kin*sigma0*b[2]/(2*Nstar) - nu_kin*sigma0*b[1]/(2*Nstar) - nu_kin*sigma0*b\n",
      "[0]/(2*Nstar) - b[2]/tau - b[1]/tau - b[0]/tau + nu_kin*sigmaIcorner - nu_kin*\n",
      "sigma0/2 - c_r*nu_kin*sigmaIcorner - Nstar*sin(2*pi*a[0] + 2*pi*a[1] + 2*pi*a[\n",
      "2])/tau + Nbar*nu_kin*sigma0/(2*Nstar) + Nbar/tau + 2*L**3*(pi**4*D*b[1]/(4*L*\n",
      "*5) + 4*pi**4*D*b[2]/L**5 + pi**3*Nstar*a[1]*cos(2*pi*a[0] + 2*pi*a[1] + 2*pi*\n",
      "a[2])/(2*L**3*tau) + 2*pi**3*Nstar*a[2]*cos(2*pi*a[0] + 2*pi*a[1] + 2*pi*a[2])\n",
      "/(L**3*tau) + c_r*nu_kin*sigmaIcorner/(2*L**3) + pi**2*b[1]/(4*L**3*tau) + pi*\n",
      "*2*b[2]/(L**3*tau) + pi**2*nu_kin*sigma0*b[1]/(8*L**3*Nstar) + pi**2*nu_kin*si\n",
      "gma0*b[2]/(2*L**3*Nstar))/3 - 4*pi**2*D*b[2]/L**2 - pi**2*D*b[1]/L**2 + O(L**5\n",
      ")\n",
      "\n",
      "\n",
      "for j= 1\n",
      "-nu_kin*sigma0*b[2]/Nstar - nu_kin*sigma0*b[1]/Nstar - nu_kin*sigma0*b[0]/Nsta\n",
      "r - 2*b[2]/tau - 2*b[1]/tau - 2*b[0]/tau + 2*nu_kin*sigmaIcorner - nu_kin*sigm\n",
      "a0 - 2*c_r*nu_kin*sigmaIcorner - 2*Nstar*sin(2*pi*a[0] + 2*pi*a[1] + 2*pi*a[2]\n",
      ")/tau + Nbar*nu_kin*sigma0/Nstar + 2*Nbar/tau + 2*L**3*(pi**4*D*b[1]/L**5 + 10\n",
      "*pi**4*D*b[2]/L**5 - pi**2*Nbar/(2*L**3*tau) - pi**2*Nbar*nu_kin*sigma0/(4*L**\n",
      "3*Nstar) + pi**3*Nstar*a[1]*cos(2*pi*a[0] + 2*pi*a[1] + 2*pi*a[2])/(L**3*tau) \n",
      "+ 4*pi**3*Nstar*a[2]*cos(2*pi*a[0] + 2*pi*a[1] + 2*pi*a[2])/(L**3*tau) + pi**2\n",
      "*Nstar*sin(2*pi*a[0] + 2*pi*a[1] + 2*pi*a[2])/(2*L**3*tau) + c_r*nu_kin*sigmaI\n",
      "corner/L**3 + pi**2*c_r*nu_kin*sigmaIcorner/(2*L**3) + pi**2*nu_kin*sigma0/(4*\n",
      "L**3) - pi**2*nu_kin*sigmaIcorner/(2*L**3) + pi**2*b[0]/(2*L**3*tau) + pi**2*b\n",
      "[1]/(L**3*tau) + 5*pi**2*b[2]/(2*L**3*tau) + pi**2*nu_kin*sigma0*b[0]/(4*L**3*\n",
      "Nstar) + pi**2*nu_kin*sigma0*b[1]/(2*L**3*Nstar) + 5*pi**2*nu_kin*sigma0*b[2]/\n",
      "(4*L**3*Nstar))/3 - 8*pi**2*D*b[2]/L**2 - 2*pi**2*D*b[1]/L**2 + O(L**5)\n",
      "\n",
      "\n",
      "for j= 2\n",
      "-nu_kin*sigma0*b[2]/Nstar - nu_kin*sigma0*b[1]/Nstar - nu_kin*sigma0*b[0]/Nsta\n",
      "r - 2*b[2]/tau - 2*b[1]/tau - 2*b[0]/tau + 2*nu_kin*sigmaIcorner - nu_kin*sigm\n",
      "a0 - 2*c_r*nu_kin*sigmaIcorner - 2*Nstar*sin(2*pi*a[0] + 2*pi*a[1] + 2*pi*a[2]\n",
      ")/tau + Nbar*nu_kin*sigma0/Nstar + 2*Nbar/tau + 2*L**3*(5*pi**4*D*b[1]/(2*L**5\n",
      ") + 16*pi**4*D*b[2]/L**5 - 2*pi**2*Nbar/(L**3*tau) - pi**2*Nbar*nu_kin*sigma0/\n",
      "(L**3*Nstar) + pi**3*Nstar*a[1]*cos(2*pi*a[0] + 2*pi*a[1] + 2*pi*a[2])/(L**3*t\n",
      "au) + 4*pi**3*Nstar*a[2]*cos(2*pi*a[0] + 2*pi*a[1] + 2*pi*a[2])/(L**3*tau) + 2\n",
      "*pi**2*Nstar*sin(2*pi*a[0] + 2*pi*a[1] + 2*pi*a[2])/(L**3*tau) + c_r*nu_kin*si\n",
      "gmaIcorner/L**3 + 2*pi**2*c_r*nu_kin*sigmaIcorner/L**3 + pi**2*nu_kin*sigma0/L\n",
      "**3 - 2*pi**2*nu_kin*sigmaIcorner/L**3 + 2*pi**2*b[0]/(L**3*tau) + 5*pi**2*b[1\n",
      "]/(2*L**3*tau) + 4*pi**2*b[2]/(L**3*tau) + pi**2*nu_kin*sigma0*b[0]/(L**3*Nsta\n",
      "r) + 5*pi**2*nu_kin*sigma0*b[1]/(4*L**3*Nstar) + 2*pi**2*nu_kin*sigma0*b[2]/(L\n",
      "**3*Nstar))/3 - 8*pi**2*D*b[2]/L**2 - 2*pi**2*D*b[1]/L**2 + O(L**5)\n",
      "\n",
      "\n"
     ]
    }
   ],
   "source": [
    "print('Working on ',0)\n",
    "nseries = 4\n",
    "NQLL_LHS0 = NQLL_LHS/(2*L)\n",
    "NQLL_RHS0 = NQLL_RHS/(2*L)\n",
    "NQLL_eq0_integrated = integrate(Eq(NQLL_LHS0,NQLL_RHS0.series(x,n=nseries)),(x, -L, L))\n",
    "NQLL_LHS_list = [NQLL_LHS0]\n",
    "NQLL_RHS_list = [NQLL_RHS0]\n",
    "NQLL_eq_integrated_list = [NQLL_eq0_integrated]\n",
    "for j in range(1,jmax+1):\n",
    "    print('Working on ',j)\n",
    "    LHSj = NQLL_LHS*cos(j*pi*x/L)/L\n",
    "    RHSj = NQLL_RHS*cos(j*pi*x/L)/L\n",
    "    NQLL_eq_integrated = integrate(Eq(LHSj,RHSj.series(x,n=nseries)),(x, -L, L))\n",
    "    NQLL_eq_integrated_list.append(NQLL_eq_integrated)\n",
    "print('done')\n",
    "\n",
    "print('\\nLHS ...')\n",
    "for j in range(jmax+1):\n",
    "    pprint(NQLL_eq_integrated_list[j].lhs)\n",
    "\n",
    "print('\\nRHS ...')\n",
    "NQLL_RHS_string_list = []\n",
    "for j in range(jmax+1):\n",
    "    NQLL_RHSj_string = str(NQLL_eq_integrated_list[j].rhs)\n",
    "    NQLL_RHSj_string = NQLL_RHSj_string.replace('(t)','')\n",
    "    print('for j=', j); pprint(NQLL_RHSj_string); print('\\n')"
   ]
  },
  {
   "cell_type": "code",
   "execution_count": null,
   "id": "3d44ba56",
   "metadata": {},
   "outputs": [],
   "source": [
    "# LHS1 = LHS*cos(pi*x/L)/L\n",
    "# RHS1 = RHS*cos(pi*x/L)/L\n",
    "# eq1_integrated = integrate(Eq(LHS1,RHS1),(x, -L, L))\n",
    "# eq1_integrated\n",
    "\n",
    "# LHS2 = LHS*cos(2*pi*x/L)/L\n",
    "# RHS2 = RHS*cos(2*pi*x/L)/L\n",
    "# eq2_integrated = integrate(Eq(LHS2,RHS2),(x, -L, L))\n",
    "# eq2_integrated\n",
    "\n",
    "# LHS3 = LHS*cos(3*pi*x/L)/L\n",
    "# RHS3 = RHS*cos(3*pi*x/L)/L\n",
    "# eq3_integrated = integrate(Eq(LHS3,RHS3),(x, -L, L))\n",
    "# eq3_integrated"
   ]
  }
 ],
 "metadata": {
  "kernelspec": {
   "display_name": "Python 3 (ipykernel)",
   "language": "python",
   "name": "python3"
  },
  "language_info": {
   "codemirror_mode": {
    "name": "ipython",
    "version": 3
   },
   "file_extension": ".py",
   "mimetype": "text/x-python",
   "name": "python",
   "nbconvert_exporter": "python",
   "pygments_lexer": "ipython3",
   "version": "3.10.8"
  }
 },
 "nbformat": 4,
 "nbformat_minor": 5
}
