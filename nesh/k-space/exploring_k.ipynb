{
 "cells": [
  {
   "cell_type": "code",
   "execution_count": 1,
   "id": "1d792e38",
   "metadata": {},
   "outputs": [],
   "source": [
    "from sympy import *"
   ]
  },
  {
   "cell_type": "code",
   "execution_count": 2,
   "id": "7dae43a1",
   "metadata": {},
   "outputs": [],
   "source": [
    "L, nu_kin, tau_eq, Nbar, Nstar, D, x = symbols('L, nu_kin, tau_eq, Nbar, Nstar, D, x')\n",
    "sigma0, sigmaIcorner, cr = symbols('sigma0, sigmaIcorner, cr ')\n",
    "a = IndexedBase('a')\n",
    "b = IndexedBase('b')\n",
    "i, j, imax, jmax = symbols('i, j, imax, jmax', integer=True)"
   ]
  },
  {
   "cell_type": "code",
   "execution_count": 3,
   "id": "ba9fc8f5",
   "metadata": {},
   "outputs": [
    {
     "name": "stdout",
     "output_type": "stream",
     "text": [
      " imax                \n",
      " ____                \n",
      " ╲                   \n",
      "  ╲                  \n",
      "   ╲     ⎛π⋅i⋅x⎞     \n",
      "   ╱  cos⎜─────⎟⋅a[i]\n",
      "  ╱      ⎝  L  ⎠     \n",
      " ╱                   \n",
      " ‾‾‾‾                \n",
      "i = 0                \n",
      " jmax                \n",
      " ____                \n",
      " ╲                   \n",
      "  ╲                  \n",
      "   ╲     ⎛π⋅j⋅x⎞     \n",
      "   ╱  cos⎜─────⎟⋅b[j]\n",
      "  ╱      ⎝  L  ⎠     \n",
      " ╱                   \n",
      " ‾‾‾‾                \n",
      "j = 0                \n"
     ]
    }
   ],
   "source": [
    "Ntot = Sum(a[i]*cos(i*pi/L*x), (i, 0, imax))\n",
    "pprint(Ntot)\n",
    "\n",
    "NQLL = Sum(b[j]*cos(j*pi/L*x), (j, 0, jmax))\n",
    "pprint(NQLL)"
   ]
  },
  {
   "cell_type": "markdown",
   "id": "9ffc8f9c",
   "metadata": {},
   "source": [
    "### The diffusion term\n",
    "This code modeled after https://stackoverflow.com/questions/46492657/sympy-symbolic-sum-over-symbolic-number-of-elements."
   ]
  },
  {
   "cell_type": "code",
   "execution_count": 4,
   "id": "4c9240b9",
   "metadata": {},
   "outputs": [
    {
     "name": "stdout",
     "output_type": "stream",
     "text": [
      "       imax                    \n",
      "       ____                    \n",
      "       ╲                       \n",
      "        ╲                      \n",
      "  2      ╲   2    ⎛π⋅i⋅x⎞      \n",
      "-π ⋅D⋅   ╱  i ⋅cos⎜─────⎟⋅a[i] \n",
      "        ╱         ⎝  L  ⎠      \n",
      "       ╱                       \n",
      "       ‾‾‾‾                    \n",
      "      i = 0                    \n",
      "───────────────────────────────\n",
      "                2              \n",
      "               L               \n"
     ]
    }
   ],
   "source": [
    "diffusion_term = D*diff(Ntot,x,2)\n",
    "pprint(diffusion_term)"
   ]
  },
  {
   "cell_type": "markdown",
   "id": "6ee8a6b0",
   "metadata": {},
   "source": [
    "### The deposition term\n"
   ]
  },
  {
   "cell_type": "code",
   "execution_count": 5,
   "id": "e6c29493",
   "metadata": {},
   "outputs": [
    {
     "name": "stdout",
     "output_type": "stream",
     "text": [
      "nu_kin*(sigmaIcorner*(-cr + 1 + cr*x**2/L**2) - sigma0*(-Nbar + Nstar + Sum(cos(pi*j*x/L)*b[j], (j, 0, jmax)))/(2*Nstar))\n"
     ]
    }
   ],
   "source": [
    "sigmaI = sigmaIcorner*(cr*(x/L)**2+(1-cr))\n",
    "m = (NQLL - (Nbar-Nstar))/(2*Nstar)\n",
    "sigma_m = sigmaI-m*sigma0\n",
    "deposition_term = nu_kin*sigma_m\n",
    "print(deposition_term)"
   ]
  },
  {
   "cell_type": "code",
   "execution_count": null,
   "id": "66d9079c",
   "metadata": {},
   "outputs": [],
   "source": []
  }
 ],
 "metadata": {
  "kernelspec": {
   "display_name": "Python 3 (ipykernel)",
   "language": "python",
   "name": "python3"
  },
  "language_info": {
   "codemirror_mode": {
    "name": "ipython",
    "version": 3
   },
   "file_extension": ".py",
   "mimetype": "text/x-python",
   "name": "python",
   "nbconvert_exporter": "python",
   "pygments_lexer": "ipython3",
   "version": "3.10.8"
  }
 },
 "nbformat": 4,
 "nbformat_minor": 5
}
