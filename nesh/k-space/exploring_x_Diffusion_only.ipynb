{
 "cells": [
  {
   "cell_type": "code",
   "execution_count": 1,
   "id": "1d792e38",
   "metadata": {},
   "outputs": [],
   "source": [
    "from sympy import *\n",
    "init_printing(use_latex=True)"
   ]
  },
  {
   "cell_type": "code",
   "execution_count": 3,
   "id": "56c8e95d",
   "metadata": {},
   "outputs": [],
   "source": [
    "import requests\n",
    "url = 'https://tinyurl.com/mrgdemos/SymPy_Files/sym_helper.py'\n",
    "open('sym_helper.py', 'w').write(requests.get(url).text)\n",
    "from sym_helper import *"
   ]
  },
  {
   "cell_type": "code",
   "execution_count": 20,
   "id": "7dae43a1",
   "metadata": {},
   "outputs": [],
   "source": [
    "L, D, x, t = symbols('L, D, x, t')\n",
    "x = IndexedBase('x')"
   ]
  },
  {
   "cell_type": "code",
   "execution_count": 21,
   "id": "ba9fc8f5",
   "metadata": {},
   "outputs": [
    {
     "data": {
      "image/png": "[encoded data removed]",
      "text/latex": [
       "$\\displaystyle \\operatorname{NQLL}{\\left(0,1 \\right)}$"
      ],
      "text/plain": [
       "NQLL(0, 1)"
      ]
     },
     "execution_count": 21,
     "metadata": {},
     "output_type": "execute_result"
    }
   ],
   "source": [
    "NQLL = Function(\"NQLL\")\n",
    "temp = NQLL(t,x).subs(t,0)\n",
    "NQLL0 = temp.subs(x,1)\n",
    "NQLL0"
   ]
  },
  {
   "cell_type": "markdown",
   "id": "9ffc8f9c",
   "metadata": {},
   "source": [
    "### The diffusion term\n",
    "This code modeled after https://stackoverflow.com/questions/46492657/sympy-symbolic-sum-over-symbolic-number-of-elements."
   ]
  },
  {
   "cell_type": "code",
   "execution_count": 18,
   "id": "4c9240b9",
   "metadata": {},
   "outputs": [
    {
     "data": {
      "image/png": "[encoded data removed]",
      "text/latex": [
       "$\\displaystyle - \\frac{\\pi^{2} D \\sum_{j=0}^{jmax} j^{2} \\cos{\\left(\\frac{\\pi j x}{L} \\right)} {b}_{j}}{L^{2}}$"
      ],
      "text/plain": [
       "       jmax                    \n",
       "       ____                    \n",
       "       ╲                       \n",
       "        ╲                      \n",
       "  2      ╲   2    ⎛π⋅j⋅x⎞      \n",
       "-π ⋅D⋅   ╱  j ⋅cos⎜─────⎟⋅b[j] \n",
       "        ╱         ⎝  L  ⎠      \n",
       "       ╱                       \n",
       "       ‾‾‾‾                    \n",
       "      j = 0                    \n",
       "───────────────────────────────\n",
       "                2              \n",
       "               L               "
      ]
     },
     "execution_count": 18,
     "metadata": {},
     "output_type": "execute_result"
    }
   ],
   "source": [
    "diffusion_term = D*diff(NQLL,x,2)\n",
    "diffusion_term"
   ]
  },
  {
   "cell_type": "markdown",
   "id": "6ee8a6b0",
   "metadata": {},
   "source": [
    "### The time derivative"
   ]
  },
  {
   "cell_type": "code",
   "execution_count": 22,
   "id": "e6c29493",
   "metadata": {},
   "outputs": [
    {
     "name": "stdout",
     "output_type": "stream",
     "text": [
      "0\n"
     ]
    }
   ],
   "source": [
    "dNQLL_dt = diff(NQLL,t,1)\n",
    "pprint(dNQLL_dt)"
   ]
  },
  {
   "cell_type": "code",
   "execution_count": 13,
   "id": "66d9079c",
   "metadata": {},
   "outputs": [
    {
     "data": {
      "image/png": "[encoded data removed]",
      "text/latex": [
       "$\\displaystyle \\left[ y{\\left(t \\right)} = \\left(y_{0} e^{\\frac{b t_{0}}{a}} - \\frac{\\int x{\\left(t_{0} \\right)} e^{\\frac{b t_{0}}{a}}\\, dt_{0}}{a}\\right) e^{- \\frac{b t}{a}} + \\frac{e^{- \\frac{b t}{a}} \\int x{\\left(t \\right)} e^{\\frac{b t}{a}}\\, dt}{a}\\right]$"
      ],
      "text/plain": [
       "⎡       ⎛           ⌠                  ⎞                 ⌠             ⎤\n",
       "⎢       ⎜           ⎮        b⋅t₀      ⎟           -b⋅t  ⎮       b⋅t   ⎥\n",
       "⎢       ⎜           ⎮        ────      ⎟           ───── ⎮       ───   ⎥\n",
       "⎢       ⎜    b⋅t₀   ⎮         a        ⎟  -b⋅t       a   ⎮        a    ⎥\n",
       "⎢       ⎜    ────   ⎮ x(t₀)⋅ℯ     d(t₀)⎟  ─────   ℯ     ⋅⎮ x(t)⋅ℯ    dt⎥\n",
       "⎢       ⎜     a     ⌡                  ⎟    a            ⌡             ⎥\n",
       "⎢y(t) = ⎜y₀⋅ℯ     - ───────────────────⎟⋅ℯ      + ─────────────────────⎥\n",
       "⎣       ⎝                    a         ⎠                    a          ⎦"
      ]
     },
     "execution_count": 13,
     "metadata": {},
     "output_type": "execute_result"
    }
   ],
   "source": [
    "import sympy as sym\n",
    "sym.init_printing(use_latex=True)\n",
    "a, b, t, y0, t0 = sym.var('a, b, t, y0, t0')\n",
    "x = sym.Function('x')\n",
    "y = sym.Function('y')\n",
    "eqn1 = sym.Eq(a*sym.Derivative(y(t), t) + b * y(t), x(t))\n",
    "eqns = [eqn1]\n",
    "soln = sym.dsolve(eqns, [y(t)], ics = {y(t0): y0})\n",
    "soln"
   ]
  },
  {
   "cell_type": "code",
   "execution_count": 21,
   "id": "d75698b2",
   "metadata": {},
   "outputs": [
    {
     "data": {
      "image/png": "[encoded data removed]",
      "text/latex": [
       "$\\displaystyle v_{s,dc}$"
      ],
      "text/plain": [
       "v_{s,dc}"
      ]
     },
     "execution_count": 21,
     "metadata": {},
     "output_type": "execute_result"
    }
   ],
   "source": [
    "R1, R2, C, vsdc, t = sym.var('R1, R2, C, v_{s\\,dc}, t')\n",
    "vs = Function(\"v_s\")\n",
    "vsdc"
   ]
  },
  {
   "cell_type": "code",
   "execution_count": null,
   "id": "4dcf143f",
   "metadata": {},
   "outputs": [],
   "source": []
  }
 ],
 "metadata": {
  "kernelspec": {
   "display_name": "Python 3 (ipykernel)",
   "language": "python",
   "name": "python3"
  },
  "language_info": {
   "codemirror_mode": {
    "name": "ipython",
    "version": 3
   },
   "file_extension": ".py",
   "mimetype": "text/x-python",
   "name": "python",
   "nbconvert_exporter": "python",
   "pygments_lexer": "ipython3",
   "version": "3.10.8"
  }
 },
 "nbformat": 4,
 "nbformat_minor": 5
}
