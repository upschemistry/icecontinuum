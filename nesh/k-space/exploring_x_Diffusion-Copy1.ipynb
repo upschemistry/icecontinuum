{
 "cells": [
  {
   "cell_type": "markdown",
   "id": "fdd01fe3",
   "metadata": {},
   "source": [
    "https://anu-rses-education.github.io/EMSC-4033/Notebooks/Themes/SympleSympy/StartingWithSympy-3.html"
   ]
  },
  {
   "cell_type": "code",
   "execution_count": 106,
   "id": "dfcbf11d",
   "metadata": {},
   "outputs": [],
   "source": [
    "from sympy import *\n",
    "import numpy as np"
   ]
  },
  {
   "cell_type": "code",
   "execution_count": 107,
   "id": "37496d20",
   "metadata": {},
   "outputs": [],
   "source": [
    "L = Symbol('L', positive=True)\n",
    "D = Symbol('D', positive=True)\n",
    "x = Symbol('x')\n",
    "t = Symbol('t')\n",
    "NQLL = Function('NQLL')\n",
    "\n",
    "b = IndexedBase('b')\n",
    "i, j, imax, jmax = symbols('i, j, imax, jmax', integer=True)"
   ]
  },
  {
   "cell_type": "code",
   "execution_count": 113,
   "id": "50fa5d74",
   "metadata": {},
   "outputs": [
    {
     "ename": "TypeError",
     "evalue": "'IndexedBase' object does not support item assignment",
     "output_type": "error",
     "traceback": [
      "\u001b[0;31m---------------------------------------------------------------------------\u001b[0m",
      "\u001b[0;31mTypeError\u001b[0m                                 Traceback (most recent call last)",
      "Cell \u001b[0;32mIn[113], line 1\u001b[0m\n\u001b[0;32m----> 1\u001b[0m b[\u001b[38;5;241m0\u001b[39m] \u001b[38;5;241m=\u001b[39m Function(\u001b[38;5;124m'\u001b[39m\u001b[38;5;124mb[0]\u001b[39m\u001b[38;5;124m'\u001b[39m)\n",
      "\u001b[0;31mTypeError\u001b[0m: 'IndexedBase' object does not support item assignment"
     ]
    }
   ],
   "source": [
    "b[0] = Function('b[0]')"
   ]
  },
  {
   "cell_type": "code",
   "execution_count": 108,
   "id": "35fcba1c",
   "metadata": {},
   "outputs": [
    {
     "data": {
      "text/latex": [
       "$\\displaystyle \\frac{\\partial}{\\partial t} \\operatorname{NQLL}{\\left(t,x \\right)} = D \\frac{\\partial^{2}}{\\partial x^{2}} \\operatorname{NQLL}{\\left(t,x \\right)}$"
      ],
      "text/plain": [
       "Eq(Derivative(NQLL(t, x), t), D*Derivative(NQLL(t, x), (x, 2)))"
      ]
     },
     "execution_count": 108,
     "metadata": {},
     "output_type": "execute_result"
    }
   ],
   "source": [
    "LHS = NQLL(t,x).diff(t,1)\n",
    "RHS = D*NQLL(t,x).diff(x,2)\n",
    "diffeq = Eq(LHS,RHS)\n",
    "diffeq"
   ]
  },
  {
   "cell_type": "code",
   "execution_count": 112,
   "id": "d64176a3",
   "metadata": {},
   "outputs": [
    {
     "ename": "TypeError",
     "evalue": "'Indexed' object is not callable",
     "output_type": "error",
     "traceback": [
      "\u001b[0;31m---------------------------------------------------------------------------\u001b[0m",
      "\u001b[0;31mTypeError\u001b[0m                                 Traceback (most recent call last)",
      "Cell \u001b[0;32mIn[112], line 1\u001b[0m\n\u001b[0;32m----> 1\u001b[0m NQLL_expansion \u001b[38;5;241m=\u001b[39m Sum(\u001b[43mb\u001b[49m\u001b[43m[\u001b[49m\u001b[43mj\u001b[49m\u001b[43m]\u001b[49m\u001b[43m(\u001b[49m\u001b[43mt\u001b[49m\u001b[43m)\u001b[49m\u001b[38;5;241m*\u001b[39mcos(j\u001b[38;5;241m*\u001b[39mpi\u001b[38;5;241m/\u001b[39mL\u001b[38;5;241m*\u001b[39mx), (j, \u001b[38;5;241m0\u001b[39m, jmax))\n\u001b[1;32m      2\u001b[0m RHS \u001b[38;5;241m=\u001b[39m D\u001b[38;5;241m*\u001b[39mNQLL_expansion\u001b[38;5;241m.\u001b[39mdiff(x,\u001b[38;5;241m2\u001b[39m)\n\u001b[1;32m      3\u001b[0m diffeq \u001b[38;5;241m=\u001b[39m Eq(LHS,RHS)\n",
      "\u001b[0;31mTypeError\u001b[0m: 'Indexed' object is not callable"
     ]
    }
   ],
   "source": [
    "NQLL_expansion = Sum(b[j](t)*cos(j*pi/L*x), (j, 0, jmax))\n",
    "RHS = D*NQLL_expansion.diff(x,2)\n",
    "diffeq = Eq(LHS,RHS)\n",
    "diffeq"
   ]
  },
  {
   "cell_type": "code",
   "execution_count": 110,
   "id": "9cd8ef91",
   "metadata": {},
   "outputs": [
    {
     "name": "stdout",
     "output_type": "stream",
     "text": [
      "b[0]\n",
      "b[1]\n",
      "b[2]\n",
      "b[3]\n",
      "b[4]\n",
      "b[5]\n"
     ]
    }
   ],
   "source": [
    "jmax = 5\n",
    "for j in range(jmax+1):\n",
    "    print(b[j])"
   ]
  },
  {
   "cell_type": "code",
   "execution_count": 120,
   "id": "14e714d1",
   "metadata": {},
   "outputs": [
    {
     "data": {
      "text/latex": [
       "$\\displaystyle \\frac{\\partial}{\\partial t} \\operatorname{b[0]}{\\left(t,x \\right)}$"
      ],
      "text/plain": [
       "Derivative(b[0](t, x), t)"
      ]
     },
     "execution_count": 120,
     "metadata": {},
     "output_type": "execute_result"
    }
   ],
   "source": [
    "b = []\n",
    "b.append(Function('b[0]'))\n",
    "b.append(Function('b[1]'))\n",
    "b\n",
    "b[0](t,x).diff(t)"
   ]
  },
  {
   "cell_type": "code",
   "execution_count": 78,
   "id": "3c4849df",
   "metadata": {},
   "outputs": [
    {
     "data": {
      "text/latex": [
       "$\\displaystyle \\cos{\\left(\\frac{\\pi x}{L} \\right)} {b}_{1} + \\cos{\\left(\\frac{2 \\pi x}{L} \\right)} {b}_{2} + \\cos{\\left(\\frac{3 \\pi x}{L} \\right)} {b}_{3} + \\cos{\\left(\\frac{4 \\pi x}{L} \\right)} {b}_{4} + \\cos{\\left(\\frac{5 \\pi x}{L} \\right)} {b}_{5} + {b}_{0}$"
      ],
      "text/plain": [
       "cos(pi*x/L)*b[1] + cos(2*pi*x/L)*b[2] + cos(3*pi*x/L)*b[3] + cos(4*pi*x/L)*b[4] + cos(5*pi*x/L)*b[5] + b[0]"
      ]
     },
     "execution_count": 78,
     "metadata": {},
     "output_type": "execute_result"
    }
   ],
   "source": [
    "NQLL_expansion = 0\n",
    "for j in range(jmax+1):\n",
    "    NQLL_expansion += b[j]*cos(j*pi/L*x)\n",
    "NQLL_expansion"
   ]
  },
  {
   "cell_type": "code",
   "execution_count": 80,
   "id": "aab933bd",
   "metadata": {},
   "outputs": [
    {
     "data": {
      "text/latex": [
       "$\\displaystyle - \\frac{\\pi^{2} D \\left(\\cos{\\left(\\frac{\\pi x}{L} \\right)} {b}_{1} + 4 \\cos{\\left(\\frac{2 \\pi x}{L} \\right)} {b}_{2} + 9 \\cos{\\left(\\frac{3 \\pi x}{L} \\right)} {b}_{3} + 16 \\cos{\\left(\\frac{4 \\pi x}{L} \\right)} {b}_{4} + 25 \\cos{\\left(\\frac{5 \\pi x}{L} \\right)} {b}_{5}\\right)}{L^{2}}$"
      ],
      "text/plain": [
       "-pi**2*D*(cos(pi*x/L)*b[1] + 4*cos(2*pi*x/L)*b[2] + 9*cos(3*pi*x/L)*b[3] + 16*cos(4*pi*x/L)*b[4] + 25*cos(5*pi*x/L)*b[5])/L**2"
      ]
     },
     "execution_count": 80,
     "metadata": {},
     "output_type": "execute_result"
    }
   ],
   "source": [
    "RHS = D*NQLL_expansion_manual.diff(x,2)\n",
    "RHS"
   ]
  },
  {
   "cell_type": "code",
   "execution_count": 82,
   "id": "6572d5d4",
   "metadata": {
    "scrolled": false
   },
   "outputs": [
    {
     "data": {
      "text/latex": [
       "$\\displaystyle 0$"
      ],
      "text/plain": [
       "0"
      ]
     },
     "execution_count": 82,
     "metadata": {},
     "output_type": "execute_result"
    }
   ],
   "source": [
    "LHS = NQLL_expansion_manual.diff(t,1)\n",
    "LHS"
   ]
  },
  {
   "cell_type": "code",
   "execution_count": 46,
   "id": "3d36ff6e",
   "metadata": {},
   "outputs": [
    {
     "ename": "TypeError",
     "evalue": "'IndexedBase' object does not support item assignment",
     "output_type": "error",
     "traceback": [
      "\u001b[0;31m---------------------------------------------------------------------------\u001b[0m",
      "\u001b[0;31mTypeError\u001b[0m                                 Traceback (most recent call last)",
      "Cell \u001b[0;32mIn[46], line 1\u001b[0m\n\u001b[0;32m----> 1\u001b[0m b[\u001b[38;5;241m0\u001b[39m] \u001b[38;5;241m=\u001b[39m Function(\u001b[38;5;124m'\u001b[39m\u001b[38;5;124mb[0]\u001b[39m\u001b[38;5;124m'\u001b[39m)\n",
      "\u001b[0;31mTypeError\u001b[0m: 'IndexedBase' object does not support item assignment"
     ]
    }
   ],
   "source": [
    "b[0] = Function('b[0]')"
   ]
  },
  {
   "cell_type": "code",
   "execution_count": 31,
   "id": "b04d30b9",
   "metadata": {},
   "outputs": [
    {
     "data": {
      "text/latex": [
       "$\\displaystyle 0$"
      ],
      "text/plain": [
       "0"
      ]
     },
     "execution_count": 31,
     "metadata": {},
     "output_type": "execute_result"
    }
   ],
   "source": [
    "LHS = NQLL_expansion.diff(t,1)\n",
    "LHS"
   ]
  },
  {
   "cell_type": "code",
   "execution_count": 20,
   "id": "fc84650d",
   "metadata": {},
   "outputs": [
    {
     "data": {
      "text/plain": [
       "<bound method Basic.simplify of D*Derivative(NQLL(t, x), (x, 2))>"
      ]
     },
     "execution_count": 20,
     "metadata": {},
     "output_type": "execute_result"
    }
   ],
   "source": [
    "RHS = RHS.subs(NQLL,NQLL_expansion)\n",
    "RHS.simplify"
   ]
  },
  {
   "cell_type": "code",
   "execution_count": 11,
   "id": "15e1f2c9",
   "metadata": {},
   "outputs": [
    {
     "ename": "ValueError",
     "evalue": "dsolve() and classify_ode() only work with functions of one variable, not NQLL(t, x)",
     "output_type": "error",
     "traceback": [
      "\u001b[0;31m---------------------------------------------------------------------------\u001b[0m",
      "\u001b[0;31mValueError\u001b[0m                                Traceback (most recent call last)",
      "Cell \u001b[0;32mIn[11], line 1\u001b[0m\n\u001b[0;32m----> 1\u001b[0m \u001b[43mdsolve\u001b[49m\u001b[43m(\u001b[49m\u001b[43mdiffeq\u001b[49m\u001b[43m,\u001b[49m\u001b[43m \u001b[49m\u001b[43mNQLL\u001b[49m\u001b[43m(\u001b[49m\u001b[43mt\u001b[49m\u001b[43m,\u001b[49m\u001b[43mx\u001b[49m\u001b[43m)\u001b[49m\u001b[43m)\u001b[49m\n",
      "File \u001b[0;32m~/anaconda3/lib/python3.10/site-packages/sympy/solvers/ode/ode.py:605\u001b[0m, in \u001b[0;36mdsolve\u001b[0;34m(eq, func, hint, simplify, ics, xi, eta, x0, n, **kwargs)\u001b[0m\n\u001b[1;32m    602\u001b[0m given_hint \u001b[38;5;241m=\u001b[39m hint  \u001b[38;5;66;03m# hint given by the user\u001b[39;00m\n\u001b[1;32m    604\u001b[0m \u001b[38;5;66;03m# See the docstring of _desolve for more details.\u001b[39;00m\n\u001b[0;32m--> 605\u001b[0m hints \u001b[38;5;241m=\u001b[39m \u001b[43m_desolve\u001b[49m\u001b[43m(\u001b[49m\u001b[43meq\u001b[49m\u001b[43m,\u001b[49m\u001b[43m \u001b[49m\u001b[43mfunc\u001b[49m\u001b[38;5;241;43m=\u001b[39;49m\u001b[43mfunc\u001b[49m\u001b[43m,\u001b[49m\n\u001b[1;32m    606\u001b[0m \u001b[43m    \u001b[49m\u001b[43mhint\u001b[49m\u001b[38;5;241;43m=\u001b[39;49m\u001b[43mhint\u001b[49m\u001b[43m,\u001b[49m\u001b[43m \u001b[49m\u001b[43msimplify\u001b[49m\u001b[38;5;241;43m=\u001b[39;49m\u001b[38;5;28;43;01mTrue\u001b[39;49;00m\u001b[43m,\u001b[49m\u001b[43m \u001b[49m\u001b[43mxi\u001b[49m\u001b[38;5;241;43m=\u001b[39;49m\u001b[43mxi\u001b[49m\u001b[43m,\u001b[49m\u001b[43m \u001b[49m\u001b[43meta\u001b[49m\u001b[38;5;241;43m=\u001b[39;49m\u001b[43meta\u001b[49m\u001b[43m,\u001b[49m\u001b[43m \u001b[49m\u001b[38;5;28;43mtype\u001b[39;49m\u001b[38;5;241;43m=\u001b[39;49m\u001b[38;5;124;43m'\u001b[39;49m\u001b[38;5;124;43mode\u001b[39;49m\u001b[38;5;124;43m'\u001b[39;49m\u001b[43m,\u001b[49m\u001b[43m \u001b[49m\u001b[43mics\u001b[49m\u001b[38;5;241;43m=\u001b[39;49m\u001b[43mics\u001b[49m\u001b[43m,\u001b[49m\n\u001b[1;32m    607\u001b[0m \u001b[43m    \u001b[49m\u001b[43mx0\u001b[49m\u001b[38;5;241;43m=\u001b[39;49m\u001b[43mx0\u001b[49m\u001b[43m,\u001b[49m\u001b[43m \u001b[49m\u001b[43mn\u001b[49m\u001b[38;5;241;43m=\u001b[39;49m\u001b[43mn\u001b[49m\u001b[43m,\u001b[49m\u001b[43m \u001b[49m\u001b[38;5;241;43m*\u001b[39;49m\u001b[38;5;241;43m*\u001b[39;49m\u001b[43mkwargs\u001b[49m\u001b[43m)\u001b[49m\n\u001b[1;32m    608\u001b[0m eq \u001b[38;5;241m=\u001b[39m hints\u001b[38;5;241m.\u001b[39mpop(\u001b[38;5;124m'\u001b[39m\u001b[38;5;124meq\u001b[39m\u001b[38;5;124m'\u001b[39m, eq)\n\u001b[1;32m    609\u001b[0m all_ \u001b[38;5;241m=\u001b[39m hints\u001b[38;5;241m.\u001b[39mpop(\u001b[38;5;124m'\u001b[39m\u001b[38;5;124mall\u001b[39m\u001b[38;5;124m'\u001b[39m, \u001b[38;5;28;01mFalse\u001b[39;00m)\n",
      "File \u001b[0;32m~/anaconda3/lib/python3.10/site-packages/sympy/solvers/deutils.py:209\u001b[0m, in \u001b[0;36m_desolve\u001b[0;34m(eq, func, hint, ics, simplify, prep, **kwargs)\u001b[0m\n\u001b[1;32m    205\u001b[0m \u001b[38;5;66;03m# Magic that should only be used internally.  Prevents classify_ode from\u001b[39;00m\n\u001b[1;32m    206\u001b[0m \u001b[38;5;66;03m# being called more than it needs to be by passing its results through\u001b[39;00m\n\u001b[1;32m    207\u001b[0m \u001b[38;5;66;03m# recursive calls.\u001b[39;00m\n\u001b[1;32m    208\u001b[0m \u001b[38;5;28;01mif\u001b[39;00m kwargs\u001b[38;5;241m.\u001b[39mget(\u001b[38;5;124m'\u001b[39m\u001b[38;5;124mclassify\u001b[39m\u001b[38;5;124m'\u001b[39m, \u001b[38;5;28;01mTrue\u001b[39;00m):\n\u001b[0;32m--> 209\u001b[0m     hints \u001b[38;5;241m=\u001b[39m \u001b[43mclassifier\u001b[49m\u001b[43m(\u001b[49m\u001b[43meq\u001b[49m\u001b[43m,\u001b[49m\u001b[43m \u001b[49m\u001b[43mfunc\u001b[49m\u001b[43m,\u001b[49m\u001b[43m \u001b[49m\u001b[38;5;28;43mdict\u001b[39;49m\u001b[38;5;241;43m=\u001b[39;49m\u001b[38;5;28;43;01mTrue\u001b[39;49;00m\u001b[43m,\u001b[49m\u001b[43m \u001b[49m\u001b[43mics\u001b[49m\u001b[38;5;241;43m=\u001b[39;49m\u001b[43mics\u001b[49m\u001b[43m,\u001b[49m\u001b[43m \u001b[49m\u001b[43mxi\u001b[49m\u001b[38;5;241;43m=\u001b[39;49m\u001b[43mxi\u001b[49m\u001b[43m,\u001b[49m\u001b[43m \u001b[49m\u001b[43meta\u001b[49m\u001b[38;5;241;43m=\u001b[39;49m\u001b[43meta\u001b[49m\u001b[43m,\u001b[49m\n\u001b[1;32m    210\u001b[0m \u001b[43m    \u001b[49m\u001b[43mn\u001b[49m\u001b[38;5;241;43m=\u001b[39;49m\u001b[43mterms\u001b[49m\u001b[43m,\u001b[49m\u001b[43m \u001b[49m\u001b[43mx0\u001b[49m\u001b[38;5;241;43m=\u001b[39;49m\u001b[43mx0\u001b[49m\u001b[43m,\u001b[49m\u001b[43m \u001b[49m\u001b[43mhint\u001b[49m\u001b[38;5;241;43m=\u001b[39;49m\u001b[43mhint\u001b[49m\u001b[43m,\u001b[49m\u001b[43m \u001b[49m\u001b[43mprep\u001b[49m\u001b[38;5;241;43m=\u001b[39;49m\u001b[43mprep\u001b[49m\u001b[43m)\u001b[49m\n\u001b[1;32m    212\u001b[0m \u001b[38;5;28;01melse\u001b[39;00m:\n\u001b[1;32m    213\u001b[0m     \u001b[38;5;66;03m# Here is what all this means:\u001b[39;00m\n\u001b[1;32m    214\u001b[0m     \u001b[38;5;66;03m#\u001b[39;00m\n\u001b[0;32m   (...)\u001b[0m\n\u001b[1;32m    223\u001b[0m     \u001b[38;5;66;03m#          hint.\u001b[39;00m\n\u001b[1;32m    224\u001b[0m     \u001b[38;5;66;03m# order:   The order of the DE, as determined by ode_order().\u001b[39;00m\n\u001b[1;32m    225\u001b[0m     hints \u001b[38;5;241m=\u001b[39m kwargs\u001b[38;5;241m.\u001b[39mget(\u001b[38;5;124m'\u001b[39m\u001b[38;5;124mhint\u001b[39m\u001b[38;5;124m'\u001b[39m,\n\u001b[1;32m    226\u001b[0m                        {\u001b[38;5;124m'\u001b[39m\u001b[38;5;124mdefault\u001b[39m\u001b[38;5;124m'\u001b[39m: hint,\n\u001b[1;32m    227\u001b[0m                         hint: kwargs[\u001b[38;5;124m'\u001b[39m\u001b[38;5;124mmatch\u001b[39m\u001b[38;5;124m'\u001b[39m],\n\u001b[1;32m    228\u001b[0m                         \u001b[38;5;124m'\u001b[39m\u001b[38;5;124morder\u001b[39m\u001b[38;5;124m'\u001b[39m: kwargs[\u001b[38;5;124m'\u001b[39m\u001b[38;5;124morder\u001b[39m\u001b[38;5;124m'\u001b[39m]})\n",
      "File \u001b[0;32m~/anaconda3/lib/python3.10/site-packages/sympy/solvers/ode/ode.py:942\u001b[0m, in \u001b[0;36mclassify_ode\u001b[0;34m(eq, func, dict, ics, prep, xi, eta, n, **kwargs)\u001b[0m\n\u001b[1;32m    939\u001b[0m ics \u001b[38;5;241m=\u001b[39m sympify(ics)\n\u001b[1;32m    941\u001b[0m \u001b[38;5;28;01mif\u001b[39;00m func \u001b[38;5;129;01mand\u001b[39;00m \u001b[38;5;28mlen\u001b[39m(func\u001b[38;5;241m.\u001b[39margs) \u001b[38;5;241m!=\u001b[39m \u001b[38;5;241m1\u001b[39m:\n\u001b[0;32m--> 942\u001b[0m     \u001b[38;5;28;01mraise\u001b[39;00m \u001b[38;5;167;01mValueError\u001b[39;00m(\u001b[38;5;124m\"\u001b[39m\u001b[38;5;124mdsolve() and classify_ode() only \u001b[39m\u001b[38;5;124m\"\u001b[39m\n\u001b[1;32m    943\u001b[0m     \u001b[38;5;124m\"\u001b[39m\u001b[38;5;124mwork with functions of one variable, not \u001b[39m\u001b[38;5;132;01m%s\u001b[39;00m\u001b[38;5;124m\"\u001b[39m \u001b[38;5;241m%\u001b[39m func)\n\u001b[1;32m    945\u001b[0m \u001b[38;5;28;01mif\u001b[39;00m \u001b[38;5;28misinstance\u001b[39m(eq, Equality):\n\u001b[1;32m    946\u001b[0m     eq \u001b[38;5;241m=\u001b[39m eq\u001b[38;5;241m.\u001b[39mlhs \u001b[38;5;241m-\u001b[39m eq\u001b[38;5;241m.\u001b[39mrhs\n",
      "\u001b[0;31mValueError\u001b[0m: dsolve() and classify_ode() only work with functions of one variable, not NQLL(t, x)"
     ]
    }
   ],
   "source": [
    "dsolve(diffeq, NQLL(t,x))"
   ]
  },
  {
   "cell_type": "code",
   "execution_count": 7,
   "id": "9126471d",
   "metadata": {},
   "outputs": [
    {
     "data": {
      "text/latex": [
       "$\\displaystyle c^{2} k^{2} e^{- i \\left(k x + \\omega t\\right)} - \\omega^{2} e^{- i \\left(k x + \\omega t\\right)} = 0$"
      ],
      "text/plain": [
       "Eq(c**2*k**2*exp(-I*(k*x + omega*t)) - omega**2*exp(-I*(k*x + omega*t)), 0)"
      ]
     },
     "execution_count": 7,
     "metadata": {},
     "output_type": "execute_result"
    }
   ],
   "source": [
    "eq2 = eq.replace(U(t,x), X).simplify()\n",
    "eq2"
   ]
  },
  {
   "cell_type": "code",
   "execution_count": 8,
   "id": "c8799d77",
   "metadata": {},
   "outputs": [
    {
     "data": {
      "text/plain": [
       "[omega/c]"
      ]
     },
     "execution_count": 8,
     "metadata": {},
     "output_type": "execute_result"
    }
   ],
   "source": [
    "solve(eq2, k)"
   ]
  },
  {
   "cell_type": "code",
   "execution_count": 10,
   "id": "6819cd2f",
   "metadata": {},
   "outputs": [
    {
     "data": {
      "text/plain": [
       "[c*k]"
      ]
     },
     "execution_count": 10,
     "metadata": {},
     "output_type": "execute_result"
    }
   ],
   "source": [
    "solve(eq2, omega)"
   ]
  },
  {
   "cell_type": "code",
   "execution_count": 9,
   "id": "3a2abac3",
   "metadata": {},
   "outputs": [
    {
     "data": {
      "text/latex": [
       "$\\displaystyle \\text{True}$"
      ],
      "text/plain": [
       "True"
      ]
     },
     "execution_count": 9,
     "metadata": {},
     "output_type": "execute_result"
    }
   ],
   "source": [
    "eq2.subs(k, omega/c )"
   ]
  },
  {
   "cell_type": "code",
   "execution_count": null,
   "id": "47107059",
   "metadata": {},
   "outputs": [],
   "source": []
  }
 ],
 "metadata": {
  "kernelspec": {
   "display_name": "Python 3 (ipykernel)",
   "language": "python",
   "name": "python3"
  },
  "language_info": {
   "codemirror_mode": {
    "name": "ipython",
    "version": 3
   },
   "file_extension": ".py",
   "mimetype": "text/x-python",
   "name": "python",
   "nbconvert_exporter": "python",
   "pygments_lexer": "ipython3",
   "version": "3.10.8"
  }
 },
 "nbformat": 4,
 "nbformat_minor": 5
}
