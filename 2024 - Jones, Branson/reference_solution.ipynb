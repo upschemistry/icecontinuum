{
 "cells": [
  {
   "cell_type": "code",
   "execution_count": 1,
   "metadata": {},
   "outputs": [],
   "source": [
    "from pint import UnitRegistry; AssignQuantity = UnitRegistry().Quantity\n",
    "import numpy as np\n",
    "\n",
    "import sys\n",
    "sys.path.append('..')\n",
    "import reference_solution as refsol\n",
    "import f90nml"
   ]
  },
  {
   "cell_type": "code",
   "execution_count": 2,
   "metadata": {},
   "outputs": [],
   "source": [
    "%matplotlib widget\n",
    "ticklabelsize = 15\n",
    "linewidth = 1\n",
    "fontsize = 15\n",
    "titlefontsize = 8\n",
    "markersize = 10"
   ]
  },
  {
   "cell_type": "code",
   "execution_count": 3,
   "metadata": {},
   "outputs": [],
   "source": [
    "# Read in GI parameters\n",
    "inputfile = \"GI parameters - Reference limit cycle (for testing).nml\"\n",
    "GI=f90nml.read(inputfile)['GI']\n",
    "nx_crystal = GI['nx_crystal']\n",
    "L = GI['L']\n",
    "\n",
    "# Define x values for plotting\n",
    "x_QLC = np.linspace(-L,L,nx_crystal)"
   ]
  },
  {
   "cell_type": "code",
   "execution_count": 4,
   "metadata": {},
   "outputs": [
    {
     "name": "stdout",
     "output_type": "stream",
     "text": [
      "Using parameter file GI parameters - Reference limit cycle (for testing).nml ...\n",
      "\n",
      "This is a run from time 0.0 millisecond to 50.0 millisecond\n",
      "dt = 1020.4081632653061 microsecond\n",
      "10 % elapsed time is 0.007 minutes\n",
      "20 % elapsed time is 0.013 minutes\n",
      "30 % elapsed time is 0.020 minutes\n",
      "40 % elapsed time is 0.027 minutes\n",
      "50 % elapsed time is 0.034 minutes\n",
      "60 % elapsed time is 0.040 minutes\n",
      "70 % elapsed time is 0.046 minutes\n",
      "80 % elapsed time is 0.054 minutes\n",
      "90 % elapsed time is 0.061 minutes\n",
      "100% done\n",
      "status =  0\n",
      "message =  The solver successfully reached the end of the integration interval.\n",
      "['message', 'nfev', 'njev', 'nlu', 'sol', 'status', 'success', 't', 't_events', 'y', 'y_events']\n"
     ]
    }
   ],
   "source": [
    "val1 = refsol.generate_reference_solution(runtime=50)"
   ]
  },
  {
   "cell_type": "markdown",
   "metadata": {},
   "source": [
    "Plot output"
   ]
  },
  {
   "cell_type": "code",
   "execution_count": 5,
   "metadata": {},
   "outputs": [
    {
     "name": "stdout",
     "output_type": "stream",
     "text": [
      "Plots for Non-Dimensional QLC Model at 50 ms:\n",
      "\n"
     ]
    },
    {
     "ename": "NameError",
     "evalue": "name 'x_QLC' is not defined",
     "output_type": "error",
     "traceback": [
      "\u001b[1;31m---------------------------------------------------------------------------\u001b[0m",
      "\u001b[1;31mNameError\u001b[0m                                 Traceback (most recent call last)",
      "Cell \u001b[1;32mIn[5], line 3\u001b[0m\n\u001b[0;32m      1\u001b[0m \u001b[38;5;66;03m# plot at will\u001b[39;00m\n\u001b[0;32m      2\u001b[0m \u001b[38;5;28mprint\u001b[39m(\u001b[38;5;124mf\u001b[39m\u001b[38;5;124m\"\u001b[39m\u001b[38;5;124mPlots for Non-Dimensional QLC Model at \u001b[39m\u001b[38;5;132;01m{\u001b[39;00m\u001b[38;5;28mlen\u001b[39m(val1[\u001b[38;5;241m0\u001b[39m])\u001b[38;5;132;01m}\u001b[39;00m\u001b[38;5;124m ms:\u001b[39m\u001b[38;5;130;01m\\n\u001b[39;00m\u001b[38;5;124m\"\u001b[39m)\n\u001b[1;32m----> 3\u001b[0m refsol\u001b[38;5;241m.\u001b[39mplot_alone(val1[\u001b[38;5;241m0\u001b[39m][\u001b[38;5;241m-\u001b[39m\u001b[38;5;241m1\u001b[39m], \u001b[43mx_QLC\u001b[49m, \u001b[38;5;124m\"\u001b[39m\u001b[38;5;124mN-Tot expected output \u001b[39m\u001b[38;5;124m\"\u001b[39m)\n\u001b[0;32m      4\u001b[0m refsol\u001b[38;5;241m.\u001b[39mplot_alone(val1[\u001b[38;5;241m1\u001b[39m][\u001b[38;5;241m-\u001b[39m\u001b[38;5;241m1\u001b[39m], x_QLC, \u001b[38;5;124m\"\u001b[39m\u001b[38;5;124mN-QLL expected output\u001b[39m\u001b[38;5;124m\"\u001b[39m)\n\u001b[0;32m      5\u001b[0m refsol\u001b[38;5;241m.\u001b[39mplot_alone(val1[\u001b[38;5;241m2\u001b[39m][\u001b[38;5;241m-\u001b[39m\u001b[38;5;241m1\u001b[39m], x_QLC, \u001b[38;5;124m\"\u001b[39m\u001b[38;5;124mN-Ice expected output   (N-Ice = N-Tot - N-QLL)\u001b[39m\u001b[38;5;124m\"\u001b[39m)\n",
      "\u001b[1;31mNameError\u001b[0m: name 'x_QLC' is not defined"
     ]
    }
   ],
   "source": [
    "# plot at will\n",
    "print(f\"Plots for Non-Dimensional QLC Model at {len(val1[0])} ms:\\n\")\n",
    "refsol.plot_alone(val1[0][-1], x_QLC, \"N-Tot expected output \")\n",
    "refsol.plot_alone(val1[1][-1], x_QLC, \"N-QLL expected output\")\n",
    "refsol.plot_alone(val1[2][-1], x_QLC, \"N-Ice expected output   (N-Ice = N-Tot - N-QLL)\")\n"
   ]
  }
 ],
 "metadata": {
  "kernelspec": {
   "display_name": "Python 3",
   "language": "python",
   "name": "python3"
  },
  "language_info": {
   "codemirror_mode": {
    "name": "ipython",
    "version": 3
   },
   "file_extension": ".py",
   "mimetype": "text/x-python",
   "name": "python",
   "nbconvert_exporter": "python",
   "pygments_lexer": "ipython3",
   "version": "3.9.13"
  }
 },
 "nbformat": 4,
 "nbformat_minor": 2
}
