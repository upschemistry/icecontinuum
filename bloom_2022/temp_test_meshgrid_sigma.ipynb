{
 "cells": [
  {
   "cell_type": "code",
   "execution_count": 1,
   "metadata": {},
   "outputs": [
    {
     "name": "stderr",
     "output_type": "stream",
     "text": [
      "C:\\Users\\Max-PC\\AppData\\Local\\Packages\\PythonSoftwareFoundation.Python.3.9_qbz5n2kfra8p0\\LocalCache\\local-packages\\Python39\\site-packages\\llvmlite\\llvmpy\\__init__.py:3: UserWarning: The module `llvmlite.llvmpy` is deprecated and will be removed in the future.\n",
      "  warnings.warn(\n",
      "C:\\Users\\Max-PC\\AppData\\Local\\Packages\\PythonSoftwareFoundation.Python.3.9_qbz5n2kfra8p0\\LocalCache\\local-packages\\Python39\\site-packages\\llvmlite\\llvmpy\\core.py:8: UserWarning: The module `llvmlite.llvmpy.core` is deprecated and will be removed in the future. Equivalent functionality is provided by `llvmlite.ir`.\n",
      "  warnings.warn(\n",
      "C:\\Users\\Max-PC\\AppData\\Local\\Packages\\PythonSoftwareFoundation.Python.3.9_qbz5n2kfra8p0\\LocalCache\\local-packages\\Python39\\site-packages\\llvmlite\\llvmpy\\passes.py:17: UserWarning: The module `llvmlite.llvmpy.passes` is deprecated and will be removed in the future. If you are using this code, it should be inlined into your own project.\n",
      "  warnings.warn(\n"
     ]
    }
   ],
   "source": [
    "import numpy as np\n",
    "import diffusionstuff7 as ds"
   ]
  },
  {
   "cell_type": "code",
   "execution_count": 2,
   "metadata": {},
   "outputs": [],
   "source": [
    "#Setting up the 2D system\n",
    "\n",
    "niter = 1\n",
    "center_reduction = 1.0\n",
    "sigmastepmax = 0.20\n",
    "\n",
    "nx = 500 # Number of points in simulation box\n",
    "xmax = 50 # range of x\n",
    "xs = np.linspace(0, xmax, nx)\n",
    "\n",
    "ny = nx\n",
    "ymax = xmax\n",
    "ys = np.linspace(0, ymax, ny)\n",
    "\n",
    "deltaX = xs[1]-xs[0]\n",
    "deltaY = ys[1]-ys[0]\n",
    "\n",
    "Nbar = 1.0 # new Nbar from VMD, 260K\n",
    "Nstar = .9/(2*np.pi)\n",
    "# Initialize as a pre-equilibrated layer of liquid over ice\n",
    "\n",
    "Nice = np.ones((nx,ny))\n",
    "\n",
    "\n",
    "Fliq = ds.getNliq_2d_array(Nice,Nstar,Nbar,niter)\n",
    "\n",
    "#simgastep_2d = ds.getsigmastep_2d(xs,xmax,center_reduction,sigmastepmax)\n",
    "\n",
    "# Lay out the system\n",
    "Ntot = Fliq + Nice\n",
    "# nmid = int(nx/2)\n",
    "# nquart = int(nx/4)\n",
    "# xmid = max(x)/2\n",
    "# xmax = x[nx-1]\n",
    "Nice_start = Nice[0]"
   ]
  },
  {
   "cell_type": "code",
   "execution_count": 15,
   "metadata": {},
   "outputs": [],
   "source": [
    "from numba import njit,float64,int32\n",
    "import numba as nb\n",
    "\n",
    "@njit(nb.types.containers.UniTuple(float64[:,:],2)(float64[:],float64[:]))\n",
    "def meshgrid(x, y):\n",
    "    xx = np.empty(shape=(x.size, y.size), dtype=x.dtype)\n",
    "    yy = np.empty(shape=(x.size, y.size), dtype=y.dtype)\n",
    "    for i in range(y.size):\n",
    "        for j in range(x.size):\n",
    "            xx[i,j] = x[j]  # change to x[k] if indexing xy\n",
    "            yy[i,j] = y[i]  # change to y[j] if indexing xy\n",
    "    return xx, yy"
   ]
  },
  {
   "cell_type": "code",
   "execution_count": 18,
   "metadata": {},
   "outputs": [
    {
     "name": "stdout",
     "output_type": "stream",
     "text": [
      "[[ 0.         0.1002004  0.2004008 ... 49.7995992 49.8997996 50.       ]\n",
      " [ 0.         0.1002004  0.2004008 ... 49.7995992 49.8997996 50.       ]\n",
      " [ 0.         0.1002004  0.2004008 ... 49.7995992 49.8997996 50.       ]\n",
      " ...\n",
      " [ 0.         0.1002004  0.2004008 ... 49.7995992 49.8997996 50.       ]\n",
      " [ 0.         0.1002004  0.2004008 ... 49.7995992 49.8997996 50.       ]\n",
      " [ 0.         0.1002004  0.2004008 ... 49.7995992 49.8997996 50.       ]] [[ 0.         0.         0.        ...  0.         0.         0.       ]\n",
      " [ 0.1002004  0.1002004  0.1002004 ...  0.1002004  0.1002004  0.1002004]\n",
      " [ 0.2004008  0.2004008  0.2004008 ...  0.2004008  0.2004008  0.2004008]\n",
      " ...\n",
      " [49.7995992 49.7995992 49.7995992 ... 49.7995992 49.7995992 49.7995992]\n",
      " [49.8997996 49.8997996 49.8997996 ... 49.8997996 49.8997996 49.8997996]\n",
      " [50.        50.        50.        ... 50.        50.        50.       ]]\n",
      "[[ 0.         0.1002004  0.2004008 ... 49.7995992 49.8997996 50.       ]\n",
      " [ 0.         0.1002004  0.2004008 ... 49.7995992 49.8997996 50.       ]\n",
      " [ 0.         0.1002004  0.2004008 ... 49.7995992 49.8997996 50.       ]\n",
      " ...\n",
      " [ 0.         0.1002004  0.2004008 ... 49.7995992 49.8997996 50.       ]\n",
      " [ 0.         0.1002004  0.2004008 ... 49.7995992 49.8997996 50.       ]\n",
      " [ 0.         0.1002004  0.2004008 ... 49.7995992 49.8997996 50.       ]] [[ 0.         0.         0.        ...  0.         0.         0.       ]\n",
      " [ 0.1002004  0.1002004  0.1002004 ...  0.1002004  0.1002004  0.1002004]\n",
      " [ 0.2004008  0.2004008  0.2004008 ...  0.2004008  0.2004008  0.2004008]\n",
      " ...\n",
      " [49.7995992 49.7995992 49.7995992 ... 49.7995992 49.7995992 49.7995992]\n",
      " [49.8997996 49.8997996 49.8997996 ... 49.8997996 49.8997996 49.8997996]\n",
      " [50.        50.        50.        ... 50.        50.        50.       ]]\n"
     ]
    }
   ],
   "source": [
    "#testing sigmastep 2d\n",
    "\n",
    "xs = np.linspace(0, xmax, nx)\n",
    "ys = np.linspace(0, ymax, ny)\n",
    "\n",
    "sigmapfac = 1-center_reduction/100 #float64\n",
    "xmid = max(xs)/2 #float64\n",
    "ymid = max(ys)/2 #float64\n",
    "x_alt = xs\n",
    "y_alt = ys\n",
    "(xs,ys) = meshgrid(xs,ys)\n",
    "\n",
    "\n",
    "\n",
    "fsig = ((xs-xmid)**2 + (ys-ymid)**2)/xmid**2*(1-sigmapfac)+sigmapfac #NOTE xmid in denominator does not support distinct 2d discretization (diff dx and dy)\n",
    "\n",
    "print(xs,ys)\n",
    "\n",
    "#print(type(meshgrid(xs,ys)))\n",
    "\n",
    "xs = np.linspace(0, xmax, nx)\n",
    "ys = np.linspace(0, ymax, ny)\n",
    "my_xs,my_ys = meshgrid(xs,ys)\n",
    "print(my_xs,my_ys)\n"
   ]
  },
  {
   "cell_type": "code",
   "execution_count": null,
   "metadata": {},
   "outputs": [],
   "source": []
  },
  {
   "cell_type": "code",
   "execution_count": null,
   "metadata": {},
   "outputs": [],
   "source": []
  }
 ],
 "metadata": {
  "kernelspec": {
   "display_name": "Python 3.9.13 64-bit (windows store)",
   "language": "python",
   "name": "python3"
  },
  "language_info": {
   "codemirror_mode": {
    "name": "ipython",
    "version": 3
   },
   "file_extension": ".py",
   "mimetype": "text/x-python",
   "name": "python",
   "nbconvert_exporter": "python",
   "pygments_lexer": "ipython3",
   "version": "3.9.13"
  },
  "orig_nbformat": 4,
  "vscode": {
   "interpreter": {
    "hash": "a5639f55dd41388b289936a35ec1befe471f3e8ab332c7f154620eef02aaf2e9"
   }
  }
 },
 "nbformat": 4,
 "nbformat_minor": 2
}
