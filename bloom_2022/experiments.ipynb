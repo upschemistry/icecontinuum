{
 "cells": [
  {
   "cell_type": "code",
   "execution_count": 2,
   "metadata": {},
   "outputs": [
    {
     "name": "stderr",
     "output_type": "stream",
     "text": [
      "C:\\Users\\Max-PC\\AppData\\Local\\Packages\\PythonSoftwareFoundation.Python.3.9_qbz5n2kfra8p0\\LocalCache\\local-packages\\Python39\\site-packages\\llvmlite\\llvmpy\\__init__.py:3: UserWarning: The module `llvmlite.llvmpy` is deprecated and will be removed in the future.\n",
      "  warnings.warn(\n",
      "C:\\Users\\Max-PC\\AppData\\Local\\Packages\\PythonSoftwareFoundation.Python.3.9_qbz5n2kfra8p0\\LocalCache\\local-packages\\Python39\\site-packages\\llvmlite\\llvmpy\\core.py:8: UserWarning: The module `llvmlite.llvmpy.core` is deprecated and will be removed in the future. Equivalent functionality is provided by `llvmlite.ir`.\n",
      "  warnings.warn(\n",
      "C:\\Users\\Max-PC\\AppData\\Local\\Packages\\PythonSoftwareFoundation.Python.3.9_qbz5n2kfra8p0\\LocalCache\\local-packages\\Python39\\site-packages\\llvmlite\\llvmpy\\passes.py:17: UserWarning: The module `llvmlite.llvmpy.passes` is deprecated and will be removed in the future. If you are using this code, it should be inlined into your own project.\n",
      "  warnings.warn(\n"
     ]
    }
   ],
   "source": [
    "import numpy as np\n",
    "from matplotlib import pyplot as plt\n",
    "from matplotlib import rcParams\n",
    "import time\n",
    "from copy import copy\n",
    "\n",
    "#from sim_handling import Simulation,loadSim #uses ds7\n",
    "from sim_handling2 import Simulation,loadSim #ds8: faster, more space efficient\n",
    "from diffusionstuff8 import f0d,f1d,f2d, getsigmastep_2d\n",
    "from matplotlib.animation import PillowWriter"
   ]
  },
  {
   "cell_type": "code",
   "execution_count": 3,
   "metadata": {},
   "outputs": [],
   "source": [
    "%matplotlib widget\n",
    "\n",
    "#set figsize to be big (12,12) inches\n",
    "#rcParams['figure.figsize'] = 10,10"
   ]
  },
  {
   "cell_type": "markdown",
   "metadata": {},
   "source": [
    "assymettric 2d growth"
   ]
  },
  {
   "cell_type": "code",
   "execution_count": null,
   "metadata": {},
   "outputs": [],
   "source": [
    "#load a simulation\n",
    "\n",
    "#load the ablation with initial noise run\n",
    "#test_2d_asym = loadSim('f2d_simulation_asymmetric250_200_500layers_center_reduction0.1_D_2_RK45_sigmamax_-0.01noisyinit_True.pkl')\n",
    "\n",
    "#load the growth with initial noise run\n",
    "#test_2d_asym = loadSim('f2d_simulation_asymmetric250_200_500layers_center_reduction0.1_D_2_RK45_sigmamax_0.2noisyinit_True.pkl')\n"
   ]
  },
  {
   "cell_type": "code",
   "execution_count": 4,
   "metadata": {},
   "outputs": [],
   "source": [
    "#set up and run and plot a new simulation\n",
    "test_2d_asym = Simulation(f2d, (200,600), method='RK45')\n",
    "\n",
    "#try a noisy simulation\n",
    "test_2d_asym.noisy_init = False\n",
    "\n",
    "#test_2d_asym.float_params['DoverdeltaX2'] *= 2 \n",
    "test_2d_asym.layermax = 1000\n",
    "#test_2d_asym.sigmastepmax= -0.01 #ablation\n",
    "test_2d_asym.sigmastepmax= 0.20 #growth\n",
    "test_2d_asym.center_reduction = 0.1\n",
    "#test_2d_asym.deltaT *= 10 #increase time step to decrease number of steps saved\n",
    "\n",
    "#_plot = test_2d_asym.plot(tot=True,completion=1)\n",
    "#anim = test_2d_asym.animate(ice=True,surface=True, ret=True, focus_on_growth=True)"
   ]
  },
  {
   "cell_type": "code",
   "execution_count": null,
   "metadata": {},
   "outputs": [],
   "source": [
    "my_id=['asymmetric'+str(test_2d_asym.shape[0])+'_'+str(test_2d_asym.shape[1]),str(test_2d_asym.layermax)+'layers',\n",
    "                                'center_reduction'+str(test_2d_asym.center_reduction),  'D_2', test_2d_asym.method, 'sigmamax_'+str(test_2d_asym.sigmastepmax) +'noisyinit_'+str(test_2d_asym.noisy_init)] #'Cy_0_Dy0',\n",
    "my_filename = ''.join([i+'_' for i in my_id])"
   ]
  },
  {
   "cell_type": "code",
   "execution_count": null,
   "metadata": {},
   "outputs": [],
   "source": [
    "#calcs to graph asymmetric sigmastep2d\n",
    "xs,ys = test_2d_asym.x, test_2d_asym.y #linspace\n",
    "sigma = getsigmastep_2d(xs,ys, test_2d_asym.center_reduction, test_2d_asym.sigmastepmax)\n",
    "ygrid,xgrid = np.meshgrid(ys,xs) #2d mesh for plotting"
   ]
  },
  {
   "cell_type": "code",
   "execution_count": null,
   "metadata": {},
   "outputs": [],
   "source": [
    "#countour plot of sigmastep 2d\n",
    "print(xs.shape,ys.shape,sigma.shape)\n",
    "fig,ax = plt.subplots()\n",
    "CS = ax.contourf(xgrid,ygrid,sigma*100,np.arange(np.min(sigma*100)-0.01,np.max(sigma*100)+0.01,0.01))\n",
    "#CS = ax.contourf(xgrid,ygrid,xgrid) #graph x\n",
    "#CS = ax.contourf(xgrid,ygrid,ygrid) #graph y\n",
    "ax.set_xlabel(r'$x (\\mu m)$', fontsize=20)\n",
    "ax.set_ylabel(r'$y (\\mu m)$', fontsize=20)\n",
    "plt.grid(True)\n",
    "plt.gca().set_aspect('equal')\n",
    "fig.colorbar(CS)\n",
    "plt.title('%supersaturation (getsigmastep_2d)')\n",
    "print(xgrid.shape,ygrid.shape)"
   ]
  },
  {
   "cell_type": "code",
   "execution_count": null,
   "metadata": {},
   "outputs": [],
   "source": [
    "#animate the simulation (runs if needed)\n",
    "#test_2d_asym.run(halve_time_res=True) #only saves half the time steps since it is a huge simulation\n",
    "\n",
    "anim = test_2d_asym.animate(ret=True, focus_on_growth=True, proportionalSpeed=False)"
   ]
  },
  {
   "cell_type": "code",
   "execution_count": null,
   "metadata": {},
   "outputs": [],
   "source": [
    "#start a second simulation starting with the ending surface of the first \n",
    "# as the initial surface\n",
    "\n",
    "#create 1d sim and graph number of steps over time\n",
    "cycle_sim =  Simulation(f2d, (test_2d_asym.shape[0],test_2d_asym.shape[1]), method=test_2d_asym.method, rtol=test_2d_asym.rtol)\n",
    "\n",
    "#keep general params same\n",
    "cycle_sim.layermax = test_2d_asym.layermax * 1.5 #make sure it reaches steady state\n",
    "cycle_sim.float_params['DoverdeltaX2'] = test_2d_asym.float_params['DoverdeltaX2'] \n",
    "cycle_sim.sigma0 = test_2d_asym.sigma0\n",
    "cycle_sim.center_reduction = test_2d_asym.center_reduction\n",
    "cycle_sim.deltaT = test_2d_asym.deltaT #increase time step to decrease number of steps saved?\n",
    "cycle_sim.noisy_init = test_2d_asym.noisy_init\n",
    "\n",
    "#set up initial surface\n",
    "cycle_sim.nonstd_init = True\n",
    "ntots = test_2d_asym.getNtot()\n",
    "cycle_sim.startingNtot = ntots[len(ntots)//2] #start with the middle of the last simulation, before discretzation error\n",
    "\n",
    "#set to ablation run\n",
    "cycle_sim.sigmastepmax = -0.01\n"
   ]
  },
  {
   "cell_type": "code",
   "execution_count": null,
   "metadata": {},
   "outputs": [],
   "source": [
    "#animate ablation of growth ending surface\n",
    "anim = cycle_sim.animate(ret=True, focus_on_growth=True, proportionalSpeed=False)"
   ]
  },
  {
   "cell_type": "code",
   "execution_count": null,
   "metadata": {},
   "outputs": [],
   "source": [
    "#graph number of steps over time\n",
    "Ntot = test_2d_asym.getNtot()\n",
    "#Ntot = cycle_sim.getNtot()\n",
    "\n",
    "maxes = np.array([np.max(n) for n in Ntot[:]])\n",
    "mins = np.array([np.min(n) for n in Ntot[:]])\n",
    "\n",
    "#print(maxes,mins)\n",
    "plt.figure()\n",
    "ax = plt.subplot(111)\n",
    "\n",
    "ax.set_ylabel('Number of steps on surface')\n",
    "\n",
    "if test_2d_asym.sigmastepmax < 0: #ablation case\n",
    "    ax.set_xlabel('Total number of layers ablated')\n",
    "    ax.plot( Ntot[::-1,0,0]+test_2d_asym.layermax,maxes-mins) #flipping to show ablation progress from left to right, adding layermax to show # layers ablated instead of negative # layers grown\n",
    "else: #growth case   \n",
    "    ax.set_xlabel('Total number of layers grown')\n",
    "    ax.plot( Ntot[:,0,0],maxes-mins)\n",
    "\n",
    "plt.grid()"
   ]
  },
  {
   "cell_type": "code",
   "execution_count": null,
   "metadata": {},
   "outputs": [],
   "source": [
    "#save the animation as a gif, trying this since Simulation.save_animation is not working\n",
    "#anim.save(my_filename+'.gif',writer=PillowWriter(fps=60))"
   ]
  },
  {
   "cell_type": "code",
   "execution_count": null,
   "metadata": {},
   "outputs": [],
   "source": [
    "#save animation with built in Simulation method\n",
    "test_2d_asym.save_animation(my_filename, 'gif')"
   ]
  },
  {
   "cell_type": "code",
   "execution_count": null,
   "metadata": {},
   "outputs": [],
   "source": [
    "#plot at specific timesteps\n",
    "#cmpltion = 0.005 \n",
    "#cmpltion = 0.1\n",
    "#sim = test_2d_asym\n",
    "sim = cycle_sim\n",
    "\n",
    "for cmpltion in [0.9]:#[0.33,0.50,0.55,0.66,0.8,0.9]:  #[0,0.001,0.005]: # making plots of initial noise dissipating\n",
    "    plt.close()\n",
    "    sim.plot(completion=cmpltion, ice=True, figurename=my_filename+'_completion'+str(cmpltion))\n",
    "    #plt.savefig(my_filename+'_completion'+str(cmpltion)+'.png')"
   ]
  },
  {
   "cell_type": "code",
   "execution_count": null,
   "metadata": {},
   "outputs": [],
   "source": [
    "plt.savefig(''.join([i+'_' for i in my_id])+'.png')"
   ]
  },
  {
   "cell_type": "code",
   "execution_count": null,
   "metadata": {},
   "outputs": [],
   "source": [
    "#save the simulation to a pickle file for later use (without re-running the simulation)\n",
    "test_2d_asym.save(id=my_id)\n",
    "\n",
    "#manually save it and add compression since the 1000 layter simulation is too big\n",
    "# import pickle\n",
    "# import bz2\n",
    "# id=['asymmetric'+str(test_2d_asym.shape[0])+'_'+str(test_2d_asym.shape[1]),str(test_2d_asym.layermax)+'layers']\n",
    "# id = ''.join('_'+i for i in id)\n",
    "# filename = test_2d_asym.model.__name__+'_simulation'+id+'.pkl'\n",
    "# with open(filename, 'wb') as f:\n",
    "#     print(\"saving to\", f)\n",
    "#     pickle.dump(test_2d_asym, bz2.BZ2File(f, 'w'))"
   ]
  },
  {
   "cell_type": "markdown",
   "metadata": {},
   "source": [
    "1D model for comparison (uses same parameters as above 2d model), graphing if it also reaching steady state"
   ]
  },
  {
   "cell_type": "code",
   "execution_count": 5,
   "metadata": {},
   "outputs": [],
   "source": [
    "#create 1d sim and graph number of steps over time\n",
    "ss_1d = Simulation(f1d, (test_2d_asym.shape[0],), method=test_2d_asym.method, rtol=test_2d_asym.rtol)\n",
    "\n",
    "ss_1d.float_params['DoverdeltaX2'] = test_2d_asym.float_params['DoverdeltaX2'] \n",
    "ss_1d.layermax = test_2d_asym.layermax * 1.5 #make sure it reaches steady state\n",
    "ss_1d.sigmastepmax = test_2d_asym.sigmastepmax \n",
    "ss_1d.sigma0 = test_2d_asym.sigma0\n",
    "ss_1d.center_reduction = test_2d_asym.center_reduction\n",
    "ss_1d.deltaT = test_2d_asym.deltaT #increase time step to decrease number of steps saved?\n",
    "ss_1d.noisy_init = test_2d_asym.noisy_init\n"
   ]
  },
  {
   "cell_type": "code",
   "execution_count": null,
   "metadata": {},
   "outputs": [],
   "source": [
    "#set the id \n",
    "my_id=['nx_'+str(ss_1d.shape[0]),str(ss_1d.layermax)+'layers',\n",
    "                                'center_reduction'+str(ss_1d.center_reduction),  'D_2', ss_1d.method, 'sigmamax_'+str(ss_1d.sigmastepmax) +'noisyinit_'+str(ss_1d.noisy_init)]\n",
    "my_filename = ''.join([i+'_' for i in my_id])"
   ]
  },
  {
   "cell_type": "code",
   "execution_count": null,
   "metadata": {},
   "outputs": [],
   "source": [
    "#print number of steps over time\n",
    "Ntot = ss_1d.getNtot()\n",
    "\n",
    "maxes = np.array([np.max(n) for n in Ntot[:]])\n",
    "mcins = np.array([np.min(n) for n in Ntot[:]])\n",
    "\n",
    "#print(maxes,mins)\n",
    "plt.figure()\n",
    "ax = plt.subplot(111)\n",
    "\n",
    "#ax.plot(test_f2d_sim.results()['t'],maxes-mins)\n",
    "ax.plot(Ntot[:,0],maxes-mins)\n",
    "ax.set_ylabel('Number of steps on surface')\n",
    "ax.set_xlabel('Time')\n",
    "plt.grid()"
   ]
  },
  {
   "cell_type": "code",
   "execution_count": null,
   "metadata": {},
   "outputs": [],
   "source": [
    "ax = plt.axes()\n",
    "ax.plot(ss_1d.x, ss_1d.getNtot(), 'b', label='ice+QLL')\n",
    "ax.set_xlabel(r'x ($\\mu m$)')\n",
    "ax.set_ylabel('Layers of ice')\n",
    "plt.show()"
   ]
  },
  {
   "cell_type": "code",
   "execution_count": 15,
   "metadata": {},
   "outputs": [
    {
     "data": {
      "application/vnd.jupyter.widget-view+json": {
       "model_id": "04d742469d0f4d5caffde56025d31e60",
       "version_major": 2,
       "version_minor": 0
      },
      "image/png": "[encoded data removed]",
      "text/html": [
       "\n",
       "            <div style=\"display: inline-block;\">\n",
       "                <div class=\"jupyter-widgets widget-label\" style=\"text-align: center;\">\n",
       "                    Figure\n",
       "                </div>\n",
       "                <img src='data:image/png;base64,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' width=640.0/>\n",
       "            </div>\n",
       "        "
      ],
      "text/plain": [
       "Canvas(toolbar=Toolbar(toolitems=[('Home', 'Reset original view', 'home', 'home'), ('Back', 'Back to previous …"
      ]
     },
     "metadata": {},
     "output_type": "display_data"
    },
    {
     "data": {
      "application/vnd.jupyter.widget-view+json": {
       "model_id": "04d742469d0f4d5caffde56025d31e60",
       "version_major": 2,
       "version_minor": 0
      },
      "image/png": "[encoded data removed]",
      "text/html": [
       "\n",
       "            <div style=\"display: inline-block;\">\n",
       "                <div class=\"jupyter-widgets widget-label\" style=\"text-align: center;\">\n",
       "                    Figure\n",
       "                </div>\n",
       "                <img src='data:image/png;base64,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' width=640.0/>\n",
       "            </div>\n",
       "        "
      ],
      "text/plain": [
       "Canvas(toolbar=Toolbar(toolitems=[('Home', 'Reset original view', 'home', 'home'), ('Back', 'Back to previous …"
      ]
     },
     "metadata": {},
     "output_type": "display_data"
    }
   ],
   "source": [
    "#plot \n",
    "#cmpltion = 0.005 \n",
    "cmpltion = 0.3\n",
    "\n",
    "#for cmpltion in map(lambda x: x*3,[0,0.001,0.005]): # making plots of initial noise dissipating\n",
    "ss_1d.plot(completion=cmpltion, ice=True)#, figurename=my_filename+'_completion'+str(cmpltion))\n",
    "plt.show()"
   ]
  },
  {
   "cell_type": "code",
   "execution_count": 14,
   "metadata": {},
   "outputs": [],
   "source": [
    "plt.close()"
   ]
  },
  {
   "cell_type": "code",
   "execution_count": null,
   "metadata": {},
   "outputs": [],
   "source": [
    "#test_2d_asym.save(id=['asymmetric'+str(test_2d_asym.shape[0])+'_'+str(test_2d_asym.shape[1]),str(test_2d_asym.layermax)+'layers'])\n",
    "#symm = Simulation(f2d,(500,500),rtol=1e-12)"
   ]
  },
  {
   "cell_type": "code",
   "execution_count": null,
   "metadata": {},
   "outputs": [],
   "source": [
    "#countour plot of sigmastep 2d\n",
    "plt.figure()\n",
    "ax = plt.axes(projection='3d')\n",
    "plt.xlabel(r'x ($\\mu m$)')\n",
    "plt.ylabel(r'y ($\\mu m$)')\n",
    "#ax.set_zlabel('Layers of ice')\n",
    "#levels = np.arange(19,21,0.1)\n",
    "ax.contourf(xgrid,ygrid, sigma*100, extent=(0, 2, 0, 2), cmap='YlGnBu_r', vmin=0, vmax=200, zorder=1)#, levels=levels)"
   ]
  },
  {
   "cell_type": "code",
   "execution_count": null,
   "metadata": {},
   "outputs": [],
   "source": [
    "#countour plot of sigmastep 2d\n",
    "print(xs.shape,ys.shape,sigma.shape)\n",
    "fig,ax = plt.subplots()\n",
    "CS = ax.contourf(xs.T,ys.T,sigma*100)\n",
    "ax.set_xlabel(r'$x (\\mu m)$', fontsize=20)\n",
    "ax.set_ylabel(r'$y (\\mu m)$', fontsize=20)\n",
    "plt.grid(True)\n",
    "plt.gca().set_aspect('equal')\n",
    "fig.colorbar(CS)\n",
    "plt.title('%supersaturation (getsigmastep_2d)')"
   ]
  },
  {
   "cell_type": "markdown",
   "metadata": {},
   "source": [
    "2D Growth simulation"
   ]
  },
  {
   "cell_type": "code",
   "execution_count": null,
   "metadata": {},
   "outputs": [],
   "source": [
    "#create the 2d sim\n",
    "test_f2d_sim = Simulation(f2d, (250,250), rtol=1e-12)\n",
    "test_f2d_sim.layermax = 50#0\n",
    "#test_f2d_sim.run()\n",
    "#test_f2d_sim.save(_id=['test','50layer'])"
   ]
  },
  {
   "cell_type": "code",
   "execution_count": null,
   "metadata": {},
   "outputs": [],
   "source": [
    "#animate the 2d sim\n",
    "test_f2d_sim.animate(crossSection=True)"
   ]
  },
  {
   "cell_type": "code",
   "execution_count": null,
   "metadata": {},
   "outputs": [],
   "source": [
    "#print variables in 1d simulation for comparison to literature\n",
    "for k,v in test_f2d_sim._extra_vars.items():\n",
    "    print(k,v)\n",
    "print('center reduction %: ', test_f2d_sim.center_reduction)"
   ]
  },
  {
   "cell_type": "code",
   "execution_count": null,
   "metadata": {},
   "outputs": [],
   "source": [
    "#print number of steps over time\n",
    "Ntot = test_f2d_sim.getNtot()\n",
    "\n",
    "maxes = np.array([np.max(n) for n in Ntot[:]])\n",
    "mins = np.array([np.min(n) for n in Ntot[:]])\n",
    "\n",
    "#print(maxes,mins)\n",
    "plt.figure()\n",
    "ax = plt.subplot(111)\n",
    "\n",
    "#ax.plot(test_f2d_sim.results()['t'],maxes-mins)\n",
    "ax.plot(Ntot[:,0,0],maxes-mins)\n",
    "#ax.plot(test_f2d_sim.results()['t'],test_f2d_sim.results()['t'])\n",
    "plt.grid()"
   ]
  },
  {
   "cell_type": "code",
   "execution_count": null,
   "metadata": {},
   "outputs": [],
   "source": [
    "#animate test_f2d_sim\n",
    "\n",
    "test_f2d_sim.animate(ice=True)"
   ]
  },
  {
   "cell_type": "code",
   "execution_count": null,
   "metadata": {},
   "outputs": [],
   "source": [
    "#test_f2d_sim = loadSim('f2d_simulation_test_50layer.pkl') "
   ]
  },
  {
   "cell_type": "code",
   "execution_count": null,
   "metadata": {},
   "outputs": [],
   "source": [
    "#graph results normalized to minimum of ice surface\n",
    "Fliq_ss, Ntot_steadystate = test_f2d_sim.normalize_results_to_min()\n",
    "nice_ss = Ntot_steadystate-Fliq_ss\n",
    "print(np.shape(Ntot_steadystate))\n",
    "xs, ys = np.meshgrid(test_f2d_sim.x, test_f2d_sim.y)\n",
    "\n",
    "fig = plt.figure(figsize=(12,12))\n",
    "ax = plt.axes(projection = '3d')\n",
    "#ax.plot_surface(test_f2d_sim._results['t'], Ntot_steadystate[:,])\n",
    "ax.set_xlabel(r'$x (\\mu m$)')#,fontsize=fontsize)\n",
    "ax.set_ylabel(r'$y (\\mu m$)')#,fontsize=fontsize)\n",
    "ax.set_zlabel(r'$ice \\ layers$')#,fontsize=fontsize)\n",
    "#limits\n",
    "#ax.set_zlim3d(-self.layermax, self.layermax)\n",
    "#ax.set_ylim(0, max(self.y))\n",
    "#ax.set_xlim(0, max(self.x))\n",
    "def update_fig(num):\n",
    "    ax.clear() # remove last iteration of plot \n",
    "    plot_func = ax.plot_surface\n",
    "    # if crossSection:\n",
    "    #     xmid = round(np.shape(Nice)[0]/2)\n",
    "    #     if ice:\n",
    "    #         plot_func(X=xs[xmid:], Y=ys[xmid:], Z=nice_ss[num][xmid:][:],cmap ='viridis')# cmap='viridis')#, vmin=0, vmax=200) #plot half of the surface of the ice\n",
    "    #     if tot:\n",
    "    #         plot_func(X=xs[xmid:], Y=ys[xmid:], Z=Ntot_steadystate[num][xmid:][:], cmap='cividis')#, vmin=0, vmax=200) #plot half the surface of the QLL\n",
    "    # else:\n",
    "    #     if ice:\n",
    "    plot_func(X=xs, Y=ys, Z=nice_ss[num], cmap='viridis')#, vmin=0, vmax=200) #plot the surface of the ice \n",
    "        # if tot:\n",
    "    # plot_func(X=xs, Y=ys, Z=Ntot_steadystate[num], cmap='YlGnBu_r')#, vmin=0, vmax=200)#plot the surface of the QLL\n",
    "    pass\n",
    "\n",
    "\n",
    "num_steps = len(test_f2d_sim._results['t'])\n",
    "import matplotlib.animation as animation\n",
    "ani = animation.FuncAnimation(fig , update_fig, num_steps, interval=50, blit=False, cache_frame_data=False, repeat = True)\n",
    "plt.show()"
   ]
  },
  {
   "cell_type": "code",
   "execution_count": null,
   "metadata": {},
   "outputs": [],
   "source": [
    "#graph difference in steps over time: should converge to zero if steady state is reached\n",
    "Fliq_ss, Ntot_steadystate = test_f2d_sim.steady_state_calc()\n",
    "nice_ss = Ntot_steadystate-Fliq_ss\n",
    "print(np.shape(Ntot_steadystate))\n",
    "xs, ys = np.meshgrid(test_f2d_sim.x, test_f2d_sim.y)\n",
    "\n",
    "fig = plt.figure(figsize=(12,12))\n",
    "ax = plt.axes(projection = '3d')\n",
    "#ax.plot_surface(test_f2d_sim._results['t'], Ntot_steadystate[:,])\n",
    "ax.set_xlabel(r'$x (\\mu m$)')#,fontsize=fontsize)\n",
    "ax.set_ylabel(r'$y (\\mu m$)')#,fontsize=fontsize)\n",
    "ax.set_zlabel(r'$ice \\ layers$')#,fontsize=fontsize)\n",
    "#limits\n",
    "#ax.set_zlim3d(-self.layermax, self.layermax)\n",
    "#ax.set_ylim(0, max(self.y))\n",
    "#ax.set_xlim(0, max(self.x))\n",
    "def update_fig(num):\n",
    "    ax.clear() # remove last iteration of plot \n",
    "    plot_func = ax.plot_surface\n",
    "    # if crossSection:\n",
    "    #     xmid = round(np.shape(Nice)[0]/2)\n",
    "    #     if ice:\n",
    "    #         plot_func(X=xs[xmid:], Y=ys[xmid:], Z=nice_ss[num][xmid:][:],cmap ='viridis')# cmap='viridis')#, vmin=0, vmax=200) #plot half of the surface of the ice\n",
    "    #     if tot:\n",
    "    #         plot_func(X=xs[xmid:], Y=ys[xmid:], Z=Ntot_steadystate[num][xmid:][:], cmap='cividis')#, vmin=0, vmax=200) #plot half the surface of the QLL\n",
    "    # else:\n",
    "    #     if ice:\n",
    "    plot_func(X=xs, Y=ys, Z=nice_ss[num], cmap='viridis')#, vmin=0, vmax=200) #plot the surface of the ice \n",
    "        # if tot:\n",
    "    # plot_func(X=xs, Y=ys, Z=Ntot_steadystate[num], cmap='YlGnBu_r')#, vmin=0, vmax=200)#plot the surface of the QLL\n",
    "    pass\n",
    "\n",
    "\n",
    "num_steps = len(test_f2d_sim._results['t'])\n",
    "import matplotlib.animation as animation\n",
    "ani = animation.FuncAnimation(fig , update_fig, num_steps, interval=50, blit=False, cache_frame_data=False, repeat = True)\n",
    "plt.show()"
   ]
  },
  {
   "cell_type": "code",
   "execution_count": null,
   "metadata": {},
   "outputs": [],
   "source": [
    "test_2d_sim = Simulation(f2d, (500,500), rtol=1e-12)\n",
    "test_2d_sim.layermax = 2\n",
    "#test_2d_sim = loadSim('f2d_simulation_august13.pkl')\n",
    "_plot = test_2d_sim.plot()"
   ]
  },
  {
   "cell_type": "markdown",
   "metadata": {},
   "source": [
    "1d simulation "
   ]
  },
  {
   "cell_type": "code",
   "execution_count": null,
   "metadata": {},
   "outputs": [],
   "source": [
    "test_2d_sim.save(id=['august13'])"
   ]
  },
  {
   "cell_type": "code",
   "execution_count": null,
   "metadata": {},
   "outputs": [],
   "source": [
    "fig = plt.figure()\n",
    "ax = plt.axes(projection='3d')\n",
    "num_steps = len(test_2d_sim.results()['t'])\n",
    "xs,ys = np.meshgrid(test_2d_sim.x, test_2d_sim.y)\n",
    "ax.plot_surface(X=xs, Y=ys, Z=test_2d_sim.getNtot()[num_steps-1], cmap='viridis')"
   ]
  },
  {
   "cell_type": "code",
   "execution_count": null,
   "metadata": {},
   "outputs": [],
   "source": [
    "test_1d = Simulation(f1d, shape=(500,), rtol=1e-12)\n",
    "test_1d.layermax = 500\n",
    "test_1d.results()"
   ]
  },
  {
   "cell_type": "code",
   "execution_count": null,
   "metadata": {},
   "outputs": [],
   "source": [
    "#test_1d.animate(ice=True, tot=True)\n",
    "test_1d.plot()"
   ]
  },
  {
   "cell_type": "markdown",
   "metadata": {},
   "source": []
  },
  {
   "cell_type": "markdown",
   "metadata": {},
   "source": [
    "2d Idea: increase sigmastepmax to see if faceted growth occur, removing the concave \"bowl\" forming at the center of initially tested 2d systems (test_f2d_sim)"
   ]
  },
  {
   "cell_type": "code",
   "execution_count": null,
   "metadata": {},
   "outputs": [],
   "source": [
    "# sigma_test = Simulation(f2d, (500,500),rtol = 1e-12)\n",
    "# sigma_test.layermax = 100\n",
    "# sigma_test.sigmastepmax = 0.25\n",
    "# sigma_test.results()"
   ]
  },
  {
   "cell_type": "code",
   "execution_count": null,
   "metadata": {},
   "outputs": [],
   "source": [
    "#sigma_id = ['sigmastepmax_'+str(round(100*sigma_test.sigmastepmax)), str(sigma_test.layermax)+'layers']\n",
    "#sigma_test.save(id=sigma_id)\n",
    "\n",
    "#test increased layers with increased sigmastep\n",
    "\n",
    "#sigma_test = loadSim('f2d_simulation_sigmastepmax_025.pkl') # 20 layers?\n",
    "#sigma_test = loadSim('f2d_simulation_sigmastepmax_025_50layers.pkl')\n",
    "sigma_test = loadSim('f2d_simulation_sigmastepmax_25_100layers.pkl')"
   ]
  },
  {
   "cell_type": "code",
   "execution_count": null,
   "metadata": {},
   "outputs": [],
   "source": [
    "sigma_test.animate()"
   ]
  },
  {
   "cell_type": "markdown",
   "metadata": {},
   "source": [
    "2d Ablation testing"
   ]
  },
  {
   "cell_type": "code",
   "execution_count": null,
   "metadata": {},
   "outputs": [],
   "source": [
    "f2d_ablate = Simulation(f2d, (500,500), rtol=1e-12)\n",
    "f2d_ablate.sigmastepmax = -0.1\n",
    "f2d_ablate.layermax = 50\n",
    "f2d_ablate.animate()"
   ]
  },
  {
   "cell_type": "markdown",
   "metadata": {},
   "source": [
    "1d growth testing. Works, however does not currently match the literature graph despite using the same parameters."
   ]
  },
  {
   "cell_type": "code",
   "execution_count": null,
   "metadata": {},
   "outputs": [],
   "source": [
    "f1d_sim = Simulation(f1d, (500,), rtol=1e-12)"
   ]
  },
  {
   "cell_type": "code",
   "execution_count": null,
   "metadata": {},
   "outputs": [],
   "source": [
    "#change parameters to match Gladich et al paper's graph and run simulation\n",
    "f1d_sim.layermax = 500#10000\n",
    "#f1d_sim.center_reduction = 0.25 #is default now"
   ]
  },
  {
   "cell_type": "code",
   "execution_count": null,
   "metadata": {},
   "outputs": [],
   "source": [
    "f1d_sim.run()"
   ]
  },
  {
   "cell_type": "code",
   "execution_count": null,
   "metadata": {},
   "outputs": [],
   "source": [
    "fig = f1d_sim.plot(completion=0.99, ice=True, tot=True)"
   ]
  },
  {
   "cell_type": "code",
   "execution_count": null,
   "metadata": {},
   "outputs": [],
   "source": [
    "#print variables in 1d simulation for comparison to literature\n",
    "for k,v in f1d_sim._extra_vars.items():\n",
    "    print(k,v)\n",
    "print('center reduction %: ', f1d_sim.center_reduction)"
   ]
  },
  {
   "cell_type": "code",
   "execution_count": null,
   "metadata": {},
   "outputs": [],
   "source": [
    "#functions tested so far\n",
    "#test_f2d_sim.countermax_0D\n",
    "#test_f2d_sim.countermax_1D\n",
    "#test_f2d_sim.countermax_2D\n",
    "#test_f2d_sim.atol\n",
    "#test_f2d_sim.rtol\n",
    "#test_f2d_sim.deltaT\n",
    "#test_f2d_sim.float_params\n",
    "#test_f2d_sim.animate()\n",
    "#test_f2d_sim.run()\n",
    "#test_f2d_sim.steady_state_calc()\n",
    "#test_f2d_sim.plot()\n",
    "#test_f2d_sim.save()\n",
    "#test_f2d_sim.load() #WORKS to load simulation from file if simulation object exists already -- for loading straght froom file use loadSim()\n",
    "#loadSim() #works\n",
    "\n"
   ]
  },
  {
   "cell_type": "code",
   "execution_count": null,
   "metadata": {},
   "outputs": [],
   "source": [
    "num_steps = len(test_f2d_sim.results()['t'])\n",
    "#shape of results is (num_steps, 2, nx, ny)\n",
    "Fliq, Ntot = [],[]\n",
    "for step in range(num_steps):\n",
    "    next_Fliq, next_Ntot = test_f2d_sim._results['y'][step]\n",
    "    Fliq.append(next_Fliq)\n",
    "    Ntot.append(next_Ntot)    \n",
    "Fliq,Ntot = np.array(Fliq), np.array(Ntot)\n",
    "Nice = Ntot - Fliq\n",
    "#shape of fliq, ntot and nice should be (num_steps, nx, ny)\n",
    "\n",
    "#access coordinate arrays for plotting\n",
    "xs, ys = np.meshgrid(test_f2d_sim.x, test_f2d_sim.y)"
   ]
  },
  {
   "cell_type": "code",
   "execution_count": null,
   "metadata": {},
   "outputs": [],
   "source": [
    "print(num_steps)\n",
    "print(test_f2d_sim.steepness(0,slice(0,test_f2d_sim.shape[0]//2)))"
   ]
  },
  {
   "cell_type": "code",
   "execution_count": null,
   "metadata": {},
   "outputs": [],
   "source": [
    "print(test_f2d_sim.get_step_density(0,slice(0,test_f2d_sim.shape[0]//2)))  "
   ]
  },
  {
   "cell_type": "code",
   "execution_count": null,
   "metadata": {},
   "outputs": [],
   "source": []
  }
 ],
 "metadata": {
  "kernelspec": {
   "display_name": "Python 3.9.13 64-bit (microsoft store)",
   "language": "python",
   "name": "python3"
  },
  "language_info": {
   "codemirror_mode": {
    "name": "ipython",
    "version": 3
   },
   "file_extension": ".py",
   "mimetype": "text/x-python",
   "name": "python",
   "nbconvert_exporter": "python",
   "pygments_lexer": "ipython3",
   "version": "3.9.13"
  },
  "orig_nbformat": 4,
  "vscode": {
   "interpreter": {
    "hash": "a5639f55dd41388b289936a35ec1befe471f3e8ab332c7f154620eef02aaf2e9"
   }
  }
 },
 "nbformat": 4,
 "nbformat_minor": 2
}
