{
 "cells": [
  {
   "cell_type": "code",
   "execution_count": null,
   "metadata": {},
   "outputs": [],
   "source": [
    "import numpy as np\n",
    "from matplotlib import pyplot as plt\n",
    "from matplotlib import rcParams\n",
    "import time\n",
    "from copy import copy\n",
    "\n",
    "from sim_handling import Simulation,loadSim\n",
    "from diffusionstuff7 import f0d,f1d,f2d, getsigmastep_2d\n",
    "from matplotlib.animation import PillowWriter"
   ]
  },
  {
   "cell_type": "code",
   "execution_count": null,
   "metadata": {},
   "outputs": [],
   "source": [
    "%matplotlib widget\n",
    "\n",
    "#set figsize to be big (12,12) inches\n",
    "#rcParams['figure.figsize'] = 10,10"
   ]
  },
  {
   "cell_type": "markdown",
   "metadata": {},
   "source": [
    "assymettric 2d growth"
   ]
  },
  {
   "cell_type": "code",
   "execution_count": null,
   "metadata": {},
   "outputs": [],
   "source": [
    "test_2d_asym = loadSim('f2d_simulation_asymmetric500_20_500layers_center_reduction0.25_Cy_0.pkl')"
   ]
  },
  {
   "cell_type": "code",
   "execution_count": null,
   "metadata": {},
   "outputs": [],
   "source": [
    "#set up and run and plot a new simulation\n",
    "test_2d_asym = Simulation(f2d, (500,16), method='Radau', rtol=1e-9)\n",
    "test_2d_asym.float_params['DoverdeltaX2'] *= 2 \n",
    "test_2d_asym.layermax = 75\n",
    "test_2d_asym.sigma0 = 0.18 #NOTE:reduced to potentially improve odeint accuracy\n",
    "test_2d_asym.center_reduction = 0.25\n",
    "test_2d_asym.deltaT *= 1 #increase time step to decrease number of steps saved?\n",
    "\n",
    "\n",
    "#_plot = test_2d_asym.plot(tot=True,completion=1)\n",
    "#anim = test_2d_asym.animate(ice=True,surface=True, ret=True, focus_on_growth=True)"
   ]
  },
  {
   "cell_type": "code",
   "execution_count": null,
   "metadata": {},
   "outputs": [],
   "source": [
    "#calcs to graph asymmetric sigmastep2d\n",
    "xs,ys = test_2d_asym.x, test_2d_asym.y #linspace\n",
    "sigma = getsigmastep_2d(xs,ys, test_2d_asym.center_reduction, test_2d_asym.sigmastepmax)\n",
    "ygrid,xgrid = np.meshgrid(ys,xs) #2d mesh for plotting"
   ]
  },
  {
   "cell_type": "code",
   "execution_count": null,
   "metadata": {},
   "outputs": [],
   "source": [
    "#countour plot of sigmastep 2d\n",
    "print(xs.shape,ys.shape,sigma.shape)\n",
    "fig,ax = plt.subplots()\n",
    "CS = ax.contourf(xgrid,ygrid,sigma*100,np.arange(19.74,20.00,0.01))\n",
    "#CS = ax.contourf(xgrid,ygrid,xgrid) #graph x\n",
    "#CS = ax.contourf(xgrid,ygrid,ygrid) #graph y\n",
    "ax.set_xlabel(r'$x (\\mu m)$', fontsize=20)\n",
    "ax.set_ylabel(r'$y (\\mu m)$', fontsize=20)\n",
    "plt.grid(True)\n",
    "plt.gca().set_aspect('equal')\n",
    "fig.colorbar(CS)\n",
    "plt.title('%supersaturation (getsigmastep_2d)')\n",
    "print(xgrid.shape,ygrid.shape)"
   ]
  },
  {
   "cell_type": "code",
   "execution_count": null,
   "metadata": {},
   "outputs": [],
   "source": [
    "#just run or animate the simulation\n",
    "#test_2d_asym.run(halve_time_res=True) #only saves half the time steps since it is a huge simulation\n",
    "#save the animation as a gif, trying this since Simulation.save_animation is not working\n",
    "anim = test_2d_asym.animate(ret=True, focus_on_growth=True)"
   ]
  },
  {
   "cell_type": "code",
   "execution_count": null,
   "metadata": {},
   "outputs": [],
   "source": [
    "my_id=['asymmetric'+str(test_2d_asym.shape[0])+'_'+str(test_2d_asym.shape[1]),str(test_2d_asym.layermax)+'layers',\n",
    "                                'center_reduction'+str(test_2d_asym.center_reduction), 'Cy_0_Dy0', 'D_2', test_2d_asym.method]"
   ]
  },
  {
   "cell_type": "code",
   "execution_count": null,
   "metadata": {},
   "outputs": [],
   "source": [
    "anim.save(''.join([i+'_' for i in my_id])+'.gif',writer=PillowWriter(fps=30))"
   ]
  },
  {
   "cell_type": "code",
   "execution_count": null,
   "metadata": {},
   "outputs": [],
   "source": [
    "test_2d_asym.save_animation('f2d_simulation_asymmetric250_350_500layers_center_reduction0.1', 'gif')"
   ]
  },
  {
   "cell_type": "code",
   "execution_count": 7,
   "metadata": {},
   "outputs": [
    {
     "ename": "KeyboardInterrupt",
     "evalue": "",
     "output_type": "error",
     "traceback": [
      "\u001b[1;31m---------------------------------------------------------------------------\u001b[0m",
      "\u001b[1;31mKeyboardInterrupt\u001b[0m                         Traceback (most recent call last)",
      "\u001b[1;32mc:\\Users\\Max-PC\\OneDrive - University of Puget Sound\\Research 2022\\Workspace\\icecontinuum\\bloom_2022\\experiments.ipynb Cell 12\u001b[0m in \u001b[0;36m<cell line: 2>\u001b[1;34m()\u001b[0m\n\u001b[0;32m      <a href='vscode-notebook-cell:/c%3A/Users/Max-PC/OneDrive%20-%20University%20of%20Puget%20Sound/Research%202022/Workspace/icecontinuum/bloom_2022/experiments.ipynb#X14sZmlsZQ%3D%3D?line=0'>1</a>\u001b[0m \u001b[39m#graph number of steps over time\u001b[39;00m\n\u001b[1;32m----> <a href='vscode-notebook-cell:/c%3A/Users/Max-PC/OneDrive%20-%20University%20of%20Puget%20Sound/Research%202022/Workspace/icecontinuum/bloom_2022/experiments.ipynb#X14sZmlsZQ%3D%3D?line=1'>2</a>\u001b[0m Ntot \u001b[39m=\u001b[39m test_2d_asym\u001b[39m.\u001b[39;49mgetNtot()\n\u001b[0;32m      <a href='vscode-notebook-cell:/c%3A/Users/Max-PC/OneDrive%20-%20University%20of%20Puget%20Sound/Research%202022/Workspace/icecontinuum/bloom_2022/experiments.ipynb#X14sZmlsZQ%3D%3D?line=3'>4</a>\u001b[0m maxes \u001b[39m=\u001b[39m np\u001b[39m.\u001b[39marray([np\u001b[39m.\u001b[39mmax(n) \u001b[39mfor\u001b[39;00m n \u001b[39min\u001b[39;00m Ntot[:]])\n\u001b[0;32m      <a href='vscode-notebook-cell:/c%3A/Users/Max-PC/OneDrive%20-%20University%20of%20Puget%20Sound/Research%202022/Workspace/icecontinuum/bloom_2022/experiments.ipynb#X14sZmlsZQ%3D%3D?line=4'>5</a>\u001b[0m mins \u001b[39m=\u001b[39m np\u001b[39m.\u001b[39marray([np\u001b[39m.\u001b[39mmin(n) \u001b[39mfor\u001b[39;00m n \u001b[39min\u001b[39;00m Ntot[:]])\n",
      "File \u001b[1;32mc:\\Users\\Max-PC\\OneDrive - University of Puget Sound\\Research 2022\\Workspace\\icecontinuum\\bloom_2022\\sim_handling.py:421\u001b[0m, in \u001b[0;36mgetNtot\u001b[1;34m(self)\u001b[0m\n\u001b[0;32m    418\u001b[0m for step in range(len(self.results()['t'])):\n\u001b[0;32m    419\u001b[0m     #next_Fliq, next_Ntot = self.results()['y'][step]\n\u001b[0;32m    420\u001b[0m     next_Ntot = self.results()['y'][step][1]\n\u001b[1;32m--> 421\u001b[0m     #normalize results\n\u001b[0;32m    422\u001b[0m     Ntot.append(next_Ntot)\n\u001b[0;32m    423\u001b[0m return np.array(Ntot)\n",
      "File \u001b[1;32mc:\\Users\\Max-PC\\OneDrive - University of Puget Sound\\Research 2022\\Workspace\\icecontinuum\\bloom_2022\\sim_handling.py:406\u001b[0m, in \u001b[0;36mresults\u001b[1;34m(self)\u001b[0m\n\u001b[0;32m    403\u001b[0m         \u001b[39mself\u001b[39m\u001b[39m.\u001b[39mrun()\n\u001b[0;32m    404\u001b[0m     \u001b[39mreturn\u001b[39;00m \u001b[39mself\u001b[39m\u001b[39m.\u001b[39m_results\n\u001b[1;32m--> 406\u001b[0m \u001b[39mdef\u001b[39;00m \u001b[39mgetFliq\u001b[39m(\u001b[39mself\u001b[39m):\u001b[39m# -> np.ndarray:\u001b[39;00m\n\u001b[0;32m    407\u001b[0m     Fliq \u001b[39m=\u001b[39m []\n\u001b[0;32m    408\u001b[0m     \u001b[39mfor\u001b[39;00m step \u001b[39min\u001b[39;00m \u001b[39mrange\u001b[39m(\u001b[39mlen\u001b[39m(\u001b[39mself\u001b[39m\u001b[39m.\u001b[39mresults()[\u001b[39m'\u001b[39m\u001b[39mt\u001b[39m\u001b[39m'\u001b[39m])):\n\u001b[0;32m    409\u001b[0m         \u001b[39m#next_Fliq, next_Ntot = self.results()['y'][step]\u001b[39;00m\n",
      "File \u001b[1;32mc:\\Users\\Max-PC\\OneDrive - University of Puget Sound\\Research 2022\\Workspace\\icecontinuum\\bloom_2022\\sim_handling.py:318\u001b[0m, in \u001b[0;36mSimulation.run\u001b[1;34m(self, print_progress, print_count_layers, halve_time_res)\u001b[0m\n\u001b[0;32m    316\u001b[0m     y \u001b[39m=\u001b[39m odeint(\u001b[39mself\u001b[39m\u001b[39m.\u001b[39mmodel, np\u001b[39m.\u001b[39mreshape(ylast,np\u001b[39m.\u001b[39mprod(np\u001b[39m.\u001b[39mshape(ylast))), \u001b[39mself\u001b[39m\u001b[39m.\u001b[39mtinterval, args\u001b[39m=\u001b[39mmodel_args, rtol\u001b[39m=\u001b[39m\u001b[39mself\u001b[39m\u001b[39m.\u001b[39mrtol, atol\u001b[39m=\u001b[39m\u001b[39mself\u001b[39m\u001b[39m.\u001b[39matol)\n\u001b[0;32m    317\u001b[0m \u001b[39melse\u001b[39;00m:\n\u001b[1;32m--> 318\u001b[0m     solve_ivp_result \u001b[39m=\u001b[39m solve_ivp(\u001b[39mself\u001b[39m\u001b[39m.\u001b[39mmodel, \u001b[39mself\u001b[39m\u001b[39m.\u001b[39mtinterval, np\u001b[39m.\u001b[39mreshape(ylast,np\u001b[39m.\u001b[39mprod(np\u001b[39m.\u001b[39mshape(ylast))), method\u001b[39m=\u001b[39m\u001b[39mself\u001b[39m\u001b[39m.\u001b[39mmethod, args\u001b[39m=\u001b[39mmodel_args, t_eval\u001b[39m=\u001b[39m\u001b[39mself\u001b[39m\u001b[39m.\u001b[39mtinterval)\u001b[39m#rtol=1e-12, atol=1e-12,\u001b[39;00m\n\u001b[0;32m    319\u001b[0m     \u001b[39m#get new y values out of solve_ivp_results dictionary\u001b[39;00m\n\u001b[0;32m    320\u001b[0m     y \u001b[39m=\u001b[39m solve_ivp_result\u001b[39m.\u001b[39my[:, \u001b[39mlen\u001b[39m(solve_ivp_result\u001b[39m.\u001b[39mt)\u001b[39m-\u001b[39m\u001b[39m1\u001b[39m]\u001b[39m#y[:,-1] : get last timestep that solve_ivp returns\u001b[39;00m\n",
      "File \u001b[1;32m~\\AppData\\Local\\Packages\\PythonSoftwareFoundation.Python.3.9_qbz5n2kfra8p0\\LocalCache\\local-packages\\Python39\\site-packages\\scipy\\integrate\\_ivp\\ivp.py:576\u001b[0m, in \u001b[0;36msolve_ivp\u001b[1;34m(fun, t_span, y0, method, t_eval, dense_output, events, vectorized, args, **options)\u001b[0m\n\u001b[0;32m    574\u001b[0m status \u001b[39m=\u001b[39m \u001b[39mNone\u001b[39;00m\n\u001b[0;32m    575\u001b[0m \u001b[39mwhile\u001b[39;00m status \u001b[39mis\u001b[39;00m \u001b[39mNone\u001b[39;00m:\n\u001b[1;32m--> 576\u001b[0m     message \u001b[39m=\u001b[39m solver\u001b[39m.\u001b[39;49mstep()\n\u001b[0;32m    578\u001b[0m     \u001b[39mif\u001b[39;00m solver\u001b[39m.\u001b[39mstatus \u001b[39m==\u001b[39m \u001b[39m'\u001b[39m\u001b[39mfinished\u001b[39m\u001b[39m'\u001b[39m:\n\u001b[0;32m    579\u001b[0m         status \u001b[39m=\u001b[39m \u001b[39m0\u001b[39m\n",
      "File \u001b[1;32m~\\AppData\\Local\\Packages\\PythonSoftwareFoundation.Python.3.9_qbz5n2kfra8p0\\LocalCache\\local-packages\\Python39\\site-packages\\scipy\\integrate\\_ivp\\base.py:181\u001b[0m, in \u001b[0;36mOdeSolver.step\u001b[1;34m(self)\u001b[0m\n\u001b[0;32m    179\u001b[0m \u001b[39melse\u001b[39;00m:\n\u001b[0;32m    180\u001b[0m     t \u001b[39m=\u001b[39m \u001b[39mself\u001b[39m\u001b[39m.\u001b[39mt\n\u001b[1;32m--> 181\u001b[0m     success, message \u001b[39m=\u001b[39m \u001b[39mself\u001b[39;49m\u001b[39m.\u001b[39;49m_step_impl()\n\u001b[0;32m    183\u001b[0m     \u001b[39mif\u001b[39;00m \u001b[39mnot\u001b[39;00m success:\n\u001b[0;32m    184\u001b[0m         \u001b[39mself\u001b[39m\u001b[39m.\u001b[39mstatus \u001b[39m=\u001b[39m \u001b[39m'\u001b[39m\u001b[39mfailed\u001b[39m\u001b[39m'\u001b[39m\n",
      "File \u001b[1;32m~\\AppData\\Local\\Packages\\PythonSoftwareFoundation.Python.3.9_qbz5n2kfra8p0\\LocalCache\\local-packages\\Python39\\site-packages\\scipy\\integrate\\_ivp\\radau.py:445\u001b[0m, in \u001b[0;36mRadau._step_impl\u001b[1;34m(self)\u001b[0m\n\u001b[0;32m    443\u001b[0m \u001b[39mif\u001b[39;00m LU_real \u001b[39mis\u001b[39;00m \u001b[39mNone\u001b[39;00m \u001b[39mor\u001b[39;00m LU_complex \u001b[39mis\u001b[39;00m \u001b[39mNone\u001b[39;00m:\n\u001b[0;32m    444\u001b[0m     LU_real \u001b[39m=\u001b[39m \u001b[39mself\u001b[39m\u001b[39m.\u001b[39mlu(MU_REAL \u001b[39m/\u001b[39m h \u001b[39m*\u001b[39m \u001b[39mself\u001b[39m\u001b[39m.\u001b[39mI \u001b[39m-\u001b[39m J)\n\u001b[1;32m--> 445\u001b[0m     LU_complex \u001b[39m=\u001b[39m \u001b[39mself\u001b[39;49m\u001b[39m.\u001b[39;49mlu(MU_COMPLEX \u001b[39m/\u001b[39;49m h \u001b[39m*\u001b[39;49m \u001b[39mself\u001b[39;49m\u001b[39m.\u001b[39;49mI \u001b[39m-\u001b[39;49m J)\n\u001b[0;32m    447\u001b[0m converged, n_iter, Z, rate \u001b[39m=\u001b[39m solve_collocation_system(\n\u001b[0;32m    448\u001b[0m     \u001b[39mself\u001b[39m\u001b[39m.\u001b[39mfun, t, y, h, Z0, scale, \u001b[39mself\u001b[39m\u001b[39m.\u001b[39mnewton_tol,\n\u001b[0;32m    449\u001b[0m     LU_real, LU_complex, \u001b[39mself\u001b[39m\u001b[39m.\u001b[39msolve_lu)\n\u001b[0;32m    451\u001b[0m \u001b[39mif\u001b[39;00m \u001b[39mnot\u001b[39;00m converged:\n",
      "File \u001b[1;32m~\\AppData\\Local\\Packages\\PythonSoftwareFoundation.Python.3.9_qbz5n2kfra8p0\\LocalCache\\local-packages\\Python39\\site-packages\\scipy\\integrate\\_ivp\\radau.py:319\u001b[0m, in \u001b[0;36mRadau.__init__.<locals>.lu\u001b[1;34m(A)\u001b[0m\n\u001b[0;32m    317\u001b[0m \u001b[39mdef\u001b[39;00m \u001b[39mlu\u001b[39m(A):\n\u001b[0;32m    318\u001b[0m     \u001b[39mself\u001b[39m\u001b[39m.\u001b[39mnlu \u001b[39m+\u001b[39m\u001b[39m=\u001b[39m \u001b[39m1\u001b[39m\n\u001b[1;32m--> 319\u001b[0m     \u001b[39mreturn\u001b[39;00m lu_factor(A, overwrite_a\u001b[39m=\u001b[39;49m\u001b[39mTrue\u001b[39;49;00m)\n",
      "File \u001b[1;32m~\\AppData\\Local\\Packages\\PythonSoftwareFoundation.Python.3.9_qbz5n2kfra8p0\\LocalCache\\local-packages\\Python39\\site-packages\\scipy\\linalg\\decomp_lu.py:77\u001b[0m, in \u001b[0;36mlu_factor\u001b[1;34m(a, overwrite_a, check_finite)\u001b[0m\n\u001b[0;32m     75\u001b[0m overwrite_a \u001b[39m=\u001b[39m overwrite_a \u001b[39mor\u001b[39;00m (_datacopied(a1, a))\n\u001b[0;32m     76\u001b[0m getrf, \u001b[39m=\u001b[39m get_lapack_funcs((\u001b[39m'\u001b[39m\u001b[39mgetrf\u001b[39m\u001b[39m'\u001b[39m,), (a1,))\n\u001b[1;32m---> 77\u001b[0m lu, piv, info \u001b[39m=\u001b[39m getrf(a1, overwrite_a\u001b[39m=\u001b[39;49moverwrite_a)\n\u001b[0;32m     78\u001b[0m \u001b[39mif\u001b[39;00m info \u001b[39m<\u001b[39m \u001b[39m0\u001b[39m:\n\u001b[0;32m     79\u001b[0m     \u001b[39mraise\u001b[39;00m \u001b[39mValueError\u001b[39;00m(\u001b[39m'\u001b[39m\u001b[39millegal value in \u001b[39m\u001b[39m%d\u001b[39;00m\u001b[39mth argument of \u001b[39m\u001b[39m'\u001b[39m\n\u001b[0;32m     80\u001b[0m                      \u001b[39m'\u001b[39m\u001b[39minternal getrf (lu_factor)\u001b[39m\u001b[39m'\u001b[39m \u001b[39m%\u001b[39m \u001b[39m-\u001b[39minfo)\n",
      "\u001b[1;31mKeyboardInterrupt\u001b[0m: "
     ]
    }
   ],
   "source": [
    "#graph number of steps over time\n",
    "Ntot = test_2d_asym.getNtot()\n",
    "\n",
    "maxes = np.array([np.max(n) for n in Ntot[:]])\n",
    "mins = np.array([np.min(n) for n in Ntot[:]])\n",
    "\n",
    "#print(maxes,mins)\n",
    "plt.figure()\n",
    "ax = plt.subplot(111)\n",
    "\n",
    "#ax.plot(test_f2d_sim.results()['t'],maxes-mins)\n",
    "ax.plot(Ntot[:,0,0],maxes-mins)\n",
    "plt.grid()"
   ]
  },
  {
   "cell_type": "code",
   "execution_count": null,
   "metadata": {},
   "outputs": [],
   "source": [
    "test_2d_asym.save(id=my_id)\n",
    "#manually save it and add compression since the 1000 layter simulation is too big\n",
    "# import pickle\n",
    "# import bz2\n",
    "# id=['asymmetric'+str(test_2d_asym.shape[0])+'_'+str(test_2d_asym.shape[1]),str(test_2d_asym.layermax)+'layers']\n",
    "# id = ''.join('_'+i for i in id)\n",
    "# filename = test_2d_asym.model.__name__+'_simulation'+id+'.pkl'\n",
    "# with open(filename, 'wb') as f:\n",
    "#     print(\"saving to\", f)\n",
    "#     pickle.dump(test_2d_asym, bz2.BZ2File(f, 'w'))"
   ]
  },
  {
   "cell_type": "markdown",
   "metadata": {},
   "source": [
    "1D model for comparison reaching steady state"
   ]
  },
  {
   "cell_type": "code",
   "execution_count": null,
   "metadata": {},
   "outputs": [],
   "source": [
    "#create 1d sim and graph number of steps over time\n",
    "ss_1d = Simulation(f1d, (500,), rtol=1e-12)\n",
    "\n",
    "ss_1d.layermax = 1000\n",
    "#ss_1d.plot(tot=True,completion=1)\n",
    "\n",
    "#print number of steps over time\n",
    "Ntot = ss_1d.getNtot()\n",
    "\n",
    "maxes = np.array([np.max(n) for n in Ntot[:]])\n",
    "mins = np.array([np.min(n) for n in Ntot[:]])\n",
    "\n",
    "#print(maxes,mins)\n",
    "plt.figure()\n",
    "ax = plt.subplot(111)\n",
    "\n",
    "#ax.plot(test_f2d_sim.results()['t'],maxes-mins)\n",
    "ax.plot(Ntot[:,0],maxes-mins)\n",
    "plt.grid()"
   ]
  },
  {
   "cell_type": "code",
   "execution_count": null,
   "metadata": {},
   "outputs": [],
   "source": [
    "#test_2d_asym.save(id=['asymmetric'+str(test_2d_asym.shape[0])+'_'+str(test_2d_asym.shape[1]),str(test_2d_asym.layermax)+'layers'])\n",
    "#symm = Simulation(f2d,(500,500),rtol=1e-12)"
   ]
  },
  {
   "cell_type": "code",
   "execution_count": null,
   "metadata": {},
   "outputs": [],
   "source": [
    "#countour plot of sigmastep 2d\n",
    "plt.figure()\n",
    "ax = plt.axes(projection='3d')\n",
    "plt.xlabel(r'x ($\\mu m$)')\n",
    "plt.ylabel(r'y ($\\mu m$)')\n",
    "#ax.set_zlabel('Layers of ice')\n",
    "\n",
    "#levels = np.arange(19,21,0.1)\n",
    "ax.contourf(xgrid,ygrid, sigma*100, extent=(0, 2, 0, 2), cmap='YlGnBu_r', vmin=0, vmax=200, zorder=1)#, levels=levels)"
   ]
  },
  {
   "cell_type": "code",
   "execution_count": null,
   "metadata": {},
   "outputs": [],
   "source": [
    "#countour plot of sigmastep 2d\n",
    "print(xs.shape,ys.shape,sigma.shape)\n",
    "fig,ax = plt.subplots()\n",
    "CS = ax.contourf(xs.T,ys.T,sigma*100)\n",
    "ax.set_xlabel(r'$x (\\mu m)$', fontsize=20)\n",
    "ax.set_ylabel(r'$y (\\mu m)$', fontsize=20)\n",
    "plt.grid(True)\n",
    "plt.gca().set_aspect('equal')\n",
    "fig.colorbar(CS)\n",
    "plt.title('%supersaturation (getsigmastep_2d)')"
   ]
  },
  {
   "cell_type": "markdown",
   "metadata": {},
   "source": [
    "2D Growth simulation"
   ]
  },
  {
   "cell_type": "code",
   "execution_count": null,
   "metadata": {},
   "outputs": [],
   "source": [
    "#create the 2d sim\n",
    "test_f2d_sim = Simulation(f2d, (250,250), rtol=1e-12)\n",
    "test_f2d_sim.layermax = 50#0\n",
    "#test_f2d_sim.run()\n",
    "#test_f2d_sim.save(_id=['test','50layer'])"
   ]
  },
  {
   "cell_type": "code",
   "execution_count": null,
   "metadata": {},
   "outputs": [],
   "source": [
    "#animate the 2d sim\n",
    "test_f2d_sim.animate(crossSection=True)"
   ]
  },
  {
   "cell_type": "code",
   "execution_count": null,
   "metadata": {},
   "outputs": [],
   "source": [
    "#print variables in 1d simulation for comparison to literature\n",
    "for k,v in test_f2d_sim._extra_vars.items():\n",
    "    print(k,v)\n",
    "print('center reduction %: ', test_f2d_sim.center_reduction)"
   ]
  },
  {
   "cell_type": "code",
   "execution_count": null,
   "metadata": {},
   "outputs": [],
   "source": [
    "#print number of steps over time\n",
    "Ntot = test_f2d_sim.getNtot()\n",
    "\n",
    "maxes = np.array([np.max(n) for n in Ntot[:]])\n",
    "mins = np.array([np.min(n) for n in Ntot[:]])\n",
    "\n",
    "#print(maxes,mins)\n",
    "plt.figure()\n",
    "ax = plt.subplot(111)\n",
    "\n",
    "#ax.plot(test_f2d_sim.results()['t'],maxes-mins)\n",
    "ax.plot(Ntot[:,0,0],maxes-mins)\n",
    "#ax.plot(test_f2d_sim.results()['t'],test_f2d_sim.results()['t'])\n",
    "plt.grid()"
   ]
  },
  {
   "cell_type": "code",
   "execution_count": null,
   "metadata": {},
   "outputs": [],
   "source": [
    "#animate test_f2d_sim\n",
    "\n",
    "test_f2d_sim.animate(ice=True)"
   ]
  },
  {
   "cell_type": "code",
   "execution_count": null,
   "metadata": {},
   "outputs": [],
   "source": [
    "#test_f2d_sim = loadSim('f2d_simulation_test_50layer.pkl') "
   ]
  },
  {
   "cell_type": "code",
   "execution_count": null,
   "metadata": {},
   "outputs": [],
   "source": [
    "#graph results normalized to minimum of ice surface\n",
    "Fliq_ss, Ntot_steadystate = test_f2d_sim.normalize_results_to_min()\n",
    "nice_ss = Ntot_steadystate-Fliq_ss\n",
    "print(np.shape(Ntot_steadystate))\n",
    "xs, ys = np.meshgrid(test_f2d_sim.x, test_f2d_sim.y)\n",
    "\n",
    "fig = plt.figure(figsize=(12,12))\n",
    "ax = plt.axes(projection = '3d')\n",
    "#ax.plot_surface(test_f2d_sim._results['t'], Ntot_steadystate[:,])\n",
    "ax.set_xlabel(r'$x (\\mu m$)')#,fontsize=fontsize)\n",
    "ax.set_ylabel(r'$y (\\mu m$)')#,fontsize=fontsize)\n",
    "ax.set_zlabel(r'$ice \\ layers$')#,fontsize=fontsize)\n",
    "#limits\n",
    "#ax.set_zlim3d(-self.layermax, self.layermax)\n",
    "#ax.set_ylim(0, max(self.y))\n",
    "#ax.set_xlim(0, max(self.x))\n",
    "def update_fig(num):\n",
    "    ax.clear() # remove last iteration of plot \n",
    "    plot_func = ax.plot_surface\n",
    "    # if crossSection:\n",
    "    #     xmid = round(np.shape(Nice)[0]/2)\n",
    "    #     if ice:\n",
    "    #         plot_func(X=xs[xmid:], Y=ys[xmid:], Z=nice_ss[num][xmid:][:],cmap ='viridis')# cmap='viridis')#, vmin=0, vmax=200) #plot half of the surface of the ice\n",
    "    #     if tot:\n",
    "    #         plot_func(X=xs[xmid:], Y=ys[xmid:], Z=Ntot_steadystate[num][xmid:][:], cmap='cividis')#, vmin=0, vmax=200) #plot half the surface of the QLL\n",
    "    # else:\n",
    "    #     if ice:\n",
    "    plot_func(X=xs, Y=ys, Z=nice_ss[num], cmap='viridis')#, vmin=0, vmax=200) #plot the surface of the ice \n",
    "        # if tot:\n",
    "    # plot_func(X=xs, Y=ys, Z=Ntot_steadystate[num], cmap='YlGnBu_r')#, vmin=0, vmax=200)#plot the surface of the QLL\n",
    "    pass\n",
    "\n",
    "\n",
    "num_steps = len(test_f2d_sim._results['t'])\n",
    "import matplotlib.animation as animation\n",
    "ani = animation.FuncAnimation(fig , update_fig, num_steps, interval=50, blit=False, cache_frame_data=False, repeat = True)\n",
    "plt.show()"
   ]
  },
  {
   "cell_type": "code",
   "execution_count": null,
   "metadata": {},
   "outputs": [],
   "source": [
    "#graph difference in steps over time: should converge to zero if steady state is reached\n",
    "Fliq_ss, Ntot_steadystate = test_f2d_sim.steady_state_calc()\n",
    "nice_ss = Ntot_steadystate-Fliq_ss\n",
    "print(np.shape(Ntot_steadystate))\n",
    "xs, ys = np.meshgrid(test_f2d_sim.x, test_f2d_sim.y)\n",
    "\n",
    "fig = plt.figure(figsize=(12,12))\n",
    "ax = plt.axes(projection = '3d')\n",
    "#ax.plot_surface(test_f2d_sim._results['t'], Ntot_steadystate[:,])\n",
    "ax.set_xlabel(r'$x (\\mu m$)')#,fontsize=fontsize)\n",
    "ax.set_ylabel(r'$y (\\mu m$)')#,fontsize=fontsize)\n",
    "ax.set_zlabel(r'$ice \\ layers$')#,fontsize=fontsize)\n",
    "#limits\n",
    "#ax.set_zlim3d(-self.layermax, self.layermax)\n",
    "#ax.set_ylim(0, max(self.y))\n",
    "#ax.set_xlim(0, max(self.x))\n",
    "def update_fig(num):\n",
    "    ax.clear() # remove last iteration of plot \n",
    "    plot_func = ax.plot_surface\n",
    "    # if crossSection:\n",
    "    #     xmid = round(np.shape(Nice)[0]/2)\n",
    "    #     if ice:\n",
    "    #         plot_func(X=xs[xmid:], Y=ys[xmid:], Z=nice_ss[num][xmid:][:],cmap ='viridis')# cmap='viridis')#, vmin=0, vmax=200) #plot half of the surface of the ice\n",
    "    #     if tot:\n",
    "    #         plot_func(X=xs[xmid:], Y=ys[xmid:], Z=Ntot_steadystate[num][xmid:][:], cmap='cividis')#, vmin=0, vmax=200) #plot half the surface of the QLL\n",
    "    # else:\n",
    "    #     if ice:\n",
    "    plot_func(X=xs, Y=ys, Z=nice_ss[num], cmap='viridis')#, vmin=0, vmax=200) #plot the surface of the ice \n",
    "        # if tot:\n",
    "    # plot_func(X=xs, Y=ys, Z=Ntot_steadystate[num], cmap='YlGnBu_r')#, vmin=0, vmax=200)#plot the surface of the QLL\n",
    "    pass\n",
    "\n",
    "\n",
    "num_steps = len(test_f2d_sim._results['t'])\n",
    "import matplotlib.animation as animation\n",
    "ani = animation.FuncAnimation(fig , update_fig, num_steps, interval=50, blit=False, cache_frame_data=False, repeat = True)\n",
    "plt.show()"
   ]
  },
  {
   "cell_type": "code",
   "execution_count": null,
   "metadata": {},
   "outputs": [],
   "source": [
    "test_2d_sim = Simulation(f2d, (500,500), rtol=1e-12)\n",
    "test_2d_sim.layermax = 2\n",
    "#test_2d_sim = loadSim('f2d_simulation_august13.pkl')\n",
    "_plot = test_2d_sim.plot()"
   ]
  },
  {
   "cell_type": "markdown",
   "metadata": {},
   "source": [
    "1d simulation "
   ]
  },
  {
   "cell_type": "code",
   "execution_count": null,
   "metadata": {},
   "outputs": [],
   "source": [
    "test_2d_sim.save(id=['august13'])"
   ]
  },
  {
   "cell_type": "code",
   "execution_count": null,
   "metadata": {},
   "outputs": [],
   "source": [
    "fig = plt.figure()\n",
    "ax = plt.axes(projection='3d')\n",
    "num_steps = len(test_2d_sim.results()['t'])\n",
    "xs,ys = np.meshgrid(test_2d_sim.x, test_2d_sim.y)\n",
    "ax.plot_surface(X=xs, Y=ys, Z=test_2d_sim.getNtot()[num_steps-1], cmap='viridis')"
   ]
  },
  {
   "cell_type": "code",
   "execution_count": null,
   "metadata": {},
   "outputs": [],
   "source": [
    "test_1d = Simulation(f1d, shape=(500,), rtol=1e-12)\n",
    "test_1d.layermax = 500\n",
    "test_1d.results()"
   ]
  },
  {
   "cell_type": "code",
   "execution_count": null,
   "metadata": {},
   "outputs": [],
   "source": [
    "#test_1d.animate(ice=True, tot=True)\n",
    "test_1d.plot()"
   ]
  },
  {
   "cell_type": "markdown",
   "metadata": {},
   "source": []
  },
  {
   "cell_type": "markdown",
   "metadata": {},
   "source": [
    "2d Idea: increase sigmastepmax to see if faceted growth occur, removing the concave \"bowl\" forming at the center of initially tested 2d systems (test_f2d_sim)"
   ]
  },
  {
   "cell_type": "code",
   "execution_count": null,
   "metadata": {},
   "outputs": [],
   "source": [
    "# sigma_test = Simulation(f2d, (500,500),rtol = 1e-12)\n",
    "# sigma_test.layermax = 100\n",
    "# sigma_test.sigmastepmax = 0.25\n",
    "# sigma_test.results()"
   ]
  },
  {
   "cell_type": "code",
   "execution_count": null,
   "metadata": {},
   "outputs": [],
   "source": [
    "#sigma_id = ['sigmastepmax_'+str(round(100*sigma_test.sigmastepmax)), str(sigma_test.layermax)+'layers']\n",
    "#sigma_test.save(id=sigma_id)\n",
    "\n",
    "#test increased layers with increased sigmastep\n",
    "\n",
    "#sigma_test = loadSim('f2d_simulation_sigmastepmax_025.pkl') # 20 layers?\n",
    "#sigma_test = loadSim('f2d_simulation_sigmastepmax_025_50layers.pkl')\n",
    "sigma_test = loadSim('f2d_simulation_sigmastepmax_25_100layers.pkl')"
   ]
  },
  {
   "cell_type": "code",
   "execution_count": null,
   "metadata": {},
   "outputs": [],
   "source": [
    "sigma_test.animate()"
   ]
  },
  {
   "cell_type": "markdown",
   "metadata": {},
   "source": [
    "2d Ablation testing"
   ]
  },
  {
   "cell_type": "code",
   "execution_count": null,
   "metadata": {},
   "outputs": [],
   "source": [
    "f2d_ablate = Simulation(f2d, (500,500), rtol=1e-12)\n",
    "f2d_ablate.sigmastepmax = -0.1\n",
    "f2d_ablate.layermax = 50\n",
    "f2d_ablate.animate()"
   ]
  },
  {
   "cell_type": "markdown",
   "metadata": {},
   "source": [
    "1d growth testing. Works, however does not currently match the literature graph despite using the same parameters."
   ]
  },
  {
   "cell_type": "code",
   "execution_count": null,
   "metadata": {},
   "outputs": [],
   "source": [
    "f1d_sim = Simulation(f1d, (500,), rtol=1e-12)"
   ]
  },
  {
   "cell_type": "code",
   "execution_count": null,
   "metadata": {},
   "outputs": [],
   "source": [
    "#change parameters to match Gladich et al paper's graph and run simulation\n",
    "f1d_sim.layermax = 500#10000\n",
    "#f1d_sim.center_reduction = 0.25 #is default now"
   ]
  },
  {
   "cell_type": "code",
   "execution_count": null,
   "metadata": {},
   "outputs": [],
   "source": [
    "f1d_sim.run()"
   ]
  },
  {
   "cell_type": "code",
   "execution_count": null,
   "metadata": {},
   "outputs": [],
   "source": [
    "fig = f1d_sim.plot(completion=0.99, ice=True, tot=True)"
   ]
  },
  {
   "cell_type": "code",
   "execution_count": null,
   "metadata": {},
   "outputs": [],
   "source": [
    "#print variables in 1d simulation for comparison to literature\n",
    "for k,v in f1d_sim._extra_vars.items():\n",
    "    print(k,v)\n",
    "print('center reduction %: ', f1d_sim.center_reduction)"
   ]
  },
  {
   "cell_type": "code",
   "execution_count": null,
   "metadata": {},
   "outputs": [],
   "source": [
    "#functions tested so far\n",
    "#test_f2d_sim.countermax_0D\n",
    "#test_f2d_sim.countermax_1D\n",
    "#test_f2d_sim.countermax_2D\n",
    "#test_f2d_sim.atol\n",
    "#test_f2d_sim.rtol\n",
    "#test_f2d_sim.deltaT\n",
    "#test_f2d_sim.float_params\n",
    "#test_f2d_sim.animate()\n",
    "#test_f2d_sim.run()\n",
    "#test_f2d_sim.steady_state_calc()\n",
    "#test_f2d_sim.plot()\n",
    "#test_f2d_sim.save()\n",
    "#test_f2d_sim.load() #WORKS to load simulation from file if simulation object exists already -- for loading straght froom file use loadSim()\n",
    "#loadSim() #works\n",
    "\n"
   ]
  },
  {
   "cell_type": "code",
   "execution_count": null,
   "metadata": {},
   "outputs": [],
   "source": [
    "num_steps = len(test_f2d_sim.results()['t'])\n",
    "#shape of results is (num_steps, 2, nx, ny)\n",
    "Fliq, Ntot = [],[]\n",
    "for step in range(num_steps):\n",
    "    next_Fliq, next_Ntot = test_f2d_sim._results['y'][step]\n",
    "    Fliq.append(next_Fliq)\n",
    "    Ntot.append(next_Ntot)    \n",
    "Fliq,Ntot = np.array(Fliq), np.array(Ntot)\n",
    "Nice = Ntot - Fliq\n",
    "#shape of fliq, ntot and nice should be (num_steps, nx, ny)\n",
    "\n",
    "#access coordinate arrays for plotting\n",
    "xs, ys = np.meshgrid(test_f2d_sim.x, test_f2d_sim.y)"
   ]
  },
  {
   "cell_type": "code",
   "execution_count": null,
   "metadata": {},
   "outputs": [],
   "source": [
    "print(num_steps)\n",
    "print(test_f2d_sim.steepness(0,slice(0,test_f2d_sim.shape[0]//2)))"
   ]
  },
  {
   "cell_type": "code",
   "execution_count": null,
   "metadata": {},
   "outputs": [],
   "source": [
    "print(test_f2d_sim.get_step_density(0,slice(0,test_f2d_sim.shape[0]//2)))  "
   ]
  },
  {
   "cell_type": "code",
   "execution_count": null,
   "metadata": {},
   "outputs": [],
   "source": []
  }
 ],
 "metadata": {
  "kernelspec": {
   "display_name": "Python 3.9.13 64-bit (windows store)",
   "language": "python",
   "name": "python3"
  },
  "language_info": {
   "codemirror_mode": {
    "name": "ipython",
    "version": 3
   },
   "file_extension": ".py",
   "mimetype": "text/x-python",
   "name": "python",
   "nbconvert_exporter": "python",
   "pygments_lexer": "ipython3",
   "version": "3.9.13"
  },
  "orig_nbformat": 4,
  "vscode": {
   "interpreter": {
    "hash": "a5639f55dd41388b289936a35ec1befe471f3e8ab332c7f154620eef02aaf2e9"
   }
  }
 },
 "nbformat": 4,
 "nbformat_minor": 2
}
