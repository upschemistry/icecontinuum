{
 "cells": [
  {
   "cell_type": "code",
   "execution_count": 3,
   "metadata": {},
   "outputs": [
    {
     "name": "stderr",
     "output_type": "stream",
     "text": [
      "C:\\Users\\Max-PC\\AppData\\Local\\Packages\\PythonSoftwareFoundation.Python.3.9_qbz5n2kfra8p0\\LocalCache\\local-packages\\Python39\\site-packages\\llvmlite\\llvmpy\\__init__.py:3: UserWarning: The module `llvmlite.llvmpy` is deprecated and will be removed in the future.\n",
      "  warnings.warn(\n",
      "C:\\Users\\Max-PC\\AppData\\Local\\Packages\\PythonSoftwareFoundation.Python.3.9_qbz5n2kfra8p0\\LocalCache\\local-packages\\Python39\\site-packages\\llvmlite\\llvmpy\\core.py:8: UserWarning: The module `llvmlite.llvmpy.core` is deprecated and will be removed in the future. Equivalent functionality is provided by `llvmlite.ir`.\n",
      "  warnings.warn(\n",
      "C:\\Users\\Max-PC\\AppData\\Local\\Packages\\PythonSoftwareFoundation.Python.3.9_qbz5n2kfra8p0\\LocalCache\\local-packages\\Python39\\site-packages\\llvmlite\\llvmpy\\passes.py:17: UserWarning: The module `llvmlite.llvmpy.passes` is deprecated and will be removed in the future. If you are using this code, it should be inlined into your own project.\n",
      "  warnings.warn(\n"
     ]
    }
   ],
   "source": [
    "import numpy as np\n",
    "from matplotlib import pyplot as plt\n",
    "from matplotlib import rcParams\n",
    "import time\n",
    "from copy import copy\n",
    "\n",
    "#from sim_handling import Simulation,loadSim #uses ds7\n",
    "from sim_handling2 import Simulation,loadSim #ds8: faster, more space efficient\n",
    "from diffusionstuff8 import f0d,f1d,f2d, getsigmastep_2d\n",
    "from matplotlib.animation import PillowWriter"
   ]
  },
  {
   "cell_type": "code",
   "execution_count": 4,
   "metadata": {},
   "outputs": [],
   "source": [
    "%matplotlib widget\n",
    "\n",
    "#set figsize to be big (12,12) inches\n",
    "#rcParams['figure.figsize'] = 10,10"
   ]
  },
  {
   "cell_type": "markdown",
   "metadata": {},
   "source": [
    "assymettric 2d growth"
   ]
  },
  {
   "cell_type": "code",
   "execution_count": 5,
   "metadata": {},
   "outputs": [],
   "source": [
    "#load a simulation\n",
    "\n",
    "#load the ablation with initial noise run\n",
    "#test_2d_asym = loadSim('f2d_simulation_asymmetric250_200_500layers_center_reduction0.1_D_2_RK45_sigmamax_-0.01noisyinit_True.pkl')\n",
    "\n",
    "#load the growth with initial noise run\n",
    "#test_2d_asym = loadSim('f2d_simulation_asymmetric250_200_500layers_center_reduction0.1_D_2_RK45_sigmamax_0.2noisyinit_True.pkl')\n"
   ]
  },
  {
   "cell_type": "code",
   "execution_count": 6,
   "metadata": {},
   "outputs": [],
   "source": [
    "#set up and run and plot a new simulation\n",
    "test_2d_asym = Simulation(f2d, (250,300), method='RK45')\n",
    "\n",
    "#try a noisy simulation\n",
    "test_2d_asym.noisy_init = False\n",
    "\n",
    "#test_2d_asym.float_params['DoverdeltaX2'] *= 2 \n",
    "test_2d_asym.layermax = 300\n",
    "#test_2d_asym.sigmastepmax= -0.01 #ablation\n",
    "test_2d_asym.sigmastepmax= 0.20 #growth\n",
    "test_2d_asym.center_reduction = 0.1\n",
    "test_2d_asym.deltaT *= 10 #increase time step to decrease number of steps saved\n",
    "\n",
    "#_plot = test_2d_asym.plot(tot=True,completion=1)\n",
    "#anim = test_2d_asym.animate(ice=True,surface=True, ret=True, focus_on_growth=True)"
   ]
  },
  {
   "cell_type": "code",
   "execution_count": 7,
   "metadata": {},
   "outputs": [],
   "source": [
    "my_id=['asymmetric'+str(test_2d_asym.shape[0])+'_'+str(test_2d_asym.shape[1]),str(test_2d_asym.layermax)+'layers',\n",
    "                                'center_reduction'+str(test_2d_asym.center_reduction),  'D_2', test_2d_asym.method, 'sigmamax_'+str(test_2d_asym.sigmastepmax) +'noisyinit_'+str(test_2d_asym.noisy_init)] #'Cy_0_Dy0',\n",
    "my_filename = ''.join([i+'_' for i in my_id])"
   ]
  },
  {
   "cell_type": "code",
   "execution_count": 8,
   "metadata": {},
   "outputs": [],
   "source": [
    "#calcs to graph asymmetric sigmastep2d\n",
    "xs,ys = test_2d_asym.x, test_2d_asym.y #linspace\n",
    "sigma = getsigmastep_2d(xs,ys, test_2d_asym.center_reduction, test_2d_asym.sigmastepmax)\n",
    "ygrid,xgrid = np.meshgrid(ys,xs) #2d mesh for plotting"
   ]
  },
  {
   "cell_type": "code",
   "execution_count": null,
   "metadata": {},
   "outputs": [],
   "source": [
    "#countour plot of sigmastep 2d\n",
    "print(xs.shape,ys.shape,sigma.shape)\n",
    "fig,ax = plt.subplots()\n",
    "CS = ax.contourf(xgrid,ygrid,sigma*100,np.arange(np.min(sigma*100)-0.01,np.max(sigma*100)+0.01,0.01))\n",
    "#CS = ax.contourf(xgrid,ygrid,xgrid) #graph x\n",
    "#CS = ax.contourf(xgrid,ygrid,ygrid) #graph y\n",
    "ax.set_xlabel(r'$x (\\mu m)$', fontsize=20)\n",
    "ax.set_ylabel(r'$y (\\mu m)$', fontsize=20)\n",
    "plt.grid(True)\n",
    "plt.gca().set_aspect('equal')\n",
    "fig.colorbar(CS)\n",
    "plt.title('%supersaturation (getsigmastep_2d)')\n",
    "print(xgrid.shape,ygrid.shape)"
   ]
  },
  {
   "cell_type": "code",
   "execution_count": null,
   "metadata": {},
   "outputs": [],
   "source": [
    "#animate the simulation (runs if needed)\n",
    "#test_2d_asym.run(halve_time_res=True) #only saves half the time steps since it is a huge simulation\n",
    "\n",
    "anim = test_2d_asym.animate(ret=True, focus_on_growth=True, proportionalSpeed=False)"
   ]
  },
  {
   "cell_type": "code",
   "execution_count": null,
   "metadata": {},
   "outputs": [],
   "source": []
  },
  {
   "cell_type": "code",
   "execution_count": null,
   "metadata": {},
   "outputs": [],
   "source": [
    "#start a second simulation starting with the ending surface of the first \n",
    "# as the initial surface\n",
    "\n",
    "#create 1d sim and graph number of steps over time\n",
    "cycle_sim =  Simulation(f2d, (test_2d_asym.shape[0],test_2d_asym.shape[1]), method=test_2d_asym.method, rtol=test_2d_asym.rtol)\n",
    "\n",
    "#keep general params same\n",
    "cycle_sim.layermax = test_2d_asym.layermax * 1.5 #make sure it reaches steady state\n",
    "cycle_sim.float_params['DoverdeltaX2'] = test_2d_asym.float_params['DoverdeltaX2'] \n",
    "cycle_sim.sigma0 = test_2d_asym.sigma0\n",
    "cycle_sim.center_reduction = test_2d_asym.center_reduction\n",
    "cycle_sim.deltaT = test_2d_asym.deltaT #increase time step to decrease number of steps saved?\n",
    "cycle_sim.noisy_init = test_2d_asym.noisy_init\n",
    "\n",
    "#set up initial surface\n",
    "cycle_sim.nonstd_init = True\n",
    "ntots = test_2d_asym.getNtot()\n",
    "cycle_sim.startingNtot = ntots[len(ntots)//2] #start with the middle of the last simulation, before discretzation error\n",
    "\n",
    "#set to ablation run\n",
    "cycle_sim.sigmastepmax = -0.01\n"
   ]
  },
  {
   "cell_type": "code",
   "execution_count": null,
   "metadata": {},
   "outputs": [],
   "source": [
    "#animate ablation of growth ending surface\n",
    "anim = cycle_sim.animate(ret=True, focus_on_growth=True, proportionalSpeed=False)"
   ]
  },
  {
   "cell_type": "code",
   "execution_count": 9,
   "metadata": {},
   "outputs": [
    {
     "name": "stdout",
     "output_type": "stream",
     "text": [
      "appx progress: 0.11 %\r"
     ]
    },
    {
     "ename": "KeyboardInterrupt",
     "evalue": "",
     "output_type": "error",
     "traceback": [
      "\u001b[1;31m---------------------------------------------------------------------------\u001b[0m",
      "\u001b[1;31mKeyboardInterrupt\u001b[0m                         Traceback (most recent call last)",
      "\u001b[1;32mc:\\Users\\Max-PC\\OneDrive - University of Puget Sound\\Research 2022\\Workspace\\icecontinuum\\bloom_2022\\experiments.ipynb Cell 13\u001b[0m in \u001b[0;36m<cell line: 2>\u001b[1;34m()\u001b[0m\n\u001b[0;32m      <a href='vscode-notebook-cell:/c%3A/Users/Max-PC/OneDrive%20-%20University%20of%20Puget%20Sound/Research%202022/Workspace/icecontinuum/bloom_2022/experiments.ipynb#X15sZmlsZQ%3D%3D?line=0'>1</a>\u001b[0m \u001b[39m#graph number of steps over time\u001b[39;00m\n\u001b[1;32m----> <a href='vscode-notebook-cell:/c%3A/Users/Max-PC/OneDrive%20-%20University%20of%20Puget%20Sound/Research%202022/Workspace/icecontinuum/bloom_2022/experiments.ipynb#X15sZmlsZQ%3D%3D?line=1'>2</a>\u001b[0m Ntot \u001b[39m=\u001b[39m test_2d_asym\u001b[39m.\u001b[39;49mgetNtot()\n\u001b[0;32m      <a href='vscode-notebook-cell:/c%3A/Users/Max-PC/OneDrive%20-%20University%20of%20Puget%20Sound/Research%202022/Workspace/icecontinuum/bloom_2022/experiments.ipynb#X15sZmlsZQ%3D%3D?line=2'>3</a>\u001b[0m \u001b[39m#Ntot = cycle_sim.getNtot()\u001b[39;00m\n\u001b[0;32m      <a href='vscode-notebook-cell:/c%3A/Users/Max-PC/OneDrive%20-%20University%20of%20Puget%20Sound/Research%202022/Workspace/icecontinuum/bloom_2022/experiments.ipynb#X15sZmlsZQ%3D%3D?line=4'>5</a>\u001b[0m maxes \u001b[39m=\u001b[39m np\u001b[39m.\u001b[39marray([np\u001b[39m.\u001b[39mmax(n) \u001b[39mfor\u001b[39;00m n \u001b[39min\u001b[39;00m Ntot[:]])\n",
      "File \u001b[1;32mc:\\Users\\Max-PC\\OneDrive - University of Puget Sound\\Research 2022\\Workspace\\icecontinuum\\bloom_2022\\sim_handling2.py:461\u001b[0m, in \u001b[0;36mSimulation.getNtot\u001b[1;34m(self, step)\u001b[0m\n\u001b[0;32m    459\u001b[0m \u001b[39mif\u001b[39;00m step \u001b[39m==\u001b[39m \u001b[39mNone\u001b[39;00m:\n\u001b[0;32m    460\u001b[0m     Ntot \u001b[39m=\u001b[39m []\n\u001b[1;32m--> 461\u001b[0m     \u001b[39mfor\u001b[39;00m step \u001b[39min\u001b[39;00m \u001b[39mrange\u001b[39m(\u001b[39mlen\u001b[39m(\u001b[39mself\u001b[39;49m\u001b[39m.\u001b[39;49mresults()[\u001b[39m'\u001b[39m\u001b[39mt\u001b[39m\u001b[39m'\u001b[39m])):\n\u001b[0;32m    462\u001b[0m         next_Ntot \u001b[39m=\u001b[39m \u001b[39mself\u001b[39m\u001b[39m.\u001b[39mresults()[\u001b[39m'\u001b[39m\u001b[39my\u001b[39m\u001b[39m'\u001b[39m][step]\n\u001b[0;32m    463\u001b[0m         Ntot\u001b[39m.\u001b[39mappend(next_Ntot)\n",
      "File \u001b[1;32mc:\\Users\\Max-PC\\OneDrive - University of Puget Sound\\Research 2022\\Workspace\\icecontinuum\\bloom_2022\\sim_handling2.py:453\u001b[0m, in \u001b[0;36mSimulation.results\u001b[1;34m(self)\u001b[0m\n\u001b[0;32m    451\u001b[0m \u001b[39m\"\"\" Returns results of simulation (handles running if necessary) \"\"\"\u001b[39;00m\n\u001b[0;32m    452\u001b[0m \u001b[39mif\u001b[39;00m \u001b[39mself\u001b[39m\u001b[39m.\u001b[39m_results \u001b[39m==\u001b[39m {\u001b[39mNone\u001b[39;00m:\u001b[39mNone\u001b[39;00m}:\n\u001b[1;32m--> 453\u001b[0m     \u001b[39mself\u001b[39;49m\u001b[39m.\u001b[39;49mrun()\n\u001b[0;32m    454\u001b[0m \u001b[39mreturn\u001b[39;00m \u001b[39mself\u001b[39m\u001b[39m.\u001b[39m_results\n",
      "File \u001b[1;32mc:\\Users\\Max-PC\\OneDrive - University of Puget Sound\\Research 2022\\Workspace\\icecontinuum\\bloom_2022\\sim_handling2.py:357\u001b[0m, in \u001b[0;36mSimulation.run\u001b[1;34m(self, print_progress, print_count_layers, halve_time_res)\u001b[0m\n\u001b[0;32m    352\u001b[0m \u001b[39m# Call the ODE solver\u001b[39;00m\n\u001b[0;32m    353\u001b[0m \u001b[39mwhile\u001b[39;00m \u001b[39mTrue\u001b[39;00m:\n\u001b[0;32m    354\u001b[0m     \u001b[39m#print(\"shape of ylast: \", np.shape(ylast))\u001b[39;00m\n\u001b[0;32m    355\u001b[0m     \u001b[39m#print(\"np.prod(np.shape(ylast)): \", np.prod(np.shape(ylast)))\u001b[39;00m\n\u001b[0;32m    356\u001b[0m     \u001b[39m# Integrate up to next time step \u001b[39;00m\n\u001b[1;32m--> 357\u001b[0m     solve_ivp_result \u001b[39m=\u001b[39m solve_ivp(\u001b[39mself\u001b[39;49m\u001b[39m.\u001b[39;49mmodel, \u001b[39mself\u001b[39;49m\u001b[39m.\u001b[39;49mtinterval, np\u001b[39m.\u001b[39;49mreshape(ylast,np\u001b[39m.\u001b[39;49mprod(np\u001b[39m.\u001b[39;49mshape(ylast))), method\u001b[39m=\u001b[39;49mmethod, args\u001b[39m=\u001b[39;49mmodel_args, t_eval\u001b[39m=\u001b[39;49m\u001b[39mself\u001b[39;49m\u001b[39m.\u001b[39;49mtinterval, rtol\u001b[39m=\u001b[39;49m\u001b[39mself\u001b[39;49m\u001b[39m.\u001b[39;49mrtol, atol\u001b[39m=\u001b[39;49m\u001b[39mself\u001b[39;49m\u001b[39m.\u001b[39;49matol)\n\u001b[0;32m    358\u001b[0m     y \u001b[39m=\u001b[39m solve_ivp_result\u001b[39m.\u001b[39my[:, \u001b[39mlen\u001b[39m(solve_ivp_result\u001b[39m.\u001b[39mt)\u001b[39m-\u001b[39m\u001b[39m1\u001b[39m]\u001b[39m#y[:,-1] : get last timestep that solve_ivp returns\u001b[39;00m\n\u001b[0;32m    359\u001b[0m     \u001b[39m#print(\"shape of ylast: \", np.shape(ylast))\u001b[39;00m\n\u001b[0;32m    360\u001b[0m     \u001b[39m#print(\"np.prod(np.shape(ylast)): \", np.prod(np.shape(ylast)))\u001b[39;00m\n\u001b[0;32m    361\u001b[0m     \u001b[39m#print('ylast: ', ylast)\u001b[39;00m\n\u001b[0;32m    362\u001b[0m     \n\u001b[0;32m    363\u001b[0m     \u001b[39m# Update the state                 \u001b[39;00m\n",
      "File \u001b[1;32m~\\AppData\\Local\\Packages\\PythonSoftwareFoundation.Python.3.9_qbz5n2kfra8p0\\LocalCache\\local-packages\\Python39\\site-packages\\scipy\\integrate\\_ivp\\ivp.py:576\u001b[0m, in \u001b[0;36msolve_ivp\u001b[1;34m(fun, t_span, y0, method, t_eval, dense_output, events, vectorized, args, **options)\u001b[0m\n\u001b[0;32m    574\u001b[0m status \u001b[39m=\u001b[39m \u001b[39mNone\u001b[39;00m\n\u001b[0;32m    575\u001b[0m \u001b[39mwhile\u001b[39;00m status \u001b[39mis\u001b[39;00m \u001b[39mNone\u001b[39;00m:\n\u001b[1;32m--> 576\u001b[0m     message \u001b[39m=\u001b[39m solver\u001b[39m.\u001b[39;49mstep()\n\u001b[0;32m    578\u001b[0m     \u001b[39mif\u001b[39;00m solver\u001b[39m.\u001b[39mstatus \u001b[39m==\u001b[39m \u001b[39m'\u001b[39m\u001b[39mfinished\u001b[39m\u001b[39m'\u001b[39m:\n\u001b[0;32m    579\u001b[0m         status \u001b[39m=\u001b[39m \u001b[39m0\u001b[39m\n",
      "File \u001b[1;32m~\\AppData\\Local\\Packages\\PythonSoftwareFoundation.Python.3.9_qbz5n2kfra8p0\\LocalCache\\local-packages\\Python39\\site-packages\\scipy\\integrate\\_ivp\\base.py:181\u001b[0m, in \u001b[0;36mOdeSolver.step\u001b[1;34m(self)\u001b[0m\n\u001b[0;32m    179\u001b[0m \u001b[39melse\u001b[39;00m:\n\u001b[0;32m    180\u001b[0m     t \u001b[39m=\u001b[39m \u001b[39mself\u001b[39m\u001b[39m.\u001b[39mt\n\u001b[1;32m--> 181\u001b[0m     success, message \u001b[39m=\u001b[39m \u001b[39mself\u001b[39;49m\u001b[39m.\u001b[39;49m_step_impl()\n\u001b[0;32m    183\u001b[0m     \u001b[39mif\u001b[39;00m \u001b[39mnot\u001b[39;00m success:\n\u001b[0;32m    184\u001b[0m         \u001b[39mself\u001b[39m\u001b[39m.\u001b[39mstatus \u001b[39m=\u001b[39m \u001b[39m'\u001b[39m\u001b[39mfailed\u001b[39m\u001b[39m'\u001b[39m\n",
      "File \u001b[1;32m~\\AppData\\Local\\Packages\\PythonSoftwareFoundation.Python.3.9_qbz5n2kfra8p0\\LocalCache\\local-packages\\Python39\\site-packages\\scipy\\integrate\\_ivp\\rk.py:144\u001b[0m, in \u001b[0;36mRungeKutta._step_impl\u001b[1;34m(self)\u001b[0m\n\u001b[0;32m    141\u001b[0m h \u001b[39m=\u001b[39m t_new \u001b[39m-\u001b[39m t\n\u001b[0;32m    142\u001b[0m h_abs \u001b[39m=\u001b[39m np\u001b[39m.\u001b[39mabs(h)\n\u001b[1;32m--> 144\u001b[0m y_new, f_new \u001b[39m=\u001b[39m rk_step(\u001b[39mself\u001b[39;49m\u001b[39m.\u001b[39;49mfun, t, y, \u001b[39mself\u001b[39;49m\u001b[39m.\u001b[39;49mf, h, \u001b[39mself\u001b[39;49m\u001b[39m.\u001b[39;49mA,\n\u001b[0;32m    145\u001b[0m                        \u001b[39mself\u001b[39;49m\u001b[39m.\u001b[39;49mB, \u001b[39mself\u001b[39;49m\u001b[39m.\u001b[39;49mC, \u001b[39mself\u001b[39;49m\u001b[39m.\u001b[39;49mK)\n\u001b[0;32m    146\u001b[0m scale \u001b[39m=\u001b[39m atol \u001b[39m+\u001b[39m np\u001b[39m.\u001b[39mmaximum(np\u001b[39m.\u001b[39mabs(y), np\u001b[39m.\u001b[39mabs(y_new)) \u001b[39m*\u001b[39m rtol\n\u001b[0;32m    147\u001b[0m error_norm \u001b[39m=\u001b[39m \u001b[39mself\u001b[39m\u001b[39m.\u001b[39m_estimate_error_norm(\u001b[39mself\u001b[39m\u001b[39m.\u001b[39mK, h, scale)\n",
      "File \u001b[1;32m~\\AppData\\Local\\Packages\\PythonSoftwareFoundation.Python.3.9_qbz5n2kfra8p0\\LocalCache\\local-packages\\Python39\\site-packages\\scipy\\integrate\\_ivp\\rk.py:63\u001b[0m, in \u001b[0;36mrk_step\u001b[1;34m(fun, t, y, f, h, A, B, C, K)\u001b[0m\n\u001b[0;32m     61\u001b[0m K[\u001b[39m0\u001b[39m] \u001b[39m=\u001b[39m f\n\u001b[0;32m     62\u001b[0m \u001b[39mfor\u001b[39;00m s, (a, c) \u001b[39min\u001b[39;00m \u001b[39menumerate\u001b[39m(\u001b[39mzip\u001b[39m(A[\u001b[39m1\u001b[39m:], C[\u001b[39m1\u001b[39m:]), start\u001b[39m=\u001b[39m\u001b[39m1\u001b[39m):\n\u001b[1;32m---> 63\u001b[0m     dy \u001b[39m=\u001b[39m np\u001b[39m.\u001b[39;49mdot(K[:s]\u001b[39m.\u001b[39;49mT, a[:s]) \u001b[39m*\u001b[39;49m h\n\u001b[0;32m     64\u001b[0m     K[s] \u001b[39m=\u001b[39m fun(t \u001b[39m+\u001b[39m c \u001b[39m*\u001b[39m h, y \u001b[39m+\u001b[39m dy)\n\u001b[0;32m     66\u001b[0m y_new \u001b[39m=\u001b[39m y \u001b[39m+\u001b[39m h \u001b[39m*\u001b[39m np\u001b[39m.\u001b[39mdot(K[:\u001b[39m-\u001b[39m\u001b[39m1\u001b[39m]\u001b[39m.\u001b[39mT, B)\n",
      "\u001b[1;31mKeyboardInterrupt\u001b[0m: "
     ]
    }
   ],
   "source": [
    "#graph number of steps over time\n",
    "Ntot = test_2d_asym.getNtot()\n",
    "#Ntot = cycle_sim.getNtot()\n",
    "\n",
    "maxes = np.array([np.max(n) for n in Ntot[:]])\n",
    "mins = np.array([np.min(n) for n in Ntot[:]])\n",
    "\n",
    "#print(maxes,mins)\n",
    "plt.figure()\n",
    "ax = plt.subplot(111)\n",
    "\n",
    "ax.set_ylabel('Number of steps on surface')\n",
    "\n",
    "if test_2d_asym.sigmastepmax < 0: #ablation case\n",
    "    ax.set_xlabel('Total number of layers ablated')\n",
    "    ax.plot( Ntot[::-1,0,0]+test_2d_asym.layermax,maxes-mins) #flipping to show ablation progress from left to right, adding layermax to show # layers ablated instead of negative # layers grown\n",
    "else: #growth case   \n",
    "    ax.set_xlabel('Total number of layers grown')\n",
    "    ax.plot( Ntot[:,0,0],maxes-mins)\n",
    "\n",
    "plt.grid()"
   ]
  },
  {
   "cell_type": "code",
   "execution_count": null,
   "metadata": {},
   "outputs": [],
   "source": [
    "#save the animation as a gif, trying this since Simulation.save_animation is not working\n",
    "#anim.save(my_filename+'.gif',writer=PillowWriter(fps=60))"
   ]
  },
  {
   "cell_type": "code",
   "execution_count": null,
   "metadata": {},
   "outputs": [],
   "source": [
    "#save animation with built in Simulation method\n",
    "test_2d_asym.save_animation(my_filename, 'gif')"
   ]
  },
  {
   "cell_type": "code",
   "execution_count": null,
   "metadata": {},
   "outputs": [],
   "source": [
    "#plot at specific timesteps\n",
    "#cmpltion = 0.005 \n",
    "#cmpltion = 0.1\n",
    "#sim = test_2d_asym\n",
    "sim = cycle_sim\n",
    "\n",
    "for cmpltion in [0.9]:#[0.33,0.50,0.55,0.66,0.8,0.9]:  #[0,0.001,0.005]: # making plots of initial noise dissipating\n",
    "    plt.close()\n",
    "    sim.plot(completion=cmpltion, ice=True, figurename=my_filename+'_completion'+str(cmpltion))\n",
    "    #plt.savefig(my_filename+'_completion'+str(cmpltion)+'.png')"
   ]
  },
  {
   "cell_type": "code",
   "execution_count": null,
   "metadata": {},
   "outputs": [],
   "source": [
    "plt.savefig(''.join([i+'_' for i in my_id])+'.png')"
   ]
  },
  {
   "cell_type": "code",
   "execution_count": null,
   "metadata": {},
   "outputs": [],
   "source": [
    "#save the simulation to a pickle file for later use (without re-running the simulation)\n",
    "test_2d_asym.save(id=my_id)\n",
    "\n",
    "#manually save it and add compression since the 1000 layter simulation is too big\n",
    "# import pickle\n",
    "# import bz2\n",
    "# id=['asymmetric'+str(test_2d_asym.shape[0])+'_'+str(test_2d_asym.shape[1]),str(test_2d_asym.layermax)+'layers']\n",
    "# id = ''.join('_'+i for i in id)\n",
    "# filename = test_2d_asym.model.__name__+'_simulation'+id+'.pkl'\n",
    "# with open(filename, 'wb') as f:\n",
    "#     print(\"saving to\", f)\n",
    "#     pickle.dump(test_2d_asym, bz2.BZ2File(f, 'w'))"
   ]
  },
  {
   "cell_type": "markdown",
   "metadata": {},
   "source": [
    "1D model for comparison (uses same parameters as above 2d model), graphing if it also reaching steady state"
   ]
  },
  {
   "cell_type": "code",
   "execution_count": 10,
   "metadata": {},
   "outputs": [],
   "source": [
    "#create 1d sim and graph number of steps over time\n",
    "ss_1d = Simulation(f1d, (test_2d_asym.shape[0],), method=test_2d_asym.method, rtol=test_2d_asym.rtol)\n",
    "\n",
    "ss_1d.float_params['DoverdeltaX2'] = test_2d_asym.float_params['DoverdeltaX2'] \n",
    "ss_1d.layermax = test_2d_asym.layermax * 1.5 #make sure it reaches steady state\n",
    "ss_1d.sigmastepmax = test_2d_asym.sigmastepmax \n",
    "ss_1d.sigma0 = test_2d_asym.sigma0\n",
    "ss_1d.center_reduction = test_2d_asym.center_reduction\n",
    "ss_1d.deltaT = test_2d_asym.deltaT #increase time step to decrease number of steps saved?\n",
    "ss_1d.noisy_init = test_2d_asym.noisy_init\n"
   ]
  },
  {
   "cell_type": "code",
   "execution_count": 11,
   "metadata": {},
   "outputs": [],
   "source": [
    "#set the id \n",
    "my_id=['nx_'+str(ss_1d.shape[0]),str(ss_1d.layermax)+'layers',\n",
    "                                'center_reduction'+str(ss_1d.center_reduction),  'D_2', ss_1d.method, 'sigmamax_'+str(ss_1d.sigmastepmax) +'noisyinit_'+str(ss_1d.noisy_init)]\n",
    "my_filename = ''.join([i+'_' for i in my_id])"
   ]
  },
  {
   "cell_type": "code",
   "execution_count": 12,
   "metadata": {},
   "outputs": [
    {
     "name": "stdout",
     "output_type": "stream",
     "text": [
      "breaking because reached max number of layers grown\n"
     ]
    },
    {
     "data": {
      "application/vnd.jupyter.widget-view+json": {
       "model_id": "f3fa76c59cee4b3cae7175b34810b624",
       "version_major": 2,
       "version_minor": 0
      },
      "image/png": "[encoded data removed]",
      "text/html": [
       "\n",
       "            <div style=\"display: inline-block;\">\n",
       "                <div class=\"jupyter-widgets widget-label\" style=\"text-align: center;\">\n",
       "                    Figure\n",
       "                </div>\n",
       "                <img src='data:image/png;base64,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' width=640.0/>\n",
       "            </div>\n",
       "        "
      ],
      "text/plain": [
       "Canvas(toolbar=Toolbar(toolitems=[('Home', 'Reset original view', 'home', 'home'), ('Back', 'Back to previous …"
      ]
     },
     "metadata": {},
     "output_type": "display_data"
    }
   ],
   "source": [
    "#print number of steps over time\n",
    "Ntot = ss_1d.getNtot()\n",
    "\n",
    "maxes = np.array([np.max(n) for n in Ntot[:]])\n",
    "mins = np.array([np.min(n) for n in Ntot[:]])\n",
    "\n",
    "#print(maxes,mins)\n",
    "plt.figure()\n",
    "ax = plt.subplot(111)\n",
    "\n",
    "#ax.plot(test_f2d_sim.results()['t'],maxes-mins)\n",
    "ax.plot(Ntot[:,0],maxes-mins)\n",
    "ax.set_ylabel('Number of steps on surface')\n",
    "ax.set_xlabel('Time')\n",
    "plt.grid()"
   ]
  },
  {
   "cell_type": "code",
   "execution_count": null,
   "metadata": {},
   "outputs": [],
   "source": [
    "#plot \n",
    "#cmpltion = 0.005 \n",
    "cmpltion = 0.1\n",
    "\n",
    "#for cmpltion in map(lambda x: x*3,[0,0.001,0.005]): # making plots of initial noise dissipating\n",
    "ss_1d.plot(completion=cmpltion, ice=True, figurename=my_filename+'_completion'+str(cmpltion))\n",
    "plt.savefig(my_filename+'_completion'+str(cmpltion)+'.png')\n",
    "plt.close()\n"
   ]
  },
  {
   "cell_type": "code",
   "execution_count": null,
   "metadata": {},
   "outputs": [],
   "source": [
    "#test_2d_asym.save(id=['asymmetric'+str(test_2d_asym.shape[0])+'_'+str(test_2d_asym.shape[1]),str(test_2d_asym.layermax)+'layers'])\n",
    "#symm = Simulation(f2d,(500,500),rtol=1e-12)"
   ]
  },
  {
   "cell_type": "code",
   "execution_count": null,
   "metadata": {},
   "outputs": [],
   "source": [
    "#countour plot of sigmastep 2d\n",
    "plt.figure()\n",
    "ax = plt.axes(projection='3d')\n",
    "plt.xlabel(r'x ($\\mu m$)')\n",
    "plt.ylabel(r'y ($\\mu m$)')\n",
    "#ax.set_zlabel('Layers of ice')\n",
    "#levels = np.arange(19,21,0.1)\n",
    "ax.contourf(xgrid,ygrid, sigma*100, extent=(0, 2, 0, 2), cmap='YlGnBu_r', vmin=0, vmax=200, zorder=1)#, levels=levels)"
   ]
  },
  {
   "cell_type": "code",
   "execution_count": null,
   "metadata": {},
   "outputs": [],
   "source": [
    "#countour plot of sigmastep 2d\n",
    "print(xs.shape,ys.shape,sigma.shape)\n",
    "fig,ax = plt.subplots()\n",
    "CS = ax.contourf(xs.T,ys.T,sigma*100)\n",
    "ax.set_xlabel(r'$x (\\mu m)$', fontsize=20)\n",
    "ax.set_ylabel(r'$y (\\mu m)$', fontsize=20)\n",
    "plt.grid(True)\n",
    "plt.gca().set_aspect('equal')\n",
    "fig.colorbar(CS)\n",
    "plt.title('%supersaturation (getsigmastep_2d)')"
   ]
  },
  {
   "cell_type": "markdown",
   "metadata": {},
   "source": [
    "2D Growth simulation"
   ]
  },
  {
   "cell_type": "code",
   "execution_count": null,
   "metadata": {},
   "outputs": [],
   "source": [
    "#create the 2d sim\n",
    "test_f2d_sim = Simulation(f2d, (250,250), rtol=1e-12)\n",
    "test_f2d_sim.layermax = 50#0\n",
    "#test_f2d_sim.run()\n",
    "#test_f2d_sim.save(_id=['test','50layer'])"
   ]
  },
  {
   "cell_type": "code",
   "execution_count": null,
   "metadata": {},
   "outputs": [],
   "source": [
    "#animate the 2d sim\n",
    "test_f2d_sim.animate(crossSection=True)"
   ]
  },
  {
   "cell_type": "code",
   "execution_count": null,
   "metadata": {},
   "outputs": [],
   "source": [
    "#print variables in 1d simulation for comparison to literature\n",
    "for k,v in test_f2d_sim._extra_vars.items():\n",
    "    print(k,v)\n",
    "print('center reduction %: ', test_f2d_sim.center_reduction)"
   ]
  },
  {
   "cell_type": "code",
   "execution_count": null,
   "metadata": {},
   "outputs": [],
   "source": [
    "#print number of steps over time\n",
    "Ntot = test_f2d_sim.getNtot()\n",
    "\n",
    "maxes = np.array([np.max(n) for n in Ntot[:]])\n",
    "mins = np.array([np.min(n) for n in Ntot[:]])\n",
    "\n",
    "#print(maxes,mins)\n",
    "plt.figure()\n",
    "ax = plt.subplot(111)\n",
    "\n",
    "#ax.plot(test_f2d_sim.results()['t'],maxes-mins)\n",
    "ax.plot(Ntot[:,0,0],maxes-mins)\n",
    "#ax.plot(test_f2d_sim.results()['t'],test_f2d_sim.results()['t'])\n",
    "plt.grid()"
   ]
  },
  {
   "cell_type": "code",
   "execution_count": null,
   "metadata": {},
   "outputs": [],
   "source": [
    "#animate test_f2d_sim\n",
    "\n",
    "test_f2d_sim.animate(ice=True)"
   ]
  },
  {
   "cell_type": "code",
   "execution_count": null,
   "metadata": {},
   "outputs": [],
   "source": [
    "#test_f2d_sim = loadSim('f2d_simulation_test_50layer.pkl') "
   ]
  },
  {
   "cell_type": "code",
   "execution_count": null,
   "metadata": {},
   "outputs": [],
   "source": [
    "#graph results normalized to minimum of ice surface\n",
    "Fliq_ss, Ntot_steadystate = test_f2d_sim.normalize_results_to_min()\n",
    "nice_ss = Ntot_steadystate-Fliq_ss\n",
    "print(np.shape(Ntot_steadystate))\n",
    "xs, ys = np.meshgrid(test_f2d_sim.x, test_f2d_sim.y)\n",
    "\n",
    "fig = plt.figure(figsize=(12,12))\n",
    "ax = plt.axes(projection = '3d')\n",
    "#ax.plot_surface(test_f2d_sim._results['t'], Ntot_steadystate[:,])\n",
    "ax.set_xlabel(r'$x (\\mu m$)')#,fontsize=fontsize)\n",
    "ax.set_ylabel(r'$y (\\mu m$)')#,fontsize=fontsize)\n",
    "ax.set_zlabel(r'$ice \\ layers$')#,fontsize=fontsize)\n",
    "#limits\n",
    "#ax.set_zlim3d(-self.layermax, self.layermax)\n",
    "#ax.set_ylim(0, max(self.y))\n",
    "#ax.set_xlim(0, max(self.x))\n",
    "def update_fig(num):\n",
    "    ax.clear() # remove last iteration of plot \n",
    "    plot_func = ax.plot_surface\n",
    "    # if crossSection:\n",
    "    #     xmid = round(np.shape(Nice)[0]/2)\n",
    "    #     if ice:\n",
    "    #         plot_func(X=xs[xmid:], Y=ys[xmid:], Z=nice_ss[num][xmid:][:],cmap ='viridis')# cmap='viridis')#, vmin=0, vmax=200) #plot half of the surface of the ice\n",
    "    #     if tot:\n",
    "    #         plot_func(X=xs[xmid:], Y=ys[xmid:], Z=Ntot_steadystate[num][xmid:][:], cmap='cividis')#, vmin=0, vmax=200) #plot half the surface of the QLL\n",
    "    # else:\n",
    "    #     if ice:\n",
    "    plot_func(X=xs, Y=ys, Z=nice_ss[num], cmap='viridis')#, vmin=0, vmax=200) #plot the surface of the ice \n",
    "        # if tot:\n",
    "    # plot_func(X=xs, Y=ys, Z=Ntot_steadystate[num], cmap='YlGnBu_r')#, vmin=0, vmax=200)#plot the surface of the QLL\n",
    "    pass\n",
    "\n",
    "\n",
    "num_steps = len(test_f2d_sim._results['t'])\n",
    "import matplotlib.animation as animation\n",
    "ani = animation.FuncAnimation(fig , update_fig, num_steps, interval=50, blit=False, cache_frame_data=False, repeat = True)\n",
    "plt.show()"
   ]
  },
  {
   "cell_type": "code",
   "execution_count": null,
   "metadata": {},
   "outputs": [],
   "source": [
    "#graph difference in steps over time: should converge to zero if steady state is reached\n",
    "Fliq_ss, Ntot_steadystate = test_f2d_sim.steady_state_calc()\n",
    "nice_ss = Ntot_steadystate-Fliq_ss\n",
    "print(np.shape(Ntot_steadystate))\n",
    "xs, ys = np.meshgrid(test_f2d_sim.x, test_f2d_sim.y)\n",
    "\n",
    "fig = plt.figure(figsize=(12,12))\n",
    "ax = plt.axes(projection = '3d')\n",
    "#ax.plot_surface(test_f2d_sim._results['t'], Ntot_steadystate[:,])\n",
    "ax.set_xlabel(r'$x (\\mu m$)')#,fontsize=fontsize)\n",
    "ax.set_ylabel(r'$y (\\mu m$)')#,fontsize=fontsize)\n",
    "ax.set_zlabel(r'$ice \\ layers$')#,fontsize=fontsize)\n",
    "#limits\n",
    "#ax.set_zlim3d(-self.layermax, self.layermax)\n",
    "#ax.set_ylim(0, max(self.y))\n",
    "#ax.set_xlim(0, max(self.x))\n",
    "def update_fig(num):\n",
    "    ax.clear() # remove last iteration of plot \n",
    "    plot_func = ax.plot_surface\n",
    "    # if crossSection:\n",
    "    #     xmid = round(np.shape(Nice)[0]/2)\n",
    "    #     if ice:\n",
    "    #         plot_func(X=xs[xmid:], Y=ys[xmid:], Z=nice_ss[num][xmid:][:],cmap ='viridis')# cmap='viridis')#, vmin=0, vmax=200) #plot half of the surface of the ice\n",
    "    #     if tot:\n",
    "    #         plot_func(X=xs[xmid:], Y=ys[xmid:], Z=Ntot_steadystate[num][xmid:][:], cmap='cividis')#, vmin=0, vmax=200) #plot half the surface of the QLL\n",
    "    # else:\n",
    "    #     if ice:\n",
    "    plot_func(X=xs, Y=ys, Z=nice_ss[num], cmap='viridis')#, vmin=0, vmax=200) #plot the surface of the ice \n",
    "        # if tot:\n",
    "    # plot_func(X=xs, Y=ys, Z=Ntot_steadystate[num], cmap='YlGnBu_r')#, vmin=0, vmax=200)#plot the surface of the QLL\n",
    "    pass\n",
    "\n",
    "\n",
    "num_steps = len(test_f2d_sim._results['t'])\n",
    "import matplotlib.animation as animation\n",
    "ani = animation.FuncAnimation(fig , update_fig, num_steps, interval=50, blit=False, cache_frame_data=False, repeat = True)\n",
    "plt.show()"
   ]
  },
  {
   "cell_type": "code",
   "execution_count": null,
   "metadata": {},
   "outputs": [],
   "source": [
    "test_2d_sim = Simulation(f2d, (500,500), rtol=1e-12)\n",
    "test_2d_sim.layermax = 2\n",
    "#test_2d_sim = loadSim('f2d_simulation_august13.pkl')\n",
    "_plot = test_2d_sim.plot()"
   ]
  },
  {
   "cell_type": "markdown",
   "metadata": {},
   "source": [
    "1d simulation "
   ]
  },
  {
   "cell_type": "code",
   "execution_count": null,
   "metadata": {},
   "outputs": [],
   "source": [
    "test_2d_sim.save(id=['august13'])"
   ]
  },
  {
   "cell_type": "code",
   "execution_count": null,
   "metadata": {},
   "outputs": [],
   "source": [
    "fig = plt.figure()\n",
    "ax = plt.axes(projection='3d')\n",
    "num_steps = len(test_2d_sim.results()['t'])\n",
    "xs,ys = np.meshgrid(test_2d_sim.x, test_2d_sim.y)\n",
    "ax.plot_surface(X=xs, Y=ys, Z=test_2d_sim.getNtot()[num_steps-1], cmap='viridis')"
   ]
  },
  {
   "cell_type": "code",
   "execution_count": null,
   "metadata": {},
   "outputs": [],
   "source": [
    "test_1d = Simulation(f1d, shape=(500,), rtol=1e-12)\n",
    "test_1d.layermax = 500\n",
    "test_1d.results()"
   ]
  },
  {
   "cell_type": "code",
   "execution_count": null,
   "metadata": {},
   "outputs": [],
   "source": [
    "#test_1d.animate(ice=True, tot=True)\n",
    "test_1d.plot()"
   ]
  },
  {
   "cell_type": "markdown",
   "metadata": {},
   "source": []
  },
  {
   "cell_type": "markdown",
   "metadata": {},
   "source": [
    "2d Idea: increase sigmastepmax to see if faceted growth occur, removing the concave \"bowl\" forming at the center of initially tested 2d systems (test_f2d_sim)"
   ]
  },
  {
   "cell_type": "code",
   "execution_count": null,
   "metadata": {},
   "outputs": [],
   "source": [
    "# sigma_test = Simulation(f2d, (500,500),rtol = 1e-12)\n",
    "# sigma_test.layermax = 100\n",
    "# sigma_test.sigmastepmax = 0.25\n",
    "# sigma_test.results()"
   ]
  },
  {
   "cell_type": "code",
   "execution_count": null,
   "metadata": {},
   "outputs": [],
   "source": [
    "#sigma_id = ['sigmastepmax_'+str(round(100*sigma_test.sigmastepmax)), str(sigma_test.layermax)+'layers']\n",
    "#sigma_test.save(id=sigma_id)\n",
    "\n",
    "#test increased layers with increased sigmastep\n",
    "\n",
    "#sigma_test = loadSim('f2d_simulation_sigmastepmax_025.pkl') # 20 layers?\n",
    "#sigma_test = loadSim('f2d_simulation_sigmastepmax_025_50layers.pkl')\n",
    "sigma_test = loadSim('f2d_simulation_sigmastepmax_25_100layers.pkl')"
   ]
  },
  {
   "cell_type": "code",
   "execution_count": null,
   "metadata": {},
   "outputs": [],
   "source": [
    "sigma_test.animate()"
   ]
  },
  {
   "cell_type": "markdown",
   "metadata": {},
   "source": [
    "2d Ablation testing"
   ]
  },
  {
   "cell_type": "code",
   "execution_count": null,
   "metadata": {},
   "outputs": [],
   "source": [
    "f2d_ablate = Simulation(f2d, (500,500), rtol=1e-12)\n",
    "f2d_ablate.sigmastepmax = -0.1\n",
    "f2d_ablate.layermax = 50\n",
    "f2d_ablate.animate()"
   ]
  },
  {
   "cell_type": "markdown",
   "metadata": {},
   "source": [
    "1d growth testing. Works, however does not currently match the literature graph despite using the same parameters."
   ]
  },
  {
   "cell_type": "code",
   "execution_count": null,
   "metadata": {},
   "outputs": [],
   "source": [
    "f1d_sim = Simulation(f1d, (500,), rtol=1e-12)"
   ]
  },
  {
   "cell_type": "code",
   "execution_count": null,
   "metadata": {},
   "outputs": [],
   "source": [
    "#change parameters to match Gladich et al paper's graph and run simulation\n",
    "f1d_sim.layermax = 500#10000\n",
    "#f1d_sim.center_reduction = 0.25 #is default now"
   ]
  },
  {
   "cell_type": "code",
   "execution_count": null,
   "metadata": {},
   "outputs": [],
   "source": [
    "f1d_sim.run()"
   ]
  },
  {
   "cell_type": "code",
   "execution_count": null,
   "metadata": {},
   "outputs": [],
   "source": [
    "fig = f1d_sim.plot(completion=0.99, ice=True, tot=True)"
   ]
  },
  {
   "cell_type": "code",
   "execution_count": null,
   "metadata": {},
   "outputs": [],
   "source": [
    "#print variables in 1d simulation for comparison to literature\n",
    "for k,v in f1d_sim._extra_vars.items():\n",
    "    print(k,v)\n",
    "print('center reduction %: ', f1d_sim.center_reduction)"
   ]
  },
  {
   "cell_type": "code",
   "execution_count": null,
   "metadata": {},
   "outputs": [],
   "source": [
    "#functions tested so far\n",
    "#test_f2d_sim.countermax_0D\n",
    "#test_f2d_sim.countermax_1D\n",
    "#test_f2d_sim.countermax_2D\n",
    "#test_f2d_sim.atol\n",
    "#test_f2d_sim.rtol\n",
    "#test_f2d_sim.deltaT\n",
    "#test_f2d_sim.float_params\n",
    "#test_f2d_sim.animate()\n",
    "#test_f2d_sim.run()\n",
    "#test_f2d_sim.steady_state_calc()\n",
    "#test_f2d_sim.plot()\n",
    "#test_f2d_sim.save()\n",
    "#test_f2d_sim.load() #WORKS to load simulation from file if simulation object exists already -- for loading straght froom file use loadSim()\n",
    "#loadSim() #works\n",
    "\n"
   ]
  },
  {
   "cell_type": "code",
   "execution_count": null,
   "metadata": {},
   "outputs": [],
   "source": [
    "num_steps = len(test_f2d_sim.results()['t'])\n",
    "#shape of results is (num_steps, 2, nx, ny)\n",
    "Fliq, Ntot = [],[]\n",
    "for step in range(num_steps):\n",
    "    next_Fliq, next_Ntot = test_f2d_sim._results['y'][step]\n",
    "    Fliq.append(next_Fliq)\n",
    "    Ntot.append(next_Ntot)    \n",
    "Fliq,Ntot = np.array(Fliq), np.array(Ntot)\n",
    "Nice = Ntot - Fliq\n",
    "#shape of fliq, ntot and nice should be (num_steps, nx, ny)\n",
    "\n",
    "#access coordinate arrays for plotting\n",
    "xs, ys = np.meshgrid(test_f2d_sim.x, test_f2d_sim.y)"
   ]
  },
  {
   "cell_type": "code",
   "execution_count": null,
   "metadata": {},
   "outputs": [],
   "source": [
    "print(num_steps)\n",
    "print(test_f2d_sim.steepness(0,slice(0,test_f2d_sim.shape[0]//2)))"
   ]
  },
  {
   "cell_type": "code",
   "execution_count": null,
   "metadata": {},
   "outputs": [],
   "source": [
    "print(test_f2d_sim.get_step_density(0,slice(0,test_f2d_sim.shape[0]//2)))  "
   ]
  },
  {
   "cell_type": "code",
   "execution_count": null,
   "metadata": {},
   "outputs": [],
   "source": []
  }
 ],
 "metadata": {
  "kernelspec": {
   "display_name": "Python 3.9.13 64-bit (microsoft store)",
   "language": "python",
   "name": "python3"
  },
  "language_info": {
   "codemirror_mode": {
    "name": "ipython",
    "version": 3
   },
   "file_extension": ".py",
   "mimetype": "text/x-python",
   "name": "python",
   "nbconvert_exporter": "python",
   "pygments_lexer": "ipython3",
   "version": "3.9.13"
  },
  "orig_nbformat": 4,
  "vscode": {
   "interpreter": {
    "hash": "a5639f55dd41388b289936a35ec1befe471f3e8ab332c7f154620eef02aaf2e9"
   }
  }
 },
 "nbformat": 4,
 "nbformat_minor": 2
}
