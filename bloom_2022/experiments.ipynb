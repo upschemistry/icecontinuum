{
 "cells": [
  {
   "cell_type": "code",
   "execution_count": 1,
   "metadata": {},
   "outputs": [
    {
     "name": "stderr",
     "output_type": "stream",
     "text": [
      "C:\\Users\\Max-PC\\AppData\\Local\\Packages\\PythonSoftwareFoundation.Python.3.9_qbz5n2kfra8p0\\LocalCache\\local-packages\\Python39\\site-packages\\llvmlite\\llvmpy\\__init__.py:3: UserWarning: The module `llvmlite.llvmpy` is deprecated and will be removed in the future.\n",
      "  warnings.warn(\n",
      "C:\\Users\\Max-PC\\AppData\\Local\\Packages\\PythonSoftwareFoundation.Python.3.9_qbz5n2kfra8p0\\LocalCache\\local-packages\\Python39\\site-packages\\llvmlite\\llvmpy\\core.py:8: UserWarning: The module `llvmlite.llvmpy.core` is deprecated and will be removed in the future. Equivalent functionality is provided by `llvmlite.ir`.\n",
      "  warnings.warn(\n",
      "C:\\Users\\Max-PC\\AppData\\Local\\Packages\\PythonSoftwareFoundation.Python.3.9_qbz5n2kfra8p0\\LocalCache\\local-packages\\Python39\\site-packages\\llvmlite\\llvmpy\\passes.py:17: UserWarning: The module `llvmlite.llvmpy.passes` is deprecated and will be removed in the future. If you are using this code, it should be inlined into your own project.\n",
      "  warnings.warn(\n"
     ]
    }
   ],
   "source": [
    "import numpy as np\n",
    "from sim_handling import Simulation,loadSim, continue_from_file #uses ds7, both PDES leads to stable solution\n",
    "from diffusionstuff7 import f0d,f1d,f2d, getsigmastep_2d\n",
    "\n",
    "# for plotting\n",
    "from matplotlib import pyplot as plt\n",
    "from matplotlib import rcParams\n",
    "from matplotlib.animation import PillowWriter\n",
    "from  matplotlib.ticker import FormatStrFormatter\n",
    "\n",
    "#for handling large simulations writing/reading from disk\n",
    "import os\n",
    "#import csv\n",
    "import psutil"
   ]
  },
  {
   "cell_type": "code",
   "execution_count": null,
   "metadata": {},
   "outputs": [],
   "source": [
    "%matplotlib widget\n",
    "\n",
    "#set figsize to be big (12,12) inches\n",
    "#rcParams['figure.figsize'] = 10,10"
   ]
  },
  {
   "cell_type": "markdown",
   "metadata": {},
   "source": [
    "assymettric 2d growth"
   ]
  },
  {
   "cell_type": "code",
   "execution_count": null,
   "metadata": {},
   "outputs": [],
   "source": [
    "#load a simulation\n",
    "\n",
    "#load the ablation with initial noise run\n",
    "#test_2d_asym = loadSim('f2d_simulation_asymmetric250_200_500layers_center_reduction0.1_D_2_RK45_sigmamax_-0.01noisyinit_True.pkl')\n",
    "\n",
    "#load the growth with initial noise run\n",
    "#test_2d_asym = loadSim('f2d_simulation_asymmetric250_200_500layers_center_reduction0.1_D_2_RK45_sigmamax_0.2noisyinit_True.pkl')\n"
   ]
  },
  {
   "cell_type": "code",
   "execution_count": null,
   "metadata": {},
   "outputs": [],
   "source": [
    "#set up and run and plot a new simulation\n",
    "test_2d_asym = Simulation(f2d, (500,500), method='RK45')\n",
    "\n",
    "test_2d_asym.discretization_halt = False\n",
    "\n",
    "#try a noisy simulation\n",
    "test_2d_asym.noisy_init = False\n",
    "\n",
    "#test_2d_asym.float_params['DoverdeltaX2'] *= 2 \n",
    "test_2d_asym.layermax = 700\n",
    "#test_2d_asym.sigmastepmax= -0.02#ablation\n",
    "test_2d_asym.sigmastepmax= 0.20 #growth\n",
    "#test_2d_asym.center_reduction = 0.25\n",
    "#test_2d_asym.deltaT *= 10 #increase time step to decrease number of steps saved\n",
    "\n",
    "#_plot = test_2d_asym.plot(tot=True,completion=1)\n",
    "#anim = test_2d_asym.animate(ice=True,surface=True, ret=True, focus_on_growth=True)"
   ]
  },
  {
   "cell_type": "code",
   "execution_count": null,
   "metadata": {},
   "outputs": [],
   "source": [
    "my_id=['prog_report_large_2d'+str(test_2d_asym.shape[0])+'_'+str(test_2d_asym.shape[1]),str(test_2d_asym.layermax)+'layers',\n",
    "                                'center_reduction'+str(test_2d_asym.center_reduction),  'D_2', test_2d_asym.method, 'sigmamax_'+str(test_2d_asym.sigmastepmax) +'noisyinit_'+str(test_2d_asym.noisy_init)] #'Cy_0_Dy0',\n",
    "my_filename = ''.join([i+'_' for i in my_id])"
   ]
  },
  {
   "cell_type": "code",
   "execution_count": null,
   "metadata": {},
   "outputs": [],
   "source": [
    "#calcs to graph asymmetric sigmastep2d\n",
    "xs,ys = test_2d_asym.x, test_2d_asym.y #linspace\n",
    "sigma = getsigmastep_2d(xs,ys, test_2d_asym.center_reduction, test_2d_asym.sigmastepmax)\n",
    "ygrid,xgrid = np.meshgrid(ys,xs) #2d mesh for plotting"
   ]
  },
  {
   "cell_type": "code",
   "execution_count": null,
   "metadata": {},
   "outputs": [],
   "source": [
    "#countour plot of sigmastep 2d\n",
    "print(xs.shape,ys.shape,sigma.shape)\n",
    "fig,ax = plt.subplots()\n",
    "CS = ax.contourf(xgrid,ygrid,sigma*100,np.arange(np.min(sigma*100)-0.01,np.max(sigma*100)+0.01,0.01))\n",
    "#CS = ax.contourf(xgrid,ygrid,xgrid) #graph x\n",
    "#CS = ax.contourf(xgrid,ygrid,ygrid) #graph y\n",
    "ax.set_xlabel(r'$x (\\mu m)$', fontsize=20)\n",
    "ax.set_ylabel(r'$y (\\mu m)$', fontsize=20)\n",
    "plt.grid(True)\n",
    "plt.gca().set_aspect('equal')\n",
    "fig.colorbar(CS)\n",
    "plt.title('%supersaturation (getsigmastep_2d)')\n",
    "print(xgrid.shape,ygrid.shape)"
   ]
  },
  {
   "cell_type": "code",
   "execution_count": null,
   "metadata": {},
   "outputs": [],
   "source": [
    "#animate the simulation (runs if needed)\n",
    "#test_2d_asym.run(halve_time_res=True) #only saves half the time steps since it is a huge simulation\n",
    "\n",
    "anim = test_2d_asym.animate(ret=True, focus_on_growth=True, proportionalSpeed=False)"
   ]
  },
  {
   "cell_type": "code",
   "execution_count": null,
   "metadata": {},
   "outputs": [],
   "source": [
    "#start a second simulation starting with the ending surface of the first \n",
    "# as the initial surface\n",
    "\n",
    "#create 1d sim and graph number of steps over time\n",
    "cycle_sim =  Simulation(f2d, (test_2d_asym.shape[0],test_2d_asym.shape[1]), method=test_2d_asym.method, rtol=test_2d_asym.rtol)\n",
    "\n",
    "#keep general params same\n",
    "cycle_sim.layermax = test_2d_asym.layermax * 1.5 #make sure it reaches steady state\n",
    "cycle_sim.float_params['DoverdeltaX2'] = test_2d_asym.float_params['DoverdeltaX2'] \n",
    "cycle_sim.sigma0 = test_2d_asym.sigma0\n",
    "cycle_sim.center_reduction = test_2d_asym.center_reduction\n",
    "cycle_sim.deltaT = test_2d_asym.deltaT #increase time step to decrease number of steps saved?\n",
    "cycle_sim.noisy_init = test_2d_asym.noisy_init\n",
    "\n",
    "#set up initial surface\n",
    "cycle_sim.nonstd_init = True\n",
    "ntots = test_2d_asym.getNtot()\n",
    "cycle_sim.startingNtot = ntots[len(ntots)//2] #start with the middle of the last simulation, before discretzation error\n",
    "\n",
    "#set to ablation run\n",
    "cycle_sim.sigmastepmax = -0.01\n"
   ]
  },
  {
   "cell_type": "code",
   "execution_count": null,
   "metadata": {},
   "outputs": [],
   "source": [
    "#animate ablation of growth ending surface\n",
    "anim = cycle_sim.animate(ret=True, focus_on_growth=True, proportionalSpeed=False)"
   ]
  },
  {
   "cell_type": "code",
   "execution_count": null,
   "metadata": {},
   "outputs": [],
   "source": [
    "# #profile the running and processing of the simulation\n",
    "# import cProfile\n",
    "# import pstats\n",
    "\n",
    "# def my_function():\n",
    "#     #graph number of steps over time\n",
    "#     #handle large sims\n",
    "#     filename = 'long_2D_sim_500_500_pts.csv'\n",
    "#     Ntot = handle_mem_intense_sim(test_2d_asym, filename)\n",
    "\n",
    "#     layers_grown_at_each_timestep = []\n",
    "#     max_less_min = []\n",
    "#     if Ntot is None:\n",
    "#         timesteps = 0\n",
    "#         #read from csv file\n",
    "#         with open(filename, 'r') as f:\n",
    "#             Ntot = np.load(f, mmap_mode='r')[:,1,:,:]\n",
    "#             for row in Ntot:\n",
    "#                 timesteps += 1 #count number of timesteps\n",
    "#                 max_less_min.append([np.max(n)-np.min(n) for n in row])\n",
    "#                 layers_grown_at_each_timestep.append([np.max(n) for n in row])\n",
    "#                 del row #remove row from memory to prevent memory error\n",
    "\n",
    "#         max_less_min = np.array(max_less_min)#.reshape(-1, cycle_sim.shape[0], cycle_sim.shape[1])\n",
    "#     else:\n",
    "#         for row in Ntot:\n",
    "#             max_less_min.append(np.max(n)-np.min(n) for n in row)\n",
    "\n",
    "#         max_less_min = np.array(max_less_min)#.reshape(-1, cycle_sim.shape[0], cycle_sim.shape[1])\n",
    "#         timesteps = len(Ntot)\n",
    "\n",
    "#     # maxes = np.array([np.max(n) for n in Ntot[:]])\n",
    "#     # mins = np.array([np.min(n) for n in Ntot[:]])\n",
    "#     #print(maxes,mins)\n",
    "#     return max_less_min,timesteps,Ntot,layers_grown_at_each_timestep,filename\n",
    "\n",
    "# # Create a Profile object\n",
    "# pr = cProfile.Profile()\n",
    "\n",
    "# # Run the function and create the profile data\n",
    "# max_less_min,timesteps,Ntot,layers_grown_at_each_timestep,filename = pr.runcall(my_function)\n",
    "\n",
    "# # Create a Stats object\n",
    "# stats = pstats.Stats(pr)\n",
    "\n",
    "# # Print out the statistics\n",
    "# stats.strip_dirs().sort_stats(\"time\").print_stats()\n"
   ]
  },
  {
   "cell_type": "code",
   "execution_count": null,
   "metadata": {},
   "outputs": [],
   "source": [
    "#graph number of steps over time\n",
    "#handle large sims\n",
    "filename = 'long_2D_sim_500_500_pts.npy'\n",
    "test_2d_asym.filename = filename\n",
    "run_filename_output = test_2d_asym.run()\n",
    "if run_filename_output is not None:\n",
    "    next_sim = continue_from_file(test_2d_asym, filename)\n",
    "    inner_run_filename_output = next_sim.run()\n",
    "    while inner_run_filename_output is not None:\n",
    "        next_sim = continue_from_file(next_sim, filename)\n",
    "        inner_run_filename_output = next_sim.run()\n",
    "        \n",
    "if run_filename_output is None:\n",
    "    Ntot = test_2d_asym.getNtot()\n",
    "else:\n",
    "    Ntot = np.load(filename, mmap_mode='r')[:,1,:,:]\n",
    "\n",
    "#Ntot = handle_mem_intense_sim(test_2d_asym, filename)\n",
    "\n",
    "#layers_grown_at_each_timestep = []\n",
    "max_less_min = []\n",
    "if Ntot is None:\n",
    "    timesteps = 0\n",
    "    #read from csv file\n",
    "    with open(filename, 'r') as f:\n",
    "        Ntot = np.load(f, mmap_mode='r')[:,1,:,:]\n",
    "        for row in Ntot:\n",
    "            timesteps += 1 #count number of timesteps\n",
    "            #max_less_min.append([np.max(n)-np.min(n) for n in row])\n",
    "            max_less_min.append(np.max(row)-np.min(row))\n",
    "\n",
    "            #layers_grown_at_each_timestep.append([np.max(n) for n in row])\n",
    "            del row #remove row from memory to prevent memory error\n",
    "\n",
    "    max_less_min = np.array(max_less_min)#.reshape(-1, cycle_sim.shape[0], cycle_sim.shape[1])\n",
    "else:\n",
    "    for row in Ntot:\n",
    "        max_less_min.append(np.max(row)-np.min(row))\n",
    "\n",
    "    max_less_min = np.array(max_less_min)#.reshape(-1, cycle_sim.shape[0], cycle_sim.shape[1])\n",
    "    timesteps = len(Ntot)\n",
    "\n",
    "# maxes = np.array([np.max(n) for n in Ntot[:]])\n",
    "# mins = np.array([np.min(n) for n in Ntot[:]])\n",
    "#print(maxes,mins)"
   ]
  },
  {
   "cell_type": "code",
   "execution_count": null,
   "metadata": {},
   "outputs": [],
   "source": [
    "print(psutil.virtual_memory())\n",
    "print(psutil.swap_memory())"
   ]
  },
  {
   "cell_type": "code",
   "execution_count": null,
   "metadata": {},
   "outputs": [],
   "source": [
    "#optionally save Ntot so no more re runs\n",
    "save_Ntot = False\n",
    "if save_Ntot: np.save('Ntot.npy', Ntot)"
   ]
  },
  {
   "cell_type": "code",
   "execution_count": null,
   "metadata": {},
   "outputs": [],
   "source": [
    "#print(layers_grown_at_each_timestep) "
   ]
  },
  {
   "cell_type": "code",
   "execution_count": null,
   "metadata": {},
   "outputs": [],
   "source": [
    "nogen_mlm = np.array([list(x) for x in max_less_min])\n",
    "np.array([list(x) for x in max_less_min])[:,0]"
   ]
  },
  {
   "cell_type": "code",
   "execution_count": null,
   "metadata": {},
   "outputs": [],
   "source": [
    "print(nogen_mlm)"
   ]
  },
  {
   "cell_type": "code",
   "execution_count": null,
   "metadata": {},
   "outputs": [],
   "source": [
    "#plot the number of steps over time\n",
    "plt.figure()\n",
    "ax = plt.subplot(111)\n",
    "\n",
    "time_axis = np.asarray(np.arange(timesteps))\n",
    "\n",
    "ax.set_ylabel('Number of steps on surface')\n",
    "\n",
    "if test_2d_asym.sigmastepmax < 0: #ablation case\n",
    "    ax.set_xlabel('Total number of layers ablated')\n",
    "    ax.plot( Ntot[::-1,0,0]+test_2d_asym.layermax, max_less_min)#maxes-mins) #flipping to show ablation progress from left to right, adding layermax to show # layers ablated instead of negative # layers grown\n",
    "else: #growth case   \n",
    "    ax.set_xlabel('Total number of layers grown')\n",
    "    #ax.plot(time_axis/max(time_axis)*test_2d_asym.layermax, np.asarray(nogen_mlm)[:,0])#maxes-mins)\n",
    "    #ax.plot(time_axis/max(time_axis)*test_2d_asym.layermax, np.array([list(x) for x in max_less_min])[:,0])\n",
    "    ax.plot(time_axis/max(time_axis)*test_2d_asym.layermax, max_less_min)\n",
    "    #ax.plot( Ntot[:,0,0], maxes-mins)\n",
    "\n",
    "plt.grid()"
   ]
  },
  {
   "cell_type": "code",
   "execution_count": null,
   "metadata": {},
   "outputs": [],
   "source": [
    "#plot subplots of the 2d surface at different times\n",
    "\n",
    "# from mpl_toolkits.mplot3d import Axes3D\n",
    "    \n",
    "#fig, axs = plt.subplots(2, 4)#, projection='3d')\n",
    "\n",
    "fig = plt.figure()\n",
    "axs = np.empty((2,4), dtype=object)\n",
    "\n",
    "#adjust 3d view if desired\n",
    "# for ax in axs.flatten():\n",
    "    # ax.view_init(elev=30, azim=45)\n",
    "    # ax.set_xlim(left=-50, right=50)\n",
    "    # ax.set_ylim(bottom=-50, top=50)\n",
    "\n",
    "\n",
    "\n",
    "for i, cmpltion in enumerate([0,0.01,0.03,0.05,0.1,0.3,0.5,0.8]):\n",
    "    ax = fig.add_subplot(2, 4, i+1, projection='3d')\n",
    "    axs[i//4, i%4] = ax\n",
    "\n",
    "    if os.path.exists(filename):\n",
    "        ntot = np.load(filename, mmap_mode='r')[:,1,:,:]\n",
    "    else:\n",
    "        ntot = Ntot\n",
    "\n",
    "    zs = ntot[int(cmpltion*ntot.shape[0])]\n",
    "\n",
    "    x,y = zs.shape[0],zs.shape[1]\n",
    "    xs = np.linspace(x//-20,x//20,x)\n",
    "    ys = np.linspace(y//-20,y//20,y)\n",
    "\n",
    "    ys,xs = np.meshgrid(ys,xs)\n",
    "    ax = axs[i//4, i%4]\n",
    "    #.add_subplot(111, projection='3d')\n",
    "    \n",
    "    ax.set_xlabel(r'x ($\\mu m$)')\n",
    "    ax.set_ylabel('Layers of ice')\n",
    "    ax.set_ylim(bottom=np.min(xs)-.5, top=np.max(xs)+.5)\n",
    "    ax.yaxis.set_major_formatter(FormatStrFormatter('%.1f'))\n",
    "    ax.set_title('Completion = '+str(cmpltion*100)+'%')\n",
    "    ax.plot_surface(xs, ys, zs)\n",
    "\n",
    "\n",
    "plt.show()\n"
   ]
  },
  {
   "cell_type": "code",
   "execution_count": null,
   "metadata": {},
   "outputs": [],
   "source": [
    "#save the animation as a gif, trying this since Simulation.save_animation is not working\n",
    "#anim.save(my_filename+'.gif',writer=PillowWriter(fps=60))\n",
    "\n"
   ]
  },
  {
   "cell_type": "code",
   "execution_count": null,
   "metadata": {},
   "outputs": [],
   "source": [
    "#save animation with built in Simulation method\n",
    "test_2d_asym.save_animation(my_filename, 'gif')"
   ]
  },
  {
   "cell_type": "code",
   "execution_count": null,
   "metadata": {},
   "outputs": [],
   "source": [
    "#plot at specific timesteps\n",
    "#cmpltion = 0.005 \n",
    "#cmpltion = 0.1\n",
    "#sim = test_2d_asym\n",
    "sim = cycle_sim\n",
    "\n",
    "for cmpltion in [0.9]:#[0.33,0.50,0.55,0.66,0.8,0.9]:  #[0,0.001,0.005]: # making plots of initial noise dissipating\n",
    "    plt.close()\n",
    "    sim.plot(completion=cmpltion, ice=True, figurename=my_filename+'_completion'+str(cmpltion))\n",
    "    #plt.savefig(my_filename+'_completion'+str(cmpltion)+'.png')"
   ]
  },
  {
   "cell_type": "code",
   "execution_count": null,
   "metadata": {},
   "outputs": [],
   "source": [
    "plt.savefig(''.join([i+'_' for i in my_id])+'.png')"
   ]
  },
  {
   "cell_type": "code",
   "execution_count": null,
   "metadata": {},
   "outputs": [],
   "source": [
    "#save the simulation to a pickle file for later use (without re-running the simulation)\n",
    "test_2d_asym.save(id=my_id)\n",
    "\n",
    "#manually save it and add compression since the 1000 layter simulation is too big\n",
    "# import pickle\n",
    "# import bz2\n",
    "# id=['asymmetric'+str(test_2d_asym.shape[0])+'_'+str(test_2d_asym.shape[1]),str(test_2d_asym.layermax)+'layers']\n",
    "# id = ''.join('_'+i for i in id)\n",
    "# filename = test_2d_asym.model.__name__+'_simulation'+id+'.pkl'\n",
    "# with open(filename, 'wb') as f:\n",
    "#     print(\"saving to\", f)\n",
    "#     pickle.dump(test_2d_asym, bz2.BZ2File(f, 'w'))"
   ]
  },
  {
   "cell_type": "markdown",
   "metadata": {},
   "source": [
    "1D model for comparison (uses same parameters as above 2d model), graphing if it also reaching steady state"
   ]
  },
  {
   "cell_type": "code",
   "execution_count": null,
   "metadata": {},
   "outputs": [],
   "source": [
    "#create 1d sim and graph number of steps over time\n",
    "#ss_1d = Simulation(f1d, (test_2d_asym.shape[0],), method=test_2d_asym.method, rtol=test_2d_asym.rtol)\n",
    "ss_1d = Simulation(f1d, (500,), method=test_2d_asym.method, rtol=test_2d_asym.rtol)\n",
    "\n",
    "ss_1d.float_params['DoverdeltaX2'] = test_2d_asym.float_params['DoverdeltaX2'] \n",
    "ss_1d.layermax = test_2d_asym.layermax * 1.5 #make sure it reaches steady state\n",
    "ss_1d.sigmastepmax = test_2d_asym.sigmastepmax \n",
    "ss_1d.sigma0 = test_2d_asym.sigma0\n",
    "ss_1d.center_reduction = test_2d_asym.center_reduction\n",
    "ss_1d.deltaT = test_2d_asym.deltaT #increase time step to decrease number of steps saved?\n",
    "ss_1d.noisy_init = test_2d_asym.noisy_init\n"
   ]
  },
  {
   "cell_type": "code",
   "execution_count": null,
   "metadata": {},
   "outputs": [],
   "source": [
    "#set the id \n",
    "my_id=['nx_'+str(ss_1d.shape[0]),str(ss_1d.layermax)+'layers',\n",
    "                                'center_reduction'+str(ss_1d.center_reduction),  'D_2', ss_1d.method, 'sigmamax_'+str(ss_1d.sigmastepmax) +'noisyinit_'+str(ss_1d.noisy_init)]\n",
    "my_filename = ''.join([i+'_' for i in my_id])"
   ]
  },
  {
   "cell_type": "code",
   "execution_count": null,
   "metadata": {},
   "outputs": [],
   "source": [
    "# plot number of steps over time\n",
    "fignum = 0\n",
    "plt.close(fignum)\n",
    "\n",
    "Ntot = ss_1d.getNtot()\n",
    "\n",
    "maxes = np.array([np.max(n) for n in Ntot[:]])\n",
    "mins = np.array([np.min(n) for n in Ntot[:]])\n",
    "\n",
    "#print(maxes,mins)\n",
    "plt.figure(fignum)\n",
    "ax = plt.subplot(111)\n",
    "\n",
    "#ax.plot(test_f2d_sim.results()['t'],maxes-mins)\n",
    "ax.plot(Ntot[:,0],maxes-mins)\n",
    "ax.set_ylabel('Number of steps on surface')\n",
    "ax.set_xlabel('Time')\n",
    "plt.grid()\n",
    "plt.show()"
   ]
  },
  {
   "cell_type": "code",
   "execution_count": null,
   "metadata": {},
   "outputs": [],
   "source": [
    "plt.close('1d surface over time 3d surface')\n",
    "plt.figure('1d surface over time 3d surface')\n",
    "#plot surface over time as 3d surface\n",
    "ax = plt.axes(projection='3d')\n",
    "\n",
    "#TODO:\n",
    "\n",
    "zs = ss_1d.getNtot()\n",
    "start,stop = 0, zs.shape[0]\n",
    "#crop time selection\n",
    "start,stop = stop*5//6, stop\n",
    "zs = zs[start:stop]\n",
    "\n",
    "t,x = [*zs.shape]\n",
    "print(x,t)\n",
    "xs,ys = np.meshgrid(np.linspace(0,x,x),np.linspace(start,stop,stop-start))\n",
    "\n",
    "#print shapes of inputs\n",
    "print(xs.shape,ys.shape,zs.shape)\n",
    "\n",
    "#contour levels\n",
    "levels = np.linspace(740,880,10)\n",
    "\n",
    "#plot contours of the surface\n",
    "ax.contour(X=xs, Y=ys, Z=zs,  label='ice+QLL', cmap='viridis_r')\n",
    "\n",
    "#plot the surface with reversed viridis\n",
    "ax.plot_surface(X=xs, Y=ys, Z=zs,  label='ice+QLL', cmap='viridis_r')\n",
    "\n",
    "ax.set_xlabel('nx')\n",
    "ax.set_ylabel('Time steps')\n",
    "#ax.set_xlabel(r'x ($\\mu m$)')\n",
    "#ax.set_ylabel('Layers of ice')\n",
    "plt.show()"
   ]
  },
  {
   "cell_type": "code",
   "execution_count": null,
   "metadata": {},
   "outputs": [],
   "source": [
    "#plot contours over time on one surface\n",
    "ax = plt.axes(projection='3d')\n",
    "\n",
    "zs = ss_1d.getNtot()\n",
    "start,stop = 0, zs.shape[0]\n",
    "#crop time selection\n",
    "#start,stop = stop*5//6, stop\n",
    "zs = zs[start:stop]\n",
    "\n",
    "t,x = [*zs.shape]\n",
    "print(x,t)\n",
    "xs,ys = np.meshgrid(np.linspace(0,x,x),np.linspace(start,stop,stop-start))\n",
    "\n",
    "#print shapes of inputs\n",
    "print(xs.shape,ys.shape,zs.shape)\n",
    "\n",
    "# #contour levels\n",
    "# levels = np.linspace(740,880,10)\n",
    "\n",
    "# #plot the surface with reversed viridis\n",
    "# ax.contour(X=xs, Y=ys, Z=zs,  label='ice+QLL', cmap='viridis_r')\n",
    "\n",
    "# ax.set_xlabel('nx')\n",
    "# ax.set_ylabel('Time steps')\n",
    "# #ax.set_xlabel(r'x ($\\mu m$)')\n",
    "# #ax.set_ylabel('Layers of ice')\n",
    "# plt.show()\n",
    "\n",
    "ix = 100\n",
    "plt.figure()\n",
    "\n",
    "ixlist = [0, 10_000, 30_000, 40_000]#np.linspace(0,7400, 100)\n",
    "offset = 1\n",
    "for ix in ixlist:\n",
    "    tempzs = zs[ix,:] - min(zs[ix,:]) + offset\n",
    "    offset += 1\n",
    "    plt.plot(xs[ix,:], tempzs,label = 'x = '+str(ix))\n",
    "\n",
    "#plt.legend()"
   ]
  },
  {
   "cell_type": "code",
   "execution_count": null,
   "metadata": {},
   "outputs": [],
   "source": [
    "#plot the surface over time on subplots\n",
    "\n",
    "#run the simulation\n",
    "ntot = ss_1d.getNtot()\n",
    "\n",
    "fig, axs = plt.subplots(2, 4)\n",
    "for i, cmpltion in enumerate([0,0.01,0.03,0.05,0.1,0.3,0.5,0.8]):\n",
    "\n",
    "    xs = ntot[int(cmpltion*ntot.shape[0]),:]\n",
    "    axs[i//4, i%4].set_xlabel(r'x ($\\mu m$)')\n",
    "    axs[i//4, i%4].set_ylabel('Layers of ice')\n",
    "    axs[i//4, i%4].set_ylim(bottom=min(xs)-.5, top=max(xs)+.5)\n",
    "    axs[i//4, i%4].yaxis.set_major_formatter(FormatStrFormatter('%.1f'))\n",
    "    axs[i//4, i%4].set_title('Completion = '+str(cmpltion*100)+'%')\n",
    "    axs[i//4, i%4].plot(xs, label='Completion = '+str(cmpltion*100)+'%')\n",
    "plt.show()\n"
   ]
  },
  {
   "cell_type": "code",
   "execution_count": null,
   "metadata": {},
   "outputs": [],
   "source": [
    "ss_1d.animate()"
   ]
  },
  {
   "cell_type": "code",
   "execution_count": null,
   "metadata": {},
   "outputs": [],
   "source": [
    "plt.close()"
   ]
  },
  {
   "cell_type": "code",
   "execution_count": null,
   "metadata": {},
   "outputs": [],
   "source": [
    "#test_2d_asym.save(id=['asymmetric'+str(test_2d_asym.shape[0])+'_'+str(test_2d_asym.shape[1]),str(test_2d_asym.layermax)+'layers'])\n",
    "#symm = Simulation(f2d,(500,500),rtol=1e-12)"
   ]
  },
  {
   "cell_type": "code",
   "execution_count": null,
   "metadata": {},
   "outputs": [],
   "source": [
    "#countour plot of sigmastep 2d\n",
    "plt.figure()\n",
    "ax = plt.axes(projection='3d')\n",
    "plt.xlabel(r'x ($\\mu m$)')\n",
    "plt.ylabel(r'y ($\\mu m$)')\n",
    "#ax.set_zlabel('Layers of ice')\n",
    "#levels = np.arange(19,21,0.1)\n",
    "ax.contourf(xgrid,ygrid, sigma*100, extent=(0, 2, 0, 2), cmap='YlGnBu_r', vmin=0, vmax=200, zorder=1)#, levels=levels)"
   ]
  },
  {
   "cell_type": "code",
   "execution_count": null,
   "metadata": {},
   "outputs": [],
   "source": [
    "#countour plot of sigmastep 2d\n",
    "print(xs.shape,ys.shape,sigma.shape)\n",
    "fig,ax = plt.subplots()\n",
    "CS = ax.contourf(xs.T,ys.T,sigma*100)\n",
    "ax.set_xlabel(r'$x (\\mu m)$', fontsize=20)\n",
    "ax.set_ylabel(r'$y (\\mu m)$', fontsize=20)\n",
    "plt.grid(True)\n",
    "plt.gca().set_aspect('equal')\n",
    "fig.colorbar(CS)\n",
    "plt.title('%supersaturation (getsigmastep_2d)')"
   ]
  },
  {
   "cell_type": "markdown",
   "metadata": {},
   "source": [
    "2D Growth simulation"
   ]
  },
  {
   "cell_type": "code",
   "execution_count": null,
   "metadata": {},
   "outputs": [],
   "source": [
    "#create the 2d sim\n",
    "test_f2d_sim = Simulation(f2d, (250,250), rtol=1e-12)\n",
    "test_f2d_sim.layermax = 50#0\n",
    "#test_f2d_sim.run()\n",
    "#test_f2d_sim.save(_id=['test','50layer'])"
   ]
  },
  {
   "cell_type": "code",
   "execution_count": null,
   "metadata": {},
   "outputs": [],
   "source": [
    "#animate the 2d sim\n",
    "test_f2d_sim.animate(crossSection=True)"
   ]
  },
  {
   "cell_type": "code",
   "execution_count": null,
   "metadata": {},
   "outputs": [],
   "source": [
    "#print variables in 1d simulation for comparison to literature\n",
    "for k,v in test_f2d_sim._extra_vars.items():\n",
    "    print(k,v)\n",
    "print('center reduction %: ', test_f2d_sim.center_reduction)"
   ]
  },
  {
   "cell_type": "code",
   "execution_count": null,
   "metadata": {},
   "outputs": [],
   "source": [
    "#print number of steps over time\n",
    "Ntot = test_f2d_sim.getNtot()\n",
    "\n",
    "maxes = np.array([np.max(n) for n in Ntot[:]])\n",
    "mins = np.array([np.min(n) for n in Ntot[:]])\n",
    "\n",
    "#print(maxes,mins)\n",
    "plt.figure()\n",
    "ax = plt.subplot(111)\n",
    "\n",
    "#ax.plot(test_f2d_sim.results()['t'],maxes-mins)\n",
    "ax.plot(Ntot[:,0,0],maxes-mins)\n",
    "#ax.plot(test_f2d_sim.results()['t'],test_f2d_sim.results()['t'])\n",
    "plt.grid()"
   ]
  },
  {
   "cell_type": "code",
   "execution_count": null,
   "metadata": {},
   "outputs": [],
   "source": [
    "#animate test_f2d_sim\n",
    "\n",
    "test_f2d_sim.animate(ice=True)"
   ]
  },
  {
   "cell_type": "code",
   "execution_count": null,
   "metadata": {},
   "outputs": [],
   "source": [
    "#test_f2d_sim = loadSim('f2d_simulation_test_50layer.pkl') "
   ]
  },
  {
   "cell_type": "code",
   "execution_count": null,
   "metadata": {},
   "outputs": [],
   "source": [
    "#graph results normalized to minimum of ice surface\n",
    "Fliq_ss, Ntot_steadystate = test_f2d_sim.normalize_results_to_min()\n",
    "nice_ss = Ntot_steadystate-Fliq_ss\n",
    "print(np.shape(Ntot_steadystate))\n",
    "xs, ys = np.meshgrid(test_f2d_sim.x, test_f2d_sim.y)\n",
    "\n",
    "fig = plt.figure(figsize=(12,12))\n",
    "ax = plt.axes(projection = '3d')\n",
    "#ax.plot_surface(test_f2d_sim._results['t'], Ntot_steadystate[:,])\n",
    "ax.set_xlabel(r'$x (\\mu m$)')#,fontsize=fontsize)\n",
    "ax.set_ylabel(r'$y (\\mu m$)')#,fontsize=fontsize)\n",
    "ax.set_zlabel(r'$ice \\ layers$')#,fontsize=fontsize)\n",
    "#limits\n",
    "#ax.set_zlim3d(-self.layermax, self.layermax)\n",
    "#ax.set_ylim(0, max(self.y))\n",
    "#ax.set_xlim(0, max(self.x))\n",
    "def update_fig(num):\n",
    "    ax.clear() # remove last iteration of plot \n",
    "    plot_func = ax.plot_surface\n",
    "    # if crossSection:\n",
    "    #     xmid = round(np.shape(Nice)[0]/2)\n",
    "    #     if ice:\n",
    "    #         plot_func(X=xs[xmid:], Y=ys[xmid:], Z=nice_ss[num][xmid:][:],cmap ='viridis')# cmap='viridis')#, vmin=0, vmax=200) #plot half of the surface of the ice\n",
    "    #     if tot:\n",
    "    #         plot_func(X=xs[xmid:], Y=ys[xmid:], Z=Ntot_steadystate[num][xmid:][:], cmap='cividis')#, vmin=0, vmax=200) #plot half the surface of the QLL\n",
    "    # else:\n",
    "    #     if ice:\n",
    "    plot_func(X=xs, Y=ys, Z=nice_ss[num], cmap='viridis')#, vmin=0, vmax=200) #plot the surface of the ice \n",
    "        # if tot:\n",
    "    # plot_func(X=xs, Y=ys, Z=Ntot_steadystate[num], cmap='YlGnBu_r')#, vmin=0, vmax=200)#plot the surface of the QLL\n",
    "    pass\n",
    "\n",
    "\n",
    "num_steps = len(test_f2d_sim._results['t'])\n",
    "import matplotlib.animation as animation\n",
    "ani = animation.FuncAnimation(fig , update_fig, num_steps, interval=50, blit=False, cache_frame_data=False, repeat = True)\n",
    "plt.show()"
   ]
  },
  {
   "cell_type": "code",
   "execution_count": null,
   "metadata": {},
   "outputs": [],
   "source": [
    "#graph difference in steps over time: should converge to zero if steady state is reached\n",
    "Fliq_ss, Ntot_steadystate = test_f2d_sim.steady_state_calc()\n",
    "nice_ss = Ntot_steadystate-Fliq_ss\n",
    "print(np.shape(Ntot_steadystate))\n",
    "xs, ys = np.meshgrid(test_f2d_sim.x, test_f2d_sim.y)\n",
    "\n",
    "fig = plt.figure(figsize=(12,12))\n",
    "ax = plt.axes(projection = '3d')\n",
    "#ax.plot_surface(test_f2d_sim._results['t'], Ntot_steadystate[:,])\n",
    "ax.set_xlabel(r'$x (\\mu m$)')#,fontsize=fontsize)\n",
    "ax.set_ylabel(r'$y (\\mu m$)')#,fontsize=fontsize)\n",
    "ax.set_zlabel(r'$ice \\ layers$')#,fontsize=fontsize)\n",
    "#limits\n",
    "#ax.set_zlim3d(-self.layermax, self.layermax)\n",
    "#ax.set_ylim(0, max(self.y))\n",
    "#ax.set_xlim(0, max(self.x))\n",
    "def update_fig(num):\n",
    "    ax.clear() # remove last iteration of plot \n",
    "    plot_func = ax.plot_surface\n",
    "    # if crossSection:\n",
    "    #     xmid = round(np.shape(Nice)[0]/2)\n",
    "    #     if ice:\n",
    "    #         plot_func(X=xs[xmid:], Y=ys[xmid:], Z=nice_ss[num][xmid:][:],cmap ='viridis')# cmap='viridis')#, vmin=0, vmax=200) #plot half of the surface of the ice\n",
    "    #     if tot:\n",
    "    #         plot_func(X=xs[xmid:], Y=ys[xmid:], Z=Ntot_steadystate[num][xmid:][:], cmap='cividis')#, vmin=0, vmax=200) #plot half the surface of the QLL\n",
    "    # else:\n",
    "    #     if ice:\n",
    "    plot_func(X=xs, Y=ys, Z=nice_ss[num], cmap='viridis')#, vmin=0, vmax=200) #plot the surface of the ice \n",
    "        # if tot:\n",
    "    # plot_func(X=xs, Y=ys, Z=Ntot_steadystate[num], cmap='YlGnBu_r')#, vmin=0, vmax=200)#plot the surface of the QLL\n",
    "    pass\n",
    "\n",
    "\n",
    "num_steps = len(test_f2d_sim._results['t'])\n",
    "import matplotlib.animation as animation\n",
    "ani = animation.FuncAnimation(fig , update_fig, num_steps, interval=50, blit=False, cache_frame_data=False, repeat = True)\n",
    "plt.show()"
   ]
  },
  {
   "cell_type": "code",
   "execution_count": null,
   "metadata": {},
   "outputs": [],
   "source": [
    "test_2d_sim = Simulation(f2d, (500,500), rtol=1e-12)\n",
    "test_2d_sim.layermax = 2\n",
    "#test_2d_sim = loadSim('f2d_simulation_august13.pkl')\n",
    "_plot = test_2d_sim.plot()"
   ]
  },
  {
   "cell_type": "markdown",
   "metadata": {},
   "source": [
    "1d simulation "
   ]
  },
  {
   "cell_type": "code",
   "execution_count": null,
   "metadata": {},
   "outputs": [],
   "source": [
    "test_2d_sim.save(id=['august13'])"
   ]
  },
  {
   "cell_type": "code",
   "execution_count": null,
   "metadata": {},
   "outputs": [],
   "source": [
    "fig = plt.figure()\n",
    "ax = plt.axes(projection='3d')\n",
    "num_steps = len(test_2d_sim.results()['t'])\n",
    "xs,ys = np.meshgrid(test_2d_sim.x, test_2d_sim.y)\n",
    "ax.plot_surface(X=xs, Y=ys, Z=test_2d_sim.getNtot()[num_steps-1], cmap='viridis')"
   ]
  },
  {
   "cell_type": "code",
   "execution_count": null,
   "metadata": {},
   "outputs": [],
   "source": [
    "test_1d = Simulation(f1d, shape=(500,), rtol=1e-12)\n",
    "test_1d.layermax = 500\n",
    "test_1d.results()"
   ]
  },
  {
   "cell_type": "code",
   "execution_count": null,
   "metadata": {},
   "outputs": [],
   "source": [
    "#test_1d.animate(ice=True, tot=True)\n",
    "test_1d.plot()"
   ]
  },
  {
   "cell_type": "markdown",
   "metadata": {},
   "source": []
  },
  {
   "cell_type": "markdown",
   "metadata": {},
   "source": [
    "2d Idea: increase sigmastepmax to see if faceted growth occur, removing the concave \"bowl\" forming at the center of initially tested 2d systems (test_f2d_sim)"
   ]
  },
  {
   "cell_type": "code",
   "execution_count": null,
   "metadata": {},
   "outputs": [],
   "source": [
    "# sigma_test = Simulation(f2d, (500,500),rtol = 1e-12)\n",
    "# sigma_test.layermax = 100\n",
    "# sigma_test.sigmastepmax = 0.25\n",
    "# sigma_test.results()"
   ]
  },
  {
   "cell_type": "code",
   "execution_count": null,
   "metadata": {},
   "outputs": [],
   "source": [
    "#sigma_id = ['sigmastepmax_'+str(round(100*sigma_test.sigmastepmax)), str(sigma_test.layermax)+'layers']\n",
    "#sigma_test.save(id=sigma_id)\n",
    "\n",
    "#test increased layers with increased sigmastep\n",
    "\n",
    "#sigma_test = loadSim('f2d_simulation_sigmastepmax_025.pkl') # 20 layers?\n",
    "#sigma_test = loadSim('f2d_simulation_sigmastepmax_025_50layers.pkl')\n",
    "sigma_test = loadSim('f2d_simulation_sigmastepmax_25_100layers.pkl')"
   ]
  },
  {
   "cell_type": "code",
   "execution_count": null,
   "metadata": {},
   "outputs": [],
   "source": [
    "sigma_test.animate()"
   ]
  },
  {
   "cell_type": "markdown",
   "metadata": {},
   "source": [
    "2d Ablation testing"
   ]
  },
  {
   "cell_type": "code",
   "execution_count": null,
   "metadata": {},
   "outputs": [],
   "source": [
    "f2d_ablate = Simulation(f2d, (500,500), rtol=1e-12)\n",
    "f2d_ablate.sigmastepmax = -0.1\n",
    "f2d_ablate.layermax = 50\n",
    "f2d_ablate.animate()"
   ]
  },
  {
   "cell_type": "markdown",
   "metadata": {},
   "source": [
    "1d growth testing. Works, however does not currently match the literature graph despite using the same parameters."
   ]
  },
  {
   "cell_type": "code",
   "execution_count": null,
   "metadata": {},
   "outputs": [],
   "source": [
    "f1d_sim = Simulation(f1d, (500,), rtol=1e-12)"
   ]
  },
  {
   "cell_type": "code",
   "execution_count": null,
   "metadata": {},
   "outputs": [],
   "source": [
    "#change parameters to match Gladich et al paper's graph and run simulation\n",
    "f1d_sim.layermax = 500#10000\n",
    "#f1d_sim.center_reduction = 0.25 #is default now"
   ]
  },
  {
   "cell_type": "code",
   "execution_count": null,
   "metadata": {},
   "outputs": [],
   "source": [
    "f1d_sim.run()"
   ]
  },
  {
   "cell_type": "code",
   "execution_count": null,
   "metadata": {},
   "outputs": [],
   "source": [
    "fig = f1d_sim.plot(completion=0.99, ice=True, tot=True)"
   ]
  },
  {
   "cell_type": "code",
   "execution_count": null,
   "metadata": {},
   "outputs": [],
   "source": [
    "#print variables in 1d simulation for comparison to literature\n",
    "for k,v in f1d_sim._extra_vars.items():\n",
    "    print(k,v)\n",
    "print('center reduction %: ', f1d_sim.center_reduction)"
   ]
  },
  {
   "cell_type": "code",
   "execution_count": null,
   "metadata": {},
   "outputs": [],
   "source": [
    "#functions tested so far\n",
    "#test_f2d_sim.countermax_0D\n",
    "#test_f2d_sim.countermax_1D\n",
    "#test_f2d_sim.countermax_2D\n",
    "#test_f2d_sim.atol\n",
    "#test_f2d_sim.rtol\n",
    "#test_f2d_sim.deltaT\n",
    "#test_f2d_sim.float_params\n",
    "#test_f2d_sim.animate()\n",
    "#test_f2d_sim.run()\n",
    "#test_f2d_sim.steady_state_calc()\n",
    "#test_f2d_sim.plot()\n",
    "#test_f2d_sim.save()\n",
    "#test_f2d_sim.load() #WORKS to load simulation from file if simulation object exists already -- for loading straght froom file use loadSim()\n",
    "#loadSim() #works\n",
    "\n"
   ]
  },
  {
   "cell_type": "code",
   "execution_count": null,
   "metadata": {},
   "outputs": [],
   "source": [
    "num_steps = len(test_f2d_sim.results()['t'])\n",
    "#shape of results is (num_steps, 2, nx, ny)\n",
    "Fliq, Ntot = [],[]\n",
    "for step in range(num_steps):\n",
    "    next_Fliq, next_Ntot = test_f2d_sim._results['y'][step]\n",
    "    Fliq.append(next_Fliq)\n",
    "    Ntot.append(next_Ntot)    \n",
    "Fliq,Ntot = np.array(Fliq), np.array(Ntot)\n",
    "Nice = Ntot - Fliq\n",
    "#shape of fliq, ntot and nice should be (num_steps, nx, ny)\n",
    "\n",
    "#access coordinate arrays for plotting\n",
    "xs, ys = np.meshgrid(test_f2d_sim.x, test_f2d_sim.y)"
   ]
  },
  {
   "cell_type": "code",
   "execution_count": null,
   "metadata": {},
   "outputs": [],
   "source": [
    "print(num_steps)\n",
    "print(test_f2d_sim.steepness(0,slice(0,test_f2d_sim.shape[0]//2)))"
   ]
  },
  {
   "cell_type": "code",
   "execution_count": null,
   "metadata": {},
   "outputs": [],
   "source": [
    "print(test_f2d_sim.get_step_density(0,slice(0,test_f2d_sim.shape[0]//2)))  "
   ]
  },
  {
   "cell_type": "code",
   "execution_count": null,
   "metadata": {},
   "outputs": [],
   "source": []
  }
 ],
 "metadata": {
  "kernelspec": {
   "display_name": "Python 3",
   "language": "python",
   "name": "python3"
  },
  "language_info": {
   "codemirror_mode": {
    "name": "ipython",
    "version": 3
   },
   "file_extension": ".py",
   "mimetype": "text/x-python",
   "name": "python",
   "nbconvert_exporter": "python",
   "pygments_lexer": "ipython3",
   "version": "3.9.13"
  },
  "orig_nbformat": 4,
  "vscode": {
   "interpreter": {
    "hash": "a5639f55dd41388b289936a35ec1befe471f3e8ab332c7f154620eef02aaf2e9"
   }
  }
 },
 "nbformat": 4,
 "nbformat_minor": 2
}
