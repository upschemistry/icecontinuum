{
 "cells": [
  {
   "cell_type": "code",
   "execution_count": 1,
   "metadata": {},
   "outputs": [
    {
     "name": "stderr",
     "output_type": "stream",
     "text": [
      "C:\\Users\\Max-PC\\AppData\\Local\\Packages\\PythonSoftwareFoundation.Python.3.9_qbz5n2kfra8p0\\LocalCache\\local-packages\\Python39\\site-packages\\llvmlite\\llvmpy\\__init__.py:3: UserWarning: The module `llvmlite.llvmpy` is deprecated and will be removed in the future.\n",
      "  warnings.warn(\n",
      "C:\\Users\\Max-PC\\AppData\\Local\\Packages\\PythonSoftwareFoundation.Python.3.9_qbz5n2kfra8p0\\LocalCache\\local-packages\\Python39\\site-packages\\llvmlite\\llvmpy\\core.py:8: UserWarning: The module `llvmlite.llvmpy.core` is deprecated and will be removed in the future. Equivalent functionality is provided by `llvmlite.ir`.\n",
      "  warnings.warn(\n",
      "C:\\Users\\Max-PC\\AppData\\Local\\Packages\\PythonSoftwareFoundation.Python.3.9_qbz5n2kfra8p0\\LocalCache\\local-packages\\Python39\\site-packages\\llvmlite\\llvmpy\\passes.py:17: UserWarning: The module `llvmlite.llvmpy.passes` is deprecated and will be removed in the future. If you are using this code, it should be inlined into your own project.\n",
      "  warnings.warn(\n"
     ]
    }
   ],
   "source": [
    "import numpy as np\n",
    "from sim_handling import Simulation,loadSim, continue_from_file #uses ds7, both PDES leads to stable solution\n",
    "from diffusionstuff7 import f0d,f1d,f2d, getsigmastep_2d\n",
    "\n",
    "# for plotting\n",
    "from matplotlib import pyplot as plt\n",
    "from matplotlib import rcParams\n",
    "from matplotlib.animation import PillowWriter\n",
    "from  matplotlib.ticker import FormatStrFormatter\n",
    "\n",
    "#for handling large simulations writing/reading from disk\n",
    "import os\n",
    "#import csv\n",
    "import psutil"
   ]
  },
  {
   "cell_type": "code",
   "execution_count": 2,
   "metadata": {},
   "outputs": [],
   "source": [
    "%matplotlib widget\n",
    "\n",
    "#set figsize to be big (12,12) inches\n",
    "#rcParams['figure.figsize'] = 10,10"
   ]
  },
  {
   "cell_type": "markdown",
   "metadata": {},
   "source": [
    "assymettric 2d growth"
   ]
  },
  {
   "cell_type": "code",
   "execution_count": null,
   "metadata": {},
   "outputs": [],
   "source": [
    "#load a simulation\n",
    "\n",
    "#load the ablation with initial noise run\n",
    "#test_2d_asym = loadSim('f2d_simulation_asymmetric250_200_500layers_center_reduction0.1_D_2_RK45_sigmamax_-0.01noisyinit_True.pkl')\n",
    "\n",
    "#load the growth with initial noise run\n",
    "#test_2d_asym = loadSim('f2d_simulation_asymmetric250_200_500layers_center_reduction0.1_D_2_RK45_sigmamax_0.2noisyinit_True.pkl')\n"
   ]
  },
  {
   "cell_type": "code",
   "execution_count": null,
   "metadata": {},
   "outputs": [],
   "source": [
    "#set up and run and plot a new simulation\n",
    "test_2d_asym = Simulation(f2d, (500,500), method='RK45')\n",
    "\n",
    "#turn on memory handling logic\n",
    "test_2d_asym.mem_check = True\n",
    "#test_2d_asym.memory_threshold = 100E9 #100GB - default\n",
    "\n",
    "test_2d_asym.discretization_halt = False\n",
    "\n",
    "#try a noisy simulation\n",
    "test_2d_asym.noisy_init = False\n",
    "\n",
    "#test_2d_asym.float_params['DoverdeltaX2'] *= 2 \n",
    "test_2d_asym.layermax = 700\n",
    "#test_2d_asym.sigmastepmax= -0.02#ablation\n",
    "test_2d_asym.sigmastepmax= 0.20 #growth\n",
    "#test_2d_asym.center_reduction = 0.25\n",
    "#test_2d_asym.deltaT *= 10 #increase time step to decrease number of steps saved\n",
    "\n",
    "#_plot = test_2d_asym.plot(tot=True,completion=1)\n",
    "#anim = test_2d_asym.animate(ice=True,surface=True, ret=True, focus_on_growth=True)"
   ]
  },
  {
   "cell_type": "code",
   "execution_count": null,
   "metadata": {},
   "outputs": [],
   "source": [
    "my_id=['prog_report_large_2d'+str(test_2d_asym.shape[0])+'_'+str(test_2d_asym.shape[1]),str(test_2d_asym.layermax)+'layers',\n",
    "                                'center_reduction'+str(test_2d_asym.center_reduction),  'D_2', test_2d_asym.method, 'sigmamax_'+str(test_2d_asym.sigmastepmax) +'noisyinit_'+str(test_2d_asym.noisy_init)] #'Cy_0_Dy0',\n",
    "my_filename = ''.join([i+'_' for i in my_id])"
   ]
  },
  {
   "cell_type": "code",
   "execution_count": null,
   "metadata": {},
   "outputs": [],
   "source": [
    "#calcs to graph asymmetric sigmastep2d\n",
    "xs,ys = test_2d_asym.x, test_2d_asym.y #linspace\n",
    "sigma = getsigmastep_2d(xs,ys, test_2d_asym.center_reduction, test_2d_asym.sigmastepmax)\n",
    "ygrid,xgrid = np.meshgrid(ys,xs) #2d mesh for plotting"
   ]
  },
  {
   "cell_type": "code",
   "execution_count": null,
   "metadata": {},
   "outputs": [],
   "source": [
    "#countour plot of sigmastep 2d\n",
    "print(xs.shape,ys.shape,sigma.shape)\n",
    "fig,ax = plt.subplots()\n",
    "CS = ax.contourf(xgrid,ygrid,sigma*100,np.arange(np.min(sigma*100)-0.01,np.max(sigma*100)+0.01,0.01))\n",
    "#CS = ax.contourf(xgrid,ygrid,xgrid) #graph x\n",
    "#CS = ax.contourf(xgrid,ygrid,ygrid) #graph y\n",
    "ax.set_xlabel(r'$x (\\mu m)$', fontsize=20)\n",
    "ax.set_ylabel(r'$y (\\mu m)$', fontsize=20)\n",
    "plt.grid(True)\n",
    "plt.gca().set_aspect('equal')\n",
    "fig.colorbar(CS)\n",
    "plt.title('%supersaturation (getsigmastep_2d)')\n",
    "print(xgrid.shape,ygrid.shape)"
   ]
  },
  {
   "cell_type": "code",
   "execution_count": null,
   "metadata": {},
   "outputs": [],
   "source": [
    "#animate the simulation (runs if needed)\n",
    "#test_2d_asym.run(halve_time_res=True) #only saves half the time steps since it is a huge simulation\n",
    "\n",
    "anim = test_2d_asym.animate(ret=True, focus_on_growth=True, proportionalSpeed=False)"
   ]
  },
  {
   "cell_type": "code",
   "execution_count": null,
   "metadata": {},
   "outputs": [],
   "source": [
    "#start a second simulation starting with the ending surface of the first \n",
    "# as the initial surface\n",
    "\n",
    "#create 1d sim and graph number of steps over time\n",
    "cycle_sim =  Simulation(f2d, (test_2d_asym.shape[0],test_2d_asym.shape[1]), method=test_2d_asym.method, rtol=test_2d_asym.rtol)\n",
    "\n",
    "#keep general params same\n",
    "cycle_sim.layermax = test_2d_asym.layermax * 1.5 #make sure it reaches steady state\n",
    "cycle_sim.float_params['DoverdeltaX2'] = test_2d_asym.float_params['DoverdeltaX2'] \n",
    "cycle_sim.sigma0 = test_2d_asym.sigma0\n",
    "cycle_sim.center_reduction = test_2d_asym.center_reduction\n",
    "cycle_sim.deltaT = test_2d_asym.deltaT #increase time step to decrease number of steps saved?\n",
    "cycle_sim.noisy_init = test_2d_asym.noisy_init\n",
    "\n",
    "#set up initial surface\n",
    "cycle_sim.nonstd_init = True\n",
    "ntots = test_2d_asym.getNtot()\n",
    "cycle_sim.startingNtot = ntots[len(ntots)//2] #start with the middle of the last simulation, before discretzation error\n",
    "\n",
    "#set to ablation run\n",
    "cycle_sim.sigmastepmax = -0.01\n"
   ]
  },
  {
   "cell_type": "code",
   "execution_count": null,
   "metadata": {},
   "outputs": [],
   "source": [
    "#animate ablation of growth ending surface\n",
    "anim = cycle_sim.animate(ret=True, focus_on_growth=True, proportionalSpeed=False)"
   ]
  },
  {
   "cell_type": "code",
   "execution_count": null,
   "metadata": {},
   "outputs": [],
   "source": [
    "# #profile the running and processing of the simulation\n",
    "# import cProfile\n",
    "# import pstats\n",
    "\n",
    "# def my_function():\n",
    "#     #graph number of steps over time\n",
    "#     #handle large sims\n",
    "#     filename = 'long_2D_sim_500_500_pts.csv'\n",
    "#     Ntot = handle_mem_intense_sim(test_2d_asym, filename)\n",
    "\n",
    "#     layers_grown_at_each_timestep = []\n",
    "#     max_less_min = []\n",
    "#     if Ntot is None:\n",
    "#         timesteps = 0\n",
    "#         #read from csv file\n",
    "#         with open(filename, 'r') as f:\n",
    "#             Ntot = np.load(f, mmap_mode='r')[:,1,:,:]\n",
    "#             for row in Ntot:\n",
    "#                 timesteps += 1 #count number of timesteps\n",
    "#                 max_less_min.append([np.max(n)-np.min(n) for n in row])\n",
    "#                 layers_grown_at_each_timestep.append([np.max(n) for n in row])\n",
    "#                 del row #remove row from memory to prevent memory error\n",
    "\n",
    "#         max_less_min = np.array(max_less_min)#.reshape(-1, cycle_sim.shape[0], cycle_sim.shape[1])\n",
    "#     else:\n",
    "#         for row in Ntot:\n",
    "#             max_less_min.append(np.max(n)-np.min(n) for n in row)\n",
    "\n",
    "#         max_less_min = np.array(max_less_min)#.reshape(-1, cycle_sim.shape[0], cycle_sim.shape[1])\n",
    "#         timesteps = len(Ntot)\n",
    "\n",
    "#     # maxes = np.array([np.max(n) for n in Ntot[:]])\n",
    "#     # mins = np.array([np.min(n) for n in Ntot[:]])\n",
    "#     #print(maxes,mins)\n",
    "#     return max_less_min,timesteps,Ntot,layers_grown_at_each_timestep,filename\n",
    "\n",
    "# # Create a Profile object\n",
    "# pr = cProfile.Profile()\n",
    "\n",
    "# # Run the function and create the profile data\n",
    "# max_less_min,timesteps,Ntot,layers_grown_at_each_timestep,filename = pr.runcall(my_function)\n",
    "\n",
    "# # Create a Stats object\n",
    "# stats = pstats.Stats(pr)\n",
    "\n",
    "# # Print out the statistics\n",
    "# stats.strip_dirs().sort_stats(\"time\").print_stats()\n"
   ]
  },
  {
   "cell_type": "code",
   "execution_count": null,
   "metadata": {},
   "outputs": [],
   "source": [
    "#graph number of steps over time\n",
    "#handle large sims\n",
    "filename = 'long_2D_sim_500_500_pts.npy'\n",
    "test_2d_asym.filename = filename\n",
    "run_filename_output = test_2d_asym.run()\n",
    "if run_filename_output is not None:\n",
    "    next_sim = continue_from_file(test_2d_asym, filename)\n",
    "    inner_run_filename_output = next_sim.run()\n",
    "    while inner_run_filename_output is not None:\n",
    "        next_sim = continue_from_file(next_sim, filename)\n",
    "        inner_run_filename_output = next_sim.run()\n",
    "        \n",
    "if run_filename_output is None:\n",
    "    Ntot = test_2d_asym.getNtot()\n",
    "else:\n",
    "    Ntot = np.load(filename, mmap_mode='r')[:,1,:,:]\n",
    "\n",
    "#Ntot = handle_mem_intense_sim(test_2d_asym, filename)\n"
   ]
  },
  {
   "cell_type": "code",
   "execution_count": 14,
   "metadata": {},
   "outputs": [],
   "source": [
    "filename = 'long_2D_sim_500_500_pts.npy'"
   ]
  },
  {
   "cell_type": "code",
   "execution_count": 16,
   "metadata": {},
   "outputs": [],
   "source": [
    "# # get number of layers grown at each timestep\n",
    "# #layers_grown_at_each_timestep = []\n",
    "max_less_min = []\n",
    "# if Ntot is None:\n",
    "#     timesteps = 0\n",
    "#     #read from csv file\n",
    "with open(filename, 'rb') as f:\n",
    "    Ntot = np.load(f)[:,1,:,:]\n",
    "    # Ntot = np.load(f, mmap_mode='r')[:,1,:,:]\n",
    "    for row in Ntot:\n",
    "        # timesteps += 1 #count number of timesteps\n",
    "        #max_less_min.append([np.max(n)-np.min(n) for n in row])\n",
    "        max_less_min.append(np.max(row)-np.min(row))\n",
    "\n",
    "        #layers_grown_at_each_timestep.append([np.max(n) for n in row])\n",
    "        del row #remove row from memory to prevent memory error\n",
    "\n",
    "#     max_less_min = np.array(max_less_min)#.reshape(-1, cycle_sim.shape[0], cycle_sim.shape[1])\n",
    "# else:\n",
    "#     for row in Ntot:\n",
    "#         max_less_min.append(np.max(row)-np.min(row))\n",
    "\n",
    "#     max_less_min = np.array(max_less_min)#.reshape(-1, cycle_sim.shape[0], cycle_sim.shape[1])\n",
    "#     timesteps = len(Ntot)\n",
    "\n",
    "# maxes = np.array([np.max(n) for n in Ntot[:]])\n",
    "# mins = np.array([np.min(n) for n in Ntot[:]])\n",
    "#print(maxes,mins)"
   ]
  },
  {
   "cell_type": "code",
   "execution_count": 17,
   "metadata": {},
   "outputs": [
    {
     "name": "stdout",
     "output_type": "stream",
     "text": [
      "(17500, 500, 500)\n"
     ]
    }
   ],
   "source": [
    "print(Ntot.shape)"
   ]
  },
  {
   "cell_type": "code",
   "execution_count": 18,
   "metadata": {},
   "outputs": [
    {
     "data": {
      "text/plain": [
       "sswap(total=124061085696, used=48587554816, free=75473530880, percent=39.2, sin=0, sout=0)"
      ]
     },
     "execution_count": 18,
     "metadata": {},
     "output_type": "execute_result"
    }
   ],
   "source": [
    "psutil.swap_memory()"
   ]
  },
  {
   "cell_type": "code",
   "execution_count": null,
   "metadata": {},
   "outputs": [],
   "source": [
    "print(psutil.virtual_memory())\n",
    "print(psutil.swap_memory())"
   ]
  },
  {
   "cell_type": "code",
   "execution_count": null,
   "metadata": {},
   "outputs": [],
   "source": [
    "#optionally save Ntot so no more re runs\n",
    "save_Ntot = False\n",
    "if save_Ntot: np.save('Ntot.npy', Ntot)"
   ]
  },
  {
   "cell_type": "code",
   "execution_count": 3,
   "metadata": {},
   "outputs": [],
   "source": [
    "ntot = np.load('Ntot.npy', mmap_mode='r')"
   ]
  },
  {
   "cell_type": "code",
   "execution_count": 20,
   "metadata": {},
   "outputs": [
    {
     "name": "stdout",
     "output_type": "stream",
     "text": [
      "(17500, 500, 500)\n"
     ]
    }
   ],
   "source": [
    "print(Ntot.shape)\n",
    "timesteps = Ntot.shape[0]"
   ]
  },
  {
   "cell_type": "code",
   "execution_count": null,
   "metadata": {},
   "outputs": [],
   "source": [
    "#print(layers_grown_at_each_timestep) "
   ]
  },
  {
   "cell_type": "code",
   "execution_count": null,
   "metadata": {},
   "outputs": [],
   "source": [
    "nogen_mlm = np.array([list(x) for x in max_less_min])\n",
    "np.array([list(x) for x in max_less_min])[:,0]"
   ]
  },
  {
   "cell_type": "code",
   "execution_count": null,
   "metadata": {},
   "outputs": [],
   "source": [
    "print(nogen_mlm)"
   ]
  },
  {
   "cell_type": "code",
   "execution_count": 21,
   "metadata": {},
   "outputs": [
    {
     "data": {
      "application/vnd.jupyter.widget-view+json": {
       "model_id": "174d1dd4e64c4e8dba700b201d553dc8",
       "version_major": 2,
       "version_minor": 0
      },
      "image/png": "[encoded data removed]",
      "text/html": [
       "\n",
       "            <div style=\"display: inline-block;\">\n",
       "                <div class=\"jupyter-widgets widget-label\" style=\"text-align: center;\">\n",
       "                    Figure\n",
       "                </div>\n",
       "                <img src='data:image/png;base64,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' width=640.0/>\n",
       "            </div>\n",
       "        "
      ],
      "text/plain": [
       "Canvas(toolbar=Toolbar(toolitems=[('Home', 'Reset original view', 'home', 'home'), ('Back', 'Back to previous …"
      ]
     },
     "metadata": {},
     "output_type": "display_data"
    }
   ],
   "source": [
    "#plot the number of steps over time\n",
    "plt.figure()\n",
    "ax = plt.subplot(111)\n",
    "\n",
    "time_axis = np.asarray(np.arange(timesteps))\n",
    "\n",
    "ax.set_ylabel('Number of steps on surface')\n",
    "\n",
    "# if discretization halt happened:\n",
    "    #get number of layers when it halted and thats teh max\n",
    "#else:\n",
    "    #max number of layers on x axis is layermax\n",
    "layers_grown = 70.06\n",
    "#layers_grown = test_2d_asym.layermax\n",
    "\n",
    "# if test_2d_asym.sigmastepmax < 0: #ablation case\n",
    "#     ax.set_xlabel('Total number of layers ablated')\n",
    "#     ax.plot( Ntot[::-1,0,0]+layers_grown, max_less_min)#maxes-mins) #flipping to show ablation progress from left to right, adding layermax to show # layers ablated instead of negative # layers grown\n",
    "# else: #growth case   \n",
    "ax.set_xlabel('Total number of layers grown')\n",
    "#ax.plot(time_axis/max(time_axis)*layers_grown, np.asarray(nogen_mlm)[:,0])#maxes-mins)\n",
    "#ax.plot(time_axis/max(time_axis)*layers_grown, np.array([list(x) for x in max_less_min])[:,0])\n",
    "ax.plot(time_axis/max(time_axis)*layers_grown, max_less_min)\n",
    "#ax.plot( Ntot[:,0,0], maxes-mins)\n",
    "\n",
    "plt.grid()"
   ]
  },
  {
   "cell_type": "code",
   "execution_count": null,
   "metadata": {},
   "outputs": [],
   "source": [
    "#plot subplots of the 2d surface at different times\n",
    "\n",
    "# from mpl_toolkits.mplot3d import Axes3D\n",
    "    \n",
    "#fig, axs = plt.subplots(2, 4)#, projection='3d')\n",
    "\n",
    "fig = plt.figure()\n",
    "axs = np.empty((2,4), dtype=object)\n",
    "\n",
    "#adjust 3d view if desired\n",
    "# for ax in axs.flatten():\n",
    "    # ax.view_init(elev=30, azim=45)\n",
    "    # ax.set_xlim(left=-50, right=50)\n",
    "    # ax.set_ylim(bottom=-50, top=50)\n",
    "\n",
    "\n",
    "\n",
    "for i, cmpltion in enumerate([0,0.01,0.03,0.05,0.1,0.3,0.5,0.8]):\n",
    "    ax = fig.add_subplot(2, 4, i+1, projection='3d')\n",
    "    axs[i//4, i%4] = ax\n",
    "\n",
    "    if os.path.exists(filename):\n",
    "        ntot = np.load(filename, mmap_mode='r')[:,1,:,:]\n",
    "    else:\n",
    "        ntot = Ntot\n",
    "\n",
    "    zs = ntot[int(cmpltion*ntot.shape[0])]\n",
    "\n",
    "    x,y = zs.shape[0],zs.shape[1]\n",
    "    xs = np.linspace(x//-20,x//20,x)\n",
    "    ys = np.linspace(y//-20,y//20,y)\n",
    "\n",
    "    ys,xs = np.meshgrid(ys,xs)\n",
    "    ax = axs[i//4, i%4]\n",
    "    #.add_subplot(111, projection='3d')\n",
    "    \n",
    "    ax.set_xlabel(r'x ($\\mu m$)')\n",
    "    ax.set_ylabel('Layers of ice')\n",
    "    ax.set_ylim(bottom=np.min(xs)-.5, top=np.max(xs)+.5)\n",
    "    ax.yaxis.set_major_formatter(FormatStrFormatter('%.1f'))\n",
    "    ax.set_title('Completion = '+str(cmpltion*100)+'%')\n",
    "    ax.plot_surface(xs, ys, zs)\n",
    "\n",
    "\n",
    "plt.show()\n"
   ]
  },
  {
   "cell_type": "code",
   "execution_count": null,
   "metadata": {},
   "outputs": [],
   "source": [
    "#save the animation as a gif, trying this since Simulation.save_animation is not working\n",
    "#anim.save(my_filename+'.gif',writer=PillowWriter(fps=60))\n",
    "\n"
   ]
  },
  {
   "cell_type": "code",
   "execution_count": null,
   "metadata": {},
   "outputs": [],
   "source": [
    "#save animation with built in Simulation method\n",
    "test_2d_asym.save_animation(my_filename, 'gif')"
   ]
  },
  {
   "cell_type": "code",
   "execution_count": null,
   "metadata": {},
   "outputs": [],
   "source": [
    "#plot at specific timesteps\n",
    "#cmpltion = 0.005 \n",
    "#cmpltion = 0.1\n",
    "#sim = test_2d_asym\n",
    "sim = cycle_sim\n",
    "\n",
    "for cmpltion in [0.9]:#[0.33,0.50,0.55,0.66,0.8,0.9]:  #[0,0.001,0.005]: # making plots of initial noise dissipating\n",
    "    plt.close()\n",
    "    sim.plot(completion=cmpltion, ice=True, figurename=my_filename+'_completion'+str(cmpltion))\n",
    "    #plt.savefig(my_filename+'_completion'+str(cmpltion)+'.png')"
   ]
  },
  {
   "cell_type": "code",
   "execution_count": null,
   "metadata": {},
   "outputs": [],
   "source": [
    "plt.savefig(''.join([i+'_' for i in my_id])+'.png')"
   ]
  },
  {
   "cell_type": "code",
   "execution_count": null,
   "metadata": {},
   "outputs": [],
   "source": [
    "#save the simulation to a pickle file for later use (without re-running the simulation)\n",
    "test_2d_asym.save(id=my_id)\n",
    "\n",
    "#manually save it and add compression since the 1000 layter simulation is too big\n",
    "# import pickle\n",
    "# import bz2\n",
    "# id=['asymmetric'+str(test_2d_asym.shape[0])+'_'+str(test_2d_asym.shape[1]),str(test_2d_asym.layermax)+'layers']\n",
    "# id = ''.join('_'+i for i in id)\n",
    "# filename = test_2d_asym.model.__name__+'_simulation'+id+'.pkl'\n",
    "# with open(filename, 'wb') as f:\n",
    "#     print(\"saving to\", f)\n",
    "#     pickle.dump(test_2d_asym, bz2.BZ2File(f, 'w'))"
   ]
  },
  {
   "cell_type": "markdown",
   "metadata": {},
   "source": [
    "1D model for comparison (uses same parameters as above 2d model), graphing if it also reaching steady state"
   ]
  },
  {
   "cell_type": "code",
   "execution_count": null,
   "metadata": {},
   "outputs": [],
   "source": [
    "#create 1d sim and graph number of steps over time\n",
    "#ss_1d = Simulation(f1d, (test_2d_asym.shape[0],), method=test_2d_asym.method, rtol=test_2d_asym.rtol)\n",
    "ss_1d = Simulation(f1d, (500,), method=test_2d_asym.method, rtol=test_2d_asym.rtol)\n",
    "\n",
    "ss_1d.float_params['DoverdeltaX2'] = test_2d_asym.float_params['DoverdeltaX2'] \n",
    "ss_1d.layermax = test_2d_asym.layermax * 1.5 #make sure it reaches steady state\n",
    "ss_1d.sigmastepmax = test_2d_asym.sigmastepmax \n",
    "ss_1d.sigma0 = test_2d_asym.sigma0\n",
    "ss_1d.center_reduction = test_2d_asym.center_reduction\n",
    "ss_1d.deltaT = test_2d_asym.deltaT #increase time step to decrease number of steps saved?\n",
    "ss_1d.noisy_init = test_2d_asym.noisy_init\n"
   ]
  },
  {
   "cell_type": "code",
   "execution_count": null,
   "metadata": {},
   "outputs": [],
   "source": [
    "#set the id \n",
    "my_id=['nx_'+str(ss_1d.shape[0]),str(ss_1d.layermax)+'layers',\n",
    "                                'center_reduction'+str(ss_1d.center_reduction),  'D_2', ss_1d.method, 'sigmamax_'+str(ss_1d.sigmastepmax) +'noisyinit_'+str(ss_1d.noisy_init)]\n",
    "my_filename = ''.join([i+'_' for i in my_id])"
   ]
  },
  {
   "cell_type": "code",
   "execution_count": null,
   "metadata": {},
   "outputs": [],
   "source": [
    "# plot number of steps over time\n",
    "fignum = 0\n",
    "plt.close(fignum)\n",
    "\n",
    "Ntot = ss_1d.getNtot()\n",
    "\n",
    "maxes = np.array([np.max(n) for n in Ntot[:]])\n",
    "mins = np.array([np.min(n) for n in Ntot[:]])\n",
    "\n",
    "#print(maxes,mins)\n",
    "plt.figure(fignum)\n",
    "ax = plt.subplot(111)\n",
    "\n",
    "#ax.plot(test_f2d_sim.results()['t'],maxes-mins)\n",
    "ax.plot(Ntot[:,0],maxes-mins)\n",
    "ax.set_ylabel('Number of steps on surface')\n",
    "ax.set_xlabel('Time')\n",
    "plt.grid()\n",
    "plt.show()"
   ]
  },
  {
   "cell_type": "code",
   "execution_count": null,
   "metadata": {},
   "outputs": [],
   "source": [
    "plt.close('1d surface over time 3d surface')\n",
    "plt.figure('1d surface over time 3d surface')\n",
    "#plot surface over time as 3d surface\n",
    "ax = plt.axes(projection='3d')\n",
    "\n",
    "#TODO:\n",
    "\n",
    "zs = ss_1d.getNtot()\n",
    "start,stop = 0, zs.shape[0]\n",
    "#crop time selection\n",
    "start,stop = stop*5//6, stop\n",
    "zs = zs[start:stop]\n",
    "\n",
    "t,x = [*zs.shape]\n",
    "print(x,t)\n",
    "xs,ys = np.meshgrid(np.linspace(0,x,x),np.linspace(start,stop,stop-start))\n",
    "\n",
    "#print shapes of inputs\n",
    "print(xs.shape,ys.shape,zs.shape)\n",
    "\n",
    "#contour levels\n",
    "levels = np.linspace(740,880,10)\n",
    "\n",
    "#plot contours of the surface\n",
    "ax.contour(X=xs, Y=ys, Z=zs,  label='ice+QLL', cmap='viridis_r')\n",
    "\n",
    "#plot the surface with reversed viridis\n",
    "ax.plot_surface(X=xs, Y=ys, Z=zs,  label='ice+QLL', cmap='viridis_r')\n",
    "\n",
    "ax.set_xlabel('nx')\n",
    "ax.set_ylabel('Time steps')\n",
    "#ax.set_xlabel(r'x ($\\mu m$)')\n",
    "#ax.set_ylabel('Layers of ice')\n",
    "plt.show()"
   ]
  },
  {
   "cell_type": "code",
   "execution_count": null,
   "metadata": {},
   "outputs": [],
   "source": [
    "#plot contours over time on one surface\n",
    "ax = plt.axes(projection='3d')\n",
    "\n",
    "zs = ss_1d.getNtot()\n",
    "start,stop = 0, zs.shape[0]\n",
    "#crop time selection\n",
    "#start,stop = stop*5//6, stop\n",
    "zs = zs[start:stop]\n",
    "\n",
    "t,x = [*zs.shape]\n",
    "print(x,t)\n",
    "xs,ys = np.meshgrid(np.linspace(0,x,x),np.linspace(start,stop,stop-start))\n",
    "\n",
    "#print shapes of inputs\n",
    "print(xs.shape,ys.shape,zs.shape)\n",
    "\n",
    "# #contour levels\n",
    "# levels = np.linspace(740,880,10)\n",
    "\n",
    "# #plot the surface with reversed viridis\n",
    "# ax.contour(X=xs, Y=ys, Z=zs,  label='ice+QLL', cmap='viridis_r')\n",
    "\n",
    "# ax.set_xlabel('nx')\n",
    "# ax.set_ylabel('Time steps')\n",
    "# #ax.set_xlabel(r'x ($\\mu m$)')\n",
    "# #ax.set_ylabel('Layers of ice')\n",
    "# plt.show()\n",
    "\n",
    "ix = 100\n",
    "plt.figure()\n",
    "\n",
    "ixlist = [0, 10_000, 30_000, 40_000]#np.linspace(0,7400, 100)\n",
    "offset = 1\n",
    "for ix in ixlist:\n",
    "    tempzs = zs[ix,:] - min(zs[ix,:]) + offset\n",
    "    offset += 1\n",
    "    plt.plot(xs[ix,:], tempzs,label = 'x = '+str(ix))\n",
    "\n",
    "#plt.legend()"
   ]
  },
  {
   "cell_type": "code",
   "execution_count": null,
   "metadata": {},
   "outputs": [],
   "source": [
    "#plot the surface over time on subplots\n",
    "\n",
    "#run the simulation\n",
    "ntot = ss_1d.getNtot()\n",
    "\n",
    "fig, axs = plt.subplots(2, 4)\n",
    "for i, cmpltion in enumerate([0,0.01,0.03,0.05,0.1,0.3,0.5,0.8]):\n",
    "\n",
    "    xs = ntot[int(cmpltion*ntot.shape[0]),:]\n",
    "    axs[i//4, i%4].set_xlabel(r'x ($\\mu m$)')\n",
    "    axs[i//4, i%4].set_ylabel('Layers of ice')\n",
    "    axs[i//4, i%4].set_ylim(bottom=min(xs)-.5, top=max(xs)+.5)\n",
    "    axs[i//4, i%4].yaxis.set_major_formatter(FormatStrFormatter('%.1f'))\n",
    "    axs[i//4, i%4].set_title('Completion = '+str(cmpltion*100)+'%')\n",
    "    axs[i//4, i%4].plot(xs, label='Completion = '+str(cmpltion*100)+'%')\n",
    "plt.show()\n"
   ]
  },
  {
   "cell_type": "code",
   "execution_count": null,
   "metadata": {},
   "outputs": [],
   "source": [
    "ss_1d.animate()"
   ]
  },
  {
   "cell_type": "code",
   "execution_count": null,
   "metadata": {},
   "outputs": [],
   "source": [
    "plt.close()"
   ]
  },
  {
   "cell_type": "code",
   "execution_count": null,
   "metadata": {},
   "outputs": [],
   "source": [
    "#test_2d_asym.save(id=['asymmetric'+str(test_2d_asym.shape[0])+'_'+str(test_2d_asym.shape[1]),str(test_2d_asym.layermax)+'layers'])\n",
    "#symm = Simulation(f2d,(500,500),rtol=1e-12)"
   ]
  },
  {
   "cell_type": "code",
   "execution_count": null,
   "metadata": {},
   "outputs": [],
   "source": [
    "#countour plot of sigmastep 2d\n",
    "plt.figure()\n",
    "ax = plt.axes(projection='3d')\n",
    "plt.xlabel(r'x ($\\mu m$)')\n",
    "plt.ylabel(r'y ($\\mu m$)')\n",
    "#ax.set_zlabel('Layers of ice')\n",
    "#levels = np.arange(19,21,0.1)\n",
    "ax.contourf(xgrid,ygrid, sigma*100, extent=(0, 2, 0, 2), cmap='YlGnBu_r', vmin=0, vmax=200, zorder=1)#, levels=levels)"
   ]
  },
  {
   "cell_type": "code",
   "execution_count": null,
   "metadata": {},
   "outputs": [],
   "source": [
    "#countour plot of sigmastep 2d\n",
    "print(xs.shape,ys.shape,sigma.shape)\n",
    "fig,ax = plt.subplots()\n",
    "CS = ax.contourf(xs.T,ys.T,sigma*100)\n",
    "ax.set_xlabel(r'$x (\\mu m)$', fontsize=20)\n",
    "ax.set_ylabel(r'$y (\\mu m)$', fontsize=20)\n",
    "plt.grid(True)\n",
    "plt.gca().set_aspect('equal')\n",
    "fig.colorbar(CS)\n",
    "plt.title('%supersaturation (getsigmastep_2d)')"
   ]
  },
  {
   "cell_type": "markdown",
   "metadata": {},
   "source": [
    "2D Growth simulation"
   ]
  },
  {
   "cell_type": "code",
   "execution_count": null,
   "metadata": {},
   "outputs": [],
   "source": [
    "#create the 2d sim\n",
    "test_f2d_sim = Simulation(f2d, (250,250), rtol=1e-12)\n",
    "test_f2d_sim.layermax = 50#0\n",
    "#test_f2d_sim.run()\n",
    "#test_f2d_sim.save(_id=['test','50layer'])"
   ]
  },
  {
   "cell_type": "code",
   "execution_count": null,
   "metadata": {},
   "outputs": [],
   "source": [
    "#animate the 2d sim\n",
    "test_f2d_sim.animate(crossSection=True)"
   ]
  },
  {
   "cell_type": "code",
   "execution_count": null,
   "metadata": {},
   "outputs": [],
   "source": [
    "#print variables in 1d simulation for comparison to literature\n",
    "for k,v in test_f2d_sim._extra_vars.items():\n",
    "    print(k,v)\n",
    "print('center reduction %: ', test_f2d_sim.center_reduction)"
   ]
  },
  {
   "cell_type": "code",
   "execution_count": null,
   "metadata": {},
   "outputs": [],
   "source": [
    "#print number of steps over time\n",
    "Ntot = test_f2d_sim.getNtot()\n",
    "\n",
    "maxes = np.array([np.max(n) for n in Ntot[:]])\n",
    "mins = np.array([np.min(n) for n in Ntot[:]])\n",
    "\n",
    "#print(maxes,mins)\n",
    "plt.figure()\n",
    "ax = plt.subplot(111)\n",
    "\n",
    "#ax.plot(test_f2d_sim.results()['t'],maxes-mins)\n",
    "ax.plot(Ntot[:,0,0],maxes-mins)\n",
    "#ax.plot(test_f2d_sim.results()['t'],test_f2d_sim.results()['t'])\n",
    "plt.grid()"
   ]
  },
  {
   "cell_type": "code",
   "execution_count": null,
   "metadata": {},
   "outputs": [],
   "source": [
    "#animate test_f2d_sim\n",
    "\n",
    "test_f2d_sim.animate(ice=True)"
   ]
  },
  {
   "cell_type": "code",
   "execution_count": null,
   "metadata": {},
   "outputs": [],
   "source": [
    "#test_f2d_sim = loadSim('f2d_simulation_test_50layer.pkl') "
   ]
  },
  {
   "cell_type": "code",
   "execution_count": null,
   "metadata": {},
   "outputs": [],
   "source": [
    "#graph results normalized to minimum of ice surface\n",
    "Fliq_ss, Ntot_steadystate = test_f2d_sim.normalize_results_to_min()\n",
    "nice_ss = Ntot_steadystate-Fliq_ss\n",
    "print(np.shape(Ntot_steadystate))\n",
    "xs, ys = np.meshgrid(test_f2d_sim.x, test_f2d_sim.y)\n",
    "\n",
    "fig = plt.figure(figsize=(12,12))\n",
    "ax = plt.axes(projection = '3d')\n",
    "#ax.plot_surface(test_f2d_sim._results['t'], Ntot_steadystate[:,])\n",
    "ax.set_xlabel(r'$x (\\mu m$)')#,fontsize=fontsize)\n",
    "ax.set_ylabel(r'$y (\\mu m$)')#,fontsize=fontsize)\n",
    "ax.set_zlabel(r'$ice \\ layers$')#,fontsize=fontsize)\n",
    "#limits\n",
    "#ax.set_zlim3d(-self.layermax, self.layermax)\n",
    "#ax.set_ylim(0, max(self.y))\n",
    "#ax.set_xlim(0, max(self.x))\n",
    "def update_fig(num):\n",
    "    ax.clear() # remove last iteration of plot \n",
    "    plot_func = ax.plot_surface\n",
    "    # if crossSection:\n",
    "    #     xmid = round(np.shape(Nice)[0]/2)\n",
    "    #     if ice:\n",
    "    #         plot_func(X=xs[xmid:], Y=ys[xmid:], Z=nice_ss[num][xmid:][:],cmap ='viridis')# cmap='viridis')#, vmin=0, vmax=200) #plot half of the surface of the ice\n",
    "    #     if tot:\n",
    "    #         plot_func(X=xs[xmid:], Y=ys[xmid:], Z=Ntot_steadystate[num][xmid:][:], cmap='cividis')#, vmin=0, vmax=200) #plot half the surface of the QLL\n",
    "    # else:\n",
    "    #     if ice:\n",
    "    plot_func(X=xs, Y=ys, Z=nice_ss[num], cmap='viridis')#, vmin=0, vmax=200) #plot the surface of the ice \n",
    "        # if tot:\n",
    "    # plot_func(X=xs, Y=ys, Z=Ntot_steadystate[num], cmap='YlGnBu_r')#, vmin=0, vmax=200)#plot the surface of the QLL\n",
    "    pass\n",
    "\n",
    "\n",
    "num_steps = len(test_f2d_sim._results['t'])\n",
    "import matplotlib.animation as animation\n",
    "ani = animation.FuncAnimation(fig , update_fig, num_steps, interval=50, blit=False, cache_frame_data=False, repeat = True)\n",
    "plt.show()"
   ]
  },
  {
   "cell_type": "code",
   "execution_count": null,
   "metadata": {},
   "outputs": [],
   "source": [
    "#graph difference in steps over time: should converge to zero if steady state is reached\n",
    "Fliq_ss, Ntot_steadystate = test_f2d_sim.steady_state_calc()\n",
    "nice_ss = Ntot_steadystate-Fliq_ss\n",
    "print(np.shape(Ntot_steadystate))\n",
    "xs, ys = np.meshgrid(test_f2d_sim.x, test_f2d_sim.y)\n",
    "\n",
    "fig = plt.figure(figsize=(12,12))\n",
    "ax = plt.axes(projection = '3d')\n",
    "#ax.plot_surface(test_f2d_sim._results['t'], Ntot_steadystate[:,])\n",
    "ax.set_xlabel(r'$x (\\mu m$)')#,fontsize=fontsize)\n",
    "ax.set_ylabel(r'$y (\\mu m$)')#,fontsize=fontsize)\n",
    "ax.set_zlabel(r'$ice \\ layers$')#,fontsize=fontsize)\n",
    "#limits\n",
    "#ax.set_zlim3d(-self.layermax, self.layermax)\n",
    "#ax.set_ylim(0, max(self.y))\n",
    "#ax.set_xlim(0, max(self.x))\n",
    "def update_fig(num):\n",
    "    ax.clear() # remove last iteration of plot \n",
    "    plot_func = ax.plot_surface\n",
    "    # if crossSection:\n",
    "    #     xmid = round(np.shape(Nice)[0]/2)\n",
    "    #     if ice:\n",
    "    #         plot_func(X=xs[xmid:], Y=ys[xmid:], Z=nice_ss[num][xmid:][:],cmap ='viridis')# cmap='viridis')#, vmin=0, vmax=200) #plot half of the surface of the ice\n",
    "    #     if tot:\n",
    "    #         plot_func(X=xs[xmid:], Y=ys[xmid:], Z=Ntot_steadystate[num][xmid:][:], cmap='cividis')#, vmin=0, vmax=200) #plot half the surface of the QLL\n",
    "    # else:\n",
    "    #     if ice:\n",
    "    plot_func(X=xs, Y=ys, Z=nice_ss[num], cmap='viridis')#, vmin=0, vmax=200) #plot the surface of the ice \n",
    "        # if tot:\n",
    "    # plot_func(X=xs, Y=ys, Z=Ntot_steadystate[num], cmap='YlGnBu_r')#, vmin=0, vmax=200)#plot the surface of the QLL\n",
    "    pass\n",
    "\n",
    "\n",
    "num_steps = len(test_f2d_sim._results['t'])\n",
    "import matplotlib.animation as animation\n",
    "ani = animation.FuncAnimation(fig , update_fig, num_steps, interval=50, blit=False, cache_frame_data=False, repeat = True)\n",
    "plt.show()"
   ]
  },
  {
   "cell_type": "code",
   "execution_count": null,
   "metadata": {},
   "outputs": [],
   "source": [
    "test_2d_sim = Simulation(f2d, (500,500), rtol=1e-12)\n",
    "test_2d_sim.layermax = 2\n",
    "#test_2d_sim = loadSim('f2d_simulation_august13.pkl')\n",
    "_plot = test_2d_sim.plot()"
   ]
  },
  {
   "cell_type": "markdown",
   "metadata": {},
   "source": [
    "1d simulation "
   ]
  },
  {
   "cell_type": "code",
   "execution_count": null,
   "metadata": {},
   "outputs": [],
   "source": [
    "test_2d_sim.save(id=['august13'])"
   ]
  },
  {
   "cell_type": "code",
   "execution_count": null,
   "metadata": {},
   "outputs": [],
   "source": [
    "fig = plt.figure()\n",
    "ax = plt.axes(projection='3d')\n",
    "num_steps = len(test_2d_sim.results()['t'])\n",
    "xs,ys = np.meshgrid(test_2d_sim.x, test_2d_sim.y)\n",
    "ax.plot_surface(X=xs, Y=ys, Z=test_2d_sim.getNtot()[num_steps-1], cmap='viridis')"
   ]
  },
  {
   "cell_type": "code",
   "execution_count": null,
   "metadata": {},
   "outputs": [],
   "source": [
    "test_1d = Simulation(f1d, shape=(500,), rtol=1e-12)\n",
    "test_1d.layermax = 500\n",
    "test_1d.results()"
   ]
  },
  {
   "cell_type": "code",
   "execution_count": null,
   "metadata": {},
   "outputs": [],
   "source": [
    "#test_1d.animate(ice=True, tot=True)\n",
    "test_1d.plot()"
   ]
  },
  {
   "cell_type": "markdown",
   "metadata": {},
   "source": []
  },
  {
   "cell_type": "markdown",
   "metadata": {},
   "source": [
    "2d Idea: increase sigmastepmax to see if faceted growth occur, removing the concave \"bowl\" forming at the center of initially tested 2d systems (test_f2d_sim)"
   ]
  },
  {
   "cell_type": "code",
   "execution_count": null,
   "metadata": {},
   "outputs": [],
   "source": [
    "# sigma_test = Simulation(f2d, (500,500),rtol = 1e-12)\n",
    "# sigma_test.layermax = 100\n",
    "# sigma_test.sigmastepmax = 0.25\n",
    "# sigma_test.results()"
   ]
  },
  {
   "cell_type": "code",
   "execution_count": null,
   "metadata": {},
   "outputs": [],
   "source": [
    "#sigma_id = ['sigmastepmax_'+str(round(100*sigma_test.sigmastepmax)), str(sigma_test.layermax)+'layers']\n",
    "#sigma_test.save(id=sigma_id)\n",
    "\n",
    "#test increased layers with increased sigmastep\n",
    "\n",
    "#sigma_test = loadSim('f2d_simulation_sigmastepmax_025.pkl') # 20 layers?\n",
    "#sigma_test = loadSim('f2d_simulation_sigmastepmax_025_50layers.pkl')\n",
    "sigma_test = loadSim('f2d_simulation_sigmastepmax_25_100layers.pkl')"
   ]
  },
  {
   "cell_type": "code",
   "execution_count": null,
   "metadata": {},
   "outputs": [],
   "source": [
    "sigma_test.animate()"
   ]
  },
  {
   "cell_type": "markdown",
   "metadata": {},
   "source": [
    "2d Ablation testing"
   ]
  },
  {
   "cell_type": "code",
   "execution_count": null,
   "metadata": {},
   "outputs": [],
   "source": [
    "f2d_ablate = Simulation(f2d, (500,500), rtol=1e-12)\n",
    "f2d_ablate.sigmastepmax = -0.1\n",
    "f2d_ablate.layermax = 50\n",
    "f2d_ablate.animate()"
   ]
  },
  {
   "cell_type": "markdown",
   "metadata": {},
   "source": [
    "1d growth testing. Works, however does not currently match the literature graph despite using the same parameters."
   ]
  },
  {
   "cell_type": "code",
   "execution_count": null,
   "metadata": {},
   "outputs": [],
   "source": [
    "f1d_sim = Simulation(f1d, (500,), rtol=1e-12)"
   ]
  },
  {
   "cell_type": "code",
   "execution_count": null,
   "metadata": {},
   "outputs": [],
   "source": [
    "#change parameters to match Gladich et al paper's graph and run simulation\n",
    "f1d_sim.layermax = 500#10000\n",
    "#f1d_sim.center_reduction = 0.25 #is default now"
   ]
  },
  {
   "cell_type": "code",
   "execution_count": null,
   "metadata": {},
   "outputs": [],
   "source": [
    "f1d_sim.run()"
   ]
  },
  {
   "cell_type": "code",
   "execution_count": null,
   "metadata": {},
   "outputs": [],
   "source": [
    "fig = f1d_sim.plot(completion=0.99, ice=True, tot=True)"
   ]
  },
  {
   "cell_type": "code",
   "execution_count": null,
   "metadata": {},
   "outputs": [],
   "source": [
    "#print variables in 1d simulation for comparison to literature\n",
    "for k,v in f1d_sim._extra_vars.items():\n",
    "    print(k,v)\n",
    "print('center reduction %: ', f1d_sim.center_reduction)"
   ]
  },
  {
   "cell_type": "code",
   "execution_count": null,
   "metadata": {},
   "outputs": [],
   "source": [
    "#functions tested so far\n",
    "#test_f2d_sim.countermax_0D\n",
    "#test_f2d_sim.countermax_1D\n",
    "#test_f2d_sim.countermax_2D\n",
    "#test_f2d_sim.atol\n",
    "#test_f2d_sim.rtol\n",
    "#test_f2d_sim.deltaT\n",
    "#test_f2d_sim.float_params\n",
    "#test_f2d_sim.animate()\n",
    "#test_f2d_sim.run()\n",
    "#test_f2d_sim.steady_state_calc()\n",
    "#test_f2d_sim.plot()\n",
    "#test_f2d_sim.save()\n",
    "#test_f2d_sim.load() #WORKS to load simulation from file if simulation object exists already -- for loading straght froom file use loadSim()\n",
    "#loadSim() #works\n",
    "\n"
   ]
  },
  {
   "cell_type": "code",
   "execution_count": null,
   "metadata": {},
   "outputs": [],
   "source": [
    "num_steps = len(test_f2d_sim.results()['t'])\n",
    "#shape of results is (num_steps, 2, nx, ny)\n",
    "Fliq, Ntot = [],[]\n",
    "for step in range(num_steps):\n",
    "    next_Fliq, next_Ntot = test_f2d_sim._results['y'][step]\n",
    "    Fliq.append(next_Fliq)\n",
    "    Ntot.append(next_Ntot)    \n",
    "Fliq,Ntot = np.array(Fliq), np.array(Ntot)\n",
    "Nice = Ntot - Fliq\n",
    "#shape of fliq, ntot and nice should be (num_steps, nx, ny)\n",
    "\n",
    "#access coordinate arrays for plotting\n",
    "xs, ys = np.meshgrid(test_f2d_sim.x, test_f2d_sim.y)"
   ]
  },
  {
   "cell_type": "code",
   "execution_count": null,
   "metadata": {},
   "outputs": [],
   "source": [
    "print(num_steps)\n",
    "print(test_f2d_sim.steepness(0,slice(0,test_f2d_sim.shape[0]//2)))"
   ]
  },
  {
   "cell_type": "code",
   "execution_count": null,
   "metadata": {},
   "outputs": [],
   "source": [
    "print(test_f2d_sim.get_step_density(0,slice(0,test_f2d_sim.shape[0]//2)))  "
   ]
  },
  {
   "cell_type": "code",
   "execution_count": null,
   "metadata": {},
   "outputs": [],
   "source": []
  }
 ],
 "metadata": {
  "kernelspec": {
   "display_name": "Python 3",
   "language": "python",
   "name": "python3"
  },
  "language_info": {
   "codemirror_mode": {
    "name": "ipython",
    "version": 3
   },
   "file_extension": ".py",
   "mimetype": "text/x-python",
   "name": "python",
   "nbconvert_exporter": "python",
   "pygments_lexer": "ipython3",
   "version": "3.9.13 (tags/v3.9.13:6de2ca5, May 17 2022, 16:36:42) [MSC v.1929 64 bit (AMD64)]"
  },
  "orig_nbformat": 4,
  "vscode": {
   "interpreter": {
    "hash": "a5639f55dd41388b289936a35ec1befe471f3e8ab332c7f154620eef02aaf2e9"
   }
  }
 },
 "nbformat": 4,
 "nbformat_minor": 2
}
