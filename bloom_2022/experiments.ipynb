{
 "cells": [
  {
   "cell_type": "code",
   "execution_count": 1,
   "metadata": {},
   "outputs": [
    {
     "name": "stderr",
     "output_type": "stream",
     "text": [
      "C:\\Users\\Max-PC\\AppData\\Local\\Packages\\PythonSoftwareFoundation.Python.3.9_qbz5n2kfra8p0\\LocalCache\\local-packages\\Python39\\site-packages\\llvmlite\\llvmpy\\__init__.py:3: UserWarning: The module `llvmlite.llvmpy` is deprecated and will be removed in the future.\n",
      "  warnings.warn(\n",
      "C:\\Users\\Max-PC\\AppData\\Local\\Packages\\PythonSoftwareFoundation.Python.3.9_qbz5n2kfra8p0\\LocalCache\\local-packages\\Python39\\site-packages\\llvmlite\\llvmpy\\core.py:8: UserWarning: The module `llvmlite.llvmpy.core` is deprecated and will be removed in the future. Equivalent functionality is provided by `llvmlite.ir`.\n",
      "  warnings.warn(\n",
      "C:\\Users\\Max-PC\\AppData\\Local\\Packages\\PythonSoftwareFoundation.Python.3.9_qbz5n2kfra8p0\\LocalCache\\local-packages\\Python39\\site-packages\\llvmlite\\llvmpy\\passes.py:17: UserWarning: The module `llvmlite.llvmpy.passes` is deprecated and will be removed in the future. If you are using this code, it should be inlined into your own project.\n",
      "  warnings.warn(\n"
     ]
    }
   ],
   "source": [
    "import numpy as np\n",
    "from matplotlib import pyplot as plt\n",
    "from matplotlib import rcParams\n",
    "import time\n",
    "from copy import copy\n",
    "\n",
    "#from sim_handling import Simulation,loadSim #uses ds7\n",
    "from sim_handling2 import Simulation,loadSim #ds8: faster, more space efficient\n",
    "from diffusionstuff8 import f0d,f1d,f2d, getsigmastep_2d\n",
    "from matplotlib.animation import PillowWriter"
   ]
  },
  {
   "cell_type": "code",
   "execution_count": 2,
   "metadata": {},
   "outputs": [],
   "source": [
    "%matplotlib widget\n",
    "\n",
    "#set figsize to be big (12,12) inches\n",
    "#rcParams['figure.figsize'] = 10,10"
   ]
  },
  {
   "cell_type": "markdown",
   "metadata": {},
   "source": [
    "assymettric 2d growth"
   ]
  },
  {
   "cell_type": "code",
   "execution_count": null,
   "metadata": {},
   "outputs": [],
   "source": [
    "#load a simulation\n",
    "\n",
    "#load the ablation with initial noise run\n",
    "#test_2d_asym = loadSim('f2d_simulation_asymmetric250_200_500layers_center_reduction0.1_D_2_RK45_sigmamax_-0.01noisyinit_True.pkl')\n",
    "\n",
    "#load the growth with initial noise run\n",
    "#test_2d_asym = loadSim('f2d_simulation_asymmetric250_200_500layers_center_reduction0.1_D_2_RK45_sigmamax_0.2noisyinit_True.pkl')\n"
   ]
  },
  {
   "cell_type": "code",
   "execution_count": 4,
   "metadata": {},
   "outputs": [],
   "source": [
    "#set up and run and plot a new simulation\n",
    "test_2d_asym = Simulation(f2d, (200,600), method='RK45')\n",
    "\n",
    "#try a noisy simulation\n",
    "test_2d_asym.noisy_init = False\n",
    "\n",
    "#test_2d_asym.float_params['DoverdeltaX2'] *= 2 \n",
    "test_2d_asym.layermax = 1000\n",
    "#test_2d_asym.sigmastepmax= -0.01 #ablation\n",
    "test_2d_asym.sigmastepmax= 0.20 #growth\n",
    "test_2d_asym.center_reduction = 0.1\n",
    "#test_2d_asym.deltaT *= 10 #increase time step to decrease number of steps saved\n",
    "\n",
    "#_plot = test_2d_asym.plot(tot=True,completion=1)\n",
    "#anim = test_2d_asym.animate(ice=True,surface=True, ret=True, focus_on_growth=True)"
   ]
  },
  {
   "cell_type": "code",
   "execution_count": null,
   "metadata": {},
   "outputs": [],
   "source": [
    "my_id=['asymmetric'+str(test_2d_asym.shape[0])+'_'+str(test_2d_asym.shape[1]),str(test_2d_asym.layermax)+'layers',\n",
    "                                'center_reduction'+str(test_2d_asym.center_reduction),  'D_2', test_2d_asym.method, 'sigmamax_'+str(test_2d_asym.sigmastepmax) +'noisyinit_'+str(test_2d_asym.noisy_init)] #'Cy_0_Dy0',\n",
    "my_filename = ''.join([i+'_' for i in my_id])"
   ]
  },
  {
   "cell_type": "code",
   "execution_count": null,
   "metadata": {},
   "outputs": [],
   "source": [
    "#calcs to graph asymmetric sigmastep2d\n",
    "xs,ys = test_2d_asym.x, test_2d_asym.y #linspace\n",
    "sigma = getsigmastep_2d(xs,ys, test_2d_asym.center_reduction, test_2d_asym.sigmastepmax)\n",
    "ygrid,xgrid = np.meshgrid(ys,xs) #2d mesh for plotting"
   ]
  },
  {
   "cell_type": "code",
   "execution_count": null,
   "metadata": {},
   "outputs": [],
   "source": [
    "#countour plot of sigmastep 2d\n",
    "print(xs.shape,ys.shape,sigma.shape)\n",
    "fig,ax = plt.subplots()\n",
    "CS = ax.contourf(xgrid,ygrid,sigma*100,np.arange(np.min(sigma*100)-0.01,np.max(sigma*100)+0.01,0.01))\n",
    "#CS = ax.contourf(xgrid,ygrid,xgrid) #graph x\n",
    "#CS = ax.contourf(xgrid,ygrid,ygrid) #graph y\n",
    "ax.set_xlabel(r'$x (\\mu m)$', fontsize=20)\n",
    "ax.set_ylabel(r'$y (\\mu m)$', fontsize=20)\n",
    "plt.grid(True)\n",
    "plt.gca().set_aspect('equal')\n",
    "fig.colorbar(CS)\n",
    "plt.title('%supersaturation (getsigmastep_2d)')\n",
    "print(xgrid.shape,ygrid.shape)"
   ]
  },
  {
   "cell_type": "code",
   "execution_count": null,
   "metadata": {},
   "outputs": [],
   "source": [
    "#animate the simulation (runs if needed)\n",
    "#test_2d_asym.run(halve_time_res=True) #only saves half the time steps since it is a huge simulation\n",
    "\n",
    "anim = test_2d_asym.animate(ret=True, focus_on_growth=True, proportionalSpeed=False)"
   ]
  },
  {
   "cell_type": "code",
   "execution_count": null,
   "metadata": {},
   "outputs": [],
   "source": [
    "#start a second simulation starting with the ending surface of the first \n",
    "# as the initial surface\n",
    "\n",
    "#create 1d sim and graph number of steps over time\n",
    "cycle_sim =  Simulation(f2d, (test_2d_asym.shape[0],test_2d_asym.shape[1]), method=test_2d_asym.method, rtol=test_2d_asym.rtol)\n",
    "\n",
    "#keep general params same\n",
    "cycle_sim.layermax = test_2d_asym.layermax * 1.5 #make sure it reaches steady state\n",
    "cycle_sim.float_params['DoverdeltaX2'] = test_2d_asym.float_params['DoverdeltaX2'] \n",
    "cycle_sim.sigma0 = test_2d_asym.sigma0\n",
    "cycle_sim.center_reduction = test_2d_asym.center_reduction\n",
    "cycle_sim.deltaT = test_2d_asym.deltaT #increase time step to decrease number of steps saved?\n",
    "cycle_sim.noisy_init = test_2d_asym.noisy_init\n",
    "\n",
    "#set up initial surface\n",
    "cycle_sim.nonstd_init = True\n",
    "ntots = test_2d_asym.getNtot()\n",
    "cycle_sim.startingNtot = ntots[len(ntots)//2] #start with the middle of the last simulation, before discretzation error\n",
    "\n",
    "#set to ablation run\n",
    "cycle_sim.sigmastepmax = -0.01\n"
   ]
  },
  {
   "cell_type": "code",
   "execution_count": null,
   "metadata": {},
   "outputs": [],
   "source": [
    "#animate ablation of growth ending surface\n",
    "anim = cycle_sim.animate(ret=True, focus_on_growth=True, proportionalSpeed=False)"
   ]
  },
  {
   "cell_type": "code",
   "execution_count": null,
   "metadata": {},
   "outputs": [],
   "source": [
    "#graph number of steps over time\n",
    "Ntot = test_2d_asym.getNtot()\n",
    "#Ntot = cycle_sim.getNtot()\n",
    "\n",
    "maxes = np.array([np.max(n) for n in Ntot[:]])\n",
    "mins = np.array([np.min(n) for n in Ntot[:]])\n",
    "\n",
    "#print(maxes,mins)\n",
    "plt.figure()\n",
    "ax = plt.subplot(111)\n",
    "\n",
    "ax.set_ylabel('Number of steps on surface')\n",
    "\n",
    "if test_2d_asym.sigmastepmax < 0: #ablation case\n",
    "    ax.set_xlabel('Total number of layers ablated')\n",
    "    ax.plot( Ntot[::-1,0,0]+test_2d_asym.layermax,maxes-mins) #flipping to show ablation progress from left to right, adding layermax to show # layers ablated instead of negative # layers grown\n",
    "else: #growth case   \n",
    "    ax.set_xlabel('Total number of layers grown')\n",
    "    ax.plot( Ntot[:,0,0],maxes-mins)\n",
    "\n",
    "plt.grid()"
   ]
  },
  {
   "cell_type": "code",
   "execution_count": null,
   "metadata": {},
   "outputs": [],
   "source": [
    "#save the animation as a gif, trying this since Simulation.save_animation is not working\n",
    "#anim.save(my_filename+'.gif',writer=PillowWriter(fps=60))"
   ]
  },
  {
   "cell_type": "code",
   "execution_count": null,
   "metadata": {},
   "outputs": [],
   "source": [
    "#save animation with built in Simulation method\n",
    "test_2d_asym.save_animation(my_filename, 'gif')"
   ]
  },
  {
   "cell_type": "code",
   "execution_count": null,
   "metadata": {},
   "outputs": [],
   "source": [
    "#plot at specific timesteps\n",
    "#cmpltion = 0.005 \n",
    "#cmpltion = 0.1\n",
    "#sim = test_2d_asym\n",
    "sim = cycle_sim\n",
    "\n",
    "for cmpltion in [0.9]:#[0.33,0.50,0.55,0.66,0.8,0.9]:  #[0,0.001,0.005]: # making plots of initial noise dissipating\n",
    "    plt.close()\n",
    "    sim.plot(completion=cmpltion, ice=True, figurename=my_filename+'_completion'+str(cmpltion))\n",
    "    #plt.savefig(my_filename+'_completion'+str(cmpltion)+'.png')"
   ]
  },
  {
   "cell_type": "code",
   "execution_count": null,
   "metadata": {},
   "outputs": [],
   "source": [
    "plt.savefig(''.join([i+'_' for i in my_id])+'.png')"
   ]
  },
  {
   "cell_type": "code",
   "execution_count": null,
   "metadata": {},
   "outputs": [],
   "source": [
    "#save the simulation to a pickle file for later use (without re-running the simulation)\n",
    "test_2d_asym.save(id=my_id)\n",
    "\n",
    "#manually save it and add compression since the 1000 layter simulation is too big\n",
    "# import pickle\n",
    "# import bz2\n",
    "# id=['asymmetric'+str(test_2d_asym.shape[0])+'_'+str(test_2d_asym.shape[1]),str(test_2d_asym.layermax)+'layers']\n",
    "# id = ''.join('_'+i for i in id)\n",
    "# filename = test_2d_asym.model.__name__+'_simulation'+id+'.pkl'\n",
    "# with open(filename, 'wb') as f:\n",
    "#     print(\"saving to\", f)\n",
    "#     pickle.dump(test_2d_asym, bz2.BZ2File(f, 'w'))"
   ]
  },
  {
   "cell_type": "markdown",
   "metadata": {},
   "source": [
    "1D model for comparison (uses same parameters as above 2d model), graphing if it also reaching steady state"
   ]
  },
  {
   "cell_type": "code",
   "execution_count": 5,
   "metadata": {},
   "outputs": [],
   "source": [
    "#create 1d sim and graph number of steps over time\n",
    "ss_1d = Simulation(f1d, (test_2d_asym.shape[0],), method=test_2d_asym.method, rtol=test_2d_asym.rtol)\n",
    "\n",
    "ss_1d.float_params['DoverdeltaX2'] = test_2d_asym.float_params['DoverdeltaX2'] \n",
    "ss_1d.layermax = test_2d_asym.layermax * 1.5 #make sure it reaches steady state\n",
    "ss_1d.sigmastepmax = test_2d_asym.sigmastepmax \n",
    "ss_1d.sigma0 = test_2d_asym.sigma0\n",
    "ss_1d.center_reduction = test_2d_asym.center_reduction\n",
    "ss_1d.deltaT = test_2d_asym.deltaT #increase time step to decrease number of steps saved?\n",
    "ss_1d.noisy_init = test_2d_asym.noisy_init\n"
   ]
  },
  {
   "cell_type": "code",
   "execution_count": 6,
   "metadata": {},
   "outputs": [],
   "source": [
    "#set the id \n",
    "my_id=['nx_'+str(ss_1d.shape[0]),str(ss_1d.layermax)+'layers',\n",
    "                                'center_reduction'+str(ss_1d.center_reduction),  'D_2', ss_1d.method, 'sigmamax_'+str(ss_1d.sigmastepmax) +'noisyinit_'+str(ss_1d.noisy_init)]\n",
    "my_filename = ''.join([i+'_' for i in my_id])"
   ]
  },
  {
   "cell_type": "code",
   "execution_count": 7,
   "metadata": {},
   "outputs": [
    {
     "name": "stdout",
     "output_type": "stream",
     "text": [
      "Warning: too many steps for discretization\n"
     ]
    },
    {
     "data": {
      "application/vnd.jupyter.widget-view+json": {
       "model_id": "c689076b6d534ce3a4e2c27660a79942",
       "version_major": 2,
       "version_minor": 0
      },
      "image/png": "[encoded data removed]",
      "text/html": [
       "\n",
       "            <div style=\"display: inline-block;\">\n",
       "                <div class=\"jupyter-widgets widget-label\" style=\"text-align: center;\">\n",
       "                    Figure\n",
       "                </div>\n",
       "                <img src='data:image/png;base64,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' width=640.0/>\n",
       "            </div>\n",
       "        "
      ],
      "text/plain": [
       "Canvas(toolbar=Toolbar(toolitems=[('Home', 'Reset original view', 'home', 'home'), ('Back', 'Back to previous …"
      ]
     },
     "metadata": {},
     "output_type": "display_data"
    }
   ],
   "source": [
    "#print number of steps over time\n",
    "Ntot = ss_1d.getNtot()\n",
    "\n",
    "maxes = np.array([np.max(n) for n in Ntot[:]])\n",
    "mins = np.array([np.min(n) for n in Ntot[:]])\n",
    "\n",
    "#print(maxes,mins)\n",
    "plt.figure()\n",
    "ax = plt.subplot(111)\n",
    "\n",
    "#ax.plot(test_f2d_sim.results()['t'],maxes-mins)\n",
    "ax.plot(Ntot[:,0],maxes-mins)\n",
    "ax.set_ylabel('Number of steps on surface')\n",
    "ax.set_xlabel('Time')\n",
    "plt.grid()"
   ]
  },
  {
   "cell_type": "code",
   "execution_count": 8,
   "metadata": {},
   "outputs": [
    {
     "data": {
      "text/plain": [
       "<matplotlib.legend.Legend at 0x296e11deca0>"
      ]
     },
     "execution_count": 8,
     "metadata": {},
     "output_type": "execute_result"
    },
    {
     "data": {
      "application/vnd.jupyter.widget-view+json": {
       "model_id": "78c02f12bbaf4e239c375343b5248ca9",
       "version_major": 2,
       "version_minor": 0
      },
      "image/png": "[encoded data removed]",
      "text/html": [
       "\n",
       "            <div style=\"display: inline-block;\">\n",
       "                <div class=\"jupyter-widgets widget-label\" style=\"text-align: center;\">\n",
       "                    fft of f(x)\n",
       "                </div>\n",
       "                <img src='data:image/png;base64,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' width=640.0/>\n",
       "            </div>\n",
       "        "
      ],
      "text/plain": [
       "Canvas(toolbar=Toolbar(toolitems=[('Home', 'Reset original view', 'home', 'home'), ('Back', 'Back to previous …"
      ]
     },
     "metadata": {},
     "output_type": "display_data"
    }
   ],
   "source": [
    "#fourier analysis\n",
    "xs = Ntot[:,0]\n",
    "ys = maxes-mins\n",
    "ys_fft = np.fft.fft(ys)\n",
    "freq = np.fft.fftfreq(xs.shape[-1])\n",
    "\n",
    "#plot the fft\n",
    "#plt.figure('Real and imaginary parts of FFT in freq domain')\n",
    "plt.figure('fft of f(x)')\n",
    "ax = plt.axes()\n",
    "#ax.plot(freq, ys_fft.real, label='real')\n",
    "#ax.plot(freq, ys_fft.imag, label='imaginary')\n",
    "\n",
    "ax.plot(freq, np.sqrt(ys_fft.real**2 + ys_fft.imag**2), label='magnitude')\n",
    "#ax.plot(freq, np.abs(ys_fft), label='magnitude')\n",
    "#ax.stem(freq, np.abs(ys_fft), 'b', \\\n",
    "#         markerfmt=\" \", basefmt=\"-b\",label='magnitude')\n",
    "\n",
    "ax.set_xlabel('Frequency')\n",
    "ax.set_ylabel('Magnitude')\n",
    "\n",
    "#plot the fft of just the part before numerical instability\\\n",
    "cutpoint = int(len(ys)*2/5)\n",
    "ys = ys[:cutpoint]\n",
    "xs = xs[:cutpoint]\n",
    "ys_fft = np.fft.fft(ys)\n",
    "freq = np.fft.fftfreq(xs.shape[-1])\n",
    "ax.plot(freq, np.sqrt(ys_fft.real**2 + ys_fft.imag**2), label='magnitude pre-instabilty')\n",
    "\n",
    "\n",
    "#plot the fft with high frequencies filtered out\n",
    "# ys_fft_filtered = ys_fft.copy()\n",
    "# ys_fft_filtered[np.abs(freq) > 0.1] = 0\n",
    "# ax.plot(freq, np.abs(ys_fft_filtered), label='magnitude filtered')\n",
    "\n",
    "#ax.stem(freq, np.abs(ys_fft_filtered), 'r', \\\n",
    "#         markerfmt=\" \", basefmt=\"-r\",label='magnitude filtered')\n",
    "ax.legend()\n"
   ]
  },
  {
   "cell_type": "code",
   "execution_count": null,
   "metadata": {},
   "outputs": [],
   "source": []
  },
  {
   "cell_type": "code",
   "execution_count": null,
   "metadata": {},
   "outputs": [],
   "source": [
    "#plot \n",
    "#cmpltion = 0.005 \n",
    "cmpltion = 0.1\n",
    "\n",
    "#for cmpltion in map(lambda x: x*3,[0,0.001,0.005]): # making plots of initial noise dissipating\n",
    "ss_1d.plot(completion=cmpltion, ice=True, figurename=my_filename+'_completion'+str(cmpltion))\n",
    "plt.savefig(my_filename+'_completion'+str(cmpltion)+'.png')\n",
    "plt.close()\n"
   ]
  },
  {
   "cell_type": "code",
   "execution_count": null,
   "metadata": {},
   "outputs": [],
   "source": [
    "#test_2d_asym.save(id=['asymmetric'+str(test_2d_asym.shape[0])+'_'+str(test_2d_asym.shape[1]),str(test_2d_asym.layermax)+'layers'])\n",
    "#symm = Simulation(f2d,(500,500),rtol=1e-12)"
   ]
  },
  {
   "cell_type": "code",
   "execution_count": null,
   "metadata": {},
   "outputs": [],
   "source": [
    "#countour plot of sigmastep 2d\n",
    "plt.figure()\n",
    "ax = plt.axes(projection='3d')\n",
    "plt.xlabel(r'x ($\\mu m$)')\n",
    "plt.ylabel(r'y ($\\mu m$)')\n",
    "#ax.set_zlabel('Layers of ice')\n",
    "#levels = np.arange(19,21,0.1)\n",
    "ax.contourf(xgrid,ygrid, sigma*100, extent=(0, 2, 0, 2), cmap='YlGnBu_r', vmin=0, vmax=200, zorder=1)#, levels=levels)"
   ]
  },
  {
   "cell_type": "code",
   "execution_count": null,
   "metadata": {},
   "outputs": [],
   "source": [
    "#countour plot of sigmastep 2d\n",
    "print(xs.shape,ys.shape,sigma.shape)\n",
    "fig,ax = plt.subplots()\n",
    "CS = ax.contourf(xs.T,ys.T,sigma*100)\n",
    "ax.set_xlabel(r'$x (\\mu m)$', fontsize=20)\n",
    "ax.set_ylabel(r'$y (\\mu m)$', fontsize=20)\n",
    "plt.grid(True)\n",
    "plt.gca().set_aspect('equal')\n",
    "fig.colorbar(CS)\n",
    "plt.title('%supersaturation (getsigmastep_2d)')"
   ]
  },
  {
   "cell_type": "markdown",
   "metadata": {},
   "source": [
    "2D Growth simulation"
   ]
  },
  {
   "cell_type": "code",
   "execution_count": null,
   "metadata": {},
   "outputs": [],
   "source": [
    "#create the 2d sim\n",
    "test_f2d_sim = Simulation(f2d, (250,250), rtol=1e-12)\n",
    "test_f2d_sim.layermax = 50#0\n",
    "#test_f2d_sim.run()\n",
    "#test_f2d_sim.save(_id=['test','50layer'])"
   ]
  },
  {
   "cell_type": "code",
   "execution_count": null,
   "metadata": {},
   "outputs": [],
   "source": [
    "#animate the 2d sim\n",
    "test_f2d_sim.animate(crossSection=True)"
   ]
  },
  {
   "cell_type": "code",
   "execution_count": null,
   "metadata": {},
   "outputs": [],
   "source": [
    "#print variables in 1d simulation for comparison to literature\n",
    "for k,v in test_f2d_sim._extra_vars.items():\n",
    "    print(k,v)\n",
    "print('center reduction %: ', test_f2d_sim.center_reduction)"
   ]
  },
  {
   "cell_type": "code",
   "execution_count": null,
   "metadata": {},
   "outputs": [],
   "source": [
    "#print number of steps over time\n",
    "Ntot = test_f2d_sim.getNtot()\n",
    "\n",
    "maxes = np.array([np.max(n) for n in Ntot[:]])\n",
    "mins = np.array([np.min(n) for n in Ntot[:]])\n",
    "\n",
    "#print(maxes,mins)\n",
    "plt.figure()\n",
    "ax = plt.subplot(111)\n",
    "\n",
    "#ax.plot(test_f2d_sim.results()['t'],maxes-mins)\n",
    "ax.plot(Ntot[:,0,0],maxes-mins)\n",
    "#ax.plot(test_f2d_sim.results()['t'],test_f2d_sim.results()['t'])\n",
    "plt.grid()"
   ]
  },
  {
   "cell_type": "code",
   "execution_count": null,
   "metadata": {},
   "outputs": [],
   "source": [
    "#animate test_f2d_sim\n",
    "\n",
    "test_f2d_sim.animate(ice=True)"
   ]
  },
  {
   "cell_type": "code",
   "execution_count": null,
   "metadata": {},
   "outputs": [],
   "source": [
    "#test_f2d_sim = loadSim('f2d_simulation_test_50layer.pkl') "
   ]
  },
  {
   "cell_type": "code",
   "execution_count": null,
   "metadata": {},
   "outputs": [],
   "source": [
    "#graph results normalized to minimum of ice surface\n",
    "Fliq_ss, Ntot_steadystate = test_f2d_sim.normalize_results_to_min()\n",
    "nice_ss = Ntot_steadystate-Fliq_ss\n",
    "print(np.shape(Ntot_steadystate))\n",
    "xs, ys = np.meshgrid(test_f2d_sim.x, test_f2d_sim.y)\n",
    "\n",
    "fig = plt.figure(figsize=(12,12))\n",
    "ax = plt.axes(projection = '3d')\n",
    "#ax.plot_surface(test_f2d_sim._results['t'], Ntot_steadystate[:,])\n",
    "ax.set_xlabel(r'$x (\\mu m$)')#,fontsize=fontsize)\n",
    "ax.set_ylabel(r'$y (\\mu m$)')#,fontsize=fontsize)\n",
    "ax.set_zlabel(r'$ice \\ layers$')#,fontsize=fontsize)\n",
    "#limits\n",
    "#ax.set_zlim3d(-self.layermax, self.layermax)\n",
    "#ax.set_ylim(0, max(self.y))\n",
    "#ax.set_xlim(0, max(self.x))\n",
    "def update_fig(num):\n",
    "    ax.clear() # remove last iteration of plot \n",
    "    plot_func = ax.plot_surface\n",
    "    # if crossSection:\n",
    "    #     xmid = round(np.shape(Nice)[0]/2)\n",
    "    #     if ice:\n",
    "    #         plot_func(X=xs[xmid:], Y=ys[xmid:], Z=nice_ss[num][xmid:][:],cmap ='viridis')# cmap='viridis')#, vmin=0, vmax=200) #plot half of the surface of the ice\n",
    "    #     if tot:\n",
    "    #         plot_func(X=xs[xmid:], Y=ys[xmid:], Z=Ntot_steadystate[num][xmid:][:], cmap='cividis')#, vmin=0, vmax=200) #plot half the surface of the QLL\n",
    "    # else:\n",
    "    #     if ice:\n",
    "    plot_func(X=xs, Y=ys, Z=nice_ss[num], cmap='viridis')#, vmin=0, vmax=200) #plot the surface of the ice \n",
    "        # if tot:\n",
    "    # plot_func(X=xs, Y=ys, Z=Ntot_steadystate[num], cmap='YlGnBu_r')#, vmin=0, vmax=200)#plot the surface of the QLL\n",
    "    pass\n",
    "\n",
    "\n",
    "num_steps = len(test_f2d_sim._results['t'])\n",
    "import matplotlib.animation as animation\n",
    "ani = animation.FuncAnimation(fig , update_fig, num_steps, interval=50, blit=False, cache_frame_data=False, repeat = True)\n",
    "plt.show()"
   ]
  },
  {
   "cell_type": "code",
   "execution_count": null,
   "metadata": {},
   "outputs": [],
   "source": [
    "#graph difference in steps over time: should converge to zero if steady state is reached\n",
    "Fliq_ss, Ntot_steadystate = test_f2d_sim.steady_state_calc()\n",
    "nice_ss = Ntot_steadystate-Fliq_ss\n",
    "print(np.shape(Ntot_steadystate))\n",
    "xs, ys = np.meshgrid(test_f2d_sim.x, test_f2d_sim.y)\n",
    "\n",
    "fig = plt.figure(figsize=(12,12))\n",
    "ax = plt.axes(projection = '3d')\n",
    "#ax.plot_surface(test_f2d_sim._results['t'], Ntot_steadystate[:,])\n",
    "ax.set_xlabel(r'$x (\\mu m$)')#,fontsize=fontsize)\n",
    "ax.set_ylabel(r'$y (\\mu m$)')#,fontsize=fontsize)\n",
    "ax.set_zlabel(r'$ice \\ layers$')#,fontsize=fontsize)\n",
    "#limits\n",
    "#ax.set_zlim3d(-self.layermax, self.layermax)\n",
    "#ax.set_ylim(0, max(self.y))\n",
    "#ax.set_xlim(0, max(self.x))\n",
    "def update_fig(num):\n",
    "    ax.clear() # remove last iteration of plot \n",
    "    plot_func = ax.plot_surface\n",
    "    # if crossSection:\n",
    "    #     xmid = round(np.shape(Nice)[0]/2)\n",
    "    #     if ice:\n",
    "    #         plot_func(X=xs[xmid:], Y=ys[xmid:], Z=nice_ss[num][xmid:][:],cmap ='viridis')# cmap='viridis')#, vmin=0, vmax=200) #plot half of the surface of the ice\n",
    "    #     if tot:\n",
    "    #         plot_func(X=xs[xmid:], Y=ys[xmid:], Z=Ntot_steadystate[num][xmid:][:], cmap='cividis')#, vmin=0, vmax=200) #plot half the surface of the QLL\n",
    "    # else:\n",
    "    #     if ice:\n",
    "    plot_func(X=xs, Y=ys, Z=nice_ss[num], cmap='viridis')#, vmin=0, vmax=200) #plot the surface of the ice \n",
    "        # if tot:\n",
    "    # plot_func(X=xs, Y=ys, Z=Ntot_steadystate[num], cmap='YlGnBu_r')#, vmin=0, vmax=200)#plot the surface of the QLL\n",
    "    pass\n",
    "\n",
    "\n",
    "num_steps = len(test_f2d_sim._results['t'])\n",
    "import matplotlib.animation as animation\n",
    "ani = animation.FuncAnimation(fig , update_fig, num_steps, interval=50, blit=False, cache_frame_data=False, repeat = True)\n",
    "plt.show()"
   ]
  },
  {
   "cell_type": "code",
   "execution_count": null,
   "metadata": {},
   "outputs": [],
   "source": [
    "test_2d_sim = Simulation(f2d, (500,500), rtol=1e-12)\n",
    "test_2d_sim.layermax = 2\n",
    "#test_2d_sim = loadSim('f2d_simulation_august13.pkl')\n",
    "_plot = test_2d_sim.plot()"
   ]
  },
  {
   "cell_type": "markdown",
   "metadata": {},
   "source": [
    "1d simulation "
   ]
  },
  {
   "cell_type": "code",
   "execution_count": null,
   "metadata": {},
   "outputs": [],
   "source": [
    "test_2d_sim.save(id=['august13'])"
   ]
  },
  {
   "cell_type": "code",
   "execution_count": null,
   "metadata": {},
   "outputs": [],
   "source": [
    "fig = plt.figure()\n",
    "ax = plt.axes(projection='3d')\n",
    "num_steps = len(test_2d_sim.results()['t'])\n",
    "xs,ys = np.meshgrid(test_2d_sim.x, test_2d_sim.y)\n",
    "ax.plot_surface(X=xs, Y=ys, Z=test_2d_sim.getNtot()[num_steps-1], cmap='viridis')"
   ]
  },
  {
   "cell_type": "code",
   "execution_count": null,
   "metadata": {},
   "outputs": [],
   "source": [
    "test_1d = Simulation(f1d, shape=(500,), rtol=1e-12)\n",
    "test_1d.layermax = 500\n",
    "test_1d.results()"
   ]
  },
  {
   "cell_type": "code",
   "execution_count": null,
   "metadata": {},
   "outputs": [],
   "source": [
    "#test_1d.animate(ice=True, tot=True)\n",
    "test_1d.plot()"
   ]
  },
  {
   "cell_type": "markdown",
   "metadata": {},
   "source": []
  },
  {
   "cell_type": "markdown",
   "metadata": {},
   "source": [
    "2d Idea: increase sigmastepmax to see if faceted growth occur, removing the concave \"bowl\" forming at the center of initially tested 2d systems (test_f2d_sim)"
   ]
  },
  {
   "cell_type": "code",
   "execution_count": null,
   "metadata": {},
   "outputs": [],
   "source": [
    "# sigma_test = Simulation(f2d, (500,500),rtol = 1e-12)\n",
    "# sigma_test.layermax = 100\n",
    "# sigma_test.sigmastepmax = 0.25\n",
    "# sigma_test.results()"
   ]
  },
  {
   "cell_type": "code",
   "execution_count": null,
   "metadata": {},
   "outputs": [],
   "source": [
    "#sigma_id = ['sigmastepmax_'+str(round(100*sigma_test.sigmastepmax)), str(sigma_test.layermax)+'layers']\n",
    "#sigma_test.save(id=sigma_id)\n",
    "\n",
    "#test increased layers with increased sigmastep\n",
    "\n",
    "#sigma_test = loadSim('f2d_simulation_sigmastepmax_025.pkl') # 20 layers?\n",
    "#sigma_test = loadSim('f2d_simulation_sigmastepmax_025_50layers.pkl')\n",
    "sigma_test = loadSim('f2d_simulation_sigmastepmax_25_100layers.pkl')"
   ]
  },
  {
   "cell_type": "code",
   "execution_count": null,
   "metadata": {},
   "outputs": [],
   "source": [
    "sigma_test.animate()"
   ]
  },
  {
   "cell_type": "markdown",
   "metadata": {},
   "source": [
    "2d Ablation testing"
   ]
  },
  {
   "cell_type": "code",
   "execution_count": null,
   "metadata": {},
   "outputs": [],
   "source": [
    "f2d_ablate = Simulation(f2d, (500,500), rtol=1e-12)\n",
    "f2d_ablate.sigmastepmax = -0.1\n",
    "f2d_ablate.layermax = 50\n",
    "f2d_ablate.animate()"
   ]
  },
  {
   "cell_type": "markdown",
   "metadata": {},
   "source": [
    "1d growth testing. Works, however does not currently match the literature graph despite using the same parameters."
   ]
  },
  {
   "cell_type": "code",
   "execution_count": null,
   "metadata": {},
   "outputs": [],
   "source": [
    "f1d_sim = Simulation(f1d, (500,), rtol=1e-12)"
   ]
  },
  {
   "cell_type": "code",
   "execution_count": null,
   "metadata": {},
   "outputs": [],
   "source": [
    "#change parameters to match Gladich et al paper's graph and run simulation\n",
    "f1d_sim.layermax = 500#10000\n",
    "#f1d_sim.center_reduction = 0.25 #is default now"
   ]
  },
  {
   "cell_type": "code",
   "execution_count": null,
   "metadata": {},
   "outputs": [],
   "source": [
    "f1d_sim.run()"
   ]
  },
  {
   "cell_type": "code",
   "execution_count": null,
   "metadata": {},
   "outputs": [],
   "source": [
    "fig = f1d_sim.plot(completion=0.99, ice=True, tot=True)"
   ]
  },
  {
   "cell_type": "code",
   "execution_count": null,
   "metadata": {},
   "outputs": [],
   "source": [
    "#print variables in 1d simulation for comparison to literature\n",
    "for k,v in f1d_sim._extra_vars.items():\n",
    "    print(k,v)\n",
    "print('center reduction %: ', f1d_sim.center_reduction)"
   ]
  },
  {
   "cell_type": "code",
   "execution_count": null,
   "metadata": {},
   "outputs": [],
   "source": [
    "#functions tested so far\n",
    "#test_f2d_sim.countermax_0D\n",
    "#test_f2d_sim.countermax_1D\n",
    "#test_f2d_sim.countermax_2D\n",
    "#test_f2d_sim.atol\n",
    "#test_f2d_sim.rtol\n",
    "#test_f2d_sim.deltaT\n",
    "#test_f2d_sim.float_params\n",
    "#test_f2d_sim.animate()\n",
    "#test_f2d_sim.run()\n",
    "#test_f2d_sim.steady_state_calc()\n",
    "#test_f2d_sim.plot()\n",
    "#test_f2d_sim.save()\n",
    "#test_f2d_sim.load() #WORKS to load simulation from file if simulation object exists already -- for loading straght froom file use loadSim()\n",
    "#loadSim() #works\n",
    "\n"
   ]
  },
  {
   "cell_type": "code",
   "execution_count": null,
   "metadata": {},
   "outputs": [],
   "source": [
    "num_steps = len(test_f2d_sim.results()['t'])\n",
    "#shape of results is (num_steps, 2, nx, ny)\n",
    "Fliq, Ntot = [],[]\n",
    "for step in range(num_steps):\n",
    "    next_Fliq, next_Ntot = test_f2d_sim._results['y'][step]\n",
    "    Fliq.append(next_Fliq)\n",
    "    Ntot.append(next_Ntot)    \n",
    "Fliq,Ntot = np.array(Fliq), np.array(Ntot)\n",
    "Nice = Ntot - Fliq\n",
    "#shape of fliq, ntot and nice should be (num_steps, nx, ny)\n",
    "\n",
    "#access coordinate arrays for plotting\n",
    "xs, ys = np.meshgrid(test_f2d_sim.x, test_f2d_sim.y)"
   ]
  },
  {
   "cell_type": "code",
   "execution_count": null,
   "metadata": {},
   "outputs": [],
   "source": [
    "print(num_steps)\n",
    "print(test_f2d_sim.steepness(0,slice(0,test_f2d_sim.shape[0]//2)))"
   ]
  },
  {
   "cell_type": "code",
   "execution_count": null,
   "metadata": {},
   "outputs": [],
   "source": [
    "print(test_f2d_sim.get_step_density(0,slice(0,test_f2d_sim.shape[0]//2)))  "
   ]
  },
  {
   "cell_type": "code",
   "execution_count": null,
   "metadata": {},
   "outputs": [],
   "source": []
  }
 ],
 "metadata": {
  "kernelspec": {
   "display_name": "Python 3.9.13 64-bit (microsoft store)",
   "language": "python",
   "name": "python3"
  },
  "language_info": {
   "codemirror_mode": {
    "name": "ipython",
    "version": 3
   },
   "file_extension": ".py",
   "mimetype": "text/x-python",
   "name": "python",
   "nbconvert_exporter": "python",
   "pygments_lexer": "ipython3",
   "version": "3.9.13"
  },
  "orig_nbformat": 4,
  "vscode": {
   "interpreter": {
    "hash": "a5639f55dd41388b289936a35ec1befe471f3e8ab332c7f154620eef02aaf2e9"
   }
  }
 },
 "nbformat": 4,
 "nbformat_minor": 2
}
