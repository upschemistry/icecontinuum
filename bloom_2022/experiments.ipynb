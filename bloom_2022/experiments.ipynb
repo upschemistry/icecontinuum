{
 "cells": [
  {
   "cell_type": "code",
   "execution_count": 1,
   "metadata": {},
   "outputs": [
    {
     "name": "stderr",
     "output_type": "stream",
     "text": [
      "C:\\Users\\Max-PC\\AppData\\Local\\Packages\\PythonSoftwareFoundation.Python.3.9_qbz5n2kfra8p0\\LocalCache\\local-packages\\Python39\\site-packages\\llvmlite\\llvmpy\\__init__.py:3: UserWarning: The module `llvmlite.llvmpy` is deprecated and will be removed in the future.\n",
      "  warnings.warn(\n",
      "C:\\Users\\Max-PC\\AppData\\Local\\Packages\\PythonSoftwareFoundation.Python.3.9_qbz5n2kfra8p0\\LocalCache\\local-packages\\Python39\\site-packages\\llvmlite\\llvmpy\\core.py:8: UserWarning: The module `llvmlite.llvmpy.core` is deprecated and will be removed in the future. Equivalent functionality is provided by `llvmlite.ir`.\n",
      "  warnings.warn(\n",
      "C:\\Users\\Max-PC\\AppData\\Local\\Packages\\PythonSoftwareFoundation.Python.3.9_qbz5n2kfra8p0\\LocalCache\\local-packages\\Python39\\site-packages\\llvmlite\\llvmpy\\passes.py:17: UserWarning: The module `llvmlite.llvmpy.passes` is deprecated and will be removed in the future. If you are using this code, it should be inlined into your own project.\n",
      "  warnings.warn(\n"
     ]
    }
   ],
   "source": [
    "import numpy as np\n",
    "from matplotlib import pyplot as plt\n",
    "from matplotlib import rcParams\n",
    "import time\n",
    "from copy import copy\n",
    "\n",
    "from sim_handling import Simulation,loadSim #uses ds7, both PDES leads to stable solution\n",
    "from diffusionstuff7 import f0d,f1d,f2d, getsigmastep_2d\n",
    "#from sim_handling2 import Simulation,loadSim #ds8: faster, more space efficient\n",
    "#from diffusionstuff8 import f0d,f1d,f2d, getsigmastep_2d\n",
    "from matplotlib.animation import PillowWriter"
   ]
  },
  {
   "cell_type": "code",
   "execution_count": 2,
   "metadata": {},
   "outputs": [],
   "source": [
    "%matplotlib widget\n",
    "\n",
    "#set figsize to be big (12,12) inches\n",
    "#rcParams['figure.figsize'] = 10,10"
   ]
  },
  {
   "cell_type": "markdown",
   "metadata": {},
   "source": [
    "assymettric 2d growth"
   ]
  },
  {
   "cell_type": "code",
   "execution_count": null,
   "metadata": {},
   "outputs": [],
   "source": [
    "#load a simulation\n",
    "\n",
    "#load the ablation with initial noise run\n",
    "#test_2d_asym = loadSim('f2d_simulation_asymmetric250_200_500layers_center_reduction0.1_D_2_RK45_sigmamax_-0.01noisyinit_True.pkl')\n",
    "\n",
    "#load the growth with initial noise run\n",
    "#test_2d_asym = loadSim('f2d_simulation_asymmetric250_200_500layers_center_reduction0.1_D_2_RK45_sigmamax_0.2noisyinit_True.pkl')\n"
   ]
  },
  {
   "cell_type": "code",
   "execution_count": 12,
   "metadata": {},
   "outputs": [],
   "source": [
    "#set up and run and plot a new simulation\n",
    "test_2d_asym = Simulation(f2d, (200,250), method='RK45')\n",
    "\n",
    "test_2d_asym.discretization_halt = False\n",
    "\n",
    "#try a noisy simulation\n",
    "test_2d_asym.noisy_init = False\n",
    "\n",
    "#test_2d_asym.float_params['DoverdeltaX2'] *= 2 \n",
    "test_2d_asym.layermax = 700\n",
    "test_2d_asym.sigmastepmax= -0.02#ablation\n",
    "#test_2d_asym.sigmastepmax= 0.20 #growth\n",
    "#test_2d_asym.center_reduction = 0.25\n",
    "#test_2d_asym.deltaT *= 10 #increase time step to decrease number of steps saved\n",
    "\n",
    "#_plot = test_2d_asym.plot(tot=True,completion=1)\n",
    "#anim = test_2d_asym.animate(ice=True,surface=True, ret=True, focus_on_growth=True)"
   ]
  },
  {
   "cell_type": "code",
   "execution_count": null,
   "metadata": {},
   "outputs": [],
   "source": [
    "my_id=['asymmetric'+str(test_2d_asym.shape[0])+'_'+str(test_2d_asym.shape[1]),str(test_2d_asym.layermax)+'layers',\n",
    "                                'center_reduction'+str(test_2d_asym.center_reduction),  'D_2', test_2d_asym.method, 'sigmamax_'+str(test_2d_asym.sigmastepmax) +'noisyinit_'+str(test_2d_asym.noisy_init)] #'Cy_0_Dy0',\n",
    "my_filename = ''.join([i+'_' for i in my_id])"
   ]
  },
  {
   "cell_type": "code",
   "execution_count": null,
   "metadata": {},
   "outputs": [],
   "source": [
    "#calcs to graph asymmetric sigmastep2d\n",
    "xs,ys = test_2d_asym.x, test_2d_asym.y #linspace\n",
    "sigma = getsigmastep_2d(xs,ys, test_2d_asym.center_reduction, test_2d_asym.sigmastepmax)\n",
    "ygrid,xgrid = np.meshgrid(ys,xs) #2d mesh for plotting"
   ]
  },
  {
   "cell_type": "code",
   "execution_count": null,
   "metadata": {},
   "outputs": [],
   "source": [
    "#countour plot of sigmastep 2d\n",
    "print(xs.shape,ys.shape,sigma.shape)\n",
    "fig,ax = plt.subplots()\n",
    "CS = ax.contourf(xgrid,ygrid,sigma*100,np.arange(np.min(sigma*100)-0.01,np.max(sigma*100)+0.01,0.01))\n",
    "#CS = ax.contourf(xgrid,ygrid,xgrid) #graph x\n",
    "#CS = ax.contourf(xgrid,ygrid,ygrid) #graph y\n",
    "ax.set_xlabel(r'$x (\\mu m)$', fontsize=20)\n",
    "ax.set_ylabel(r'$y (\\mu m)$', fontsize=20)\n",
    "plt.grid(True)\n",
    "plt.gca().set_aspect('equal')\n",
    "fig.colorbar(CS)\n",
    "plt.title('%supersaturation (getsigmastep_2d)')\n",
    "print(xgrid.shape,ygrid.shape)"
   ]
  },
  {
   "cell_type": "code",
   "execution_count": null,
   "metadata": {},
   "outputs": [],
   "source": [
    "#animate the simulation (runs if needed)\n",
    "#test_2d_asym.run(halve_time_res=True) #only saves half the time steps since it is a huge simulation\n",
    "\n",
    "anim = test_2d_asym.animate(ret=True, focus_on_growth=True, proportionalSpeed=False)"
   ]
  },
  {
   "cell_type": "code",
   "execution_count": null,
   "metadata": {},
   "outputs": [],
   "source": [
    "#start a second simulation starting with the ending surface of the first \n",
    "# as the initial surface\n",
    "\n",
    "#create 1d sim and graph number of steps over time\n",
    "cycle_sim =  Simulation(f2d, (test_2d_asym.shape[0],test_2d_asym.shape[1]), method=test_2d_asym.method, rtol=test_2d_asym.rtol)\n",
    "\n",
    "#keep general params same\n",
    "cycle_sim.layermax = test_2d_asym.layermax * 1.5 #make sure it reaches steady state\n",
    "cycle_sim.float_params['DoverdeltaX2'] = test_2d_asym.float_params['DoverdeltaX2'] \n",
    "cycle_sim.sigma0 = test_2d_asym.sigma0\n",
    "cycle_sim.center_reduction = test_2d_asym.center_reduction\n",
    "cycle_sim.deltaT = test_2d_asym.deltaT #increase time step to decrease number of steps saved?\n",
    "cycle_sim.noisy_init = test_2d_asym.noisy_init\n",
    "\n",
    "#set up initial surface\n",
    "cycle_sim.nonstd_init = True\n",
    "ntots = test_2d_asym.getNtot()\n",
    "cycle_sim.startingNtot = ntots[len(ntots)//2] #start with the middle of the last simulation, before discretzation error\n",
    "\n",
    "#set to ablation run\n",
    "cycle_sim.sigmastepmax = -0.01\n"
   ]
  },
  {
   "cell_type": "code",
   "execution_count": null,
   "metadata": {},
   "outputs": [],
   "source": [
    "#animate ablation of growth ending surface\n",
    "anim = cycle_sim.animate(ret=True, focus_on_growth=True, proportionalSpeed=False)"
   ]
  },
  {
   "cell_type": "code",
   "execution_count": null,
   "metadata": {},
   "outputs": [],
   "source": [
    "#graph number of steps over time\n",
    "Ntot = test_2d_asym.getNtot()\n",
    "#Ntot = cycle_sim.getNtot()\n",
    "\n",
    "maxes = np.array([np.max(n) for n in Ntot[:]])\n",
    "mins = np.array([np.min(n) for n in Ntot[:]])\n",
    "\n",
    "#print(maxes,mins)\n",
    "plt.figure()\n",
    "ax = plt.subplot(111)\n",
    "\n",
    "ax.set_ylabel('Number of steps on surface')\n",
    "\n",
    "if test_2d_asym.sigmastepmax < 0: #ablation case\n",
    "    ax.set_xlabel('Total number of layers ablated')\n",
    "    ax.plot( Ntot[::-1,0,0]+test_2d_asym.layermax,maxes-mins) #flipping to show ablation progress from left to right, adding layermax to show # layers ablated instead of negative # layers grown\n",
    "else: #growth case   \n",
    "    ax.set_xlabel('Total number of layers grown')\n",
    "    ax.plot( Ntot[:,0,0],maxes-mins)\n",
    "\n",
    "plt.grid()"
   ]
  },
  {
   "cell_type": "code",
   "execution_count": null,
   "metadata": {},
   "outputs": [],
   "source": [
    "#save the animation as a gif, trying this since Simulation.save_animation is not working\n",
    "#anim.save(my_filename+'.gif',writer=PillowWriter(fps=60))\n",
    "\n"
   ]
  },
  {
   "cell_type": "code",
   "execution_count": null,
   "metadata": {},
   "outputs": [],
   "source": [
    "#save animation with built in Simulation method\n",
    "test_2d_asym.save_animation(my_filename, 'gif')"
   ]
  },
  {
   "cell_type": "code",
   "execution_count": null,
   "metadata": {},
   "outputs": [],
   "source": [
    "#plot at specific timesteps\n",
    "#cmpltion = 0.005 \n",
    "#cmpltion = 0.1\n",
    "#sim = test_2d_asym\n",
    "sim = cycle_sim\n",
    "\n",
    "for cmpltion in [0.9]:#[0.33,0.50,0.55,0.66,0.8,0.9]:  #[0,0.001,0.005]: # making plots of initial noise dissipating\n",
    "    plt.close()\n",
    "    sim.plot(completion=cmpltion, ice=True, figurename=my_filename+'_completion'+str(cmpltion))\n",
    "    #plt.savefig(my_filename+'_completion'+str(cmpltion)+'.png')"
   ]
  },
  {
   "cell_type": "code",
   "execution_count": null,
   "metadata": {},
   "outputs": [],
   "source": [
    "plt.savefig(''.join([i+'_' for i in my_id])+'.png')"
   ]
  },
  {
   "cell_type": "code",
   "execution_count": null,
   "metadata": {},
   "outputs": [],
   "source": [
    "#save the simulation to a pickle file for later use (without re-running the simulation)\n",
    "test_2d_asym.save(id=my_id)\n",
    "\n",
    "#manually save it and add compression since the 1000 layter simulation is too big\n",
    "# import pickle\n",
    "# import bz2\n",
    "# id=['asymmetric'+str(test_2d_asym.shape[0])+'_'+str(test_2d_asym.shape[1]),str(test_2d_asym.layermax)+'layers']\n",
    "# id = ''.join('_'+i for i in id)\n",
    "# filename = test_2d_asym.model.__name__+'_simulation'+id+'.pkl'\n",
    "# with open(filename, 'wb') as f:\n",
    "#     print(\"saving to\", f)\n",
    "#     pickle.dump(test_2d_asym, bz2.BZ2File(f, 'w'))"
   ]
  },
  {
   "cell_type": "markdown",
   "metadata": {},
   "source": [
    "1D model for comparison (uses same parameters as above 2d model), graphing if it also reaching steady state"
   ]
  },
  {
   "cell_type": "code",
   "execution_count": 13,
   "metadata": {},
   "outputs": [],
   "source": [
    "#create 1d sim and graph number of steps over time\n",
    "#ss_1d = Simulation(f1d, (test_2d_asym.shape[0],), method=test_2d_asym.method, rtol=test_2d_asym.rtol)\n",
    "ss_1d = Simulation(f1d, (500,), method=test_2d_asym.method, rtol=test_2d_asym.rtol)\n",
    "\n",
    "ss_1d.float_params['DoverdeltaX2'] = test_2d_asym.float_params['DoverdeltaX2'] \n",
    "ss_1d.layermax = test_2d_asym.layermax * 1.5 #make sure it reaches steady state\n",
    "ss_1d.sigmastepmax = test_2d_asym.sigmastepmax \n",
    "ss_1d.sigma0 = test_2d_asym.sigma0\n",
    "ss_1d.center_reduction = test_2d_asym.center_reduction\n",
    "ss_1d.deltaT = test_2d_asym.deltaT #increase time step to decrease number of steps saved?\n",
    "ss_1d.noisy_init = test_2d_asym.noisy_init\n"
   ]
  },
  {
   "cell_type": "code",
   "execution_count": null,
   "metadata": {},
   "outputs": [],
   "source": [
    "#set the id \n",
    "my_id=['nx_'+str(ss_1d.shape[0]),str(ss_1d.layermax)+'layers',\n",
    "                                'center_reduction'+str(ss_1d.center_reduction),  'D_2', ss_1d.method, 'sigmamax_'+str(ss_1d.sigmastepmax) +'noisyinit_'+str(ss_1d.noisy_init)]\n",
    "my_filename = ''.join([i+'_' for i in my_id])"
   ]
  },
  {
   "cell_type": "code",
   "execution_count": 14,
   "metadata": {},
   "outputs": [
    {
     "name": "stdout",
     "output_type": "stream",
     "text": [
      "breaking because reached max number of layers ablated\n"
     ]
    },
    {
     "data": {
      "application/vnd.jupyter.widget-view+json": {
       "model_id": "3d310aa7e9cb4175b531de0c8158058e",
       "version_major": 2,
       "version_minor": 0
      },
      "image/png": "[encoded data removed]",
      "text/html": [
       "\n",
       "            <div style=\"display: inline-block;\">\n",
       "                <div class=\"jupyter-widgets widget-label\" style=\"text-align: center;\">\n",
       "                    Figure\n",
       "                </div>\n",
       "                <img src='data:image/png;base64,iVBORw0KGgoAAAANSUhEUgAAAoAAAAHgCAYAAAA10dzkAAAAOXRFWHRTb2Z0d2FyZQBNYXRwbG90bGliIHZlcnNpb24zLjUuMiwgaHR0cHM6Ly9tYXRwbG90bGliLm9yZy8qNh9FAAAACXBIWXMAAA9hAAAPYQGoP6dpAABYsUlEQVR4nO3deVhUZcMG8HsGhkEU3FDcUNxxBcRQXMqFJSVfzRbLyqXSFk2T0sAUxA20NLNc0sSlMi3zzdckFlEzlTQV3MVUEBdwQwFBYYDz/eHnFIHKMmeemTn377q8cg5nztzzgMPdWZ6jkiRJAhEREREphlp0ACIiIiIyLhZAIiIiIoVhASQiIiJSGBZAIiIiIoVhASQiIiJSGBZAIiIiIoVhASQiIiJSGBZAIiIiIoVhASQiIiJSGBZAIiIiIoVhASQiIiJSGBZAIiIiIoVhASQiIiJSGBZAIiIiIoVhASQiIiJSGBZAIiIiIoVhASQiIiJSGBZAIiIiIoVhASQiIiJSGBZAIiIiIoVhASQiIiJSGBZAIiIiIoVhASQiIiJSGBZAIiIiIoVhASQiIiJSGBZAIiIiIoVhASQiIiJSGBZAIiIiIoVhASQiIiJSGBZAIiIiIoVhASQiIiJSGBZAIiIiIoVhASQiIiJSGBZAIiIiIoVhASQiIiJSGBZAIiIiIoVhASQiIiJSGBZAIiIiIoVhASQiIiJSGBZAIiIiIoVhASQiIiJSGBZAIiIiIoVhASQiIiJSGBZAIiIiIoVhASQiIiJSGBZAIiIiIoVhASQiIiJSGBZAIiIiIoVhASQiIiJSGBZAIiIiIoVhASQiIiJSGBZAIiIiIoVhASQiIiJSGBZAIiIiIoVhASQiIiJSGBZAIiIiIoWxFh3AnBUXF+PKlSuwt7eHSqUSHYeIiIjKQZIk5OTkoFGjRlCrlbkvjAWwCq5cuQJnZ2fRMYiIiKgSLl68iCZNmoiOIQQLYBXY29sDuP8D5ODgIDjNo+l0OsTGxsLPzw8ajUZ0HIvBcZUHx1UeHFd5cFzlIee4Zmdnw9nZWf97XIlYAKvgwWFfBwcHsyiAdnZ2cHBw4AeUAXFc5cFxlQfHVR4cV3kYY1yVfPqWMg98ExERESkYCyARERGRwrAAEhERESkMCyARERGRwrAAEhERESkMCyARERGRwrAAEhERESkMCyARERGRwrAAEhERESkMCyARERGRwrAAEhERESkMCyARERGRwrAAmqBrOfcwcUMiDqRkio5CREREFshadAAq7c21B3H0Uha2JF3BEy618cNb3lCpVKJjERERkYXgHkATlJaZp//7n6m30Dw4Cvd0RQITERERkSVhATRBT3doUGqZ6/RoHEzlIWEiIiKqOhZAM/L88gRM/e8x0TGIiIjIzLEAmqBHne+3fn8aXIK2obhYMmIiIiIisiQsgCaoPNd7tJgahYyse/KHISIiIovDAmjGuofHY+/ZG6JjEBERkZlhATRBFZnw5ZWv9+PDH4/IloWIiIgsDwugCarolH+bDl2CS9A2SBLPCyQiIqLHYwE0QaoK7QP8G+cLJCIiovJgATRBVbnph+v0aKTcyDVcGCIiIrI4LIAmqKo3fev76S7s48UhRERE9BAsgBZq+Nf78UnMadExiIiIyASxAJqgR00EXRFLdp7DSysSDLItIiIishwsgBbuj/OZvEKYiIiISmABNEEG2gFYQpuQOBQVG367REREZH5YAE1QZaeBeZzA/dbIKyiUZdtERERkPlgATZAcewAfcJu1A9dz8uV7ASIiIjJ5LIAmSMb+BwB4Ys52nL9+R+ZXISIiIlNlMQVw9+7dGDRoEBo1agSVSoWff/653M/du3cvrK2t4e7uLlu+ipBzD+AD/Rb8hsNpt+R/ISIiIjI5FlMAc3Nz4ebmhiVLllToebdv38aIESPQv39/mZJVnKGmgXmcoUv3Ycfpq0Z5LSIiIjId1qIDGMqAAQMwYMCACj/v7bffxvDhw2FlZVWhvYZyMk79u+/1NQexaJg7hng0NuKrEhERkUgWUwArY/Xq1Th//jy+/fZbzJ49+7Hr5+fnIz//7wsosrOzAQA6nQ46nc5guYqLjTtfy/sbk3At+y5G92hm1Ne1BA++74b8/hPHVS4cV3lwXOUh57jye6XgAvjXX38hKCgIv//+O6ytyzcM4eHhCAsLK7U8NjYWdnZ2Bst2/oIaxj46P/fXZCQdPwn/JpwwujLi4uJER7BIHFd5cFzlwXGVhxzjmpeXZ/BtmhtFFsCioiIMHz4cYWFhaNOmTbmfFxwcjMDAQP3j7OxsODs7w8/PDw4ODgbLdyL2DOKvpBpse+UVddEKLi1aYJJPK6O/trnS6XSIi4uDr68vNBqN6DgWg+MqD46rPDiu8pBzXB8cwVMyRRbAnJwcHDx4EImJiRg/fjyA+4ddJUmCtbU1YmNj0a9fv1LP02q10Gq1pZZrNBqD/nCq1VYG21ZFLf3tPLLzCzF7SCdhGcyRoX8G6D6Oqzw4rvLguMpDjnHl90mhBdDBwQHHjh0rsWzp0qXYsWMHNm3ahObNmwtKdp+RLgJ+qG//SIOVSoWwwR3FBiEiIiJZWEwBvHPnDs6ePat/nJKSgqSkJNSpUwdNmzZFcHAwLl++jHXr1kGtVqNjx5Llpn79+rC1tS21XATB/Q8AsDbhArQaK0wd2E50FCIiIjIwiymABw8eRN++ffWPH5yrN3LkSKxZswbp6elIS0sTFc8srdh9HrdyC/DJC26ioxAREZEBWUwB7NOnDyTp4Vewrlmz5pHPnzFjBmbMmGHYUBbgx0OXUN9Bi8n+rqKjEBERkYFYzJ1ALInocwD/bcnOc1i66+zjVyQiIiKzwAJoglQmcRZgSfOjk7Fmb4roGERERGQALIBUbjO2nsS3f1wQHYOIiIiqiAWQKmTaz8ex79wN0TGIiIioClgATZCpnQP4b8NX7sefqZmiYxAREVElsQCaIBPvfwCAF5Yn4MLNXNExiIiIqBJYAKnSnvpkF9Kz7oqOQURERBXEAkhV4h2+A3cLikTHICIiogpgATRFpn4S4L+0C4nGPR1LIBERkblgASSDcJ0ejaLih9+JhYiIiEwHCyAZTMupUY+8HR8RERGZBhZAE2ReB4BLah4cJToCERERPQYLoAkys1MAS5m4IVF0BCIiInoEFkAyuC1JV3jLOCIiIhPGAkiymPbzcRxOuyU6BhEREZWBBdAEqcz6LMC/DV26D5du5YmOQURERP/CAmiCzP0cwH/qNW8ncvMLRccgIiKif2ABJNl1CI3hHIFEREQmhAWQjKLlVE4PQ0REZCpYAE2QBR0BLmFk5AHREYiIiAgsgCbJks4B/KffzlzH9wfSRMcgIiJSPBZAMqrgzcdwKj1bdAwiIiJFYwEkoxvw+e/IuqsTHYOIiEixWABNkMpSjwH/g1tYLK8MJiIiEoQFkIThlcFERERisACaIAXsANQbv/6w6AhERESKwwJIQv1yNB3xp66KjkFERKQoLIAk3BtrD+J6Tr7oGERERIrBAmiCVBY7FfTDPTFnOwoKi0XHICIiUgQWQBOkpHMA/6nNtF9FRyAiIlIEFkAyKbwohIiISH4sgGRSfjmajj/O3xQdg4iIyKKxAJoghR4B1ntpxR+4k18oOgYREZHFYgEkk9QxNAaSxDuFEBERycFiCuDu3bsxaNAgNGrUCCqVCj///PMj19+8eTN8fX1Rr149ODg4wNvbGzExMcYJ+xhKvQjk39zCYkVHICIiskgWUwBzc3Ph5uaGJUuWlGv93bt3w9fXF1FRUTh06BD69u2LQYMGITExUeakVF7Z9wrx7R8XRMcgIiKyONaiAxjKgAEDMGDAgHKvv2jRohKP586diy1btmDr1q3w8PAwcLqKUeI8gA8z7efj6OdaH41qVRMdhYiIyGJYTAGsquLiYuTk5KBOnToPXSc/Px/5+X/fsSI7OxsAoNPpoNPpDJalqLjIYNuyBD0iduDMTF+oTPDY+IPvuyG//8RxlQvHVR4cV3nIOa78XrEA6n366ae4c+cOXnzxxYeuEx4ejrCwsFLLY2NjYWdnZ7Asp6+oAFgZbHuWoE1IHD73Nt0rg+Pi4kRHsEgcV3lwXOXBcZWHHOOal5dn8G2aGxZAAOvXr0dYWBi2bNmC+vXrP3S94OBgBAYG6h9nZ2fD2dkZfn5+cHBwMFiejL2p+PnCGYNtz1Kk2LliXJ8WomOUoNPpEBcXB19fX2g0GtFxLAbHVR4cV3lwXOUh57g+OIKnZIovgBs2bMCbb76JH3/8ET4+Po9cV6vVQqvVllqu0WgM+sNpZcW9f2VZFH8Wz3d1RpPahtvbaiiG/hmg+ziu8uC4yoPjKg85xpXfJwu6Crgyvv/+e4wePRrff/89AgICRMehcug1byeKijk/IBERUVVYTAG8c+cOkpKSkJSUBABISUlBUlIS0tLSANw/fDtixAj9+uvXr8eIESOwYMECdOvWDRkZGcjIyEBWVpaI+CWY4sUOpqTl1CjREYiIiMyaxRTAgwcPwsPDQz+FS2BgIDw8PBASEgIASE9P15dBAFixYgUKCwsxbtw4NGzYUP9n4sSJQvJTxSz/7ZzoCERERGZL+DmAv//+O7766iucO3cOmzZtQuPGjfHNN9+gefPm6NWrV7m306dPn0feOmzNmjUlHu/atauSieXH/X+PF/HraQxxb4wGNW1FRyEiIjI7QvcA/vTTT/D390e1atWQmJion2MvKysLc+fOFRmNzED38HjeL5iIiKgShBbA2bNnY/ny5Vi5cmWJK3J69uyJw4cPC0wmFk8BLD+eD0hERFRxQgtgcnIynnzyyVLLa9asidu3bxs/kIlg/yu/Ygn4b+Il0TGIiIjMitAC2KBBA5w9e7bU8j179qBFC9Oa8NeYeBVwxUzaeAQ593hbHyIiovISWgDHjBmDiRMnYv/+/VCpVLhy5Qq+++47fPjhh3jnnXdERiMz02lGLM8HJCIiKiehVwEHBQWhuLgY/fv3R15eHp588klotVp8+OGHeO+990RGE4o7ACvnla/3Y/2Y7qJjEBERmTyhBVClUuHjjz/G5MmTcfbsWdy5cwft27dHjRo1RMYSjv2vcvadu4ljl7LQqUlN0VGIiIhMmtBDwFlZWcjMzISNjQ3at28PLy8v1KhRA5mZmbxRM1XKoC/34J6uSHQMIiIikya0AL700kvYsGFDqeU//PADXnrpJQGJTASPAVeJ6/Ro0RGIiIhMmtACuH//fvTt27fU8j59+mD//v0CEpkG1r+q+yYhVXQEIiIikyW0AObn56OwsLDUcp1Oh7t37wpIRJZi+pYTuJ6TLzoGERGRSRJaAL28vLBixYpSy5cvXw5PT08BiciSPDFnu+gIREREJknoVcCzZ8+Gj48Pjhw5gv79+wMA4uPj8eeffyI2NlZkNKF4CqDhBG8+hvChnUTHICIiMilC9wD27NkTCQkJcHZ2xg8//ICtW7eiVatWOHr0KHr37i0ymlAqngVoMN8fSENyRo7oGERERCZF6B5AAHB3d8d3330nOoZJ4R5Aw/JftBsp4QN5iz0iIqL/J3QP4D/du3cP2dnZJf4QGUr7kBjREYiIiEyG0AKYl5eH8ePHo379+qhevTpq165d4o9ScT+V4d3VFSHh3E3RMYiIiEyC0AI4efJk7NixA8uWLYNWq8XXX3+NsLAwNGrUCOvWrRMZTSgeqZTHyyv/QH4h7xJCREQktABu3boVS5cuxXPPPQdra2v07t0b06ZNw9y5cxV9XiAvApFP22m8SwgREZHQApiZmYkWLVoAABwcHJCZmQkA6NWrF3bv3i0yGlmwdbxLCBERKZzQAtiiRQukpKQAAFxdXfHDDz8AuL9nsFatWgKTCcYdgLIK2XICOfd0omMQEREJI7QAjh49GkeOHAEABAUFYcmSJbC1tcWkSZMwefJkkdGEYv+TX6cZyp1onIiISOg8gJMmTdL/3cfHB6dPn8ahQ4fQqlUrdO7cWWAysbya1xEdQRHmbDuJjwPai45BRERkdEbfA1inTh3cuHEDAPD6668jJ+fvuzQ0a9YMQ4cOVXT5A4Bmdatj87s90LhWNdFRLNrK31OQkXVPdAwiIiKjM/oewIKCAmRnZ8PR0RFr167FvHnzYG9vb+wYJq9L09rYG9SvxDJdUTEOpt7C8t/O4bcz1wUlsyzdw+ORGhEgOgYREZFRGb0Aent7Y8iQIfD09IQkSZgwYQKqVSt7T1dkZKSR05k2jZUa3i3rwrtl3RLLi4slpNzMxbd/XMDqvaliwpmxoJ+OIuI5Ze91JiIiZTF6Afz222/x2Wef4dy5cwCArKws3LvHw3BVoVar0LJeDYQO6oDQQR30yyVJwq08HX45egULY8/g9l1e+VqWDX9exLi+reBcx050FCIiIqMwegF0cnJCREQEAKB58+b45ptvULdu3cc8iypDpVKhTnUbjPB2wctdGyMqKgoDBw6ERqPBPV0R9p69gWW7zuHghVuiowrXe/5OpIQPhIq3YSEiIgUQdhWwTqdDixYtkJmZyQIogK3GCv3bOaF/O6cSy4uKJZzOyMaavan48dAlQenEGPbVH/jhbW/RMYiIiGQnrABqNBocPXpU1MvTQ1ipVejQqCY+ecENn7zgpl8uSRKuZufjx4MXsSDujMCE8jmQmokLN3PRrG510VGIiIhkJXQewFdffRWrVq3SHxIm06VSqdCgpi3e698a7/VvXeJrOfd0iDt5FYvj/0LqzTxBCQ3jqU924dzcgbBS81AwERFZLqEFsLCwEJGRkdi+fTs8PT1RvXrJPS8LFy4UlIwqwt5Wg6FdmmBolyYllhcUFmN/yk189dt57Dl7Q1C6ihv0xR5ETewtOgYREZFshBbA48ePo0uXLgCAM2dKHlbkyfjmz8Zajd6t66F363ollhcXSzhlwucZnkzPxpGLt+HmXEt0FCIiIlkILYA7d+402LZ2796NTz75BIcOHUJ6ejr++9//YsiQIY98zq5duxAYGIgTJ07A2dkZ06ZNw6hRowyWicqmfsR5hpdu3cX3B9KwdNc5gQmBwUv24vzcgVDzUDAREVkgoQXQkHJzc+Hm5obXX38dQ4cOfez6KSkpCAgIwNtvv43vvvsO8fHxePPNN9GwYUP4+/sbITH9m0qlgnMdO0x52hVTnnYt8bUbd/Lx38OXMS/6NAqLJaPkeYaHgomIyEIJLYB9+/Z95KHeHTt2lHtbAwYMwIABA8q9/vLly9G8eXMsWLAAANCuXTvs2bMHn332GQugCXKsocWYJ1tgzJMtSizPvqfDtqPpWBCbjBt3Cgz6mifTs3HsUhY6Nalp0O0SERGJJrQAuru7l3is0+mQlJSE48ePY+TIkbK+dkJCAnx8fEos8/f3x/vvvy/r65JhOdhq8LJXU7zs1bTE8tz8QsSdvIqFcWeQlln5K5MHfbkHZ+cMgLWVuqpRiYiITIbQAvjZZ5+VuXzGjBm4c+eOrK+dkZEBJ6eSkyA7OTkhOzsbd+/eLfP+xPn5+cjPz9c/zs7OBnC/uOp0pn2btQf5TD2nodiogYCO9RHQsX6J5XcLirAj+ToW7ziL8zfKVwxbffyr/u9PtXHEuKdaoHOTmrBSqxQ3rsbCcZUHx1UeHFd5yDmu/F6Z6DmAr776Kry8vPDpp5+KjlJCeHg4wsLCSi2PjY2FnZ153Ec2Li5OdAThVAAmtgbwj+kMC4qAo5kq/HpRjRv5Dz8t4bczN/DbmX9PaWMNr7Px6NeoGA2qAbyA3XD48yoPjqs8OK7ykGNc8/LMe85aQzDJApiQkABbW1tZX6NBgwa4evVqiWVXr16Fg4NDmXv/ACA4OBiBgYH6x9nZ2XB2doafnx8cHBxkzVtVOp0OcXFx8PX1hUajER3HJA0BEPKPx/mFxegYtr1czz1wXY0D10sfJn73qRYY7tUE9e21nNqoAvjzKg+Oqzw4rvKQc1wfHMFTMqEF8N9X60qShPT0dBw8eBDTp0+X9bW9vb0RFRVVYllcXBy8vR9+L1itVgutVltquUajMZt/9OaUVTSNBkic7guPWZX/v8+lv53H0t/Ol1hWy06Djwe2w8BODVFda5L/D2Yy+PMqD46rPDiu8pBjXPl9ElwAa9YseXWlWq1G27ZtMXPmTPj5+VVoW3fu3MHZs2f1j1NSUpCUlIQ6deqgadOmCA4OxuXLl7Fu3ToAwNtvv40vv/wSU6ZMweuvv44dO3bghx9+wLZt26r+xshi1K5ug0+e74zJmwx33+rbeTpM3nS01DZ7t3bE+z6t4e5cm7eiIyIiWQktgKtXrzbYtg4ePIi+ffvqHz84VDty5EisWbMG6enpSEtL03+9efPm2LZtGyZNmoTPP/8cTZo0wddff80pYKiUF7o6G7QAPszvf93A73+VvmXehP6t8Wr3pqhvL+9pEUREpBxCC+DFixehUqnQpMn9e8geOHAA69evR/v27TF27NgKbatPnz6QpIdPELxmzZoyn5OYmFih1yFlOjbDD51mxAp57cXxf2Fx/F8llrVv6ICgAa7o2cqRewuJiKjChBbA4cOHY+zYsXjttdeQkZEBHx8fdOzYEd999x0yMjIQEhLy+I0QGYG9rQahg9ojbOtJ0VEA3J+kekTkgVLLA33b4NXuzVCnuo2AVEREZC6EFsDjx4/Dy8sLAPDDDz+gU6dO2Lt3L2JjY/H222+zAJJJGd2zuckUwIdZGHcGC+POlFjWz7U+PvBrg3YNHHhvYyIiAiC4AOp0Ov1Vtdu3b8d//vMfAICrqyvS09NFRiMq06mZT6NdSLToGBWy4/Q17Dh9rcSyxrWqIWRQe/RzrQ8N73JCRKQ4Qgtghw4dsHz5cgQEBCAuLg6zZs0CAFy5cgV169YVGY2oTNVsrDD/uc6Y8pP8F4XI6fLtu3jrm0Olls8a3AHPezqjmo2VgFRERGQsQgvgvHnz8Oyzz+KTTz7ByJEj4ebmBgD43//+pz80TGRqXnzC2ewL4MNM33IC07ecKLFssn9bvNq9GWpW47xZRESWQmgB7NOnD27cuIHs7GzUrl1bv3zs2LFmc2s1UiaRVwUb2ycxyfgkJrnEsgn9W+ONns1R046lkIjIHAm/DYGVlVWJ8gcALi4uYsIQlZO9rQbTAtph9rZToqMIUdbUNFOebosR3i6owbubEBGZPH5SE1XSm71bKLYAlmV+dDLmR5fcUxgxtBOGeDSGrYbnFBIRmRIWQKIqOPxxX3SZs1N0DJMVtPkYgjYf0z9uWNMW857rjF6tHDklDRGRQCyARFVgb6vBoKZF2JrGPVzlkZ51r9QE1v4dnPDxwPZoWpfn/RIRGQsLIFEV+TSWsDXt8etR2WJOXEXMiasllk0PcEWtYkGBiIgUQHgBjI+PR3x8PK5du4bi4pKf+JGRkYJSEVVM0rR+cJ+9Q3QMizFr22kA1vhg//0rrbs0rYV5z3VGq/o1oFLx0DERUVUJLYBhYWGYOXMmunbtioYNG/KDncxWda21Sd0r2NIcTrsN3892l1g2/7nOGNqlMax5JxMiogoTWgCXL1+ONWvW4LXXXhMZg8ggzOFewZZkyk9HS0zIPbxbU0z2a4va1W0EpiIiMg9CC2BBQQF69OghMgKRQSWF+MJ9ZpzoGIq0fn8a1u//+2RMd+daWPiiG1rUqyEwFRGRaRJ67OTNN9/E+vXrRUYgMqhadjaY0L+16BgEIOnibfRb8BtcgrbBJWgbus3djsNpt0THIiIyCUL3AN67dw8rVqzA9u3b0blzZ2g0JW8rtXDhQkHJiCov0LdNqbtkkHhXs/MxdOk+/WNrtQrfvtkN3ZrX4fnHRKQ4Qgvg0aNH4e7uDgA4fvx4ia/xA5nM2dEZfuiskHsFm6vCYgkvrfhD/9harcL3Y7uja7Pa/PwhIosntADu3Mk7KJBlcrDVYEK/Vli846zoKFROhcUSXlieoH/csKYtVo18Au0bOQhMRUQkD+HzAD5w6dIlAECTJk0EJyEyjEC/tiyAZiw96x4GLv5d/7hHy7pY+KI7GtS0FZiKiMgwhF4EUlxcjJkzZ6JmzZpo1qwZmjVrhlq1amHWrFmlJoUmMkfHZviJjkAGsu/cTXQPj9dfVDIv+jTu6YpExyIiqhShewA//vhjrFq1ChEREejZsycAYM+ePZgxYwbu3buHOXPmiIxHVGX2thpM9m+LT2KSRUchA1u26xyW7Tqnf7z2dS882dqR5w8SkVkQWgDXrl2Lr7/+Gv/5z3/0yzp37ozGjRvj3XffZQEkizCubysWQAUYGXlA//ferR3x+UseqMNJqYnIRAk9BJyZmQlXV9dSy11dXZGZmSkgEZE8kkJ8RUcgI/r9rxvoMitOf7j412PpkCRJdCwiIj2hBdDNzQ1ffvllqeVffvkl3NzcBCQikkctOxtM6NdKdAwS5J3vDqN5cBRcgrZh4oZE3MkvFB2JiBRO6CHg+fPnIyAgANu3b4e3tzcAICEhARcvXkRUVJTIaEQGx6uCCQC2JF3BlqQrAAAbKzW2vtcLbRvYC05FREojdA/gU089hTNnzuDZZ5/F7du3cfv2bQwdOhTJycno3bu3yGhEsjjKq4LpHwqKiuG/aLf+UPEvR6+IjkRECiF8HsBGjRrxYg9SDAdbDT562hXzok+LjkImaPz6RIxfnwgAmOTTBuP7tYKVmlcVE5HhCd0DSKRE7/RpKToCmYHPtp9By6n3zxuc+t9jyC/knINEZDgsgEQCnJr5tOgIZEbW709D22nRcAnahvHrD3MCaiKqMhZAIgGq2Vhh9pCOomOQGfrlaDpcp98vg5M2JrEMElGlsAASCfJq92aiI5CZ+2/iZX0ZDNlyHEXFnGuQiMpHaAG8e/cu8vLy9I8vXLiARYsWITY2VmAqIuPhoWAylHUJF/TnDH79+3lOPE1EjyS0AA4ePBjr1q0DANy+fRvdunXDggULMHjwYCxbtkxkNCKjqGZjhYihnUTHIAsze9sp/cTTu5KviY5DRCZIaAE8fPiwfr6/TZs2wcnJCRcuXMC6deuwePHiCm9vyZIlcHFxga2tLbp164YDBw48cv1Fixahbdu2qFatGpydnTFp0iTcu3evUu+FqLJe8moqOgJZsFGr/9TPM5iexc83IrpPaAHMy8uDvf39GfBjY2MxdOhQqNVqdO/eHRcuXKjQtjZu3IjAwECEhobi8OHDcHNzg7+/P65dK/v/ftevX4+goCCEhobi1KlTWLVqFTZu3IipU6dW+X0RVdTpWTwUTPJ78tPdmJhgjfd/OIqCwmLRcYhIIKEFsFWrVvj5559x8eJFxMTEwM/v/l0Srl27BgcHhwpta+HChRgzZgxGjx6N9u3bY/ny5bCzs0NkZGSZ6+/btw89e/bE8OHD4eLiAj8/P7z88suP3WtIJAdbjRVWjewqOgYpxLZjGWgz7Ve4BG3D7jPXRcchIgGEFsCQkBB8+OGHcHFxgZeXl/5+wLGxsfDw8Cj3dgoKCnDo0CH4+Pjol6nVavj4+CAhIaHM5/To0QOHDh3SF77z588jKioKAwcOrMI7Iqq8/u2cREcgBRoReQAuQdvQe/4O5NzTiY5DREYi9FZwzz//PHr16oX09HS4ubnpl/fv3x/PPvtsubdz48YNFBUVwcmp5C9QJycnnD5d9i23hg8fjhs3bqBXr16QJAmFhYV4++23H3kIOD8/H/n5+frH2dnZAACdTgedzrQ/OB/kM/Wc5sbQ43o6zBeuoXEG2RZRRVzMvItOM+7PwPDZC53wTOeGghOZD36+ykPOceX3ClBJJjJXwMWLFwEAzs7OFX7ulStX0LhxY+zbt0+/FxEApkyZgt9++w379+8v9Zxdu3bhpZdewuzZs9GtWzecPXsWEydOxJgxYzB9+vQyX2fGjBkICwsrtXz9+vWws7OrcG6isly4Ayw8Jvw23URoUE3CB52KYGMlOgmRYeXl5WH48OHIysqq8ClnlkJoASwsLERYWBgWL16MO3fuAABq1KiB9957D6GhodBoNOXaTkFBAezs7LBp0yYMGTJEv3zkyJG4ffs2tmzZUuo5vXv3Rvfu3fHJJ5/ol3377bcYO3Ys7ty5A7W69NHxsvYAOjs748aNGyb/A6TT6RAXFwdfX99yjys9nlzjOnhpAk6m5xhse0RV9eNYL7g71xIdwyTx81Ueco5rdnY2HB0dFV0Ahe5meO+997B582bMnz9fv+cuISEBM2bMwM2bN8s9F6CNjQ08PT0RHx+vL4DFxcWIj4/H+PHjy3xOXl5eqZJnZXX/f3Mf1om1Wi20Wm2p5RqNxmz+0ZtTVnNi6HGNmvgkXIK2GWx7RFX1wor750u/9WQLBA1whUqlEpzI9PDzVR5yjCu/T4IL4Pr167FhwwYMGDBAv6xz585wdnbGyy+/XKHJoAMDAzFy5Eh07doVXl5eWLRoEXJzczF69GgAwIgRI9C4cWOEh4cDAAYNGoSFCxfCw8NDfwh4+vTpGDRokL4IEom0PfAp+Cz8TXQMohK+2n0eX+0+Dwdba+wN6gd7W/4iJTJHQgugVquFi4tLqeXNmzeHjY1NhbY1bNgwXL9+HSEhIcjIyIC7uzuio6P1F4akpaWV2OM3bdo0qFQqTJs2DZcvX0a9evUwaNAgzJkzp0rvichQWtWvgVe6NcV3+9NERyEqJfteof6ikZj3n0TbBvaCExFRRQgtgOPHj8esWbOwevVq/aHV/Px8zJkz56GHbh+3vYc9b9euXSUeW1tbIzQ0FKGhoRV+HSJjmfNsJxZAMnn+i3YDAFaO6Arf9pzOiMgcCC2AiYmJiI+PR5MmTfTTwBw5cgQFBQXo378/hg4dql938+bNomISCfXnxz54Ys520TGIHmvMuoMAgKABrnj7qZaC0xDRowgtgLVq1cJzzz1XYlllpoEhsmT17LWYMag9Zmw9KToKUblE/HoaEb+exrCuzoh4rhMvGCEyQUIL4OrVq0W+PJHZGNWzOQsgmZ2NBy9i48GL6NO2HlaNfAJWahZBIlMh9FZwwP25ALdv346vvvoKOTn35z27cuWKfl5AIrrv9KynRUcgqpRdydfRcmoUnlu2D0XFJnHvASLFE1oAL1y4gE6dOmHw4MEYN24crl+/f1PyefPm4cMPPxQZjcjk2Gqs8NM7PUTHIKq0QxduoeXUKAxduhfFLIJEQgktgBMnTkTXrl1x69YtVKtWTb/82WefRXx8vMBkRKbJs1ltNKppKzoGUZUcTruNFlOjMGr1ARZBIkGEFsDff/8d06ZNKzXnn4uLCy5fviwoFZFp2xvUT3QEIoPYlXwdLaZG4aNNRx96ByYikofQAlhcXIyioqJSyy9dugR7e04qSlQWlUqFg9N8RMcgMpiNBy+ieXAUlv92TnQUIsUQWgD9/PywaNEi/WOVSoU7d+4gNDQUAwcOFBeMyMQ51tAi0LeN6BhEBhXx62m4BG3DztPXREchsnhCC+CCBQuwd+9etG/fHvfu3cPw4cP1h3/nzZsnMhqRyZvQv7XoCESyGL3mT7gEbcPZazmioxBZLKHzADZp0gRHjhzBxo0bceTIEdy5cwdvvPEGXnnllRIXhRBR2c7OGYBWH/8qOgaRLHwW3r/F3Ikwf1TXCv11RWRxhO4B3L37/j/uV155BfPnz8fSpUvx5ptvQqPR6L9GRA9nbaXGD295i45BJKsOoTEYvfoALxQhMiChBbBv377IzMwstTwrKwt9+/YVkIjI/Hg1rwP/Dk6iYxDJamfydTQPjsLWI1dERyGyCEILoCRJZd4j8ubNm6hevbqARETm6avXuoqOQGQU732fCJegbbiWc090FCKzJuSkiqFDhwK4f9XvqFGjoNVq9V8rKirC0aNH0aMH73hAVBGJ033hMStOdAwio/CaEw/XBvaImtAbat5jmKjChOwBrFmzJmrWrAlJkmBvb69/XLNmTTRo0ABjx47Ft99+KyIakdmqXd0GK0dwTyApx+mMHLSYGoX4U1dFRyEyO0L2AK5evRrA/Tt+fPjhhzzcS2Qgvu2d4OSgxdXsfNFRiIzmjbUHAfBqYaKKEHoO4JQpU0qcA3jhwgUsWrQIsbGxAlMRmbeEoP6iIxAJ0SE0Bkt2nhUdg8gsCC2AgwcPxrp16wAAt2/fhpeXFxYsWIDBgwdj2bJlIqMRmS21WoVDvFUcKdQnMclwCdqG23kFoqMQmTShBfDw4cPo3bs3AGDTpk1o0KABLly4gHXr1mHx4sUioxGZtbo1tJj3XCfRMYiEcZ8Zh7lRp0THIDJZQgtgXl4e7O3tAQCxsbEYOnQo1Go1unfvjgsXLoiMRmT2hj3RFE1q8446pFwrdp+HS9A23LzDc2KJ/k1oAWzVqhV+/vlnXLx4ETExMfDz8wMAXLt2DQ4ODiKjEVmE36dwQnUiz9nb8fn2v0THIDIpQgtgSEgIPvzwQ7i4uKBbt27w9r5/S6vY2Fh4eHiIjEZkEVQqFf78mOcDEn22/QxcgrbhbkGR6ChEJkFoAXz++eeRlpaGgwcPIjo6Wr+8f//++OyzzwQmI7Ic9ey1iBzF+QGJAKBdSDTnDSSCoHkA/6lBgwZo0KBBiWVeXl6C0hBZpn6uTvBoWguJabdFRyES7o21B1HdxgpHZ/jDincRIYUSugeQiIxn8zu8vSLRA7kFRWg5NQqXb98VHYVICBZAIoVQqVQ4Petp0TGITErPiB2I3JMiOgaR0bEAEimIrcYKW8b1FB2DyKTM/OUkXIK2QZIk0VGIjMboBbBLly64desWAGDmzJnIy8szdgQiRXNzroVpAe1ExyAyOc2Do5CRdU90DCKjMHoBPHXqFHJzcwEAYWFhuHPnjrEjECnem71biI5AZJK6h8dj65EromMQyc7oVwG7u7tj9OjR6NWrFyRJwqeffooaNWqUuW5ISIiR0xEpR0r4QDQPjhIdg8jkvPd9Ir7ek8LTJciiGb0ArlmzBqGhofjll1+gUqnw66+/wtq6dAyVSsUCSCQjlUqFozP80HlGrOgoRCbnyMXbcAnahuTZT0NrbSU6DpHBGb0Atm3bFhs2bAAAqNVqxMfHo379+saOQUQAHGw12DC2O15a8YfoKEQmqe20aPwR3B8NatqKjkJkUEKvAi4uLmb5IxKse4u6eLNXc9ExiExW9/B4xJ3k3UPIsgifBubcuXN477334OPjAx8fH0yYMAHnzp2r1LaWLFkCFxcX2Nraolu3bjhw4MAj1799+zbGjRuHhg0bQqvVok2bNoiK4jlRpDzTnmkvOgKRSRuz7iDCtp4QHYPIYIQWwJiYGLRv3x4HDhxA586d0blzZ+zfvx8dOnRAXFxchba1ceNGBAYGIjQ0FIcPH4abmxv8/f1x7dq1MtcvKCiAr68vUlNTsWnTJiQnJ2PlypVo3LixId4akdlJCR8oOgKRSVu9NxWdQmNExyAyCKH3Ag4KCsKkSZMQERFRavlHH30EX1/fcm9r4cKFGDNmDEaPHg0AWL58ObZt24bIyEgEBQWVWj8yMhKZmZnYt28fNBoNAMDFxaXyb4bIzKlUKhwP80dH/oIjeqic/EK4BG3DmdkDYGMt/CAaUaUJLYCnTp3CDz/8UGr566+/jkWLFpV7OwUFBTh06BCCg4P1y9RqNXx8fJCQkFDmc/73v//B29sb48aNw5YtW1CvXj0MHz4cH330Eaysyr7iKz8/H/n5+frH2dnZAACdTgedTlfuvCI8yGfqOc2NpY2rVg1Eje+BgV/uEx2FyKS1mfYrEqf1Qw2ttcV9DpgKOceV3yvBBbBevXpISkpC69atSyxPSkqq0MUhN27cQFFREZycnEosd3JywunTp8t8zvnz57Fjxw688soriIqKwtmzZ/Huu+9Cp9MhNDS0zOeEh4cjLCys1PLY2FjY2dmVO69IFT20TuVjaeM6vKUK689x6guiR/GYvQNhXQpRS3v/saV9DpgKOcaVdyETXADHjBmDsWPH4vz58+jRowcAYO/evZg3bx4CAwNlfe0HVyCvWLECVlZW8PT0xOXLl/HJJ588tAAGBweXyJWdnQ1nZ2f4+fnBwcFB1rxVpdPpEBcXB19fX/0hb6o6Sx3XgQCufpeI+NPXRUchMmmhh63x/etdcO3UAYv7HBBNzs/XB0fwlExoAZw+fTrs7e2xYMEC/eHbRo0aYcaMGZgwYUK5t+Po6AgrKytcvVryMv2rV6+iQYMGZT6nYcOG0Gg0JQ73tmvXDhkZGSgoKICNjU2p52i1Wmi12lLLNRqN2fyjN6es5sQSx3XVKC+4BG0THYPI5L0ceRhvtlVhoAV+DpgCOT5f+X0SfBWwSqXCpEmTcOnSJWRlZSErKwuXLl3CxIkToVKpyr0dGxsbeHp6Ij4+Xr+suLgY8fHx8Pb2LvM5PXv2xNmzZ1FcXKxfdubMGTRs2LDM8kekRLwymKh8vk62wso9KaJjEJWbyVzCZG9vD3t7+0o/PzAwECtXrsTatWtx6tQpvPPOO8jNzdVfFTxixIgSF4m88847yMzMxMSJE3HmzBls27YNc+fOxbhx46r8XogshUqlQvLsp0XHIDIL82P+woLYZNExiMpF6CFgQxo2bBiuX7+OkJAQZGRkwN3dHdHR0foLQ9LS0qBW/913nZ2dERMTg0mTJqFz585o3LgxJk6ciI8++kjUWyAySVprKxyY2h9ec+MfvzKRwn2x4yxOXMlG5KgnREcheiSLKYAAMH78eIwfP77Mr+3atavUMm9vb/zxB++BSvQ49R1s8ePb3nhhednTKhHR33acvoaXViRgw9iyT0EiMgUmcwiYiEzbEy51MHtIR9ExiMzCH+cz4ffZb6JjED2UsAKo0+nQv39//PXXX6IiEFEFvdq9GZ714O0SicrjzNU76DVvh+gYRGUSVgA1Gg2OHj0q6uWJqJI+G+aOBg62omMQmYVLt+6i93yWQDI9Qg8Bv/rqq1i1apXICERUCX9M7S86ApHZuJh5F/0W7BIdg6gEoReBFBYWIjIyEtu3b4enpyeqV69e4usLFy4UlIyIHiclfCCaB0eJjkFkFs5fz0X/BbsQ/0Ef0VGIAAgugMePH0eXLl0A3J+E+Z8qMhE0ERmfSqXC6VlPw3V6tOgoRGbh3PVcDPsqARvf4tXBJJ7QArhz506RL09EVWSrscKJMH90CI0RHYXILOxPycRHm45i3vOdRUchhTOJaWDOnj2LmJgY3L17FwAgSZLgRERUXtW11tjPcwKJym3jwYuYs+2k6BikcEIL4M2bN9G/f3+0adMGAwcORHp6OgDgjTfewAcffCAyGhFVgJODLXZ92Ed0DCKzsfL3FKzivYNJIKEFcNKkSdBoNEhLS4OdnZ1++bBhwxAdzfOKiMyJi2N1/Dyup+gYRGZj1i8nEXUsXXQMUiihBTA2Nhbz5s1DkyZNSixv3bo1Lly4ICgVEVWWu3MtfPdmN9ExiMzGu98dxtFLt0XHIAUSWgBzc3NL7Pl7IDMzE1qtVkAiIqqqnq0c8dVrnqJjEJmN/3y5F5du5YmOQQojtAD27t0b69at0z9WqVQoLi7G/Pnz0bdvX4HJiKgq/Ds0wHxe5UhUbr3m7UT2PZ3oGKQgQqeBmT9/Pvr374+DBw+ioKAAU6ZMwYkTJ5CZmYm9e/eKjEZEVfRiV2dcz8nHJzHJoqMQmYXOM2JxZvYA2FibxAQdZOGE/pR17NgRZ86cQa9evTB48GDk5uZi6NChSExMRMuWLUVGIyIDGNe3FT562lV0DCKz0Wbar5wKjYxC6B5AAKhZsyY+/vhj0TGISCbv9GkJXVExFsadefzKRIQWU6OQEh4gOgZZOOEF8NatW1i1ahVOnToFAGjfvj1Gjx6NOnXqCE5GRIYyoX9r5BYU4qvfzouOQmTyJAmY8H0iFr/sIToKWTChh4B3794NFxcXLF68GLdu3cKtW7ewePFiNG/eHLt37xYZjYgMLHhAO7zTh6d2EJXH/45cQcyJDNExyIIJLYDjxo3DsGHDkJKSgs2bN2Pz5s04f/48XnrpJYwbN05kNCKSwUdPuyJ4AM8JJCqPt745hNMZ2aJjkIUSWgDPnj2LDz74AFZWVvplVlZWCAwMxNmzZwUmIyK5vPVUS0zyaSM6BpFZeHrR78grKBQdgyyQ0ALYpUsX/bl//3Tq1Cm4ubkJSERExjDRpzXCh3YSHYPILLQPiUFhUbHoGGRhjH4RyNGjR/V/nzBhAiZOnIizZ8+ie/fuAIA//vgDS5YsQUREhLGjEZERvezVFHY2Vpi4IUl0FCKT1+rjX5EawSuDyXCMXgDd3d2hUqlKzHM0ZcqUUusNHz4cw4YNM2Y0IjKywe6NUbe6Fq+u2i86CpHJC958jHvOyWCMXgBTUlKM/ZJEZMJ6tXbET+/0wHPL9omOQmTSvj+QhkFuDdGjpaPoKGQBjF4AmzVrZuyXJCIT59msNn6b3AdPfbJLdBQikzZ85X4cD/NHDa3waXzJzAn/Cbpy5Qr27NmDa9euobi45EmuEyZMEJSKiIytWd3q2D+1P7rNjRcdhcikdQyNwfm5A6FWq0RHITMmtACuWbMGb731FmxsbFC3bl2oVH//MKtUKhZAIoVxcrDF6VlPw3V6tOgoRCatQ2gMTs16WnQMMmNCp4GZPn06QkJCkJWVhdTUVKSkpOj/nD/PW0YRKZGtxgrHQ31ExyAyaXd1RVi1h+fUU+UJLYB5eXl46aWXoFYLjUFEJkZrrcbn3pz8luhRZv1yEhlZ90THIDMltHm98cYb+PHHH0VGICITdmamLzo3qSk6BpHJ6h4ej+Ji6fErEv2L0HMAw8PD8cwzzyA6OhqdOnWCRqMp8fWFCxcKSkZEpkClUuF/43shbOsJrN6bKjoOkUlqMTWKk0RThQkvgDExMWjbti0AlLoIhIgIAEIHdUCPlo4Ys+6g6ChEJilyTwpe79VcdAwyI0IL4IIFCxAZGYlRo0aJjEFEZsC3vRNiJz0Jv892i45CZHJm/nISz3RuiPoOtqKjkJkQeg6gVqtFz549Dba9JUuWwMXFBba2tujWrRsOHDhQrudt2LABKpUKQ4YMMVgWIjK8Nk72OBHmLzoGkUnymsvzAan8hBbAiRMn4osvvjDItjZu3IjAwECEhobi8OHDcHNzg7+/P65du/bI56WmpuLDDz9E7969DZKDiORVXWuNlPCBomMQmSQvTqRO5SS0AB44cABr165FixYtMGjQIAwdOrTEn4pYuHAhxowZg9GjR6N9+/ZYvnw57OzsEBkZ+dDnFBUV4ZVXXkFYWBhatGhR1bdDREaiUqmQGhGAXq14T1Sif7pxJx/RxzNExyAzILQA1qpVC0OHDsVTTz0FR0dH1KxZs8Sf8iooKMChQ4fg4/P35LFqtRo+Pj5ISEh46PNmzpyJ+vXr44033qjS+yAiMb59sxuWDO8iOgaRSXn720PIzec8mvRoQi8CWb16tUG2c+PGDRQVFcHJyanEcicnJ5w+fbrM5+zZswerVq1CUlJSuV8nPz8f+fn5+sfZ2dkAAJ1OB51OV/HgRvQgn6nnNDccV3lUZFz92jli+6Re8Plsj9yxiMxGh9AY/DXLT3SMKpHz85Wf2YILoCg5OTl47bXXsHLlSjg6lv8QUnh4OMLCwkotj42NhZ2dnSEjyiYuLk50BIvEcZVHRcZ1QTfgg/2K/EgjKtOYpdF41qVYdIwqk+PzNS8vz+DbNDcqSZKEXTLUvHnzR873V977ARcUFMDOzg6bNm0qcSXvyJEjcfv2bWzZsqXE+klJSfDw8ICVlZV+WXHx/X8karUaycnJaNmyZanXKWsPoLOzM27cuAEHB4dyZRVFp9MhLi4Ovr6+pSbcpsrjuMqjKuM67vskxJ589MVfREqxd8pTqG+vFR2jUuT8fM3OzoajoyOysrJM/ve3XIT+7/L7779f4rFOp0NiYiKio6MxefLkcm/HxsYGnp6eiI+P1xfA4uJixMfHY/z48aXWd3V1xbFjx0osmzZtGnJycvD555/D2dm5zNfRarXQakv/Q9JoNGbzy9+cspoTjqs8KjOuK0Y8gR2nr+L1NZw0mqjn/N+QEj7QrG+uIMfnKz+vBRfAiRMnlrl8yZIlOHiwYh/egYGBGDlyJLp27QovLy8sWrQIubm5GD16NABgxIgRaNy4McLDw2Fra4uOHTuWeH6tWrUAoNRyIjI//VydkBTiC/eZPDRP9O53h7HsVU/RMcjECL0K+GEGDBiAn376qULPGTZsGD799FOEhITA3d0dSUlJiI6O1l8YkpaWhvT0dDniEpEJqmVng5TwgXByMM/DX0SG8uvxDKTd5DlvVJJJnjG9adMm1KlTp8LPGz9+fJmHfAFg165dj3zumjVrKvx6RGTaVCoV9k/1wX8TL2HSxiOi4xAJ8+QnO83+UDAZltAC6OHhUeKHUZIkZGRk4Pr161i6dKnAZERkSZ71aIInW9eD5+ztoqMQCTPg898R/f6TomOQiRBaAP997121Wo169eqhT58+cHV1FROKiCxS3RpapEYEYPCXe3DkUpboOERGdzojB5dv30XjWtVERyETILQAhoaGinx5IlKgLeN7IeHcTby88g/RUYiMrmfEDpyfOxBqNQ8FK51JXgRCRCQn75Z1cXrW06JjEAnx6qr9oiOQCRBSANVqNaysrB75x9raJK9PISILYauxQmpEAKYFtBMdhcio9p27ifPX74iOQYIJaVn//e9/H/q1hIQELF68WH9nDiIiOb3ZuwVefMIZnWfEio5CZDT9FvyG1IgA0TFIICEFcPDgwaWWJScnIygoCFu3bsUrr7yCmTNnCkhGRErkYKtBakQAZv1yEqv2pIiOQ2QU034+htlDOomOQYIIPwfwypUrGDNmDDp16oTCwkIkJSVh7dq1aNasmehoRKQw059pj/1T+4uOQWQU3/6Rhqy7OtExSBBhBTArKwsfffQRWrVqhRMnTiA+Ph5bt27lrdiISCgnB1ukRgTgte78n1CyfG5hPPVBqYQUwPnz56NFixb45Zdf8P3332Pfvn3o3bu3iChERGWaNaQjEqf7io5BJLs1e3nagxIJOQcwKCgI1apVQ6tWrbB27VqsXbu2zPU2b95s5GRERH+rXd0GqREBWLH7HOZGnRYdh0gWM7aexLAnmqKajZXoKGREQgrgiBEjeD9CIjIbY59siVe6NUOH0BjRUYhk0S4kmlcFK4yQArhmzRoRL0tEVGnVtdZIjQjA9pNX8ea6g6LjEBnc0Uu30blJLdExyEiEXwVMRGROfNo74fzcgejcpKboKEQG9Z8v90KSJNExyEhYAImIKkitVuF/43vhz499REchMqix3xwSHYGMhAWQiKiS6tlrkRoRgC+He4iOQmQQcSev4uadfNExyAhYAImIquiZzo2QEj4Q3ZrXER2FqMo8Z28XHYGMgAWQiMgAVCoVNr7ljSOhfqKjEFXZtqPpoiOQzFgAiYgMqGa1+/cV/u+7PURHIaq0cesP84IQC8cCSEQkA4+mtZEaEYAZg9qLjkJUKa+v+VN0BJIRCyARkYxG9WyOlPCBeLpDA9FRiCpkZ/J1XMu+JzoGyYQFkIhIZiqVCstf88SZ2QNQQytk/n2iSvGaGy86AsmEBZCIyEhsrNU4HuaPpBBf0VGIyu3QhUzREUgGLIBEREZWy84GqREB2BvUT3QUosd6blkCLwixQCyARESCNK5VDakRAYid9KToKESPFLz5mOgIZGAsgEREgrVxskdqRAC2TeglOgpRmTb8eRF5BYWiY5ABsQASEZmIDo1qcg5BMlntQ2JERyADYgEkIjIxD+YQjJrQW3QUohIu374rOgIZCAsgEZGJat/IAakRAdjxwVOioxABAHpG7BAdgQyEBZCIyMS1qFcDqREB+CO4v+goRNh8+JLoCGQALIBERGaiQU1bpEYE4NgMP6hUotOQUgX+cITTwlgAFkAiIjNjb6tBSngAzs4ZgO4t6oiOQwo0ZdNR0RGoilgAiYjMlLWVGhvGeiM1IgAT+7cWHYcU5MdDl3BPVyQ6BlUBCyARkQWY5NsGqREBWPu6l+gopBA9eEGIWbOoArhkyRK4uLjA1tYW3bp1w4EDBx667sqVK9G7d2/Url0btWvXho+PzyPXJyIyB0+1qccLRsgoMnMLkJF1T3QMqiSLKYAbN25EYGAgQkNDcfjwYbi5ucHf3x/Xrl0rc/1du3bh5Zdfxs6dO5GQkABnZ2f4+fnh8uXLRk5ORGR4Dy4YOTtnAAZ0bCA6Dlmo7uHxoiNQJVlMAVy4cCHGjBmD0aNHo3379li+fDns7OwQGRlZ5vrfffcd3n33Xbi7u8PV1RVff/01iouLER/PH2YishzWVmose9UTqREB+OpVD9FxyAIdTrslOgJVgkUUwIKCAhw6dAg+Pj76ZWq1Gj4+PkhISCjXNvLy8qDT6VCnDq+oIyLL1K9tPXzuXYiDU/uimsZKdByyEEOX7hMdgSrBWnQAQ7hx4waKiorg5ORUYrmTkxNOnz5drm189NFHaNSoUYkS+W/5+fnIz8/XP87OzgYA6HQ66HS6SiQ3ngf5TD2nueG4yoPjKo8H42lnDRwNuX+O4Op9FzD312SRscgC/HDgAp71aGTQbcr5OcDPFgspgFUVERGBDRs2YNeuXbC1tX3oeuHh4QgLCyu1PDY2FnZ2dnJGNJi4uDjRESwSx1UeHFd5/HNcnQB87g1kFwDTD/FXAlXOlM3HYXMlSZYJyuX4HMjLyzP4Ns2NRfxrd3R0hJWVFa5evVpi+dWrV9GgwaNPfv70008RERGB7du3o3Pnzo9cNzg4GIGBgfrH2dnZ+otHHBwcKv8GjECn0yEuLg6+vr7QaDSi41gMjqs8OK7yeNy4vjTk/n9/PHQJU38+adxwZPb2FDRD+LMdDLY9OT8HHhzBUzKLKIA2Njbw9PREfHw8hgwZAgD6CzrGjx//0OfNnz8fc+bMQUxMDLp27frY19FqtdBqtaWWazQas/klZU5ZzQnHVR4cV3k8blyHd2+O4d2bI+eeDkOW7MW567lGTEfmatPhy4h4rjOsrQx7eYEcnwP8XLGQi0AAIDAwECtXrsTatWtx6tQpvPPOO8jNzcXo0aMBACNGjEBwcLB+/Xnz5mH69OmIjIyEi4sLMjIykJGRgTt37oh6C0REJsXeVoP4D/ogNSIAP73jLToOmQHfz3aLjkDlZBF7AAFg2LBhuH79OkJCQpCRkQF3d3dER0frLwxJS0uDWv133122bBkKCgrw/PPPl9hOaGgoZsyYYczoREQmz7NZHaRGBECSJHwe/xcWbf9LdCQyQSk3cpF9TwcHW+5hM3UWUwABYPz48Q895Ltr164Sj1NTU+UPRERkYVQqFd73aYP3fdrgTn4hRkUewMELnAeO/tZ5RixSIwJEx6DHsKgCSERExlNDa41N7/QAAFzMzEPv+TsFJyJTcS3nHurbP3xWDRLPYs4BJCIicZzr2CE1IuD/zxfsIToOCeY1h3fVMnUsgEREZFCezWrry2DkqMfPsECW6RBPDTBpLIBERCSbfq5OSI0IQEr4QCx+mfciVpLnlvEWcaaM5wASEZHsVCoV/uPWCP9xawRJkrAl6Qre35gkOhbJ7NilLHRqUlN0DCoD9wASEZFRqVQqDPForN8zuPxVT9GRSCaDvtwjOgI9BAsgEREJo1Kp8HTHBvpzBte/2U10JDKwr38/LzoClYEFkIiITEaPVo76Mhg76UnRccgAZm87BUmSRMegf2EBJCIik9TGyV5fBg9N80Fnnktmtpb9dk50BPoXXgRCREQmr24NLf43vhcAIL+wCAtiz2DFbh5aNBfzo5Px9pMtoVarREeh/8c9gEREZFa01laYOrCdfu/gqpGca9AcfPzzMdER6B9YAImIyKz1b+ekL4MHpvZHp8Y8VGyKvj9wEYVFxaJj0P/jIWAiIrIY9R1ssfW9+4eKi4slrEtIxYytJwWnogfeXHcQa0Z7iY5BYAEkIiILpVarMKpnc4zq2RwAkHYzD6+v/RNnr90RnEy5diVfR0FhMWyseQBSNBZAIiJShKZ17bA98CkA9/cO/njoIj76ieelGVu/Bbuw56N+omMoHgsgEREpjlqtwrAnmmLYE00BAJm5BZiy6Si2n7oqOJnlu3TrLvIKCmFnwwoiEkefiIgUr051G3z9j6uJE9Nu4cWvEqAr4gTGcuj36W/4Y2p/0TEUjQWQiIjoXzya1sZfcwYC4OFiOWRk30P2PR0cbDWioygWCyAREdEj/Ptw8T1dET7bfgZf/caJqKui84xYpEYEiI6hWCyAREREFWCrsULwgHYIHtAOAHD1di7eXrkDiTd5ZWtFXc2+BycHW9ExFIk/rURERFVQp7oNRrUpxl+z/JAaEYC9Qf3QvUUd0bHMQre58aIjKBb3ABIRERlQ41rVsGGst/5x6o1cfPDjERy6cEtgKtN1PScf9ey1omMoDgsgERGRjFwcq+Ond3roH1+4mYtJG5NwOO22uFAm5Ik523kuoAAsgEREREbUrG51bH63p/7xpVt5mPzjUSScvykwlVg8F9D4WACJiIgEalLbDt+P7a5/fC3nHmb9cgpbj1wRmMq4us2N515AI2MBJCIiMiH17W3xxcse+OJlDwDAnfxCLIo7g6/3pAhOJq8TV7LQoVFN0TEUgwWQiIjIhNXQWmPaM+0x7Zn2AID8wiJs/PMiQracEJzMsAIW7+FeQCNiASQiIjIjWmsrjPB2wQhvFwCAJEnYlXwdY785aPa3rrtwMxfN6lYXHUMRWACJiIjMmEqlQl/X+vpb1wHAuet3MGXTUbObeuapT3ZxL6CRsAASERFZmJb1apSYeib7ng5f7jiLFbtN//Z1f13NQWsne9ExLB4LIBERkYVzsNVg6sB2mDrw/u3riosl/Ho8A+PWHxacrDTfz3ZzL6ARsAASEREpjFqtQkDnhgjofL9oSZKElBu5+Pi/x01iPsJ9527giaa8IlhOLIBEREQKp1Kp0KJejRLzEd7TFSFybwrmRycbPc/wlfvx1yw/o7+ukrAAEhERUSm2Giu826cV3u3TCsD9vYSH025h4oYkXLp1V/bXP5meLftrKJladABDWrJkCVxcXGBra4tu3brhwIEDj1z/xx9/hKurK2xtbdGpUydERUUZKSkREZF5UalU8GxWB3s+6ofUiACkRgTgSIgf3uzVXJbXG7z0D1m2S/dZTAHcuHEjAgMDERoaisOHD8PNzQ3+/v64du1amevv27cPL7/8Mt544w0kJiZiyJAhGDJkCI4fP27k5EREROappp0G055pry+E5+cOxLrXvVBDa5gDjCk5BtkMlcFiCuDChQsxZswYjB49Gu3bt8fy5cthZ2eHyMjIMtf//PPP8fTTT2Py5Mlo164dZs2ahS5duuDLL780cnIiIiLLoFar8GSbejge5q8vhQen+WB4t6aV2t6i4zxTTS4WMbIFBQU4dOgQgoOD9cvUajV8fHyQkJBQ5nMSEhIQGBhYYpm/vz9+/vnnh75Ofn4+8vPz9Y+zs++fn6DT6aDT6arwDuT3IJ+p5zQ3HFd5cFzlwXGVB8f10Wpq1Qh7xhVhz7gCuD8Fzc4z1/Hu+iQUl+PGJQfO34BXC0eDZuL3ykIK4I0bN1BUVAQnJ6cSy52cnHD69Okyn5ORkVHm+hkZGQ99nfDwcISFhZVaHhsbCzs7u0okN764uDjRESwSx1UeHFd5cFzlwXGtmM/+vuAYWQXAL2lqHLhe+sDkvC0H8UbbYoO+dl5enkG3Z44sogAaS3BwcIm9htnZ2XB2doafnx8cHBwEJns8nU6HuLg4+Pr6QqPRiI5jMTiu8uC4yoPjKg+Oq2G8/I+/FxVL2HrkMiJ3HMfXY55C7RrVDPpaD47gKZlFFEBHR0dYWVnh6tWrJZZfvXoVDRo0KPM5DRo0qND6AKDVaqHVakst12g0ZvOP3pyymhOOqzw4rvLguMqD42o4GgBDPJrAJv0oateoZvBx5ffJQi4CsbGxgaenJ+Lj4/XLiouLER8fD29v7zKf4+3tXWJ94P7u+4etT0RERGQpLGIPIAAEBgZi5MiR6Nq1K7y8vLBo0SLk5uZi9OjRAIARI0agcePGCA8PBwBMnDgRTz31FBYsWICAgABs2LABBw8exIoVK0S+DSIiIiLZWUwBHDZsGK5fv46QkBBkZGTA3d0d0dHR+gs90tLSoFb/vcOzR48eWL9+PaZNm4apU6eidevW+Pnnn9GxY0dRb4GIiIjIKCymAALA+PHjMX78+DK/tmvXrlLLXnjhBbzwwgsypyIiIiIyLRZxDiARERERlR8LIBEREZHCsAASERERKQwLIBEREZHCsAASERERKQwLIBEREZHCsAASERERKQwLIBEREZHCsAASERERKYxF3QnE2CRJAgBkZ2cLTvJ4Op0OeXl5yM7OhkajER3HYnBc5cFxlQfHVR4cV3nIOa4Pfm8/+D2uRCyAVZCTkwMAcHZ2FpyEiIiIKionJwc1a9YUHUMIlaTk+ltFxcXFuHLlCuzt7aFSqUTHeaTs7Gw4Ozvj4sWLcHBwEB3HYnBc5cFxlQfHVR4cV3nIOa6SJCEnJweNGjWCWq3Ms+G4B7AK1Go1mjRpIjpGhTg4OPADSgYcV3lwXOXBcZUHx1Ueco2rUvf8PaDM2ktERESkYCyARERERArDAqgQWq0WoaGh0Gq1oqNYFI6rPDiu8uC4yoPjKg+Oq7x4EQgRERGRwnAPIBEREZHCsAASERERKQwLIBEREZHCsAASERERKQwLoJmbM2cOevToATs7O9SqVavMddLS0hAQEAA7OzvUr18fkydPRmFhYYl1du3ahS5dukCr1aJVq1ZYs2ZNqe0sWbIELi4usLW1Rbdu3XDgwAEZ3pHpOnPmDAYPHgxHR0c4ODigV69e2LlzZ4l1DDXWSrJt2zZ069YN1apVQ+3atTFkyJASX+eYVl5+fj7c3d2hUqmQlJRU4mtHjx5F7969YWtrC2dnZ8yfP7/U83/88Ue4urrC1tYWnTp1QlRUlJGSm57U1FS88cYbaN68OapVq4aWLVsiNDQUBQUFJdbjuBqG0n/fGIVEZi0kJERauHChFBgYKNWsWbPU1wsLC6WOHTtKPj4+UmJiohQVFSU5OjpKwcHB+nXOnz8v2dnZSYGBgdLJkyelL774QrKyspKio6P162zYsEGysbGRIiMjpRMnTkhjxoyRatWqJV29etUYb9MktG7dWho4cKB05MgR6cyZM9K7774r2dnZSenp6ZIkGW6slWTTpk1S7dq1pWXLlknJycnSiRMnpI0bN+q/zjGtmgkTJkgDBgyQAEiJiYn65VlZWZKTk5P0yiuvSMePH5e+//57qVq1atJXX32lX2fv3r2SlZWVNH/+fOnkyZPStGnTJI1GIx07dkzAOxHv119/lUaNGiXFxMRI586dk7Zs2SLVr19f+uCDD/TrcFwNg79vjIMF0EKsXr26zAIYFRUlqdVqKSMjQ79s2bJlkoODg5Sfny9JkiRNmTJF6tChQ4nnDRs2TPL399c/9vLyksaNG6d/XFRUJDVq1EgKDw838DsxTdevX5cASLt379Yvy87OlgBIcXFxkiQZbqyVQqfTSY0bN5a+/vrrh67DMa28qKgoydXVVTpx4kSpArh06VKpdu3a+jGUJEn66KOPpLZt2+ofv/jii1JAQECJbXbr1k166623ZM9uLubPny81b95c/5jjahhK/31jLDwEbOESEhLQqVMnODk56Zf5+/sjOzsbJ06c0K/j4+NT4nn+/v5ISEgAABQUFODQoUMl1lGr1fDx8dGvY+nq1q2Ltm3bYt26dcjNzUVhYSG++uor1K9fH56engAMM9ZKcvjwYVy+fBlqtRoeHh5o2LAhBgwYgOPHj+vX4ZhWztWrVzFmzBh88803sLOzK/X1hIQEPPnkk7CxsdEv8/f3R3JyMm7duqVfh+P6aFlZWahTp47+Mce16vj7xnhYAC1cRkZGiV+eAPSPMzIyHrlOdnY27t69ixs3bqCoqKjMdR5sw9KpVCps374diYmJsLe3h62tLRYuXIjo6GjUrl0bgGHGWknOnz8PAJgxYwamTZuGX375BbVr10afPn2QmZkJgGNaGZIkYdSoUXj77bfRtWvXMtepyrgq5d/845w9exZffPEF3nrrLf0yjmvV8feN8bAAmqCgoCCoVKpH/jl9+rTomBahvGMtSRLGjRuH+vXr4/fff8eBAwcwZMgQDBo0COnp6aLfhkkp75gWFxcDAD7++GM899xz8PT0xOrVq6FSqfDjjz8Kfhemp7zj+sUXXyAnJwfBwcGiI5uFynzeXr58GU8//TReeOEFjBkzRlByoqqxFh2ASvvggw8watSoR67TokWLcm2rQYMGpa6eunr1qv5rD/77YNk/13FwcEC1atVgZWUFKyurMtd5sA1zVd6x3rFjB3755RfcunULDg4OAIClS5ciLi4Oa9euRVBQkEHG2hKUd0wfFOf27dvrl2u1WrRo0QJpaWkADPPzaykq8rOakJBQ6v6pXbt2xSuvvIK1a9c+dMyAx4+ruf+b/7eKft5euXIFffv2RY8ePbBixYoS63Fcq87R0dFif9+YGhZAE1SvXj3Uq1fPINvy9vbGnDlzcO3aNdSvXx8AEBcXBwcHB/0vXm9v71LTEMTFxcHb2xsAYGNjA09PT8THx+un6CguLkZ8fDzGjx9vkJyilHes8/LyANw/F+Wf1Gq1fk+WIcbaEpR3TD09PaHVapGcnIxevXoBAHQ6HVJTU9GsWTMAHNN/Ku+4Ll68GLNnz9Y/vnLlCvz9/bFx40Z069YNwP0x+/jjj6HT6aDRaADcH7O2bdvqT2nw9vZGfHw83n//ff22lDyuwP09f3379tXvrf735wHHteos+feNyRF9FQpVzYULF6TExEQpLCxMqlGjhpSYmCglJiZKOTk5kiT9PY2Gn5+flJSUJEVHR0v16tUrcxqNyZMnS6dOnZKWLFlS5jQwWq1WWrNmjXTy5Elp7NixUq1atUpcnWnJrl+/LtWtW1caOnSolJSUJCUnJ0sffvihpNFopKSkJEmSDDfWSjJx4kSpcePGUkxMjHT69GnpjTfekOrXry9lZmZKksQxNYSUlJRSVwHfvn1bcnJykl577TXp+PHj0oYNGyQ7O7tS05VYW1tLn376qXTq1CkpNDRU0dOVXLp0SWrVqpXUv39/6dKlS1J6err+zwMcV8NQ+u8bY2EBNHMjR46UAJT6s3PnTv06qamp0oABA6Rq1apJjo6O0gcffCDpdLoS29m5c6fk7u4u2djYSC1atJBWr15d6rW++OILqWnTppKNjY3k5eUl/fHHHzK/O9Py559/Sn5+flKdOnUke3t7qXv37lJUVFSJdQw11kpRUFAgffDBB1L9+vUle3t7ycfHRzp+/HiJdTimVVNWAZQkSTpy5IjUq1cvSavVSo0bN5YiIiJKPfeHH36Q2rRpI9nY2EgdOnSQtm3bZqTUpmf16tVlftb+ez8Kx9UwlP77xhhUkiRJQnY9EhEREZEQvAqYiIiISGFYAImIiIgUhgWQiIiISGFYAImIiIgUhgWQiIiISGFYAImIiIgUhgWQiIiISGFYAIlIsUaNGqW/3RQRkZLwXsBEZJFUKtUjvx4aGorPP/8cnAufiJSIBZCILFJ6err+7xs3bkRISAiSk5P1y2rUqIEaNWqIiEZEJBwPARORRWrQoIH+T82aNaFSqUosq1GjRqlDwH369MF7772H999/H7Vr14aTkxNWrlyJ3NxcjB49Gvb29mjVqhV+/fXXEq91/PhxDBgwADVq1ICTkxNee+013Lhxw8jvmIio/FgAiYj+Ye3atXB0dMSBAwfw3nvv4Z133sELL7yAHj164PDhw/Dz88Nrr72GvLw8AMDt27fRr18/eHh44ODBg4iOjsbVq1fx4osvCn4nREQPxwJIRPQPbm5umDZtGlq3bo3g4GDY2trC0dERY8aMQevWrRESEoKbN2/i6NGjAIAvv/wSHh4emDt3LlxdXeHh4YHIyEjs3LkTZ86cEfxuiIjKxnMAiYj+oXPnzvq/W1lZoW7duujUqZN+mZOTEwDg2rVrAIAjR45g586dZZ5PeO7cObRp00bmxEREFccCSET0DxqNpsRjlUpVYtmDq4uLi4sBAHfu3MGgQYMwb968Uttq2LChjEmJiCqPBZCIqAq6dOmCn376CS4uLrC25kcqEZkHngNIRFQF48aNQ2ZmJl5++WX8+eefOHfuHGJiYjB69GgUFRWJjkdEVCYWQCKiKmjUqBH27t2LoqIi+Pn5oVOnTnj//fdRq1YtqNX8iCUi06SSOA0+ERERkaLwf0+JiIiIFIYFkIiIiEhhWACJiIiIFIYFkIiIiEhhWACJiIiIFIYFkIiIiEhhWACJiIiIFIYFkIiIiEhhWACJiIiIFIYFkIiIiEhhWACJiIiIFIYFkIiIiEhh/g9Yc49AQKPWfAAAAABJRU5ErkJggg==' width=640.0/>\n",
       "            </div>\n",
       "        "
      ],
      "text/plain": [
       "Canvas(toolbar=Toolbar(toolitems=[('Home', 'Reset original view', 'home', 'home'), ('Back', 'Back to previous …"
      ]
     },
     "metadata": {},
     "output_type": "display_data"
    }
   ],
   "source": [
    "fignum = 0\n",
    "plt.close(fignum)\n",
    "#print number of steps over time\n",
    "Ntot = ss_1d.getNtot()\n",
    "\n",
    "maxes = np.array([np.max(n) for n in Ntot[:]])\n",
    "mins = np.array([np.min(n) for n in Ntot[:]])\n",
    "\n",
    "#print(maxes,mins)\n",
    "plt.figure(fignum)\n",
    "ax = plt.subplot(111)\n",
    "\n",
    "#ax.plot(test_f2d_sim.results()['t'],maxes-mins)\n",
    "ax.plot(Ntot[:,0],maxes-mins)\n",
    "ax.set_ylabel('Number of steps on surface')\n",
    "ax.set_xlabel('Time')\n",
    "plt.grid()\n",
    "plt.show()"
   ]
  },
  {
   "cell_type": "code",
   "execution_count": null,
   "metadata": {},
   "outputs": [],
   "source": [
    "plt.close('1d surface over time 3d surface')\n",
    "plt.figure('1d surface over time 3d surface')\n",
    "#plot surface over time as 3d surface\n",
    "ax = plt.axes(projection='3d')\n",
    "\n",
    "\n",
    "\n",
    "zs = ss_1d.getNtot()\n",
    "start,stop = 0, zs.shape[0]\n",
    "#crop time selection\n",
    "start,stop = stop*5//6, stop\n",
    "zs = zs[start:stop]\n",
    "\n",
    "t,x = [*zs.shape]\n",
    "print(x,t)\n",
    "xs,ys = np.meshgrid(np.linspace(0,x,x),np.linspace(start,stop,stop-start))\n",
    "\n",
    "#print shapes of inputs\n",
    "print(xs.shape,ys.shape,zs.shape)\n",
    "\n",
    "#contour levels\n",
    "levels = np.linspace(740,880,10)\n",
    "\n",
    "#plot contours of the surface\n",
    "ax.contour(X=xs, Y=ys, Z=zs,  label='ice+QLL', cmap='viridis_r')\n",
    "\n",
    "#plot the surface with reversed viridis\n",
    "ax.plot_surface(X=xs, Y=ys, Z=zs,  label='ice+QLL', cmap='viridis_r')\n",
    "\n",
    "ax.set_xlabel('nx')\n",
    "ax.set_ylabel('Time steps')\n",
    "#ax.set_xlabel(r'x ($\\mu m$)')\n",
    "#ax.set_ylabel('Layers of ice')\n",
    "plt.show()"
   ]
  },
  {
   "cell_type": "code",
   "execution_count": null,
   "metadata": {},
   "outputs": [],
   "source": [
    "#plot contours over time on one surface\n",
    "ax = plt.axes(projection='3d')\n",
    "\n",
    "zs = ss_1d.getNtot()\n",
    "start,stop = 0, zs.shape[0]\n",
    "#crop time selection\n",
    "#start,stop = stop*5//6, stop\n",
    "zs = zs[start:stop]\n",
    "\n",
    "t,x = [*zs.shape]\n",
    "print(x,t)\n",
    "xs,ys = np.meshgrid(np.linspace(0,x,x),np.linspace(start,stop,stop-start))\n",
    "\n",
    "#print shapes of inputs\n",
    "print(xs.shape,ys.shape,zs.shape)\n",
    "\n",
    "# #contour levels\n",
    "# levels = np.linspace(740,880,10)\n",
    "\n",
    "# #plot the surface with reversed viridis\n",
    "# ax.contour(X=xs, Y=ys, Z=zs,  label='ice+QLL', cmap='viridis_r')\n",
    "\n",
    "# ax.set_xlabel('nx')\n",
    "# ax.set_ylabel('Time steps')\n",
    "# #ax.set_xlabel(r'x ($\\mu m$)')\n",
    "# #ax.set_ylabel('Layers of ice')\n",
    "# plt.show()\n",
    "\n",
    "ix = 100\n",
    "plt.figure()\n",
    "\n",
    "ixlist = [0, 10_000, 30_000, 40_000]#np.linspace(0,7400, 100)\n",
    "offset = 1\n",
    "for ix in ixlist:\n",
    "    tempzs = zs[ix,:] - min(zs[ix,:]) + offset\n",
    "    offset += 1\n",
    "    plt.plot(xs[ix,:], tempzs,label = 'x = '+str(ix))\n",
    "\n",
    "#plt.legend()"
   ]
  },
  {
   "cell_type": "code",
   "execution_count": null,
   "metadata": {},
   "outputs": [],
   "source": [
    "#plot \n",
    "#cmpltion = 0.005 \n",
    "cmpltion = 0.3\n",
    "\n",
    "#for cmpltion in map(lambda x: x*3,[0,0.001,0.005]): # making plots of initial noise dissipating\n",
    "ss_1d.plot(completion=cmpltion, ice=True)#, figurename=my_filename+'_completion'+str(cmpltion))\n",
    "plt.show()"
   ]
  },
  {
   "cell_type": "code",
   "execution_count": null,
   "metadata": {},
   "outputs": [],
   "source": [
    "ss_1d.animate()"
   ]
  },
  {
   "cell_type": "code",
   "execution_count": null,
   "metadata": {},
   "outputs": [],
   "source": [
    "plt.close()"
   ]
  },
  {
   "cell_type": "code",
   "execution_count": null,
   "metadata": {},
   "outputs": [],
   "source": [
    "#test_2d_asym.save(id=['asymmetric'+str(test_2d_asym.shape[0])+'_'+str(test_2d_asym.shape[1]),str(test_2d_asym.layermax)+'layers'])\n",
    "#symm = Simulation(f2d,(500,500),rtol=1e-12)"
   ]
  },
  {
   "cell_type": "code",
   "execution_count": null,
   "metadata": {},
   "outputs": [],
   "source": [
    "#countour plot of sigmastep 2d\n",
    "plt.figure()\n",
    "ax = plt.axes(projection='3d')\n",
    "plt.xlabel(r'x ($\\mu m$)')\n",
    "plt.ylabel(r'y ($\\mu m$)')\n",
    "#ax.set_zlabel('Layers of ice')\n",
    "#levels = np.arange(19,21,0.1)\n",
    "ax.contourf(xgrid,ygrid, sigma*100, extent=(0, 2, 0, 2), cmap='YlGnBu_r', vmin=0, vmax=200, zorder=1)#, levels=levels)"
   ]
  },
  {
   "cell_type": "code",
   "execution_count": null,
   "metadata": {},
   "outputs": [],
   "source": [
    "#countour plot of sigmastep 2d\n",
    "print(xs.shape,ys.shape,sigma.shape)\n",
    "fig,ax = plt.subplots()\n",
    "CS = ax.contourf(xs.T,ys.T,sigma*100)\n",
    "ax.set_xlabel(r'$x (\\mu m)$', fontsize=20)\n",
    "ax.set_ylabel(r'$y (\\mu m)$', fontsize=20)\n",
    "plt.grid(True)\n",
    "plt.gca().set_aspect('equal')\n",
    "fig.colorbar(CS)\n",
    "plt.title('%supersaturation (getsigmastep_2d)')"
   ]
  },
  {
   "cell_type": "markdown",
   "metadata": {},
   "source": [
    "2D Growth simulation"
   ]
  },
  {
   "cell_type": "code",
   "execution_count": null,
   "metadata": {},
   "outputs": [],
   "source": [
    "#create the 2d sim\n",
    "test_f2d_sim = Simulation(f2d, (250,250), rtol=1e-12)\n",
    "test_f2d_sim.layermax = 50#0\n",
    "#test_f2d_sim.run()\n",
    "#test_f2d_sim.save(_id=['test','50layer'])"
   ]
  },
  {
   "cell_type": "code",
   "execution_count": null,
   "metadata": {},
   "outputs": [],
   "source": [
    "#animate the 2d sim\n",
    "test_f2d_sim.animate(crossSection=True)"
   ]
  },
  {
   "cell_type": "code",
   "execution_count": null,
   "metadata": {},
   "outputs": [],
   "source": [
    "#print variables in 1d simulation for comparison to literature\n",
    "for k,v in test_f2d_sim._extra_vars.items():\n",
    "    print(k,v)\n",
    "print('center reduction %: ', test_f2d_sim.center_reduction)"
   ]
  },
  {
   "cell_type": "code",
   "execution_count": null,
   "metadata": {},
   "outputs": [],
   "source": [
    "#print number of steps over time\n",
    "Ntot = test_f2d_sim.getNtot()\n",
    "\n",
    "maxes = np.array([np.max(n) for n in Ntot[:]])\n",
    "mins = np.array([np.min(n) for n in Ntot[:]])\n",
    "\n",
    "#print(maxes,mins)\n",
    "plt.figure()\n",
    "ax = plt.subplot(111)\n",
    "\n",
    "#ax.plot(test_f2d_sim.results()['t'],maxes-mins)\n",
    "ax.plot(Ntot[:,0,0],maxes-mins)\n",
    "#ax.plot(test_f2d_sim.results()['t'],test_f2d_sim.results()['t'])\n",
    "plt.grid()"
   ]
  },
  {
   "cell_type": "code",
   "execution_count": null,
   "metadata": {},
   "outputs": [],
   "source": [
    "#animate test_f2d_sim\n",
    "\n",
    "test_f2d_sim.animate(ice=True)"
   ]
  },
  {
   "cell_type": "code",
   "execution_count": null,
   "metadata": {},
   "outputs": [],
   "source": [
    "#test_f2d_sim = loadSim('f2d_simulation_test_50layer.pkl') "
   ]
  },
  {
   "cell_type": "code",
   "execution_count": null,
   "metadata": {},
   "outputs": [],
   "source": [
    "#graph results normalized to minimum of ice surface\n",
    "Fliq_ss, Ntot_steadystate = test_f2d_sim.normalize_results_to_min()\n",
    "nice_ss = Ntot_steadystate-Fliq_ss\n",
    "print(np.shape(Ntot_steadystate))\n",
    "xs, ys = np.meshgrid(test_f2d_sim.x, test_f2d_sim.y)\n",
    "\n",
    "fig = plt.figure(figsize=(12,12))\n",
    "ax = plt.axes(projection = '3d')\n",
    "#ax.plot_surface(test_f2d_sim._results['t'], Ntot_steadystate[:,])\n",
    "ax.set_xlabel(r'$x (\\mu m$)')#,fontsize=fontsize)\n",
    "ax.set_ylabel(r'$y (\\mu m$)')#,fontsize=fontsize)\n",
    "ax.set_zlabel(r'$ice \\ layers$')#,fontsize=fontsize)\n",
    "#limits\n",
    "#ax.set_zlim3d(-self.layermax, self.layermax)\n",
    "#ax.set_ylim(0, max(self.y))\n",
    "#ax.set_xlim(0, max(self.x))\n",
    "def update_fig(num):\n",
    "    ax.clear() # remove last iteration of plot \n",
    "    plot_func = ax.plot_surface\n",
    "    # if crossSection:\n",
    "    #     xmid = round(np.shape(Nice)[0]/2)\n",
    "    #     if ice:\n",
    "    #         plot_func(X=xs[xmid:], Y=ys[xmid:], Z=nice_ss[num][xmid:][:],cmap ='viridis')# cmap='viridis')#, vmin=0, vmax=200) #plot half of the surface of the ice\n",
    "    #     if tot:\n",
    "    #         plot_func(X=xs[xmid:], Y=ys[xmid:], Z=Ntot_steadystate[num][xmid:][:], cmap='cividis')#, vmin=0, vmax=200) #plot half the surface of the QLL\n",
    "    # else:\n",
    "    #     if ice:\n",
    "    plot_func(X=xs, Y=ys, Z=nice_ss[num], cmap='viridis')#, vmin=0, vmax=200) #plot the surface of the ice \n",
    "        # if tot:\n",
    "    # plot_func(X=xs, Y=ys, Z=Ntot_steadystate[num], cmap='YlGnBu_r')#, vmin=0, vmax=200)#plot the surface of the QLL\n",
    "    pass\n",
    "\n",
    "\n",
    "num_steps = len(test_f2d_sim._results['t'])\n",
    "import matplotlib.animation as animation\n",
    "ani = animation.FuncAnimation(fig , update_fig, num_steps, interval=50, blit=False, cache_frame_data=False, repeat = True)\n",
    "plt.show()"
   ]
  },
  {
   "cell_type": "code",
   "execution_count": null,
   "metadata": {},
   "outputs": [],
   "source": [
    "#graph difference in steps over time: should converge to zero if steady state is reached\n",
    "Fliq_ss, Ntot_steadystate = test_f2d_sim.steady_state_calc()\n",
    "nice_ss = Ntot_steadystate-Fliq_ss\n",
    "print(np.shape(Ntot_steadystate))\n",
    "xs, ys = np.meshgrid(test_f2d_sim.x, test_f2d_sim.y)\n",
    "\n",
    "fig = plt.figure(figsize=(12,12))\n",
    "ax = plt.axes(projection = '3d')\n",
    "#ax.plot_surface(test_f2d_sim._results['t'], Ntot_steadystate[:,])\n",
    "ax.set_xlabel(r'$x (\\mu m$)')#,fontsize=fontsize)\n",
    "ax.set_ylabel(r'$y (\\mu m$)')#,fontsize=fontsize)\n",
    "ax.set_zlabel(r'$ice \\ layers$')#,fontsize=fontsize)\n",
    "#limits\n",
    "#ax.set_zlim3d(-self.layermax, self.layermax)\n",
    "#ax.set_ylim(0, max(self.y))\n",
    "#ax.set_xlim(0, max(self.x))\n",
    "def update_fig(num):\n",
    "    ax.clear() # remove last iteration of plot \n",
    "    plot_func = ax.plot_surface\n",
    "    # if crossSection:\n",
    "    #     xmid = round(np.shape(Nice)[0]/2)\n",
    "    #     if ice:\n",
    "    #         plot_func(X=xs[xmid:], Y=ys[xmid:], Z=nice_ss[num][xmid:][:],cmap ='viridis')# cmap='viridis')#, vmin=0, vmax=200) #plot half of the surface of the ice\n",
    "    #     if tot:\n",
    "    #         plot_func(X=xs[xmid:], Y=ys[xmid:], Z=Ntot_steadystate[num][xmid:][:], cmap='cividis')#, vmin=0, vmax=200) #plot half the surface of the QLL\n",
    "    # else:\n",
    "    #     if ice:\n",
    "    plot_func(X=xs, Y=ys, Z=nice_ss[num], cmap='viridis')#, vmin=0, vmax=200) #plot the surface of the ice \n",
    "        # if tot:\n",
    "    # plot_func(X=xs, Y=ys, Z=Ntot_steadystate[num], cmap='YlGnBu_r')#, vmin=0, vmax=200)#plot the surface of the QLL\n",
    "    pass\n",
    "\n",
    "\n",
    "num_steps = len(test_f2d_sim._results['t'])\n",
    "import matplotlib.animation as animation\n",
    "ani = animation.FuncAnimation(fig , update_fig, num_steps, interval=50, blit=False, cache_frame_data=False, repeat = True)\n",
    "plt.show()"
   ]
  },
  {
   "cell_type": "code",
   "execution_count": null,
   "metadata": {},
   "outputs": [],
   "source": [
    "test_2d_sim = Simulation(f2d, (500,500), rtol=1e-12)\n",
    "test_2d_sim.layermax = 2\n",
    "#test_2d_sim = loadSim('f2d_simulation_august13.pkl')\n",
    "_plot = test_2d_sim.plot()"
   ]
  },
  {
   "cell_type": "markdown",
   "metadata": {},
   "source": [
    "1d simulation "
   ]
  },
  {
   "cell_type": "code",
   "execution_count": null,
   "metadata": {},
   "outputs": [],
   "source": [
    "test_2d_sim.save(id=['august13'])"
   ]
  },
  {
   "cell_type": "code",
   "execution_count": null,
   "metadata": {},
   "outputs": [],
   "source": [
    "fig = plt.figure()\n",
    "ax = plt.axes(projection='3d')\n",
    "num_steps = len(test_2d_sim.results()['t'])\n",
    "xs,ys = np.meshgrid(test_2d_sim.x, test_2d_sim.y)\n",
    "ax.plot_surface(X=xs, Y=ys, Z=test_2d_sim.getNtot()[num_steps-1], cmap='viridis')"
   ]
  },
  {
   "cell_type": "code",
   "execution_count": null,
   "metadata": {},
   "outputs": [],
   "source": [
    "test_1d = Simulation(f1d, shape=(500,), rtol=1e-12)\n",
    "test_1d.layermax = 500\n",
    "test_1d.results()"
   ]
  },
  {
   "cell_type": "code",
   "execution_count": null,
   "metadata": {},
   "outputs": [],
   "source": [
    "#test_1d.animate(ice=True, tot=True)\n",
    "test_1d.plot()"
   ]
  },
  {
   "cell_type": "markdown",
   "metadata": {},
   "source": []
  },
  {
   "cell_type": "markdown",
   "metadata": {},
   "source": [
    "2d Idea: increase sigmastepmax to see if faceted growth occur, removing the concave \"bowl\" forming at the center of initially tested 2d systems (test_f2d_sim)"
   ]
  },
  {
   "cell_type": "code",
   "execution_count": null,
   "metadata": {},
   "outputs": [],
   "source": [
    "# sigma_test = Simulation(f2d, (500,500),rtol = 1e-12)\n",
    "# sigma_test.layermax = 100\n",
    "# sigma_test.sigmastepmax = 0.25\n",
    "# sigma_test.results()"
   ]
  },
  {
   "cell_type": "code",
   "execution_count": null,
   "metadata": {},
   "outputs": [],
   "source": [
    "#sigma_id = ['sigmastepmax_'+str(round(100*sigma_test.sigmastepmax)), str(sigma_test.layermax)+'layers']\n",
    "#sigma_test.save(id=sigma_id)\n",
    "\n",
    "#test increased layers with increased sigmastep\n",
    "\n",
    "#sigma_test = loadSim('f2d_simulation_sigmastepmax_025.pkl') # 20 layers?\n",
    "#sigma_test = loadSim('f2d_simulation_sigmastepmax_025_50layers.pkl')\n",
    "sigma_test = loadSim('f2d_simulation_sigmastepmax_25_100layers.pkl')"
   ]
  },
  {
   "cell_type": "code",
   "execution_count": null,
   "metadata": {},
   "outputs": [],
   "source": [
    "sigma_test.animate()"
   ]
  },
  {
   "cell_type": "markdown",
   "metadata": {},
   "source": [
    "2d Ablation testing"
   ]
  },
  {
   "cell_type": "code",
   "execution_count": null,
   "metadata": {},
   "outputs": [],
   "source": [
    "f2d_ablate = Simulation(f2d, (500,500), rtol=1e-12)\n",
    "f2d_ablate.sigmastepmax = -0.1\n",
    "f2d_ablate.layermax = 50\n",
    "f2d_ablate.animate()"
   ]
  },
  {
   "cell_type": "markdown",
   "metadata": {},
   "source": [
    "1d growth testing. Works, however does not currently match the literature graph despite using the same parameters."
   ]
  },
  {
   "cell_type": "code",
   "execution_count": null,
   "metadata": {},
   "outputs": [],
   "source": [
    "f1d_sim = Simulation(f1d, (500,), rtol=1e-12)"
   ]
  },
  {
   "cell_type": "code",
   "execution_count": null,
   "metadata": {},
   "outputs": [],
   "source": [
    "#change parameters to match Gladich et al paper's graph and run simulation\n",
    "f1d_sim.layermax = 500#10000\n",
    "#f1d_sim.center_reduction = 0.25 #is default now"
   ]
  },
  {
   "cell_type": "code",
   "execution_count": null,
   "metadata": {},
   "outputs": [],
   "source": [
    "f1d_sim.run()"
   ]
  },
  {
   "cell_type": "code",
   "execution_count": null,
   "metadata": {},
   "outputs": [],
   "source": [
    "fig = f1d_sim.plot(completion=0.99, ice=True, tot=True)"
   ]
  },
  {
   "cell_type": "code",
   "execution_count": null,
   "metadata": {},
   "outputs": [],
   "source": [
    "#print variables in 1d simulation for comparison to literature\n",
    "for k,v in f1d_sim._extra_vars.items():\n",
    "    print(k,v)\n",
    "print('center reduction %: ', f1d_sim.center_reduction)"
   ]
  },
  {
   "cell_type": "code",
   "execution_count": null,
   "metadata": {},
   "outputs": [],
   "source": [
    "#functions tested so far\n",
    "#test_f2d_sim.countermax_0D\n",
    "#test_f2d_sim.countermax_1D\n",
    "#test_f2d_sim.countermax_2D\n",
    "#test_f2d_sim.atol\n",
    "#test_f2d_sim.rtol\n",
    "#test_f2d_sim.deltaT\n",
    "#test_f2d_sim.float_params\n",
    "#test_f2d_sim.animate()\n",
    "#test_f2d_sim.run()\n",
    "#test_f2d_sim.steady_state_calc()\n",
    "#test_f2d_sim.plot()\n",
    "#test_f2d_sim.save()\n",
    "#test_f2d_sim.load() #WORKS to load simulation from file if simulation object exists already -- for loading straght froom file use loadSim()\n",
    "#loadSim() #works\n",
    "\n"
   ]
  },
  {
   "cell_type": "code",
   "execution_count": null,
   "metadata": {},
   "outputs": [],
   "source": [
    "num_steps = len(test_f2d_sim.results()['t'])\n",
    "#shape of results is (num_steps, 2, nx, ny)\n",
    "Fliq, Ntot = [],[]\n",
    "for step in range(num_steps):\n",
    "    next_Fliq, next_Ntot = test_f2d_sim._results['y'][step]\n",
    "    Fliq.append(next_Fliq)\n",
    "    Ntot.append(next_Ntot)    \n",
    "Fliq,Ntot = np.array(Fliq), np.array(Ntot)\n",
    "Nice = Ntot - Fliq\n",
    "#shape of fliq, ntot and nice should be (num_steps, nx, ny)\n",
    "\n",
    "#access coordinate arrays for plotting\n",
    "xs, ys = np.meshgrid(test_f2d_sim.x, test_f2d_sim.y)"
   ]
  },
  {
   "cell_type": "code",
   "execution_count": null,
   "metadata": {},
   "outputs": [],
   "source": [
    "print(num_steps)\n",
    "print(test_f2d_sim.steepness(0,slice(0,test_f2d_sim.shape[0]//2)))"
   ]
  },
  {
   "cell_type": "code",
   "execution_count": null,
   "metadata": {},
   "outputs": [],
   "source": [
    "print(test_f2d_sim.get_step_density(0,slice(0,test_f2d_sim.shape[0]//2)))  "
   ]
  },
  {
   "cell_type": "code",
   "execution_count": null,
   "metadata": {},
   "outputs": [],
   "source": []
  }
 ],
 "metadata": {
  "kernelspec": {
   "display_name": "Python 3",
   "language": "python",
   "name": "python3"
  },
  "language_info": {
   "codemirror_mode": {
    "name": "ipython",
    "version": 3
   },
   "file_extension": ".py",
   "mimetype": "text/x-python",
   "name": "python",
   "nbconvert_exporter": "python",
   "pygments_lexer": "ipython3",
   "version": "3.9.13"
  },
  "orig_nbformat": 4,
  "vscode": {
   "interpreter": {
    "hash": "a5639f55dd41388b289936a35ec1befe471f3e8ab332c7f154620eef02aaf2e9"
   }
  }
 },
 "nbformat": 4,
 "nbformat_minor": 2
}
