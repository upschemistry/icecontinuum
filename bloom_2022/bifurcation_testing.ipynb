{
 "cells": [
  {
   "cell_type": "code",
   "execution_count": 1,
   "metadata": {},
   "outputs": [],
   "source": [
    "import numpy as np\n",
    "from matplotlib import pyplot as plt\n",
    "#from matplotlib import rcParams\n",
    "from decimal import Decimal # for rouinding the d range\n",
    "\n",
    "import plotly\n",
    "import plotly.graph_objects as go\n",
    "\n",
    "from sim_handling import Simulation,loadSim\n",
    "from diffusionstuff7 import f0d,f1d,f2d"
   ]
  },
  {
   "cell_type": "code",
   "execution_count": 2,
   "metadata": {},
   "outputs": [],
   "source": [
    "%matplotlib widget"
   ]
  },
  {
   "attachments": {},
   "cell_type": "markdown",
   "metadata": {},
   "source": [
    "This notebook is to create 3d plots of the number of steps (z axis) over time (y axis) for 1D simulations against a variable parameter (x axis). The parameters to begin with will be those from the 1D QLL mediated continuum model of ice. \n",
    "A 3d plot will be created for each parameter. Additionally, the fig11 x value and predicted Nss value will be plotted on a slice of the 3d plot at the final x value, and a difference between the actual and predicted values will printed.\n",
    "Around 20 values for each parameter will be tested."
   ]
  },
  {
   "cell_type": "code",
   "execution_count": 3,
   "metadata": {},
   "outputs": [],
   "source": [
    "#parameters for all simulations\n",
    "\n",
    "#save or load files? #TODO: implement\n",
    "# save_mode = False\n",
    "# load_mode = True\n",
    "\n",
    "\n",
    "number_of_timesteps = 110_000 #its just steady state past 100k timesteps in all tested cases\n",
    "#we want all sims to be the same length, so we are going to use the same number of timesteps for all sims (not using # of layers halt or discretization halt)\n",
    "use_layers = False\n",
    "discretization_halt = False \n",
    "\n",
    "print_ranges = False\n",
    "plot_Nss_vs_params = True\n",
    "\n",
    "#number of values to test for each parameter\n",
    "num_sims = 23\n",
    "\n",
    "sigma_range = np.linspace(0.19, 0.5, num_sims)#- 0.19 INSTEAD OF 0.2, OTHERWISE same as in Nesh et al 2016\n",
    "\n",
    "sigma_range_subsat = np.linspace(-0.3, 0.5, num_sims)#- trying negative supersaturation values (subsaturation/ablation conditions)\n",
    "\n",
    "c_r_range = np.linspace(0.15, 0.7, num_sims)#- same as in Nesh et al 2016\n",
    "\n",
    "d_range = np.linspace(0.75, 6, num_sims)#-*E-4,  same as in Nesh et al 2016\n",
    "d_range = [round(d,2)*1E-4 for d in d_range] # round to nearest .01\n",
    "d_range = [float(Decimal(str(x)).quantize(Decimal('1.00E-4'))) for x in d_range]\n",
    "\n",
    "nu_kin_range = np.linspace(20, 140, num_sims)#- same as in Nesh et al 2016\n",
    "nu_kin_range = [int(round(nukin)) for nukin in nu_kin_range] # round to nearest 1\n",
    "\n",
    "l_range = np.linspace(350, 850, num_sims) # 0.2 microns per point means L of 17.5 microns to 42.5 microns - same as in Nesh et al 2016\n",
    "l_range = [int(round(l,-1)) for l in l_range] # round to nearest 10\n",
    "\n",
    "\n",
    "if print_ranges:\n",
    "    print(\"sigma range: \", sigma_range)\n",
    "    print(\"sigma range subsat: \", sigma_range_subsat)\n",
    "    print(\"c_r range: \", c_r_range)\n",
    "    print(\"d range: \", d_range)\n",
    "    print(\"nu_kin range: \", nu_kin_range)\n",
    "    print(\"l range: \", l_range)\n",
    "\n"
   ]
  },
  {
   "cell_type": "code",
   "execution_count": null,
   "metadata": {},
   "outputs": [],
   "source": [
    "#sigma sims\n",
    "Ntots = []\n",
    "\n",
    "for sigma in sigma_range:\n",
    "#set up and run and plot a new simulation\n",
    "\tsigma_sim_1d = Simulation(f1d, (500,), method='RK45')\n",
    "\n",
    "\t#set it based off number of timesteps so that it's the same for all (different growth rates)\n",
    "\tsigma_sim_1d.uselayers = use_layers\n",
    "\tsigma_sim_1d.countermax = number_of_timesteps #enough for steady state under original regular conditions\n",
    "\tsigma_sim_1d.discretization_halt = discretization_halt # needs to be same length of simulation, we want to see the differences if it causes discretization halt\n",
    "\n",
    "\t#test_1d_asym.float_params['DoverdeltaX2'] \n",
    "\t#sigma_sim_1d.layermax = 1100 \n",
    "\tsigma_sim_1d.sigmastepmax = sigma\n",
    "\n",
    "\tNtots.append(sigma_sim_1d.getNtot())"
   ]
  },
  {
   "cell_type": "code",
   "execution_count": null,
   "metadata": {},
   "outputs": [],
   "source": [
    "#process the results\n",
    "zacc = []\n",
    "#turn Ntot into Nss\n",
    "for Ntot in Ntots:\n",
    "    maxes = np.array([np.max(n) for n in Ntot[:]])\n",
    "    mins = np.array([np.min(n) for n in Ntot[:]])\n",
    "    z = maxes-mins #(array of size x (number of timesteps), each value is z value (number of steps on surface) at that time)\n",
    "    zacc.append(z)\n",
    "\n",
    "zacc = np.array(zacc)\n",
    "print(zacc)\n",
    "\n",
    "#stack z frames together along x axis, so time is y axis and different sigma values are x axis\n",
    "zs = np.stack(zacc, axis=0)\n",
    "print(zacc.shape)\n",
    "\n",
    "ys = np.linspace(0, zacc.shape[1], zacc.shape[1])\n",
    "\n",
    "ys,xs = np.meshgrid(ys,sigma_range)"
   ]
  },
  {
   "cell_type": "code",
   "execution_count": null,
   "metadata": {},
   "outputs": [],
   "source": [
    "#matplotlib 3d plot of the results - slow\n",
    "# fig = plt.figure('number of steps over time vs sigma')\n",
    "# ax = plt.axes(projection='3d')\n",
    "# ax.set_xlabel('Sigma')\n",
    "# ax.set_ylabel('Time')\n",
    "# ax.set_zlabel('Number of steps (bilyers of ice)')\n",
    "\n",
    "# print(len(Ntots))\n",
    "\n",
    "# ax.plot_wireframe(X=xs, Y=ys, Z=zs, cmap='viridis')#, vmin=0, vmax=200)"
   ]
  },
  {
   "cell_type": "code",
   "execution_count": null,
   "metadata": {},
   "outputs": [],
   "source": [
    "#3d plot of results. plotly\n",
    "if plot_Nss_vs_params:\n",
    "    fig = go.Figure(data=[go.Surface(x=xs,y=ys,z=zs, colorscale=\"blues\", showscale=False)])\n",
    "    fig.update_layout(scene = dict(\n",
    "                        xaxis_title='Sigma corner',\n",
    "                        yaxis_title='Time (timesteps)',\n",
    "                        zaxis_title='Number of steps (bilyers of ice)'),\n",
    "                        title='number of steps over time vs sigma')"
   ]
  },
  {
   "cell_type": "code",
   "execution_count": null,
   "metadata": {},
   "outputs": [],
   "source": [
    "#Save the plot as an interactive webpage html file\n",
    "plotly.offline.plot(fig, filename='Nss_vs_sigma_with_subsat.html')"
   ]
  },
  {
   "cell_type": "code",
   "execution_count": null,
   "metadata": {},
   "outputs": [],
   "source": [
    "# get the # of steps at the last timestep of the simulation for each sigma value (for plotting and creating the NSS vs parameters plot (Fig 7 in Neshyba et al 2016))\n",
    "final_Nss_vs_sigma = zs[:, -1]\n",
    "np.save('final_with_subsat_Nss_vs_sigma', final_Nss_vs_sigma)\n"
   ]
  },
  {
   "cell_type": "code",
   "execution_count": null,
   "metadata": {},
   "outputs": [],
   "source": [
    "# plot NSS at steady state vs sigma using matplotlib; for comparison to Neshyba et al 2016\n",
    "plt.close('number of steps after 110k steps vs sigma')\n",
    "fig2 = plt.figure('number of steps after 110k steps vs sigma')\n",
    "ax2 = plt.axes()\n",
    "ax2.set_xlabel('Sigma')\n",
    "ax2.set_ylabel('Number of steps (bilayers of ice)')\n",
    "ax2.scatter(sigma_range, final_Nss_vs_sigma, s=50, marker='o', facecolors='none', edgecolors='b')\n",
    "plt.grid()\n",
    "plt.show()\n",
    "\n",
    "# equation that relates the parameters to the number of steps (Nss) in the ice sheet - from Neshyba et al 2016, Figure 11\n",
    "#NSS ≈ M *(v_kin*L^2*c_r^β*σ_I,corner)/ D + B"
   ]
  },
  {
   "cell_type": "code",
   "execution_count": null,
   "metadata": {},
   "outputs": [],
   "source": [
    "#Do the same thing now, but for center reduction\n",
    "\n",
    "#process the results\n",
    "zacc = []\n",
    "\n",
    "#run and process results\n",
    "\n",
    "for center_reduction in c_r_range:\n",
    "#set up and run and plot a new simulation\n",
    "\ttest_1d_asym = Simulation(f1d, (500,), method='RK45')\n",
    "\n",
    "\t#set it based off number of timesteps so that it's the same for all (different growth rates)\n",
    "\ttest_1d_asym.uselayers = use_layers\n",
    "\ttest_1d_asym.countermax = number_of_timesteps #enough for steady state under original regular conditions\n",
    "\n",
    "\ttest_1d_asym.discretization_halt = discretization_halt # needs to be same length of simulation, we want to see the differences if it causes discretization halt\n",
    "\n",
    "\ttest_1d_asym.center_reduction = center_reduction\n",
    "\n",
    "\tNtot= test_1d_asym.getNtot()\n",
    "\tmaxes = np.array([np.max(n) for n in Ntot[:]])\n",
    "\tmins = np.array([np.min(n) for n in Ntot[:]])\n",
    "\tz = maxes-mins #(array of size x (number of timesteps), each value is z value (number of steps on surface) at that time)\n",
    "\tzacc.append(z)\n",
    "\n",
    "zacc = np.array(zacc)\n",
    "print(zacc)\n",
    "\n",
    "#stack z frames together along x axis, so time is y axis and different sigma values are x axis\n",
    "zs = np.stack(zacc, axis=0)\n",
    "print(zacc.shape)\n",
    "\n",
    "ys = np.linspace(0, zacc.shape[1], zacc.shape[1])\n",
    "\n",
    "ys,xs = np.meshgrid(ys,c_r_range)"
   ]
  },
  {
   "cell_type": "code",
   "execution_count": null,
   "metadata": {},
   "outputs": [],
   "source": [
    "#save NSS vs c_r data for last step\n",
    "final_Nss_vs_c_r = zs[:, -1]\n",
    "np.save('final_Nss_vs_c_r', final_Nss_vs_c_r)"
   ]
  },
  {
   "cell_type": "code",
   "execution_count": null,
   "metadata": {},
   "outputs": [],
   "source": [
    "# plot the results using matplotlib to show NSS at steady state vs sigma; for comparison to Neshyba et al 2016\n",
    "plt.close('number of steps after 110k steps vs c_r')\n",
    "fig2 = plt.figure('number of steps after 110k steps vs c_r')\n",
    "ax2 = plt.axes()\n",
    "ax2.set_xlabel('c_r')\n",
    "ax2.set_ylabel('Number of steps (bilayers of ice)')\n",
    "ax2.scatter(c_r_range, final_Nss_vs_c_r, s=50, marker='o', facecolors='none', edgecolors='b')\n",
    "plt.grid()\n",
    "plt.show()\n",
    "\n",
    "# equation that relates the parameters to the number of steps (Nss) in the ice sheet - from Neshyba et al 2016, Figure 11\n",
    "#NSS ≈ M *(v_kin*L^2*c_r^β*σ_I,corner)/ D + B"
   ]
  },
  {
   "cell_type": "code",
   "execution_count": null,
   "metadata": {},
   "outputs": [],
   "source": [
    "#3d plot of results. plotly\n",
    "if plot_Nss_vs_params:\n",
    "    fig = go.Figure(data=[go.Surface(x=xs,y=ys,z=zs, colorscale=\"blues\", showscale=False)])\n",
    "    fig.update_layout(scene = dict(\n",
    "                        xaxis_title='Center reduction, %',\n",
    "                        yaxis_title='Time (timesteps)',\n",
    "                        zaxis_title='Number of steps (bilyers of ice)'),\n",
    "                        title='number of steps over time vs center reduction')\n",
    "    fig.show(width=1000, height=1000)\n",
    "    #save the results as an interactive html file\n",
    "    fig.write_html(\"c_r_vs_Nss.html\")\n",
    "    #plotly.offline.plot(fig, filename='c_r_vs_sigma.html')"
   ]
  },
  {
   "cell_type": "code",
   "execution_count": null,
   "metadata": {},
   "outputs": [],
   "source": [
    "#Do the same thing now, but for Diffusion coefficient\n",
    "\n",
    "\n",
    "#process the results\n",
    "zacc = []\n",
    "\n",
    "#run and process results\n",
    "\n",
    "for D in d_range:\t\n",
    "#set up and run and plot a new simulation\n",
    "\tsim_1d_D = Simulation(f1d, (500,), method='RK45')\n",
    "\n",
    "\t#set it based off number of timesteps so that it's the same for all (different growth rates)\n",
    "\tsim_1d_D.uselayers = use_layers\n",
    "\tsim_1d_D.countermax = number_of_timesteps #enough for steady state under original regular conditions\n",
    "\n",
    "\tsim_1d_D.discretization_halt = discretization_halt # needs to be same length of simulation, we want to see the differences if it causes discretization halt\n",
    "\n",
    "\n",
    "\tdeltaX = sim_1d_D.x[1]-sim_1d_D.x[0]\n",
    "\tsim_1d_D.float_params['DoverdeltaX2'] = D/deltaX**2\n",
    "\n",
    "\tsim_1d_D.layermax = 1100\n",
    "\tsim_1d_D.sigmastepmax = 0.20\n",
    "\tsim_1d_D.center_reduction = 0.25\n",
    "\n",
    "\tNtot= sim_1d_D.getNtot()\n",
    "\tmaxes = np.array([np.max(n) for n in Ntot[:]])\n",
    "\tmins = np.array([np.min(n) for n in Ntot[:]])\n",
    "\tz = maxes-mins #(array of size x (number of timesteps), each value is z value (number of steps on surface) at that time)\n",
    "\tzacc.append(z)\n",
    "\n",
    "zacc = np.array(zacc)\n",
    "print(zacc)\n",
    "\n",
    "#stack z frames together along x axis, so time is y axis and different sigma values are x axis\n",
    "zs = np.stack(zacc, axis=0)\n",
    "print(zacc.shape)\n",
    "\n",
    "ys = np.linspace(0, zacc.shape[1], zacc.shape[1])\n",
    "\n",
    "ys,xs = np.meshgrid(ys,d_range)"
   ]
  },
  {
   "cell_type": "code",
   "execution_count": null,
   "metadata": {},
   "outputs": [],
   "source": [
    "#save NSS vs D data for last step\n",
    "final_Nss_vs_D = zs[:, -1]\n",
    "np.save('final_Nss_vs_D', final_Nss_vs_D)"
   ]
  },
  {
   "cell_type": "code",
   "execution_count": null,
   "metadata": {},
   "outputs": [],
   "source": [
    "# plot the results using matplotlib to show NSS at steady state vs D; for comparison to Neshyba et al 2016\n",
    "plt.close('number of steps after 110k steps vs D')\n",
    "fig2 = plt.figure('number of steps after 110k steps vs D')\n",
    "ax2 = plt.axes()\n",
    "ax2.set_xlabel('D')\n",
    "ax2.set_ylabel('Number of steps (bilayers of ice)')\n",
    "ax2.scatter(d_range, final_Nss_vs_D, s=50, marker='o', facecolors='none', edgecolors='b')\n",
    "plt.grid()\n",
    "plt.show()\n"
   ]
  },
  {
   "cell_type": "code",
   "execution_count": null,
   "metadata": {},
   "outputs": [],
   "source": [
    "#3d plot of results. plotly\n",
    "if plot_Nss_vs_params:\n",
    "    fig = go.Figure(data=[go.Surface(x=xs,y=ys,z=zs, colorscale=\"blues\", showscale=False)])\n",
    "    fig.update_layout(scene = dict(\n",
    "                        xaxis_title='D, microns^2/microsecond',\n",
    "                        yaxis_title='Time (timesteps)',\n",
    "                        zaxis_title='Number of steps (bilayers of ice)'),\n",
    "                        title='number of steps over time vs diffusion coefficient')\n",
    "    fig.show(width=1000, height=1000)\n",
    "    #save the results as an interactive html file\n",
    "    fig.write_html(\"D_vs_Nss.html\")   "
   ]
  },
  {
   "cell_type": "code",
   "execution_count": null,
   "metadata": {},
   "outputs": [],
   "source": [
    "#Do the same thing now, but for nu_kin\n",
    "\n",
    "#run and process results\n",
    "zacc = []\n",
    "\n",
    "for nu_kin in nu_kin_range:\n",
    "#set up and run and plot a new simulation\n",
    "\tsim_1d_D = Simulation(f1d, (500,), method='RK45')\n",
    "\n",
    "\t#set it based off number of timesteps so that it's the same for all (different growth rates)\n",
    "\tsim_1d_D.uselayers = use_layers\n",
    "\tsim_1d_D.countermax = number_of_timesteps #enough for steady state under original regular conditions\n",
    "\n",
    "\tsim_1d_D.discretization_halt = discretization_halt # needs to be same length of simulation, we want to see the differences if it causes discretization halt\n",
    "\n",
    "\t#deprate is accesible, changable parameter, not in microns per second. That value of nu_kin in microns per second is set as 49, so we divide by 49 to get the correct range of deprate values\n",
    "\tsim_1d_D.float_params['deprate'] *= nu_kin/49\n",
    "\n",
    "\t#defaults\n",
    "\tsim_1d_D.layermax = 1100\n",
    "\tsim_1d_D.sigmastepmax = 0.20\n",
    "\tsim_1d_D.center_reduction = 0.25\n",
    "\n",
    "\tNtot= sim_1d_D.getNtot()\n",
    "\tmaxes = np.array([np.max(n) for n in Ntot[:]])\n",
    "\tmins = np.array([np.min(n) for n in Ntot[:]])\n",
    "\tz = maxes-mins #(array of size x (number of timesteps), each value is z value (number of steps on surface) at that time)\n",
    "\tzacc.append(z)\n",
    "\n",
    "zacc = np.array(zacc)\n",
    "print(zacc)\n",
    "\n",
    "#stack z frames together along x axis, so time is y axis and different sigma values are x axis\n",
    "zs = np.stack(zacc, axis=0)\n",
    "print(zacc.shape)\n",
    "\n",
    "ys = np.linspace(0, zacc.shape[1], zacc.shape[1])\n",
    "ys,xs = np.meshgrid(ys,nu_kin_range)"
   ]
  },
  {
   "cell_type": "code",
   "execution_count": null,
   "metadata": {},
   "outputs": [],
   "source": [
    "# get the # of steps at the last timestep of the simulation for each sigma value (for plotting and creating the NSS vs parameters plot (Fig 7 in Neshyba et al 2016))\n",
    "final_Nss_vs_v_kin = zs[:, -1]\n",
    "np.save('final_Nss_vs_v_kin', final_Nss_vs_v_kin)"
   ]
  },
  {
   "cell_type": "code",
   "execution_count": null,
   "metadata": {},
   "outputs": [],
   "source": [
    "#3d plot of results. plotly\n",
    "if plot_Nss_vs_params:\n",
    "    fig = go.Figure(data=[go.Surface(x=xs,y=ys,z=zs, colorscale=\"blues\", showscale=False)])\n",
    "    fig.update_layout(scene = dict(\n",
    "                        xaxis_title='nu_kin, microns/second',\n",
    "                        yaxis_title='Time (timesteps)',\n",
    "                        zaxis_title='Number of steps (bilayers of ice)'),\n",
    "                        title='number of steps over time vs nu_kin')\n",
    "    #save the results as an interactive html file\n",
    "    fig.write_html(\"nu_kin_vs_Nss.html\")"
   ]
  },
  {
   "cell_type": "code",
   "execution_count": 13,
   "metadata": {},
   "outputs": [],
   "source": [
    "#load partial zacc, convert to list for appending\n",
    "zacc = np.load('zacc_lrange_inc_pause.npy', allow_pickle=True)\n",
    "zacc = zacc.tolist()"
   ]
  },
  {
   "cell_type": "code",
   "execution_count": 10,
   "metadata": {},
   "outputs": [
    {
     "name": "stdout",
     "output_type": "stream",
     "text": [
      "15\n",
      "23\n"
     ]
    }
   ],
   "source": [
    "print(len(zacc))\n",
    "print(len(l_range))"
   ]
  },
  {
   "cell_type": "code",
   "execution_count": 9,
   "metadata": {},
   "outputs": [
    {
     "name": "stdout",
     "output_type": "stream",
     "text": [
      "(15, 110001)\n"
     ]
    }
   ],
   "source": [
    "print(zacc.shape)"
   ]
  },
  {
   "cell_type": "code",
   "execution_count": 12,
   "metadata": {},
   "outputs": [
    {
     "name": "stdout",
     "output_type": "stream",
     "text": [
      "[350, 370, 400, 420, 440, 460, 490, 510, 530, 550, 580, 600, 620, 650, 670]\n",
      "[710, 740, 760, 780, 800, 830, 850]\n"
     ]
    }
   ],
   "source": [
    "print(l_range[0:15])\n",
    "print(l_range[16:])"
   ]
  },
  {
   "cell_type": "code",
   "execution_count": 14,
   "metadata": {},
   "outputs": [
    {
     "name": "stdout",
     "output_type": "stream",
     "text": [
      "appx progress: 0.33 %\r"
     ]
    },
    {
     "ename": "KeyboardInterrupt",
     "evalue": "",
     "output_type": "error",
     "traceback": [
      "\u001b[1;31m---------------------------------------------------------------------------\u001b[0m",
      "\u001b[1;31mKeyboardInterrupt\u001b[0m                         Traceback (most recent call last)",
      "Cell \u001b[1;32mIn[14], line 24\u001b[0m\n\u001b[0;32m     21\u001b[0m sim_1d_D\u001b[39m.\u001b[39msigmastepmax \u001b[39m=\u001b[39m \u001b[39m0.20\u001b[39m\n\u001b[0;32m     22\u001b[0m sim_1d_D\u001b[39m.\u001b[39mcenter_reduction \u001b[39m=\u001b[39m \u001b[39m0.25\u001b[39m\n\u001b[1;32m---> 24\u001b[0m Ntot \u001b[39m=\u001b[39m sim_1d_D\u001b[39m.\u001b[39;49mgetNtot()\n\u001b[0;32m     25\u001b[0m maxes \u001b[39m=\u001b[39m np\u001b[39m.\u001b[39marray([np\u001b[39m.\u001b[39mmax(n) \u001b[39mfor\u001b[39;00m n \u001b[39min\u001b[39;00m Ntot[:]])\n\u001b[0;32m     26\u001b[0m mins \u001b[39m=\u001b[39m np\u001b[39m.\u001b[39marray([np\u001b[39m.\u001b[39mmin(n) \u001b[39mfor\u001b[39;00m n \u001b[39min\u001b[39;00m Ntot[:]])\n",
      "File \u001b[1;32mc:\\Users\\Max-PC\\OneDrive - University of Puget Sound\\Research 2022\\Workspace\\icecontinuum\\bloom_2022\\sim_handling.py:509\u001b[0m, in \u001b[0;36mSimulation.getNtot\u001b[1;34m(self, step)\u001b[0m\n\u001b[0;32m    505\u001b[0m \u001b[39m\u001b[39m\u001b[39m\"\"\"\u001b[39;00m\n\u001b[0;32m    506\u001b[0m \u001b[39mReturns the array of total ice and QLL thickness at each time step.\u001b[39;00m\n\u001b[0;32m    507\u001b[0m \u001b[39m\"\"\"\u001b[39;00m\n\u001b[0;32m    508\u001b[0m \u001b[39mif\u001b[39;00m step \u001b[39mis\u001b[39;00m \u001b[39mNone\u001b[39;00m:\n\u001b[1;32m--> 509\u001b[0m     \u001b[39mreturn\u001b[39;00m np\u001b[39m.\u001b[39masarray(\u001b[39mself\u001b[39;49m\u001b[39m.\u001b[39;49mresults()[\u001b[39m'\u001b[39m\u001b[39my\u001b[39m\u001b[39m'\u001b[39m])[:, \u001b[39m1\u001b[39m]\n\u001b[0;32m    510\u001b[0m \u001b[39melse\u001b[39;00m:\n\u001b[0;32m    511\u001b[0m     \u001b[39mreturn\u001b[39;00m \u001b[39mself\u001b[39m\u001b[39m.\u001b[39mresults()[\u001b[39m'\u001b[39m\u001b[39my\u001b[39m\u001b[39m'\u001b[39m][step][\u001b[39m1\u001b[39m]\n",
      "File \u001b[1;32mc:\\Users\\Max-PC\\OneDrive - University of Puget Sound\\Research 2022\\Workspace\\icecontinuum\\bloom_2022\\sim_handling.py:492\u001b[0m, in \u001b[0;36mSimulation.results\u001b[1;34m(self)\u001b[0m\n\u001b[0;32m    490\u001b[0m \u001b[39m\u001b[39m\u001b[39m\"\"\" Returns results of simulation (handles running if necessary) \"\"\"\u001b[39;00m\n\u001b[0;32m    491\u001b[0m \u001b[39mif\u001b[39;00m \u001b[39mself\u001b[39m\u001b[39m.\u001b[39m_results \u001b[39m==\u001b[39m {\u001b[39mNone\u001b[39;00m:\u001b[39mNone\u001b[39;00m}:\n\u001b[1;32m--> 492\u001b[0m     \u001b[39mself\u001b[39;49m\u001b[39m.\u001b[39;49mrun()\n\u001b[0;32m    493\u001b[0m \u001b[39mreturn\u001b[39;00m \u001b[39mself\u001b[39m\u001b[39m.\u001b[39m_results\n",
      "File \u001b[1;32mc:\\Users\\Max-PC\\OneDrive - University of Puget Sound\\Research 2022\\Workspace\\icecontinuum\\bloom_2022\\sim_handling.py:402\u001b[0m, in \u001b[0;36mSimulation.run\u001b[1;34m(self, print_progress, print_count_layers, halve_time_res)\u001b[0m\n\u001b[0;32m    399\u001b[0m     y \u001b[39m=\u001b[39m solve_ivp_result\u001b[39m.\u001b[39my[:, \u001b[39mlen\u001b[39m(solve_ivp_result\u001b[39m.\u001b[39mt)\u001b[39m-\u001b[39m\u001b[39m1\u001b[39m]\u001b[39m#y[:,-1] : get last timestep that solve_ivp returns\u001b[39;00m\n\u001b[0;32m    400\u001b[0m \u001b[39melse\u001b[39;00m:\n\u001b[0;32m    401\u001b[0m     \u001b[39m#old version: solve_ivp_result = solve_ivp(self.model, self.tinterval, np.reshape(ylast,np.prod(np.shape(ylast))), method=self.method, args=model_args, t_eval=self.tinterval, rtol=self.rtol, atol=self.atol)\u001b[39;00m\n\u001b[1;32m--> 402\u001b[0m     solve_ivp_result \u001b[39m=\u001b[39m solve_ivp(\u001b[39mself\u001b[39;49m\u001b[39m.\u001b[39;49mmodel, \u001b[39mself\u001b[39;49m\u001b[39m.\u001b[39;49mtinterval, np\u001b[39m.\u001b[39;49mreshape(ylast,np\u001b[39m.\u001b[39;49mprod(np\u001b[39m.\u001b[39;49mshape(ylast))), method\u001b[39m=\u001b[39;49m\u001b[39mself\u001b[39;49m\u001b[39m.\u001b[39;49mmethod, args\u001b[39m=\u001b[39;49mmodel_args, rtol\u001b[39m=\u001b[39;49m\u001b[39mself\u001b[39;49m\u001b[39m.\u001b[39;49mrtol, atol\u001b[39m=\u001b[39;49m\u001b[39mself\u001b[39;49m\u001b[39m.\u001b[39;49matol)\n\u001b[0;32m    404\u001b[0m y \u001b[39m=\u001b[39m solve_ivp_result\u001b[39m.\u001b[39my[:, \u001b[39mlen\u001b[39m(solve_ivp_result\u001b[39m.\u001b[39mt)\u001b[39m-\u001b[39m\u001b[39m1\u001b[39m]\u001b[39m#y[:,-1] : get last timestep that solve_ivp returns\u001b[39;00m\n\u001b[0;32m    406\u001b[0m \u001b[39m# Update the state                 \u001b[39;00m\n",
      "File \u001b[1;32mc:\\Python311\\Lib\\site-packages\\scipy\\integrate\\_ivp\\ivp.py:557\u001b[0m, in \u001b[0;36msolve_ivp\u001b[1;34m(fun, t_span, y0, method, t_eval, dense_output, events, vectorized, args, **options)\u001b[0m\n\u001b[0;32m    554\u001b[0m \u001b[39mif\u001b[39;00m method \u001b[39min\u001b[39;00m METHODS:\n\u001b[0;32m    555\u001b[0m     method \u001b[39m=\u001b[39m METHODS[method]\n\u001b[1;32m--> 557\u001b[0m solver \u001b[39m=\u001b[39m method(fun, t0, y0, tf, vectorized\u001b[39m=\u001b[39;49mvectorized, \u001b[39m*\u001b[39;49m\u001b[39m*\u001b[39;49moptions)\n\u001b[0;32m    559\u001b[0m \u001b[39mif\u001b[39;00m t_eval \u001b[39mis\u001b[39;00m \u001b[39mNone\u001b[39;00m:\n\u001b[0;32m    560\u001b[0m     ts \u001b[39m=\u001b[39m [t0]\n",
      "File \u001b[1;32mc:\\Python311\\Lib\\site-packages\\scipy\\integrate\\_ivp\\rk.py:96\u001b[0m, in \u001b[0;36mRungeKutta.__init__\u001b[1;34m(self, fun, t0, y0, t_bound, max_step, rtol, atol, vectorized, first_step, **extraneous)\u001b[0m\n\u001b[0;32m     94\u001b[0m \u001b[39mself\u001b[39m\u001b[39m.\u001b[39mf \u001b[39m=\u001b[39m \u001b[39mself\u001b[39m\u001b[39m.\u001b[39mfun(\u001b[39mself\u001b[39m\u001b[39m.\u001b[39mt, \u001b[39mself\u001b[39m\u001b[39m.\u001b[39my)\n\u001b[0;32m     95\u001b[0m \u001b[39mif\u001b[39;00m first_step \u001b[39mis\u001b[39;00m \u001b[39mNone\u001b[39;00m:\n\u001b[1;32m---> 96\u001b[0m     \u001b[39mself\u001b[39m\u001b[39m.\u001b[39mh_abs \u001b[39m=\u001b[39m select_initial_step(\n\u001b[0;32m     97\u001b[0m         \u001b[39mself\u001b[39;49m\u001b[39m.\u001b[39;49mfun, \u001b[39mself\u001b[39;49m\u001b[39m.\u001b[39;49mt, \u001b[39mself\u001b[39;49m\u001b[39m.\u001b[39;49my, \u001b[39mself\u001b[39;49m\u001b[39m.\u001b[39;49mf, \u001b[39mself\u001b[39;49m\u001b[39m.\u001b[39;49mdirection,\n\u001b[0;32m     98\u001b[0m         \u001b[39mself\u001b[39;49m\u001b[39m.\u001b[39;49merror_estimator_order, \u001b[39mself\u001b[39;49m\u001b[39m.\u001b[39;49mrtol, \u001b[39mself\u001b[39;49m\u001b[39m.\u001b[39;49matol)\n\u001b[0;32m     99\u001b[0m \u001b[39melse\u001b[39;00m:\n\u001b[0;32m    100\u001b[0m     \u001b[39mself\u001b[39m\u001b[39m.\u001b[39mh_abs \u001b[39m=\u001b[39m validate_first_step(first_step, t0, t_bound)\n",
      "File \u001b[1;32mc:\\Python311\\Lib\\site-packages\\scipy\\integrate\\_ivp\\common.py:113\u001b[0m, in \u001b[0;36mselect_initial_step\u001b[1;34m(fun, t0, y0, f0, direction, order, rtol, atol)\u001b[0m\n\u001b[0;32m    110\u001b[0m     h0 \u001b[39m=\u001b[39m \u001b[39m0.01\u001b[39m \u001b[39m*\u001b[39m d0 \u001b[39m/\u001b[39m d1\n\u001b[0;32m    112\u001b[0m y1 \u001b[39m=\u001b[39m y0 \u001b[39m+\u001b[39m h0 \u001b[39m*\u001b[39m direction \u001b[39m*\u001b[39m f0\n\u001b[1;32m--> 113\u001b[0m f1 \u001b[39m=\u001b[39m fun(t0 \u001b[39m+\u001b[39;49m h0 \u001b[39m*\u001b[39;49m direction, y1)\n\u001b[0;32m    114\u001b[0m d2 \u001b[39m=\u001b[39m norm((f1 \u001b[39m-\u001b[39m f0) \u001b[39m/\u001b[39m scale) \u001b[39m/\u001b[39m h0\n\u001b[0;32m    116\u001b[0m \u001b[39mif\u001b[39;00m d1 \u001b[39m<\u001b[39m\u001b[39m=\u001b[39m \u001b[39m1e-15\u001b[39m \u001b[39mand\u001b[39;00m d2 \u001b[39m<\u001b[39m\u001b[39m=\u001b[39m \u001b[39m1e-15\u001b[39m:\n",
      "File \u001b[1;32mc:\\Python311\\Lib\\site-packages\\scipy\\integrate\\_ivp\\base.py:136\u001b[0m, in \u001b[0;36mOdeSolver.__init__.<locals>.fun\u001b[1;34m(t, y)\u001b[0m\n\u001b[0;32m    133\u001b[0m             f[:, i] \u001b[39m=\u001b[39m \u001b[39mself\u001b[39m\u001b[39m.\u001b[39m_fun(t, yi)\n\u001b[0;32m    134\u001b[0m         \u001b[39mreturn\u001b[39;00m f\n\u001b[1;32m--> 136\u001b[0m \u001b[39mdef\u001b[39;00m \u001b[39mfun\u001b[39m(t, y):\n\u001b[0;32m    137\u001b[0m     \u001b[39mself\u001b[39m\u001b[39m.\u001b[39mnfev \u001b[39m+\u001b[39m\u001b[39m=\u001b[39m \u001b[39m1\u001b[39m\n\u001b[0;32m    138\u001b[0m     \u001b[39mreturn\u001b[39;00m \u001b[39mself\u001b[39m\u001b[39m.\u001b[39mfun_single(t, y)\n",
      "\u001b[1;31mKeyboardInterrupt\u001b[0m: "
     ]
    }
   ],
   "source": [
    "#complete zacc\n",
    "\n",
    "#Do the same thing now, but for facet size\n",
    "\n",
    "#run and process results\n",
    "zacc = []\n",
    "for l in l_range[16:]:\n",
    "#set up and run and plot a new simulation\n",
    "\tsim_1d_D = Simulation(f1d, (l,), method='RK45')\n",
    "\n",
    "\t#set it based off number of timesteps so that it's the same for all (different growth rates)\n",
    "\tsim_1d_D.uselayers = use_layers\n",
    "\tsim_1d_D.countermax = number_of_timesteps #enough for steady state under original regular conditions\n",
    "\n",
    "\tsim_1d_D.discretization_halt = discretization_halt # needs to be same length of simulation, we want to see the differences if it causes discretization halt\n",
    "\n",
    "\t#deltaX = sim_1d_D.x[1]-sim_1d_D.x[0]\n",
    "\t#sim_1d_D.float_params['DoverdeltaX2'] = D/deltaX**2\n",
    "\n",
    "\tsim_1d_D.layermax = 1100\n",
    "\tsim_1d_D.sigmastepmax = 0.20\n",
    "\tsim_1d_D.center_reduction = 0.25\n",
    "\n",
    "\tNtot = sim_1d_D.getNtot()\n",
    "\tmaxes = np.array([np.max(n) for n in Ntot[:]])\n",
    "\tmins = np.array([np.min(n) for n in Ntot[:]])\n",
    "\tz = maxes-mins #(array of size x (number of timesteps), each value is z value (number of steps on surface) at that time)\n",
    "\tzacc.append(z)\n"
   ]
  },
  {
   "cell_type": "code",
   "execution_count": 4,
   "metadata": {},
   "outputs": [
    {
     "name": "stdout",
     "output_type": "stream",
     "text": [
      "breaking because reached max number of iterations\n",
      "breaking because reached max number of iterations\n",
      "breaking because reached max number of iterations\n",
      "breaking because reached max number of iterations\n",
      "breaking because reached max number of iterations\n",
      "breaking because reached max number of iterations\n",
      "breaking because reached max number of iterations\n",
      "breaking because reached max number of iterations\n",
      "breaking because reached max number of iterations\n",
      "breaking because reached max number of iterations\n",
      "breaking because reached max number of iterations\n",
      "breaking because reached max number of iterations\n",
      "breaking because reached max number of iterations\n",
      "breaking because reached max number of iterations\n",
      "breaking because reached max number of iterations\n",
      "appx progress: 81.62 %\r"
     ]
    },
    {
     "ename": "KeyboardInterrupt",
     "evalue": "",
     "output_type": "error",
     "traceback": [
      "\u001b[1;31m---------------------------------------------------------------------------\u001b[0m",
      "\u001b[1;31mKeyboardInterrupt\u001b[0m                         Traceback (most recent call last)",
      "Cell \u001b[1;32mIn[4], line 22\u001b[0m\n\u001b[0;32m     19\u001b[0m sim_1d_D\u001b[39m.\u001b[39msigmastepmax \u001b[39m=\u001b[39m \u001b[39m0.20\u001b[39m\n\u001b[0;32m     20\u001b[0m sim_1d_D\u001b[39m.\u001b[39mcenter_reduction \u001b[39m=\u001b[39m \u001b[39m0.25\u001b[39m\n\u001b[1;32m---> 22\u001b[0m Ntot \u001b[39m=\u001b[39m sim_1d_D\u001b[39m.\u001b[39;49mgetNtot()\n\u001b[0;32m     23\u001b[0m maxes \u001b[39m=\u001b[39m np\u001b[39m.\u001b[39marray([np\u001b[39m.\u001b[39mmax(n) \u001b[39mfor\u001b[39;00m n \u001b[39min\u001b[39;00m Ntot[:]])\n\u001b[0;32m     24\u001b[0m mins \u001b[39m=\u001b[39m np\u001b[39m.\u001b[39marray([np\u001b[39m.\u001b[39mmin(n) \u001b[39mfor\u001b[39;00m n \u001b[39min\u001b[39;00m Ntot[:]])\n",
      "File \u001b[1;32mc:\\Users\\Max-PC\\OneDrive - University of Puget Sound\\Research 2022\\Workspace\\icecontinuum\\bloom_2022\\sim_handling.py:509\u001b[0m, in \u001b[0;36mSimulation.getNtot\u001b[1;34m(self, step)\u001b[0m\n\u001b[0;32m    505\u001b[0m \u001b[39m\u001b[39m\u001b[39m\"\"\"\u001b[39;00m\n\u001b[0;32m    506\u001b[0m \u001b[39mReturns the array of total ice and QLL thickness at each time step.\u001b[39;00m\n\u001b[0;32m    507\u001b[0m \u001b[39m\"\"\"\u001b[39;00m\n\u001b[0;32m    508\u001b[0m \u001b[39mif\u001b[39;00m step \u001b[39mis\u001b[39;00m \u001b[39mNone\u001b[39;00m:\n\u001b[1;32m--> 509\u001b[0m     \u001b[39mreturn\u001b[39;00m np\u001b[39m.\u001b[39masarray(\u001b[39mself\u001b[39;49m\u001b[39m.\u001b[39;49mresults()[\u001b[39m'\u001b[39m\u001b[39my\u001b[39m\u001b[39m'\u001b[39m])[:, \u001b[39m1\u001b[39m]\n\u001b[0;32m    510\u001b[0m \u001b[39melse\u001b[39;00m:\n\u001b[0;32m    511\u001b[0m     \u001b[39mreturn\u001b[39;00m \u001b[39mself\u001b[39m\u001b[39m.\u001b[39mresults()[\u001b[39m'\u001b[39m\u001b[39my\u001b[39m\u001b[39m'\u001b[39m][step][\u001b[39m1\u001b[39m]\n",
      "File \u001b[1;32mc:\\Users\\Max-PC\\OneDrive - University of Puget Sound\\Research 2022\\Workspace\\icecontinuum\\bloom_2022\\sim_handling.py:492\u001b[0m, in \u001b[0;36mSimulation.results\u001b[1;34m(self)\u001b[0m\n\u001b[0;32m    490\u001b[0m \u001b[39m\u001b[39m\u001b[39m\"\"\" Returns results of simulation (handles running if necessary) \"\"\"\u001b[39;00m\n\u001b[0;32m    491\u001b[0m \u001b[39mif\u001b[39;00m \u001b[39mself\u001b[39m\u001b[39m.\u001b[39m_results \u001b[39m==\u001b[39m {\u001b[39mNone\u001b[39;00m:\u001b[39mNone\u001b[39;00m}:\n\u001b[1;32m--> 492\u001b[0m     \u001b[39mself\u001b[39;49m\u001b[39m.\u001b[39;49mrun()\n\u001b[0;32m    493\u001b[0m \u001b[39mreturn\u001b[39;00m \u001b[39mself\u001b[39m\u001b[39m.\u001b[39m_results\n",
      "File \u001b[1;32mc:\\Users\\Max-PC\\OneDrive - University of Puget Sound\\Research 2022\\Workspace\\icecontinuum\\bloom_2022\\sim_handling.py:402\u001b[0m, in \u001b[0;36mSimulation.run\u001b[1;34m(self, print_progress, print_count_layers, halve_time_res)\u001b[0m\n\u001b[0;32m    399\u001b[0m     y \u001b[39m=\u001b[39m solve_ivp_result\u001b[39m.\u001b[39my[:, \u001b[39mlen\u001b[39m(solve_ivp_result\u001b[39m.\u001b[39mt)\u001b[39m-\u001b[39m\u001b[39m1\u001b[39m]\u001b[39m#y[:,-1] : get last timestep that solve_ivp returns\u001b[39;00m\n\u001b[0;32m    400\u001b[0m \u001b[39melse\u001b[39;00m:\n\u001b[0;32m    401\u001b[0m     \u001b[39m#old version: solve_ivp_result = solve_ivp(self.model, self.tinterval, np.reshape(ylast,np.prod(np.shape(ylast))), method=self.method, args=model_args, t_eval=self.tinterval, rtol=self.rtol, atol=self.atol)\u001b[39;00m\n\u001b[1;32m--> 402\u001b[0m     solve_ivp_result \u001b[39m=\u001b[39m solve_ivp(\u001b[39mself\u001b[39;49m\u001b[39m.\u001b[39;49mmodel, \u001b[39mself\u001b[39;49m\u001b[39m.\u001b[39;49mtinterval, np\u001b[39m.\u001b[39;49mreshape(ylast,np\u001b[39m.\u001b[39;49mprod(np\u001b[39m.\u001b[39;49mshape(ylast))), method\u001b[39m=\u001b[39;49m\u001b[39mself\u001b[39;49m\u001b[39m.\u001b[39;49mmethod, args\u001b[39m=\u001b[39;49mmodel_args, rtol\u001b[39m=\u001b[39;49m\u001b[39mself\u001b[39;49m\u001b[39m.\u001b[39;49mrtol, atol\u001b[39m=\u001b[39;49m\u001b[39mself\u001b[39;49m\u001b[39m.\u001b[39;49matol)\n\u001b[0;32m    404\u001b[0m y \u001b[39m=\u001b[39m solve_ivp_result\u001b[39m.\u001b[39my[:, \u001b[39mlen\u001b[39m(solve_ivp_result\u001b[39m.\u001b[39mt)\u001b[39m-\u001b[39m\u001b[39m1\u001b[39m]\u001b[39m#y[:,-1] : get last timestep that solve_ivp returns\u001b[39;00m\n\u001b[0;32m    406\u001b[0m \u001b[39m# Update the state                 \u001b[39;00m\n",
      "File \u001b[1;32mc:\\Python311\\Lib\\site-packages\\scipy\\integrate\\_ivp\\ivp.py:557\u001b[0m, in \u001b[0;36msolve_ivp\u001b[1;34m(fun, t_span, y0, method, t_eval, dense_output, events, vectorized, args, **options)\u001b[0m\n\u001b[0;32m    554\u001b[0m \u001b[39mif\u001b[39;00m method \u001b[39min\u001b[39;00m METHODS:\n\u001b[0;32m    555\u001b[0m     method \u001b[39m=\u001b[39m METHODS[method]\n\u001b[1;32m--> 557\u001b[0m solver \u001b[39m=\u001b[39m method(fun, t0, y0, tf, vectorized\u001b[39m=\u001b[39;49mvectorized, \u001b[39m*\u001b[39;49m\u001b[39m*\u001b[39;49moptions)\n\u001b[0;32m    559\u001b[0m \u001b[39mif\u001b[39;00m t_eval \u001b[39mis\u001b[39;00m \u001b[39mNone\u001b[39;00m:\n\u001b[0;32m    560\u001b[0m     ts \u001b[39m=\u001b[39m [t0]\n",
      "File \u001b[1;32mc:\\Python311\\Lib\\site-packages\\scipy\\integrate\\_ivp\\rk.py:89\u001b[0m, in \u001b[0;36mRungeKutta.__init__\u001b[1;34m(self, fun, t0, y0, t_bound, max_step, rtol, atol, vectorized, first_step, **extraneous)\u001b[0m\n\u001b[0;32m     85\u001b[0m \u001b[39mdef\u001b[39;00m \u001b[39m__init__\u001b[39m(\u001b[39mself\u001b[39m, fun, t0, y0, t_bound, max_step\u001b[39m=\u001b[39mnp\u001b[39m.\u001b[39minf,\n\u001b[0;32m     86\u001b[0m              rtol\u001b[39m=\u001b[39m\u001b[39m1e-3\u001b[39m, atol\u001b[39m=\u001b[39m\u001b[39m1e-6\u001b[39m, vectorized\u001b[39m=\u001b[39m\u001b[39mFalse\u001b[39;00m,\n\u001b[0;32m     87\u001b[0m              first_step\u001b[39m=\u001b[39m\u001b[39mNone\u001b[39;00m, \u001b[39m*\u001b[39m\u001b[39m*\u001b[39mextraneous):\n\u001b[0;32m     88\u001b[0m     warn_extraneous(extraneous)\n\u001b[1;32m---> 89\u001b[0m     \u001b[39msuper\u001b[39;49m()\u001b[39m.\u001b[39;49m\u001b[39m__init__\u001b[39;49m(fun, t0, y0, t_bound, vectorized,\n\u001b[0;32m     90\u001b[0m                      support_complex\u001b[39m=\u001b[39;49m\u001b[39mTrue\u001b[39;49;00m)\n\u001b[0;32m     91\u001b[0m     \u001b[39mself\u001b[39m\u001b[39m.\u001b[39my_old \u001b[39m=\u001b[39m \u001b[39mNone\u001b[39;00m\n\u001b[0;32m     92\u001b[0m     \u001b[39mself\u001b[39m\u001b[39m.\u001b[39mmax_step \u001b[39m=\u001b[39m validate_max_step(max_step)\n",
      "File \u001b[1;32mc:\\Python311\\Lib\\site-packages\\scipy\\integrate\\_ivp\\base.py:119\u001b[0m, in \u001b[0;36mOdeSolver.__init__\u001b[1;34m(self, fun, t0, y0, t_bound, vectorized, support_complex)\u001b[0m\n\u001b[0;32m    117\u001b[0m \u001b[39mself\u001b[39m\u001b[39m.\u001b[39mt_old \u001b[39m=\u001b[39m \u001b[39mNone\u001b[39;00m\n\u001b[0;32m    118\u001b[0m \u001b[39mself\u001b[39m\u001b[39m.\u001b[39mt \u001b[39m=\u001b[39m t0\n\u001b[1;32m--> 119\u001b[0m \u001b[39mself\u001b[39m\u001b[39m.\u001b[39m_fun, \u001b[39mself\u001b[39m\u001b[39m.\u001b[39my \u001b[39m=\u001b[39m check_arguments(fun, y0, support_complex)\n\u001b[0;32m    120\u001b[0m \u001b[39mself\u001b[39m\u001b[39m.\u001b[39mt_bound \u001b[39m=\u001b[39m t_bound\n\u001b[0;32m    121\u001b[0m \u001b[39mself\u001b[39m\u001b[39m.\u001b[39mvectorized \u001b[39m=\u001b[39m vectorized\n",
      "File \u001b[1;32mc:\\Python311\\Lib\\site-packages\\scipy\\integrate\\_ivp\\base.py:7\u001b[0m, in \u001b[0;36mcheck_arguments\u001b[1;34m(fun, y0, support_complex)\u001b[0m\n\u001b[0;32m      5\u001b[0m \u001b[39m\u001b[39m\u001b[39m\"\"\"Helper function for checking arguments common to all solvers.\"\"\"\u001b[39;00m\n\u001b[0;32m      6\u001b[0m y0 \u001b[39m=\u001b[39m np\u001b[39m.\u001b[39masarray(y0)\n\u001b[1;32m----> 7\u001b[0m \u001b[39mif\u001b[39;00m np\u001b[39m.\u001b[39;49missubdtype(y0\u001b[39m.\u001b[39;49mdtype, np\u001b[39m.\u001b[39;49mcomplexfloating):\n\u001b[0;32m      8\u001b[0m     \u001b[39mif\u001b[39;00m \u001b[39mnot\u001b[39;00m support_complex:\n\u001b[0;32m      9\u001b[0m         \u001b[39mraise\u001b[39;00m \u001b[39mValueError\u001b[39;00m(\u001b[39m\"\u001b[39m\u001b[39m`y0` is complex, but the chosen solver does \u001b[39m\u001b[39m\"\u001b[39m\n\u001b[0;32m     10\u001b[0m                          \u001b[39m\"\u001b[39m\u001b[39mnot support integration in a complex domain.\u001b[39m\u001b[39m\"\u001b[39m)\n",
      "File \u001b[1;32m~\\AppData\\Roaming\\Python\\Python311\\site-packages\\numpy\\core\\numerictypes.py:417\u001b[0m, in \u001b[0;36missubdtype\u001b[1;34m(arg1, arg2)\u001b[0m\n\u001b[0;32m    415\u001b[0m \u001b[39mif\u001b[39;00m \u001b[39mnot\u001b[39;00m issubclass_(arg1, generic):\n\u001b[0;32m    416\u001b[0m     arg1 \u001b[39m=\u001b[39m dtype(arg1)\u001b[39m.\u001b[39mtype\n\u001b[1;32m--> 417\u001b[0m \u001b[39mif\u001b[39;00m \u001b[39mnot\u001b[39;00m issubclass_(arg2, generic):\n\u001b[0;32m    418\u001b[0m     arg2 \u001b[39m=\u001b[39m dtype(arg2)\u001b[39m.\u001b[39mtype\n\u001b[0;32m    420\u001b[0m \u001b[39mreturn\u001b[39;00m \u001b[39missubclass\u001b[39m(arg1, arg2)\n",
      "File \u001b[1;32m~\\AppData\\Roaming\\Python\\Python311\\site-packages\\numpy\\core\\numerictypes.py:282\u001b[0m, in \u001b[0;36missubclass_\u001b[1;34m(arg1, arg2)\u001b[0m\n\u001b[0;32m    278\u001b[0m     \u001b[39melse\u001b[39;00m:\n\u001b[0;32m    279\u001b[0m         \u001b[39mreturn\u001b[39;00m res\u001b[39m.\u001b[39mtype\n\u001b[1;32m--> 282\u001b[0m \u001b[39m@set_module\u001b[39m(\u001b[39m'\u001b[39m\u001b[39mnumpy\u001b[39m\u001b[39m'\u001b[39m)\n\u001b[0;32m    283\u001b[0m \u001b[39mdef\u001b[39;00m \u001b[39missubclass_\u001b[39m(arg1, arg2):\n\u001b[0;32m    284\u001b[0m \u001b[39m    \u001b[39m\u001b[39m\"\"\"\u001b[39;00m\n\u001b[0;32m    285\u001b[0m \u001b[39m    Determine if a class is a subclass of a second class.\u001b[39;00m\n\u001b[0;32m    286\u001b[0m \n\u001b[1;32m   (...)\u001b[0m\n\u001b[0;32m    316\u001b[0m \n\u001b[0;32m    317\u001b[0m \u001b[39m    \"\"\"\u001b[39;00m\n\u001b[0;32m    318\u001b[0m     \u001b[39mtry\u001b[39;00m:\n",
      "\u001b[1;31mKeyboardInterrupt\u001b[0m: "
     ]
    }
   ],
   "source": [
    "#Do the same thing now, but for facet size\n",
    "\n",
    "#run and process results\n",
    "zacc = []\n",
    "for l in l_range:\n",
    "#set up and run and plot a new simulation\n",
    "\tsim_1d_D = Simulation(f1d, (l,), method='RK45')\n",
    "\n",
    "\t#set it based off number of timesteps so that it's the same for all (different growth rates)\n",
    "\tsim_1d_D.uselayers = use_layers\n",
    "\tsim_1d_D.countermax = number_of_timesteps #enough for steady state under original regular conditions\n",
    "\n",
    "\tsim_1d_D.discretization_halt = discretization_halt # needs to be same length of simulation, we want to see the differences if it causes discretization halt\n",
    "\n",
    "\t#deltaX = sim_1d_D.x[1]-sim_1d_D.x[0]\n",
    "\t#sim_1d_D.float_params['DoverdeltaX2'] = D/deltaX**2\n",
    "\n",
    "\tsim_1d_D.layermax = 1100\n",
    "\tsim_1d_D.sigmastepmax = 0.20\n",
    "\tsim_1d_D.center_reduction = 0.25\n",
    "\n",
    "\tNtot = sim_1d_D.getNtot()\n",
    "\tmaxes = np.array([np.max(n) for n in Ntot[:]])\n",
    "\tmins = np.array([np.min(n) for n in Ntot[:]])\n",
    "\tz = maxes-mins #(array of size x (number of timesteps), each value is z value (number of steps on surface) at that time)\n",
    "\tzacc.append(z)\n"
   ]
  },
  {
   "cell_type": "code",
   "execution_count": 7,
   "metadata": {},
   "outputs": [
    {
     "name": "stdout",
     "output_type": "stream",
     "text": [
      "(15, 110001)\n"
     ]
    }
   ],
   "source": [
    "#prep zacc for saving\n",
    "zacc = np.array(zacc)\n",
    "print(zacc.shape)"
   ]
  },
  {
   "cell_type": "code",
   "execution_count": 8,
   "metadata": {},
   "outputs": [],
   "source": [
    "#save zacc\n",
    "np.save('zacc_lrange_inc_pause', zacc)"
   ]
  },
  {
   "cell_type": "code",
   "execution_count": null,
   "metadata": {},
   "outputs": [],
   "source": [
    "zacc = np.array(zacc)\n",
    "print(zacc)"
   ]
  },
  {
   "cell_type": "code",
   "execution_count": null,
   "metadata": {},
   "outputs": [],
   "source": [
    "#processs results\n",
    "zacc = np.array(zacc)\n",
    "print(zacc)\n",
    "\n",
    "#stack z frames together along x axis, so time is y axis and different sigma values are x axis\n",
    "zs = np.stack(zacc, axis=0)\n",
    "print(zacc.shape)\n",
    "\n",
    "ys = np.linspace(0, zacc.shape[1], zacc.shape[1])\n",
    "\n",
    "ys,xs = np.meshgrid(ys,l_range)"
   ]
  },
  {
   "cell_type": "code",
   "execution_count": null,
   "metadata": {},
   "outputs": [],
   "source": [
    "# get the # of steps at the last timestep of the simulation for each sigma value (for plotting and creating the NSS vs parameters plot (Fig 7 in Neshyba et al 2016))\n",
    "final_Nss_vs_L = zs[:, -1]\n",
    "np.save('final_Nss_vs_L', final_Nss_vs_L)\n"
   ]
  },
  {
   "cell_type": "code",
   "execution_count": null,
   "metadata": {},
   "outputs": [],
   "source": [
    "#3d plot of results. plotly\n",
    "if plot_Nss_vs_params:\n",
    "    fig = go.Figure(data=[go.Surface(x=xs,y=ys,z=zs, colorscale=\"blues\", showscale=False)])\n",
    "    fig.update_layout(scene = dict(\n",
    "                        xaxis_title='L, num points, (10 points per micron)',\n",
    "                        yaxis_title='Time (timesteps)',\n",
    "                        zaxis_title='Number of steps (bilayers of ice)'),\n",
    "                        title='number of steps over time vs facet size')"
   ]
  },
  {
   "cell_type": "code",
   "execution_count": null,
   "metadata": {},
   "outputs": [],
   "source": [
    "#save the results as an interactive html file\n",
    "fig.write_html(\"L_vs_Nss.html\")"
   ]
  },
  {
   "cell_type": "code",
   "execution_count": null,
   "metadata": {},
   "outputs": [],
   "source": [
    " #set up and run and plot a new simulation\n",
    "test_1d_asym = Simulation(f1d, (500,), method='RK45', rtol=1e-12)\n",
    "#test_1d_asym = Simulation(f1d, (500,), method='LSODA')\n",
    "\n",
    "test_1d_asym.discretization_halt = False\n",
    "\n",
    "#try a noisy simulation\n",
    "test_1d_asym.noisy_init = False\n",
    "\n",
    "#test_1d_asym.float_params['DoverdeltaX2'] *= 2 # tried raised to lower parameter product value\n",
    "test_1d_asym.layermax = 1100\n",
    "#test_2d_asym.sigmastepmax= -0.01 #ablation\n",
    "#test_1d_asym.sigmastepmax = 0.195 #growth - tried lowered to lower parameter product value\n",
    "test_1d_asym.sigmastepmax = 0.20 #growth\n",
    "test_1d_asym.center_reduction = 0.25 #normal conditions\n",
    "#test_2d_asym.center_reduction = 0.003 # tried lowered to lower parameter product value\n"
   ]
  },
  {
   "cell_type": "code",
   "execution_count": null,
   "metadata": {},
   "outputs": [],
   "source": [
    "#plot the simulation at the end\n",
    "test_1d_asym.plot(completion=1, ice=True, tot=True, figurename='ending surface')"
   ]
  },
  {
   "cell_type": "code",
   "execution_count": null,
   "metadata": {},
   "outputs": [],
   "source": [
    "#graph number of steps over time\n",
    "Ntot = test_1d_asym.getNtot()\n",
    "#Ntot = cycle_sim.getNtot()\n",
    "print(Ntot.shape)\n",
    "\n",
    "maxes = np.array([np.max(n) for n in Ntot[:]])\n",
    "mins = np.array([np.min(n) for n in Ntot[:]])\n",
    "\n",
    "#print(maxes,mins)\n",
    "plt.figure('Number of steps over time')\n",
    "ax = plt.subplot(111)\n",
    "\n",
    "ax.set_ylabel('Number of steps on surface')\n",
    "\n",
    "if test_1d_asym.sigmastepmax < 0: #ablation case\n",
    "    ax.set_xlabel('Total number of layers ablated')\n",
    "    ax.plot( Ntot[::-1,0]+test_1d_asym.layermax,maxes-mins) #flipping to show ablation progress from left to right, adding layermax to show # layers ablated instead of negative # layers grown\n",
    "else: #growth case   \n",
    "    ax.set_xlabel('Total number of layers grown')\n",
    "    ax.plot( Ntot[:,0],maxes-mins)\n",
    "\n",
    "\n",
    "plt.grid()"
   ]
  },
  {
   "cell_type": "code",
   "execution_count": null,
   "metadata": {},
   "outputs": [],
   "source": [
    "plt.close('Number of steps over time')"
   ]
  },
  {
   "cell_type": "code",
   "execution_count": null,
   "metadata": {},
   "outputs": [],
   "source": [
    "# Load the saved NSS values for each parameter\n",
    "final_Nss_vs_sigma = np.load('final_Nss_vs_sigma.npy') #replication of Neshyba 2016 fig\n",
    "#final_Nss_vs_sigma = np.load('final_Nss_vs_sigma.npy') # extended to subsaturation / ablation conditions\n",
    "final_Nss_vs_v_kin = np.load('final_Nss_vs_v_kin.npy')\n",
    "final_Nss_vs_L = np.load('final_Nss_vs_L.npy')\n",
    "final_Nss_vs_c_r = np.load('final_Nss_vs_c_r.npy')\n",
    "final_Nss_vs_D = np.load('final_Nss_vs_D.npy')\n",
    "\n",
    "beta = 0.65\n",
    "\n",
    "# Define the common X-axis for all variables\n",
    "#x = (nu_kin_range * np.asarray(l_range) ** 2 * np.asarray(c_r_range) ** beta * sigma_range[:, np.newaxis]) / d_range\n",
    "x = (nu_kin_range * np.asarray(l_range) ** 2 * np.asarray(c_r_range) ** beta * sigma_range) / d_range\n",
    "\n",
    "# plot the results using matplotlib\n",
    "plt.close('NSS vs parameters')\n",
    "fig = plt.figure('NSS vs parameters')\n",
    "ax = plt.axes()\n",
    "ax.set_xlabel('(v_kin * L^2 * c_r^β * σ_I,corner) / D')\n",
    "ax.set_ylabel('Number of steps (bilayers of ice)')\n",
    "ax.scatter(x, final_Nss_vs_sigma, s=50, marker='D', facecolors='none', edgecolors='yellow', label='Sigma')\n",
    "ax.scatter(x, final_Nss_vs_v_kin, s=50, marker='s', facecolors='none', edgecolors='green', label='v_kin')\n",
    "ax.scatter(x, final_Nss_vs_L, s=50, marker='>', facecolors='none', edgecolors='black', label='L')\n",
    "ax.scatter(x, final_Nss_vs_c_r, s=50, marker='<', facecolors='none', edgecolors='red', label='c_r')\n",
    "ax.scatter(x, final_Nss_vs_D, s=50, marker='o', facecolors='none', edgecolors='blue', label='D')\n",
    "plt.legend()\n",
    "plt.grid()\n",
    "plt.show()\n"
   ]
  },
  {
   "cell_type": "code",
   "execution_count": null,
   "metadata": {},
   "outputs": [],
   "source": [
    "print(x.shape)"
   ]
  },
  {
   "cell_type": "code",
   "execution_count": null,
   "metadata": {},
   "outputs": [],
   "source": [
    "print(sigma_range.shape)\n",
    "print(sigma_range[:, np.newaxis].shape)"
   ]
  },
  {
   "cell_type": "code",
   "execution_count": null,
   "metadata": {},
   "outputs": [],
   "source": [
    "#calculating Nss vs parameter thingy\n",
    "\n",
    "# N_ss = # number of steps to steady state \n",
    "from pint import UnitRegistry; AssignQuantity = UnitRegistry().Quantity\n",
    "\n",
    "\n",
    "#slope and intercept of linear fit of figure11 x to N_ss\n",
    "#for sinusoidal growth\n",
    "M = 0.0027 # bilayers / micron ????\n",
    "M = 2.7 # what it actually looks like on the plot in the paper\n",
    "B= 2.9 #bilayers\n",
    "#for parabolic growth\n",
    "#M = 0.0025\n",
    "#B = 1.6\n",
    "\n",
    "def Nss_fig11(M,B,x):\n",
    "    return M*x + B\n",
    "\n",
    "def figure11(L,D,c_r,nu_kin,sigma):\n",
    "    \"\"\"\n",
    "    L: length of domain, microns\n",
    "    D: diffusion coefficient, microns^2 / microsecond\n",
    "    c_r: center reduction, fraction\n",
    "    nu_kin: growth rate, microns / second\n",
    "    sigma: supersaturation at corner, fraction\n",
    "    \"\"\"\n",
    "    beta = 0.65\n",
    "    return nu_kin*L**2*sigma*(c_r)**beta / D\n",
    "\n",
    "#Lx,Ly = test_1d_asym.shape # num points\n",
    "Lx, = test_1d_asym.shape # num points\n",
    "Lx_mu = AssignQuantity(25, 'microns')\n",
    "c_r = test_1d_asym.center_reduction/100\n",
    "sigma = test_1d_asym.sigmastepmax\n",
    "beta = 0.65 #value from paper \n",
    "nu_kin = AssignQuantity(test_1d_asym._extra_vars.get('nu_kin'), 'micron/second') #microns /second\n",
    "D = AssignQuantity(test_1d_asym._extra_vars.get('D'),'micron^2 / microsecond')\n",
    "\n",
    "#print('Lx,Ly',Lx,Ly)\n",
    "print('Lx',Lx)\n",
    "print('sigma',sigma)\n",
    "print('beta',beta)\n",
    "print('nu_kin',nu_kin)\n",
    "print('D',D)\n",
    "print('c_r',c_r)\n",
    "\n",
    "x = figure11(Lx_mu,D,c_r,nu_kin,sigma)\n",
    "x.ito('microns')\n",
    "print('x with min values from paper: ',x)\n",
    "print('predicted number of steps at steady state: ', Nss_fig11(M,B,x.magnitude))\n",
    "\n",
    "\n",
    "#min values from paper\n",
    "Lx_mu = AssignQuantity(17.5,'microns')\n",
    "D = AssignQuantity(0.75E-4,'microns^2 / microsecond')\n",
    "c_r = 0.15/100\n",
    "nu_kin = AssignQuantity(20,'microns/second')\n",
    "sigma = 0.20\n",
    "\n",
    "#print('Lx,Ly',Lx,Ly)\n",
    "print('Lx',Lx)\n",
    "print('sigma',sigma)\n",
    "print('beta',beta)\n",
    "print('nu_kin',nu_kin)\n",
    "print('D',D)\n",
    "print('c_r',c_r)\n",
    "\n",
    "x = figure11(Lx_mu,D,c_r,nu_kin,sigma)\n",
    "x.ito('microns')\n",
    "print('x with min values from paper: ',x)\n",
    "print('predicted number of steps at steady state: ', Nss_fig11(M,B,x.magnitude))\n",
    "\n",
    "\n",
    "#max values from paper\n",
    "Lx_mu = AssignQuantity(42.5,'microns')\n",
    "D = AssignQuantity(6E-4,'microns^2 / microsecond')\n",
    "c_r = 0.7/100\n",
    "nu_kin = AssignQuantity(140,'microns/second')\n",
    "sigma = 0.50\n",
    "\n",
    "#print('Lx,Ly',Lx,Ly)\n",
    "print('Lx',Lx)\n",
    "print('sigma',sigma)\n",
    "print('beta',beta)\n",
    "print('nu_kin',nu_kin)\n",
    "print('D',D)\n",
    "print('c_r',c_r)\n",
    "\n",
    "x = figure11(Lx_mu,D,c_r,nu_kin,sigma)\n",
    "x.ito('microns')\n",
    "print('x with max values from paper: ',x)\n",
    "print('predicted number of steps at steady state: ', Nss_fig11(M,B,x.magnitude))"
   ]
  },
  {
   "cell_type": "code",
   "execution_count": null,
   "metadata": {},
   "outputs": [],
   "source": [
    "#calculating parameterization produce (fig 11) for simulation\n",
    "Lx,Ly = test_1d_asym.shape # num points\n",
    "sigma = test_1d_asym.sigmastepmax\n",
    "beta = 0.65 #value from paper \n",
    "nu_kin = AssignQuantity(test_1d_asym._extra_vars.get('nu_kin'), 'micron/second') #microns /second\n",
    "D = AssignQuantity(test_1d_asym._extra_vars.get('D'),'micron^2 / microsecond')\n",
    "c_r = test_1d_asym.center_reduction\n",
    "\n",
    "#min values from paper\n",
    "Lx_mu = AssignQuantity(25,'microns')\n",
    "Ly_mu = Ly/Lx * Lx_mu\n",
    "\n",
    "x = figure11(Lx_mu,D,c_r,nu_kin,sigma)\n",
    "x.ito('microns')\n",
    "print(x)"
   ]
  },
  {
   "cell_type": "code",
   "execution_count": null,
   "metadata": {},
   "outputs": [],
   "source": [
    "#plot surface at middle and end of simulation\n",
    "plot = test_1d_asym.plot(ice=True,completion=0.2)\n"
   ]
  },
  {
   "cell_type": "code",
   "execution_count": null,
   "metadata": {},
   "outputs": [],
   "source": [
    "plt.close()"
   ]
  },
  {
   "cell_type": "code",
   "execution_count": null,
   "metadata": {},
   "outputs": [],
   "source": [
    "#continuation of previous simulation\n",
    "#start a second simulation starting with the ending surface of the first \n",
    "# as the initial surface\n",
    "\n",
    "#create 1d sim and graph number of steps over time\n",
    "cycle_sim =  Simulation(f2d, (test_1d_asym.shape[0],test_1d_asym.shape[1]), method=test_1d_asym.method, rtol=test_1d_asym.rtol)\n",
    "\n",
    "#keep general params same\n",
    "cycle_sim.layermax = 1000 #st_2d_asym.layermax * 1.5 #make sure it reaches steady state\n",
    "cycle_sim.float_params['DoverdeltaX2'] = test_1d_asym.float_params['DoverdeltaX2'] \n",
    "cycle_sim.sigma0 = test_1d_asym.sigma0\n",
    "cycle_sim.center_reduction = test_1d_asym.center_reduction\n",
    "cycle_sim.deltaT = test_1d_asym.deltaT #increase time step to decrease number of steps saved?\n",
    "cycle_sim.noisy_init = test_1d_asym.noisy_init\n",
    "\n",
    "#set up initial surface\n",
    "cycle_sim.nonstd_init = True\n",
    "ntots = test_1d_asym.getNtot()\n",
    "cycle_sim.startingNtot = ntots[len(ntots)//2] #start with the middle of the last simulation, before discretzation error\n",
    "\n",
    "#set to ablation run\n",
    "cycle_sim.sigmastepmax = 0.20 \n"
   ]
  },
  {
   "cell_type": "code",
   "execution_count": null,
   "metadata": {},
   "outputs": [],
   "source": [
    "#animate ablation of growth ending surface\n",
    "anim = cycle_sim.animate(ret=True, focus_on_growth=True, proportionalSpeed=False)"
   ]
  },
  {
   "cell_type": "code",
   "execution_count": null,
   "metadata": {},
   "outputs": [],
   "source": [
    "#graph number of steps over time for second simulation\n",
    "Ntot = cycle_sim.getNtot()\n",
    "#Ntot = cycle_sim.getNtot()\n",
    "\n",
    "maxes = np.array([np.max(n) for n in Ntot[:]])\n",
    "mins = np.array([np.min(n) for n in Ntot[:]])\n",
    "\n",
    "#print(maxes,mins)\n",
    "plt.figure()\n",
    "ax = plt.subplot(111)\n",
    "\n",
    "ax.set_ylabel('Number of steps on surface')\n",
    "\n",
    "if cycle_sim.sigmastepmax < 0: #ablation case\n",
    "    ax.set_xlabel('Total number of layers ablated')\n",
    "    ax.plot( Ntot[::-1,0,0]+cycle_sim.layermax,maxes-mins) #flipping to show ablation progress from left to right, adding layermax to show # layers ablated instead of negative # layers grown\n",
    "else: #growth case   \n",
    "    ax.set_xlabel('Total number of layers grown')\n",
    "    ax.plot( Ntot[:,0,0],maxes-mins)\n",
    "\n",
    "plt.grid()"
   ]
  },
  {
   "cell_type": "code",
   "execution_count": null,
   "metadata": {},
   "outputs": [],
   "source": []
  }
 ],
 "metadata": {
  "kernelspec": {
   "display_name": "Python 3",
   "language": "python",
   "name": "python3"
  },
  "language_info": {
   "codemirror_mode": {
    "name": "ipython",
    "version": 3
   },
   "file_extension": ".py",
   "mimetype": "text/x-python",
   "name": "python",
   "nbconvert_exporter": "python",
   "pygments_lexer": "ipython3",
   "version": "3.11.0"
  },
  "orig_nbformat": 4,
  "vscode": {
   "interpreter": {
    "hash": "a5639f55dd41388b289936a35ec1befe471f3e8ab332c7f154620eef02aaf2e9"
   }
  }
 },
 "nbformat": 4,
 "nbformat_minor": 2
}
