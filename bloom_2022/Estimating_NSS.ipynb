{
 "cells": [
  {
   "cell_type": "code",
   "execution_count": 1,
   "id": "4a912b6b",
   "metadata": {},
   "outputs": [],
   "source": [
    "import pint; from pint import UnitRegistry; AssignQuantity = UnitRegistry().Quantity\n",
    "import numpy as np"
   ]
  },
  {
   "cell_type": "code",
   "execution_count": null,
   "id": "06607961",
   "metadata": {},
   "outputs": [],
   "source": []
  },
  {
   "cell_type": "code",
   "execution_count": 9,
   "id": "1149124a",
   "metadata": {},
   "outputs": [
    {
     "name": "stdout",
     "output_type": "stream",
     "text": [
      "nu_kin_ml = 0.163 / microsecond\n",
      "L = 25 micrometer\n",
      "center reduction = 0.01 dimensionless\n",
      "estimated center reduction in the 2-d case 0.019 dimensionless\n",
      "beta = 0.65 dimensionless\n",
      "D = 0.0002 micrometer ** 2 / microsecond\n",
      "sigma_I = 0.2 dimensionless\n"
     ]
    }
   ],
   "source": [
    "#Parameters for 1-D run \n",
    "\n",
    "# Kinetic deposition rate\n",
    "nu_kin_ml = AssignQuantity(0.163,'microsecond^-1'); print('nu_kin_ml =',nu_kin_ml)\n",
    "\n",
    "# Length of a facet / 2\n",
    "L = AssignQuantity(25,'micrometer'); print('L =',L)\n",
    "\n",
    "# Center supersaturation reduction, adjusted for the fact that supersaturation is higher at corners of a 2d facet\n",
    "# compared to across the middle\n",
    "c_r = AssignQuantity(1/100,''); print('center reduction =', c_r)\n",
    "c_r_corner_enhancement_factor = 1.9 # This was based on vaporfield_3d, just a sample run\n",
    "c_r_2d = c_r*c_r_corner_enhancement_factor; print('estimated center reduction in the 2-d case', c_r_2d)\n",
    "\n",
    "# Exponent of sigma (taken from the 2016 paper)\n",
    "beta = AssignQuantity(0.65,''); print('beta =',beta)\n",
    "\n",
    "# Diffusion coefficient of the QLL\n",
    "D = AssignQuantity(0.0002,'um^2/us'); print('D =',D)\n",
    "\n",
    "# Supersaturation at the ends of the 1-d system (or a slice through the middle of a 2d one)\n",
    "sigma_I = AssignQuantity(0.2,''); print('sigma_I =',sigma_I)"
   ]
  },
  {
   "cell_type": "code",
   "execution_count": 11,
   "id": "42a10a30",
   "metadata": {},
   "outputs": [
    {
     "name": "stdout",
     "output_type": "stream",
     "text": [
      "xfactor= 7749.210573404471 dimensionless\n",
      "Using M = 0.0025 dimensionless\n",
      "Using B = 1.6 dimensionless\n",
      "Estimated # of layers at steady state = 20.97302643351118 dimensionless\n"
     ]
    }
   ],
   "source": [
    "# Computing the dimensionless parameter, Eq. 20 of the 2016 paper, but with the correction for the fact that ss is higher at corners of a 2d facet\n",
    "xfactor = nu_kin_ml*L**2*c_r_2d**beta*sigma_I/D; print('xfactor=',xfactor)\n",
    "\n",
    "# Assuming the same slope and intercept as used in Fig. 11 of the 2016 paper (parabolic case)\n",
    "# Although the latter is slightly different for some reason in the continuum_model7 code\n",
    "M = AssignQuantity(.0025,''); print('Using M =',M)\n",
    "B = AssignQuantity(1.6,''); print('Using B =',B)\n",
    "NSS = M*xfactor + B; print('Estimated # of layers at steady state =', NSS)"
   ]
  },
  {
   "cell_type": "code",
   "execution_count": null,
   "id": "149134d0",
   "metadata": {},
   "outputs": [],
   "source": []
  }
 ],
 "metadata": {
  "kernelspec": {
   "display_name": "Python 3 (ipykernel)",
   "language": "python",
   "name": "python3"
  },
  "language_info": {
   "codemirror_mode": {
    "name": "ipython",
    "version": 3
   },
   "file_extension": ".py",
   "mimetype": "text/x-python",
   "name": "python",
   "nbconvert_exporter": "python",
   "pygments_lexer": "ipython3",
   "version": "3.9.7"
  }
 },
 "nbformat": 4,
 "nbformat_minor": 5
}
