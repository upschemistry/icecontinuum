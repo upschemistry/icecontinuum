{
 "cells": [
  {
   "cell_type": "code",
   "execution_count": 1,
   "metadata": {},
   "outputs": [
    {
     "name": "stderr",
     "output_type": "stream",
     "text": [
      "C:\\Users\\Max-PC\\AppData\\Local\\Packages\\PythonSoftwareFoundation.Python.3.9_qbz5n2kfra8p0\\LocalCache\\local-packages\\Python39\\site-packages\\llvmlite\\llvmpy\\__init__.py:3: UserWarning: The module `llvmlite.llvmpy` is deprecated and will be removed in the future.\n",
      "  warnings.warn(\n",
      "C:\\Users\\Max-PC\\AppData\\Local\\Packages\\PythonSoftwareFoundation.Python.3.9_qbz5n2kfra8p0\\LocalCache\\local-packages\\Python39\\site-packages\\llvmlite\\llvmpy\\core.py:8: UserWarning: The module `llvmlite.llvmpy.core` is deprecated and will be removed in the future. Equivalent functionality is provided by `llvmlite.ir`.\n",
      "  warnings.warn(\n",
      "C:\\Users\\Max-PC\\AppData\\Local\\Packages\\PythonSoftwareFoundation.Python.3.9_qbz5n2kfra8p0\\LocalCache\\local-packages\\Python39\\site-packages\\llvmlite\\llvmpy\\passes.py:17: UserWarning: The module `llvmlite.llvmpy.passes` is deprecated and will be removed in the future. If you are using this code, it should be inlined into your own project.\n",
      "  warnings.warn(\n"
     ]
    }
   ],
   "source": [
    "import numpy as np\n",
    "from matplotlib import pyplot as plt\n",
    "#from matplotlib import rcParams\n",
    "\n",
    "import plotly\n",
    "import plotly.graph_objects as go\n",
    "import os\n",
    "\n",
    "from sim_handling import Simulation,loadSim,continue_from_file, woa_to_file\n",
    "from diffusionstuff7 import f0d,f1d,f2d"
   ]
  },
  {
   "cell_type": "code",
   "execution_count": null,
   "metadata": {},
   "outputs": [],
   "source": [
    "%matplotlib widget"
   ]
  },
  {
   "attachments": {},
   "cell_type": "markdown",
   "metadata": {},
   "source": [
    "This notebook is to create 3d plots of the number of steps (z axis) over time (y axis) for 1D simulations against a variable parameter (x axis). The parameters to begin with will be those from the 1D QLL mediated continuum model of ice. \n",
    "A 3d plot will be created for each parameter. Additionally, the fig11 x value and predicted Nss value will be plotted on a slice of the 3d plot at the final x value, and a difference between the actual and predicted values will printed.\n",
    "Around 20 values for each parameter will be tested."
   ]
  },
  {
   "cell_type": "code",
   "execution_count": 3,
   "metadata": {},
   "outputs": [
    {
     "name": "stdout",
     "output_type": "stream",
     "text": [
      "0\n",
      "appx progress: 0.03 %\r"
     ]
    },
    {
     "ename": "KeyboardInterrupt",
     "evalue": "",
     "output_type": "error",
     "traceback": [
      "\u001b[1;31m---------------------------------------------------------------------------\u001b[0m",
      "\u001b[1;31mKeyboardInterrupt\u001b[0m                         Traceback (most recent call last)",
      "\u001b[1;32mc:\\Users\\Max-PC\\OneDrive - University of Puget Sound\\Research 2022\\Workspace\\icecontinuum\\bloom_2022\\bifurcation_testing2d.ipynb Cell 4\u001b[0m in \u001b[0;36m<cell line: 6>\u001b[1;34m()\u001b[0m\n\u001b[0;32m     <a href='vscode-notebook-cell:/c%3A/Users/Max-PC/OneDrive%20-%20University%20of%20Puget%20Sound/Research%202022/Workspace/icecontinuum/bloom_2022/bifurcation_testing2d.ipynb#W3sZmlsZQ%3D%3D?line=26'>27</a>\u001b[0m sigma_sim_2d\u001b[39m.\u001b[39mfilename \u001b[39m=\u001b[39m filename\n\u001b[0;32m     <a href='vscode-notebook-cell:/c%3A/Users/Max-PC/OneDrive%20-%20University%20of%20Puget%20Sound/Research%202022/Workspace/icecontinuum/bloom_2022/bifurcation_testing2d.ipynb#W3sZmlsZQ%3D%3D?line=28'>29</a>\u001b[0m \u001b[39m#run simulation\u001b[39;00m\n\u001b[1;32m---> <a href='vscode-notebook-cell:/c%3A/Users/Max-PC/OneDrive%20-%20University%20of%20Puget%20Sound/Research%202022/Workspace/icecontinuum/bloom_2022/bifurcation_testing2d.ipynb#W3sZmlsZQ%3D%3D?line=29'>30</a>\u001b[0m run_filename_output \u001b[39m=\u001b[39m sigma_sim_2d\u001b[39m.\u001b[39;49mrun()\n\u001b[0;32m     <a href='vscode-notebook-cell:/c%3A/Users/Max-PC/OneDrive%20-%20University%20of%20Puget%20Sound/Research%202022/Workspace/icecontinuum/bloom_2022/bifurcation_testing2d.ipynb#W3sZmlsZQ%3D%3D?line=30'>31</a>\u001b[0m need_to_load \u001b[39m=\u001b[39m \u001b[39mFalse\u001b[39;00m \u001b[39m# hope it finished\u001b[39;00m\n\u001b[0;32m     <a href='vscode-notebook-cell:/c%3A/Users/Max-PC/OneDrive%20-%20University%20of%20Puget%20Sound/Research%202022/Workspace/icecontinuum/bloom_2022/bifurcation_testing2d.ipynb#W3sZmlsZQ%3D%3D?line=31'>32</a>\u001b[0m \u001b[39mwhile\u001b[39;00m run_filename_output \u001b[39mis\u001b[39;00m \u001b[39mnot\u001b[39;00m \u001b[39mNone\u001b[39;00m: \u001b[39m# if it didn't finish\u001b[39;00m\n\u001b[0;32m     <a href='vscode-notebook-cell:/c%3A/Users/Max-PC/OneDrive%20-%20University%20of%20Puget%20Sound/Research%202022/Workspace/icecontinuum/bloom_2022/bifurcation_testing2d.ipynb#W3sZmlsZQ%3D%3D?line=32'>33</a>\u001b[0m \n\u001b[0;32m     <a href='vscode-notebook-cell:/c%3A/Users/Max-PC/OneDrive%20-%20University%20of%20Puget%20Sound/Research%202022/Workspace/icecontinuum/bloom_2022/bifurcation_testing2d.ipynb#W3sZmlsZQ%3D%3D?line=33'>34</a>\u001b[0m \t\u001b[39m#run should just run and save results to Simulation object, outputs filename if it had to stop and save\u001b[39;00m\n",
      "File \u001b[1;32mc:\\Users\\Max-PC\\OneDrive - University of Puget Sound\\Research 2022\\Workspace\\icecontinuum\\bloom_2022\\sim_handling.py:392\u001b[0m, in \u001b[0;36mSimulation.run\u001b[1;34m(self, print_progress, print_count_layers, halve_time_res)\u001b[0m\n\u001b[0;32m    389\u001b[0m     y \u001b[39m=\u001b[39m solve_ivp_result\u001b[39m.\u001b[39my[:, \u001b[39mlen\u001b[39m(solve_ivp_result\u001b[39m.\u001b[39mt)\u001b[39m-\u001b[39m\u001b[39m1\u001b[39m]\u001b[39m#y[:,-1] : get last timestep that solve_ivp returns\u001b[39;00m\n\u001b[0;32m    390\u001b[0m \u001b[39melse\u001b[39;00m:\n\u001b[0;32m    391\u001b[0m     \u001b[39m#old version: solve_ivp_result = solve_ivp(self.model, self.tinterval, np.reshape(ylast,np.prod(np.shape(ylast))), method=self.method, args=model_args, t_eval=self.tinterval, rtol=self.rtol, atol=self.atol)\u001b[39;00m\n\u001b[1;32m--> 392\u001b[0m     solve_ivp_result \u001b[39m=\u001b[39m solve_ivp(\u001b[39mself\u001b[39;49m\u001b[39m.\u001b[39;49mmodel, \u001b[39mself\u001b[39;49m\u001b[39m.\u001b[39;49mtinterval, np\u001b[39m.\u001b[39;49mreshape(ylast,np\u001b[39m.\u001b[39;49mprod(np\u001b[39m.\u001b[39;49mshape(ylast))), method\u001b[39m=\u001b[39;49m\u001b[39mself\u001b[39;49m\u001b[39m.\u001b[39;49mmethod, args\u001b[39m=\u001b[39;49mmodel_args, rtol\u001b[39m=\u001b[39;49m\u001b[39mself\u001b[39;49m\u001b[39m.\u001b[39;49mrtol, atol\u001b[39m=\u001b[39;49m\u001b[39mself\u001b[39;49m\u001b[39m.\u001b[39;49matol)\n\u001b[0;32m    394\u001b[0m y \u001b[39m=\u001b[39m solve_ivp_result\u001b[39m.\u001b[39my[:, \u001b[39mlen\u001b[39m(solve_ivp_result\u001b[39m.\u001b[39mt)\u001b[39m-\u001b[39m\u001b[39m1\u001b[39m]\u001b[39m#y[:,-1] : get last timestep that solve_ivp returns\u001b[39;00m\n\u001b[0;32m    396\u001b[0m \u001b[39m# Update the state                 \u001b[39;00m\n",
      "File \u001b[1;32m~\\AppData\\Local\\Packages\\PythonSoftwareFoundation.Python.3.9_qbz5n2kfra8p0\\LocalCache\\local-packages\\Python39\\site-packages\\scipy\\integrate\\_ivp\\ivp.py:576\u001b[0m, in \u001b[0;36msolve_ivp\u001b[1;34m(fun, t_span, y0, method, t_eval, dense_output, events, vectorized, args, **options)\u001b[0m\n\u001b[0;32m    574\u001b[0m status \u001b[39m=\u001b[39m \u001b[39mNone\u001b[39;00m\n\u001b[0;32m    575\u001b[0m \u001b[39mwhile\u001b[39;00m status \u001b[39mis\u001b[39;00m \u001b[39mNone\u001b[39;00m:\n\u001b[1;32m--> 576\u001b[0m     message \u001b[39m=\u001b[39m solver\u001b[39m.\u001b[39;49mstep()\n\u001b[0;32m    578\u001b[0m     \u001b[39mif\u001b[39;00m solver\u001b[39m.\u001b[39mstatus \u001b[39m==\u001b[39m \u001b[39m'\u001b[39m\u001b[39mfinished\u001b[39m\u001b[39m'\u001b[39m:\n\u001b[0;32m    579\u001b[0m         status \u001b[39m=\u001b[39m \u001b[39m0\u001b[39m\n",
      "File \u001b[1;32m~\\AppData\\Local\\Packages\\PythonSoftwareFoundation.Python.3.9_qbz5n2kfra8p0\\LocalCache\\local-packages\\Python39\\site-packages\\scipy\\integrate\\_ivp\\base.py:181\u001b[0m, in \u001b[0;36mOdeSolver.step\u001b[1;34m(self)\u001b[0m\n\u001b[0;32m    179\u001b[0m \u001b[39melse\u001b[39;00m:\n\u001b[0;32m    180\u001b[0m     t \u001b[39m=\u001b[39m \u001b[39mself\u001b[39m\u001b[39m.\u001b[39mt\n\u001b[1;32m--> 181\u001b[0m     success, message \u001b[39m=\u001b[39m \u001b[39mself\u001b[39;49m\u001b[39m.\u001b[39;49m_step_impl()\n\u001b[0;32m    183\u001b[0m     \u001b[39mif\u001b[39;00m \u001b[39mnot\u001b[39;00m success:\n\u001b[0;32m    184\u001b[0m         \u001b[39mself\u001b[39m\u001b[39m.\u001b[39mstatus \u001b[39m=\u001b[39m \u001b[39m'\u001b[39m\u001b[39mfailed\u001b[39m\u001b[39m'\u001b[39m\n",
      "File \u001b[1;32m~\\AppData\\Local\\Packages\\PythonSoftwareFoundation.Python.3.9_qbz5n2kfra8p0\\LocalCache\\local-packages\\Python39\\site-packages\\scipy\\integrate\\_ivp\\rk.py:144\u001b[0m, in \u001b[0;36mRungeKutta._step_impl\u001b[1;34m(self)\u001b[0m\n\u001b[0;32m    141\u001b[0m h \u001b[39m=\u001b[39m t_new \u001b[39m-\u001b[39m t\n\u001b[0;32m    142\u001b[0m h_abs \u001b[39m=\u001b[39m np\u001b[39m.\u001b[39mabs(h)\n\u001b[1;32m--> 144\u001b[0m y_new, f_new \u001b[39m=\u001b[39m rk_step(\u001b[39mself\u001b[39;49m\u001b[39m.\u001b[39;49mfun, t, y, \u001b[39mself\u001b[39;49m\u001b[39m.\u001b[39;49mf, h, \u001b[39mself\u001b[39;49m\u001b[39m.\u001b[39;49mA,\n\u001b[0;32m    145\u001b[0m                        \u001b[39mself\u001b[39;49m\u001b[39m.\u001b[39;49mB, \u001b[39mself\u001b[39;49m\u001b[39m.\u001b[39;49mC, \u001b[39mself\u001b[39;49m\u001b[39m.\u001b[39;49mK)\n\u001b[0;32m    146\u001b[0m scale \u001b[39m=\u001b[39m atol \u001b[39m+\u001b[39m np\u001b[39m.\u001b[39mmaximum(np\u001b[39m.\u001b[39mabs(y), np\u001b[39m.\u001b[39mabs(y_new)) \u001b[39m*\u001b[39m rtol\n\u001b[0;32m    147\u001b[0m error_norm \u001b[39m=\u001b[39m \u001b[39mself\u001b[39m\u001b[39m.\u001b[39m_estimate_error_norm(\u001b[39mself\u001b[39m\u001b[39m.\u001b[39mK, h, scale)\n",
      "File \u001b[1;32m~\\AppData\\Local\\Packages\\PythonSoftwareFoundation.Python.3.9_qbz5n2kfra8p0\\LocalCache\\local-packages\\Python39\\site-packages\\scipy\\integrate\\_ivp\\rk.py:63\u001b[0m, in \u001b[0;36mrk_step\u001b[1;34m(fun, t, y, f, h, A, B, C, K)\u001b[0m\n\u001b[0;32m     61\u001b[0m K[\u001b[39m0\u001b[39m] \u001b[39m=\u001b[39m f\n\u001b[0;32m     62\u001b[0m \u001b[39mfor\u001b[39;00m s, (a, c) \u001b[39min\u001b[39;00m \u001b[39menumerate\u001b[39m(\u001b[39mzip\u001b[39m(A[\u001b[39m1\u001b[39m:], C[\u001b[39m1\u001b[39m:]), start\u001b[39m=\u001b[39m\u001b[39m1\u001b[39m):\n\u001b[1;32m---> 63\u001b[0m     dy \u001b[39m=\u001b[39m np\u001b[39m.\u001b[39;49mdot(K[:s]\u001b[39m.\u001b[39;49mT, a[:s]) \u001b[39m*\u001b[39m h\n\u001b[0;32m     64\u001b[0m     K[s] \u001b[39m=\u001b[39m fun(t \u001b[39m+\u001b[39m c \u001b[39m*\u001b[39m h, y \u001b[39m+\u001b[39m dy)\n\u001b[0;32m     66\u001b[0m y_new \u001b[39m=\u001b[39m y \u001b[39m+\u001b[39m h \u001b[39m*\u001b[39m np\u001b[39m.\u001b[39mdot(K[:\u001b[39m-\u001b[39m\u001b[39m1\u001b[39m]\u001b[39m.\u001b[39mT, B)\n",
      "File \u001b[1;32m<__array_function__ internals>:180\u001b[0m, in \u001b[0;36mdot\u001b[1;34m(*args, **kwargs)\u001b[0m\n",
      "\u001b[1;31mKeyboardInterrupt\u001b[0m: "
     ]
    }
   ],
   "source": [
    "#sigma, run and process results\n",
    "sigma_range = np.linspace(0.19, 0.5, 40)\n",
    "#Ntots = []\n",
    "zacc = []\n",
    "\n",
    "for i,sigma in enumerate(sigma_range):\n",
    "#set up and run and plot a new simulation\n",
    "\tprint(i)\n",
    "\tsigma_sim_2d = Simulation(f2d, (500,500), method='RK45')\n",
    "\n",
    "\t#set it based off number of timesteps so that it's the same for all (different growth rates)\n",
    "\tsigma_sim_2d.uselayers = False\n",
    "\tsigma_sim_2d.countermax = 20_000 # around 70 layers\n",
    "\n",
    "\tsigma_sim_2d.discretization_halt = False # needs to be same length of simulation, we want to see the differences if it causes discretization halt\n",
    "\n",
    "\tsigma_sim_2d.mem_check = True #manage large simulation\n",
    "\tsigma_sim_2d.memory_threshold = 72E9 #72GB\n",
    "\n",
    "\t#test_1d_asym.float_params['DoverdeltaX2'] \n",
    "\tsigma_sim_2d.layermax = 1100\n",
    "\tsigma_sim_2d.sigmastepmax = sigma\n",
    "\tsigma_sim_2d.center_reduction = 0.25\n",
    "\n",
    "\t#filename = 'long_2D_sim_500_500_pts.npy'\n",
    "\tfilename = 'f2d_500_500_sigma'+str(round(sigma,3))+'.npy'\n",
    "\tsigma_sim_2d.filename = filename\n",
    "\n",
    "\t#run simulation\n",
    "\trun_filename_output = sigma_sim_2d.run()\n",
    "\tneed_to_load = False # hope it finished\n",
    "\twhile run_filename_output is not None: # if it didn't finish\n",
    "\n",
    "\t\t#run should just run and save results to Simulation object, outputs filename if it had to stop and save\n",
    "\t\tprint('timesteps completed:', len(sigma_sim_2d._results['t']))\n",
    "\t\tprint('Continuing from file...')\n",
    "\t\tsigma_sim_2d.countermax -= len(sigma_sim_2d._results['t']) #count completed timesteps\n",
    "\t\tsigma_sim_2d = continue_from_file(sigma_sim_2d, filename)\n",
    "\t\trun_filename_output = sigma_sim_2d.run()\n",
    "\t\tif run_filename_output is None:\n",
    "\t\t\tprint('Simulation completed')\n",
    "\t\t\twoa_to_file(sigma_sim_2d, filename)\n",
    "\t\t\tneed_to_load = True\n",
    "\t\t\t\n",
    "\tif need_to_load:\n",
    "\t\tprint('loading sim results from file')\n",
    "\t\tNtot = np.load(filename, mmap_mode='r')[:,1,:,:]\n",
    "\telse:\n",
    "\t\tprint('loading sim results from completed sim object')\n",
    "\t\tNtot = sigma_sim_2d.getNtot()\n",
    "\n",
    "\t# maxes = np.array([np.max(n) for n in Ntot[:]])\n",
    "\t# mins = np.array([np.min(n) for n in Ntot[:]])\n",
    "\t#z = np.array(np.max(n)-np.min(n) for n in Ntot) #(array of size x (number of timesteps), each value is z value (number of steps on surface) at that time)\n",
    "\n",
    "\t# calculate number of steps on the surface\n",
    "\t#zacc.append(np.array([np.max(n.flatten())-np.min(n.flatten()) for n in Ntot[:,:,:]]))\n",
    "\tzacc.append(np.ptp(Ntot, axis=(1,2)))\n",
    "\n",
    "\n",
    "\tprint('Ntot shape:', Ntot.shape)\n",
    "\tdel Ntot #clear memory of simulation\n",
    "\tdel sigma_sim_2d\n",
    "\n",
    "\t#delete saved file to prevent disk space running out\n",
    "\tif os.path.exists(filename):\n",
    "\t\tos.remove(filename)\n",
    "\t\n",
    "\twith open('zacc.npy', 'wb'): #save number of steps over time list for each sigma to file\n",
    "\t\tnp.save('zacc.npy', zacc)"
   ]
  },
  {
   "cell_type": "code",
   "execution_count": null,
   "metadata": {},
   "outputs": [],
   "source": [
    "print(zacc[0].shape)\n",
    "print(type(zacc[0]))"
   ]
  },
  {
   "cell_type": "code",
   "execution_count": null,
   "metadata": {},
   "outputs": [],
   "source": [
    "print([np.shape(x) for x in zacc])\n",
    "print([np.max(n)-np.min(n) for n in zacc])"
   ]
  },
  {
   "cell_type": "code",
   "execution_count": null,
   "metadata": {},
   "outputs": [],
   "source": [
    "my_y = np.asarray(sigma_sim_2d.results()['y'])\n",
    "#shape of results['y']: (timesteps, 2, 500, 500)"
   ]
  },
  {
   "cell_type": "code",
   "execution_count": null,
   "metadata": {},
   "outputs": [],
   "source": [
    "print(my_y.shape)"
   ]
  },
  {
   "cell_type": "code",
   "execution_count": null,
   "metadata": {},
   "outputs": [],
   "source": [
    "print(type(Ntot))"
   ]
  },
  {
   "cell_type": "code",
   "execution_count": null,
   "metadata": {},
   "outputs": [],
   "source": [
    "import psutil\n",
    "psutil.swap_memory().free"
   ]
  },
  {
   "cell_type": "code",
   "execution_count": null,
   "metadata": {},
   "outputs": [],
   "source": [
    "np.save('zacc_2d.npy', np.asarray(zacc))"
   ]
  },
  {
   "cell_type": "code",
   "execution_count": null,
   "metadata": {},
   "outputs": [],
   "source": [
    "print(type(zacc[0]))"
   ]
  },
  {
   "cell_type": "code",
   "execution_count": null,
   "metadata": {},
   "outputs": [],
   "source": [
    "zacc = np.array(zacc)\n",
    "print(zacc)\n",
    "\n",
    "#stack z frames together along x axis, so time is y axis and different sigma values are x axis\n",
    "zs = np.stack(zacc, axis=0)\n",
    "print(zacc.shape)\n",
    "\n",
    "ys = np.linspace(0, zacc.shape[1], zacc.shape[1])\n",
    "\n",
    "ys,xs = np.meshgrid(ys,sigma_range)"
   ]
  },
  {
   "cell_type": "code",
   "execution_count": null,
   "metadata": {},
   "outputs": [],
   "source": [
    "#matplotlib 3d plot of the results - slow\n",
    "# fig = plt.figure('number of steps over time vs sigma')\n",
    "# ax = plt.axes(projection='3d')\n",
    "# ax.set_xlabel('Sigma')\n",
    "# ax.set_ylabel('Time')\n",
    "# ax.set_zlabel('Number of steps (bilyers of ice)')\n",
    "\n",
    "# print(len(Ntots))\n",
    "\n",
    "# ax.plot_wireframe(X=xs, Y=ys, Z=zs, cmap='viridis')#, vmin=0, vmax=200)"
   ]
  },
  {
   "cell_type": "code",
   "execution_count": null,
   "metadata": {},
   "outputs": [],
   "source": [
    "#3d plot of results. plotly\n",
    "fig = go.Figure(data=[go.Surface(x=xs,y=ys,z=zs, colorscale=\"blues\", showscale=False)])\n",
    "fig.update_layout(scene = dict(\n",
    "                    xaxis_title='Sigma corner',\n",
    "                    yaxis_title='Time (timesteps)',\n",
    "                    zaxis_title='Number of steps (bilyers of ice)'),\n",
    "                    title='number of steps over time vs sigma')\n",
    "                    "
   ]
  },
  {
   "cell_type": "code",
   "execution_count": null,
   "metadata": {},
   "outputs": [],
   "source": [
    "#Save the plot as an interactive webpage html file\n",
    "#plotly.offline.plot(fig, filename='Nss_vs_sigma.html')"
   ]
  },
  {
   "cell_type": "code",
   "execution_count": null,
   "metadata": {},
   "outputs": [],
   "source": [
    "#Do the same thing now, but for center reduction\n",
    "\n",
    "c_r_range = np.linspace(0.01, 4, 40)\n",
    "\n",
    "#process the results\n",
    "zacc = []\n",
    "\n",
    "#run and process results\n",
    "\n",
    "for center_reduction in c_r_range:\n",
    "#set up and run and plot a new simulation\n",
    "\ttest_1d_asym = Simulation(f1d, (500,), method='RK45')\n",
    "\n",
    "\t#set it based off number of timesteps so that it's the same for all (different growth rates)\n",
    "\ttest_1d_asym.uselayers = False\n",
    "\ttest_1d_asym.countermax = 175_000 #enough for steady state under original regular conditions\n",
    "\n",
    "\ttest_1d_asym.discretization_halt = False # needs to be same length of simulation, we want to see the differences if it causes discretization halt\n",
    "\n",
    "\t#test_1d_asym.float_params['DoverdeltaX2'] \n",
    "\ttest_1d_asym.layermax = 1100\n",
    "\ttest_1d_asym.sigmastepmax = 0.20\n",
    "\ttest_1d_asym.center_reduction = center_reduction\n",
    "\n",
    "\tNtot= test_1d_asym.getNtot()\n",
    "\tmaxes = np.array([np.max(n) for n in Ntot[:]])\n",
    "\tmins = np.array([np.min(n) for n in Ntot[:]])\n",
    "\tz = maxes-mins #(array of size x (number of timesteps), each value is z value (number of steps on surface) at that time)\n",
    "\tzacc.append(z)\n",
    "\n",
    "zacc = np.array(zacc)\n",
    "print(zacc)\n",
    "\n",
    "#stack z frames together along x axis, so time is y axis and different sigma values are x axis\n",
    "zs = np.stack(zacc, axis=0)\n",
    "print(zacc.shape)\n",
    "\n",
    "ys = np.linspace(0, zacc.shape[1], zacc.shape[1])\n",
    "\n",
    "ys,xs = np.meshgrid(ys,c_r_range)"
   ]
  },
  {
   "cell_type": "code",
   "execution_count": null,
   "metadata": {},
   "outputs": [],
   "source": [
    "#3d plot of results. plotly\n",
    "fig = go.Figure(data=[go.Surface(x=xs,y=ys,z=zs, colorscale=\"blues\", showscale=False)])\n",
    "fig.update_layout(scene = dict(\n",
    "                    xaxis_title='Center reduction, %',\n",
    "                    yaxis_title='Time (timesteps)',\n",
    "                    zaxis_title='Number of steps (bilyers of ice)'),\n",
    "                    title='number of steps over time vs center reduction')\n",
    "fig.show(width=1000, height=1000)"
   ]
  },
  {
   "cell_type": "code",
   "execution_count": null,
   "metadata": {},
   "outputs": [],
   "source": [
    "\n",
    "#save the results as an interactive html file\n",
    "fig.write_html(\"c_r_vs_sigma.html\")\n",
    "#plotly.offline.plot(fig, filename='c_r_vs_sigma.html')"
   ]
  },
  {
   "cell_type": "code",
   "execution_count": null,
   "metadata": {},
   "outputs": [],
   "source": [
    "#Do the same thing now, but for Diffusion coefficient\n",
    "d_range = np.linspace(0.75E-4, 6E-4, 40)\n",
    "\n",
    "#process the results\n",
    "zacc = []\n",
    "\n",
    "#run and process results\n",
    "\n",
    "for D in d_range:\n",
    "#set up and run and plot a new simulation\n",
    "\tsim_1d_D = Simulation(f1d, (500,), method='RK45')\n",
    "\n",
    "\t#set it based off number of timesteps so that it's the same for all (different growth rates)\n",
    "\tsim_1d_D.uselayers = False\n",
    "\tsim_1d_D.countermax = 175_000 #enough for steady state under original regular conditions\n",
    "\n",
    "\tsim_1d_D.discretization_halt = False # needs to be same length of simulation, we want to see the differences if it causes discretization halt\n",
    "\n",
    "\n",
    "\tdeltaX = sim_1d_D.x[1]-sim_1d_D.x[0]\n",
    "\tsim_1d_D.float_params['DoverdeltaX2'] = D/deltaX**2\n",
    "\n",
    "\tsim_1d_D.layermax = 1100\n",
    "\tsim_1d_D.sigmastepmax = 0.20\n",
    "\tsim_1d_D.center_reduction = 0.25\n",
    "\n",
    "\tNtot= sim_1d_D.getNtot()\n",
    "\tmaxes = np.array([np.max(n) for n in Ntot[:]])\n",
    "\tmins = np.array([np.min(n) for n in Ntot[:]])\n",
    "\tz = maxes-mins #(array of size x (number of timesteps), each value is z value (number of steps on surface) at that time)\n",
    "\tzacc.append(z)\n",
    "\n",
    "zacc = np.array(zacc)\n",
    "print(zacc)\n",
    "\n",
    "#stack z frames together along x axis, so time is y axis and different sigma values are x axis\n",
    "zs = np.stack(zacc, axis=0)\n",
    "print(zacc.shape)\n",
    "\n",
    "ys = np.linspace(0, zacc.shape[1], zacc.shape[1])\n",
    "\n",
    "ys,xs = np.meshgrid(ys,d_range)"
   ]
  },
  {
   "cell_type": "code",
   "execution_count": null,
   "metadata": {},
   "outputs": [],
   "source": [
    "#3d plot of results. plotly\n",
    "fig = go.Figure(data=[go.Surface(x=xs,y=ys,z=zs, colorscale=\"blues\", showscale=False)])\n",
    "fig.update_layout(scene = dict(\n",
    "                    xaxis_title='D, microns^2/microsecond',\n",
    "                    yaxis_title='Time (timesteps)',\n",
    "                    zaxis_title='Number of steps (bilayers of ice)'),\n",
    "                    title='number of steps over time vs diffusion coefficient')\n",
    "fig.show(width=1000, height=1000)"
   ]
  },
  {
   "cell_type": "code",
   "execution_count": null,
   "metadata": {},
   "outputs": [],
   "source": [
    "#save the results as an interactive html file\n",
    "fig.write_html(\"D_vs_sigma.html\")"
   ]
  },
  {
   "cell_type": "code",
   "execution_count": null,
   "metadata": {},
   "outputs": [],
   "source": [
    "#Do the same thing now, but for nu_kin\n",
    "nu_kin_range = np.linspace(20, 140, 40)\n",
    "\n",
    "#run and process results\n",
    "zacc = []\n",
    "\n",
    "for nu_kin in nu_kin_range:\n",
    "#set up and run and plot a new simulation\n",
    "\tsim_1d_D = Simulation(f1d, (500,), method='RK45')\n",
    "\n",
    "\t#set it based off number of timesteps so that it's the same for all (different growth rates)\n",
    "\tsim_1d_D.uselayers = False\n",
    "\tsim_1d_D.countermax = 175_000 #enough for steady state under original regular conditions\n",
    "\n",
    "\tsim_1d_D.discretization_halt = False # needs to be same length of simulation, we want to see the differences if it causes discretization halt\n",
    "\n",
    "\t#deprate is accesible, changable parameter, not in microns per second. That value of nu_kin in microns per second is set as 49, so we divide by 49 to get the correct range of deprate values\n",
    "\tsim_1d_D.float_params['deprate'] *= nu_kin/49\n",
    "\n",
    "\t#defaults\n",
    "\tsim_1d_D.layermax = 1100\n",
    "\tsim_1d_D.sigmastepmax = 0.20\n",
    "\tsim_1d_D.center_reduction = 0.25\n",
    "\n",
    "\tNtot= sim_1d_D.getNtot()\n",
    "\tmaxes = np.array([np.max(n) for n in Ntot[:]])\n",
    "\tmins = np.array([np.min(n) for n in Ntot[:]])\n",
    "\tz = maxes-mins #(array of size x (number of timesteps), each value is z value (number of steps on surface) at that time)\n",
    "\tzacc.append(z)\n",
    "\n",
    "zacc = np.array(zacc)\n",
    "print(zacc)\n",
    "\n",
    "#stack z frames together along x axis, so time is y axis and different sigma values are x axis\n",
    "zs = np.stack(zacc, axis=0)\n",
    "print(zacc.shape)\n",
    "\n",
    "ys = np.linspace(0, zacc.shape[1], zacc.shape[1])\n",
    "ys,xs = np.meshgrid(ys,nu_kin_range)"
   ]
  },
  {
   "cell_type": "code",
   "execution_count": null,
   "metadata": {},
   "outputs": [],
   "source": [
    "#3d plot of results. plotly\n",
    "fig = go.Figure(data=[go.Surface(x=xs,y=ys,z=zs, colorscale=\"blues\", showscale=False)])\n",
    "fig.update_layout(scene = dict(\n",
    "                    xaxis_title='nu_kin, microns/second',\n",
    "                    yaxis_title='Time (timesteps)',\n",
    "                    zaxis_title='Number of steps (bilayers of ice)'),\n",
    "                    title='number of steps over time vs nu_kin')\n",
    "#"
   ]
  },
  {
   "cell_type": "code",
   "execution_count": null,
   "metadata": {},
   "outputs": [],
   "source": [
    "#save the results as an interactive html file\n",
    "fig.write_html(\"nu_kin_vs_sigma.html\")"
   ]
  },
  {
   "cell_type": "code",
   "execution_count": null,
   "metadata": {},
   "outputs": [],
   "source": [
    "#Do the same thing now, but for facet size\n",
    "\n",
    "l_range = np.linspace(150, 850, 40)\n",
    "l_range = [int(round(l,-1)) for l in l_range] # round to nearest 10\n",
    "\n",
    "#run and process results\n",
    "zacc = []\n",
    "for l in l_range:\n",
    "#set up and run and plot a new simulation\n",
    "\tsim_1d_D = Simulation(f1d, (l,), method='RK45')\n",
    "\n",
    "\t#set it based off number of timesteps so that it's the same for all (different growth rates)\n",
    "\tsim_1d_D.uselayers = False\n",
    "\tsim_1d_D.countermax = 175_000 #enough for steady state under original regular conditions\n",
    "\n",
    "\tsim_1d_D.discretization_halt = False # needs to be same length of simulation, we want to see the differences if it causes discretization halt\n",
    "\n",
    "\t#deltaX = sim_1d_D.x[1]-sim_1d_D.x[0]\n",
    "\t#sim_1d_D.float_params['DoverdeltaX2'] = D/deltaX**2\n",
    "\n",
    "\tsim_1d_D.layermax = 1100\n",
    "\tsim_1d_D.sigmastepmax = 0.20\n",
    "\tsim_1d_D.center_reduction = 0.25\n",
    "\n",
    "\tNtot = sim_1d_D.getNtot()\n",
    "\tmaxes = np.array([np.max(n) for n in Ntot[:]])\n",
    "\tmins = np.array([np.min(n) for n in Ntot[:]])\n",
    "\tz = maxes-mins #(array of size x (number of timesteps), each value is z value (number of steps on surface) at that time)\n",
    "\tzacc.append(z)\n",
    "\n",
    "zacc = np.array(zacc)\n",
    "print(zacc)\n",
    "\n",
    "#stack z frames together along x axis, so time is y axis and different sigma values are x axis\n",
    "zs = np.stack(zacc, axis=0)\n",
    "print(zacc.shape)\n",
    "\n",
    "ys = np.linspace(0, zacc.shape[1], zacc.shape[1])\n",
    "\n",
    "ys,xs = np.meshgrid(ys,l_range)"
   ]
  },
  {
   "cell_type": "code",
   "execution_count": null,
   "metadata": {},
   "outputs": [],
   "source": [
    "#3d plot of results. plotly\n",
    "fig = go.Figure(data=[go.Surface(x=xs,y=ys,z=zs, colorscale=\"blues\", showscale=False)])\n",
    "fig.update_layout(scene = dict(\n",
    "                    xaxis_title='L, num points, (10 points per micron)',\n",
    "                    yaxis_title='Time (timesteps)',\n",
    "                    zaxis_title='Number of steps (bilayers of ice)'),\n",
    "                    title='number of steps over time vs facet size')\n",
    "#"
   ]
  },
  {
   "cell_type": "code",
   "execution_count": null,
   "metadata": {},
   "outputs": [],
   "source": [
    "#save the results as an interactive html file\n",
    "fig.write_html(\"L_vs_sigma.html\")"
   ]
  },
  {
   "cell_type": "code",
   "execution_count": null,
   "metadata": {},
   "outputs": [],
   "source": [
    " #set up and run and plot a new simulation\n",
    "test_1d_asym = Simulation(f1d, (500,), method='RK45', rtol=1e-12)\n",
    "#test_1d_asym = Simulation(f1d, (500,), method='LSODA')\n",
    "\n",
    "test_1d_asym.discretization_halt = False\n",
    "\n",
    "#try a noisy simulation\n",
    "test_1d_asym.noisy_init = False\n",
    "\n",
    "#test_1d_asym.float_params['DoverdeltaX2'] *= 2 # raised to lower parameter product value\n",
    "test_1d_asym.layermax = 1100\n",
    "#test_2d_asym.sigmastepmax= -0.01 #ablation\n",
    "test_1d_asym.sigmastepmax = 0.195 #growth - lowered to lower parameter product value\n",
    "test_1d_asym.sigmastepmax = 0.20 \n",
    "test_1d_asym.center_reduction = 0.25\n",
    "#test_2d_asym.center_reduction = 0.003 # lowered to lower parameter product value\n"
   ]
  },
  {
   "cell_type": "code",
   "execution_count": null,
   "metadata": {},
   "outputs": [],
   "source": [
    "#plot the simulation at the end\n",
    "test_1d_asym.plot(completion=1, ice=True, tot=True, figurename='ending surface')"
   ]
  },
  {
   "cell_type": "code",
   "execution_count": null,
   "metadata": {},
   "outputs": [],
   "source": [
    "#graph number of steps over time\n",
    "Ntot = test_1d_asym.getNtot()\n",
    "#Ntot = cycle_sim.getNtot()\n",
    "print(Ntot.shape)\n",
    "\n",
    "maxes = np.array([np.max(n) for n in Ntot[:]])\n",
    "mins = np.array([np.min(n) for n in Ntot[:]])\n",
    "\n",
    "#print(maxes,mins)\n",
    "plt.figure('Number of steps over time')\n",
    "ax = plt.subplot(111)\n",
    "\n",
    "ax.set_ylabel('Number of steps on surface')\n",
    "\n",
    "if test_1d_asym.sigmastepmax < 0: #ablation case\n",
    "    ax.set_xlabel('Total number of layers ablated')\n",
    "    ax.plot( Ntot[::-1,0]+test_1d_asym.layermax,maxes-mins) #flipping to show ablation progress from left to right, adding layermax to show # layers ablated instead of negative # layers grown\n",
    "else: #growth case   \n",
    "    ax.set_xlabel('Total number of layers grown')\n",
    "    ax.plot( Ntot[:,0],maxes-mins)\n",
    "\n",
    "\n",
    "plt.grid()"
   ]
  },
  {
   "cell_type": "code",
   "execution_count": null,
   "metadata": {},
   "outputs": [],
   "source": [
    "plt.close('Number of steps over time')"
   ]
  },
  {
   "cell_type": "code",
   "execution_count": null,
   "metadata": {},
   "outputs": [],
   "source": [
    "#calculating Nss vs parameter thingy\n",
    "\n",
    "# N_ss = # number of steps to steady state \n",
    "from pint import UnitRegistry; AssignQuantity = UnitRegistry().Quantity\n",
    "\n",
    "\n",
    "#slope and intercept of linear fit of figure11 x to N_ss\n",
    "#for sinusoidal growth\n",
    "M = 0.0027 # bilayers / micron ????\n",
    "M = 2.7 # what it actually looks like on the plot in the paper\n",
    "B= 2.9 #bilayers\n",
    "#for parabolic growth\n",
    "#M = 0.0025\n",
    "#B = 1.6\n",
    "\n",
    "def Nss_fig11(M,B,x):\n",
    "    return M*x + B\n",
    "\n",
    "def figure11(L,D,c_r,nu_kin,sigma):\n",
    "    \"\"\"\n",
    "    L: length of domain, microns\n",
    "    D: diffusion coefficient, microns^2 / microsecond\n",
    "    c_r: center reduction, fraction\n",
    "    nu_kin: growth rate, microns / second\n",
    "    sigma: supersaturation at corner, fraction\n",
    "    \"\"\"\n",
    "    beta = 0.65\n",
    "    return nu_kin*L**2*sigma*(c_r)**beta / D\n",
    "\n",
    "#Lx,Ly = test_1d_asym.shape # num points\n",
    "Lx, = test_1d_asym.shape # num points\n",
    "Lx_mu = AssignQuantity(25, 'microns')\n",
    "c_r = test_1d_asym.center_reduction/100\n",
    "sigma = test_1d_asym.sigmastepmax\n",
    "beta = 0.65 #value from paper \n",
    "nu_kin = AssignQuantity(test_1d_asym._extra_vars.get('nu_kin'), 'micron/second') #microns /second\n",
    "D = AssignQuantity(test_1d_asym._extra_vars.get('D'),'micron^2 / microsecond')\n",
    "\n",
    "#print('Lx,Ly',Lx,Ly)\n",
    "print('Lx',Lx)\n",
    "print('sigma',sigma)\n",
    "print('beta',beta)\n",
    "print('nu_kin',nu_kin)\n",
    "print('D',D)\n",
    "print('c_r',c_r)\n",
    "\n",
    "x = figure11(Lx_mu,D,c_r,nu_kin,sigma)\n",
    "x.ito('microns')\n",
    "print('x with min values from paper: ',x)\n",
    "print('predicted number of steps at steady state: ', Nss_fig11(M,B,x.magnitude))\n",
    "\n",
    "\n",
    "#min values from paper\n",
    "Lx_mu = AssignQuantity(17.5,'microns')\n",
    "D = AssignQuantity(0.75E-4,'microns^2 / microsecond')\n",
    "c_r = 0.15/100\n",
    "nu_kin = AssignQuantity(20,'microns/second')\n",
    "sigma = 0.20\n",
    "\n",
    "#print('Lx,Ly',Lx,Ly)\n",
    "print('Lx',Lx)\n",
    "print('sigma',sigma)\n",
    "print('beta',beta)\n",
    "print('nu_kin',nu_kin)\n",
    "print('D',D)\n",
    "print('c_r',c_r)\n",
    "\n",
    "x = figure11(Lx_mu,D,c_r,nu_kin,sigma)\n",
    "x.ito('microns')\n",
    "print('x with min values from paper: ',x)\n",
    "print('predicted number of steps at steady state: ', Nss_fig11(M,B,x.magnitude))\n",
    "\n",
    "\n",
    "#max values from paper\n",
    "Lx_mu = AssignQuantity(42.5,'microns')\n",
    "D = AssignQuantity(6E-4,'microns^2 / microsecond')\n",
    "c_r = 0.7/100\n",
    "nu_kin = AssignQuantity(140,'microns/second')\n",
    "sigma = 0.50\n",
    "\n",
    "#print('Lx,Ly',Lx,Ly)\n",
    "print('Lx',Lx)\n",
    "print('sigma',sigma)\n",
    "print('beta',beta)\n",
    "print('nu_kin',nu_kin)\n",
    "print('D',D)\n",
    "print('c_r',c_r)\n",
    "\n",
    "x = figure11(Lx_mu,D,c_r,nu_kin,sigma)\n",
    "x.ito('microns')\n",
    "print('x with max values from paper: ',x)\n",
    "print('predicted number of steps at steady state: ', Nss_fig11(M,B,x.magnitude))"
   ]
  },
  {
   "cell_type": "code",
   "execution_count": null,
   "metadata": {},
   "outputs": [],
   "source": [
    "#calculating parameterization produce (fig 11) for simulation\n",
    "Lx,Ly = test_1d_asym.shape # num points\n",
    "sigma = test_1d_asym.sigmastepmax\n",
    "beta = 0.65 #value from paper \n",
    "nu_kin = AssignQuantity(test_1d_asym._extra_vars.get('nu_kin'), 'micron/second') #microns /second\n",
    "D = AssignQuantity(test_1d_asym._extra_vars.get('D'),'micron^2 / microsecond')\n",
    "c_r = test_1d_asym.center_reduction\n",
    "\n",
    "#min values from paper\n",
    "Lx_mu = AssignQuantity(25,'microns')\n",
    "Ly_mu = Ly/Lx * Lx_mu\n",
    "\n",
    "x = figure11(Lx_mu,D,c_r,nu_kin,sigma)\n",
    "x.ito('microns')\n",
    "print(x)"
   ]
  },
  {
   "cell_type": "code",
   "execution_count": null,
   "metadata": {},
   "outputs": [],
   "source": [
    "#plot surface at middle and end of simulation\n",
    "plot = test_1d_asym.plot(ice=True,completion=0.2)\n"
   ]
  },
  {
   "cell_type": "code",
   "execution_count": null,
   "metadata": {},
   "outputs": [],
   "source": [
    "plt.close()"
   ]
  },
  {
   "cell_type": "code",
   "execution_count": null,
   "metadata": {},
   "outputs": [],
   "source": [
    "#continuation of previous simulation\n",
    "#start a second simulation starting with the ending surface of the first \n",
    "# as the initial surface\n",
    "\n",
    "#create 1d sim and graph number of steps over time\n",
    "cycle_sim =  Simulation(f2d, (test_1d_asym.shape[0],test_1d_asym.shape[1]), method=test_1d_asym.method, rtol=test_1d_asym.rtol)\n",
    "\n",
    "#keep general params same\n",
    "cycle_sim.layermax = 1000 #st_2d_asym.layermax * 1.5 #make sure it reaches steady state\n",
    "cycle_sim.float_params['DoverdeltaX2'] = test_1d_asym.float_params['DoverdeltaX2'] \n",
    "cycle_sim.sigma0 = test_1d_asym.sigma0\n",
    "cycle_sim.center_reduction = test_1d_asym.center_reduction\n",
    "cycle_sim.deltaT = test_1d_asym.deltaT #increase time step to decrease number of steps saved?\n",
    "cycle_sim.noisy_init = test_1d_asym.noisy_init\n",
    "\n",
    "#set up initial surface\n",
    "cycle_sim.nonstd_init = True\n",
    "ntots = test_1d_asym.getNtot()\n",
    "cycle_sim.startingNtot = ntots[len(ntots)//2] #start with the middle of the last simulation, before discretzation error\n",
    "\n",
    "#set to ablation run\n",
    "cycle_sim.sigmastepmax = 0.20 \n"
   ]
  },
  {
   "cell_type": "code",
   "execution_count": null,
   "metadata": {},
   "outputs": [],
   "source": [
    "#animate ablation of growth ending surface\n",
    "anim = cycle_sim.animate(ret=True, focus_on_growth=True, proportionalSpeed=False)"
   ]
  },
  {
   "cell_type": "code",
   "execution_count": null,
   "metadata": {},
   "outputs": [],
   "source": [
    "#graph number of steps over time for second simulation\n",
    "Ntot = cycle_sim.getNtot()\n",
    "#Ntot = cycle_sim.getNtot()\n",
    "\n",
    "maxes = np.array([np.max(n) for n in Ntot[:]])\n",
    "mins = np.array([np.min(n) for n in Ntot[:]])\n",
    "\n",
    "#print(maxes,mins)\n",
    "plt.figure()\n",
    "ax = plt.subplot(111)\n",
    "\n",
    "ax.set_ylabel('Number of steps on surface')\n",
    "\n",
    "if cycle_sim.sigmastepmax < 0: #ablation case\n",
    "    ax.set_xlabel('Total number of layers ablated')\n",
    "    ax.plot( Ntot[::-1,0,0]+cycle_sim.layermax,maxes-mins) #flipping to show ablation progress from left to right, adding layermax to show # layers ablated instead of negative # layers grown\n",
    "else: #growth case   \n",
    "    ax.set_xlabel('Total number of layers grown')\n",
    "    ax.plot( Ntot[:,0,0],maxes-mins)\n",
    "\n",
    "plt.grid()"
   ]
  },
  {
   "cell_type": "code",
   "execution_count": null,
   "metadata": {},
   "outputs": [],
   "source": []
  }
 ],
 "metadata": {
  "kernelspec": {
   "display_name": "Python 3",
   "language": "python",
   "name": "python3"
  },
  "language_info": {
   "codemirror_mode": {
    "name": "ipython",
    "version": 3
   },
   "file_extension": ".py",
   "mimetype": "text/x-python",
   "name": "python",
   "nbconvert_exporter": "python",
   "pygments_lexer": "ipython3",
   "version": "3.9.13"
  },
  "orig_nbformat": 4,
  "vscode": {
   "interpreter": {
    "hash": "a5639f55dd41388b289936a35ec1befe471f3e8ab332c7f154620eef02aaf2e9"
   }
  }
 },
 "nbformat": 4,
 "nbformat_minor": 2
}
