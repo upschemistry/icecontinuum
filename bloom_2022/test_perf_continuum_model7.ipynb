{
 "cells": [
  {
   "cell_type": "code",
   "execution_count": 1,
   "metadata": {},
   "outputs": [
    {
     "name": "stderr",
     "output_type": "stream",
     "text": [
      "C:\\Users\\Max-PC\\AppData\\Local\\Packages\\PythonSoftwareFoundation.Python.3.9_qbz5n2kfra8p0\\LocalCache\\local-packages\\Python39\\site-packages\\llvmlite\\llvmpy\\__init__.py:3: UserWarning: The module `llvmlite.llvmpy` is deprecated and will be removed in the future.\n",
      "  warnings.warn(\n",
      "C:\\Users\\Max-PC\\AppData\\Local\\Packages\\PythonSoftwareFoundation.Python.3.9_qbz5n2kfra8p0\\LocalCache\\local-packages\\Python39\\site-packages\\llvmlite\\llvmpy\\core.py:8: UserWarning: The module `llvmlite.llvmpy.core` is deprecated and will be removed in the future. Equivalent functionality is provided by `llvmlite.ir`.\n",
      "  warnings.warn(\n",
      "C:\\Users\\Max-PC\\AppData\\Local\\Packages\\PythonSoftwareFoundation.Python.3.9_qbz5n2kfra8p0\\LocalCache\\local-packages\\Python39\\site-packages\\llvmlite\\llvmpy\\passes.py:17: UserWarning: The module `llvmlite.llvmpy.passes` is deprecated and will be removed in the future. If you are using this code, it should be inlined into your own project.\n",
      "  warnings.warn(\n"
     ]
    }
   ],
   "source": [
    "import time\n",
    "import numpy as np\n",
    "import matplotlib.pyplot as plt\n",
    "import diffusionstuff7 as ds\n",
    "from copy import copy as dup\n",
    "from scipy.integrate import odeint\n",
    "from matplotlib import rcParams\n",
    "from sim_handling import multiple_test_avg_time, Simulation"
   ]
  },
  {
   "cell_type": "code",
   "execution_count": 2,
   "metadata": {},
   "outputs": [],
   "source": [
    "#Meta testing parameters\n",
    "number_of_tests = 10"
   ]
  },
  {
   "cell_type": "code",
   "execution_count": 3,
   "metadata": {},
   "outputs": [],
   "source": [
    "# Graphics parameters\n",
    "%matplotlib widget\n",
    "ticklabelsize = 15\n",
    "fontsize = 15\n",
    "linewidth = 2\n",
    "fignum = 0"
   ]
  },
  {
   "cell_type": "code",
   "execution_count": 4,
   "metadata": {},
   "outputs": [
    {
     "ename": "TypeError",
     "evalue": "No matching definition for argument type(s) array(float64, 1d, C), float64, float64, int32",
     "output_type": "error",
     "traceback": [
      "\u001b[1;31m---------------------------------------------------------------------------\u001b[0m",
      "\u001b[1;31mTypeError\u001b[0m                                 Traceback (most recent call last)",
      "\u001b[1;32mc:\\Users\\Max-PC\\OneDrive - University of Puget Sound\\Research 2022\\Workspace\\icecontinuum\\bloom_2022\\test_perf_continuum_model7.ipynb Cell 4\u001b[0m in \u001b[0;36m<cell line: 2>\u001b[1;34m()\u001b[0m\n\u001b[0;32m      <a href='vscode-notebook-cell:/c%3A/Users/Max-PC/OneDrive%20-%20University%20of%20Puget%20Sound/Research%202022/Workspace/icecontinuum/bloom_2022/test_perf_continuum_model7.ipynb#X23sZmlsZQ%3D%3D?line=0'>1</a>\u001b[0m zero_d_test \u001b[39m=\u001b[39m Simulation(ds\u001b[39m.\u001b[39mf0d,shape\u001b[39m=\u001b[39m(\u001b[39m1\u001b[39m,),rtol\u001b[39m=\u001b[39m\u001b[39m1e-12\u001b[39m)\n\u001b[1;32m----> <a href='vscode-notebook-cell:/c%3A/Users/Max-PC/OneDrive%20-%20University%20of%20Puget%20Sound/Research%202022/Workspace/icecontinuum/bloom_2022/test_perf_continuum_model7.ipynb#X23sZmlsZQ%3D%3D?line=1'>2</a>\u001b[0m multiple_test_avg_time(zero_d_test\u001b[39m.\u001b[39;49mresults, n_tests\u001b[39m=\u001b[39;49mnumber_of_tests)\n",
      "File \u001b[1;32mc:\\Users\\Max-PC\\OneDrive - University of Puget Sound\\Research 2022\\Workspace\\icecontinuum\\bloom_2022\\sim_handling.py:749\u001b[0m, in \u001b[0;36mmultiple_test_avg_time\u001b[1;34m(func, args, n_tests)\u001b[0m\n\u001b[0;32m    747\u001b[0m start \u001b[39m=\u001b[39m np\u001b[39m.\u001b[39mfloat64(time\u001b[39m.\u001b[39mtime())\n\u001b[0;32m    748\u001b[0m \u001b[39mif\u001b[39;00m args \u001b[39m==\u001b[39m \u001b[39mNone\u001b[39;00m:\n\u001b[1;32m--> 749\u001b[0m     func()\n\u001b[0;32m    750\u001b[0m \u001b[39melse\u001b[39;00m:\n\u001b[0;32m    751\u001b[0m     func(\u001b[39m*\u001b[39margs)\n",
      "File \u001b[1;32mc:\\Users\\Max-PC\\OneDrive - University of Puget Sound\\Research 2022\\Workspace\\icecontinuum\\bloom_2022\\sim_handling.py:361\u001b[0m, in \u001b[0;36mSimulation.results\u001b[1;34m(self)\u001b[0m\n\u001b[0;32m    359\u001b[0m \u001b[39m\"\"\" Returns results of simulation (handles running if necessary) \"\"\"\u001b[39;00m\n\u001b[0;32m    360\u001b[0m \u001b[39mif\u001b[39;00m \u001b[39mself\u001b[39m\u001b[39m.\u001b[39m_results \u001b[39m==\u001b[39m {\u001b[39mNone\u001b[39;00m:\u001b[39mNone\u001b[39;00m}:\n\u001b[1;32m--> 361\u001b[0m     \u001b[39mself\u001b[39;49m\u001b[39m.\u001b[39;49mrun()\n\u001b[0;32m    362\u001b[0m \u001b[39mreturn\u001b[39;00m \u001b[39mself\u001b[39m\u001b[39m.\u001b[39m_results\n",
      "File \u001b[1;32mc:\\Users\\Max-PC\\OneDrive - University of Puget Sound\\Research 2022\\Workspace\\icecontinuum\\bloom_2022\\sim_handling.py:308\u001b[0m, in \u001b[0;36mSimulation.run\u001b[1;34m(self, print_progress, print_count_layers)\u001b[0m\n\u001b[0;32m    306\u001b[0m Fliq, Ntot \u001b[39m=\u001b[39m ylast\n\u001b[0;32m    307\u001b[0m \u001b[39mif\u001b[39;00m \u001b[39mself\u001b[39m\u001b[39m.\u001b[39mupdatingFliq:\n\u001b[1;32m--> 308\u001b[0m     Fliq \u001b[39m=\u001b[39m nliq_func(Ntot,Nstar,Nbar,int32(niter)) \u001b[39m# This updates to remove any drift\u001b[39;00m\n\u001b[0;32m    309\u001b[0m     ylast[\u001b[39m0\u001b[39m] \u001b[39m=\u001b[39m Fliq\n\u001b[0;32m    310\u001b[0m Nice \u001b[39m=\u001b[39m Ntot \u001b[39m-\u001b[39m Fliq\n",
      "File \u001b[1;32m~\\AppData\\Local\\Packages\\PythonSoftwareFoundation.Python.3.9_qbz5n2kfra8p0\\LocalCache\\local-packages\\Python39\\site-packages\\numba\\core\\dispatcher.py:703\u001b[0m, in \u001b[0;36m_DispatcherBase._explain_matching_error\u001b[1;34m(self, *args, **kws)\u001b[0m\n\u001b[0;32m    700\u001b[0m args \u001b[39m=\u001b[39m [\u001b[39mself\u001b[39m\u001b[39m.\u001b[39mtypeof_pyval(a) \u001b[39mfor\u001b[39;00m a \u001b[39min\u001b[39;00m args]\n\u001b[0;32m    701\u001b[0m msg \u001b[39m=\u001b[39m (\u001b[39m\"\u001b[39m\u001b[39mNo matching definition for argument type(s) \u001b[39m\u001b[39m%s\u001b[39;00m\u001b[39m\"\u001b[39m\n\u001b[0;32m    702\u001b[0m        \u001b[39m%\u001b[39m \u001b[39m'\u001b[39m\u001b[39m, \u001b[39m\u001b[39m'\u001b[39m\u001b[39m.\u001b[39mjoin(\u001b[39mmap\u001b[39m(\u001b[39mstr\u001b[39m, args)))\n\u001b[1;32m--> 703\u001b[0m \u001b[39mraise\u001b[39;00m \u001b[39mTypeError\u001b[39;00m(msg)\n",
      "\u001b[1;31mTypeError\u001b[0m: No matching definition for argument type(s) array(float64, 1d, C), float64, float64, int32"
     ]
    },
    {
     "ename": "",
     "evalue": "",
     "output_type": "error",
     "traceback": [
      "\u001b[1;31mThe Kernel crashed while executing code in the the current cell or a previous cell. Please review the code in the cell(s) to identify a possible cause of the failure. Click <a href='https://aka.ms/vscodeJupyterKernelCrash'>here</a> for more info. View Jupyter <a href='command:jupyter.viewOutput'>log</a> for further details."
     ]
    }
   ],
   "source": [
    "zero_d_test = Simulation(ds.f0d,shape=(1,),rtol=1e-12)\n",
    "multiple_test_avg_time(zero_d_test.results, n_tests=number_of_tests)"
   ]
  },
  {
   "cell_type": "code",
   "execution_count": null,
   "metadata": {},
   "outputs": [],
   "source": []
  }
 ],
 "metadata": {
  "kernelspec": {
   "display_name": "Python 3.9.13 64-bit (windows store)",
   "language": "python",
   "name": "python3"
  },
  "language_info": {
   "codemirror_mode": {
    "name": "ipython",
    "version": 3
   },
   "file_extension": ".py",
   "mimetype": "text/x-python",
   "name": "python",
   "nbconvert_exporter": "python",
   "pygments_lexer": "ipython3",
   "version": "3.9.13"
  },
  "orig_nbformat": 4,
  "vscode": {
   "interpreter": {
    "hash": "a5639f55dd41388b289936a35ec1befe471f3e8ab332c7f154620eef02aaf2e9"
   }
  }
 },
 "nbformat": 4,
 "nbformat_minor": 2
}
