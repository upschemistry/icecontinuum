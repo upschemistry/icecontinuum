{
 "cells": [
  {
   "cell_type": "code",
   "execution_count": 1,
   "metadata": {},
   "outputs": [
    {
     "name": "stderr",
     "output_type": "stream",
     "text": [
      "C:\\Users\\Max-PC\\AppData\\Local\\Packages\\PythonSoftwareFoundation.Python.3.9_qbz5n2kfra8p0\\LocalCache\\local-packages\\Python39\\site-packages\\llvmlite\\llvmpy\\__init__.py:3: UserWarning: The module `llvmlite.llvmpy` is deprecated and will be removed in the future.\n",
      "  warnings.warn(\n",
      "C:\\Users\\Max-PC\\AppData\\Local\\Packages\\PythonSoftwareFoundation.Python.3.9_qbz5n2kfra8p0\\LocalCache\\local-packages\\Python39\\site-packages\\llvmlite\\llvmpy\\core.py:8: UserWarning: The module `llvmlite.llvmpy.core` is deprecated and will be removed in the future. Equivalent functionality is provided by `llvmlite.ir`.\n",
      "  warnings.warn(\n",
      "C:\\Users\\Max-PC\\AppData\\Local\\Packages\\PythonSoftwareFoundation.Python.3.9_qbz5n2kfra8p0\\LocalCache\\local-packages\\Python39\\site-packages\\llvmlite\\llvmpy\\passes.py:17: UserWarning: The module `llvmlite.llvmpy.passes` is deprecated and will be removed in the future. If you are using this code, it should be inlined into your own project.\n",
      "  warnings.warn(\n"
     ]
    }
   ],
   "source": [
    "import time\n",
    "import numpy as np\n",
    "import matplotlib.pyplot as plt\n",
    "import diffusionstuff7 as ds\n",
    "from copy import copy as dup\n",
    "from scipy.integrate import odeint\n",
    "from matplotlib import rcParams\n",
    "from sim_handling import multiple_test_avg_time, Simulation"
   ]
  },
  {
   "cell_type": "code",
   "execution_count": 2,
   "metadata": {},
   "outputs": [],
   "source": [
    "#Meta testing parameters\n",
    "number_of_tests = 10"
   ]
  },
  {
   "cell_type": "code",
   "execution_count": 3,
   "metadata": {},
   "outputs": [],
   "source": [
    "# Graphics parameters\n",
    "%matplotlib widget\n",
    "ticklabelsize = 15\n",
    "fontsize = 15\n",
    "linewidth = 2\n",
    "fignum = 0"
   ]
  },
  {
   "cell_type": "code",
   "execution_count": 4,
   "metadata": {},
   "outputs": [
    {
     "name": "stdout",
     "output_type": "stream",
     "text": [
      "appx progress: 11.51 %\r"
     ]
    },
    {
     "ename": "KeyboardInterrupt",
     "evalue": "",
     "output_type": "error",
     "traceback": [
      "\u001b[1;31m---------------------------------------------------------------------------\u001b[0m",
      "\u001b[1;31mKeyboardInterrupt\u001b[0m                         Traceback (most recent call last)",
      "\u001b[1;32mc:\\Users\\Max-PC\\OneDrive - University of Puget Sound\\Research 2022\\Workspace\\icecontinuum\\bloom_2022\\test_perf_continuum_model7.ipynb Cell 4\u001b[0m in \u001b[0;36m<cell line: 2>\u001b[1;34m()\u001b[0m\n\u001b[0;32m      <a href='vscode-notebook-cell:/c%3A/Users/Max-PC/OneDrive%20-%20University%20of%20Puget%20Sound/Research%202022/Workspace/icecontinuum/bloom_2022/test_perf_continuum_model7.ipynb#W3sZmlsZQ%3D%3D?line=0'>1</a>\u001b[0m zero_d_test \u001b[39m=\u001b[39m Simulation(ds\u001b[39m.\u001b[39mf0d,shape\u001b[39m=\u001b[39m(\u001b[39m1\u001b[39m,), layermax\u001b[39m=\u001b[39m\u001b[39m500\u001b[39m, rtol\u001b[39m=\u001b[39m\u001b[39m1e-12\u001b[39m)\n\u001b[1;32m----> <a href='vscode-notebook-cell:/c%3A/Users/Max-PC/OneDrive%20-%20University%20of%20Puget%20Sound/Research%202022/Workspace/icecontinuum/bloom_2022/test_perf_continuum_model7.ipynb#W3sZmlsZQ%3D%3D?line=1'>2</a>\u001b[0m stats, avg_time \u001b[39m=\u001b[39m multiple_test_avg_time(zero_d_test\u001b[39m.\u001b[39;49mresults, n_tests\u001b[39m=\u001b[39;49mnumber_of_tests)\n\u001b[0;32m      <a href='vscode-notebook-cell:/c%3A/Users/Max-PC/OneDrive%20-%20University%20of%20Puget%20Sound/Research%202022/Workspace/icecontinuum/bloom_2022/test_perf_continuum_model7.ipynb#W3sZmlsZQ%3D%3D?line=2'>3</a>\u001b[0m \u001b[39mprint\u001b[39m(\u001b[39m\"\u001b[39m\u001b[39mAverage time for 0D run: \u001b[39m\u001b[39m\"\u001b[39m, avg_time)\n\u001b[0;32m      <a href='vscode-notebook-cell:/c%3A/Users/Max-PC/OneDrive%20-%20University%20of%20Puget%20Sound/Research%202022/Workspace/icecontinuum/bloom_2022/test_perf_continuum_model7.ipynb#W3sZmlsZQ%3D%3D?line=3'>4</a>\u001b[0m \u001b[39mprint\u001b[39m(\u001b[39m'\u001b[39m\u001b[39mOther stats: \u001b[39m\u001b[39m'\u001b[39m)\n",
      "File \u001b[1;32mc:\\Users\\Max-PC\\OneDrive - University of Puget Sound\\Research 2022\\Workspace\\icecontinuum\\bloom_2022\\sim_handling.py:909\u001b[0m, in \u001b[0;36mmultiple_test_avg_time\u001b[1;34m(func, args, n_tests)\u001b[0m\n\u001b[0;32m    907\u001b[0m start \u001b[39m=\u001b[39m np\u001b[39m.\u001b[39mfloat64(time\u001b[39m.\u001b[39mtime())\n\u001b[0;32m    908\u001b[0m \u001b[39mif\u001b[39;00m args \u001b[39m==\u001b[39m \u001b[39mNone\u001b[39;00m:\n\u001b[1;32m--> 909\u001b[0m     pr\u001b[39m.\u001b[39;49mruncall(func)\n\u001b[0;32m    910\u001b[0m \u001b[39melse\u001b[39;00m:\n\u001b[0;32m    911\u001b[0m     pr\u001b[39m.\u001b[39mruncall(func, \u001b[39m*\u001b[39margs)\n",
      "File \u001b[1;32mC:\\Program Files\\WindowsApps\\PythonSoftwareFoundation.Python.3.9_3.9.3568.0_x64__qbz5n2kfra8p0\\lib\\cProfile.py:109\u001b[0m, in \u001b[0;36mProfile.runcall\u001b[1;34m(self, func, *args, **kw)\u001b[0m\n\u001b[0;32m    107\u001b[0m \u001b[39mself\u001b[39m\u001b[39m.\u001b[39menable()\n\u001b[0;32m    108\u001b[0m \u001b[39mtry\u001b[39;00m:\n\u001b[1;32m--> 109\u001b[0m     \u001b[39mreturn\u001b[39;00m func(\u001b[39m*\u001b[39margs, \u001b[39m*\u001b[39m\u001b[39m*\u001b[39mkw)\n\u001b[0;32m    110\u001b[0m \u001b[39mfinally\u001b[39;00m:\n\u001b[0;32m    111\u001b[0m     \u001b[39mself\u001b[39m\u001b[39m.\u001b[39mdisable()\n",
      "File \u001b[1;32mc:\\Users\\Max-PC\\OneDrive - University of Puget Sound\\Research 2022\\Workspace\\icecontinuum\\bloom_2022\\sim_handling.py:475\u001b[0m, in \u001b[0;36mSimulation.results\u001b[1;34m(self)\u001b[0m\n\u001b[0;32m    473\u001b[0m \u001b[39m\"\"\" Returns results of simulation (handles running if necessary) \"\"\"\u001b[39;00m\n\u001b[0;32m    474\u001b[0m \u001b[39mif\u001b[39;00m \u001b[39mself\u001b[39m\u001b[39m.\u001b[39m_results \u001b[39m==\u001b[39m {\u001b[39mNone\u001b[39;00m:\u001b[39mNone\u001b[39;00m}:\n\u001b[1;32m--> 475\u001b[0m     \u001b[39mself\u001b[39;49m\u001b[39m.\u001b[39;49mrun()\n\u001b[0;32m    476\u001b[0m \u001b[39mreturn\u001b[39;00m \u001b[39mself\u001b[39m\u001b[39m.\u001b[39m_results\n",
      "File \u001b[1;32mc:\\Users\\Max-PC\\OneDrive - University of Puget Sound\\Research 2022\\Workspace\\icecontinuum\\bloom_2022\\sim_handling.py:382\u001b[0m, in \u001b[0;36mSimulation.run\u001b[1;34m(self, print_progress, print_count_layers, halve_time_res)\u001b[0m\n\u001b[0;32m    379\u001b[0m     \u001b[39m#y = y[1]\u001b[39;00m\n\u001b[0;32m    380\u001b[0m \u001b[39melse\u001b[39;00m:\n\u001b[0;32m    381\u001b[0m     method \u001b[39m=\u001b[39m \u001b[39mself\u001b[39m\u001b[39m.\u001b[39mmethod\n\u001b[1;32m--> 382\u001b[0m     solve_ivp_result \u001b[39m=\u001b[39m solve_ivp(\u001b[39mself\u001b[39;49m\u001b[39m.\u001b[39;49mmodel, \u001b[39mself\u001b[39;49m\u001b[39m.\u001b[39;49mtinterval, np\u001b[39m.\u001b[39;49mreshape(ylast,np\u001b[39m.\u001b[39;49mprod(np\u001b[39m.\u001b[39;49mshape(ylast))), method\u001b[39m=\u001b[39;49m\u001b[39mself\u001b[39;49m\u001b[39m.\u001b[39;49mmethod, args\u001b[39m=\u001b[39;49mmodel_args, t_eval\u001b[39m=\u001b[39;49m\u001b[39mself\u001b[39;49m\u001b[39m.\u001b[39;49mtinterval, rtol\u001b[39m=\u001b[39;49m\u001b[39mself\u001b[39;49m\u001b[39m.\u001b[39;49mrtol, atol\u001b[39m=\u001b[39;49m\u001b[39mself\u001b[39;49m\u001b[39m.\u001b[39;49matol)\n\u001b[0;32m    384\u001b[0m y \u001b[39m=\u001b[39m solve_ivp_result\u001b[39m.\u001b[39my[:, \u001b[39mlen\u001b[39m(solve_ivp_result\u001b[39m.\u001b[39mt)\u001b[39m-\u001b[39m\u001b[39m1\u001b[39m]\u001b[39m#y[:,-1] : get last timestep that solve_ivp returns\u001b[39;00m\n\u001b[0;32m    386\u001b[0m \u001b[39m# Update the state                 \u001b[39;00m\n",
      "File \u001b[1;32m~\\AppData\\Local\\Packages\\PythonSoftwareFoundation.Python.3.9_qbz5n2kfra8p0\\LocalCache\\local-packages\\Python39\\site-packages\\scipy\\integrate\\_ivp\\ivp.py:632\u001b[0m, in \u001b[0;36msolve_ivp\u001b[1;34m(fun, t_span, y0, method, t_eval, dense_output, events, vectorized, args, **options)\u001b[0m\n\u001b[0;32m    630\u001b[0m \u001b[39mif\u001b[39;00m t_eval_step\u001b[39m.\u001b[39msize \u001b[39m>\u001b[39m \u001b[39m0\u001b[39m:\n\u001b[0;32m    631\u001b[0m     \u001b[39mif\u001b[39;00m sol \u001b[39mis\u001b[39;00m \u001b[39mNone\u001b[39;00m:\n\u001b[1;32m--> 632\u001b[0m         sol \u001b[39m=\u001b[39m solver\u001b[39m.\u001b[39;49mdense_output()\n\u001b[0;32m    633\u001b[0m     ts\u001b[39m.\u001b[39mappend(t_eval_step)\n\u001b[0;32m    634\u001b[0m     ys\u001b[39m.\u001b[39mappend(sol(t_eval_step))\n",
      "File \u001b[1;32m~\\AppData\\Local\\Packages\\PythonSoftwareFoundation.Python.3.9_qbz5n2kfra8p0\\LocalCache\\local-packages\\Python39\\site-packages\\scipy\\integrate\\_ivp\\base.py:208\u001b[0m, in \u001b[0;36mOdeSolver.dense_output\u001b[1;34m(self)\u001b[0m\n\u001b[0;32m    206\u001b[0m     \u001b[39mreturn\u001b[39;00m ConstantDenseOutput(\u001b[39mself\u001b[39m\u001b[39m.\u001b[39mt_old, \u001b[39mself\u001b[39m\u001b[39m.\u001b[39mt, \u001b[39mself\u001b[39m\u001b[39m.\u001b[39my)\n\u001b[0;32m    207\u001b[0m \u001b[39melse\u001b[39;00m:\n\u001b[1;32m--> 208\u001b[0m     \u001b[39mreturn\u001b[39;00m \u001b[39mself\u001b[39;49m\u001b[39m.\u001b[39;49m_dense_output_impl()\n",
      "File \u001b[1;32m~\\AppData\\Local\\Packages\\PythonSoftwareFoundation.Python.3.9_qbz5n2kfra8p0\\LocalCache\\local-packages\\Python39\\site-packages\\scipy\\integrate\\_ivp\\lsoda.py:169\u001b[0m, in \u001b[0;36mLSODA._dense_output_impl\u001b[1;34m(self)\u001b[0m\n\u001b[0;32m    167\u001b[0m order \u001b[39m=\u001b[39m iwork[\u001b[39m14\u001b[39m]\n\u001b[0;32m    168\u001b[0m h \u001b[39m=\u001b[39m rwork[\u001b[39m11\u001b[39m]\n\u001b[1;32m--> 169\u001b[0m yh \u001b[39m=\u001b[39m np\u001b[39m.\u001b[39;49mreshape(rwork[\u001b[39m20\u001b[39;49m:\u001b[39m20\u001b[39;49m \u001b[39m+\u001b[39;49m (order \u001b[39m+\u001b[39;49m \u001b[39m1\u001b[39;49m) \u001b[39m*\u001b[39;49m \u001b[39mself\u001b[39;49m\u001b[39m.\u001b[39;49mn],\n\u001b[0;32m    170\u001b[0m                 (\u001b[39mself\u001b[39;49m\u001b[39m.\u001b[39;49mn, order \u001b[39m+\u001b[39;49m \u001b[39m1\u001b[39;49m), order\u001b[39m=\u001b[39;49m\u001b[39m'\u001b[39;49m\u001b[39mF\u001b[39;49m\u001b[39m'\u001b[39;49m)\u001b[39m.\u001b[39;49mcopy()\n\u001b[0;32m    172\u001b[0m \u001b[39mreturn\u001b[39;00m LsodaDenseOutput(\u001b[39mself\u001b[39m\u001b[39m.\u001b[39mt_old, \u001b[39mself\u001b[39m\u001b[39m.\u001b[39mt, h, order, yh)\n",
      "\u001b[1;31mKeyboardInterrupt\u001b[0m: "
     ]
    }
   ],
   "source": [
    "zero_d_test = Simulation(ds.f0d,shape=(1,), layermax=500, rtol=1e-12)\n",
    "stats, avg_time = multiple_test_avg_time(zero_d_test.results, n_tests=number_of_tests)\n",
    "print(\"Average time for 0D run: \", avg_time)\n",
    "print('Other stats: ')\n",
    "stats.strip_dirs().sort_stats(\"time\").print_stats()"
   ]
  },
  {
   "cell_type": "code",
   "execution_count": null,
   "metadata": {},
   "outputs": [],
   "source": [
    "one_d_test = Simulation(ds.f1d,shape=(250,), layermax=500, rtol=1e-12)\n",
    "stats, avg_time = multiple_test_avg_time(one_d_test.results, n_tests=number_of_tests)\n",
    "print('Other stats: ')\n",
    "stats.strip_dirs().sort_stats(\"time\").print_stats()\n"
   ]
  },
  {
   "cell_type": "code",
   "execution_count": 6,
   "metadata": {},
   "outputs": [
    {
     "ename": "MemoryError",
     "evalue": "Unable to allocate 116. GiB for an array with shape (15626125022,) and data type float64",
     "output_type": "error",
     "traceback": [
      "\u001b[1;31m---------------------------------------------------------------------------\u001b[0m",
      "\u001b[1;31mMemoryError\u001b[0m                               Traceback (most recent call last)",
      "\u001b[1;32mc:\\Users\\Max-PC\\OneDrive - University of Puget Sound\\Research 2022\\Workspace\\icecontinuum\\bloom_2022\\test_perf_continuum_model7.ipynb Cell 6\u001b[0m in \u001b[0;36m<cell line: 2>\u001b[1;34m()\u001b[0m\n\u001b[0;32m      <a href='vscode-notebook-cell:/c%3A/Users/Max-PC/OneDrive%20-%20University%20of%20Puget%20Sound/Research%202022/Workspace/icecontinuum/bloom_2022/test_perf_continuum_model7.ipynb#W5sZmlsZQ%3D%3D?line=0'>1</a>\u001b[0m two_d_test \u001b[39m=\u001b[39m Simulation(ds\u001b[39m.\u001b[39mf2d,shape\u001b[39m=\u001b[39m(\u001b[39m250\u001b[39m,\u001b[39m250\u001b[39m), layermax\u001b[39m=\u001b[39m\u001b[39m500\u001b[39m, rtol\u001b[39m=\u001b[39m\u001b[39m1e-12\u001b[39m)\n\u001b[1;32m----> <a href='vscode-notebook-cell:/c%3A/Users/Max-PC/OneDrive%20-%20University%20of%20Puget%20Sound/Research%202022/Workspace/icecontinuum/bloom_2022/test_perf_continuum_model7.ipynb#W5sZmlsZQ%3D%3D?line=1'>2</a>\u001b[0m stats, avg_time \u001b[39m=\u001b[39m multiple_test_avg_time(two_d_test\u001b[39m.\u001b[39;49mresults, n_tests\u001b[39m=\u001b[39;49mnumber_of_tests)\n\u001b[0;32m      <a href='vscode-notebook-cell:/c%3A/Users/Max-PC/OneDrive%20-%20University%20of%20Puget%20Sound/Research%202022/Workspace/icecontinuum/bloom_2022/test_perf_continuum_model7.ipynb#W5sZmlsZQ%3D%3D?line=2'>3</a>\u001b[0m \u001b[39mprint\u001b[39m(\u001b[39m'\u001b[39m\u001b[39mOther stats: \u001b[39m\u001b[39m'\u001b[39m)\n\u001b[0;32m      <a href='vscode-notebook-cell:/c%3A/Users/Max-PC/OneDrive%20-%20University%20of%20Puget%20Sound/Research%202022/Workspace/icecontinuum/bloom_2022/test_perf_continuum_model7.ipynb#W5sZmlsZQ%3D%3D?line=3'>4</a>\u001b[0m stats\u001b[39m.\u001b[39mstrip_dirs()\u001b[39m.\u001b[39msort_stats(\u001b[39m\"\u001b[39m\u001b[39mtime\u001b[39m\u001b[39m\"\u001b[39m)\u001b[39m.\u001b[39mprint_stats()\n",
      "File \u001b[1;32mc:\\Users\\Max-PC\\OneDrive - University of Puget Sound\\Research 2022\\Workspace\\icecontinuum\\bloom_2022\\sim_handling.py:909\u001b[0m, in \u001b[0;36mmultiple_test_avg_time\u001b[1;34m(func, args, n_tests)\u001b[0m\n\u001b[0;32m    907\u001b[0m start \u001b[39m=\u001b[39m np\u001b[39m.\u001b[39mfloat64(time\u001b[39m.\u001b[39mtime())\n\u001b[0;32m    908\u001b[0m \u001b[39mif\u001b[39;00m args \u001b[39m==\u001b[39m \u001b[39mNone\u001b[39;00m:\n\u001b[1;32m--> 909\u001b[0m     pr\u001b[39m.\u001b[39;49mruncall(func)\n\u001b[0;32m    910\u001b[0m \u001b[39melse\u001b[39;00m:\n\u001b[0;32m    911\u001b[0m     pr\u001b[39m.\u001b[39mruncall(func, \u001b[39m*\u001b[39margs)\n",
      "File \u001b[1;32mC:\\Program Files\\WindowsApps\\PythonSoftwareFoundation.Python.3.9_3.9.3568.0_x64__qbz5n2kfra8p0\\lib\\cProfile.py:109\u001b[0m, in \u001b[0;36mProfile.runcall\u001b[1;34m(self, func, *args, **kw)\u001b[0m\n\u001b[0;32m    107\u001b[0m \u001b[39mself\u001b[39m\u001b[39m.\u001b[39menable()\n\u001b[0;32m    108\u001b[0m \u001b[39mtry\u001b[39;00m:\n\u001b[1;32m--> 109\u001b[0m     \u001b[39mreturn\u001b[39;00m func(\u001b[39m*\u001b[39margs, \u001b[39m*\u001b[39m\u001b[39m*\u001b[39mkw)\n\u001b[0;32m    110\u001b[0m \u001b[39mfinally\u001b[39;00m:\n\u001b[0;32m    111\u001b[0m     \u001b[39mself\u001b[39m\u001b[39m.\u001b[39mdisable()\n",
      "File \u001b[1;32mc:\\Users\\Max-PC\\OneDrive - University of Puget Sound\\Research 2022\\Workspace\\icecontinuum\\bloom_2022\\sim_handling.py:475\u001b[0m, in \u001b[0;36mSimulation.results\u001b[1;34m(self)\u001b[0m\n\u001b[0;32m    473\u001b[0m \u001b[39m\"\"\" Returns results of simulation (handles running if necessary) \"\"\"\u001b[39;00m\n\u001b[0;32m    474\u001b[0m \u001b[39mif\u001b[39;00m \u001b[39mself\u001b[39m\u001b[39m.\u001b[39m_results \u001b[39m==\u001b[39m {\u001b[39mNone\u001b[39;00m:\u001b[39mNone\u001b[39;00m}:\n\u001b[1;32m--> 475\u001b[0m     \u001b[39mself\u001b[39;49m\u001b[39m.\u001b[39;49mrun()\n\u001b[0;32m    476\u001b[0m \u001b[39mreturn\u001b[39;00m \u001b[39mself\u001b[39m\u001b[39m.\u001b[39m_results\n",
      "File \u001b[1;32mc:\\Users\\Max-PC\\OneDrive - University of Puget Sound\\Research 2022\\Workspace\\icecontinuum\\bloom_2022\\sim_handling.py:382\u001b[0m, in \u001b[0;36mSimulation.run\u001b[1;34m(self, print_progress, print_count_layers, halve_time_res)\u001b[0m\n\u001b[0;32m    379\u001b[0m     \u001b[39m#y = y[1]\u001b[39;00m\n\u001b[0;32m    380\u001b[0m \u001b[39melse\u001b[39;00m:\n\u001b[0;32m    381\u001b[0m     method \u001b[39m=\u001b[39m \u001b[39mself\u001b[39m\u001b[39m.\u001b[39mmethod\n\u001b[1;32m--> 382\u001b[0m     solve_ivp_result \u001b[39m=\u001b[39m solve_ivp(\u001b[39mself\u001b[39;49m\u001b[39m.\u001b[39;49mmodel, \u001b[39mself\u001b[39;49m\u001b[39m.\u001b[39;49mtinterval, np\u001b[39m.\u001b[39;49mreshape(ylast,np\u001b[39m.\u001b[39;49mprod(np\u001b[39m.\u001b[39;49mshape(ylast))), method\u001b[39m=\u001b[39;49m\u001b[39mself\u001b[39;49m\u001b[39m.\u001b[39;49mmethod, args\u001b[39m=\u001b[39;49mmodel_args, t_eval\u001b[39m=\u001b[39;49m\u001b[39mself\u001b[39;49m\u001b[39m.\u001b[39;49mtinterval, rtol\u001b[39m=\u001b[39;49m\u001b[39mself\u001b[39;49m\u001b[39m.\u001b[39;49mrtol, atol\u001b[39m=\u001b[39;49m\u001b[39mself\u001b[39;49m\u001b[39m.\u001b[39;49matol)\n\u001b[0;32m    384\u001b[0m y \u001b[39m=\u001b[39m solve_ivp_result\u001b[39m.\u001b[39my[:, \u001b[39mlen\u001b[39m(solve_ivp_result\u001b[39m.\u001b[39mt)\u001b[39m-\u001b[39m\u001b[39m1\u001b[39m]\u001b[39m#y[:,-1] : get last timestep that solve_ivp returns\u001b[39;00m\n\u001b[0;32m    386\u001b[0m \u001b[39m# Update the state                 \u001b[39;00m\n",
      "File \u001b[1;32m~\\AppData\\Local\\Packages\\PythonSoftwareFoundation.Python.3.9_qbz5n2kfra8p0\\LocalCache\\local-packages\\Python39\\site-packages\\scipy\\integrate\\_ivp\\ivp.py:542\u001b[0m, in \u001b[0;36msolve_ivp\u001b[1;34m(fun, t_span, y0, method, t_eval, dense_output, events, vectorized, args, **options)\u001b[0m\n\u001b[0;32m    539\u001b[0m \u001b[39mif\u001b[39;00m method \u001b[39min\u001b[39;00m METHODS:\n\u001b[0;32m    540\u001b[0m     method \u001b[39m=\u001b[39m METHODS[method]\n\u001b[1;32m--> 542\u001b[0m solver \u001b[39m=\u001b[39m method(fun, t0, y0, tf, vectorized\u001b[39m=\u001b[39mvectorized, \u001b[39m*\u001b[39m\u001b[39m*\u001b[39moptions)\n\u001b[0;32m    544\u001b[0m \u001b[39mif\u001b[39;00m t_eval \u001b[39mis\u001b[39;00m \u001b[39mNone\u001b[39;00m:\n\u001b[0;32m    545\u001b[0m     ts \u001b[39m=\u001b[39m [t0]\n",
      "File \u001b[1;32m~\\AppData\\Local\\Packages\\PythonSoftwareFoundation.Python.3.9_qbz5n2kfra8p0\\LocalCache\\local-packages\\Python39\\site-packages\\scipy\\integrate\\_ivp\\lsoda.py:132\u001b[0m, in \u001b[0;36mLSODA.__init__\u001b[1;34m(self, fun, t0, y0, t_bound, first_step, min_step, max_step, rtol, atol, jac, lband, uband, vectorized, **extraneous)\u001b[0m\n\u001b[0;32m    128\u001b[0m solver \u001b[39m=\u001b[39m ode(\u001b[39mself\u001b[39m\u001b[39m.\u001b[39mfun, jac)\n\u001b[0;32m    129\u001b[0m solver\u001b[39m.\u001b[39mset_integrator(\u001b[39m'\u001b[39m\u001b[39mlsoda\u001b[39m\u001b[39m'\u001b[39m, rtol\u001b[39m=\u001b[39mrtol, atol\u001b[39m=\u001b[39matol, max_step\u001b[39m=\u001b[39mmax_step,\n\u001b[0;32m    130\u001b[0m                       min_step\u001b[39m=\u001b[39mmin_step, first_step\u001b[39m=\u001b[39mfirst_step,\n\u001b[0;32m    131\u001b[0m                       lband\u001b[39m=\u001b[39mlband, uband\u001b[39m=\u001b[39muband)\n\u001b[1;32m--> 132\u001b[0m solver\u001b[39m.\u001b[39;49mset_initial_value(y0, t0)\n\u001b[0;32m    134\u001b[0m \u001b[39m# Inject t_bound into rwork array as needed for itask=5.\u001b[39;00m\n\u001b[0;32m    135\u001b[0m solver\u001b[39m.\u001b[39m_integrator\u001b[39m.\u001b[39mrwork[\u001b[39m0\u001b[39m] \u001b[39m=\u001b[39m \u001b[39mself\u001b[39m\u001b[39m.\u001b[39mt_bound\n",
      "File \u001b[1;32m~\\AppData\\Local\\Packages\\PythonSoftwareFoundation.Python.3.9_qbz5n2kfra8p0\\LocalCache\\local-packages\\Python39\\site-packages\\scipy\\integrate\\_ode.py:371\u001b[0m, in \u001b[0;36mode.set_initial_value\u001b[1;34m(self, y, t)\u001b[0m\n\u001b[0;32m    369\u001b[0m \u001b[39mself\u001b[39m\u001b[39m.\u001b[39m_y \u001b[39m=\u001b[39m asarray(y, \u001b[39mself\u001b[39m\u001b[39m.\u001b[39m_integrator\u001b[39m.\u001b[39mscalar)\n\u001b[0;32m    370\u001b[0m \u001b[39mself\u001b[39m\u001b[39m.\u001b[39mt \u001b[39m=\u001b[39m t\n\u001b[1;32m--> 371\u001b[0m \u001b[39mself\u001b[39;49m\u001b[39m.\u001b[39;49m_integrator\u001b[39m.\u001b[39;49mreset(\u001b[39mlen\u001b[39;49m(\u001b[39mself\u001b[39;49m\u001b[39m.\u001b[39;49m_y), \u001b[39mself\u001b[39;49m\u001b[39m.\u001b[39;49mjac \u001b[39mis\u001b[39;49;00m \u001b[39mnot\u001b[39;49;00m \u001b[39mNone\u001b[39;49;00m)\n\u001b[0;32m    372\u001b[0m \u001b[39mreturn\u001b[39;00m \u001b[39mself\u001b[39m\n",
      "File \u001b[1;32m~\\AppData\\Local\\Packages\\PythonSoftwareFoundation.Python.3.9_qbz5n2kfra8p0\\LocalCache\\local-packages\\Python39\\site-packages\\scipy\\integrate\\_ode.py:1317\u001b[0m, in \u001b[0;36mlsoda.reset\u001b[1;34m(self, n, has_jac)\u001b[0m\n\u001b[0;32m   1315\u001b[0m lrw \u001b[39m=\u001b[39m \u001b[39mmax\u001b[39m(lrn, lrs)\n\u001b[0;32m   1316\u001b[0m liw \u001b[39m=\u001b[39m \u001b[39m20\u001b[39m \u001b[39m+\u001b[39m n\n\u001b[1;32m-> 1317\u001b[0m rwork \u001b[39m=\u001b[39m zeros((lrw,), \u001b[39mfloat\u001b[39;49m)\n\u001b[0;32m   1318\u001b[0m rwork[\u001b[39m4\u001b[39m] \u001b[39m=\u001b[39m \u001b[39mself\u001b[39m\u001b[39m.\u001b[39mfirst_step\n\u001b[0;32m   1319\u001b[0m rwork[\u001b[39m5\u001b[39m] \u001b[39m=\u001b[39m \u001b[39mself\u001b[39m\u001b[39m.\u001b[39mmax_step\n",
      "\u001b[1;31mMemoryError\u001b[0m: Unable to allocate 116. GiB for an array with shape (15626125022,) and data type float64"
     ]
    }
   ],
   "source": [
    "two_d_test = Simulation(ds.f2d, shape=(250,250), layermax=500, rtol=1e-12)\n",
    "stats, avg_time = multiple_test_avg_time(two_d_test.results, n_tests=number_of_tests)\n",
    "print('Other stats: ')\n",
    "stats.strip_dirs().sort_stats(\"time\").print_stats()"
   ]
  },
  {
   "cell_type": "code",
   "execution_count": null,
   "metadata": {},
   "outputs": [],
   "source": []
  }
 ],
 "metadata": {
  "kernelspec": {
   "display_name": "Python 3.9.13 64-bit (windows store)",
   "language": "python",
   "name": "python3"
  },
  "language_info": {
   "codemirror_mode": {
    "name": "ipython",
    "version": 3
   },
   "file_extension": ".py",
   "mimetype": "text/x-python",
   "name": "python",
   "nbconvert_exporter": "python",
   "pygments_lexer": "ipython3",
   "version": "3.9.13 (tags/v3.9.13:6de2ca5, May 17 2022, 16:36:42) [MSC v.1929 64 bit (AMD64)]"
  },
  "orig_nbformat": 4,
  "vscode": {
   "interpreter": {
    "hash": "a5639f55dd41388b289936a35ec1befe471f3e8ab332c7f154620eef02aaf2e9"
   }
  }
 },
 "nbformat": 4,
 "nbformat_minor": 2
}
