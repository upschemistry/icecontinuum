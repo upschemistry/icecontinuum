{
 "cells": [
  {
   "cell_type": "markdown",
   "id": "1518d6f3",
   "metadata": {},
   "source": [
    "## Looking Around\n",
    "\n",
    "This code solves the QLC problem in Fourier space. Parameters include:\n",
    "- $\\overline N$, and $N^*$ (atomistic-level characteristics of the ice QLL thicknesses)\n",
    "- $\\sigma_o$ (difference in equilibrium supersaturation between microsurfaces I and II)\n",
    "- $h_{pr}$ (thickness of a prismatic facet monolayer)\n",
    "- $D_{surf}$ (surface diffusion coefficient of the QLL)\n",
    "- $\\nu_{kin}$ (kinetic velocity -- the rate at which water vapor strikes the surface)\n",
    "- $L$ (physical length of the facet surface)\n",
    "- $nx_{crystal}$ (number of discrete points used to represent the surface)\n",
    "- $L$ (crystal dimension)\n",
    "- $\\sigma_{I,corner}$ (imposed supersaturation at the facet corner)\n",
    "- $c_r$ (relative reduction in supersaturation at facet centers relative to corners, in fraction and %)\n",
    "- $\\tau_{eq}$ (time constant for ice/QLL freezing/thawing)"
   ]
  },
  {
   "cell_type": "code",
   "execution_count": null,
   "id": "39f2cde2",
   "metadata": {},
   "outputs": [],
   "source": [
    "from pint import UnitRegistry; AssignQuantity = UnitRegistry().Quantity\n",
    "import numpy as np\n",
    "from copy import copy as cp\n",
    "import matplotlib.pylab as plt\n",
    "from scipy.integrate import solve_ivp\n",
    "from numba import njit, float64, int32, types\n",
    "from matplotlib import rcParams\n",
    "from time import time\n",
    "from scipy.fft import fftfreq, rfftfreq\n",
    "from scipy.fft import rfft, irfft\n",
    "\n",
    "import sys\n",
    "sys.path.append('..')\n",
    "import QLCstuff as QLC\n",
    "import f90nml"
   ]
  },
  {
   "cell_type": "code",
   "execution_count": null,
   "id": "4bf8dfb2",
   "metadata": {},
   "outputs": [],
   "source": [
    "%matplotlib widget # %matplotlib notebook backend is deprecated for jupyter notebook: use widget instead\n",
    "ticklabelsize = 15\n",
    "linewidth = 1\n",
    "fontsize = 15\n",
    "titlefontsize = 8\n",
    "markersize = 10"
   ]
  },
  {
   "cell_type": "markdown",
   "id": "c937d997",
   "metadata": {},
   "source": [
    "### Getting parameters for this run"
   ]
  },
  {
   "cell_type": "code",
   "execution_count": null,
   "id": "58b9d2ae",
   "metadata": {},
   "outputs": [],
   "source": [
    "inputfile = \"GI parameters - Reference limit cycle (for testing).nml\"\n",
    "\n",
    "# For readability ...\n",
    "print('Using parameter file '+inputfile+' ...')\n",
    "\n",
    "print('\\nFrom the GrowthInstability (GI) namelist:')\n",
    "GI=f90nml.read(inputfile)['GI'] # Read the main parameter namelist\n",
    "\n",
    "# Supersaturation at the corner of a facet\n",
    "sigmaI_corner = GI['sigmaI_corner']\n",
    "sigmaI_corner_units = GI['sigmaI_corner_units']\n",
    "sigmaI_corner = AssignQuantity(sigmaI_corner,sigmaI_corner_units)\n",
    "print('sigmaI_corner =', sigmaI_corner)\n",
    "\n",
    "# Difference in equilibrium supersaturation between microsurfaces I and II\n",
    "sigma0 = GI['sigma0']\n",
    "sigma0_units = GI['sigma0_units']\n",
    "sigma0 = AssignQuantity(sigma0,sigma0_units)\n",
    "print('sigma0 =',sigma0)\n",
    "\n",
    "# Reduction of supersaturation at the facet cental\n",
    "c_r = GI['c_r']\n",
    "c_r_units = GI['c_r_units']\n",
    "c_r = AssignQuantity(c_r,c_r_units)\n",
    "print('c_r =',c_r)\n",
    "\n",
    "# Properties of the QLL\n",
    "Nbar = GI['Nbar']; print('Nbar', Nbar)\n",
    "Nstar = GI['Nstar']; print('Nstar', Nstar)\n",
    "\n",
    "# Thickness of monolayers\n",
    "h_pr = GI['h_pr']\n",
    "h_pr_units = GI['h_pr_units']\n",
    "h_pr = AssignQuantity(h_pr,h_pr_units) \n",
    "print('h_pr =', h_pr)\n",
    "\n",
    "# Diffusion coeficient\n",
    "D = GI['D']\n",
    "D_units = GI['D_units']\n",
    "D = AssignQuantity(D,D_units)\n",
    "print('D =', D)\n",
    "\n",
    "# Deposition velocity\n",
    "nu_kin = GI['nu_kin']\n",
    "nu_kin_units = GI['nu_kin_units']\n",
    "nu_kin = AssignQuantity(nu_kin,nu_kin_units)\n",
    "print('nu_kin =', nu_kin)\n",
    "\n",
    "# Size of the facet\n",
    "L = GI['L']\n",
    "L_units = GI['L_units']\n",
    "L = AssignQuantity(L,L_units)\n",
    "print('L =', L)\n",
    "\n",
    "# Crystal size -- needs to be an even number\n",
    "nx_crystal = GI['nx_crystal']\n",
    "print('nx (crystal) =', nx_crystal)\n",
    "\n",
    "# Time constant for freezing/thawing\n",
    "tau_eq = GI['tau_eq']\n",
    "tau_eq_units = GI['tau_eq_units']\n",
    "tau_eq = AssignQuantity(tau_eq,tau_eq_units)\n",
    "print('tau_eq =',tau_eq)\n",
    "\n",
    "# Integration algorithm (possibilities: RK45, BDF, RK23, DOP853, LSODA, and Radau)\n",
    "odemethod = GI['odemethod']\n",
    "print('odemethod =',odemethod)"
   ]
  },
  {
   "cell_type": "code",
   "execution_count": null,
   "id": "f932c976",
   "metadata": {},
   "outputs": [],
   "source": [
    "# Conversions (in case inputs are in other units)\n",
    "sigma0.ito('dimensionless')\n",
    "h_pr.ito('micrometer')\n",
    "D.ito('micrometer^2/microsecond')\n",
    "nu_kin.ito('micrometer/second')\n",
    "L.ito('micrometer')\n",
    "sigmaI_corner.ito('dimensionless')\n",
    "c_r.ito('dimensionless')\n",
    "tau_eq.ito('microsecond')"
   ]
  },
  {
   "cell_type": "markdown",
   "id": "064e888a",
   "metadata": {},
   "source": [
    "### Varibles that depend on the above"
   ]
  },
  {
   "cell_type": "code",
   "execution_count": null,
   "id": "e77e6b83",
   "metadata": {},
   "outputs": [],
   "source": [
    "x_QLC = np.linspace(-L,L,nx_crystal)\n",
    "deltax = x_QLC[1]-x_QLC[0]\n",
    "print('Spacing of points on the ice surface =', deltax)\n",
    "sigmaI_QLC = sigmaI_corner*(c_r*(x_QLC/L)**2+1-c_r)\n",
    "nu_kin_mlyperus = nu_kin/h_pr\n",
    "nu_kin_mlyperus.ito('1/microsecond')\n",
    "Doverdeltax2 = D/deltax**2"
   ]
  },
  {
   "cell_type": "markdown",
   "id": "f67a9403",
   "metadata": {},
   "source": [
    "### Runtime parameters from the namelist "
   ]
  },
  {
   "cell_type": "code",
   "execution_count": null,
   "id": "053507df",
   "metadata": {},
   "outputs": [],
   "source": [
    "RT=f90nml.read(inputfile)['RT'] # Read the main parameter namelist\n",
    "\n",
    "# How long\n",
    "runtime = RT['runtime']\n",
    "runtime_units = RT['runtime_units']\n",
    "runtime = AssignQuantity(runtime,runtime_units)\n",
    "print('runtime =', runtime)\n",
    "runtime.ito('microsecond')\n",
    "\n",
    "# Number of time steps to keep for reporting later\n",
    "ntimes = RT['ntimes']\n",
    "\n",
    "# Flag if we want more output\n",
    "verbose = RT['verbose']\n",
    "\n",
    "# Specify the time interval and initial conditions\n",
    "tkeep_1Darr = np.linspace(0,runtime,ntimes)\n",
    "Ntot_init_1D = np.ones(nx_crystal)\n",
    "NQLL_init_1D = QLC.getNQLL(Ntot_init_1D,Nstar,Nbar)\n",
    "\n",
    "print('This is a run from time', tkeep_1Darr[0].to('msec'),'to', tkeep_1Darr[-1].to('msec'))\n",
    "print('dt =', tkeep_1Darr[1]-tkeep_1Darr[0])"
   ]
  },
  {
   "cell_type": "markdown",
   "id": "373d26fe",
   "metadata": {},
   "source": [
    "### Exercising the library"
   ]
  },
  {
   "cell_type": "code",
   "execution_count": null,
   "id": "536b4413",
   "metadata": {},
   "outputs": [],
   "source": [
    "# Get the equilibrium value of NQLL\n",
    "Ntot = 1.1\n",
    "print('When Ntot =', Ntot)\n",
    "NQLL_eq = QLC.getNQLL(Ntot,Nstar,Nbar)\n",
    "print('The equilibrium value of NQLL is ', NQLL_eq)\n",
    "\n",
    "# Get the difference in NQLL relative to the equilibrium\n",
    "NQLL = 0.7\n",
    "print('When the actual NQLL is ', NQLL)\n",
    "print('The difference from equilibrium of NQLL is ', QLC.getDeltaNQLL(Ntot,Nstar,Nbar,NQLL))\n",
    "\n",
    "# Supersaturation\n",
    "sigmaI_QLC = sigmaI_corner*(c_r*(x_QLC/L)**2+1-c_r)\n",
    "print('sigmaI_QLC',sigmaI_QLC[0:10])"
   ]
  },
  {
   "cell_type": "markdown",
   "id": "72665c3f",
   "metadata": {},
   "source": [
    "### Run the scenario in Cartesian space"
   ]
  },
  {
   "cell_type": "code",
   "execution_count": null,
   "id": "03312af5",
   "metadata": {
    "scrolled": false
   },
   "outputs": [],
   "source": [
    "Ntotkeep_1D, NQLLkeep_1D = QLC.run_f1d(\\\n",
    "           NQLL_init_1D,Ntot_init_1D,tkeep_1Darr,\\\n",
    "           Nbar, Nstar, sigma0, nu_kin_mlyperus, Doverdeltax2, tau_eq, sigmaI_QLC,\\\n",
    "           AssignQuantity,\\\n",
    "           verbose=0, odemethod='RK45')\n",
    "Nicekeep_1D = Ntotkeep_1D-NQLLkeep_1D\n",
    "\n",
    "# Reporting and graphing\n",
    "# Label for graphs\n",
    "title_params = \\\n",
    "        \"{:.0f}\".format(L.magnitude)+' '+str(L.units)+\\\n",
    "        \", \"+np.format_float_scientific(D.magnitude,precision=2)+\" \"+str(D.units)+\\\n",
    "        \"\\n\"+\\\n",
    "        \"{:.0f}\".format(nu_kin.magnitude)+' '+str(nu_kin.units)+\\\n",
    "        \"\\n\"+\\\n",
    "        \"{:.3f}\".format(sigmaI_corner.magnitude)+' '+str(sigmaI_corner.units)+\\\n",
    "        \", \"+\"{:.1f}\".format(tau_eq.magnitude)+' '+str(tau_eq.units)+\\\n",
    "        \", \"+\"{:.3f}\".format(c_r.to('percent').magnitude)+'%'+\\\n",
    "        \", \"+odemethod+\\\n",
    "        \"\\n\"\n",
    "    \n",
    "g_ice_QLC = QLC.report_1d_growth_results(\\\n",
    "        x_QLC,tkeep_1Darr,NQLLkeep_1D,Ntotkeep_1D,Nicekeep_1D,h_pr, \\\n",
    "        graphics=True,title_params=title_params)"
   ]
  }
 ],
 "metadata": {
  "kernelspec": {
   "display_name": "Python 3 (ipykernel)",
   "language": "python",
   "name": "python3"
  },
  "language_info": {
   "codemirror_mode": {
    "name": "ipython",
    "version": 3
   },
   "file_extension": ".py",
   "mimetype": "text/x-python",
   "name": "python",
   "nbconvert_exporter": "python",
   "pygments_lexer": "ipython3",
   "version": "3.9.13"
  }
 },
 "nbformat": 4,
 "nbformat_minor": 5
}
