{
 "cells": [
  {
   "cell_type": "code",
   "execution_count": 1,
   "metadata": {},
   "outputs": [],
   "source": [
    "import numpy as np\n",
    "from matplotlib import pyplot as plt\n",
    "from matplotlib import rcParams\n",
    "import time\n",
    "from copy import copy as dup\n",
    "from scipy.integrate import odeint\n",
    "from scipy.integrate import solve_ivp\n",
    "from numba import int64\n",
    "from numba import int32\n",
    "\n",
    "import fourier as ft\n",
    "import diffusionstuff6_1 as ds\n",
    "from sim_handling import Simulation\n",
    "\n",
    "#for 3d plots\n",
    "# from mpl_toolkits.axes_grid1.axes_divider import make_axes_locatable\n",
    "# from mpl_toolkits.mplot3d import Axes3D\n",
    "\n",
    "#for saving animations\n",
    "# import pickle\n",
    "# from matplotlib import animation\n",
    "# from IPython.display import HTML\n"
   ]
  },
  {
   "cell_type": "code",
   "execution_count": 2,
   "metadata": {},
   "outputs": [
    {
     "ename": "ValueError",
     "evalue": "cannot reshape array of size 1 into shape (2,501)",
     "output_type": "error",
     "traceback": [
      "\u001b[1;31m---------------------------------------------------------------------------\u001b[0m",
      "\u001b[1;31mValueError\u001b[0m                                Traceback (most recent call last)",
      "\u001b[1;32mc:\\Users\\elsla\\IceResearch\\icecontinuum\\eslattery\\FourierExperiments.ipynb Cell 2\u001b[0m in \u001b[0;36m<cell line: 3>\u001b[1;34m()\u001b[0m\n\u001b[0;32m      <a href='vscode-notebook-cell:/c%3A/Users/elsla/IceResearch/icecontinuum/eslattery/FourierExperiments.ipynb#W1sZmlsZQ%3D%3D?line=0'>1</a>\u001b[0m ss_1d \u001b[39m=\u001b[39m Simulation(ds\u001b[39m.\u001b[39mf1d, (\u001b[39m501\u001b[39m,), method\u001b[39m=\u001b[39m\u001b[39m'\u001b[39m\u001b[39mRK45\u001b[39m\u001b[39m'\u001b[39m)\n\u001b[1;32m----> <a href='vscode-notebook-cell:/c%3A/Users/elsla/IceResearch/icecontinuum/eslattery/FourierExperiments.ipynb#W1sZmlsZQ%3D%3D?line=2'>3</a>\u001b[0m Ntot \u001b[39m=\u001b[39m ss_1d\u001b[39m.\u001b[39;49mgetNtot()\n\u001b[0;32m      <a href='vscode-notebook-cell:/c%3A/Users/elsla/IceResearch/icecontinuum/eslattery/FourierExperiments.ipynb#W1sZmlsZQ%3D%3D?line=4'>5</a>\u001b[0m maxes \u001b[39m=\u001b[39m np\u001b[39m.\u001b[39marray([np\u001b[39m.\u001b[39mmax(n) \u001b[39mfor\u001b[39;00m n \u001b[39min\u001b[39;00m Ntot[:]])\n\u001b[0;32m      <a href='vscode-notebook-cell:/c%3A/Users/elsla/IceResearch/icecontinuum/eslattery/FourierExperiments.ipynb#W1sZmlsZQ%3D%3D?line=5'>6</a>\u001b[0m mins \u001b[39m=\u001b[39m np\u001b[39m.\u001b[39marray([np\u001b[39m.\u001b[39mmin(n) \u001b[39mfor\u001b[39;00m n \u001b[39min\u001b[39;00m Ntot[:]])\n",
      "File \u001b[1;32mc:\\Users\\elsla\\IceResearch\\icecontinuum\\eslattery\\sim_handling.py:524\u001b[0m, in \u001b[0;36mSimulation.getNtot\u001b[1;34m(self, step)\u001b[0m\n\u001b[0;32m    520\u001b[0m \u001b[39m\"\"\"\u001b[39;00m\n\u001b[0;32m    521\u001b[0m \u001b[39mReturns the array of total ice and QLL thickness at each time step.\u001b[39;00m\n\u001b[0;32m    522\u001b[0m \u001b[39m\"\"\"\u001b[39;00m\n\u001b[0;32m    523\u001b[0m \u001b[39mif\u001b[39;00m step \u001b[39mis\u001b[39;00m \u001b[39mNone\u001b[39;00m:\n\u001b[1;32m--> 524\u001b[0m     \u001b[39mreturn\u001b[39;00m np\u001b[39m.\u001b[39masarray(\u001b[39mself\u001b[39;49m\u001b[39m.\u001b[39;49mresults()[\u001b[39m'\u001b[39m\u001b[39my\u001b[39m\u001b[39m'\u001b[39m])[:, \u001b[39m1\u001b[39m]\n\u001b[0;32m    525\u001b[0m \u001b[39melse\u001b[39;00m:\n\u001b[0;32m    526\u001b[0m     \u001b[39mreturn\u001b[39;00m \u001b[39mself\u001b[39m\u001b[39m.\u001b[39mresults()[\u001b[39m'\u001b[39m\u001b[39my\u001b[39m\u001b[39m'\u001b[39m][step][\u001b[39m1\u001b[39m]\n",
      "File \u001b[1;32mc:\\Users\\elsla\\IceResearch\\icecontinuum\\eslattery\\sim_handling.py:507\u001b[0m, in \u001b[0;36mSimulation.results\u001b[1;34m(self)\u001b[0m\n\u001b[0;32m    505\u001b[0m \u001b[39m\"\"\" Returns results of simulation (handles running if necessary) \"\"\"\u001b[39;00m\n\u001b[0;32m    506\u001b[0m \u001b[39mif\u001b[39;00m \u001b[39mself\u001b[39m\u001b[39m.\u001b[39m_results \u001b[39m==\u001b[39m {\u001b[39mNone\u001b[39;00m:\u001b[39mNone\u001b[39;00m}:\n\u001b[1;32m--> 507\u001b[0m     \u001b[39mself\u001b[39;49m\u001b[39m.\u001b[39;49mrun()\n\u001b[0;32m    508\u001b[0m \u001b[39mreturn\u001b[39;00m \u001b[39mself\u001b[39m\u001b[39m.\u001b[39m_results\n",
      "File \u001b[1;32mc:\\Users\\elsla\\IceResearch\\icecontinuum\\eslattery\\sim_handling.py:416\u001b[0m, in \u001b[0;36mSimulation.run\u001b[1;34m(self, print_progress, print_count_layers, halve_time_res)\u001b[0m\n\u001b[0;32m    412\u001b[0m     solve_ivp_result \u001b[39m=\u001b[39m solve_ivp(\u001b[39mself\u001b[39m\u001b[39m.\u001b[39mmodel, \u001b[39mself\u001b[39m\u001b[39m.\u001b[39mtinterval, np\u001b[39m.\u001b[39mreshape(ylast,np\u001b[39m.\u001b[39mprod(np\u001b[39m.\u001b[39mshape(ylast))), method\u001b[39m=\u001b[39m\u001b[39m'\u001b[39m\u001b[39mRK45\u001b[39m\u001b[39m'\u001b[39m, args\u001b[39m=\u001b[39m(model_args,), rtol\u001b[39m=\u001b[39m\u001b[39mself\u001b[39m\u001b[39m.\u001b[39mrtol, atol\u001b[39m=\u001b[39m\u001b[39mself\u001b[39m\u001b[39m.\u001b[39matol)\u001b[39m#, t_eval=self.tinterval)\u001b[39;00m\n\u001b[0;32m    413\u001b[0m     \u001b[39m# y = solve_ivp_result.y[:, len(solve_ivp_result.t)-1]#y[:,-1] : get last timestep that solve_ivp returns\u001b[39;00m\n\u001b[0;32m    414\u001b[0m \u001b[39melse\u001b[39;00m:\n\u001b[0;32m    415\u001b[0m     \u001b[39m#old version: solve_ivp_result = solve_ivp(self.model, self.tinterval, np.reshape(ylast,np.prod(np.shape(ylast))), method=self.method, args=model_args, t_eval=self.tinterval, rtol=self.rtol, atol=self.atol)\u001b[39;00m\n\u001b[1;32m--> 416\u001b[0m     solve_ivp_result \u001b[39m=\u001b[39m solve_ivp(\u001b[39mself\u001b[39;49m\u001b[39m.\u001b[39;49mmodel, \u001b[39mself\u001b[39;49m\u001b[39m.\u001b[39;49mtinterval, np\u001b[39m.\u001b[39;49mreshape(ylast,np\u001b[39m.\u001b[39;49mprod(np\u001b[39m.\u001b[39;49mshape(ylast))), method\u001b[39m=\u001b[39;49m\u001b[39mself\u001b[39;49m\u001b[39m.\u001b[39;49mmethod, args\u001b[39m=\u001b[39;49m(model_args,), rtol\u001b[39m=\u001b[39;49m\u001b[39mself\u001b[39;49m\u001b[39m.\u001b[39;49mrtol, atol\u001b[39m=\u001b[39;49m\u001b[39mself\u001b[39;49m\u001b[39m.\u001b[39;49matol)\n\u001b[0;32m    417\u001b[0m     \u001b[39m#solve_ivp_result = df.rk4_solver(self.model,self.tinterval,np.reshape(ylast,np.prod(np.shape(ylast))),args=model_args)\u001b[39;00m\n\u001b[0;32m    418\u001b[0m \u001b[39m##print(solve_ivp_result)\u001b[39;00m\n\u001b[0;32m    419\u001b[0m y \u001b[39m=\u001b[39m solve_ivp_result\u001b[39m.\u001b[39my[:, \u001b[39mlen\u001b[39m(solve_ivp_result\u001b[39m.\u001b[39mt)\u001b[39m-\u001b[39m\u001b[39m1\u001b[39m]\u001b[39m#y[:,-1] : get last timestep that solve_ivp returns\u001b[39;00m\n",
      "File \u001b[1;32mc:\\Users\\elsla\\anaconda3\\lib\\site-packages\\scipy\\integrate\\_ivp\\ivp.py:542\u001b[0m, in \u001b[0;36msolve_ivp\u001b[1;34m(fun, t_span, y0, method, t_eval, dense_output, events, vectorized, args, **options)\u001b[0m\n\u001b[0;32m    539\u001b[0m \u001b[39mif\u001b[39;00m method \u001b[39min\u001b[39;00m METHODS:\n\u001b[0;32m    540\u001b[0m     method \u001b[39m=\u001b[39m METHODS[method]\n\u001b[1;32m--> 542\u001b[0m solver \u001b[39m=\u001b[39m method(fun, t0, y0, tf, vectorized\u001b[39m=\u001b[39mvectorized, \u001b[39m*\u001b[39m\u001b[39m*\u001b[39moptions)\n\u001b[0;32m    544\u001b[0m \u001b[39mif\u001b[39;00m t_eval \u001b[39mis\u001b[39;00m \u001b[39mNone\u001b[39;00m:\n\u001b[0;32m    545\u001b[0m     ts \u001b[39m=\u001b[39m [t0]\n",
      "File \u001b[1;32mc:\\Users\\elsla\\anaconda3\\lib\\site-packages\\scipy\\integrate\\_ivp\\rk.py:94\u001b[0m, in \u001b[0;36mRungeKutta.__init__\u001b[1;34m(self, fun, t0, y0, t_bound, max_step, rtol, atol, vectorized, first_step, **extraneous)\u001b[0m\n\u001b[0;32m     92\u001b[0m \u001b[39mself\u001b[39m\u001b[39m.\u001b[39mmax_step \u001b[39m=\u001b[39m validate_max_step(max_step)\n\u001b[0;32m     93\u001b[0m \u001b[39mself\u001b[39m\u001b[39m.\u001b[39mrtol, \u001b[39mself\u001b[39m\u001b[39m.\u001b[39matol \u001b[39m=\u001b[39m validate_tol(rtol, atol, \u001b[39mself\u001b[39m\u001b[39m.\u001b[39mn)\n\u001b[1;32m---> 94\u001b[0m \u001b[39mself\u001b[39m\u001b[39m.\u001b[39mf \u001b[39m=\u001b[39m \u001b[39mself\u001b[39;49m\u001b[39m.\u001b[39;49mfun(\u001b[39mself\u001b[39;49m\u001b[39m.\u001b[39;49mt, \u001b[39mself\u001b[39;49m\u001b[39m.\u001b[39;49my)\n\u001b[0;32m     95\u001b[0m \u001b[39mif\u001b[39;00m first_step \u001b[39mis\u001b[39;00m \u001b[39mNone\u001b[39;00m:\n\u001b[0;32m     96\u001b[0m     \u001b[39mself\u001b[39m\u001b[39m.\u001b[39mh_abs \u001b[39m=\u001b[39m select_initial_step(\n\u001b[0;32m     97\u001b[0m         \u001b[39mself\u001b[39m\u001b[39m.\u001b[39mfun, \u001b[39mself\u001b[39m\u001b[39m.\u001b[39mt, \u001b[39mself\u001b[39m\u001b[39m.\u001b[39my, \u001b[39mself\u001b[39m\u001b[39m.\u001b[39mf, \u001b[39mself\u001b[39m\u001b[39m.\u001b[39mdirection,\n\u001b[0;32m     98\u001b[0m         \u001b[39mself\u001b[39m\u001b[39m.\u001b[39merror_estimator_order, \u001b[39mself\u001b[39m\u001b[39m.\u001b[39mrtol, \u001b[39mself\u001b[39m\u001b[39m.\u001b[39matol)\n",
      "File \u001b[1;32mc:\\Users\\elsla\\anaconda3\\lib\\site-packages\\scipy\\integrate\\_ivp\\base.py:138\u001b[0m, in \u001b[0;36mOdeSolver.__init__.<locals>.fun\u001b[1;34m(t, y)\u001b[0m\n\u001b[0;32m    136\u001b[0m \u001b[39mdef\u001b[39;00m \u001b[39mfun\u001b[39m(t, y):\n\u001b[0;32m    137\u001b[0m     \u001b[39mself\u001b[39m\u001b[39m.\u001b[39mnfev \u001b[39m+\u001b[39m\u001b[39m=\u001b[39m \u001b[39m1\u001b[39m\n\u001b[1;32m--> 138\u001b[0m     \u001b[39mreturn\u001b[39;00m \u001b[39mself\u001b[39;49m\u001b[39m.\u001b[39;49mfun_single(t, y)\n",
      "File \u001b[1;32mc:\\Users\\elsla\\anaconda3\\lib\\site-packages\\scipy\\integrate\\_ivp\\base.py:20\u001b[0m, in \u001b[0;36mcheck_arguments.<locals>.fun_wrapped\u001b[1;34m(t, y)\u001b[0m\n\u001b[0;32m     19\u001b[0m \u001b[39mdef\u001b[39;00m \u001b[39mfun_wrapped\u001b[39m(t, y):\n\u001b[1;32m---> 20\u001b[0m     \u001b[39mreturn\u001b[39;00m np\u001b[39m.\u001b[39masarray(fun(t, y), dtype\u001b[39m=\u001b[39mdtype)\n",
      "File \u001b[1;32mc:\\Users\\elsla\\anaconda3\\lib\\site-packages\\scipy\\integrate\\_ivp\\ivp.py:514\u001b[0m, in \u001b[0;36msolve_ivp.<locals>.<lambda>\u001b[1;34m(t, x, fun)\u001b[0m\n\u001b[0;32m    508\u001b[0m t0, tf \u001b[39m=\u001b[39m \u001b[39mfloat\u001b[39m(t_span[\u001b[39m0\u001b[39m]), \u001b[39mfloat\u001b[39m(t_span[\u001b[39m1\u001b[39m])\n\u001b[0;32m    510\u001b[0m \u001b[39mif\u001b[39;00m args \u001b[39mis\u001b[39;00m \u001b[39mnot\u001b[39;00m \u001b[39mNone\u001b[39;00m:\n\u001b[0;32m    511\u001b[0m     \u001b[39m# Wrap the user's fun (and jac, if given) in lambdas to hide the\u001b[39;00m\n\u001b[0;32m    512\u001b[0m     \u001b[39m# additional parameters.  Pass in the original fun as a keyword\u001b[39;00m\n\u001b[0;32m    513\u001b[0m     \u001b[39m# argument to keep it in the scope of the lambda.\u001b[39;00m\n\u001b[1;32m--> 514\u001b[0m     fun \u001b[39m=\u001b[39m \u001b[39mlambda\u001b[39;00m t, x, fun\u001b[39m=\u001b[39mfun: fun(t, x, \u001b[39m*\u001b[39;49margs)\n\u001b[0;32m    515\u001b[0m     jac \u001b[39m=\u001b[39m options\u001b[39m.\u001b[39mget(\u001b[39m'\u001b[39m\u001b[39mjac\u001b[39m\u001b[39m'\u001b[39m)\n\u001b[0;32m    516\u001b[0m     \u001b[39mif\u001b[39;00m callable(jac):\n",
      "File \u001b[1;32mc:\\Users\\elsla\\IceResearch\\icecontinuum\\eslattery\\diffusionstuff6_1.py:31\u001b[0m, in \u001b[0;36mf1d\u001b[1;34m(y, t, params)\u001b[0m\n\u001b[0;32m     27\u001b[0m \u001b[39mdef\u001b[39;00m \u001b[39mf1d\u001b[39m(y, t, params):\n\u001b[0;32m     28\u001b[0m     Nbar, Nstar, sigmaI, sigma0, deprate, Doverdeltax2, nx \u001b[39m=\u001b[39m params\n\u001b[1;32m---> 31\u001b[0m     NQLL0, Ntot0 \u001b[39m=\u001b[39m np\u001b[39m.\u001b[39;49mreshape(y,(\u001b[39m2\u001b[39;49m,nx))      \u001b[39m# unpack current values of y\u001b[39;00m\n\u001b[0;32m     33\u001b[0m     \u001b[39m# Deposition\u001b[39;00m\n\u001b[0;32m     34\u001b[0m     twopi \u001b[39m=\u001b[39m \u001b[39m2\u001b[39m\u001b[39m*\u001b[39mnp\u001b[39m.\u001b[39mpi\n",
      "File \u001b[1;32m<__array_function__ internals>:5\u001b[0m, in \u001b[0;36mreshape\u001b[1;34m(*args, **kwargs)\u001b[0m\n",
      "File \u001b[1;32mc:\\Users\\elsla\\anaconda3\\lib\\site-packages\\numpy\\core\\fromnumeric.py:298\u001b[0m, in \u001b[0;36mreshape\u001b[1;34m(a, newshape, order)\u001b[0m\n\u001b[0;32m    198\u001b[0m \u001b[39m@array_function_dispatch\u001b[39m(_reshape_dispatcher)\n\u001b[0;32m    199\u001b[0m \u001b[39mdef\u001b[39;00m \u001b[39mreshape\u001b[39m(a, newshape, order\u001b[39m=\u001b[39m\u001b[39m'\u001b[39m\u001b[39mC\u001b[39m\u001b[39m'\u001b[39m):\n\u001b[0;32m    200\u001b[0m     \u001b[39m\"\"\"\u001b[39;00m\n\u001b[0;32m    201\u001b[0m \u001b[39m    Gives a new shape to an array without changing its data.\u001b[39;00m\n\u001b[0;32m    202\u001b[0m \n\u001b[1;32m   (...)\u001b[0m\n\u001b[0;32m    296\u001b[0m \u001b[39m           [5, 6]])\u001b[39;00m\n\u001b[0;32m    297\u001b[0m \u001b[39m    \"\"\"\u001b[39;00m\n\u001b[1;32m--> 298\u001b[0m     \u001b[39mreturn\u001b[39;00m _wrapfunc(a, \u001b[39m'\u001b[39;49m\u001b[39mreshape\u001b[39;49m\u001b[39m'\u001b[39;49m, newshape, order\u001b[39m=\u001b[39;49morder)\n",
      "File \u001b[1;32mc:\\Users\\elsla\\anaconda3\\lib\\site-packages\\numpy\\core\\fromnumeric.py:54\u001b[0m, in \u001b[0;36m_wrapfunc\u001b[1;34m(obj, method, *args, **kwds)\u001b[0m\n\u001b[0;32m     52\u001b[0m bound \u001b[39m=\u001b[39m \u001b[39mgetattr\u001b[39m(obj, method, \u001b[39mNone\u001b[39;00m)\n\u001b[0;32m     53\u001b[0m \u001b[39mif\u001b[39;00m bound \u001b[39mis\u001b[39;00m \u001b[39mNone\u001b[39;00m:\n\u001b[1;32m---> 54\u001b[0m     \u001b[39mreturn\u001b[39;00m _wrapit(obj, method, \u001b[39m*\u001b[39margs, \u001b[39m*\u001b[39m\u001b[39m*\u001b[39mkwds)\n\u001b[0;32m     56\u001b[0m \u001b[39mtry\u001b[39;00m:\n\u001b[0;32m     57\u001b[0m     \u001b[39mreturn\u001b[39;00m bound(\u001b[39m*\u001b[39margs, \u001b[39m*\u001b[39m\u001b[39m*\u001b[39mkwds)\n",
      "File \u001b[1;32mc:\\Users\\elsla\\anaconda3\\lib\\site-packages\\numpy\\core\\fromnumeric.py:43\u001b[0m, in \u001b[0;36m_wrapit\u001b[1;34m(obj, method, *args, **kwds)\u001b[0m\n\u001b[0;32m     41\u001b[0m \u001b[39mexcept\u001b[39;00m \u001b[39mAttributeError\u001b[39;00m:\n\u001b[0;32m     42\u001b[0m     wrap \u001b[39m=\u001b[39m \u001b[39mNone\u001b[39;00m\n\u001b[1;32m---> 43\u001b[0m result \u001b[39m=\u001b[39m \u001b[39mgetattr\u001b[39m(asarray(obj), method)(\u001b[39m*\u001b[39margs, \u001b[39m*\u001b[39m\u001b[39m*\u001b[39mkwds)\n\u001b[0;32m     44\u001b[0m \u001b[39mif\u001b[39;00m wrap:\n\u001b[0;32m     45\u001b[0m     \u001b[39mif\u001b[39;00m \u001b[39mnot\u001b[39;00m \u001b[39misinstance\u001b[39m(result, mu\u001b[39m.\u001b[39mndarray):\n",
      "\u001b[1;31mValueError\u001b[0m: cannot reshape array of size 1 into shape (2,501)"
     ]
    }
   ],
   "source": [
    "ss_1d = Simulation(ds.f1d, (501,), method='RK45')\n",
    "\n",
    "Ntot = ss_1d.getNtot()\n",
    "\n",
    "maxes = np.array([np.max(n) for n in Ntot[:]])\n",
    "mins = np.array([np.min(n) for n in Ntot[:]])\n",
    "\n",
    "\n",
    "fig,ax = plt.subplots()\n",
    "\n",
    "ax.plot(Ntot[:,0],maxes-mins,color='blue',label='original')\n",
    "\n",
    "#for ax in axs:\n",
    "ax.set_ylabel('Number of steps on surface')\n",
    "ax.set_xlabel('Time')\n",
    "# ax2.set_ylabel('Number of steps on surface')\n",
    "# ax2.set_xlabel('Time')\n",
    "plt.grid()\n",
    "plt.show()\n"
   ]
  },
  {
   "cell_type": "code",
   "execution_count": null,
   "metadata": {},
   "outputs": [],
   "source": []
  }
 ],
 "metadata": {
  "kernelspec": {
   "display_name": "base",
   "language": "python",
   "name": "python3"
  },
  "language_info": {
   "codemirror_mode": {
    "name": "ipython",
    "version": 3
   },
   "file_extension": ".py",
   "mimetype": "text/x-python",
   "name": "python",
   "nbconvert_exporter": "python",
   "pygments_lexer": "ipython3",
   "version": "3.9.12"
  },
  "orig_nbformat": 4
 },
 "nbformat": 4,
 "nbformat_minor": 2
}
