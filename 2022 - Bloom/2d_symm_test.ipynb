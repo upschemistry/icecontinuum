{
 "cells": [
  {
   "cell_type": "code",
   "execution_count": 1,
   "metadata": {},
   "outputs": [
    {
     "name": "stderr",
     "output_type": "stream",
     "text": [
      "C:\\Users\\Max-PC\\AppData\\Local\\Packages\\PythonSoftwareFoundation.Python.3.9_qbz5n2kfra8p0\\LocalCache\\local-packages\\Python39\\site-packages\\llvmlite\\llvmpy\\__init__.py:3: UserWarning: The module `llvmlite.llvmpy` is deprecated and will be removed in the future.\n",
      "  warnings.warn(\n",
      "C:\\Users\\Max-PC\\AppData\\Local\\Packages\\PythonSoftwareFoundation.Python.3.9_qbz5n2kfra8p0\\LocalCache\\local-packages\\Python39\\site-packages\\llvmlite\\llvmpy\\core.py:8: UserWarning: The module `llvmlite.llvmpy.core` is deprecated and will be removed in the future. Equivalent functionality is provided by `llvmlite.ir`.\n",
      "  warnings.warn(\n",
      "C:\\Users\\Max-PC\\AppData\\Local\\Packages\\PythonSoftwareFoundation.Python.3.9_qbz5n2kfra8p0\\LocalCache\\local-packages\\Python39\\site-packages\\llvmlite\\llvmpy\\passes.py:17: UserWarning: The module `llvmlite.llvmpy.passes` is deprecated and will be removed in the future. If you are using this code, it should be inlined into your own project.\n",
      "  warnings.warn(\n"
     ]
    }
   ],
   "source": [
    "import numpy as np\n",
    "from matplotlib import pyplot as plt\n",
    "#from matplotlib import rcParams\n",
    "\n",
    "import plotly\n",
    "import plotly.graph_objects as go\n",
    "\n",
    "from sim_handling import Simulation,loadSim\n",
    "from diffusionstuff7 import f0d,f1d,f2d"
   ]
  },
  {
   "cell_type": "code",
   "execution_count": null,
   "metadata": {},
   "outputs": [],
   "source": [
    "%matplotlib widget"
   ]
  },
  {
   "attachments": {},
   "cell_type": "markdown",
   "metadata": {},
   "source": [
    "This notebook will be to test the effects of assymmetric facet size in 2D, as well as the effects of changing the diffusion coefficient to depend on the axis to represent the bilayers and gaps that may influence this coefficeint on the prismatic facet."
   ]
  },
  {
   "cell_type": "code",
   "execution_count": null,
   "metadata": {},
   "outputs": [],
   "source": [
    "#set up a 2d simulation\n",
    "\n",
    "sim_2d = Simulation(f1d, (250,250), method='RK45')\n",
    "\n",
    "#set it based off number of timesteps so that it's the same for all (different growth rates)\n",
    "sim_2d.uselayers = False\n",
    "sim_2d.countermax = 200_000 #enough for steady state under original regular conditions\n",
    "\n",
    "sim_2d.discretization_halt = False # needs to be same length of simulation, we want to see the differences if it causes discretization halt\n",
    "\n",
    "#test_1d_asym.float_params['DoverdeltaX2'] \n",
    "sim_2d.layermax = 1100\n",
    "sim_2d.sigmastepmax = 0.20\n",
    "sim_2d.center_reduction = 0.25\n",
    "\n",
    "#Ntot = sim_2d.getNtot()"
   ]
  },
  {
   "cell_type": "code",
   "execution_count": null,
   "metadata": {},
   "outputs": [],
   "source": [
    "#set up a 2d simulation with asymmetric facet size\n",
    "\n",
    "sim_2d = Simulation(f1d, (200,250), method='RK45')\n",
    "\n",
    "#set it based off number of timesteps so that it's the same for all (different growth rates)\n",
    "sim_2d.uselayers = False\n",
    "sim_2d.countermax = 200_000 #enough for steady state under original regular conditions\n",
    "\n",
    "sim_2d.discretization_halt = False # needs to be same length of simulation, we want to see the differences if it causes discretization halt\n",
    "\n",
    "#test_1d_asym.float_params['DoverdeltaX2'] \n",
    "sim_2d.layermax = 1100\n",
    "sim_2d.sigmastepmax = 0.20\n",
    "sim_2d.center_reduction = 0.25\n",
    "\n",
    "#Ntot = sim_2d.getNtot()"
   ]
  }
 ],
 "metadata": {
  "kernelspec": {
   "display_name": "Python 3",
   "language": "python",
   "name": "python3"
  },
  "language_info": {
   "codemirror_mode": {
    "name": "ipython",
    "version": 3
   },
   "file_extension": ".py",
   "mimetype": "text/x-python",
   "name": "python",
   "nbconvert_exporter": "python",
   "pygments_lexer": "ipython3",
   "version": "3.9.13 (tags/v3.9.13:6de2ca5, May 17 2022, 16:36:42) [MSC v.1929 64 bit (AMD64)]"
  },
  "orig_nbformat": 4,
  "vscode": {
   "interpreter": {
    "hash": "a5639f55dd41388b289936a35ec1befe471f3e8ab332c7f154620eef02aaf2e9"
   }
  }
 },
 "nbformat": 4,
 "nbformat_minor": 2
}
