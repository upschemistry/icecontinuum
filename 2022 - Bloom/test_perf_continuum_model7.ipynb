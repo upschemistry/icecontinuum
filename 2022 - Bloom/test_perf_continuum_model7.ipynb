{
 "cells": [
  {
   "cell_type": "code",
   "execution_count": null,
   "metadata": {},
   "outputs": [],
   "source": [
    "import numpy as np\n",
    "import matplotlib.pyplot as plt\n",
    "from matplotlib import rcParams\n",
    "from matplotlib.ticker import FormatStrFormatter\n",
    "\n",
    "import diffusionstuff7 as ds\n",
    "from sim_handling import Simulation, multiple_test_avg_time"
   ]
  },
  {
   "cell_type": "code",
   "execution_count": null,
   "metadata": {},
   "outputs": [],
   "source": [
    "#Meta testing parameters\n",
    "number_of_tests = 10"
   ]
  },
  {
   "cell_type": "code",
   "execution_count": null,
   "metadata": {},
   "outputs": [],
   "source": [
    "# Graphics parameters\n",
    "%matplotlib widget\n",
    "ticklabelsize = 15\n",
    "fontsize = 15\n",
    "linewidth = 2\n",
    "fignum = 0"
   ]
  },
  {
   "cell_type": "code",
   "execution_count": null,
   "metadata": {},
   "outputs": [],
   "source": [
    "zero_d_test = Simulation(ds.f0d,shape=(1,), layermax=500, rtol=1e-12)\n",
    "stats, avg_time = multiple_test_avg_time(zero_d_test.run, n_tests=number_of_tests)\n",
    "print(\"Average time for 0D run: \", avg_time)\n",
    "print('Other stats: ')\n",
    "stats.strip_dirs().sort_stats(\"time\").print_stats()"
   ]
  },
  {
   "cell_type": "code",
   "execution_count": null,
   "metadata": {},
   "outputs": [],
   "source": [
    "#qualitatively test output of 1d model\n",
    "#plot the surface over time on subplots\n",
    "\n",
    "one_d_test = Simulation(ds.f1d,shape=(250,), layermax=500, rtol=1e-12)\n",
    "\n",
    "#run the simulation\n",
    "ntot = one_d_test.getNtot()\n",
    "\n",
    "fig, axs = plt.subplots(2, 4)\n",
    "for i, cmpltion in enumerate([0,0.01,0.03,0.05,0.1,0.3,0.5,0.8]):\n",
    "\n",
    "    xs = ntot[int(cmpltion*ntot.shape[0]),:]\n",
    "    axs[i//4, i%4].set_xlabel(r'x ($\\mu m$)')\n",
    "    axs[i//4, i%4].set_ylabel('Layers of ice')\n",
    "    axs[i//4, i%4].set_ylim(bottom=np.min(xs)-.5, top=np.max(xs)+.5)\n",
    "    axs[i//4, i%4].yaxis.set_major_formatter(FormatStrFormatter('%.1f'))\n",
    "    axs[i//4, i%4].set_title('Completion = '+str(cmpltion*100)+'%')\n",
    "    axs[i//4, i%4].plot(xs, label='Completion = '+str(cmpltion*100)+'%')\n",
    "plt.show()\n"
   ]
  },
  {
   "cell_type": "code",
   "execution_count": null,
   "metadata": {},
   "outputs": [],
   "source": [
    "print('number of timesteps to grow 500 layers: ', ntot.shape[0])"
   ]
  },
  {
   "cell_type": "code",
   "execution_count": null,
   "metadata": {},
   "outputs": [],
   "source": [
    "one_d_test = Simulation(ds.f1d,shape=(250,), layermax=500, rtol=1e-12)\n",
    "stats, avg_time = multiple_test_avg_time(one_d_test.run, n_tests=number_of_tests)\n",
    "print('Other stats: ')\n",
    "stats.strip_dirs().sort_stats(\"time\").print_stats()\n"
   ]
  },
  {
   "cell_type": "code",
   "execution_count": null,
   "metadata": {},
   "outputs": [],
   "source": [
    "#qualitatively test output of 2d model\n",
    "#plot the surface over time on subplots\n",
    "\n",
    "two_d_test = Simulation(ds.f2d, shape=(250,250), layermax=500, method=\"RK45\")\n",
    "\n",
    "#run the simulation\n",
    "ntot = two_d_test.getNtot()\n",
    "\n",
    "fig = plt.figure()\n",
    "axs = np.empty((2,4), dtype=object)\n",
    "\n",
    "for i, cmpltion in enumerate([0,0.01,0.03,0.05,0.1,0.3,0.5,0.8]):\n",
    "    ax = fig.add_subplot(2, 4, i+1, projection='3d')\n",
    "    axs[i//4, i%4] = ax\n",
    "\n",
    "    zs = ntot[int(cmpltion*ntot.shape[0])]\n",
    "\n",
    "    x,y = zs.shape[0],zs.shape[1]\n",
    "    xs = np.linspace(x//-20,x//20,x)\n",
    "    ys = np.linspace(y//-20,y//20,y)\n",
    "\n",
    "    ys,xs = np.meshgrid(ys,xs)\n",
    "    ax = axs[i//4, i%4]\n",
    "    #.add_subplot(111, projection='3d')\n",
    "    \n",
    "    ax.set_xlabel(r'x ($\\mu m$)')\n",
    "    ax.set_ylabel(r'y ($\\mu m$)')\n",
    "    ax.set_ylim(bottom=np.min(xs)-.5, top=np.max(xs)+.5)\n",
    "    ax.yaxis.set_major_formatter(FormatStrFormatter('%.1f'))\n",
    "    ax.set_title('Completion = '+str(cmpltion*100)+'%')\n",
    "    ax.plot_surface(xs, ys, zs)\n",
    "\n",
    "plt.show()\n"
   ]
  },
  {
   "cell_type": "code",
   "execution_count": null,
   "metadata": {},
   "outputs": [],
   "source": [
    "two_d_test = Simulation(ds.f2d, shape=(250,250), layermax=500, method=\"RK45\")\n",
    "stats, avg_time = multiple_test_avg_time(two_d_test.run, n_tests=number_of_tests)\n",
    "print('Other stats: ')\n",
    "stats.strip_dirs().sort_stats(\"time\").print_stats()"
   ]
  },
  {
   "cell_type": "code",
   "execution_count": null,
   "metadata": {},
   "outputs": [],
   "source": []
  }
 ],
 "metadata": {
  "kernelspec": {
   "display_name": "Python 3.9.13 64-bit (windows store)",
   "language": "python",
   "name": "python3"
  },
  "language_info": {
   "codemirror_mode": {
    "name": "ipython",
    "version": 3
   },
   "file_extension": ".py",
   "mimetype": "text/x-python",
   "name": "python",
   "nbconvert_exporter": "python",
   "pygments_lexer": "ipython3",
   "version": "3.9.13"
  },
  "orig_nbformat": 4,
  "vscode": {
   "interpreter": {
    "hash": "a5639f55dd41388b289936a35ec1befe471f3e8ab332c7f154620eef02aaf2e9"
   }
  }
 },
 "nbformat": 4,
 "nbformat_minor": 2
}
