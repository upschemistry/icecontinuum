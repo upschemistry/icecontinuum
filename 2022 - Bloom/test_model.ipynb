{
 "cells": [
  {
   "cell_type": "code",
   "execution_count": 1,
   "metadata": {},
   "outputs": [
    {
     "name": "stderr",
     "output_type": "stream",
     "text": [
      "C:\\Users\\Max-PC\\AppData\\Local\\Packages\\PythonSoftwareFoundation.Python.3.9_qbz5n2kfra8p0\\LocalCache\\local-packages\\Python39\\site-packages\\llvmlite\\llvmpy\\__init__.py:3: UserWarning: The module `llvmlite.llvmpy` is deprecated and will be removed in the future.\n",
      "  warnings.warn(\n",
      "C:\\Users\\Max-PC\\AppData\\Local\\Packages\\PythonSoftwareFoundation.Python.3.9_qbz5n2kfra8p0\\LocalCache\\local-packages\\Python39\\site-packages\\llvmlite\\llvmpy\\core.py:8: UserWarning: The module `llvmlite.llvmpy.core` is deprecated and will be removed in the future. Equivalent functionality is provided by `llvmlite.ir`.\n",
      "  warnings.warn(\n",
      "C:\\Users\\Max-PC\\AppData\\Local\\Packages\\PythonSoftwareFoundation.Python.3.9_qbz5n2kfra8p0\\LocalCache\\local-packages\\Python39\\site-packages\\llvmlite\\llvmpy\\passes.py:17: UserWarning: The module `llvmlite.llvmpy.passes` is deprecated and will be removed in the future. If you are using this code, it should be inlined into your own project.\n",
      "  warnings.warn(\n"
     ]
    }
   ],
   "source": [
    "import numpy as np\n",
    "from matplotlib import pyplot as plt\n",
    "from matplotlib import rcParams\n",
    "import time\n",
    "import diffusionstuff7 as ds\n",
    "from copy import copy as dup\n",
    "from scipy.integrate import odeint\n",
    "from scipy.integrate import solve_ivp\n",
    "from numba import int64\n",
    "\n",
    "#for 3d plots\n",
    "from mpl_toolkits.axes_grid1.axes_divider import make_axes_locatable\n",
    "from mpl_toolkits.mplot3d import Axes3D\n",
    "#for 3d plots\n",
    "import matplotlib.animation as animation\n",
    "\n",
    "#for saving animations\n",
    "import pickle"
   ]
  },
  {
   "cell_type": "code",
   "execution_count": null,
   "metadata": {},
   "outputs": [],
   "source": []
  },
  {
   "cell_type": "code",
   "execution_count": null,
   "metadata": {},
   "outputs": [],
   "source": [
    "#Plot sigmastep2d\n",
    "xs, ys = np.meshgrid(x, y)\n",
    "fignum +=1\n",
    "fig = plt.figure(fignum)\n",
    "ax = plt.axes(projection='3d')\n",
    "#ax.contour(x,y,Nice, extent=(0, 2, 0, 2), cmap='YlGnBu_r', vmin=0, vmax=200, zorder=1)\n",
    "plot = ax.plot_surface(X=xs, Y=ys, Z=sigmastep_2d, cmap='YlGnBu_r')#, vmin=0, vmax=200)\n",
    "plt.show()"
   ]
  }
 ],
 "metadata": {
  "kernelspec": {
   "display_name": "Python 3.9.13 64-bit (windows store)",
   "language": "python",
   "name": "python3"
  },
  "language_info": {
   "codemirror_mode": {
    "name": "ipython",
    "version": 3
   },
   "file_extension": ".py",
   "mimetype": "text/x-python",
   "name": "python",
   "nbconvert_exporter": "python",
   "pygments_lexer": "ipython3",
   "version": "3.9.13"
  },
  "orig_nbformat": 4,
  "vscode": {
   "interpreter": {
    "hash": "a5639f55dd41388b289936a35ec1befe471f3e8ab332c7f154620eef02aaf2e9"
   }
  }
 },
 "nbformat": 4,
 "nbformat_minor": 2
}
